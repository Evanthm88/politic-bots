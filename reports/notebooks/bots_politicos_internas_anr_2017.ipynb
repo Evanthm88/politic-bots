{
 "cells": [
  {
   "cell_type": "markdown",
   "metadata": {},
   "source": [
    "# Uso de Twitter en periódos electorales - Internas de la ANR, Diciembre 2017"
   ]
  },
  {
   "cell_type": "markdown",
   "metadata": {},
   "source": [
    "## Recolección de tweets basada en cuentas (@) y Hashtags (#)"
   ]
  },
  {
   "cell_type": "markdown",
   "metadata": {},
   "source": [
    "Usando el API de Twitter recoletamos **tweets publicados entre el 27 de Noviembre 2017 y el 15 de Enero de 2018**, que provengan de cuentas de pre-candidatos de los principales partidos políticos (ANR), y/o contengan hashtags utilizados con fines electorales. Como base utilizamos las cuentas y hashtags publicados por el Diario Última Hora en su artículo [Perfiles de pre-candidatos según las redes](http://elecciones.ultimahora.com/informacion/?id=20). Por ejemplo, Última Hora reporta que el hashtag **#JuntosPodemosMas** es utilizado para identificar tweets vínculados al candidatos Santiago Peña de Honor Colorado. Así mismo, **#MaritoDeLaGente** se utilzan en tweets publicados en favor del candidato del movimiento Colorado Añeteté.\n",
    "\n",
    "[Aquí](https://docs.google.com/spreadsheets/d/e/2PACX-1vQHoukfR9AFhSaz30QHYwKqpwexe1ASrW8ya25Fueh3jXcRPMSjrAyj4SbzryTLiuKkPdi6fsprqtM2/pubhtml) se puede acceder a lista completa de hashtags y cuentas."
   ]
  },
  {
   "cell_type": "markdown",
   "metadata": {},
   "source": [
    "## Tamaño del data set"
   ]
  },
  {
   "cell_type": "code",
   "execution_count": 1,
   "metadata": {},
   "outputs": [],
   "source": [
    "%matplotlib inline\n",
    "\n",
    "import os\n",
    "import csv\n",
    "import json\n",
    "import matplotlib.pyplot as plt\n",
    "import seaborn as sns\n",
    "import numpy as np\n",
    "import pandas as pd\n",
    "from datetime import datetime\n",
    "\n",
    "os.chdir('../..')\n",
    "\n",
    "from src.utils.db_manager import *\n",
    "from src.utils.data_wrangler import *\n",
    "from src.analyzer.data_analyzer import *\n",
    "from src.analyzer.network_analysis import NetworkAnalyzer\n",
    "\n",
    "plt.style.use('seaborn')"
   ]
  },
  {
   "cell_type": "code",
   "execution_count": 2,
   "metadata": {},
   "outputs": [
    {
     "name": "stdout",
     "output_type": "stream",
     "text": [
      "Se recolectaron 178860 tweets relacionados a la interna de la ANR\n"
     ]
    }
   ],
   "source": [
    "db = DBManager('tweets')\n",
    "total_tweets = db.search({'flag.partido_politico.anr': {'$gt': 0}}, only_relevant_tws=False).count()\n",
    "print('Se recolectaron {0} tweets relacionados a la interna de la ANR'.format(total_tweets))"
   ]
  },
  {
   "cell_type": "markdown",
   "metadata": {},
   "source": [
    "## Selección de tweets relevantes"
   ]
  },
  {
   "cell_type": "markdown",
   "metadata": {},
   "source": [
    "Encontramos que los hashtags usados por los candidatos en sus campañas era también utilizados en otros contextos (en otros paises) por lo tanto para el estudio consideramos solo aquellos tweets que además de los hashtags de interés contienen alguna mención a cuentas de los candidatos."
   ]
  },
  {
   "cell_type": "code",
   "execution_count": 33,
   "metadata": {},
   "outputs": [
    {
     "name": "stdout",
     "output_type": "stream",
     "text": [
      "Del total de 178860 tweets con hashtags relacionados a la campaña de la ANR, seleccionamos 145021 que encontramos relevantes para el trabajo (81.0% del total)\n"
     ]
    }
   ],
   "source": [
    "#te = TweetEvaluator()\n",
    "#te.identify_relevant_tweets()\n",
    "relevant_tweets = db.search({'flag.partido_politico.anr': {'$gt': 0}}).count()\n",
    "per_relevant = round(100*(relevant_tweets/total_tweets),0)\n",
    "print('Del total de {0} tweets con hashtags relacionados a la campaña de la ANR, seleccionamos {1} que encontramos ' \\\n",
    "      'relevantes para el trabajo ({2}% del total)'.\n",
    "      format(total_tweets, relevant_tweets, per_relevant))"
   ]
  },
  {
   "cell_type": "markdown",
   "metadata": {},
   "source": [
    "## Número de perfiles autores de tweets"
   ]
  },
  {
   "cell_type": "code",
   "execution_count": 3,
   "metadata": {},
   "outputs": [],
   "source": [
    "dbu = DBManager('users')\n",
    "#unique_tw_authors = db.get_unique_users(**{'partido':'anr'})\n",
    "unique_tw_authors = dbu.search({'party': 'anr'})"
   ]
  },
  {
   "cell_type": "code",
   "execution_count": 5,
   "metadata": {},
   "outputs": [
    {
     "name": "stdout",
     "output_type": "stream",
     "text": [
      "En total 23245 perfiles publicaron tweets, retweets, replies, y citaciones relacionadas a las internas del partido colorado\n"
     ]
    }
   ],
   "source": [
    "print('En total {0} perfiles publicaron tweets, retweets, replies, y citaciones relacionadas a las internas del partido colorado'.format(unique_tw_authors.count()))"
   ]
  },
  {
   "cell_type": "markdown",
   "metadata": {},
   "source": [
    "## Tipos de tweets"
   ]
  },
  {
   "cell_type": "code",
   "execution_count": 6,
   "metadata": {},
   "outputs": [],
   "source": [
    "original_tweets = db.get_original_tweets(**{'partido': 'anr'})\n",
    "num_original_tweets = len(original_tweets)\n",
    "retweets = db.get_retweets(**{'partido': 'anr'})\n",
    "num_retweets = len(retweets)\n",
    "replies = db.get_replies(**{'partido': 'anr'})\n",
    "num_replies = len(replies)\n",
    "quotes = db.get_quotes(**{'partido': 'anr'})\n",
    "num_quotes = len(quotes)\n",
    "tweets_por_tipo = pd.DataFrame({\n",
    "    'Tipo': ['Original', 'Retweet', 'Reply', 'Quote'],\n",
    "    'Tweets': [num_original_tweets, num_retweets, num_replies, num_quotes]\n",
    "}, index=['ot', 'rt', 'rp', 'qt'])"
   ]
  },
  {
   "cell_type": "code",
   "execution_count": 7,
   "metadata": {},
   "outputs": [
    {
     "data": {
      "image/png": "[encoded data removed]",
      "text/plain": [
       "<matplotlib.figure.Figure at 0x11b0a14e0>"
      ]
     },
     "metadata": {
      "needs_background": "light"
     },
     "output_type": "display_data"
    }
   ],
   "source": [
    "fig = sns.barplot(x='Tipo', y='Tweets', data=tweets_por_tipo, order=['Retweet', 'Reply', 'Original', 'Quote'])\n",
    "ax=fig\n",
    "#annotate axis = seaborn axis\n",
    "for p in ax.patches:\n",
    "    ax.annotate(\"%d\" % p.get_height(), (p.get_x() + p.get_width() / 2., p.get_height()),\n",
    "                 ha='center', va='center', fontsize=12, color='black', xytext=(0, 10),\n",
    "                 textcoords='offset points')\n",
    "_ = fig.set_ylim(0,105000) #To make space for the annotations\n",
    "plt.show()"
   ]
  },
  {
   "cell_type": "markdown",
   "metadata": {},
   "source": [
    "### Honor Colorado"
   ]
  },
  {
   "cell_type": "markdown",
   "metadata": {},
   "source": [
    "#### Tweets Originales"
   ]
  },
  {
   "cell_type": "code",
   "execution_count": 26,
   "metadata": {},
   "outputs": [],
   "source": [
    "original_tweets_hc = db.search({'flag.partido_politico.anr': {'$gt': 0},\n",
    "                                'flag.movimiento.honor colorado': {'$gt': 0}, \n",
    "                                'flag.movimiento.colorado añetete': {'$eq': 0},\n",
    "                                'relevante': 1,\n",
    "                                'tweet_obj.retweeted_status': {'$exists': 0},\n",
    "                                'tweet_obj.in_reply_to_status_id_str': {'$eq': None},\n",
    "                                'tweet_obj.is_quote_status': False})\n",
    "num_original_tweets_hc = original_tweets_hc.count()"
   ]
  },
  {
   "cell_type": "markdown",
   "metadata": {},
   "source": [
    "#### Retweets"
   ]
  },
  {
   "cell_type": "code",
   "execution_count": 28,
   "metadata": {},
   "outputs": [],
   "source": [
    "retweets_hc = db.search({'flag.partido_politico.anr': {'$gt': 0},\n",
    "                         'flag.movimiento.honor colorado': {'$gt': 0}, \n",
    "                         'flag.movimiento.colorado añetete': {'$eq': 0},\n",
    "                         'relevante': 1,\n",
    "                         'tweet_obj.retweeted_status': {'$exists': 1},\n",
    "                         'tweet_obj.in_reply_to_status_id_str': {'$eq': None},\n",
    "                         'tweet_obj.is_quote_status': False})\n",
    "num_retweets_hc = retweets_hc.count()"
   ]
  },
  {
   "cell_type": "markdown",
   "metadata": {},
   "source": [
    "#### Replies"
   ]
  },
  {
   "cell_type": "code",
   "execution_count": 29,
   "metadata": {},
   "outputs": [],
   "source": [
    "replies_hc = db.search({'flag.partido_politico.anr': {'$gt': 0},\n",
    "                        'flag.movimiento.honor colorado': {'$gt': 0}, \n",
    "                        'flag.movimiento.colorado añetete': {'$eq': 0},\n",
    "                        'relevante': 1,\n",
    "                        'tweet_obj.retweeted_status': {'$exists': 0},\n",
    "                        'tweet_obj.in_reply_to_status_id_str': {'$ne': None},\n",
    "                        'tweet_obj.is_quote_status': False})\n",
    "num_replies_hc = replies_hc.count()"
   ]
  },
  {
   "cell_type": "markdown",
   "metadata": {},
   "source": [
    "#### Quotes"
   ]
  },
  {
   "cell_type": "code",
   "execution_count": 30,
   "metadata": {},
   "outputs": [],
   "source": [
    "quotes_hc = db.search({'flag.partido_politico.anr': {'$gt': 0},\n",
    "                       'flag.movimiento.honor colorado': {'$gt': 0}, \n",
    "                       'flag.movimiento.colorado añetete': {'$eq': 0},\n",
    "                       'relevante': 1,\n",
    "                       'tweet_obj.is_quote_status': True})\n",
    "num_quotes_hc = quotes_hc.count()"
   ]
  },
  {
   "cell_type": "markdown",
   "metadata": {},
   "source": [
    "#### Gráfico"
   ]
  },
  {
   "cell_type": "code",
   "execution_count": 12,
   "metadata": {},
   "outputs": [],
   "source": [
    "tweets_por_tipo_hc = pd.DataFrame({\n",
    "    'Tipo': ['Original', 'Retweet', 'Reply', 'Quote'],\n",
    "    'Tweets': [num_original_tweets_hc, num_retweets_hc, num_replies_hc, num_quotes_hc]\n",
    "}, index=['ot', 'rt', 'rp', 'qt'])"
   ]
  },
  {
   "cell_type": "code",
   "execution_count": 13,
   "metadata": {},
   "outputs": [
    {
     "data": {
      "image/png": "[encoded data removed]",
      "text/plain": [
       "<matplotlib.figure.Figure at 0x2614acb38>"
      ]
     },
     "metadata": {
      "needs_background": "light"
     },
     "output_type": "display_data"
    }
   ],
   "source": [
    "fig = sns.barplot(x='Tipo', y='Tweets', data=tweets_por_tipo_hc, order=['Retweet', 'Reply', 'Original', 'Quote'],\n",
    "                 palette=\"Reds_d\")\n",
    "ax=fig\n",
    "#annotate axis = seaborn axis\n",
    "for p in ax.patches:\n",
    "    ax.annotate(\"%d\" % p.get_height(), (p.get_x() + p.get_width() / 2., p.get_height()),\n",
    "                 ha='center', va='center', fontsize=12, color='black', xytext=(0, 10),\n",
    "                 textcoords='offset points')\n",
    "_ = fig.set_ylim(0,63000) #To make space for the annotations\n",
    "plt.show()"
   ]
  },
  {
   "cell_type": "markdown",
   "metadata": {},
   "source": [
    "### Colorado Añeteté"
   ]
  },
  {
   "cell_type": "markdown",
   "metadata": {},
   "source": [
    "#### Tweets Originales"
   ]
  },
  {
   "cell_type": "code",
   "execution_count": 34,
   "metadata": {},
   "outputs": [],
   "source": [
    "original_tweets_ca = db.search({'flag.partido_politico.anr': {'$gt': 0},\n",
    "                                'flag.movimiento.honor colorado': {'$eq': 0}, \n",
    "                                'flag.movimiento.colorado añetete': {'$gt': 0},\n",
    "                                'relevante': 1,\n",
    "                                'tweet_obj.retweeted_status': {'$exists': 0},\n",
    "                                'tweet_obj.in_reply_to_status_id_str': {'$eq': None},\n",
    "                                'tweet_obj.is_quote_status': False})\n",
    "num_original_tweets_ca = original_tweets_ca.count()"
   ]
  },
  {
   "cell_type": "markdown",
   "metadata": {},
   "source": [
    "#### Retweets"
   ]
  },
  {
   "cell_type": "code",
   "execution_count": 35,
   "metadata": {},
   "outputs": [],
   "source": [
    "retweets_ca = db.search({'flag.partido_politico.anr': {'$gt': 0},\n",
    "                         'flag.movimiento.honor colorado': {'$eq': 0}, \n",
    "                         'flag.movimiento.colorado añetete': {'$gt': 0},\n",
    "                         'relevante': 1,\n",
    "                         'tweet_obj.retweeted_status': {'$exists': 1},\n",
    "                         'tweet_obj.in_reply_to_status_id_str': {'$eq': None},\n",
    "                         'tweet_obj.is_quote_status': False})\n",
    "num_retweets_ca = retweets_ca.count()"
   ]
  },
  {
   "cell_type": "markdown",
   "metadata": {},
   "source": [
    "#### Replies"
   ]
  },
  {
   "cell_type": "code",
   "execution_count": 36,
   "metadata": {},
   "outputs": [],
   "source": [
    "replies_ca = db.search({'flag.partido_politico.anr': {'$gt': 0},\n",
    "                        'flag.movimiento.honor colorado': {'$eq': 0}, \n",
    "                        'flag.movimiento.colorado añetete': {'$gt': 0},\n",
    "                        'relevante': 1,\n",
    "                        'tweet_obj.retweeted_status': {'$exists': 0},\n",
    "                        'tweet_obj.in_reply_to_status_id_str': {'$ne': None},\n",
    "                        'tweet_obj.is_quote_status': False})\n",
    "num_replies_ca = replies_ca.count()"
   ]
  },
  {
   "cell_type": "markdown",
   "metadata": {},
   "source": [
    "#### Quotes"
   ]
  },
  {
   "cell_type": "code",
   "execution_count": 37,
   "metadata": {},
   "outputs": [],
   "source": [
    "quotes_ca = db.search({'flag.partido_politico.anr': {'$gt': 0},\n",
    "                       'flag.movimiento.honor colorado': {'$eq': 0}, \n",
    "                       'flag.movimiento.colorado añetete': {'$gt': 0},\n",
    "                       'relevante': 1,\n",
    "                       'tweet_obj.is_quote_status': True})\n",
    "num_quotes_ca = quotes_ca.count()"
   ]
  },
  {
   "cell_type": "markdown",
   "metadata": {},
   "source": [
    "#### Gráfico"
   ]
  },
  {
   "cell_type": "code",
   "execution_count": 19,
   "metadata": {},
   "outputs": [],
   "source": [
    "tweets_por_tipo_ca = pd.DataFrame({\n",
    "    'Tipo': ['Original', 'Retweet', 'Reply', 'Quote'],\n",
    "    'Tweets': [num_original_tweets_ca, num_retweets_ca, num_replies_ca, num_quotes_ca]\n",
    "}, index=['ot', 'rt', 'rp', 'qt'])"
   ]
  },
  {
   "cell_type": "code",
   "execution_count": 20,
   "metadata": {},
   "outputs": [
    {
     "data": {
      "image/png": "[encoded data removed]",
      "text/plain": [
       "<matplotlib.figure.Figure at 0x261599828>"
      ]
     },
     "metadata": {
      "needs_background": "light"
     },
     "output_type": "display_data"
    }
   ],
   "source": [
    "fig = sns.barplot(x='Tipo', y='Tweets', data=tweets_por_tipo_ca, order=['Retweet', 'Reply', 'Original', 'Quote'],\n",
    "                 palette=\"Reds_d\")\n",
    "ax=fig\n",
    "#annotate axis = seaborn axis\n",
    "for p in ax.patches:\n",
    "    ax.annotate(\"%d\" % p.get_height(), (p.get_x() + p.get_width() / 2., p.get_height()),\n",
    "                 ha='center', va='center', fontsize=12, color='black', xytext=(0, 10),\n",
    "                 textcoords='offset points')\n",
    "_ = fig.set_ylim(0,35000) #To make space for the annotations\n",
    "plt.show()"
   ]
  },
  {
   "cell_type": "markdown",
   "metadata": {},
   "source": [
    "Los conjuntos de tweets de **`Honor Colorado`** y **`Colorado Añeteté`** no son mutuamente excluyentes ya que existen tweets que contienen menciones a los candidatos de ambos movimientos o que tienen hashtags relacionados a los dos movimientos. Por ejemplo el siguiente tweet"
   ]
  },
  {
   "cell_type": "code",
   "execution_count": 21,
   "metadata": {},
   "outputs": [],
   "source": [
    "class Tweet(object):\n",
    "    def __init__(self, embed_str=None):\n",
    "        self.embed_str = embed_str\n",
    "\n",
    "    def _repr_html_(self):\n",
    "        return self.embed_str"
   ]
  },
  {
   "cell_type": "code",
   "execution_count": 22,
   "metadata": {},
   "outputs": [
    {
     "data": {
      "text/html": [
       "\n",
       "<blockquote class=\"twitter-tweet\" data-lang=\"en\"><p lang=\"es\" dir=\"ltr\">.<a href=\"https://twitter.com/SantiPenap?ref_src=twsrc%5Etfw\">@SantiPenap</a>: &quot;Me parece indignante que <a href=\"https://twitter.com/MaritoAbdo?ref_src=twsrc%5Etfw\">@MaritoAbdo</a> siga recibiendo un salario del Estado y haciendo campaña. Si está seguro que va a ganar, le desafío a que mañana renuncie a su banca en <a href=\"https://twitter.com/SenadoresPy?ref_src=twsrc%5Etfw\">@SenadoresPy</a>&quot; <a href=\"https://twitter.com/hashtag/COCPY?src=hash&amp;ref_src=twsrc%5Etfw\">#COCPY</a></p>&mdash; Jorge Torres Romero (@jtorresromero) <a href=\"https://twitter.com/jtorresromero/status/937488208492941312?ref_src=twsrc%5Etfw\">December 4, 2017</a></blockquote>\n",
       "<script async src=\"https://platform.twitter.com/widgets.js\" charset=\"utf-8\"></script>\n"
      ],
      "text/plain": [
       "<__main__.Tweet at 0x2755ec3c8>"
      ]
     },
     "execution_count": 22,
     "metadata": {},
     "output_type": "execute_result"
    }
   ],
   "source": [
    "s = (\"\"\"\n",
    "<blockquote class=\"twitter-tweet\" data-lang=\"en\"><p lang=\"es\" dir=\"ltr\">.<a href=\"https://twitter.com/SantiPenap?ref_src=twsrc%5Etfw\">@SantiPenap</a>: &quot;Me parece indignante que <a href=\"https://twitter.com/MaritoAbdo?ref_src=twsrc%5Etfw\">@MaritoAbdo</a> siga recibiendo un salario del Estado y haciendo campaña. Si está seguro que va a ganar, le desafío a que mañana renuncie a su banca en <a href=\"https://twitter.com/SenadoresPy?ref_src=twsrc%5Etfw\">@SenadoresPy</a>&quot; <a href=\"https://twitter.com/hashtag/COCPY?src=hash&amp;ref_src=twsrc%5Etfw\">#COCPY</a></p>&mdash; Jorge Torres Romero (@jtorresromero) <a href=\"https://twitter.com/jtorresromero/status/937488208492941312?ref_src=twsrc%5Etfw\">December 4, 2017</a></blockquote>\n",
    "<script async src=\"https://platform.twitter.com/widgets.js\" charset=\"utf-8\"></script>\n",
    "\"\"\")\n",
    "Tweet(s)"
   ]
  },
  {
   "cell_type": "markdown",
   "metadata": {},
   "source": [
    "## Evolución de tweets en el tiempo"
   ]
  },
  {
   "cell_type": "markdown",
   "metadata": {},
   "source": [
    "### General"
   ]
  },
  {
   "cell_type": "code",
   "execution_count": 11,
   "metadata": {},
   "outputs": [
    {
     "data": {
      "text/html": [
       "<div>\n",
       "<style scoped>\n",
       "    .dataframe tbody tr th:only-of-type {\n",
       "        vertical-align: middle;\n",
       "    }\n",
       "\n",
       "    .dataframe tbody tr th {\n",
       "        vertical-align: top;\n",
       "    }\n",
       "\n",
       "    .dataframe thead th {\n",
       "        text-align: right;\n",
       "    }\n",
       "</style>\n",
       "<table border=\"1\" class=\"dataframe\">\n",
       "  <thead>\n",
       "    <tr style=\"text-align: right;\">\n",
       "      <th></th>\n",
       "      <th>_id</th>\n",
       "      <th>count</th>\n",
       "      <th>date</th>\n",
       "      <th>partido</th>\n",
       "    </tr>\n",
       "  </thead>\n",
       "  <tbody>\n",
       "    <tr>\n",
       "      <th>0</th>\n",
       "      <td>11/24/17</td>\n",
       "      <td>89</td>\n",
       "      <td>2017-11-24</td>\n",
       "      <td>anr</td>\n",
       "    </tr>\n",
       "    <tr>\n",
       "      <th>1</th>\n",
       "      <td>11/25/17</td>\n",
       "      <td>283</td>\n",
       "      <td>2017-11-25</td>\n",
       "      <td>anr</td>\n",
       "    </tr>\n",
       "    <tr>\n",
       "      <th>2</th>\n",
       "      <td>11/26/17</td>\n",
       "      <td>334</td>\n",
       "      <td>2017-11-26</td>\n",
       "      <td>anr</td>\n",
       "    </tr>\n",
       "    <tr>\n",
       "      <th>3</th>\n",
       "      <td>11/27/17</td>\n",
       "      <td>489</td>\n",
       "      <td>2017-11-27</td>\n",
       "      <td>anr</td>\n",
       "    </tr>\n",
       "    <tr>\n",
       "      <th>4</th>\n",
       "      <td>11/28/17</td>\n",
       "      <td>527</td>\n",
       "      <td>2017-11-28</td>\n",
       "      <td>anr</td>\n",
       "    </tr>\n",
       "  </tbody>\n",
       "</table>\n",
       "</div>"
      ],
      "text/plain": [
       "        _id  count       date partido\n",
       "0  11/24/17     89 2017-11-24     anr\n",
       "1  11/25/17    283 2017-11-25     anr\n",
       "2  11/26/17    334 2017-11-26     anr\n",
       "3  11/27/17    489 2017-11-27     anr\n",
       "4  11/28/17    527 2017-11-28     anr"
      ]
     },
     "execution_count": 11,
     "metadata": {},
     "output_type": "execute_result"
    }
   ],
   "source": [
    "tw_by_date = db.get_tweets_by_date(**{'partido': 'anr'})\n",
    "tweets_por_fecha = pd.DataFrame(tw_by_date)\n",
    "tweets_por_fecha.head()"
   ]
  },
  {
   "cell_type": "code",
   "execution_count": 12,
   "metadata": {},
   "outputs": [
    {
     "data": {
      "image/png": "[encoded data removed]",
      "text/plain": [
       "<matplotlib.figure.Figure at 0x10dd1aba8>"
      ]
     },
     "metadata": {
      "needs_background": "light"
     },
     "output_type": "display_data"
    }
   ],
   "source": [
    "plt.figure(figsize=(18,8))\n",
    "# get list of indexes\n",
    "l_index = list(tweets_por_fecha.index)\n",
    "# convert timestamps to string\n",
    "l_dates = []\n",
    "for i in range(tweets_por_fecha.shape[0]):\n",
    "    l_dates.append(str(tweets_por_fecha.iloc[i, 2]).split()[0])\n",
    "fig = sns.lineplot(x=l_dates, y=tweets_por_fecha['count'], color=\"red\")\n",
    "fig.set(xlabel='Fecha', ylabel='Tweets')\n",
    "sns.set_style(\"dark\", {'axes.grid': True})\n",
    "fig.set_xticklabels(labels=l_dates, rotation=90)\n",
    "plt.fill_between(l_index, tweets_por_fecha['count'], alpha=0.5, color='red')\n",
    "plt.show()\n",
    "fig.get_figure().savefig(\"tweets_over_time.png\", dpi=200, quality=95, bbox_inches=\"tight\")"
   ]
  },
  {
   "cell_type": "markdown",
   "metadata": {},
   "source": [
    "### Por movimiento"
   ]
  },
  {
   "cell_type": "code",
   "execution_count": 26,
   "metadata": {},
   "outputs": [],
   "source": [
    "# get tweets by date\n",
    "tw_by_date_hc = db.get_tweets_by_date(**{'partido':'anr', 'movimiento': 'honor colorado', \n",
    "                                         'no_movimiento': 'colorado añetete'})\n",
    "tw_by_date_ca = db.get_tweets_by_date(**{'partido':'anr', 'movimiento': 'colorado añetete',\n",
    "                                         'no_movimiento': 'honor colorado'})\n",
    "# convert list to pandas' dataframe\n",
    "tweets_por_fecha = pd.DataFrame(tw_by_date_hc)\n",
    "tweets_por_fecha = tweets_por_fecha.append(pd.DataFrame(tw_by_date_ca))"
   ]
  },
  {
   "cell_type": "code",
   "execution_count": 27,
   "metadata": {},
   "outputs": [
    {
     "data": {
      "image/png": "[encoded data removed]",
      "text/plain": [
       "<matplotlib.figure.Figure at 0x261596400>"
      ]
     },
     "metadata": {},
     "output_type": "display_data"
    }
   ],
   "source": [
    "# draw and show the figure\n",
    "# set figure size\n",
    "plt.figure(figsize=(12,6))\n",
    "fig = sns.lineplot(x='date', y='count', data=tweets_por_fecha, hue=\"movimiento\", \n",
    "                    palette=\"Reds_d\")\n",
    "fig.set(xlabel='Fecha', ylabel='Tweets')\n",
    "for item in fig.get_xticklabels():\n",
    "    item.set_rotation(90)\n",
    "plt.show()\n",
    "fig.get_figure().savefig(\"tweets_over_time_movimientos.png\", dpi=200, quality=95)"
   ]
  },
  {
   "cell_type": "markdown",
   "metadata": {},
   "source": [
    "La publicación de tweets fue creciendo con el paso del tiempo. El día de las elecciones (**`17 de diciembre`**) se concentró el mayor de publicaciones de tweets, más de **`30.000`** tweets (honor colorado 20.478, colorado añeteté 11.474) se publicaron ese día. Pasadas las elecciones los tweets relacionados a las internas decrecieron significativamente con un pequeño pico el día de 28 de diciembre. Esto pudo haberse debido a que ese día el presidente de la república y líder del Movimiento Honor Colorado, Horacio Cartes, confirmó su reunión con Mario Abdo Benítez, líder de Colorado Añeteté, en busca de la unidad del Partido Colorado ([Cartes confirma abrazo republicano](http://www.abc.com.py/nacionales/cartes-confirma-abrazo-republicano-1662344.html))."
   ]
  },
  {
   "cell_type": "markdown",
   "metadata": {},
   "source": [
    "## Cantidad de Tweets por movimiento"
   ]
  },
  {
   "cell_type": "markdown",
   "metadata": {},
   "source": [
    "Exploraremos la distribución de tweets considerando los dos movimiento más importantes en estas internas, es decir **`Honor Colorado`** y **`Colorado Añeteté`**."
   ]
  },
  {
   "cell_type": "markdown",
   "metadata": {},
   "source": [
    "### Honor Colorado"
   ]
  },
  {
   "cell_type": "code",
   "execution_count": 38,
   "metadata": {},
   "outputs": [
    {
     "name": "stdout",
     "output_type": "stream",
     "text": [
      "Se publicaron 86245 tweets relacionados al movimiento Honor Colorado (59.47% del total)\n"
     ]
    }
   ],
   "source": [
    "tweets_hc = db.search({'flag.partido_politico.anr': {'$gt': 0},\n",
    "                       'flag.movimiento.honor colorado': {'$gt': 0}, \n",
    "                       'flag.movimiento.colorado añetete': {'$eq': 0},\n",
    "                       'relevante': 1})\n",
    "print('Se publicaron {0} tweets relacionados al movimiento Honor Colorado ({1}% del total)'.\n",
    "      format(tweets_hc.count(), round((tweets_hc.count()/relevant_tweets)*100,2)))"
   ]
  },
  {
   "cell_type": "markdown",
   "metadata": {},
   "source": [
    "### Colorado Añeteté"
   ]
  },
  {
   "cell_type": "code",
   "execution_count": 39,
   "metadata": {},
   "outputs": [
    {
     "name": "stdout",
     "output_type": "stream",
     "text": [
      "Se publicaron 46760 tweets relacionados al movimiento Colorado Añetete (32.24% del total)\n"
     ]
    }
   ],
   "source": [
    "tweets_ca = db.search({'flag.partido_politico.anr': {'$gt': 0},\n",
    "                       'flag.movimiento.colorado añetete': {'$gt': 0},\n",
    "                       'flag.movimiento.honor colorado': {'$eq': 0},\n",
    "                       'relevante': 1})\n",
    "print('Se publicaron {0} tweets relacionados al movimiento Colorado Añetete ({1}% del total)'.\n",
    "      format(tweets_ca.count(), round((tweets_ca.count()/relevant_tweets)*100,2)))"
   ]
  },
  {
   "cell_type": "markdown",
   "metadata": {},
   "source": [
    "### Ambos"
   ]
  },
  {
   "cell_type": "code",
   "execution_count": 18,
   "metadata": {},
   "outputs": [
    {
     "name": "stdout",
     "output_type": "stream",
     "text": [
      "Se publicaron 10917 tweets relacionados a ambos movimientos (7.53% del total)\n"
     ]
    }
   ],
   "source": [
    "tweets_hc_ca = db.search({'flag.partido_politico.anr': {'$gt': 0},\n",
    "                          'flag.movimiento.colorado añetete': {'$gt': 0},\n",
    "                          'flag.movimiento.honor colorado': {'$gt': 0},\n",
    "                          'relevante': 1})\n",
    "print('Se publicaron {0} tweets relacionados a ambos movimientos ({1}% del total)'.\n",
    "      format(tweets_hc_ca.count(), round((tweets_hc_ca.count()/relevant_tweets)*100,2)))"
   ]
  },
  {
   "cell_type": "code",
   "execution_count": 32,
   "metadata": {},
   "outputs": [
    {
     "data": {
      "image/png": "[encoded data removed]",
      "text/plain": [
       "<matplotlib.figure.Figure at 0x2770aab70>"
      ]
     },
     "metadata": {},
     "output_type": "display_data"
    }
   ],
   "source": [
    "tweets_por_movimiento = pd.DataFrame({\n",
    "    'Movimiento': ['Honor Colorado', 'Añeteté', 'Ambos'],\n",
    "    'Tweets': [tweets_hc.count(), tweets_ca.count(), tweets_hc_ca.count()]\n",
    "}, index=['hc', 'ca', 'ambos'])\n",
    "fig = sns.barplot(x='Movimiento', y='Tweets', data=tweets_por_movimiento, palette=\"Reds_d\")\n",
    "ax=fig\n",
    "#annotate axis = seaborn axis\n",
    "for p in ax.patches:\n",
    "    ax.annotate(\"%d\" % p.get_height(), (p.get_x() + p.get_width() / 2., p.get_height()),\n",
    "                 ha='center', va='center', fontsize=12, color='black', xytext=(0, 10),\n",
    "                 textcoords='offset points')\n",
    "_ = fig.set_ylim(0,95000) #To make space for the annotations\n",
    "plt.show()"
   ]
  },
  {
   "cell_type": "markdown",
   "metadata": {},
   "source": [
    "Los tweets relacionados al movimiento **`Honor Colorado`** constituyen casi el **`60%`** de nuestro data set mientras que los vinculados a las candidaturas del movimiento **`Colorado Añeteté`** representan menos del **`35%`** del total de datos. El restante porcentaje se distribuye entre tweet que hacen referencia a ambos movimiento (7%) y tweets vínculados a las internas de la ANR pero no necesariamente a alguno de estos dos movimiento, por ejemplo, tweets que utilizan solamente el hashtag **`#InternasANR`**."
   ]
  },
  {
   "cell_type": "markdown",
   "metadata": {},
   "source": [
    "## Cantidad de Tweets por Movimiento por día"
   ]
  },
  {
   "cell_type": "markdown",
   "metadata": {},
   "source": [
    "### Honor Colorado"
   ]
  },
  {
   "cell_type": "code",
   "execution_count": 33,
   "metadata": {},
   "outputs": [
    {
     "name": "stdout",
     "output_type": "stream",
     "text": [
      "Honor Colorado publicó en promedio 1627 tweets por día\n"
     ]
    }
   ],
   "source": [
    "mean_tweets_hc = tweets_por_fecha[tweets_por_fecha['movimiento']=='honor colorado']['count'].mean()\n",
    "print('Honor Colorado publicó en promedio {0} tweets por día'.format(int(mean_tweets_hc)))"
   ]
  },
  {
   "cell_type": "markdown",
   "metadata": {},
   "source": [
    "### Colorado Añeteté"
   ]
  },
  {
   "cell_type": "code",
   "execution_count": 34,
   "metadata": {},
   "outputs": [
    {
     "name": "stdout",
     "output_type": "stream",
     "text": [
      "Colorado Añeteté publicó en promedio 882 tweets por día\n"
     ]
    }
   ],
   "source": [
    "mean_tweets_ca = tweets_por_fecha[tweets_por_fecha['movimiento']=='colorado añetete']['count'].mean()\n",
    "print('Colorado Añeteté publicó en promedio {0} tweets por día'.format(int(mean_tweets_ca)))"
   ]
  },
  {
   "cell_type": "markdown",
   "metadata": {},
   "source": [
    "## Frecuencia de posteo"
   ]
  },
  {
   "cell_type": "code",
   "execution_count": 35,
   "metadata": {},
   "outputs": [],
   "source": [
    "fp = db.get_posting_frequency_in_seconds(**{'partido': 'anr'})\n",
    "fp_df = pd.DataFrame(fp)"
   ]
  },
  {
   "cell_type": "code",
   "execution_count": 36,
   "metadata": {},
   "outputs": [
    {
     "name": "stdout",
     "output_type": "stream",
     "text": [
      "En promedio se publicaron tweets relacionados a la internas del Partido Colorado cada 31.07 segundos\n"
     ]
    }
   ],
   "source": [
    "print('En promedio se publicaron tweets relacionados a la internas del Partido Colorado cada {0} segundos'.\n",
    "      format(round(fp_df['diff_with_previous'].mean(), 2)))"
   ]
  },
  {
   "cell_type": "markdown",
   "metadata": {},
   "source": [
    "### Honor Colorado"
   ]
  },
  {
   "cell_type": "code",
   "execution_count": 4,
   "metadata": {},
   "outputs": [],
   "source": [
    "fp_hc = db.get_posting_frequency_in_seconds(**{'partido': 'anr', 'movimiento': 'honor colorado',\n",
    "                                               'no_movimiento': 'colorado añetete'})\n",
    "fp_hc_df = pd.DataFrame(fp_hc)"
   ]
  },
  {
   "cell_type": "code",
   "execution_count": 5,
   "metadata": {},
   "outputs": [
    {
     "name": "stdout",
     "output_type": "stream",
     "text": [
      "En promedio se publicaron tweets relacionados al movimiento Honor Colorado cada 52.13 segundos\n"
     ]
    }
   ],
   "source": [
    "print('En promedio se publicaron tweets relacionados al movimiento Honor Colorado cada {0} segundos'.\n",
    "      format(round(fp_hc_df['diff_with_previous'].mean(), 2)))"
   ]
  },
  {
   "cell_type": "markdown",
   "metadata": {},
   "source": [
    "### Colorado Añeteté"
   ]
  },
  {
   "cell_type": "code",
   "execution_count": 7,
   "metadata": {},
   "outputs": [],
   "source": [
    "fp_ca = db.get_posting_frequency_in_seconds(**{'partido': 'anr', 'movimiento': 'colorado añetete',\n",
    "                                               'no_movimiento': 'honor colorado'})\n",
    "fp_ca_df = pd.DataFrame(fp_ca)"
   ]
  },
  {
   "cell_type": "code",
   "execution_count": 8,
   "metadata": {},
   "outputs": [
    {
     "name": "stdout",
     "output_type": "stream",
     "text": [
      "En promedio se publicaron tweets relacionados al movimiento Colorado Añeteté cada 96.32 segundos\n"
     ]
    }
   ],
   "source": [
    "print('En promedio se publicaron tweets relacionados al movimiento Colorado Añeteté cada {0} segundos'.\n",
    "      format(round(fp_ca_df['diff_with_previous'].mean(), 2)))"
   ]
  },
  {
   "cell_type": "markdown",
   "metadata": {},
   "source": [
    "## Distribución de tweets por hora el día D (17/12/17)"
   ]
  },
  {
   "cell_type": "code",
   "execution_count": 9,
   "metadata": {},
   "outputs": [],
   "source": [
    "# get tweets by hour by movement\n",
    "hc_tw_by_hour = db.get_tweets_by_hour('12/17/17', **{'partido': 'anr','movimiento': 'honor colorado',\n",
    "                                                     'no_movimiento': 'colorado añetete'})\n",
    "ca_tw_by_hour = db.get_tweets_by_hour('12/17/17', **{'partido': 'anr','movimiento': 'colorado añetete',\n",
    "                                                     'no_movimiento': 'honor colorado'})\n",
    "# convert list to pandas' dataframe\n",
    "tweets_by_hour = pd.DataFrame(hc_tw_by_hour)\n",
    "tweets_by_hour = tweets_by_hour.append(pd.DataFrame(ca_tw_by_hour))"
   ]
  },
  {
   "cell_type": "code",
   "execution_count": 10,
   "metadata": {},
   "outputs": [
    {
     "data": {
      "image/png": "[encoded data removed]",
      "text/plain": [
       "<matplotlib.figure.Figure at 0x122b39198>"
      ]
     },
     "metadata": {
      "needs_background": "light"
     },
     "output_type": "display_data"
    }
   ],
   "source": [
    "# set figure size\n",
    "plt.figure(figsize=(12,6))\n",
    "# draw and show the figure\n",
    "fig = sns.lineplot(x='hour', y='count', data=tweets_by_hour, hue=\"movimiento\", \n",
    "                    palette=\"Reds_d\")\n",
    "fig.set(xlabel='Hora', ylabel='Tweets')\n",
    "#for item in fig.get_xticklabels():\n",
    "#    item.set_rotation(90)\n",
    "plt.show()\n",
    "fig.get_figure().savefig(\"tweets_dia_d_por_movimiento.png\", dpi=200, quality=95, bbox_inches=\"tight\")"
   ]
  },
  {
   "cell_type": "markdown",
   "metadata": {},
   "source": [
    "La cantidad de tweets con información relacionada a **`Honor Colorado`** fue superior durante toda la jornada electoral con respecto a los tweets de **`Colorado Añeteté`**, inclusive aún después de la proclamación del TREP (20 hs)"
   ]
  },
  {
   "cell_type": "markdown",
   "metadata": {},
   "source": [
    "### ¿Qué pasó entre las 20 y las 21 hs?"
   ]
  },
  {
   "cell_type": "code",
   "execution_count": 14,
   "metadata": {},
   "outputs": [
    {
     "name": "stdout",
     "output_type": "stream",
     "text": [
      "Tweet originales: 501\n",
      "RT: 5207\n",
      "RP: 1075\n",
      "QT: 258\n"
     ]
    }
   ],
   "source": [
    "tweets = db.search({'tweet_py_date': '12/17/17', \n",
    "                    '$or': [{'tweet_py_hour': '21'}, {'tweet_py_hour': '20'}], \n",
    "                    'flag.partido_politico.anr': {'$gt': 0},\n",
    "                    'flag.movimiento.honor colorado': {'$gt': 0}, \n",
    "                    'flag.movimiento.colorado añetete': {'$eq': 0}})\n",
    "org_tweets, rts, rps, qts = [], [], [], []\n",
    "tweets_rt = defaultdict(int)\n",
    "for tweet in tweets:\n",
    "    if 'retweeted_status' in tweet['tweet_obj'].keys() and \\\n",
    "        not tweet['tweet_obj']['in_reply_to_status_id_str'] and \\\n",
    "        not tweet['tweet_obj']['is_quote_status']:\n",
    "        rts.append({'id_str': tweet['tweet_obj']['id_str'], \n",
    "                    'author': tweet['tweet_obj']['user']['screen_name']})\n",
    "        key = 'https://www.twitter.com/' + tweet['tweet_obj']['retweeted_status']['user']['screen_name'] + \\\n",
    "              '/status/' + tweet['tweet_obj']['retweeted_status']['id_str']\n",
    "        tweets_rt[key] += 1\n",
    "    elif 'retweeted_status' not in tweet['tweet_obj'].keys() and \\\n",
    "         tweet['tweet_obj']['in_reply_to_status_id_str'] and \\\n",
    "         not tweet['tweet_obj']['is_quote_status']:\n",
    "        rps.append({'id_str': tweet['tweet_obj']['id_str'], 'author': tweet['tweet_obj']['user']['screen_name']})\n",
    "    elif tweet['tweet_obj']['is_quote_status']:\n",
    "        qts.append({'id_str': tweet['tweet_obj']['id_str'], 'author': tweet['tweet_obj']['user']['screen_name']})\n",
    "    else:\n",
    "        org_tweets.append({'id_str': tweet['tweet_obj']['id_str'], 'author': tweet['tweet_obj']['user']['screen_name']})\n",
    "print('Tweet originales: {0}'.format(len(org_tweets)))\n",
    "print('RT: {0}'.format(len(rts)))\n",
    "print('RP: {0}'.format(len(rps)))\n",
    "print('QT: {0}'.format(len(qts)))"
   ]
  },
  {
   "cell_type": "code",
   "execution_count": 15,
   "metadata": {},
   "outputs": [],
   "source": [
    "s_rt_tweets = [k for k in sorted(tweets_rt.items(), key=lambda k_v: k_v[1], reverse=True)]"
   ]
  },
  {
   "cell_type": "code",
   "execution_count": 16,
   "metadata": {},
   "outputs": [
    {
     "data": {
      "text/plain": [
       "('https://www.twitter.com/LuisBareiro/status/942544597410045953', 1434)"
      ]
     },
     "execution_count": 16,
     "metadata": {},
     "output_type": "execute_result"
    }
   ],
   "source": [
    "s_rt_tweets[0]"
   ]
  },
  {
   "cell_type": "markdown",
   "metadata": {},
   "source": [
    "## Distribución de tweets por candidato"
   ]
  },
  {
   "cell_type": "markdown",
   "metadata": {},
   "source": [
    "Para esta parte del análisis solo se tuvieron en cuenta los tweets que contienen hashtags utilizados exclusivamente para promocionar las **candidaturas** presidenciales, no los **movimientos** o **partidos**. Por ejemplo, los hashtags **`#JuntosPodemosMas`** o **`#CaminandoJuntos`** son hashtags vinculados principalmente a la figura de Santiago Peña no así el hashtag **`#HonorColorado`** que se utiliza para referirse al movimiento partidario pero no necesariamente la candidatura de Peña. De igual manera, los hashtags **`#MaritoDeLaGente`** o **`ParaguayDeLaGente`** fueron usados para promocionar la campaña de Mario Abdo, no necesariamente las candidatura del movimiento Colorado Añeteté al que pertenece.\n",
    "\n",
    "Los tweets publicados por las cuentas personales de los candidatos no son tenidos en cuenta en este análisis."
   ]
  },
  {
   "cell_type": "markdown",
   "metadata": {},
   "source": [
    "### Santiago Peña"
   ]
  },
  {
   "cell_type": "markdown",
   "metadata": {},
   "source": [
    "Hashtags de ejemplo: **`#JuntosPodemosMas`**, **`#CaminandoJuntos`**, **`#SantiPresidente`**, **`#VotoxSanti`**, **`#SigamosConversando`**"
   ]
  },
  {
   "cell_type": "code",
   "execution_count": 19,
   "metadata": {},
   "outputs": [
    {
     "name": "stdout",
     "output_type": "stream",
     "text": [
      "Se publicaron 58282 tweets que utilizaron hashtags vinculados a la candidatura de Santiago Peña (67.58% del total de los tweets de Honor Colorado)\n"
     ]
    }
   ],
   "source": [
    "tweets_sp = db.search({'flag.partido_politico.anr': {'$gt': 0},\n",
    "                       'flag.candidatura.santiago peña': {'$gt': 0},\n",
    "                       'flag.candidatura.mario abdo': {'$eq': 0},\n",
    "                       'flag.movimiento.colorado añetete': {'$eq': 0},\n",
    "                       'tweet_obj.user.screen_name': {'$ne': 'SantiPenap'},\n",
    "                       'relevante': {'$eq': 1}})\n",
    "per_tweet_sp = round((tweets_sp.count()/tweets_hc.count())*100,2)\n",
    "print('Se publicaron {0} tweets que utilizaron hashtags vinculados a la candidatura de Santiago Peña ' \\\n",
    "      '({1}% del total de los tweets de Honor Colorado)'.\n",
    "      format(tweets_sp.count(), per_tweet_sp))"
   ]
  },
  {
   "cell_type": "markdown",
   "metadata": {},
   "source": [
    "### Mario Abdo Benítez"
   ]
  },
  {
   "cell_type": "markdown",
   "metadata": {},
   "source": [
    "Hashtags de ejemplo: **`#MaritoDeLaGente`**, **`#ParaguayDeLaGente`**, **`#MaritoImparable`**, **`#MaritoPresidente`**, **`#1000KmConLaGente`**"
   ]
  },
  {
   "cell_type": "code",
   "execution_count": 20,
   "metadata": {
    "scrolled": true
   },
   "outputs": [
    {
     "name": "stdout",
     "output_type": "stream",
     "text": [
      "Se publicaron 46275 tweets que utilizaron hashtags vinculados a la candidatura de Mario Abdo (98.96% del total de los tweets de Colorado Añeteté)\n"
     ]
    }
   ],
   "source": [
    "tweets_ma = db.search({'flag.partido_politico.anr': {'$gt': 0},\n",
    "                       'flag.candidatura.santiago peña': {'$eq': 0},\n",
    "                       'flag.candidatura.mario abdo': {'$gt': 0},\n",
    "                       'flag.movimiento.honor colorado': {'$eq': 0},\n",
    "                       'tweet_obj.user.screen_name': {'$ne': 'maritoabdo'},\n",
    "                       'relevante': {'$eq': 1}})\n",
    "per_tweet_ma = round((tweets_ma.count()/tweets_ca.count())*100,2)\n",
    "print('Se publicaron {0} tweets que utilizaron hashtags vinculados a la candidatura de Mario Abdo ' \\\n",
    "      '({1}% del total de los tweets de Colorado Añeteté)'.\n",
    "      format(tweets_ma.count(), per_tweet_ma))"
   ]
  },
  {
   "cell_type": "markdown",
   "metadata": {},
   "source": [
    "### Tweets sobre candidatos sobre el total de su movimiento"
   ]
  },
  {
   "cell_type": "code",
   "execution_count": 21,
   "metadata": {},
   "outputs": [
    {
     "data": {
      "image/png": "[encoded data removed]",
      "text/plain": [
       "<matplotlib.figure.Figure at 0x120c94668>"
      ]
     },
     "metadata": {},
     "output_type": "display_data"
    }
   ],
   "source": [
    "tweets_por_candidato_anr = pd.DataFrame({\n",
    "    'Candidato': ['Santiago Peña', 'Mario Abdo'],\n",
    "    '% tweets sobre total mov': [per_tweet_sp,per_tweet_ma]\n",
    "}, index=['sp', 'ma'])\n",
    "fig = sns.barplot(x='Candidato', y='% tweets sobre total mov', data=tweets_por_candidato_anr, \n",
    "                  order=['Mario Abdo', 'Santiago Peña'], palette=\"Reds_d\")\n",
    "ax=fig\n",
    "#annotate axis = seaborn axis\n",
    "for p in ax.patches:\n",
    "    ax.annotate(\"{0}%\".format(p.get_height()), (p.get_x() + p.get_width() / 2., p.get_height()),\n",
    "                 ha='center', va='center', fontsize=12, color='black', xytext=(0, 10),\n",
    "                 textcoords='offset points')\n",
    "_ = fig.set_ylim(0,110) #To make space for the annotations\n",
    "plt.show()"
   ]
  },
  {
   "cell_type": "markdown",
   "metadata": {},
   "source": [
    "### Sin tweets negativos"
   ]
  },
  {
   "cell_type": "code",
   "execution_count": 22,
   "metadata": {},
   "outputs": [
    {
     "data": {
      "text/plain": [
       "70148"
      ]
     },
     "execution_count": 22,
     "metadata": {},
     "output_type": "execute_result"
    }
   ],
   "source": [
    "# Tweets HC no negativos\n",
    "tweets_hc_nn = db.search({'flag.partido_politico.anr': {'$gt': 0},\n",
    "                          'flag.movimiento.honor colorado': {'$gt': 0}, \n",
    "                          'flag.movimiento.colorado añetete': {'$eq': 0},\n",
    "                          'relevante': 1,\n",
    "                          'sentimiento.tono': {'$ne': 'negative'}})\n",
    "tweets_hc_nn.count()"
   ]
  },
  {
   "cell_type": "code",
   "execution_count": 23,
   "metadata": {},
   "outputs": [
    {
     "data": {
      "text/plain": [
       "68.31"
      ]
     },
     "execution_count": 23,
     "metadata": {},
     "output_type": "execute_result"
    }
   ],
   "source": [
    "# Tweets Santi Peña no negativos\n",
    "tweets_sp_nn = db.search({'flag.partido_politico.anr': {'$gt': 0},\n",
    "                          'flag.candidatura.santiago peña': {'$gt': 0},\n",
    "                          'flag.candidatura.mario abdo': {'$eq': 0},\n",
    "                          'flag.movimiento.colorado añetete': {'$eq': 0},\n",
    "                          'tweet_obj.user.screen_name': {'$ne': 'SantiPenap'},\n",
    "                          'sentimiento.tono': {'$ne': 'negative'},\n",
    "                          'relevante': 1})\n",
    "per_tweet_sp_nn = round((tweets_sp_nn.count()/tweets_hc_nn.count())*100,2)\n",
    "per_tweet_sp_nn"
   ]
  },
  {
   "cell_type": "code",
   "execution_count": 24,
   "metadata": {},
   "outputs": [
    {
     "data": {
      "text/plain": [
       "40688"
      ]
     },
     "execution_count": 24,
     "metadata": {},
     "output_type": "execute_result"
    }
   ],
   "source": [
    "# Tweets Colorado Añeteté no negativos\n",
    "tweets_ca_nn = db.search({'flag.partido_politico.anr': {'$gt': 0},\n",
    "                          'flag.movimiento.honor colorado': {'$eq': 0}, \n",
    "                          'flag.movimiento.colorado añetete': {'$gt': 0},\n",
    "                          'relevante': 1,\n",
    "                          'sentimiento.tono': {'$ne': 'negative'}})\n",
    "tweets_ca_nn.count()"
   ]
  },
  {
   "cell_type": "code",
   "execution_count": 25,
   "metadata": {},
   "outputs": [
    {
     "data": {
      "text/plain": [
       "98.88"
      ]
     },
     "execution_count": 25,
     "metadata": {},
     "output_type": "execute_result"
    }
   ],
   "source": [
    "# Tweets Mario Abdo no negativos\n",
    "tweets_ma_nn = db.search({'flag.partido_politico.anr': {'$gt': 0},\n",
    "                          'flag.candidatura.santiago peña': {'$eq': 0},\n",
    "                          'flag.candidatura.mario abdo': {'$gt': 0},\n",
    "                          'flag.movimiento.honor colorado': {'$eq': 0},\n",
    "                          'tweet_obj.user.screen_name': {'$ne': 'maritoabdo'},\n",
    "                          'sentimiento.tono': {'$ne': 'negative'},\n",
    "                          'relevante': 1})\n",
    "per_tweet_ma_nn = round((tweets_ma_nn.count()/tweets_ca_nn.count())*100,2)\n",
    "per_tweet_ma_nn"
   ]
  },
  {
   "cell_type": "markdown",
   "metadata": {},
   "source": [
    "## Tonalidad de Tweets"
   ]
  },
  {
   "cell_type": "markdown",
   "metadata": {},
   "source": [
    "En este análisis se consideran solo tweets originales, replies, y quotes. Los retweets son descartados."
   ]
  },
  {
   "cell_type": "code",
   "execution_count": 26,
   "metadata": {},
   "outputs": [],
   "source": [
    "st = db.get_sentiment_tweets(**{'partido': 'anr'})\n",
    "st_dict = {\n",
    "    'Tono': [],\n",
    "    'Tweets': []\n",
    "}\n",
    "for sen in st:\n",
    "    if sen['sentiment'] == 'positive':\n",
    "        st_dict['Tono'].append('Positivo')\n",
    "    elif sen['sentiment'] == 'negative':\n",
    "        st_dict['Tono'].append('Negativo')\n",
    "    else:\n",
    "        st_dict['Tono'].append('Neutral')\n",
    "    st_dict['Tweets'].append(sen['count'])\n",
    "st_df = pd.DataFrame(st_dict)"
   ]
  },
  {
   "cell_type": "code",
   "execution_count": 27,
   "metadata": {},
   "outputs": [
    {
     "data": {
      "image/png": "[encoded data removed]",
      "text/plain": [
       "<matplotlib.figure.Figure at 0x11c689668>"
      ]
     },
     "metadata": {},
     "output_type": "display_data"
    }
   ],
   "source": [
    "fig = sns.barplot(x='Tono', y='Tweets', data=st_df, \n",
    "                  order=['Positivo', 'Neutral', 'Negativo'],\n",
    "                  palette=['green','gray', 'red'])\n",
    "ax=fig\n",
    "#annotate axis = seaborn axis\n",
    "for p in ax.patches:\n",
    "    ax.annotate(\"%d\" % p.get_height(), (p.get_x() + p.get_width() / 2., p.get_height()),\n",
    "                 ha='center', va='center', fontsize=12, color='black', xytext=(0, 10),\n",
    "                 textcoords='offset points')\n",
    "_ = fig.set_ylim(0,30000) #To make space for the annotations\n",
    "plt.show()"
   ]
  },
  {
   "cell_type": "markdown",
   "metadata": {},
   "source": [
    "### Honor Colorado"
   ]
  },
  {
   "cell_type": "code",
   "execution_count": 28,
   "metadata": {},
   "outputs": [],
   "source": [
    "st = db.get_sentiment_tweets(**{'partido': 'anr', 'movimiento': 'honor colorado', \n",
    "                                'no_movimiento': 'colorado añetete'})\n",
    "st_dict = {\n",
    "    'Tono': [],\n",
    "    'Tweets': []\n",
    "}\n",
    "for sen in st:\n",
    "    if sen['sentiment'] == 'positive':\n",
    "        st_dict['Tono'].append('Positivo')\n",
    "    elif sen['sentiment'] == 'negative':\n",
    "        st_dict['Tono'].append('Negativo')\n",
    "    else:\n",
    "        st_dict['Tono'].append('Neutral')\n",
    "    st_dict['Tweets'].append(sen['count'])\n",
    "st_df_hc = pd.DataFrame(st_dict)"
   ]
  },
  {
   "cell_type": "code",
   "execution_count": 29,
   "metadata": {},
   "outputs": [
    {
     "data": {
      "image/png": "[encoded data removed]",
      "text/plain": [
       "<matplotlib.figure.Figure at 0x12814a278>"
      ]
     },
     "metadata": {},
     "output_type": "display_data"
    }
   ],
   "source": [
    "fig = sns.barplot(x='Tono', y='Tweets', data=st_df_hc, \n",
    "                  order=['Positivo', 'Neutral', 'Negativo'],\n",
    "                  palette=['green','gray', 'red'])\n",
    "ax=fig\n",
    "#annotate axis = seaborn axis\n",
    "for p in ax.patches:\n",
    "    ax.annotate(\"%d\" % p.get_height(), (p.get_x() + p.get_width() / 2., p.get_height()),\n",
    "                 ha='center', va='center', fontsize=12, color='black', xytext=(0, 10),\n",
    "                 textcoords='offset points')\n",
    "_ = fig.set_ylim(0,21000) #To make space for the annotations\n",
    "plt.show()"
   ]
  },
  {
   "cell_type": "code",
   "execution_count": 30,
   "metadata": {},
   "outputs": [
    {
     "name": "stdout",
     "output_type": "stream",
     "text": [
      "Tweets Positivos: 31.8%\n",
      "Tweets Negativos: 18.0%\n",
      "Tweets Neutrales: 50.2%\n"
     ]
    }
   ],
   "source": [
    "total = sum(st_df_hc['Tweets'])\n",
    "positive = int(st_df_hc[st_df_hc['Tono'] == 'Positivo']['Tweets'])\n",
    "negative = int(st_df_hc[st_df_hc['Tono'] == 'Negativo']['Tweets'])\n",
    "neutral = int(st_df_hc[st_df_hc['Tono'] == 'Neutral']['Tweets'])\n",
    "print('Tweets Positivos: {0}%'.format(round(100*positive/total, 1)))\n",
    "print('Tweets Negativos: {0}%'.format(round(100*negative/total, 1)))\n",
    "print('Tweets Neutrales: {0}%'.format(round(100*neutral/total, 1)))"
   ]
  },
  {
   "cell_type": "markdown",
   "metadata": {},
   "source": [
    "#### Tweets Originales"
   ]
  },
  {
   "cell_type": "code",
   "execution_count": 31,
   "metadata": {},
   "outputs": [],
   "source": [
    "st = db.get_sentiment_tweets(type_query='original', **{'partido': 'anr', 'movimiento': 'honor colorado',\n",
    "                                                       'no_movimiento': 'colorado añetete'})\n",
    "st_dict = {\n",
    "    'Tono': [],\n",
    "    'Tweets': []\n",
    "}\n",
    "for sen in st:\n",
    "    if sen['sentiment'] == 'positive':\n",
    "        st_dict['Tono'].append('Positivo')\n",
    "    elif sen['sentiment'] == 'negative':\n",
    "        st_dict['Tono'].append('Negativo')\n",
    "    else:\n",
    "        st_dict['Tono'].append('Neutral')\n",
    "    st_dict['Tweets'].append(sen['count'])\n",
    "st_df_hc = pd.DataFrame(st_dict)"
   ]
  },
  {
   "cell_type": "code",
   "execution_count": 32,
   "metadata": {},
   "outputs": [
    {
     "data": {
      "image/png": "[encoded data removed]",
      "text/plain": [
       "<matplotlib.figure.Figure at 0x1283616a0>"
      ]
     },
     "metadata": {},
     "output_type": "display_data"
    }
   ],
   "source": [
    "fig = sns.barplot(x='Tono', y='Tweets', data=st_df_hc, \n",
    "                  order=['Positivo', 'Neutral', 'Negativo'],\n",
    "                  palette=['green','gray', 'red'])\n",
    "ax=fig\n",
    "#annotate axis = seaborn axis\n",
    "for p in ax.patches:\n",
    "    ax.annotate(\"%d\" % p.get_height(), (p.get_x() + p.get_width() / 2., p.get_height()),\n",
    "                 ha='center', va='center', fontsize=12, color='black', xytext=(0, 10),\n",
    "                 textcoords='offset points')\n",
    "_ = fig.set_ylim(0,3500) #To make space for the annotations\n",
    "plt.show()"
   ]
  },
  {
   "cell_type": "code",
   "execution_count": 33,
   "metadata": {},
   "outputs": [
    {
     "name": "stdout",
     "output_type": "stream",
     "text": [
      "Tweets Positivos: 40.1%\n",
      "Tweets Negativos: 16.2%\n",
      "Tweets Neutrales: 43.7%\n"
     ]
    }
   ],
   "source": [
    "total = sum(st_df_hc['Tweets'])\n",
    "positive = int(st_df_hc[st_df_hc['Tono'] == 'Positivo']['Tweets'])\n",
    "negative = int(st_df_hc[st_df_hc['Tono'] == 'Negativo']['Tweets'])\n",
    "neutral = int(st_df_hc[st_df_hc['Tono'] == 'Neutral']['Tweets'])\n",
    "print('Tweets Positivos: {0}%'.format(round(100*positive/total, 1)))\n",
    "print('Tweets Negativos: {0}%'.format(round(100*negative/total, 1)))\n",
    "print('Tweets Neutrales: {0}%'.format(round(100*neutral/total, 1)))"
   ]
  },
  {
   "cell_type": "markdown",
   "metadata": {},
   "source": [
    "#### Replies"
   ]
  },
  {
   "cell_type": "code",
   "execution_count": 34,
   "metadata": {},
   "outputs": [],
   "source": [
    "st = db.get_sentiment_tweets(type_query='replies', **{'partido': 'anr', 'movimiento': 'honor colorado',\n",
    "                                                      'no_movimiento': 'colorado añetete'})\n",
    "st_dict = {\n",
    "    'Tono': [],\n",
    "    'Tweets': []\n",
    "}\n",
    "for sen in st:\n",
    "    if sen['sentiment'] == 'positive':\n",
    "        st_dict['Tono'].append('Positivo')\n",
    "    elif sen['sentiment'] == 'negative':\n",
    "        st_dict['Tono'].append('Negativo')\n",
    "    else:\n",
    "        st_dict['Tono'].append('Neutral')\n",
    "    st_dict['Tweets'].append(sen['count'])\n",
    "st_df_hc = pd.DataFrame(st_dict)"
   ]
  },
  {
   "cell_type": "code",
   "execution_count": 35,
   "metadata": {},
   "outputs": [
    {
     "data": {
      "image/png": "[encoded data removed]",
      "text/plain": [
       "<matplotlib.figure.Figure at 0x12814ab38>"
      ]
     },
     "metadata": {},
     "output_type": "display_data"
    }
   ],
   "source": [
    "fig = sns.barplot(x='Tono', y='Tweets', data=st_df_hc, \n",
    "                  order=['Positivo', 'Neutral', 'Negativo'],\n",
    "                  palette=['green','gray', 'red'])\n",
    "ax=fig\n",
    "#annotate axis = seaborn axis\n",
    "for p in ax.patches:\n",
    "    ax.annotate(\"%d\" % p.get_height(), (p.get_x() + p.get_width() / 2., p.get_height()),\n",
    "                 ha='center', va='center', fontsize=12, color='black', xytext=(0, 10),\n",
    "                 textcoords='offset points')\n",
    "_ = fig.set_ylim(0,15000) #To make space for the annotations\n",
    "plt.show()"
   ]
  },
  {
   "cell_type": "code",
   "execution_count": 36,
   "metadata": {},
   "outputs": [
    {
     "name": "stdout",
     "output_type": "stream",
     "text": [
      "Tweets Positivos: 29.3%\n",
      "Tweets Negativos: 19.0%\n",
      "Tweets Neutrales: 51.7%\n"
     ]
    }
   ],
   "source": [
    "total = sum(st_df_hc['Tweets'])\n",
    "positive = int(st_df_hc[st_df_hc['Tono'] == 'Positivo']['Tweets'])\n",
    "negative = int(st_df_hc[st_df_hc['Tono'] == 'Negativo']['Tweets'])\n",
    "neutral = int(st_df_hc[st_df_hc['Tono'] == 'Neutral']['Tweets'])\n",
    "print('Tweets Positivos: {0}%'.format(round(100*positive/total, 1)))\n",
    "print('Tweets Negativos: {0}%'.format(round(100*negative/total, 1)))\n",
    "print('Tweets Neutrales: {0}%'.format(round(100*neutral/total, 1)))"
   ]
  },
  {
   "cell_type": "markdown",
   "metadata": {},
   "source": [
    "#### Quotes"
   ]
  },
  {
   "cell_type": "code",
   "execution_count": 37,
   "metadata": {},
   "outputs": [],
   "source": [
    "st = db.get_sentiment_tweets(type_query='quotes', **{'partido': 'anr', 'movimiento': 'honor colorado',\n",
    "                                                     'no_movimiento': 'colorado añetete'})\n",
    "st_dict = {\n",
    "    'Tono': [],\n",
    "    'Tweets': []\n",
    "}\n",
    "for sen in st:\n",
    "    if sen['sentiment'] == 'positive':\n",
    "        st_dict['Tono'].append('Positivo')\n",
    "    elif sen['sentiment'] == 'negative':\n",
    "        st_dict['Tono'].append('Negativo')\n",
    "    else:\n",
    "        st_dict['Tono'].append('Neutral')\n",
    "    st_dict['Tweets'].append(sen['count'])\n",
    "st_df_hc = pd.DataFrame(st_dict)"
   ]
  },
  {
   "cell_type": "code",
   "execution_count": 38,
   "metadata": {},
   "outputs": [
    {
     "data": {
      "image/png": "[encoded data removed]",
      "text/plain": [
       "<matplotlib.figure.Figure at 0x12f696128>"
      ]
     },
     "metadata": {},
     "output_type": "display_data"
    }
   ],
   "source": [
    "fig = sns.barplot(x='Tono', y='Tweets', data=st_df_hc, \n",
    "                  order=['Positivo', 'Neutral', 'Negativo'],\n",
    "                  palette=['green','gray', 'red'])\n",
    "ax=fig\n",
    "#annotate axis = seaborn axis\n",
    "for p in ax.patches:\n",
    "    ax.annotate(\"%d\" % p.get_height(), (p.get_x() + p.get_width() / 2., p.get_height()),\n",
    "                 ha='center', va='center', fontsize=12, color='black', xytext=(0, 10),\n",
    "                 textcoords='offset points')\n",
    "_ = fig.set_ylim(0,2300) #To make space for the annotations\n",
    "plt.show()"
   ]
  },
  {
   "cell_type": "code",
   "execution_count": 23,
   "metadata": {},
   "outputs": [
    {
     "name": "stdout",
     "output_type": "stream",
     "text": [
      "Tweets Positivos: 33.7%\n",
      "Tweets Negativos: 15.0%\n",
      "Tweets Neutrales: 51.3%\n"
     ]
    }
   ],
   "source": [
    "total = sum(st_df_hc['Tweets'])\n",
    "positive = int(st_df_hc[st_df_hc['Tono'] == 'Positivo']['Tweets'])\n",
    "negative = int(st_df_hc[st_df_hc['Tono'] == 'Negativo']['Tweets'])\n",
    "neutral = int(st_df_hc[st_df_hc['Tono'] == 'Neutral']['Tweets'])\n",
    "print('Tweets Positivos: {0}%'.format(round(100*positive/total, 1)))\n",
    "print('Tweets Negativos: {0}%'.format(round(100*negative/total, 1)))\n",
    "print('Tweets Neutrales: {0}%'.format(round(100*neutral/total, 1)))"
   ]
  },
  {
   "cell_type": "markdown",
   "metadata": {},
   "source": [
    "### Colorado Añeteté"
   ]
  },
  {
   "cell_type": "code",
   "execution_count": 39,
   "metadata": {},
   "outputs": [],
   "source": [
    "st = db.get_sentiment_tweets(**{'partido': 'anr', 'movimiento': 'colorado añetete', \n",
    "                                'no_movimiento': 'honor colorado'})\n",
    "st_dict = {\n",
    "    'Tono': [],\n",
    "    'Tweets': []\n",
    "}\n",
    "for sen in st:\n",
    "    if sen['sentiment'] == 'positive':\n",
    "        st_dict['Tono'].append('Positivo')\n",
    "    elif sen['sentiment'] == 'negative':\n",
    "        st_dict['Tono'].append('Negativo')\n",
    "    else:\n",
    "        st_dict['Tono'].append('Neutral')\n",
    "    st_dict['Tweets'].append(sen['count'])\n",
    "st_df_ca = pd.DataFrame(st_dict)"
   ]
  },
  {
   "cell_type": "code",
   "execution_count": 41,
   "metadata": {},
   "outputs": [
    {
     "data": {
      "image/png": "[encoded data removed]",
      "text/plain": [
       "<matplotlib.figure.Figure at 0x128163128>"
      ]
     },
     "metadata": {},
     "output_type": "display_data"
    }
   ],
   "source": [
    "fig = sns.barplot(x='Tono', y='Tweets', data=st_df_ca, \n",
    "                  order=['Positivo', 'Neutral', 'Negativo'],\n",
    "                  palette=['green','gray', 'red'])\n",
    "ax=fig\n",
    "#annotate axis = seaborn axis\n",
    "for p in ax.patches:\n",
    "    ax.annotate(\"%d\" % p.get_height(), (p.get_x() + p.get_width() / 2., p.get_height()),\n",
    "                 ha='center', va='center', fontsize=12, color='black', xytext=(0, 10),\n",
    "                 textcoords='offset points')\n",
    "_ = fig.set_ylim(0,9000) #To make space for the annotations\n",
    "plt.show()"
   ]
  },
  {
   "cell_type": "code",
   "execution_count": 42,
   "metadata": {},
   "outputs": [
    {
     "name": "stdout",
     "output_type": "stream",
     "text": [
      "Tweets Positivos: 36.5%\n",
      "Tweets Negativos: 15.0%\n",
      "Tweets Neutrales: 48.6%\n"
     ]
    }
   ],
   "source": [
    "total = sum(st_df_ca['Tweets'])\n",
    "positive = int(st_df_ca[st_df_ca['Tono'] == 'Positivo']['Tweets'])\n",
    "negative = int(st_df_ca[st_df_ca['Tono'] == 'Negativo']['Tweets'])\n",
    "neutral = int(st_df_ca[st_df_ca['Tono'] == 'Neutral']['Tweets'])\n",
    "print('Tweets Positivos: {0}%'.format(round(100*positive/total, 1)))\n",
    "print('Tweets Negativos: {0}%'.format(round(100*negative/total, 1)))\n",
    "print('Tweets Neutrales: {0}%'.format(round(100*neutral/total, 1)))"
   ]
  },
  {
   "cell_type": "markdown",
   "metadata": {},
   "source": [
    "#### Tweets Originales"
   ]
  },
  {
   "cell_type": "code",
   "execution_count": 43,
   "metadata": {},
   "outputs": [],
   "source": [
    "st = db.get_sentiment_tweets(type_query = 'original', **{'partido': 'anr', 'movimiento': 'colorado añetete',\n",
    "                                                         'no_movimiento': 'honor colorado'})\n",
    "st_dict = {\n",
    "    'Tono': [],\n",
    "    'Tweets': []\n",
    "}\n",
    "for sen in st:\n",
    "    if sen['sentiment'] == 'positive':\n",
    "        st_dict['Tono'].append('Positivo')\n",
    "    elif sen['sentiment'] == 'negative':\n",
    "        st_dict['Tono'].append('Negativo')\n",
    "    else:\n",
    "        st_dict['Tono'].append('Neutral')\n",
    "    st_dict['Tweets'].append(sen['count'])\n",
    "st_df_ca = pd.DataFrame(st_dict)"
   ]
  },
  {
   "cell_type": "code",
   "execution_count": 48,
   "metadata": {},
   "outputs": [
    {
     "data": {
      "image/png": "[encoded data removed]",
      "text/plain": [
       "<matplotlib.figure.Figure at 0x11b7f91d0>"
      ]
     },
     "metadata": {},
     "output_type": "display_data"
    }
   ],
   "source": [
    "fig = sns.barplot(x='Tono', y='Tweets', data=st_df_ca, \n",
    "                  order=['Positivo', 'Neutral', 'Negativo'],\n",
    "                  palette=['green','gray', 'red'])\n",
    "ax=fig\n",
    "#annotate axis = seaborn axis\n",
    "for p in ax.patches:\n",
    "    ax.annotate(\"%d\" % p.get_height(), (p.get_x() + p.get_width() / 2., p.get_height()),\n",
    "                 ha='center', va='center', fontsize=12, color='black', xytext=(0, 10),\n",
    "                 textcoords='offset points')\n",
    "_ = fig.set_ylim(0,2300) #To make space for the annotations\n",
    "plt.show()"
   ]
  },
  {
   "cell_type": "code",
   "execution_count": 49,
   "metadata": {},
   "outputs": [
    {
     "name": "stdout",
     "output_type": "stream",
     "text": [
      "Tweets Positivos: 43.3%\n",
      "Tweets Negativos: 14.4%\n",
      "Tweets Neutrales: 42.3%\n"
     ]
    }
   ],
   "source": [
    "total = sum(st_df_ca['Tweets'])\n",
    "positive = int(st_df_ca[st_df_ca['Tono'] == 'Positivo']['Tweets'])\n",
    "negative = int(st_df_ca[st_df_ca['Tono'] == 'Negativo']['Tweets'])\n",
    "neutral = int(st_df_ca[st_df_ca['Tono'] == 'Neutral']['Tweets'])\n",
    "print('Tweets Positivos: {0}%'.format(round(100*positive/total, 1)))\n",
    "print('Tweets Negativos: {0}%'.format(round(100*negative/total, 1)))\n",
    "print('Tweets Neutrales: {0}%'.format(round(100*neutral/total, 1)))"
   ]
  },
  {
   "cell_type": "markdown",
   "metadata": {},
   "source": [
    "#### Replies"
   ]
  },
  {
   "cell_type": "code",
   "execution_count": 50,
   "metadata": {},
   "outputs": [],
   "source": [
    "st = db.get_sentiment_tweets(type_query = 'replies', **{'partido': 'anr', 'movimiento': 'colorado añetete',\n",
    "                                                        'no_movimiento': 'honor colorado'})\n",
    "st_dict = {\n",
    "    'Tono': [],\n",
    "    'Tweets': []\n",
    "}\n",
    "for sen in st:\n",
    "    if sen['sentiment'] == 'positive':\n",
    "        st_dict['Tono'].append('Positivo')\n",
    "    elif sen['sentiment'] == 'negative':\n",
    "        st_dict['Tono'].append('Negativo')\n",
    "    else:\n",
    "        st_dict['Tono'].append('Neutral')\n",
    "    st_dict['Tweets'].append(sen['count'])\n",
    "st_df_ca = pd.DataFrame(st_dict)"
   ]
  },
  {
   "cell_type": "code",
   "execution_count": 52,
   "metadata": {},
   "outputs": [
    {
     "data": {
      "image/png": "[encoded data removed]",
      "text/plain": [
       "<matplotlib.figure.Figure at 0x122b39710>"
      ]
     },
     "metadata": {},
     "output_type": "display_data"
    }
   ],
   "source": [
    "fig = sns.barplot(x='Tono', y='Tweets', data=st_df_ca, \n",
    "                  order=['Positivo', 'Neutral', 'Negativo'],\n",
    "                  palette=['green','gray', 'red'])\n",
    "ax=fig\n",
    "#annotate axis = seaborn axis\n",
    "for p in ax.patches:\n",
    "    ax.annotate(\"%d\" % p.get_height(), (p.get_x() + p.get_width() / 2., p.get_height()),\n",
    "                 ha='center', va='center', fontsize=12, color='black', xytext=(0, 10),\n",
    "                 textcoords='offset points')\n",
    "_ = fig.set_ylim(0,6000) #To make space for the annotations\n",
    "plt.show()"
   ]
  },
  {
   "cell_type": "code",
   "execution_count": 53,
   "metadata": {},
   "outputs": [
    {
     "name": "stdout",
     "output_type": "stream",
     "text": [
      "Tweets Positivos: 31.4%\n",
      "Tweets Negativos: 16.2%\n",
      "Tweets Neutrales: 52.4%\n"
     ]
    }
   ],
   "source": [
    "total = sum(st_df_ca['Tweets'])\n",
    "positive = int(st_df_ca[st_df_ca['Tono'] == 'Positivo']['Tweets'])\n",
    "negative = int(st_df_ca[st_df_ca['Tono'] == 'Negativo']['Tweets'])\n",
    "neutral = int(st_df_ca[st_df_ca['Tono'] == 'Neutral']['Tweets'])\n",
    "print('Tweets Positivos: {0}%'.format(round(100*positive/total, 1)))\n",
    "print('Tweets Negativos: {0}%'.format(round(100*negative/total, 1)))\n",
    "print('Tweets Neutrales: {0}%'.format(round(100*neutral/total, 1)))"
   ]
  },
  {
   "cell_type": "markdown",
   "metadata": {},
   "source": [
    "#### Quotes"
   ]
  },
  {
   "cell_type": "code",
   "execution_count": 57,
   "metadata": {},
   "outputs": [],
   "source": [
    "st = db.get_sentiment_tweets(type_query = 'quotes', **{'partido': 'anr', 'movimiento': 'colorado añetete',\n",
    "                                                       'no_movimiento': 'honor colorado'})\n",
    "st_dict = {\n",
    "    'Tono': [],\n",
    "    'Tweets': []\n",
    "}\n",
    "for sen in st:\n",
    "    if sen['sentiment'] == 'positive':\n",
    "        st_dict['Tono'].append('Positivo')\n",
    "    elif sen['sentiment'] == 'negative':\n",
    "        st_dict['Tono'].append('Negativo')\n",
    "    else:\n",
    "        st_dict['Tono'].append('Neutral')\n",
    "    st_dict['Tweets'].append(sen['count'])\n",
    "st_df_ca = pd.DataFrame(st_dict)"
   ]
  },
  {
   "cell_type": "code",
   "execution_count": 58,
   "metadata": {},
   "outputs": [
    {
     "data": {
      "image/png": "[encoded data removed]",
      "text/plain": [
       "<matplotlib.figure.Figure at 0x10dcf9390>"
      ]
     },
     "metadata": {},
     "output_type": "display_data"
    }
   ],
   "source": [
    "fig = sns.barplot(x='Tono', y='Tweets', data=st_df_ca, \n",
    "                  order=['Positivo', 'Neutral', 'Negativo'],\n",
    "                  palette=['green','gray', 'red'])\n",
    "ax=fig\n",
    "#annotate axis = seaborn axis\n",
    "for p in ax.patches:\n",
    "    ax.annotate(\"%d\" % p.get_height(), (p.get_x() + p.get_width() / 2., p.get_height()),\n",
    "                 ha='center', va='center', fontsize=12, color='black', xytext=(0, 10),\n",
    "                 textcoords='offset points')\n",
    "_ = fig.set_ylim(0,950) #To make space for the annotations\n",
    "plt.show()"
   ]
  },
  {
   "cell_type": "code",
   "execution_count": 59,
   "metadata": {},
   "outputs": [
    {
     "name": "stdout",
     "output_type": "stream",
     "text": [
      "Tweets Positivos: 47.9%\n",
      "Tweets Negativos: 8.8%\n",
      "Tweets Neutrales: 43.3%\n"
     ]
    }
   ],
   "source": [
    "total = sum(st_df_ca['Tweets'])\n",
    "positive = int(st_df_ca[st_df_ca['Tono'] == 'Positivo']['Tweets'])\n",
    "negative = int(st_df_ca[st_df_ca['Tono'] == 'Negativo']['Tweets'])\n",
    "neutral = int(st_df_ca[st_df_ca['Tono'] == 'Neutral']['Tweets'])\n",
    "print('Tweets Positivos: {0}%'.format(round(100*positive/total, 1)))\n",
    "print('Tweets Negativos: {0}%'.format(round(100*negative/total, 1)))\n",
    "print('Tweets Neutrales: {0}%'.format(round(100*neutral/total, 1)))"
   ]
  },
  {
   "cell_type": "markdown",
   "metadata": {},
   "source": [
    "La distribución de tweets por tonalidad es bastante similar en ambos movimientos. Los resultados se mantienen aún dividiendo el análisis por tipo de tweet: original, reply, quote. Un aspecto interesante es que la distribución de tonalidades es ligeramente diferente para el movimiento **`Colorado Añeteté`** en cuanto a tweets originales y quotes, donde los tweets positivos sobre pasan a los neutrales."
   ]
  },
  {
   "cell_type": "markdown",
   "metadata": {},
   "source": [
    "## Distribución de Tweets por contenido"
   ]
  },
  {
   "cell_type": "markdown",
   "metadata": {},
   "source": [
    "En este análisis se consideran solo tweets originales, replies, y quotes. Los retweets son descartados."
   ]
  },
  {
   "cell_type": "code",
   "execution_count": 70,
   "metadata": {},
   "outputs": [],
   "source": [
    "tot_tweets_anr_no_rt = num_original_tweets_hc + num_replies_hc + num_quotes_hc + num_original_tweets_ca + \\\n",
    "                       num_replies_ca + num_quotes_ca"
   ]
  },
  {
   "cell_type": "markdown",
   "metadata": {},
   "source": [
    "### Planos"
   ]
  },
  {
   "cell_type": "markdown",
   "metadata": {},
   "source": [
    "Solo texto sin links, fotos, o videos."
   ]
  },
  {
   "cell_type": "code",
   "execution_count": 71,
   "metadata": {},
   "outputs": [],
   "source": [
    "pt = db.get_plain_tweets(**{'partido': 'anr'})"
   ]
  },
  {
   "cell_type": "markdown",
   "metadata": {},
   "source": [
    "### Links"
   ]
  },
  {
   "cell_type": "markdown",
   "metadata": {},
   "source": [
    "Tweets con links"
   ]
  },
  {
   "cell_type": "code",
   "execution_count": 72,
   "metadata": {},
   "outputs": [],
   "source": [
    "lt = db.get_tweets_with_links(**{'partido': 'anr'})"
   ]
  },
  {
   "cell_type": "markdown",
   "metadata": {},
   "source": [
    "#### Top-10 dominios más frecuentes"
   ]
  },
  {
   "cell_type": "code",
   "execution_count": 24,
   "metadata": {},
   "outputs": [],
   "source": [
    "la = LinkAnalyzer()\n",
    "domains_url, domains = la.get_domains_and_freq(save_to_file=False, **{'partido': 'anr'})"
   ]
  },
  {
   "cell_type": "code",
   "execution_count": 25,
   "metadata": {},
   "outputs": [
    {
     "data": {
      "text/html": [
       "<div>\n",
       "<style scoped>\n",
       "    .dataframe tbody tr th:only-of-type {\n",
       "        vertical-align: middle;\n",
       "    }\n",
       "\n",
       "    .dataframe tbody tr th {\n",
       "        vertical-align: top;\n",
       "    }\n",
       "\n",
       "    .dataframe thead th {\n",
       "        text-align: right;\n",
       "    }\n",
       "</style>\n",
       "<table border=\"1\" class=\"dataframe\">\n",
       "  <thead>\n",
       "    <tr style=\"text-align: right;\">\n",
       "      <th></th>\n",
       "      <th>Domain</th>\n",
       "      <th>Tweets</th>\n",
       "    </tr>\n",
       "  </thead>\n",
       "  <tbody>\n",
       "    <tr>\n",
       "      <th>0</th>\n",
       "      <td>messenger</td>\n",
       "      <td>154</td>\n",
       "    </tr>\n",
       "    <tr>\n",
       "      <th>1</th>\n",
       "      <td>youtube</td>\n",
       "      <td>150</td>\n",
       "    </tr>\n",
       "    <tr>\n",
       "      <th>2</th>\n",
       "      <td>facebook</td>\n",
       "      <td>98</td>\n",
       "    </tr>\n",
       "    <tr>\n",
       "      <th>3</th>\n",
       "      <td>abc</td>\n",
       "      <td>82</td>\n",
       "    </tr>\n",
       "    <tr>\n",
       "      <th>4</th>\n",
       "      <td>ultimahora</td>\n",
       "      <td>36</td>\n",
       "    </tr>\n",
       "    <tr>\n",
       "      <th>5</th>\n",
       "      <td>efe</td>\n",
       "      <td>20</td>\n",
       "    </tr>\n",
       "    <tr>\n",
       "      <th>6</th>\n",
       "      <td>radio1000</td>\n",
       "      <td>18</td>\n",
       "    </tr>\n",
       "    <tr>\n",
       "      <th>7</th>\n",
       "      <td>goo</td>\n",
       "      <td>18</td>\n",
       "    </tr>\n",
       "    <tr>\n",
       "      <th>8</th>\n",
       "      <td>lavozdigital</td>\n",
       "      <td>17</td>\n",
       "    </tr>\n",
       "    <tr>\n",
       "      <th>9</th>\n",
       "      <td>instagram</td>\n",
       "      <td>14</td>\n",
       "    </tr>\n",
       "  </tbody>\n",
       "</table>\n",
       "</div>"
      ],
      "text/plain": [
       "         Domain  Tweets\n",
       "0     messenger     154\n",
       "1       youtube     150\n",
       "2      facebook      98\n",
       "3           abc      82\n",
       "4    ultimahora      36\n",
       "5           efe      20\n",
       "6     radio1000      18\n",
       "7           goo      18\n",
       "8  lavozdigital      17\n",
       "9     instagram      14"
      ]
     },
     "execution_count": 25,
     "metadata": {},
     "output_type": "execute_result"
    }
   ],
   "source": [
    "domains_freq = pd.DataFrame(domains, columns=['Domain','Tweets'])\n",
    "domains_freq[:10]"
   ]
  },
  {
   "cell_type": "markdown",
   "metadata": {},
   "source": [
    "### Fotos"
   ]
  },
  {
   "cell_type": "markdown",
   "metadata": {},
   "source": [
    "Tweets con fotos"
   ]
  },
  {
   "cell_type": "code",
   "execution_count": 73,
   "metadata": {},
   "outputs": [],
   "source": [
    "pht = db.get_tweets_with_photo(**{'partido': 'anr'})"
   ]
  },
  {
   "cell_type": "markdown",
   "metadata": {},
   "source": [
    "#### Ejemplo"
   ]
  },
  {
   "cell_type": "code",
   "execution_count": 27,
   "metadata": {},
   "outputs": [
    {
     "data": {
      "text/html": [
       "\n",
       "<blockquote class=\"twitter-tweet\" data-lang=\"en\"><p lang=\"es\" dir=\"ltr\">Sumate al equipo ganador. ¡Votá <a href=\"https://twitter.com/hashtag/Lista2?src=hash&amp;ref_src=twsrc%5Etfw\">#Lista2</a>! <a href=\"https://t.co/DOVRIcMWNX\">pic.twitter.com/DOVRIcMWNX</a></p>&mdash; Santiago Peña (@SantiPenap) <a href=\"https://twitter.com/SantiPenap/status/936853394278330369?ref_src=twsrc%5Etfw\">December 2, 2017</a></blockquote>\n",
       "<script async src=\"https://platform.twitter.com/widgets.js\" charset=\"utf-8\"></script>\n"
      ],
      "text/plain": [
       "<__main__.Tweet at 0x1215520b8>"
      ]
     },
     "execution_count": 27,
     "metadata": {},
     "output_type": "execute_result"
    }
   ],
   "source": [
    "s = (\"\"\"\n",
    "<blockquote class=\"twitter-tweet\" data-lang=\"en\"><p lang=\"es\" dir=\"ltr\">Sumate al equipo ganador. ¡Votá <a href=\"https://twitter.com/hashtag/Lista2?src=hash&amp;ref_src=twsrc%5Etfw\">#Lista2</a>! <a href=\"https://t.co/DOVRIcMWNX\">pic.twitter.com/DOVRIcMWNX</a></p>&mdash; Santiago Peña (@SantiPenap) <a href=\"https://twitter.com/SantiPenap/status/936853394278330369?ref_src=twsrc%5Etfw\">December 2, 2017</a></blockquote>\n",
    "<script async src=\"https://platform.twitter.com/widgets.js\" charset=\"utf-8\"></script>\n",
    "\"\"\")\n",
    "Tweet(s)"
   ]
  },
  {
   "cell_type": "markdown",
   "metadata": {},
   "source": [
    "### Videos"
   ]
  },
  {
   "cell_type": "markdown",
   "metadata": {},
   "source": [
    "Tweets con video"
   ]
  },
  {
   "cell_type": "code",
   "execution_count": 17,
   "metadata": {},
   "outputs": [],
   "source": [
    "vt = db.get_tweets_with_video(**{'partido': 'anr'})"
   ]
  },
  {
   "cell_type": "code",
   "execution_count": 22,
   "metadata": {},
   "outputs": [
    {
     "data": {
      "image/png": "[encoded data removed]",
      "text/plain": [
       "<matplotlib.figure.Figure at 0x17941def0>"
      ]
     },
     "metadata": {
      "needs_background": "light"
     },
     "output_type": "display_data"
    }
   ],
   "source": [
    "dis = pd.DataFrame(\n",
    "    {\n",
    "        'Tipo': ['Plano', 'Link', 'Foto', 'Video'],\n",
    "        '% Tweets': [\n",
    "            round(100*(len(pt)/tot_tweets_anr_no_rt),1),\n",
    "            round(100*(len(lt)/tot_tweets_anr_no_rt),1),\n",
    "            round(100*(len(pht)/tot_tweets_anr_no_rt),1),\n",
    "            round(100*(len(vt)/tot_tweets_anr_no_rt),1)\n",
    "        ]\n",
    "    }\n",
    ")\n",
    "fig = sns.barplot(x='Tipo', y='% Tweets', data=dis, order=['Plano', 'Foto', 'Link', 'Video'])\n",
    "ax=fig\n",
    "#annotate axis = seaborn axis\n",
    "for p in ax.patches:\n",
    "    ax.annotate(\"{0}%\".format(p.get_height()), (p.get_x() + p.get_width() / 2., p.get_height()),\n",
    "                 ha='center', va='center', fontsize=12, color='black', xytext=(0, 10),\n",
    "                 textcoords='offset points')\n",
    "_ = fig.set_ylim(0,100) #To make space for the annotations\n",
    "plt.show()"
   ]
  },
  {
   "cell_type": "markdown",
   "metadata": {},
   "source": [
    "### Honor Colorado"
   ]
  },
  {
   "cell_type": "code",
   "execution_count": 29,
   "metadata": {},
   "outputs": [],
   "source": [
    "tot_tws_hc = len(original_tweets_hc) + len(replies_hc) + len(quotes_hc)"
   ]
  },
  {
   "cell_type": "markdown",
   "metadata": {},
   "source": [
    "### Planos"
   ]
  },
  {
   "cell_type": "markdown",
   "metadata": {},
   "source": [
    "Solo texto sin links, fotos, o videos."
   ]
  },
  {
   "cell_type": "code",
   "execution_count": 30,
   "metadata": {},
   "outputs": [],
   "source": [
    "pt = db.get_plain_tweets(**{'partido': 'anr', 'movimiento': 'honor colorado'})"
   ]
  },
  {
   "cell_type": "code",
   "execution_count": 31,
   "metadata": {},
   "outputs": [
    {
     "name": "stdout",
     "output_type": "stream",
     "text": [
      "Existen 31189 tweets planos. Representan el 86.7% del total de tweets originales, replies, y quotes de HC.\n"
     ]
    }
   ],
   "source": [
    "print('Existen {0} tweets planos. Representan el {1}% del total de tweets originales, replies, y quotes de HC.'.\n",
    "      format(len(pt), round(100*(len(pt)/tot_tws_hc),1)))"
   ]
  },
  {
   "cell_type": "markdown",
   "metadata": {},
   "source": [
    "### Links"
   ]
  },
  {
   "cell_type": "markdown",
   "metadata": {},
   "source": [
    "Tweets con links"
   ]
  },
  {
   "cell_type": "code",
   "execution_count": 32,
   "metadata": {},
   "outputs": [],
   "source": [
    "lt = db.get_tweets_with_links(**{'partido': 'anr', 'movimiento': 'honor colorado'})"
   ]
  },
  {
   "cell_type": "code",
   "execution_count": 44,
   "metadata": {},
   "outputs": [
    {
     "name": "stdout",
     "output_type": "stream",
     "text": [
      "Existen 503 tweets con links. Representan el 1.4% del total de tweets originales, replies, y quotes de HC.\n"
     ]
    }
   ],
   "source": [
    "print('Existen {0} tweets con links. Representan el {1}% del total de tweets originales, replies, y quotes de HC.'.\n",
    "      format(len(lt), round(100*(len(lt)/tot_tws_hc),1)))"
   ]
  },
  {
   "cell_type": "markdown",
   "metadata": {},
   "source": [
    "#### Top-10 dominios más frecuentes"
   ]
  },
  {
   "cell_type": "code",
   "execution_count": 60,
   "metadata": {},
   "outputs": [],
   "source": [
    "la = LinkAnalyzer()\n",
    "domains_url, domains = la.get_domains_and_freq(save_to_file=False, \n",
    "                                               **{'partido': 'anr', 'movimiento': 'honor colorado'})"
   ]
  },
  {
   "cell_type": "code",
   "execution_count": 61,
   "metadata": {},
   "outputs": [
    {
     "data": {
      "text/html": [
       "<div>\n",
       "<style scoped>\n",
       "    .dataframe tbody tr th:only-of-type {\n",
       "        vertical-align: middle;\n",
       "    }\n",
       "\n",
       "    .dataframe tbody tr th {\n",
       "        vertical-align: top;\n",
       "    }\n",
       "\n",
       "    .dataframe thead th {\n",
       "        text-align: right;\n",
       "    }\n",
       "</style>\n",
       "<table border=\"1\" class=\"dataframe\">\n",
       "  <thead>\n",
       "    <tr style=\"text-align: right;\">\n",
       "      <th></th>\n",
       "      <th>Domain</th>\n",
       "      <th>Tweets</th>\n",
       "    </tr>\n",
       "  </thead>\n",
       "  <tbody>\n",
       "    <tr>\n",
       "      <th>0</th>\n",
       "      <td>youtube</td>\n",
       "      <td>133</td>\n",
       "    </tr>\n",
       "    <tr>\n",
       "      <th>1</th>\n",
       "      <td>abc</td>\n",
       "      <td>57</td>\n",
       "    </tr>\n",
       "    <tr>\n",
       "      <th>2</th>\n",
       "      <td>facebook</td>\n",
       "      <td>51</td>\n",
       "    </tr>\n",
       "    <tr>\n",
       "      <th>3</th>\n",
       "      <td>ultimahora</td>\n",
       "      <td>16</td>\n",
       "    </tr>\n",
       "    <tr>\n",
       "      <th>4</th>\n",
       "      <td>efe</td>\n",
       "      <td>16</td>\n",
       "    </tr>\n",
       "    <tr>\n",
       "      <th>5</th>\n",
       "      <td>lavozdigital</td>\n",
       "      <td>12</td>\n",
       "    </tr>\n",
       "    <tr>\n",
       "      <th>6</th>\n",
       "      <td>rdn</td>\n",
       "      <td>8</td>\n",
       "    </tr>\n",
       "    <tr>\n",
       "      <th>7</th>\n",
       "      <td>santipresidente</td>\n",
       "      <td>8</td>\n",
       "    </tr>\n",
       "    <tr>\n",
       "      <th>8</th>\n",
       "      <td>twitter</td>\n",
       "      <td>7</td>\n",
       "    </tr>\n",
       "    <tr>\n",
       "      <th>9</th>\n",
       "      <td>780am</td>\n",
       "      <td>5</td>\n",
       "    </tr>\n",
       "  </tbody>\n",
       "</table>\n",
       "</div>"
      ],
      "text/plain": [
       "            Domain  Tweets\n",
       "0          youtube     133\n",
       "1              abc      57\n",
       "2         facebook      51\n",
       "3       ultimahora      16\n",
       "4              efe      16\n",
       "5     lavozdigital      12\n",
       "6              rdn       8\n",
       "7  santipresidente       8\n",
       "8          twitter       7\n",
       "9            780am       5"
      ]
     },
     "execution_count": 61,
     "metadata": {},
     "output_type": "execute_result"
    }
   ],
   "source": [
    "domains_freq = pd.DataFrame(domains, columns=['Domain','Tweets'])\n",
    "domains_freq[:10]"
   ]
  },
  {
   "cell_type": "markdown",
   "metadata": {},
   "source": [
    "### Fotos"
   ]
  },
  {
   "cell_type": "markdown",
   "metadata": {},
   "source": [
    "Tweets con fotos"
   ]
  },
  {
   "cell_type": "code",
   "execution_count": 35,
   "metadata": {},
   "outputs": [],
   "source": [
    "pht = db.get_tweets_with_photo(**{'partido': 'anr', 'movimiento': 'honor colorado'})"
   ]
  },
  {
   "cell_type": "code",
   "execution_count": 45,
   "metadata": {},
   "outputs": [
    {
     "name": "stdout",
     "output_type": "stream",
     "text": [
      "Existen 4296 tweets con fotos. Representan el 11.9% del total de tweets originales, replies, y quotes de HC.\n"
     ]
    }
   ],
   "source": [
    "print('Existen {0} tweets con fotos. Representan el {1}% del total de tweets originales, replies, y quotes de HC.'.\n",
    "      format(len(pht), round(100*(len(pht)/tot_tws_hc),1)))"
   ]
  },
  {
   "cell_type": "markdown",
   "metadata": {},
   "source": [
    "### Videos"
   ]
  },
  {
   "cell_type": "markdown",
   "metadata": {},
   "source": [
    "Tweets con video"
   ]
  },
  {
   "cell_type": "code",
   "execution_count": 37,
   "metadata": {},
   "outputs": [],
   "source": [
    "vt = db.get_tweets_with_video(**{'partido': 'anr', 'movimiento': 'honor colorado'})"
   ]
  },
  {
   "cell_type": "code",
   "execution_count": 46,
   "metadata": {},
   "outputs": [
    {
     "name": "stdout",
     "output_type": "stream",
     "text": [
      "Existen 0 tweets videos. Representan el 0.0% del total de tweets originales, replies, y quotes de HC.\n"
     ]
    }
   ],
   "source": [
    "print('Existen {0} tweets videos. Representan el {1}% del total de tweets originales, replies, y quotes de HC.'.\n",
    "      format(len(vt), round(100*(len(vt)/tot_tws_hc),1)))"
   ]
  },
  {
   "cell_type": "code",
   "execution_count": 39,
   "metadata": {},
   "outputs": [
    {
     "data": {
      "image/png": "[encoded data removed]",
      "text/plain": [
       "<matplotlib.figure.Figure at 0x15de0cdd8>"
      ]
     },
     "metadata": {
      "needs_background": "light"
     },
     "output_type": "display_data"
    }
   ],
   "source": [
    "dis = pd.DataFrame(\n",
    "    {\n",
    "        'Tipo': ['Plano', 'Link', 'Foto', 'Video'],\n",
    "        '% Tweets': [\n",
    "            round(100*(len(pt)/tot_tws_hc),1),\n",
    "            round(100*(len(lt)/tot_tws_hc),1),\n",
    "            round(100*(len(pht)/tot_tws_hc),1),\n",
    "            round(100*(len(vt)/tot_tws_hc),1)\n",
    "        ]\n",
    "    }\n",
    ")\n",
    "fig = sns.barplot(x='Tipo', y='% Tweets', data=dis, order=['Plano', 'Foto', 'Link', 'Video'])\n",
    "ax=fig\n",
    "#annotate axis = seaborn axis\n",
    "for p in ax.patches:\n",
    "    ax.annotate(\"{0}%\".format(p.get_height()), (p.get_x() + p.get_width() / 2., p.get_height()),\n",
    "                 ha='center', va='center', fontsize=12, color='black', xytext=(0, 10),\n",
    "                 textcoords='offset points')\n",
    "_ = fig.set_ylim(0,100) #To make space for the annotations\n",
    "plt.show()"
   ]
  },
  {
   "cell_type": "markdown",
   "metadata": {},
   "source": [
    "### Colorado Añeteté"
   ]
  },
  {
   "cell_type": "code",
   "execution_count": 41,
   "metadata": {},
   "outputs": [],
   "source": [
    "tot_tws_ca = len(original_tweets_ca) + len(replies_ca) + len(quotes_ca)"
   ]
  },
  {
   "cell_type": "markdown",
   "metadata": {},
   "source": [
    "### Planos"
   ]
  },
  {
   "cell_type": "markdown",
   "metadata": {},
   "source": [
    "Solo texto sin links, fotos, o videos."
   ]
  },
  {
   "cell_type": "code",
   "execution_count": 47,
   "metadata": {},
   "outputs": [],
   "source": [
    "pt = db.get_plain_tweets(**{'partido': 'anr', 'movimiento': 'colorado añetete'})"
   ]
  },
  {
   "cell_type": "code",
   "execution_count": 48,
   "metadata": {},
   "outputs": [
    {
     "name": "stdout",
     "output_type": "stream",
     "text": [
      "Existen 18040 tweets planos. Representan el 84.1% del total de tweets originales, replies, y quotes de CA.\n"
     ]
    }
   ],
   "source": [
    "print('Existen {0} tweets planos. Representan el {1}% del total de tweets originales, replies, y quotes de CA.'.\n",
    "      format(len(pt), round(100*(len(pt)/tot_tws_ca),1)))"
   ]
  },
  {
   "cell_type": "markdown",
   "metadata": {},
   "source": [
    "### Links"
   ]
  },
  {
   "cell_type": "markdown",
   "metadata": {},
   "source": [
    "Tweets con links"
   ]
  },
  {
   "cell_type": "code",
   "execution_count": 49,
   "metadata": {},
   "outputs": [],
   "source": [
    "lt = db.get_tweets_with_links(**{'partido': 'anr', 'movimiento': 'colorado añetete'})"
   ]
  },
  {
   "cell_type": "code",
   "execution_count": 54,
   "metadata": {},
   "outputs": [
    {
     "name": "stdout",
     "output_type": "stream",
     "text": [
      "Existen 617 tweets con links. Representan el 2.9% del total de tweets originales, replies, y quotes de CA.\n"
     ]
    }
   ],
   "source": [
    "print('Existen {0} tweets con links. Representan el {1}% del total de tweets originales, replies, y quotes de CA.'.\n",
    "      format(len(lt), round(100*(len(lt)/tot_tws_ca),1)))"
   ]
  },
  {
   "cell_type": "markdown",
   "metadata": {},
   "source": [
    "#### Top-10 dominios más frecuentes"
   ]
  },
  {
   "cell_type": "code",
   "execution_count": 62,
   "metadata": {},
   "outputs": [],
   "source": [
    "la = LinkAnalyzer()\n",
    "domains_url, domains = la.get_domains_and_freq(save_to_file=False, \n",
    "                                               **{'partido': 'anr', 'movimiento': 'colorado añetete'})"
   ]
  },
  {
   "cell_type": "code",
   "execution_count": 63,
   "metadata": {},
   "outputs": [
    {
     "data": {
      "text/html": [
       "<div>\n",
       "<style scoped>\n",
       "    .dataframe tbody tr th:only-of-type {\n",
       "        vertical-align: middle;\n",
       "    }\n",
       "\n",
       "    .dataframe tbody tr th {\n",
       "        vertical-align: top;\n",
       "    }\n",
       "\n",
       "    .dataframe thead th {\n",
       "        text-align: right;\n",
       "    }\n",
       "</style>\n",
       "<table border=\"1\" class=\"dataframe\">\n",
       "  <thead>\n",
       "    <tr style=\"text-align: right;\">\n",
       "      <th></th>\n",
       "      <th>Domain</th>\n",
       "      <th>Tweets</th>\n",
       "    </tr>\n",
       "  </thead>\n",
       "  <tbody>\n",
       "    <tr>\n",
       "      <th>0</th>\n",
       "      <td>messenger</td>\n",
       "      <td>154</td>\n",
       "    </tr>\n",
       "    <tr>\n",
       "      <th>1</th>\n",
       "      <td>facebook</td>\n",
       "      <td>48</td>\n",
       "    </tr>\n",
       "    <tr>\n",
       "      <th>2</th>\n",
       "      <td>abc</td>\n",
       "      <td>34</td>\n",
       "    </tr>\n",
       "    <tr>\n",
       "      <th>3</th>\n",
       "      <td>ultimahora</td>\n",
       "      <td>22</td>\n",
       "    </tr>\n",
       "    <tr>\n",
       "      <th>4</th>\n",
       "      <td>youtube</td>\n",
       "      <td>20</td>\n",
       "    </tr>\n",
       "    <tr>\n",
       "      <th>5</th>\n",
       "      <td>radio1000</td>\n",
       "      <td>18</td>\n",
       "    </tr>\n",
       "    <tr>\n",
       "      <th>6</th>\n",
       "      <td>instagram</td>\n",
       "      <td>11</td>\n",
       "    </tr>\n",
       "    <tr>\n",
       "      <th>7</th>\n",
       "      <td>lavozdigital</td>\n",
       "      <td>10</td>\n",
       "    </tr>\n",
       "    <tr>\n",
       "      <th>8</th>\n",
       "      <td>nanduti</td>\n",
       "      <td>8</td>\n",
       "    </tr>\n",
       "    <tr>\n",
       "      <th>9</th>\n",
       "      <td>goo</td>\n",
       "      <td>7</td>\n",
       "    </tr>\n",
       "  </tbody>\n",
       "</table>\n",
       "</div>"
      ],
      "text/plain": [
       "         Domain  Tweets\n",
       "0     messenger     154\n",
       "1      facebook      48\n",
       "2           abc      34\n",
       "3    ultimahora      22\n",
       "4       youtube      20\n",
       "5     radio1000      18\n",
       "6     instagram      11\n",
       "7  lavozdigital      10\n",
       "8       nanduti       8\n",
       "9           goo       7"
      ]
     },
     "execution_count": 63,
     "metadata": {},
     "output_type": "execute_result"
    }
   ],
   "source": [
    "domains_freq = pd.DataFrame(domains, columns=['Domain','Tweets'])\n",
    "domains_freq[:10]"
   ]
  },
  {
   "cell_type": "markdown",
   "metadata": {},
   "source": [
    "### Fotos"
   ]
  },
  {
   "cell_type": "markdown",
   "metadata": {},
   "source": [
    "Tweets con fotos"
   ]
  },
  {
   "cell_type": "code",
   "execution_count": 52,
   "metadata": {},
   "outputs": [],
   "source": [
    "pht = db.get_tweets_with_photo(**{'partido': 'anr', 'movimiento': 'colorado añetete'})"
   ]
  },
  {
   "cell_type": "code",
   "execution_count": 55,
   "metadata": {},
   "outputs": [
    {
     "name": "stdout",
     "output_type": "stream",
     "text": [
      "Existen 2791 tweets con fotos. Representan el 13.0% del total de tweets originales, replies, y quotes de CA.\n"
     ]
    }
   ],
   "source": [
    "print('Existen {0} tweets con fotos. Representan el {1}% del total de tweets originales, replies, y quotes de CA.'.\n",
    "      format(len(pht), round(100*(len(pht)/tot_tws_ca),1)))"
   ]
  },
  {
   "cell_type": "markdown",
   "metadata": {},
   "source": [
    "### Videos"
   ]
  },
  {
   "cell_type": "markdown",
   "metadata": {},
   "source": [
    "Tweets con video"
   ]
  },
  {
   "cell_type": "code",
   "execution_count": 56,
   "metadata": {},
   "outputs": [],
   "source": [
    "vt = db.get_tweets_with_video(**{'partido': 'anr', 'movimiento': 'colorado añetete'})"
   ]
  },
  {
   "cell_type": "code",
   "execution_count": 57,
   "metadata": {},
   "outputs": [
    {
     "name": "stdout",
     "output_type": "stream",
     "text": [
      "Existen 0 tweets planos. Representan el 0.0% del total de tweets originales, replies, y quotes de CA.\n"
     ]
    }
   ],
   "source": [
    "print('Existen {0} tweets planos. Representan el {1}% del total de tweets originales, replies, y quotes de CA.'.\n",
    "      format(len(vt), round(100*(len(vt)/tot_tws_ca),1)))"
   ]
  },
  {
   "cell_type": "code",
   "execution_count": 59,
   "metadata": {},
   "outputs": [
    {
     "data": {
      "image/png": "[encoded data removed]",
      "text/plain": [
       "<matplotlib.figure.Figure at 0x1621123c8>"
      ]
     },
     "metadata": {
      "needs_background": "light"
     },
     "output_type": "display_data"
    }
   ],
   "source": [
    "dis = pd.DataFrame(\n",
    "    {\n",
    "        'Tipo': ['Plano', 'Link', 'Foto', 'Video'],\n",
    "        '% Tweets': [\n",
    "            round(100*(len(pt)/tot_tws_ca),1),\n",
    "            round(100*(len(lt)/tot_tws_ca),1),\n",
    "            round(100*(len(pht)/tot_tws_ca),1),\n",
    "            round(100*(len(vt)/tot_tws_ca),1)\n",
    "        ]\n",
    "    }\n",
    ")\n",
    "fig = sns.barplot(x='Tipo', y='% Tweets', data=dis, order=['Plano', 'Foto', 'Link', 'Video'])\n",
    "ax=fig\n",
    "#annotate axis = seaborn axis\n",
    "for p in ax.patches:\n",
    "    ax.annotate(\"{0}%\".format(p.get_height()), (p.get_x() + p.get_width() / 2., p.get_height()),\n",
    "                 ha='center', va='center', fontsize=12, color='black', xytext=(0, 10),\n",
    "                 textcoords='offset points')\n",
    "_ = fig.set_ylim(0,100) #To make space for the annotations\n",
    "plt.show()"
   ]
  },
  {
   "cell_type": "markdown",
   "metadata": {},
   "source": [
    "## Hashtags más populares"
   ]
  },
  {
   "cell_type": "markdown",
   "metadata": {},
   "source": [
    "Lista de hashtag más comunes utilizados en tweets relacionados a los movimientos Honor Colorado y Colorado Añeteté."
   ]
  },
  {
   "cell_type": "markdown",
   "metadata": {},
   "source": [
    "### Top-5 hashtags relacionado a Honor Colorado"
   ]
  },
  {
   "cell_type": "code",
   "execution_count": 53,
   "metadata": {},
   "outputs": [
    {
     "data": {
      "text/html": [
       "<div>\n",
       "<style scoped>\n",
       "    .dataframe tbody tr th:only-of-type {\n",
       "        vertical-align: middle;\n",
       "    }\n",
       "\n",
       "    .dataframe tbody tr th {\n",
       "        vertical-align: top;\n",
       "    }\n",
       "\n",
       "    .dataframe thead th {\n",
       "        text-align: right;\n",
       "    }\n",
       "</style>\n",
       "<table border=\"1\" class=\"dataframe\">\n",
       "  <thead>\n",
       "    <tr style=\"text-align: right;\">\n",
       "      <th></th>\n",
       "      <th>1. Hashtag</th>\n",
       "      <th>2. Cantidad de Tweets</th>\n",
       "    </tr>\n",
       "  </thead>\n",
       "  <tbody>\n",
       "    <tr>\n",
       "      <th>0</th>\n",
       "      <td>#Lista2</td>\n",
       "      <td>3184</td>\n",
       "    </tr>\n",
       "    <tr>\n",
       "      <th>1</th>\n",
       "      <td>#SantiPresidente</td>\n",
       "      <td>3167</td>\n",
       "    </tr>\n",
       "    <tr>\n",
       "      <th>2</th>\n",
       "      <td>#SigamosConversando</td>\n",
       "      <td>1294</td>\n",
       "    </tr>\n",
       "    <tr>\n",
       "      <th>3</th>\n",
       "      <td>#HonorColorado</td>\n",
       "      <td>979</td>\n",
       "    </tr>\n",
       "    <tr>\n",
       "      <th>4</th>\n",
       "      <td>#ParaguayElige</td>\n",
       "      <td>759</td>\n",
       "    </tr>\n",
       "  </tbody>\n",
       "</table>\n",
       "</div>"
      ],
      "text/plain": [
       "            1. Hashtag  2. Cantidad de Tweets\n",
       "0              #Lista2                   3184\n",
       "1     #SantiPresidente                   3167\n",
       "2  #SigamosConversando                   1294\n",
       "3       #HonorColorado                    979\n",
       "4       #ParaguayElige                    759"
      ]
     },
     "execution_count": 53,
     "metadata": {},
     "output_type": "execute_result"
    }
   ],
   "source": [
    "additional_args = {'include_candidate':False, 'candidate_handler':'SantiPenap'}\n",
    "hashtags_hc = db.get_hashtags_by_movement('honor colorado', **additional_args)\n",
    "hashtags_populares_hc = []\n",
    "sum_total = 0\n",
    "for i in range(5):\n",
    "    hashtag = hashtags_hc[i]\n",
    "    sum_total += hashtag['count']\n",
    "    hashtag_dict = {'1. Hashtag': '#' + hashtag['hashtag'], '2. Cantidad de Tweets': hashtag['count']}\n",
    "    hashtags_populares_hc.append(hashtag_dict)\n",
    "pd.DataFrame(hashtags_populares_hc)"
   ]
  },
  {
   "cell_type": "markdown",
   "metadata": {},
   "source": [
    "### Top-5 hashtags relacionados a Colorado Añeteté"
   ]
  },
  {
   "cell_type": "code",
   "execution_count": 54,
   "metadata": {},
   "outputs": [
    {
     "data": {
      "text/html": [
       "<div>\n",
       "<style scoped>\n",
       "    .dataframe tbody tr th:only-of-type {\n",
       "        vertical-align: middle;\n",
       "    }\n",
       "\n",
       "    .dataframe tbody tr th {\n",
       "        vertical-align: top;\n",
       "    }\n",
       "\n",
       "    .dataframe thead th {\n",
       "        text-align: right;\n",
       "    }\n",
       "</style>\n",
       "<table border=\"1\" class=\"dataframe\">\n",
       "  <thead>\n",
       "    <tr style=\"text-align: right;\">\n",
       "      <th></th>\n",
       "      <th>1. Hashtag</th>\n",
       "      <th>2. Cantidad de Tweets</th>\n",
       "    </tr>\n",
       "  </thead>\n",
       "  <tbody>\n",
       "    <tr>\n",
       "      <th>0</th>\n",
       "      <td>#ParaguayDeLaGente</td>\n",
       "      <td>8421</td>\n",
       "    </tr>\n",
       "    <tr>\n",
       "      <th>1</th>\n",
       "      <td>#MaritoImparable</td>\n",
       "      <td>1404</td>\n",
       "    </tr>\n",
       "    <tr>\n",
       "      <th>2</th>\n",
       "      <td>#MaritoDeLaGente</td>\n",
       "      <td>1402</td>\n",
       "    </tr>\n",
       "    <tr>\n",
       "      <th>3</th>\n",
       "      <td>#ParaguayElige</td>\n",
       "      <td>645</td>\n",
       "    </tr>\n",
       "    <tr>\n",
       "      <th>4</th>\n",
       "      <td>#MaritoPresidente</td>\n",
       "      <td>560</td>\n",
       "    </tr>\n",
       "  </tbody>\n",
       "</table>\n",
       "</div>"
      ],
      "text/plain": [
       "           1. Hashtag  2. Cantidad de Tweets\n",
       "0  #ParaguayDeLaGente                   8421\n",
       "1    #MaritoImparable                   1404\n",
       "2    #MaritoDeLaGente                   1402\n",
       "3      #ParaguayElige                    645\n",
       "4   #MaritoPresidente                    560"
      ]
     },
     "execution_count": 54,
     "metadata": {},
     "output_type": "execute_result"
    }
   ],
   "source": [
    "additional_args = {'include_candidate':False, 'candidate_handler':'MaritoAbdo'}\n",
    "hashtags_ca = db.get_hashtags_by_movement('colorado añetete', **additional_args)\n",
    "hashtags_populares_ca = []\n",
    "for i in range(5):\n",
    "    hashtag = hashtags_ca[i]\n",
    "    hashtag_dict = {'1. Hashtag': '#' + hashtag['hashtag'], '2. Cantidad de Tweets': hashtag['count']}\n",
    "    hashtags_populares_ca.append(hashtag_dict)\n",
    "pd.DataFrame(hashtags_populares_ca)"
   ]
  },
  {
   "cell_type": "markdown",
   "metadata": {},
   "source": [
    "## Cantidad de tuiteros por movimiento"
   ]
  },
  {
   "cell_type": "markdown",
   "metadata": {},
   "source": [
    "Análisis de la cantidad de perfiles que publicaron tweets conteniendo los hashtags de los movimientos. Los conjuntos de perfiles no son mutuamente excluyente. En otros palabras, pueden existir perfiles que hayan realizado publicado tweets usando hashtags vinculados a ambos movimientos. "
   ]
  },
  {
   "cell_type": "markdown",
   "metadata": {},
   "source": [
    "### Honor Colorado"
   ]
  },
  {
   "cell_type": "code",
   "execution_count": 4,
   "metadata": {},
   "outputs": [
    {
     "name": "stdout",
     "output_type": "stream",
     "text": [
      "15663 usuarios tuitearon utilizando hashtags vinculados al movimiento Honor Colorado\n"
     ]
    }
   ],
   "source": [
    "users = dbu.get_users_and_activity(**{'partido': 'anr', 'movimiento': 'honor colorado'})\n",
    "print('{0} usuarios tuitearon utilizando hashtags vinculados al movimiento Honor Colorado'.\n",
    "      format(len(users)))"
   ]
  },
  {
   "cell_type": "markdown",
   "metadata": {},
   "source": [
    "#### Top-10 más activos con sus principales características y actividades"
   ]
  },
  {
   "cell_type": "code",
   "execution_count": 7,
   "metadata": {},
   "outputs": [
    {
     "data": {
      "text/html": [
       "<div>\n",
       "<style scoped>\n",
       "    .dataframe tbody tr th:only-of-type {\n",
       "        vertical-align: middle;\n",
       "    }\n",
       "\n",
       "    .dataframe tbody tr th {\n",
       "        vertical-align: top;\n",
       "    }\n",
       "\n",
       "    .dataframe thead th {\n",
       "        text-align: right;\n",
       "    }\n",
       "</style>\n",
       "<table border=\"1\" class=\"dataframe\">\n",
       "  <thead>\n",
       "    <tr style=\"text-align: right;\">\n",
       "      <th></th>\n",
       "      <th>1.Usuario</th>\n",
       "      <th>10. PBB</th>\n",
       "      <th>3.Tweets</th>\n",
       "      <th>4.Originales</th>\n",
       "      <th>5.Retweets</th>\n",
       "      <th>6.Quotes</th>\n",
       "      <th>7.Replies</th>\n",
       "      <th>8.Followers</th>\n",
       "      <th>9.Friends</th>\n",
       "    </tr>\n",
       "  </thead>\n",
       "  <tbody>\n",
       "    <tr>\n",
       "      <th>0</th>\n",
       "      <td>CESARSANCHEZ553</td>\n",
       "      <td>1.191947</td>\n",
       "      <td>952</td>\n",
       "      <td>0</td>\n",
       "      <td>754</td>\n",
       "      <td>0</td>\n",
       "      <td>198</td>\n",
       "      <td>17</td>\n",
       "      <td>132</td>\n",
       "    </tr>\n",
       "    <tr>\n",
       "      <th>1</th>\n",
       "      <td>Norabeli</td>\n",
       "      <td>0.385551</td>\n",
       "      <td>941</td>\n",
       "      <td>1</td>\n",
       "      <td>734</td>\n",
       "      <td>2</td>\n",
       "      <td>204</td>\n",
       "      <td>1387</td>\n",
       "      <td>930</td>\n",
       "    </tr>\n",
       "    <tr>\n",
       "      <th>2</th>\n",
       "      <td>CesarSanchez636</td>\n",
       "      <td>0.851941</td>\n",
       "      <td>802</td>\n",
       "      <td>0</td>\n",
       "      <td>646</td>\n",
       "      <td>0</td>\n",
       "      <td>156</td>\n",
       "      <td>155</td>\n",
       "      <td>651</td>\n",
       "    </tr>\n",
       "    <tr>\n",
       "      <th>3</th>\n",
       "      <td>Michelec1954</td>\n",
       "      <td>0.574453</td>\n",
       "      <td>707</td>\n",
       "      <td>0</td>\n",
       "      <td>0</td>\n",
       "      <td>575</td>\n",
       "      <td>132</td>\n",
       "      <td>708</td>\n",
       "      <td>1484</td>\n",
       "    </tr>\n",
       "    <tr>\n",
       "      <th>4</th>\n",
       "      <td>gladysgulino</td>\n",
       "      <td>0.348731</td>\n",
       "      <td>548</td>\n",
       "      <td>0</td>\n",
       "      <td>548</td>\n",
       "      <td>0</td>\n",
       "      <td>0</td>\n",
       "      <td>471</td>\n",
       "      <td>93</td>\n",
       "    </tr>\n",
       "    <tr>\n",
       "      <th>5</th>\n",
       "      <td>Radio970AM</td>\n",
       "      <td>0.216336</td>\n",
       "      <td>535</td>\n",
       "      <td>96</td>\n",
       "      <td>11</td>\n",
       "      <td>5</td>\n",
       "      <td>423</td>\n",
       "      <td>211891</td>\n",
       "      <td>875</td>\n",
       "    </tr>\n",
       "    <tr>\n",
       "      <th>6</th>\n",
       "      <td>delgapy2016</td>\n",
       "      <td>0.812437</td>\n",
       "      <td>529</td>\n",
       "      <td>0</td>\n",
       "      <td>485</td>\n",
       "      <td>0</td>\n",
       "      <td>44</td>\n",
       "      <td>79</td>\n",
       "      <td>461</td>\n",
       "    </tr>\n",
       "    <tr>\n",
       "      <th>7</th>\n",
       "      <td>SemideiOmar</td>\n",
       "      <td>0.263063</td>\n",
       "      <td>527</td>\n",
       "      <td>8</td>\n",
       "      <td>3</td>\n",
       "      <td>0</td>\n",
       "      <td>516</td>\n",
       "      <td>419</td>\n",
       "      <td>277</td>\n",
       "    </tr>\n",
       "    <tr>\n",
       "      <th>8</th>\n",
       "      <td>ArturoO22734057</td>\n",
       "      <td>0.736119</td>\n",
       "      <td>516</td>\n",
       "      <td>1</td>\n",
       "      <td>510</td>\n",
       "      <td>0</td>\n",
       "      <td>5</td>\n",
       "      <td>192</td>\n",
       "      <td>825</td>\n",
       "    </tr>\n",
       "    <tr>\n",
       "      <th>9</th>\n",
       "      <td>JavierSanchezPy</td>\n",
       "      <td>0.128002</td>\n",
       "      <td>434</td>\n",
       "      <td>237</td>\n",
       "      <td>136</td>\n",
       "      <td>4</td>\n",
       "      <td>57</td>\n",
       "      <td>11151</td>\n",
       "      <td>1373</td>\n",
       "    </tr>\n",
       "  </tbody>\n",
       "</table>\n",
       "</div>"
      ],
      "text/plain": [
       "         1.Usuario   10. PBB  3.Tweets  4.Originales  5.Retweets  6.Quotes  \\\n",
       "0  CESARSANCHEZ553  1.191947       952             0         754         0   \n",
       "1         Norabeli  0.385551       941             1         734         2   \n",
       "2  CesarSanchez636  0.851941       802             0         646         0   \n",
       "3     Michelec1954  0.574453       707             0           0       575   \n",
       "4     gladysgulino  0.348731       548             0         548         0   \n",
       "5       Radio970AM  0.216336       535            96          11         5   \n",
       "6      delgapy2016  0.812437       529             0         485         0   \n",
       "7      SemideiOmar  0.263063       527             8           3         0   \n",
       "8  ArturoO22734057  0.736119       516             1         510         0   \n",
       "9  JavierSanchezPy  0.128002       434           237         136         4   \n",
       "\n",
       "   7.Replies  8.Followers  9.Friends  \n",
       "0        198           17        132  \n",
       "1        204         1387        930  \n",
       "2        156          155        651  \n",
       "3        132          708       1484  \n",
       "4          0          471         93  \n",
       "5        423       211891        875  \n",
       "6         44           79        461  \n",
       "7        516          419        277  \n",
       "8          5          192        825  \n",
       "9         57        11151       1373  "
      ]
     },
     "execution_count": 7,
     "metadata": {},
     "output_type": "execute_result"
    }
   ],
   "source": [
    "tuiteros_hc = []\n",
    "for user in users:\n",
    "    tuitero_hc = {'1.Usuario': user['screen_name'], \n",
    "                  '3.Tweets': user['tweets'],\n",
    "                  '4.Originales': user['original_tweets'],\n",
    "                  '5.Retweets': user['rts'],\n",
    "                  '6.Quotes': user['qts'],\n",
    "                  '7.Replies': user['rps'],\n",
    "                  '8.Followers': user['followers'],\n",
    "                  '9.Friends': user['friends'],\n",
    "                  '10. PBB': user['pbb']}\n",
    "    tuiteros_hc.append(tuitero_hc)\n",
    "df_tuiteros_hc = pd.DataFrame(tuiteros_hc)\n",
    "df_tuiteros_hc[0:10]"
   ]
  },
  {
   "cell_type": "markdown",
   "metadata": {},
   "source": [
    "### Colorado Añeteté"
   ]
  },
  {
   "cell_type": "code",
   "execution_count": 8,
   "metadata": {},
   "outputs": [
    {
     "name": "stdout",
     "output_type": "stream",
     "text": [
      "7484 usuarios tuitearon utilizando hashtags vinculados al movimiento Colorado Aneteté\n"
     ]
    }
   ],
   "source": [
    "users_ca = dbu.get_users_and_activity(**{'partido': 'anr', 'movimiento': 'colorado añetete'})\n",
    "print('{0} usuarios tuitearon utilizando hashtags vinculados al movimiento Colorado Aneteté'.\n",
    "      format(len(users_ca)))"
   ]
  },
  {
   "cell_type": "markdown",
   "metadata": {},
   "source": [
    "#### Top-10 más activos y sus actividades"
   ]
  },
  {
   "cell_type": "code",
   "execution_count": 9,
   "metadata": {
    "scrolled": false
   },
   "outputs": [
    {
     "data": {
      "text/html": [
       "<div>\n",
       "<style scoped>\n",
       "    .dataframe tbody tr th:only-of-type {\n",
       "        vertical-align: middle;\n",
       "    }\n",
       "\n",
       "    .dataframe tbody tr th {\n",
       "        vertical-align: top;\n",
       "    }\n",
       "\n",
       "    .dataframe thead th {\n",
       "        text-align: right;\n",
       "    }\n",
       "</style>\n",
       "<table border=\"1\" class=\"dataframe\">\n",
       "  <thead>\n",
       "    <tr style=\"text-align: right;\">\n",
       "      <th></th>\n",
       "      <th>1.Usuario</th>\n",
       "      <th>10. PBB</th>\n",
       "      <th>3.Tweets</th>\n",
       "      <th>4.Originales</th>\n",
       "      <th>5.Retweets</th>\n",
       "      <th>6.Quotes</th>\n",
       "      <th>7.Replies</th>\n",
       "      <th>8.Followers</th>\n",
       "      <th>9.Friends</th>\n",
       "    </tr>\n",
       "  </thead>\n",
       "  <tbody>\n",
       "    <tr>\n",
       "      <th>0</th>\n",
       "      <td>Paraguaynosune</td>\n",
       "      <td>0.424198</td>\n",
       "      <td>856</td>\n",
       "      <td>0</td>\n",
       "      <td>856</td>\n",
       "      <td>0</td>\n",
       "      <td>0</td>\n",
       "      <td>174</td>\n",
       "      <td>520</td>\n",
       "    </tr>\n",
       "    <tr>\n",
       "      <th>1</th>\n",
       "      <td>Beatriz20D</td>\n",
       "      <td>0.744348</td>\n",
       "      <td>854</td>\n",
       "      <td>0</td>\n",
       "      <td>743</td>\n",
       "      <td>2</td>\n",
       "      <td>109</td>\n",
       "      <td>739</td>\n",
       "      <td>210</td>\n",
       "    </tr>\n",
       "    <tr>\n",
       "      <th>2</th>\n",
       "      <td>Solmelga</td>\n",
       "      <td>0.294215</td>\n",
       "      <td>540</td>\n",
       "      <td>138</td>\n",
       "      <td>330</td>\n",
       "      <td>1</td>\n",
       "      <td>71</td>\n",
       "      <td>4790</td>\n",
       "      <td>5323</td>\n",
       "    </tr>\n",
       "    <tr>\n",
       "      <th>3</th>\n",
       "      <td>1000_am</td>\n",
       "      <td>0.132465</td>\n",
       "      <td>421</td>\n",
       "      <td>148</td>\n",
       "      <td>78</td>\n",
       "      <td>1</td>\n",
       "      <td>194</td>\n",
       "      <td>368</td>\n",
       "      <td>93115</td>\n",
       "    </tr>\n",
       "    <tr>\n",
       "      <th>4</th>\n",
       "      <td>felixugarte</td>\n",
       "      <td>0.304890</td>\n",
       "      <td>373</td>\n",
       "      <td>0</td>\n",
       "      <td>367</td>\n",
       "      <td>0</td>\n",
       "      <td>6</td>\n",
       "      <td>369</td>\n",
       "      <td>499</td>\n",
       "    </tr>\n",
       "    <tr>\n",
       "      <th>5</th>\n",
       "      <td>LaJusticierra</td>\n",
       "      <td>0.322528</td>\n",
       "      <td>344</td>\n",
       "      <td>2</td>\n",
       "      <td>258</td>\n",
       "      <td>0</td>\n",
       "      <td>84</td>\n",
       "      <td>1262</td>\n",
       "      <td>3344</td>\n",
       "    </tr>\n",
       "    <tr>\n",
       "      <th>6</th>\n",
       "      <td>MaritoAbdo</td>\n",
       "      <td>0.000000</td>\n",
       "      <td>270</td>\n",
       "      <td>228</td>\n",
       "      <td>42</td>\n",
       "      <td>0</td>\n",
       "      <td>0</td>\n",
       "      <td>501</td>\n",
       "      <td>101326</td>\n",
       "    </tr>\n",
       "    <tr>\n",
       "      <th>7</th>\n",
       "      <td>jjrios_bogado</td>\n",
       "      <td>0.421662</td>\n",
       "      <td>264</td>\n",
       "      <td>29</td>\n",
       "      <td>233</td>\n",
       "      <td>0</td>\n",
       "      <td>2</td>\n",
       "      <td>777</td>\n",
       "      <td>1870</td>\n",
       "    </tr>\n",
       "    <tr>\n",
       "      <th>8</th>\n",
       "      <td>EDITHVILLA3</td>\n",
       "      <td>0.477252</td>\n",
       "      <td>246</td>\n",
       "      <td>5</td>\n",
       "      <td>193</td>\n",
       "      <td>0</td>\n",
       "      <td>48</td>\n",
       "      <td>1117</td>\n",
       "      <td>598</td>\n",
       "    </tr>\n",
       "    <tr>\n",
       "      <th>9</th>\n",
       "      <td>totoclerch</td>\n",
       "      <td>0.318271</td>\n",
       "      <td>245</td>\n",
       "      <td>5</td>\n",
       "      <td>168</td>\n",
       "      <td>4</td>\n",
       "      <td>68</td>\n",
       "      <td>1025</td>\n",
       "      <td>1580</td>\n",
       "    </tr>\n",
       "  </tbody>\n",
       "</table>\n",
       "</div>"
      ],
      "text/plain": [
       "        1.Usuario   10. PBB  3.Tweets  4.Originales  5.Retweets  6.Quotes  \\\n",
       "0  Paraguaynosune  0.424198       856             0         856         0   \n",
       "1      Beatriz20D  0.744348       854             0         743         2   \n",
       "2        Solmelga  0.294215       540           138         330         1   \n",
       "3         1000_am  0.132465       421           148          78         1   \n",
       "4     felixugarte  0.304890       373             0         367         0   \n",
       "5   LaJusticierra  0.322528       344             2         258         0   \n",
       "6      MaritoAbdo  0.000000       270           228          42         0   \n",
       "7   jjrios_bogado  0.421662       264            29         233         0   \n",
       "8     EDITHVILLA3  0.477252       246             5         193         0   \n",
       "9      totoclerch  0.318271       245             5         168         4   \n",
       "\n",
       "   7.Replies  8.Followers  9.Friends  \n",
       "0          0          174        520  \n",
       "1        109          739        210  \n",
       "2         71         4790       5323  \n",
       "3        194          368      93115  \n",
       "4          6          369        499  \n",
       "5         84         1262       3344  \n",
       "6          0          501     101326  \n",
       "7          2          777       1870  \n",
       "8         48         1117        598  \n",
       "9         68         1025       1580  "
      ]
     },
     "execution_count": 9,
     "metadata": {},
     "output_type": "execute_result"
    }
   ],
   "source": [
    "tuiteros_ca = []\n",
    "for user_ca in users_ca:\n",
    "    tuitero_ca = {'1.Usuario': user_ca['screen_name'], \n",
    "                  '3.Tweets': user_ca['tweets'],\n",
    "                  '4.Originales': user_ca['original_tweets'],\n",
    "                  '5.Retweets': user_ca['rts'],\n",
    "                  '6.Quotes': user_ca['qts'],\n",
    "                  '7.Replies': user_ca['rps'],\n",
    "                  '8.Followers': user_ca['friends'],\n",
    "                  '9.Friends': user_ca['followers'],\n",
    "                  '10. PBB': user_ca['pbb']}\n",
    "    tuiteros_ca.append(tuitero_ca)\n",
    "df_tuiteros_ca = pd.DataFrame(tuiteros_ca)\n",
    "df_tuiteros_ca[0:10]"
   ]
  },
  {
   "cell_type": "code",
   "execution_count": 10,
   "metadata": {
    "scrolled": true
   },
   "outputs": [
    {
     "data": {
      "image/png": "[encoded data removed]",
      "text/plain": [
       "<matplotlib.figure.Figure at 0x10f527a58>"
      ]
     },
     "metadata": {
      "needs_background": "light"
     },
     "output_type": "display_data"
    }
   ],
   "source": [
    "tuiteros_por_movimiento = pd.DataFrame({\n",
    "    'Movimiento': ['Honor Colorado', 'Colorado Añeteté'],\n",
    "    'Perfiles': [len(users), len(users_ca)]\n",
    "}, index=['hc', 'ca'])\n",
    "fig = sns.barplot(x='Movimiento', y='Perfiles', data=tuiteros_por_movimiento, palette=\"Reds_d\")\n",
    "for p in fig.patches:\n",
    "    fig.annotate(\"%d\" % p.get_height(), (p.get_x() + p.get_width() / 2., p.get_height()),\n",
    "                 ha='center', va='center', fontsize=12, color='black', xytext=(0, 10),\n",
    "                 textcoords='offset points')\n",
    "_ = fig.set_ylim(0,17500) #To make space for the annotations\n",
    "plt.show()"
   ]
  },
  {
   "cell_type": "markdown",
   "metadata": {},
   "source": [
    "Como se podría esperar la cantidad de perfiles que publicaron tweets utilizando hashtags vinculados al movimiento **`Honor Colorado`** (15.663, 67% del total de perfiles vinculados a la ANR) es ampliamente superior al de **`Colorado Añeteté`** (7.484, 32% del total ANR). **Por cada tuitero de `Colorado Añeteté` existen 2 tuiteros de `Honor Colorado`**. La diferencia en la cantidad de tuiteros se puede percibir también en la cantidad de tweets de cada movimiento; **`Honor Colorado`** tiene casi el doble de tweets que **`Colorado Añeteté`**. Un aspecto a notar aquí es que existen 98 perfiles que publicaron tweets usando hashtags relacionados al partido colorado pero a ningún movimiento en particular.\n",
    "\n",
    "Otro aspecto destacable es el tipo de actividad que realizan tanto los tuiteros. Comparando las actividades de los perfiles más activos en ambos movimiento se nota que en la mayoría de los casos, **los tuiteros más activos no realizan publicaciones propias** sino más bien se ocupan de realizar retweets. En otras palabras, la principal actividad de estos usuarios es amplificar y promocionar información relacionada a sus intereses. **Este comportamiento es típico de bots y cuentas falsas**. Los perfiles más activos de **`Honor Colorado`** se destacan además por su importante volumen de respuestas, esto puede deberse a que estas cuentas se utilizaron prinicipalmente para entrar en debates o responder a publicaciones en contra de los intereses de este movimiento. "
   ]
  },
  {
   "cell_type": "markdown",
   "metadata": {},
   "source": [
    "## Análisis de bots"
   ]
  },
  {
   "cell_type": "markdown",
   "metadata": {},
   "source": [
    "Para los fines de este análisis consideraremos que un perfil muestra aparentes comportamientos de bot/cuenta falsa si este se encuentra dentro del 25% de los perfiles con mayores probabilidades de ser un bot. Para ello a continuación calculamos el límite del tercer cuantil en la distribución de probabalidades de ser bot."
   ]
  },
  {
   "cell_type": "code",
   "execution_count": 246,
   "metadata": {},
   "outputs": [],
   "source": [
    "all_users = dbu.find_all(projection={'screen_name': 1, 'bot_analysis.pbb': 1, '_id': 0, 'party': 1, 'movement': 1})\n",
    "l_all_users = [{'screen_name': user['screen_name'], 'pbb': user['bot_analysis']['pbb'], \n",
    "                'party': user['party'], 'movement': user['movement']} for user in all_users]\n",
    "all_users_df = pd.DataFrame(l_all_users)\n",
    "quantile_75 = all_users_df.pbb.quantile(.75)"
   ]
  },
  {
   "cell_type": "code",
   "execution_count": 248,
   "metadata": {},
   "outputs": [
    {
     "data": {
      "text/html": [
       "<div>\n",
       "<style scoped>\n",
       "    .dataframe tbody tr th:only-of-type {\n",
       "        vertical-align: middle;\n",
       "    }\n",
       "\n",
       "    .dataframe tbody tr th {\n",
       "        vertical-align: top;\n",
       "    }\n",
       "\n",
       "    .dataframe thead th {\n",
       "        text-align: right;\n",
       "    }\n",
       "</style>\n",
       "<table border=\"1\" class=\"dataframe\">\n",
       "  <thead>\n",
       "    <tr style=\"text-align: right;\">\n",
       "      <th></th>\n",
       "      <th>movement</th>\n",
       "      <th>party</th>\n",
       "      <th>pbb</th>\n",
       "      <th>screen_name</th>\n",
       "    </tr>\n",
       "  </thead>\n",
       "  <tbody>\n",
       "    <tr>\n",
       "      <th>0</th>\n",
       "      <td>honor colorado</td>\n",
       "      <td>anr</td>\n",
       "      <td>1.191947</td>\n",
       "      <td>CESARSANCHEZ553</td>\n",
       "    </tr>\n",
       "    <tr>\n",
       "      <th>1</th>\n",
       "      <td>honor colorado</td>\n",
       "      <td>anr</td>\n",
       "      <td>0.385551</td>\n",
       "      <td>Norabeli</td>\n",
       "    </tr>\n",
       "    <tr>\n",
       "      <th>2</th>\n",
       "      <td>colorado añetete</td>\n",
       "      <td>anr</td>\n",
       "      <td>0.424198</td>\n",
       "      <td>Paraguaynosune</td>\n",
       "    </tr>\n",
       "    <tr>\n",
       "      <th>3</th>\n",
       "      <td>colorado añetete</td>\n",
       "      <td>anr</td>\n",
       "      <td>0.744348</td>\n",
       "      <td>Beatriz20D</td>\n",
       "    </tr>\n",
       "    <tr>\n",
       "      <th>4</th>\n",
       "      <td>honor colorado</td>\n",
       "      <td>anr</td>\n",
       "      <td>0.851941</td>\n",
       "      <td>CesarSanchez636</td>\n",
       "    </tr>\n",
       "  </tbody>\n",
       "</table>\n",
       "</div>"
      ],
      "text/plain": [
       "           movement party       pbb      screen_name\n",
       "0    honor colorado   anr  1.191947  CESARSANCHEZ553\n",
       "1    honor colorado   anr  0.385551         Norabeli\n",
       "2  colorado añetete   anr  0.424198   Paraguaynosune\n",
       "3  colorado añetete   anr  0.744348       Beatriz20D\n",
       "4    honor colorado   anr  0.851941  CesarSanchez636"
      ]
     },
     "execution_count": 248,
     "metadata": {},
     "output_type": "execute_result"
    }
   ],
   "source": [
    "all_users_df.head()"
   ]
  },
  {
   "cell_type": "markdown",
   "metadata": {},
   "source": [
    "### Los bots de HC"
   ]
  },
  {
   "cell_type": "code",
   "execution_count": 22,
   "metadata": {},
   "outputs": [],
   "source": [
    "bots_hc = df_tuiteros_hc[df_tuiteros_hc['10. PBB']>quantile_75]"
   ]
  },
  {
   "cell_type": "code",
   "execution_count": 23,
   "metadata": {},
   "outputs": [
    {
     "name": "stdout",
     "output_type": "stream",
     "text": [
      "Existen 3503 bots en el movimiento HC, 22.0% del total\n"
     ]
    }
   ],
   "source": [
    "tot_bots_hc = bots_hc.shape[0]\n",
    "tot_perf_hc = df_tuiteros_hc.shape[0]\n",
    "per_bots_hc = round(100*tot_bots_hc/tot_perf_hc,0)\n",
    "print('Existen {0} bots en el movimiento HC, {1}% del total'.format(tot_bots_hc, per_bots_hc))"
   ]
  },
  {
   "cell_type": "markdown",
   "metadata": {},
   "source": [
    "#### Características de los bots HC"
   ]
  },
  {
   "cell_type": "code",
   "execution_count": 24,
   "metadata": {},
   "outputs": [
    {
     "data": {
      "text/html": [
       "<div>\n",
       "<style scoped>\n",
       "    .dataframe tbody tr th:only-of-type {\n",
       "        vertical-align: middle;\n",
       "    }\n",
       "\n",
       "    .dataframe tbody tr th {\n",
       "        vertical-align: top;\n",
       "    }\n",
       "\n",
       "    .dataframe thead th {\n",
       "        text-align: right;\n",
       "    }\n",
       "</style>\n",
       "<table border=\"1\" class=\"dataframe\">\n",
       "  <thead>\n",
       "    <tr style=\"text-align: right;\">\n",
       "      <th></th>\n",
       "      <th>1.Total Tweets</th>\n",
       "      <th>2.Tweets Originales</th>\n",
       "      <th>3.Retweets</th>\n",
       "      <th>4.Quotes</th>\n",
       "      <th>5.Replies</th>\n",
       "    </tr>\n",
       "  </thead>\n",
       "  <tbody>\n",
       "    <tr>\n",
       "      <th></th>\n",
       "      <td>27145</td>\n",
       "      <td>398</td>\n",
       "      <td>17535</td>\n",
       "      <td>77</td>\n",
       "      <td>9135</td>\n",
       "    </tr>\n",
       "  </tbody>\n",
       "</table>\n",
       "</div>"
      ],
      "text/plain": [
       "  1.Total Tweets  2.Tweets Originales  3.Retweets  4.Quotes  5.Replies\n",
       "           27145                  398       17535        77       9135"
      ]
     },
     "execution_count": 24,
     "metadata": {},
     "output_type": "execute_result"
    }
   ],
   "source": [
    "ch_bots_hc = {\n",
    "    '1.Total Tweets': sum(bots_hc['3.Tweets']),\n",
    "    '2.Tweets Originales': sum(bots_hc['4.Originales']),\n",
    "    '3.Retweets': sum(bots_hc['5.Retweets']),\n",
    "    '4.Quotes': sum(bots_hc['6.Quotes']),\n",
    "    '5.Replies': sum(bots_hc['7.Replies'])\n",
    "}\n",
    "pd.DataFrame(ch_bots_hc, index=[''])"
   ]
  },
  {
   "cell_type": "code",
   "execution_count": 42,
   "metadata": {},
   "outputs": [
    {
     "data": {
      "image/png": "[encoded data removed]",
      "text/plain": [
       "<matplotlib.figure.Figure at 0x11e66fa90>"
      ]
     },
     "metadata": {
      "needs_background": "light"
     },
     "output_type": "display_data"
    }
   ],
   "source": [
    "bot_per_of_total = pd.DataFrame(\n",
    "    {\n",
    "        'Tipo Tweet': ['Original', 'Retweet', 'Quote', 'Reply', 'Total'],\n",
    "        '% del Total de Tweets de HC': [\n",
    "            round(100*(sum(bots_hc['4.Originales'])/num_original_tweets_hc),1),\n",
    "            round(100*(sum(bots_hc['5.Retweets'])/num_retweets_hc),1),\n",
    "            round(100*(sum(bots_hc['6.Quotes'])/num_quotes_hc),1),\n",
    "            round(100*(sum(bots_hc['7.Replies'])/num_replies_hc),1),\n",
    "            round(100*(sum(bots_hc['3.Tweets'])/tweets_hc.count()),1)\n",
    "        ]\n",
    "    }\n",
    ")\n",
    "fig = sns.barplot(x='Tipo Tweet', y='% del Total de Tweets de HC', \n",
    "                  data=bot_per_of_total, \n",
    "                  order=['Reply', 'Retweet', 'Original', 'Quote', 'Total'],\n",
    "                  palette=\"Reds_d\")\n",
    "ax=fig\n",
    "#annotate axis = seaborn axis\n",
    "for p in ax.patches:\n",
    "    ax.annotate(\"{0}%\".format(p.get_height()), (p.get_x() + p.get_width() / 2., p.get_height()),\n",
    "                 ha='center', va='center', fontsize=12, color='black', xytext=(0, 10),\n",
    "                 textcoords='offset points')\n",
    "_ = fig.set_ylim(0,50) #To make space for the annotations\n",
    "plt.show()"
   ]
  },
  {
   "cell_type": "markdown",
   "metadata": {},
   "source": [
    "#### Análisis de los reply de los bots"
   ]
  },
  {
   "cell_type": "code",
   "execution_count": 43,
   "metadata": {},
   "outputs": [],
   "source": [
    "replies_bots_hc = db.search({'tweet_obj.retweeted_status': {'$exists': 0},\n",
    "                             'tweet_obj.in_reply_to_status_id_str': {'$ne': None},\n",
    "                             'tweet_obj.is_quote_status': False,\n",
    "                             'tweet_obj.user.screen_name': {'$in': list(bots_hc['1.Usuario'])}})"
   ]
  },
  {
   "cell_type": "code",
   "execution_count": 44,
   "metadata": {},
   "outputs": [
    {
     "name": "stdout",
     "output_type": "stream",
     "text": [
      "Total replies: 8946\n",
      "Positive replies: 2498\n",
      "Neutral replies: 4897\n",
      "Negative replies: 1551\n"
     ]
    }
   ],
   "source": [
    "total_replies_bots_hc = replies_bots_hc.count()\n",
    "pos_replies, neu_replies, neg_replies = 0, 0, 0\n",
    "for reply in replies_bots_hc:\n",
    "    if reply['sentimiento']['tono'] == 'negative':\n",
    "        neg_replies += 1\n",
    "    if reply['sentimiento']['tono'] == 'neutral':\n",
    "        neu_replies += 1\n",
    "    if reply['sentimiento']['tono'] == 'positive':\n",
    "        pos_replies += 1\n",
    "print('Total replies: {0}'.format(total_replies_bots_hc))\n",
    "print('Positive replies: {0}'.format(pos_replies))\n",
    "print('Neutral replies: {0}'.format(neu_replies))\n",
    "print('Negative replies: {0}'.format(neg_replies))"
   ]
  },
  {
   "cell_type": "markdown",
   "metadata": {},
   "source": [
    "### Los bots Añeteté"
   ]
  },
  {
   "cell_type": "code",
   "execution_count": 46,
   "metadata": {},
   "outputs": [],
   "source": [
    "bots_ca = df_tuiteros_ca[df_tuiteros_ca['10. PBB']>quantile_75]"
   ]
  },
  {
   "cell_type": "code",
   "execution_count": 47,
   "metadata": {},
   "outputs": [
    {
     "name": "stdout",
     "output_type": "stream",
     "text": [
      "Existen 2389 bots en el movimiento Colorado Añetete, 32.0% del total\n"
     ]
    }
   ],
   "source": [
    "tot_bots_ca = bots_ca.shape[0]\n",
    "tot_perf_ca = df_tuiteros_ca.shape[0]\n",
    "per_bots_ca = round(100*tot_bots_ca/tot_perf_ca,0)\n",
    "print('Existen {0} bots en el movimiento Colorado Añetete, {1}% del total'.format(tot_bots_ca, per_bots_ca))"
   ]
  },
  {
   "cell_type": "markdown",
   "metadata": {},
   "source": [
    "#### Características bots Añeteté"
   ]
  },
  {
   "cell_type": "code",
   "execution_count": 48,
   "metadata": {},
   "outputs": [
    {
     "data": {
      "text/html": [
       "<div>\n",
       "<style scoped>\n",
       "    .dataframe tbody tr th:only-of-type {\n",
       "        vertical-align: middle;\n",
       "    }\n",
       "\n",
       "    .dataframe tbody tr th {\n",
       "        vertical-align: top;\n",
       "    }\n",
       "\n",
       "    .dataframe thead th {\n",
       "        text-align: right;\n",
       "    }\n",
       "</style>\n",
       "<table border=\"1\" class=\"dataframe\">\n",
       "  <thead>\n",
       "    <tr style=\"text-align: right;\">\n",
       "      <th></th>\n",
       "      <th>1.Total Tweets</th>\n",
       "      <th>2.Tweets Originales</th>\n",
       "      <th>3.Retweets</th>\n",
       "      <th>4.Quotes</th>\n",
       "      <th>5.Replies</th>\n",
       "    </tr>\n",
       "  </thead>\n",
       "  <tbody>\n",
       "    <tr>\n",
       "      <th></th>\n",
       "      <td>15324</td>\n",
       "      <td>1119</td>\n",
       "      <td>9816</td>\n",
       "      <td>316</td>\n",
       "      <td>4073</td>\n",
       "    </tr>\n",
       "  </tbody>\n",
       "</table>\n",
       "</div>"
      ],
      "text/plain": [
       "  1.Total Tweets  2.Tweets Originales  3.Retweets  4.Quotes  5.Replies\n",
       "           15324                 1119        9816       316       4073"
      ]
     },
     "execution_count": 48,
     "metadata": {},
     "output_type": "execute_result"
    }
   ],
   "source": [
    "ch_bots_ca = {\n",
    "    '1.Total Tweets': sum(bots_ca['3.Tweets']),\n",
    "    '2.Tweets Originales': sum(bots_ca['4.Originales']),\n",
    "    '3.Retweets': sum(bots_ca['5.Retweets']),\n",
    "    '4.Quotes': sum(bots_ca['6.Quotes']),\n",
    "    '5.Replies': sum(bots_ca['7.Replies'])\n",
    "}\n",
    "pd.DataFrame(ch_bots_ca, index=[''])"
   ]
  },
  {
   "cell_type": "markdown",
   "metadata": {},
   "source": [
    "#### Análisis de los reply de los bots"
   ]
  },
  {
   "cell_type": "code",
   "execution_count": 49,
   "metadata": {},
   "outputs": [],
   "source": [
    "replies_bots_ca = db.search({'tweet_obj.retweeted_status': {'$exists': 0},\n",
    "                             'tweet_obj.in_reply_to_status_id_str': {'$ne': None},\n",
    "                             'tweet_obj.is_quote_status': False,\n",
    "                             'tweet_obj.user.screen_name': {'$in': list(bots_ca['1.Usuario'])}})"
   ]
  },
  {
   "cell_type": "code",
   "execution_count": 50,
   "metadata": {},
   "outputs": [
    {
     "name": "stdout",
     "output_type": "stream",
     "text": [
      "Total replies: 3952\n",
      "Positive replies: 1233\n",
      "Neutral replies: 2133\n",
      "Negative replies: 586\n"
     ]
    }
   ],
   "source": [
    "total_replies_bots_ca = replies_bots_ca.count()\n",
    "pos_replies, neu_replies, neg_replies = 0, 0, 0\n",
    "for reply in replies_bots_ca:\n",
    "    if reply['sentimiento']['tono'] == 'negative':\n",
    "        neg_replies += 1\n",
    "    if reply['sentimiento']['tono'] == 'neutral':\n",
    "        neu_replies += 1\n",
    "    if reply['sentimiento']['tono'] == 'positive':\n",
    "        pos_replies += 1\n",
    "print('Total replies: {0}'.format(total_replies_bots_ca))\n",
    "print('Positive replies: {0}'.format(pos_replies))\n",
    "print('Neutral replies: {0}'.format(neu_replies))\n",
    "print('Negative replies: {0}'.format(neg_replies))"
   ]
  },
  {
   "cell_type": "code",
   "execution_count": 53,
   "metadata": {},
   "outputs": [
    {
     "data": {
      "image/png": "[encoded data removed]",
      "text/plain": [
       "<matplotlib.figure.Figure at 0x122227ef0>"
      ]
     },
     "metadata": {
      "needs_background": "light"
     },
     "output_type": "display_data"
    }
   ],
   "source": [
    "bot_per_of_total = pd.DataFrame(\n",
    "    {\n",
    "        'Tipo Tweet': ['Original', 'Retweet', 'Quote', 'Reply', 'Total'],\n",
    "        '% del Total de Tweets de Añeteté': [\n",
    "            round(100*(sum(bots_ca['4.Originales'])/num_original_tweets_ca),1),\n",
    "            round(100*(sum(bots_ca['5.Retweets'])/num_retweets_ca),1),\n",
    "            round(100*(sum(bots_ca['6.Quotes'])/num_quotes_ca),1),\n",
    "            round(100*(sum(bots_ca['7.Replies'])/num_replies_ca),1),\n",
    "            round(100*(sum(bots_ca['3.Tweets'])/tweets_ca.count()),1)\n",
    "        ]\n",
    "    }\n",
    ")\n",
    "fig = sns.barplot(x='Tipo Tweet', y='% del Total de Tweets de Añeteté', \n",
    "                  data=bot_per_of_total, \n",
    "                  order=['Reply', 'Retweet', 'Original', 'Quote', 'Total'],\n",
    "                  palette=\"Reds_d\")\n",
    "ax=fig\n",
    "#annotate axis = seaborn axis\n",
    "for p in ax.patches:\n",
    "    ax.annotate(\"{0}%\".format(p.get_height()), (p.get_x() + p.get_width() / 2., p.get_height()),\n",
    "                 ha='center', va='center', fontsize=12, color='black', xytext=(0, 10),\n",
    "                 textcoords='offset points')\n",
    "_ = fig.set_ylim(0,45) #To make space for the annotations\n",
    "plt.show()"
   ]
  },
  {
   "cell_type": "code",
   "execution_count": 54,
   "metadata": {},
   "outputs": [],
   "source": [
    "bot_per_of_total = pd.DataFrame(\n",
    "    {\n",
    "        'Tipo Tweet': ['Original', 'Retweet', 'Quote', 'Reply', 'Total', \n",
    "                       'Original', 'Retweet', 'Quote', 'Reply', 'Total'],\n",
    "        '% del Total de Tweets del Movimiento': [\n",
    "            round(100*(sum(bots_ca['4.Originales'])/num_original_tweets_ca),1),\n",
    "            round(100*(sum(bots_ca['5.Retweets'])/num_retweets_ca),1),\n",
    "            round(100*(sum(bots_ca['6.Quotes'])/num_quotes_ca),1),\n",
    "            round(100*(sum(bots_ca['7.Replies'])/num_replies_ca),1),\n",
    "            round(100*(sum(bots_ca['3.Tweets'])/tweets_ca.count()),1),\n",
    "            round(100*(sum(bots_hc['4.Originales'])/num_original_tweets_hc),1),\n",
    "            round(100*(sum(bots_hc['5.Retweets'])/num_retweets_hc),1),\n",
    "            round(100*(sum(bots_hc['6.Quotes'])/num_quotes_hc),1),\n",
    "            round(100*(sum(bots_hc['7.Replies'])/num_replies_hc),1),\n",
    "            round(100*(sum(bots_hc['3.Tweets'])/tweets_hc.count()),1)\n",
    "        ],\n",
    "        'Movimiento': ['Colorado Añeteté', 'Colorado Añeteté', 'Colorado Añeteté', 'Colorado Añeteté', \n",
    "                       'Colorado Añeteté',\n",
    "                       'Honor Colorado', 'Honor Colorado', 'Honor Colorado', 'Honor Colorado', 'Honor Colorado']\n",
    "    }\n",
    ")"
   ]
  },
  {
   "cell_type": "code",
   "execution_count": 57,
   "metadata": {},
   "outputs": [
    {
     "data": {
      "text/plain": [
       "<matplotlib.figure.Figure at 0x11eee6390>"
      ]
     },
     "metadata": {},
     "output_type": "display_data"
    },
    {
     "data": {
      "image/png": "[encoded data removed]",
      "text/plain": [
       "<matplotlib.figure.Figure at 0x11ee49eb8>"
      ]
     },
     "metadata": {
      "needs_background": "light"
     },
     "output_type": "display_data"
    }
   ],
   "source": [
    "plt.figure(figsize=(20,12))\n",
    "g = sns.FacetGrid(bot_per_of_total, col=\"Movimiento\", height=4, aspect=1.5)\n",
    "g.map(sns.barplot, 'Tipo Tweet', '% del Total de Tweets del Movimiento', \n",
    "      order=['Reply', 'Retweet', 'Original', 'Quote', 'Total'],\n",
    "      palette=\"Reds_d\")\n",
    "#annotate axis = seaborn axis\n",
    "for ax in g.axes.ravel():\n",
    "    for p in ax.patches:\n",
    "        ax.annotate(\"{0}%\".format(p.get_height()), (p.get_x() + p.get_width() / 2., p.get_height()),\n",
    "                     ha='center', va='center', fontsize=12, color='black', xytext=(0, 10),\n",
    "                     textcoords='offset points')\n",
    "g.set(ylim=(0, 48))\n",
    "plt.show()\n",
    "g.savefig(\"bots_por_movimiento.png\", dpi=200, quality=95)"
   ]
  },
  {
   "cell_type": "code",
   "execution_count": 61,
   "metadata": {},
   "outputs": [
    {
     "data": {
      "image/png": "[encoded data removed]",
      "text/plain": [
       "<matplotlib.figure.Figure at 0x12120b7f0>"
      ]
     },
     "metadata": {
      "needs_background": "light"
     },
     "output_type": "display_data"
    }
   ],
   "source": [
    "bots_ambos = pd.DataFrame(\n",
    "    {\n",
    "        'Movimiento': ['Colorado Añeteté', 'Honor Colorado'],\n",
    "        'Bots/Cuentas Falsas': [tot_bots_ca, tot_bots_hc]\n",
    "    }\n",
    ")\n",
    "fig = sns.barplot(x='Movimiento', y='Bots/Cuentas Falsas', data=bots_ambos, palette=\"Reds_d\",\n",
    "                  order=['Honor Colorado', 'Colorado Añeteté'])\n",
    "for p in fig.patches:\n",
    "    fig.annotate(\"%d\" % p.get_height(), (p.get_x() + p.get_width() / 2., p.get_height()),\n",
    "                 ha='center', va='center', fontsize=12, color='black', xytext=(0, 10),\n",
    "                 textcoords='offset points')\n",
    "_ = fig.set_ylim(0,3900) #To make space for the annotations\n",
    "plt.show()"
   ]
  },
  {
   "cell_type": "markdown",
   "metadata": {},
   "source": [
    "## Red de interacciones entre perfiles"
   ]
  },
  {
   "cell_type": "markdown",
   "metadata": {},
   "source": [
    "Como parte del estudio realizamos un análisis sobre la red de perfiles que publicaron tweets utilizando hashtags relacionados a la interna del partido colorado. El análisis lo centramos en las interacciones entre los perfiles, no en las relaciones entre ellos (seguidores, seguidos). Consideramos que A tuvo una interacción con B si i) publicó un tweet mencionando a B; ii) retuiteo un tweet publicado por B; iii) citó (quote) un tweet publicado por B; iv) respondió un tweet publicado por B.\n",
    "\n",
    "Al generar la **red de interacciones** encontramos que de la misma forman parte **23.710 perfiles** que se comunicaron entre si 84.996 veces en el período de Noviembre a Enero 2018, el promedio de interacciones de un perfil en la red es 3,58. La cantidad de perfiles en la red supera en 465 el total de perfiles relacionados a la ANR. Esto se debe principalmente a que la red también incluye perfiles vinculados a otros partidos que realizaron interacciones con los de la ANR.\n",
    "\n",
    "El perfil `CESARSANCHEZ553` fue el que más interacciones generó (463), seguido por `CesarSanchez636` (378), y `Norabeli` (354), todos vinculados principalmente al movimiento `Honor Colorado`. `Santula` (4.661), `MaritoAbdo` (4.636), y `SantiPenap` (4.532) fueron los perfiles que más interacciones recibieron, esto es menciones, retweets, replies, quotes. Es interesante notar el rol tan preponderante del periodista Santiago González (Santula). En el último mes de campaña Santula atrajo inclusive más interacciones que los mismos candidatos a la presidencia."
   ]
  },
  {
   "cell_type": "markdown",
   "metadata": {},
   "source": [
    "![Red Interacciones](../../sna/img/internas-anr-red.png)"
   ]
  },
  {
   "cell_type": "markdown",
   "metadata": {},
   "source": [
    "El gráfico muestra la parte más significativa de la red de interacciones. Los perfiles son ilustrados por medio de círculos, los cuales toman principalmente dos colores. Los circulos `rojo claro` represetan perfiles cuyas interacciones contenian mayoritariamente hashtags o menciones asociadas al movimiento **`Honor Colorado`**. El `rojo oscuro` se utiliza para respresentar perfiles que principalmente participaron de comunicaciones donde se utilizaron hashtags o menciones vinculadas a la campaña del movimiento **`Colorado Añeteté`**. Existen círculo de otros colores como azul, naranja, o verde utilizados para representar otros movimientos de la ANR como el progresista colorado pero estos son irrelevantes dentro de la red.\n",
    "\n",
    "El **tamaño de los círculos** es proporcional al número de interacciones del perfil. Así perfiles que representados por círculos grandes (p. ej., MaritoAbdo, Horacio_Cartes, SantiPenap) son muy relevantes dentro de la red por la gran cantidad de interacciones en las que se vieron envueltos. Además de tamaño y color, los círculos se encuentran etiquetados con el nombre de perfil. El tamaño de la etiqueta es proporcional al tamaño del círculo, así perfiles importantes, con muchas interacciones, tienen asociados etiquetas más grandes.\n",
    "\n",
    "Como era de esperarse la red está dominada por perfiles que utilizaron en sus interacciones hashtags vinculados al movimiento **`Honor Colorado`**. Vimos anteriormente que estos son mayoría en el conjunto de datos. Los perfiles del movimiento **`Colorado Añeteté`** se encuentran principalmente en un sector acotado de la red y muy cercanos al perfil del candidato de este movimiento. Otra característica esperable de la red es la influencia de los perfiles de los candidatos a presidente, **Mario Abdo (`MaritoAbdo`)** y **Santiago Peña (`SantiPenap`)**. Es de notar también la importancia en la red del líder del movimiento **`Honor Colorado`**, **Horacio Cartes (`Horacio_Cartes`)**, demostrando que se vió involucrado --- esto es, menciones, retweets, replies, etc --- en gran parte de las interacciones, especialmente en las de su movimiento.\n",
    "\n",
    "Un aspecto sorpresivo y a destacar es la importancia en la red de los periodistas **Santiago González (`Santula`)** y **Luis Bareiro (`LuisBareiro`)**. Por el color de los círculos utilizados para representar su perfiles podemos notar que principalmente los mismo se vieron involucrados en interacciones que mayoritariamente incluían hashtags y menciones a los perfiles de los candidatos del movimiento oficialista **`Honor Colorado`**. Considerando la posición crítica de estos periodistas hacia el gobierno, es difícil imaginar que los mismos hayan utilizado twitter para promocionar las candidaturas de este movimiento, es más probable, sin embargo, que González y Bareiro se hayan visto involucrados en discusiones con seguidores de HC a raiz de comentarios críticos hacia el gobierno, el candidato a presidente, o el grupo político ligado a **`Honor Colorado`**. Profundizaremos en este aspecto más adelante."
   ]
  },
  {
   "cell_type": "markdown",
   "metadata": {},
   "source": [
    "### Honor Colorado"
   ]
  },
  {
   "cell_type": "markdown",
   "metadata": {},
   "source": [
    "La red de interacciones del movimiento **`Honor Colorado`** está compuesta por **15.809 perfiles** (66.68% del total) que realizaron 47.436 interacciones (56% del total). En promedio, los perfiles de la red de **`Honor Colorado`** realizan 3 interacciones. `SantiPenap` (4.122), `Santula` (3.490), y `Horacio_Cartes` (3.173) son los tres perfiles que más interacciones recibieron. Lo de Peña y Cartes es entendible, lo de `Santula` es llamativo. Conociendo su postura crítica al candidato oficialista y al gobierno es de suponer que las interacciones no deberieron ser muy positivas. En una misma situación se encuentra Luis Bareiro (`LuisBareiro`), que después del perfil del presidente de la república, es el que más interacciones recibió (2.543).\n",
    "\n",
    "También es notorio la importancia en la red de perfiles muy críticos al gobierno como el de la Senadora Desireè Masi (`desimasi2`), quién en este período recibió 877 interacciones (menciones, respuestas, citaciones, retweets). También se destaca el perfil del canal de televisión Telefuturo (`TelefuturoInfo`), quién recibió más de 1.000 interacciones de cuentas vinculas al movimiento oficialista. Cabe destacar que la línea editorial del canal Telefuturo fue una de las más críticas al gobierno durante la crisis de la enmienda. El perfil de la radio ABC Cardinal (`ABCCardinal`) y del periodística de esta radio Javier Sánchez (`JavierSanchezPy`) se destacan también como relevantes dentro de la red del movimiento **`Honor Colorado`**."
   ]
  },
  {
   "cell_type": "markdown",
   "metadata": {},
   "source": [
    "![Red Interacciones](../../sna/img/internas-anr-hc-red.png)"
   ]
  },
  {
   "cell_type": "markdown",
   "metadata": {},
   "source": [
    "## Colorado Añeteté"
   ]
  },
  {
   "cell_type": "markdown",
   "metadata": {},
   "source": [
    "Aproximadamente 33% del total de perfiles (**7.629**) de la red de interacciones de la ANR está compuesta por cuenta relacionadas al movimiento **`Colorado Añeteté`**. Estos perfiles interactuaron 14.333 veces durante el último mes de campaña y los primeros días de Enero de 2018. En promedio los perfiles realizaron 1.87 interacciones. Como era de esperarse y se puede notar en la gráfica, la red de **`Colorado Añeteté`** está fuertemente centrada en la figura del candidato a presidente Mario Abdo (`MaritoAbdo`). Esto lo confirman las casi 3.500 interacciones que recibió.\n",
    "\n",
    "Aunque muy por debajo de Abdo, otros perfiles en la red de **`Colorado Añeteté`** que recibieron una importante cantidad de interacciones son `JuanAfara` (485), `enriquevp` (450), y `minaftv` (324). `Paraguaynosune` es el perfil que más interacciones generó (167) seguido de `Solmega` (92) y `Beatriz20D` (75)."
   ]
  },
  {
   "cell_type": "markdown",
   "metadata": {},
   "source": [
    "![Red Interacciones](../../sna/img/internas-anr-ca-red.png)"
   ]
  },
  {
   "cell_type": "markdown",
   "metadata": {},
   "source": [
    "## Interacciones alrededor de perfiles relevantes"
   ]
  },
  {
   "cell_type": "markdown",
   "metadata": {},
   "source": [
    "Aquí analizaremos las interacciones alrededor de perfiles relevantes en la red pero no directamente vinculados a la campaña electoral de las internas de la ANR, p.ej., `Santula`, `LuisBareiro`, `enriquevp`, `desimasi2`."
   ]
  },
  {
   "cell_type": "markdown",
   "metadata": {},
   "source": [
    "### Santiago González (Santula)"
   ]
  },
  {
   "cell_type": "code",
   "execution_count": 302,
   "metadata": {},
   "outputs": [],
   "source": [
    "na = NetworkAnalyzer()\n",
    "inter_santula = na.get_out_interactions('Santula')"
   ]
  },
  {
   "cell_type": "markdown",
   "metadata": {},
   "source": [
    "#### Interacciones generadas"
   ]
  },
  {
   "cell_type": "markdown",
   "metadata": {},
   "source": [
    "Las interacciones generadas son todas aquellas publicaciones realizadas por el usuario. Esto comprende los tweets originales, los retweets, las respuestas a tweets, y las citaciones"
   ]
  },
  {
   "cell_type": "code",
   "execution_count": 303,
   "metadata": {},
   "outputs": [
    {
     "name": "stdout",
     "output_type": "stream",
     "text": [
      "145 tweets; 24 retweets, 6 respuestas, 111 menciones, y 4 citaciones\n"
     ]
    }
   ],
   "source": [
    "print('{0} tweets; {1} retweets, {2} respuestas, {3} menciones, y {4} citaciones'. \\\n",
    "      format(inter_santula['out_interactions']['total']['count'], \\\n",
    "             inter_santula['out_interactions']['retweets']['count'], \\\n",
    "             inter_santula['out_interactions']['replies']['count'], \\\n",
    "             inter_santula['out_interactions']['mentions']['count'], \\\n",
    "             inter_santula['out_interactions']['quotes']['count']))"
   ]
  },
  {
   "cell_type": "markdown",
   "metadata": {},
   "source": [
    "##### Perfiles más retuiteados"
   ]
  },
  {
   "cell_type": "code",
   "execution_count": 21,
   "metadata": {},
   "outputs": [
    {
     "data": {
      "text/html": [
       "<div>\n",
       "<style scoped>\n",
       "    .dataframe tbody tr th:only-of-type {\n",
       "        vertical-align: middle;\n",
       "    }\n",
       "\n",
       "    .dataframe tbody tr th {\n",
       "        vertical-align: top;\n",
       "    }\n",
       "\n",
       "    .dataframe thead th {\n",
       "        text-align: right;\n",
       "    }\n",
       "</style>\n",
       "<table border=\"1\" class=\"dataframe\">\n",
       "  <thead>\n",
       "    <tr style=\"text-align: right;\">\n",
       "      <th></th>\n",
       "      <th>1.Perfil</th>\n",
       "      <th>2.Total retweets</th>\n",
       "    </tr>\n",
       "  </thead>\n",
       "  <tbody>\n",
       "    <tr>\n",
       "      <th>0</th>\n",
       "      <td>algoandamalpy</td>\n",
       "      <td>12</td>\n",
       "    </tr>\n",
       "    <tr>\n",
       "      <th>1</th>\n",
       "      <td>TelefuturoInfo</td>\n",
       "      <td>3</td>\n",
       "    </tr>\n",
       "    <tr>\n",
       "      <th>2</th>\n",
       "      <td>juankilezcano</td>\n",
       "      <td>3</td>\n",
       "    </tr>\n",
       "    <tr>\n",
       "      <th>3</th>\n",
       "      <td>minaftv</td>\n",
       "      <td>2</td>\n",
       "    </tr>\n",
       "    <tr>\n",
       "      <th>4</th>\n",
       "      <td>Santula</td>\n",
       "      <td>1</td>\n",
       "    </tr>\n",
       "  </tbody>\n",
       "</table>\n",
       "</div>"
      ],
      "text/plain": [
       "         1.Perfil  2.Total retweets\n",
       "0   algoandamalpy                12\n",
       "1  TelefuturoInfo                 3\n",
       "2   juankilezcano                 3\n",
       "3         minaftv                 2\n",
       "4         Santula                 1"
      ]
     },
     "execution_count": 21,
     "metadata": {},
     "output_type": "execute_result"
    }
   ],
   "source": [
    "top_rts = []\n",
    "out_inter_santula = inter_santula['out_interactions']['retweets']['details']\n",
    "max_iter = 5 if len(out_inter_santula) > 5 else len(out_inter_santula)\n",
    "for i in range(max_iter):\n",
    "    contacto = {'1.Perfil': out_inter_santula[i][0], \n",
    "                '2.Total retweets': out_inter_santula[i][1]\n",
    "               }\n",
    "    top_rts.append(contacto)\n",
    "pd.DataFrame(top_rts)"
   ]
  },
  {
   "cell_type": "markdown",
   "metadata": {},
   "source": [
    "##### Perfiles más mencionados"
   ]
  },
  {
   "cell_type": "code",
   "execution_count": 22,
   "metadata": {},
   "outputs": [
    {
     "data": {
      "text/html": [
       "<div>\n",
       "<style scoped>\n",
       "    .dataframe tbody tr th:only-of-type {\n",
       "        vertical-align: middle;\n",
       "    }\n",
       "\n",
       "    .dataframe tbody tr th {\n",
       "        vertical-align: top;\n",
       "    }\n",
       "\n",
       "    .dataframe thead th {\n",
       "        text-align: right;\n",
       "    }\n",
       "</style>\n",
       "<table border=\"1\" class=\"dataframe\">\n",
       "  <thead>\n",
       "    <tr style=\"text-align: right;\">\n",
       "      <th></th>\n",
       "      <th>1.Perfil</th>\n",
       "      <th>2.Total menciones</th>\n",
       "    </tr>\n",
       "  </thead>\n",
       "  <tbody>\n",
       "    <tr>\n",
       "      <th>0</th>\n",
       "      <td>Telefuturo</td>\n",
       "      <td>38</td>\n",
       "    </tr>\n",
       "    <tr>\n",
       "      <th>1</th>\n",
       "      <td>MaritoAbdo</td>\n",
       "      <td>28</td>\n",
       "    </tr>\n",
       "    <tr>\n",
       "      <th>2</th>\n",
       "      <td>SantiPenap</td>\n",
       "      <td>24</td>\n",
       "    </tr>\n",
       "    <tr>\n",
       "      <th>3</th>\n",
       "      <td>EfrainAlegre</td>\n",
       "      <td>13</td>\n",
       "    </tr>\n",
       "    <tr>\n",
       "      <th>4</th>\n",
       "      <td>nanduti</td>\n",
       "      <td>2</td>\n",
       "    </tr>\n",
       "  </tbody>\n",
       "</table>\n",
       "</div>"
      ],
      "text/plain": [
       "       1.Perfil  2.Total menciones\n",
       "0    Telefuturo                 38\n",
       "1    MaritoAbdo                 28\n",
       "2    SantiPenap                 24\n",
       "3  EfrainAlegre                 13\n",
       "4       nanduti                  2"
      ]
     },
     "execution_count": 22,
     "metadata": {},
     "output_type": "execute_result"
    }
   ],
   "source": [
    "top_mts = []\n",
    "out_inter_santula = inter_santula['out_interactions']['mentions']['details']\n",
    "max_iter = 5 if len(out_inter_santula) > 5 else len(out_inter_santula)\n",
    "for i in range(max_iter):\n",
    "    contacto = {'1.Perfil': out_inter_santula[i][0], \n",
    "                '2.Total menciones': out_inter_santula[i][1]\n",
    "               }\n",
    "    top_mts.append(contacto)\n",
    "pd.DataFrame(top_mts)"
   ]
  },
  {
   "cell_type": "markdown",
   "metadata": {},
   "source": [
    "##### Perfiles más citados"
   ]
  },
  {
   "cell_type": "code",
   "execution_count": 23,
   "metadata": {},
   "outputs": [
    {
     "data": {
      "text/html": [
       "<div>\n",
       "<style scoped>\n",
       "    .dataframe tbody tr th:only-of-type {\n",
       "        vertical-align: middle;\n",
       "    }\n",
       "\n",
       "    .dataframe tbody tr th {\n",
       "        vertical-align: top;\n",
       "    }\n",
       "\n",
       "    .dataframe thead th {\n",
       "        text-align: right;\n",
       "    }\n",
       "</style>\n",
       "<table border=\"1\" class=\"dataframe\">\n",
       "  <thead>\n",
       "    <tr style=\"text-align: right;\">\n",
       "      <th></th>\n",
       "      <th>1.Perfil</th>\n",
       "      <th>2.Total citas</th>\n",
       "    </tr>\n",
       "  </thead>\n",
       "  <tbody>\n",
       "    <tr>\n",
       "      <th>0</th>\n",
       "      <td>MoWet2015</td>\n",
       "      <td>1</td>\n",
       "    </tr>\n",
       "    <tr>\n",
       "      <th>1</th>\n",
       "      <td>UltimaHoracom</td>\n",
       "      <td>1</td>\n",
       "    </tr>\n",
       "    <tr>\n",
       "      <th>2</th>\n",
       "      <td>algoandamalpy</td>\n",
       "      <td>1</td>\n",
       "    </tr>\n",
       "    <tr>\n",
       "      <th>3</th>\n",
       "      <td>MaritoAbdo</td>\n",
       "      <td>1</td>\n",
       "    </tr>\n",
       "  </tbody>\n",
       "</table>\n",
       "</div>"
      ],
      "text/plain": [
       "        1.Perfil  2.Total citas\n",
       "0      MoWet2015              1\n",
       "1  UltimaHoracom              1\n",
       "2  algoandamalpy              1\n",
       "3     MaritoAbdo              1"
      ]
     },
     "execution_count": 23,
     "metadata": {},
     "output_type": "execute_result"
    }
   ],
   "source": [
    "top_qts = []\n",
    "out_inter_santula = inter_santula['out_interactions']['quotes']['details']\n",
    "max_iter = 5 if len(out_inter_santula) > 5 else len(out_inter_santula)\n",
    "for i in range(max_iter):\n",
    "    contacto = {'1.Perfil': out_inter_santula[i][0], \n",
    "                '2.Total citas': out_inter_santula[i][1]\n",
    "               }\n",
    "    top_qts.append(contacto)\n",
    "pd.DataFrame(top_qts)"
   ]
  },
  {
   "cell_type": "markdown",
   "metadata": {},
   "source": [
    "##### Perfiles a quiénes más respondió"
   ]
  },
  {
   "cell_type": "code",
   "execution_count": 25,
   "metadata": {},
   "outputs": [
    {
     "data": {
      "text/html": [
       "<div>\n",
       "<style scoped>\n",
       "    .dataframe tbody tr th:only-of-type {\n",
       "        vertical-align: middle;\n",
       "    }\n",
       "\n",
       "    .dataframe tbody tr th {\n",
       "        vertical-align: top;\n",
       "    }\n",
       "\n",
       "    .dataframe thead th {\n",
       "        text-align: right;\n",
       "    }\n",
       "</style>\n",
       "<table border=\"1\" class=\"dataframe\">\n",
       "  <thead>\n",
       "    <tr style=\"text-align: right;\">\n",
       "      <th></th>\n",
       "      <th>1.Perfil</th>\n",
       "      <th>2.Total respuestas</th>\n",
       "    </tr>\n",
       "  </thead>\n",
       "  <tbody>\n",
       "    <tr>\n",
       "      <th>0</th>\n",
       "      <td>josemfer</td>\n",
       "      <td>3</td>\n",
       "    </tr>\n",
       "    <tr>\n",
       "      <th>1</th>\n",
       "      <td>PolemicaPy</td>\n",
       "      <td>1</td>\n",
       "    </tr>\n",
       "    <tr>\n",
       "      <th>2</th>\n",
       "      <td>MariaGodoyMora1</td>\n",
       "      <td>1</td>\n",
       "    </tr>\n",
       "    <tr>\n",
       "      <th>3</th>\n",
       "      <td>majozpires</td>\n",
       "      <td>1</td>\n",
       "    </tr>\n",
       "  </tbody>\n",
       "</table>\n",
       "</div>"
      ],
      "text/plain": [
       "          1.Perfil  2.Total respuestas\n",
       "0         josemfer                   3\n",
       "1       PolemicaPy                   1\n",
       "2  MariaGodoyMora1                   1\n",
       "3       majozpires                   1"
      ]
     },
     "execution_count": 25,
     "metadata": {},
     "output_type": "execute_result"
    }
   ],
   "source": [
    "top_rps = []\n",
    "out_inter_santula = inter_santula['out_interactions']['replies']['details']\n",
    "max_iter = 5 if len(out_inter_santula) > 5 else len(out_inter_santula)\n",
    "for i in range(max_iter):\n",
    "    contacto = {'1.Perfil': out_inter_santula[i][0], \n",
    "                '2.Total respuestas': out_inter_santula[i][1]\n",
    "               }\n",
    "    top_rps.append(contacto)\n",
    "pd.DataFrame(top_rps)"
   ]
  },
  {
   "cell_type": "markdown",
   "metadata": {},
   "source": [
    "Lo más resaltante de las interacciones de `@Santula` es que durante el período de muestreo un importante número de sus publicaciones se centraron en tweets que mencionaron a los principales pre-candidatos a la presidencia de la república, `Mario Abdo Benítez`, `Santiago Peña`, y `Efrain Alegre`."
   ]
  },
  {
   "cell_type": "markdown",
   "metadata": {},
   "source": [
    "#### Interacciones recibidas"
   ]
  },
  {
   "cell_type": "markdown",
   "metadata": {},
   "source": [
    "Las interacciones recibidas corresponde a todos aquellos tweets donde se menciona al usuario, se cita al usuario, se retuitea o responde a una publicación del usuario."
   ]
  },
  {
   "cell_type": "code",
   "execution_count": 304,
   "metadata": {},
   "outputs": [],
   "source": [
    "inter_santula = na.get_in_interactions('Santula')"
   ]
  },
  {
   "cell_type": "code",
   "execution_count": 305,
   "metadata": {},
   "outputs": [
    {
     "name": "stdout",
     "output_type": "stream",
     "text": [
      "7743 tweets; 6000 retweets, 1563 respuestas, 118 menciones, y 62 citaciones\n"
     ]
    }
   ],
   "source": [
    "print('{0} tweets; {1} retweets, {2} respuestas, {3} menciones, y {4} citaciones'. \\\n",
    "      format(inter_santula['in_interactions']['total']['count'], \\\n",
    "             inter_santula['in_interactions']['retweets']['count'], \\\n",
    "             inter_santula['in_interactions']['replies']['count'], \\\n",
    "             inter_santula['in_interactions']['mentions']['count'], \\\n",
    "             inter_santula['in_interactions']['quotes']['count']))"
   ]
  },
  {
   "cell_type": "markdown",
   "metadata": {},
   "source": [
    "##### Perfiles que más retuiteron sus publicaciones"
   ]
  },
  {
   "cell_type": "code",
   "execution_count": 306,
   "metadata": {},
   "outputs": [
    {
     "data": {
      "text/html": [
       "<div>\n",
       "<style scoped>\n",
       "    .dataframe tbody tr th:only-of-type {\n",
       "        vertical-align: middle;\n",
       "    }\n",
       "\n",
       "    .dataframe tbody tr th {\n",
       "        vertical-align: top;\n",
       "    }\n",
       "\n",
       "    .dataframe thead th {\n",
       "        text-align: right;\n",
       "    }\n",
       "</style>\n",
       "<table border=\"1\" class=\"dataframe\">\n",
       "  <thead>\n",
       "    <tr style=\"text-align: right;\">\n",
       "      <th></th>\n",
       "      <th>1.Perfil</th>\n",
       "      <th>2.Total retweets</th>\n",
       "      <th>3.PBB</th>\n",
       "    </tr>\n",
       "  </thead>\n",
       "  <tbody>\n",
       "    <tr>\n",
       "      <th>0</th>\n",
       "      <td>ChristianDoldan</td>\n",
       "      <td>32</td>\n",
       "      <td>0.561026</td>\n",
       "    </tr>\n",
       "    <tr>\n",
       "      <th>1</th>\n",
       "      <td>christianchena</td>\n",
       "      <td>14</td>\n",
       "      <td>0.306535</td>\n",
       "    </tr>\n",
       "    <tr>\n",
       "      <th>2</th>\n",
       "      <td>Norabeli</td>\n",
       "      <td>14</td>\n",
       "      <td>0.385551</td>\n",
       "    </tr>\n",
       "    <tr>\n",
       "      <th>3</th>\n",
       "      <td>Beatriz20D</td>\n",
       "      <td>14</td>\n",
       "      <td>0.744348</td>\n",
       "    </tr>\n",
       "    <tr>\n",
       "      <th>4</th>\n",
       "      <td>Ever_Caceres</td>\n",
       "      <td>13</td>\n",
       "      <td>0.536960</td>\n",
       "    </tr>\n",
       "  </tbody>\n",
       "</table>\n",
       "</div>"
      ],
      "text/plain": [
       "          1.Perfil  2.Total retweets     3.PBB\n",
       "0  ChristianDoldan                32  0.561026\n",
       "1   christianchena                14  0.306535\n",
       "2         Norabeli                14  0.385551\n",
       "3       Beatriz20D                14  0.744348\n",
       "4     Ever_Caceres                13  0.536960"
      ]
     },
     "execution_count": 306,
     "metadata": {},
     "output_type": "execute_result"
    }
   ],
   "source": [
    "rts = []\n",
    "in_inter_santula = inter_santula['in_interactions']['retweets']['details']\n",
    "sorted_in_interactions = sorted(in_inter_santula.items(), key=lambda kv: kv[1], reverse=True)\n",
    "for interaction in sorted_in_interactions:\n",
    "    contacto = {'1.Perfil': interaction[0], \n",
    "                '2.Total retweets': interaction[1],\n",
    "                '3.PBB': float(all_users_df[all_users_df['screen_name']==interaction[0]]['pbb'])\n",
    "               }\n",
    "    rts.append(contacto)\n",
    "rts_df = pd.DataFrame(rts)\n",
    "rts_df.head()"
   ]
  },
  {
   "cell_type": "markdown",
   "metadata": {},
   "source": [
    "**¿Cuántos de esos perfiles son bots?**"
   ]
  },
  {
   "cell_type": "code",
   "execution_count": 307,
   "metadata": {},
   "outputs": [
    {
     "name": "stdout",
     "output_type": "stream",
     "text": [
      "De los 4057 perfiles que retuitearon, 528 son bots (13.0%)\n"
     ]
    }
   ],
   "source": [
    "rt_bots = rts_df[rts_df['3.PBB']>quantile_75]\n",
    "print('De los {0} perfiles que retuitearon, {1} son bots ({2}%)'.format(rts_df.shape[0], \n",
    "                                                                        rt_bots.shape[0],\n",
    "                                                                        round(100*rt_bots.shape[0]/rts_df.shape[0],0)))"
   ]
  },
  {
   "cell_type": "markdown",
   "metadata": {},
   "source": [
    "##### Perfiles que más respondieron a sus publicaciones"
   ]
  },
  {
   "cell_type": "code",
   "execution_count": 308,
   "metadata": {},
   "outputs": [
    {
     "data": {
      "text/html": [
       "<div>\n",
       "<style scoped>\n",
       "    .dataframe tbody tr th:only-of-type {\n",
       "        vertical-align: middle;\n",
       "    }\n",
       "\n",
       "    .dataframe tbody tr th {\n",
       "        vertical-align: top;\n",
       "    }\n",
       "\n",
       "    .dataframe thead th {\n",
       "        text-align: right;\n",
       "    }\n",
       "</style>\n",
       "<table border=\"1\" class=\"dataframe\">\n",
       "  <thead>\n",
       "    <tr style=\"text-align: right;\">\n",
       "      <th></th>\n",
       "      <th>1.Perfil</th>\n",
       "      <th>2.Total respuestas</th>\n",
       "      <th>3.PBB</th>\n",
       "      <th>4.Movimiento</th>\n",
       "    </tr>\n",
       "  </thead>\n",
       "  <tbody>\n",
       "    <tr>\n",
       "      <th>0</th>\n",
       "      <td>SemideiOmar</td>\n",
       "      <td>10</td>\n",
       "      <td>0.263063</td>\n",
       "      <td>honor colorado</td>\n",
       "    </tr>\n",
       "    <tr>\n",
       "      <th>1</th>\n",
       "      <td>MariaelenaSugat</td>\n",
       "      <td>9</td>\n",
       "      <td>2.441203</td>\n",
       "      <td>honor colorado</td>\n",
       "    </tr>\n",
       "    <tr>\n",
       "      <th>2</th>\n",
       "      <td>FarinaLfa</td>\n",
       "      <td>9</td>\n",
       "      <td>0.457579</td>\n",
       "      <td>honor colorado</td>\n",
       "    </tr>\n",
       "    <tr>\n",
       "      <th>3</th>\n",
       "      <td>SantacruzFISA</td>\n",
       "      <td>8</td>\n",
       "      <td>0.659704</td>\n",
       "      <td>honor colorado</td>\n",
       "    </tr>\n",
       "    <tr>\n",
       "      <th>4</th>\n",
       "      <td>RaulOjedaCano2</td>\n",
       "      <td>8</td>\n",
       "      <td>0.308373</td>\n",
       "      <td>colorado añetete</td>\n",
       "    </tr>\n",
       "  </tbody>\n",
       "</table>\n",
       "</div>"
      ],
      "text/plain": [
       "          1.Perfil  2.Total respuestas     3.PBB      4.Movimiento\n",
       "0      SemideiOmar                  10  0.263063    honor colorado\n",
       "1  MariaelenaSugat                   9  2.441203    honor colorado\n",
       "2        FarinaLfa                   9  0.457579    honor colorado\n",
       "3    SantacruzFISA                   8  0.659704    honor colorado\n",
       "4   RaulOjedaCano2                   8  0.308373  colorado añetete"
      ]
     },
     "execution_count": 308,
     "metadata": {},
     "output_type": "execute_result"
    }
   ],
   "source": [
    "rps = []\n",
    "in_inter_santula = inter_santula['in_interactions']['replies']['details']\n",
    "sorted_in_interactions = sorted(in_inter_santula.items(), key=lambda kv: kv[1], reverse=True)\n",
    "for interaction in sorted_in_interactions:\n",
    "    contacto = {'1.Perfil': interaction[0], \n",
    "                '2.Total respuestas': interaction[1],\n",
    "                '3.PBB': float(all_users_df[all_users_df['screen_name']==interaction[0]]['pbb']),\n",
    "                '4.Movimiento': all_users_df[all_users_df['screen_name']==interaction[0]]['movement'].values[0]\n",
    "               }\n",
    "    rps.append(contacto)\n",
    "rps_df = pd.DataFrame(rps)\n",
    "rps_df.head()"
   ]
  },
  {
   "cell_type": "markdown",
   "metadata": {},
   "source": [
    "**¿Cuántos de esos perfiles son bots?**"
   ]
  },
  {
   "cell_type": "code",
   "execution_count": 309,
   "metadata": {},
   "outputs": [
    {
     "name": "stdout",
     "output_type": "stream",
     "text": [
      "De los 1135 perfiles que respondieron, 364 son bots (32.0%)\n"
     ]
    },
    {
     "name": "stderr",
     "output_type": "stream",
     "text": [
      "/Users/jorgesaldivar/Dropbox/Development/politic-bots/env/lib/python3.4/site-packages/ipykernel_launcher.py:5: SettingWithCopyWarning: \n",
      "A value is trying to be set on a copy of a slice from a DataFrame\n",
      "\n",
      "See the caveats in the documentation: http://pandas.pydata.org/pandas-docs/stable/indexing.html#indexing-view-versus-copy\n",
      "  \"\"\"\n"
     ]
    },
    {
     "data": {
      "text/html": [
       "<div>\n",
       "<style scoped>\n",
       "    .dataframe tbody tr th:only-of-type {\n",
       "        vertical-align: middle;\n",
       "    }\n",
       "\n",
       "    .dataframe tbody tr th {\n",
       "        vertical-align: top;\n",
       "    }\n",
       "\n",
       "    .dataframe thead th {\n",
       "        text-align: right;\n",
       "    }\n",
       "</style>\n",
       "<table border=\"1\" class=\"dataframe\">\n",
       "  <thead>\n",
       "    <tr style=\"text-align: right;\">\n",
       "      <th></th>\n",
       "      <th>1.Perfil</th>\n",
       "      <th>2.Total respuestas</th>\n",
       "      <th>3.PBB</th>\n",
       "      <th>4.Movimiento</th>\n",
       "    </tr>\n",
       "  </thead>\n",
       "  <tbody>\n",
       "    <tr>\n",
       "      <th>683</th>\n",
       "      <td>AndrsEspinola3</td>\n",
       "      <td>1</td>\n",
       "      <td>13.364287</td>\n",
       "      <td>colorado añetete</td>\n",
       "    </tr>\n",
       "    <tr>\n",
       "      <th>213</th>\n",
       "      <td>michela19431</td>\n",
       "      <td>2</td>\n",
       "      <td>11.263318</td>\n",
       "      <td>colorado añetete</td>\n",
       "    </tr>\n",
       "    <tr>\n",
       "      <th>257</th>\n",
       "      <td>adilsonalamval1</td>\n",
       "      <td>1</td>\n",
       "      <td>10.980786</td>\n",
       "      <td>honor colorado</td>\n",
       "    </tr>\n",
       "    <tr>\n",
       "      <th>591</th>\n",
       "      <td>Norma88756536</td>\n",
       "      <td>1</td>\n",
       "      <td>10.500607</td>\n",
       "      <td>colorado añetete</td>\n",
       "    </tr>\n",
       "    <tr>\n",
       "      <th>921</th>\n",
       "      <td>josevillalba111</td>\n",
       "      <td>1</td>\n",
       "      <td>9.830137</td>\n",
       "      <td>honor colorado</td>\n",
       "    </tr>\n",
       "  </tbody>\n",
       "</table>\n",
       "</div>"
      ],
      "text/plain": [
       "            1.Perfil  2.Total respuestas      3.PBB      4.Movimiento\n",
       "683   AndrsEspinola3                   1  13.364287  colorado añetete\n",
       "213     michela19431                   2  11.263318  colorado añetete\n",
       "257  adilsonalamval1                   1  10.980786    honor colorado\n",
       "591    Norma88756536                   1  10.500607  colorado añetete\n",
       "921  josevillalba111                   1   9.830137    honor colorado"
      ]
     },
     "execution_count": 309,
     "metadata": {},
     "output_type": "execute_result"
    }
   ],
   "source": [
    "rp_bots = rps_df[rps_df['3.PBB']>quantile_75]\n",
    "print('De los {0} perfiles que respondieron, {1} son bots ({2}%)'.format(rps_df.shape[0], \n",
    "                                                                         rp_bots.shape[0],\n",
    "                                                                         round(100*rp_bots.shape[0]/rps_df.shape[0],0)))\n",
    "rp_bots.sort_values('3.PBB', inplace=True, ascending=False)\n",
    "rp_bots.head()"
   ]
  },
  {
   "cell_type": "code",
   "execution_count": 310,
   "metadata": {},
   "outputs": [
    {
     "name": "stderr",
     "output_type": "stream",
     "text": [
      "/Users/jorgesaldivar/Dropbox/Development/politic-bots/env/lib/python3.4/site-packages/ipykernel_launcher.py:1: SettingWithCopyWarning: \n",
      "A value is trying to be set on a copy of a slice from a DataFrame\n",
      "\n",
      "See the caveats in the documentation: http://pandas.pydata.org/pandas-docs/stable/indexing.html#indexing-view-versus-copy\n",
      "  \"\"\"Entry point for launching an IPython kernel.\n"
     ]
    },
    {
     "data": {
      "text/plain": [
       "50"
      ]
     },
     "execution_count": 310,
     "metadata": {},
     "output_type": "execute_result"
    }
   ],
   "source": [
    "rp_bots.sort_values('2.Total respuestas', inplace=True, ascending=False)\n",
    "sub_set_rp_bots = rp_bots.head(50)\n",
    "sub_set_rp_bots[sub_set_rp_bots['3.PBB']>quantile_75].shape[0]"
   ]
  },
  {
   "cell_type": "markdown",
   "metadata": {},
   "source": [
    "#### ¿Cuántos bots son HC?"
   ]
  },
  {
   "cell_type": "code",
   "execution_count": 311,
   "metadata": {},
   "outputs": [
    {
     "data": {
      "text/plain": [
       "244"
      ]
     },
     "execution_count": 311,
     "metadata": {},
     "output_type": "execute_result"
    }
   ],
   "source": [
    "rp_bots[rp_bots['4.Movimiento']=='honor colorado'].shape[0]"
   ]
  },
  {
   "cell_type": "code",
   "execution_count": 130,
   "metadata": {},
   "outputs": [],
   "source": [
    "replies_bots = db.search({'tweet_obj.retweeted_status': {'$exists': 0},\n",
    "                          'tweet_obj.in_reply_to_status_id_str': {'$ne': None},\n",
    "                          'tweet_obj.in_reply_to_screen_name': {'$eq': 'Santula'},\n",
    "                          'tweet_obj.is_quote_status': False,\n",
    "                          'tweet_obj.user.screen_name': {'$in': list(rp_bots['1.Perfil'])}})"
   ]
  },
  {
   "cell_type": "code",
   "execution_count": 131,
   "metadata": {},
   "outputs": [
    {
     "name": "stdout",
     "output_type": "stream",
     "text": [
      "Total replies: 511\n",
      "Positive replies: 139\n",
      "Neutral replies: 279\n",
      "Negative replies: 93\n"
     ]
    }
   ],
   "source": [
    "total_replies_bots = replies_bots.count()\n",
    "pos_replies, neu_replies, neg_replies = 0, 0, 0\n",
    "id_txt_replies = []\n",
    "for reply in replies_bots:\n",
    "    if reply['sentimiento']['tono'] == 'negative':\n",
    "        neg_replies += 1\n",
    "        if 'full_text' in reply['tweet_obj'].keys():\n",
    "            id_txt_replies.append({'text': reply['tweet_obj']['full_text'], \n",
    "                                   'id': reply['tweet_obj']['id_str'],\n",
    "                                   'author': reply['tweet_obj']['user']['screen_name']})\n",
    "        else:\n",
    "            id_txt_replies.append({'text': reply['tweet_obj']['text'], \n",
    "                                   'id': reply['tweet_obj']['id_str'],\n",
    "                                   'author': reply['tweet_obj']['user']['screen_name']})\n",
    "    if reply['sentimiento']['tono'] == 'neutral':\n",
    "        neu_replies += 1\n",
    "    if reply['sentimiento']['tono'] == 'positive':\n",
    "        pos_replies += 1\n",
    "print('Total replies: {0}'.format(total_replies_bots))\n",
    "print('Positive replies: {0}'.format(pos_replies))\n",
    "print('Neutral replies: {0}'.format(neu_replies))\n",
    "print('Negative replies: {0}'.format(neg_replies))"
   ]
  },
  {
   "cell_type": "code",
   "execution_count": 132,
   "metadata": {},
   "outputs": [
    {
     "data": {
      "text/plain": [
       "[{'author': '12EspinolaElias',\n",
       "  'id': '943467558270889984',\n",
       "  'text': '@Santula @AM_1080 @SantiPenap puto santula puto'},\n",
       " {'author': '12EspinolaElias',\n",
       "  'id': '946732784382595072',\n",
       "  'text': '@Santula @MaritoAbdo puto'},\n",
       " {'author': 'AdelaidaPiris',\n",
       "  'id': '940760567945547776',\n",
       "  'text': '@Santula @SantiPenap @solenu @nanduti Que @Santula  vaya a investigar a su jefe Vierci por meter contrabando de azú… https://t.co/Hd0hthnZ5W'},\n",
       " {'author': 'Alberto210378',\n",
       "  'id': '943111976569458688',\n",
       "  'text': '@Santula @AM_1080 @SantiPenap Jajajaja cada estupidez que dice este Pena'},\n",
       " {'author': 'Andyfg89',\n",
       "  'id': '943102844281946112',\n",
       "  'text': '@Santula @AM_1080 @SantiPenap Pero si ahora es culpa de ustedes su derrota!!!! De risa es el tema!!!!'}]"
      ]
     },
     "execution_count": 132,
     "metadata": {},
     "output_type": "execute_result"
    }
   ],
   "source": [
    "id_txt_replies[:5]"
   ]
  },
  {
   "cell_type": "markdown",
   "metadata": {},
   "source": [
    "##### Perfiles que más mencionaron a Santula"
   ]
  },
  {
   "cell_type": "code",
   "execution_count": 312,
   "metadata": {},
   "outputs": [
    {
     "data": {
      "text/html": [
       "<div>\n",
       "<style scoped>\n",
       "    .dataframe tbody tr th:only-of-type {\n",
       "        vertical-align: middle;\n",
       "    }\n",
       "\n",
       "    .dataframe tbody tr th {\n",
       "        vertical-align: top;\n",
       "    }\n",
       "\n",
       "    .dataframe thead th {\n",
       "        text-align: right;\n",
       "    }\n",
       "</style>\n",
       "<table border=\"1\" class=\"dataframe\">\n",
       "  <thead>\n",
       "    <tr style=\"text-align: right;\">\n",
       "      <th></th>\n",
       "      <th>1.Perfil</th>\n",
       "      <th>2.Total menciones</th>\n",
       "      <th>3.PBB</th>\n",
       "    </tr>\n",
       "  </thead>\n",
       "  <tbody>\n",
       "    <tr>\n",
       "      <th>0</th>\n",
       "      <td>CarlosZ86636382</td>\n",
       "      <td>8</td>\n",
       "      <td>0.575252</td>\n",
       "    </tr>\n",
       "    <tr>\n",
       "      <th>1</th>\n",
       "      <td>Juangpy</td>\n",
       "      <td>7</td>\n",
       "      <td>0.439092</td>\n",
       "    </tr>\n",
       "    <tr>\n",
       "      <th>2</th>\n",
       "      <td>_kimberlyxc</td>\n",
       "      <td>5</td>\n",
       "      <td>0.461615</td>\n",
       "    </tr>\n",
       "    <tr>\n",
       "      <th>3</th>\n",
       "      <td>josanortiz88</td>\n",
       "      <td>4</td>\n",
       "      <td>0.413341</td>\n",
       "    </tr>\n",
       "    <tr>\n",
       "      <th>4</th>\n",
       "      <td>ANIBALCSPDS</td>\n",
       "      <td>4</td>\n",
       "      <td>0.663988</td>\n",
       "    </tr>\n",
       "  </tbody>\n",
       "</table>\n",
       "</div>"
      ],
      "text/plain": [
       "          1.Perfil  2.Total menciones     3.PBB\n",
       "0  CarlosZ86636382                  8  0.575252\n",
       "1          Juangpy                  7  0.439092\n",
       "2      _kimberlyxc                  5  0.461615\n",
       "3     josanortiz88                  4  0.413341\n",
       "4      ANIBALCSPDS                  4  0.663988"
      ]
     },
     "execution_count": 312,
     "metadata": {},
     "output_type": "execute_result"
    }
   ],
   "source": [
    "mts = []\n",
    "in_inter_santula = inter_santula['in_interactions']['mentions']['details']\n",
    "sorted_in_interactions = sorted(in_inter_santula.items(), key=lambda kv: kv[1], reverse=True)\n",
    "for interaction in sorted_in_interactions:\n",
    "    contacto = {'1.Perfil': interaction[0], \n",
    "                '2.Total menciones': interaction[1],\n",
    "                '3.PBB': float(all_users_df[all_users_df['screen_name']==interaction[0]]['pbb'])\n",
    "               }\n",
    "    mts.append(contacto)\n",
    "mts_df = pd.DataFrame(mts)\n",
    "mts_df.head()"
   ]
  },
  {
   "cell_type": "markdown",
   "metadata": {},
   "source": [
    "**¿Cuántos de esos perfiles son bots?**"
   ]
  },
  {
   "cell_type": "code",
   "execution_count": 313,
   "metadata": {},
   "outputs": [
    {
     "name": "stdout",
     "output_type": "stream",
     "text": [
      "De los 76 perfiles que mencionaron, 17 son bots (22.0%)\n"
     ]
    },
    {
     "name": "stderr",
     "output_type": "stream",
     "text": [
      "/Users/jorgesaldivar/Dropbox/Development/politic-bots/env/lib/python3.4/site-packages/ipykernel_launcher.py:5: SettingWithCopyWarning: \n",
      "A value is trying to be set on a copy of a slice from a DataFrame\n",
      "\n",
      "See the caveats in the documentation: http://pandas.pydata.org/pandas-docs/stable/indexing.html#indexing-view-versus-copy\n",
      "  \"\"\"\n"
     ]
    },
    {
     "data": {
      "text/html": [
       "<div>\n",
       "<style scoped>\n",
       "    .dataframe tbody tr th:only-of-type {\n",
       "        vertical-align: middle;\n",
       "    }\n",
       "\n",
       "    .dataframe tbody tr th {\n",
       "        vertical-align: top;\n",
       "    }\n",
       "\n",
       "    .dataframe thead th {\n",
       "        text-align: right;\n",
       "    }\n",
       "</style>\n",
       "<table border=\"1\" class=\"dataframe\">\n",
       "  <thead>\n",
       "    <tr style=\"text-align: right;\">\n",
       "      <th></th>\n",
       "      <th>1.Perfil</th>\n",
       "      <th>2.Total menciones</th>\n",
       "      <th>3.PBB</th>\n",
       "    </tr>\n",
       "  </thead>\n",
       "  <tbody>\n",
       "    <tr>\n",
       "      <th>30</th>\n",
       "      <td>brandonortigoz2</td>\n",
       "      <td>1</td>\n",
       "      <td>4.403884</td>\n",
       "    </tr>\n",
       "    <tr>\n",
       "      <th>62</th>\n",
       "      <td>PolitologoPerez</td>\n",
       "      <td>1</td>\n",
       "      <td>4.318150</td>\n",
       "    </tr>\n",
       "    <tr>\n",
       "      <th>61</th>\n",
       "      <td>Robertogo_py</td>\n",
       "      <td>1</td>\n",
       "      <td>4.216667</td>\n",
       "    </tr>\n",
       "    <tr>\n",
       "      <th>47</th>\n",
       "      <td>Irma59952042</td>\n",
       "      <td>1</td>\n",
       "      <td>3.773519</td>\n",
       "    </tr>\n",
       "    <tr>\n",
       "      <th>15</th>\n",
       "      <td>JoseElian17</td>\n",
       "      <td>2</td>\n",
       "      <td>2.180561</td>\n",
       "    </tr>\n",
       "  </tbody>\n",
       "</table>\n",
       "</div>"
      ],
      "text/plain": [
       "           1.Perfil  2.Total menciones     3.PBB\n",
       "30  brandonortigoz2                  1  4.403884\n",
       "62  PolitologoPerez                  1  4.318150\n",
       "61     Robertogo_py                  1  4.216667\n",
       "47     Irma59952042                  1  3.773519\n",
       "15      JoseElian17                  2  2.180561"
      ]
     },
     "execution_count": 313,
     "metadata": {},
     "output_type": "execute_result"
    }
   ],
   "source": [
    "mts_bots = mts_df[mts_df['3.PBB']>quantile_75]\n",
    "print('De los {0} perfiles que mencionaron, {1} son bots ({2}%)'.format(mts_df.shape[0], \n",
    "                                                                         mts_bots.shape[0],\n",
    "                                                                         round(100*mts_bots.shape[0]/mts_df.shape[0],0)))\n",
    "mts_bots.sort_values('3.PBB', inplace=True, ascending=False)\n",
    "mts_bots.head()"
   ]
  },
  {
   "cell_type": "markdown",
   "metadata": {},
   "source": [
    "##### Perfiles que más citaron publicaciones de Santula"
   ]
  },
  {
   "cell_type": "code",
   "execution_count": 314,
   "metadata": {},
   "outputs": [
    {
     "data": {
      "text/html": [
       "<div>\n",
       "<style scoped>\n",
       "    .dataframe tbody tr th:only-of-type {\n",
       "        vertical-align: middle;\n",
       "    }\n",
       "\n",
       "    .dataframe tbody tr th {\n",
       "        vertical-align: top;\n",
       "    }\n",
       "\n",
       "    .dataframe thead th {\n",
       "        text-align: right;\n",
       "    }\n",
       "</style>\n",
       "<table border=\"1\" class=\"dataframe\">\n",
       "  <thead>\n",
       "    <tr style=\"text-align: right;\">\n",
       "      <th></th>\n",
       "      <th>1.Perfil</th>\n",
       "      <th>2.Total citaciones</th>\n",
       "      <th>3.PBB</th>\n",
       "    </tr>\n",
       "  </thead>\n",
       "  <tbody>\n",
       "    <tr>\n",
       "      <th>0</th>\n",
       "      <td>heriberto7502</td>\n",
       "      <td>5</td>\n",
       "      <td>0.398463</td>\n",
       "    </tr>\n",
       "    <tr>\n",
       "      <th>1</th>\n",
       "      <td>jbenjaminb</td>\n",
       "      <td>2</td>\n",
       "      <td>0.282275</td>\n",
       "    </tr>\n",
       "    <tr>\n",
       "      <th>2</th>\n",
       "      <td>narakopguare</td>\n",
       "      <td>2</td>\n",
       "      <td>0.491188</td>\n",
       "    </tr>\n",
       "    <tr>\n",
       "      <th>3</th>\n",
       "      <td>cyzal</td>\n",
       "      <td>2</td>\n",
       "      <td>0.392415</td>\n",
       "    </tr>\n",
       "    <tr>\n",
       "      <th>4</th>\n",
       "      <td>hova_ata</td>\n",
       "      <td>2</td>\n",
       "      <td>0.226347</td>\n",
       "    </tr>\n",
       "  </tbody>\n",
       "</table>\n",
       "</div>"
      ],
      "text/plain": [
       "        1.Perfil  2.Total citaciones     3.PBB\n",
       "0  heriberto7502                   5  0.398463\n",
       "1     jbenjaminb                   2  0.282275\n",
       "2   narakopguare                   2  0.491188\n",
       "3          cyzal                   2  0.392415\n",
       "4       hova_ata                   2  0.226347"
      ]
     },
     "execution_count": 314,
     "metadata": {},
     "output_type": "execute_result"
    }
   ],
   "source": [
    "qts = []\n",
    "in_inter_santula = inter_santula['in_interactions']['quotes']['details']\n",
    "sorted_in_interactions = sorted(in_inter_santula.items(), key=lambda kv: kv[1], reverse=True)\n",
    "for interaction in sorted_in_interactions:\n",
    "    contacto = {'1.Perfil': interaction[0], \n",
    "                '2.Total citaciones': interaction[1],\n",
    "                '3.PBB': float(all_users_df[all_users_df['screen_name']==interaction[0]]['pbb'])\n",
    "               }\n",
    "    qts.append(contacto)\n",
    "qts_df = pd.DataFrame(qts)\n",
    "qts_df.head()"
   ]
  },
  {
   "cell_type": "markdown",
   "metadata": {},
   "source": [
    "**¿Cuántos de esos perfiles son bots?**"
   ]
  },
  {
   "cell_type": "code",
   "execution_count": 315,
   "metadata": {},
   "outputs": [
    {
     "name": "stdout",
     "output_type": "stream",
     "text": [
      "De los 54 perfiles que citaron, 4 son bots (7.0%)\n"
     ]
    },
    {
     "name": "stderr",
     "output_type": "stream",
     "text": [
      "/Users/jorgesaldivar/Dropbox/Development/politic-bots/env/lib/python3.4/site-packages/ipykernel_launcher.py:5: SettingWithCopyWarning: \n",
      "A value is trying to be set on a copy of a slice from a DataFrame\n",
      "\n",
      "See the caveats in the documentation: http://pandas.pydata.org/pandas-docs/stable/indexing.html#indexing-view-versus-copy\n",
      "  \"\"\"\n"
     ]
    },
    {
     "data": {
      "text/html": [
       "<div>\n",
       "<style scoped>\n",
       "    .dataframe tbody tr th:only-of-type {\n",
       "        vertical-align: middle;\n",
       "    }\n",
       "\n",
       "    .dataframe tbody tr th {\n",
       "        vertical-align: top;\n",
       "    }\n",
       "\n",
       "    .dataframe thead th {\n",
       "        text-align: right;\n",
       "    }\n",
       "</style>\n",
       "<table border=\"1\" class=\"dataframe\">\n",
       "  <thead>\n",
       "    <tr style=\"text-align: right;\">\n",
       "      <th></th>\n",
       "      <th>1.Perfil</th>\n",
       "      <th>2.Total citaciones</th>\n",
       "      <th>3.PBB</th>\n",
       "    </tr>\n",
       "  </thead>\n",
       "  <tbody>\n",
       "    <tr>\n",
       "      <th>11</th>\n",
       "      <td>kukim10</td>\n",
       "      <td>1</td>\n",
       "      <td>0.953852</td>\n",
       "    </tr>\n",
       "    <tr>\n",
       "      <th>34</th>\n",
       "      <td>palacios_josee</td>\n",
       "      <td>1</td>\n",
       "      <td>0.781927</td>\n",
       "    </tr>\n",
       "    <tr>\n",
       "      <th>32</th>\n",
       "      <td>vbgaikon</td>\n",
       "      <td>1</td>\n",
       "      <td>0.771509</td>\n",
       "    </tr>\n",
       "    <tr>\n",
       "      <th>50</th>\n",
       "      <td>richar_benitez</td>\n",
       "      <td>1</td>\n",
       "      <td>0.739714</td>\n",
       "    </tr>\n",
       "  </tbody>\n",
       "</table>\n",
       "</div>"
      ],
      "text/plain": [
       "          1.Perfil  2.Total citaciones     3.PBB\n",
       "11         kukim10                   1  0.953852\n",
       "34  palacios_josee                   1  0.781927\n",
       "32        vbgaikon                   1  0.771509\n",
       "50  richar_benitez                   1  0.739714"
      ]
     },
     "execution_count": 315,
     "metadata": {},
     "output_type": "execute_result"
    }
   ],
   "source": [
    "qts_bots = qts_df[qts_df['3.PBB']>quantile_75]\n",
    "print('De los {0} perfiles que citaron, {1} son bots ({2}%)'.format(qts_df.shape[0], \n",
    "                                                                         qts_bots.shape[0],\n",
    "                                                                         round(100*qts_bots.shape[0]/qts_df.shape[0],0)))\n",
    "qts_bots.sort_values('3.PBB', inplace=True, ascending=False)\n",
    "qts_bots.head()"
   ]
  },
  {
   "cell_type": "markdown",
   "metadata": {},
   "source": [
    "#### En total, ¿cuántos perfiles del tipo interactuaron con Santula?"
   ]
  },
  {
   "cell_type": "code",
   "execution_count": 316,
   "metadata": {},
   "outputs": [
    {
     "name": "stdout",
     "output_type": "stream",
     "text": [
      "Del total 5016 perfiles que interacturaron con Santula, 855 son del tipo bot\n"
     ]
    }
   ],
   "source": [
    "# Get list of bots\n",
    "all_bots_st = []\n",
    "all_bots_st.extend(list(rt_bots['1.Perfil']))\n",
    "all_bots_st.extend(list(rp_bots['1.Perfil']))\n",
    "all_bots_st.extend(list(mts_bots['1.Perfil']))\n",
    "all_bots_st.extend(list(qts_bots['1.Perfil']))\n",
    "# Get list of all profiles\n",
    "all_prof_st = []\n",
    "all_prof_st.extend(list(rts_df['1.Perfil']))\n",
    "all_prof_st.extend(list(rps_df['1.Perfil']))\n",
    "all_prof_st.extend(list(mts_df['1.Perfil']))\n",
    "all_prof_st.extend(list(qts_df['1.Perfil']))\n",
    "print('Del total {0} perfiles que interacturaron con Santula, {1} son del tipo bot'.format(\n",
    "      len(set(all_prof_st)),\n",
    "      len(set(all_bots_st))))"
   ]
  },
  {
   "cell_type": "markdown",
   "metadata": {},
   "source": [
    "Casi el 80% (6000 de 7743) de las interacciones recibidas por `Santula` corresponde a retweets de sus publicaciones. Esto demuestra la relevancia de este perfil dentro de la red del movimiento `Honor Colorado`. Conociendo la postura crítica de `Santula` hacia las candidaturas de este movimiento se puede esperar que el contenido de estas publicaciones no hayan sido precisamente de promoción a los candidatos de HC.\n",
    "\n",
    "Otro aspecto a resaltar es la actividad del perfil `SemideiOmar`, quién respondió a casi el 10% de total de tweets (no retweets) de `Santula`. También existen perfiles con muchas menciones a `Santula` cuyos nombres no parecen ser reales, por ejemplo `CarlosZ86636382`."
   ]
  },
  {
   "cell_type": "markdown",
   "metadata": {},
   "source": [
    "### Luis Bareiro (LuisBareiro)"
   ]
  },
  {
   "cell_type": "code",
   "execution_count": 286,
   "metadata": {},
   "outputs": [],
   "source": [
    "na = NetworkAnalyzer()\n",
    "inter_bareiro = na.get_out_interactions('LuisBareiro')"
   ]
  },
  {
   "cell_type": "markdown",
   "metadata": {},
   "source": [
    "#### Interacciones generadas"
   ]
  },
  {
   "cell_type": "code",
   "execution_count": 287,
   "metadata": {},
   "outputs": [
    {
     "name": "stdout",
     "output_type": "stream",
     "text": [
      "17 tweets; 6 retweets, 10 respuestas, 1 menciones, y 0 citaciones\n"
     ]
    }
   ],
   "source": [
    "print('{0} tweets; {1} retweets, {2} respuestas, {3} menciones, y {4} citaciones'. \\\n",
    "      format(inter_bareiro['out_interactions']['total']['count'], \\\n",
    "             inter_bareiro['out_interactions']['retweets']['count'], \\\n",
    "             inter_bareiro['out_interactions']['replies']['count'], \\\n",
    "             inter_bareiro['out_interactions']['mentions']['count'], \\\n",
    "             inter_bareiro['out_interactions']['quotes']['count']))"
   ]
  },
  {
   "cell_type": "markdown",
   "metadata": {},
   "source": [
    "##### Perfiles más retuiteados"
   ]
  },
  {
   "cell_type": "code",
   "execution_count": 33,
   "metadata": {},
   "outputs": [
    {
     "data": {
      "text/html": [
       "<div>\n",
       "<style scoped>\n",
       "    .dataframe tbody tr th:only-of-type {\n",
       "        vertical-align: middle;\n",
       "    }\n",
       "\n",
       "    .dataframe tbody tr th {\n",
       "        vertical-align: top;\n",
       "    }\n",
       "\n",
       "    .dataframe thead th {\n",
       "        text-align: right;\n",
       "    }\n",
       "</style>\n",
       "<table border=\"1\" class=\"dataframe\">\n",
       "  <thead>\n",
       "    <tr style=\"text-align: right;\">\n",
       "      <th></th>\n",
       "      <th>1.Perfil</th>\n",
       "      <th>2.Total retweets</th>\n",
       "    </tr>\n",
       "  </thead>\n",
       "  <tbody>\n",
       "    <tr>\n",
       "      <th>0</th>\n",
       "      <td>AM_1080</td>\n",
       "      <td>2</td>\n",
       "    </tr>\n",
       "    <tr>\n",
       "      <th>1</th>\n",
       "      <td>latelePy</td>\n",
       "      <td>2</td>\n",
       "    </tr>\n",
       "    <tr>\n",
       "      <th>2</th>\n",
       "      <td>Santula</td>\n",
       "      <td>1</td>\n",
       "    </tr>\n",
       "    <tr>\n",
       "      <th>3</th>\n",
       "      <td>Dii_villalba</td>\n",
       "      <td>1</td>\n",
       "    </tr>\n",
       "  </tbody>\n",
       "</table>\n",
       "</div>"
      ],
      "text/plain": [
       "       1.Perfil  2.Total retweets\n",
       "0       AM_1080                 2\n",
       "1      latelePy                 2\n",
       "2       Santula                 1\n",
       "3  Dii_villalba                 1"
      ]
     },
     "execution_count": 33,
     "metadata": {},
     "output_type": "execute_result"
    }
   ],
   "source": [
    "top_rts = []\n",
    "out_inter_bareiro = inter_bareiro['out_interactions']['retweets']['details']\n",
    "max_iter = 5 if len(out_inter_bareiro) > 5 else len(out_inter_bareiro)\n",
    "for i in range(max_iter):\n",
    "    contacto = {'1.Perfil': out_inter_bareiro[i][0], \n",
    "                '2.Total retweets': out_inter_bareiro[i][1]\n",
    "               }\n",
    "    top_rts.append(contacto)\n",
    "pd.DataFrame(top_rts)"
   ]
  },
  {
   "cell_type": "markdown",
   "metadata": {},
   "source": [
    "##### Perfiles a quiénes más respondió"
   ]
  },
  {
   "cell_type": "code",
   "execution_count": 288,
   "metadata": {},
   "outputs": [
    {
     "data": {
      "text/html": [
       "<div>\n",
       "<style scoped>\n",
       "    .dataframe tbody tr th:only-of-type {\n",
       "        vertical-align: middle;\n",
       "    }\n",
       "\n",
       "    .dataframe tbody tr th {\n",
       "        vertical-align: top;\n",
       "    }\n",
       "\n",
       "    .dataframe thead th {\n",
       "        text-align: right;\n",
       "    }\n",
       "</style>\n",
       "<table border=\"1\" class=\"dataframe\">\n",
       "  <thead>\n",
       "    <tr style=\"text-align: right;\">\n",
       "      <th></th>\n",
       "      <th>1.Perfil</th>\n",
       "      <th>2.Total respuestas</th>\n",
       "      <th>3.PBB</th>\n",
       "    </tr>\n",
       "  </thead>\n",
       "  <tbody>\n",
       "    <tr>\n",
       "      <th>0</th>\n",
       "      <td>gabiotago</td>\n",
       "      <td>2</td>\n",
       "      <td>0.721404</td>\n",
       "    </tr>\n",
       "    <tr>\n",
       "      <th>1</th>\n",
       "      <td>DeaMaldonado</td>\n",
       "      <td>2</td>\n",
       "      <td>0.357405</td>\n",
       "    </tr>\n",
       "    <tr>\n",
       "      <th>2</th>\n",
       "      <td>DanielPatioReal</td>\n",
       "      <td>1</td>\n",
       "      <td>0.487682</td>\n",
       "    </tr>\n",
       "    <tr>\n",
       "      <th>3</th>\n",
       "      <td>ARDaz82798131</td>\n",
       "      <td>1</td>\n",
       "      <td>3.831324</td>\n",
       "    </tr>\n",
       "    <tr>\n",
       "      <th>4</th>\n",
       "      <td>vlamanchao</td>\n",
       "      <td>1</td>\n",
       "      <td>0.456753</td>\n",
       "    </tr>\n",
       "  </tbody>\n",
       "</table>\n",
       "</div>"
      ],
      "text/plain": [
       "          1.Perfil  2.Total respuestas     3.PBB\n",
       "0        gabiotago                   2  0.721404\n",
       "1     DeaMaldonado                   2  0.357405\n",
       "2  DanielPatioReal                   1  0.487682\n",
       "3    ARDaz82798131                   1  3.831324\n",
       "4       vlamanchao                   1  0.456753"
      ]
     },
     "execution_count": 288,
     "metadata": {},
     "output_type": "execute_result"
    }
   ],
   "source": [
    "rps = []\n",
    "out_inter_bareiro = inter_bareiro['out_interactions']['replies']['details']\n",
    "sorted_out_interactions = sorted(out_inter_bareiro.items(), key=lambda kv: kv[1], reverse=True)\n",
    "for interaction in sorted_out_interactions:\n",
    "    contacto = {'1.Perfil': interaction[0], \n",
    "                '2.Total respuestas': interaction[1],\n",
    "                '3.PBB': float(all_users_df[all_users_df['screen_name']==interaction[0]]['pbb'])\n",
    "               }\n",
    "    rps.append(contacto)\n",
    "rps_ba_df = pd.DataFrame(rps)\n",
    "rps_ba_df.head()"
   ]
  },
  {
   "cell_type": "markdown",
   "metadata": {},
   "source": [
    "**¿Cuántos de esos perfiles son bots?**"
   ]
  },
  {
   "cell_type": "code",
   "execution_count": 289,
   "metadata": {},
   "outputs": [
    {
     "name": "stdout",
     "output_type": "stream",
     "text": [
      "De los 8 perfiles que respondieron, 5 son bots (62.0%)\n"
     ]
    },
    {
     "name": "stderr",
     "output_type": "stream",
     "text": [
      "/Users/jorgesaldivar/Dropbox/Development/politic-bots/env/lib/python3.4/site-packages/ipykernel_launcher.py:5: SettingWithCopyWarning: \n",
      "A value is trying to be set on a copy of a slice from a DataFrame\n",
      "\n",
      "See the caveats in the documentation: http://pandas.pydata.org/pandas-docs/stable/indexing.html#indexing-view-versus-copy\n",
      "  \"\"\"\n"
     ]
    },
    {
     "data": {
      "text/html": [
       "<div>\n",
       "<style scoped>\n",
       "    .dataframe tbody tr th:only-of-type {\n",
       "        vertical-align: middle;\n",
       "    }\n",
       "\n",
       "    .dataframe tbody tr th {\n",
       "        vertical-align: top;\n",
       "    }\n",
       "\n",
       "    .dataframe thead th {\n",
       "        text-align: right;\n",
       "    }\n",
       "</style>\n",
       "<table border=\"1\" class=\"dataframe\">\n",
       "  <thead>\n",
       "    <tr style=\"text-align: right;\">\n",
       "      <th></th>\n",
       "      <th>1.Perfil</th>\n",
       "      <th>2.Total respuestas</th>\n",
       "      <th>3.PBB</th>\n",
       "    </tr>\n",
       "  </thead>\n",
       "  <tbody>\n",
       "    <tr>\n",
       "      <th>3</th>\n",
       "      <td>ARDaz82798131</td>\n",
       "      <td>1</td>\n",
       "      <td>3.831324</td>\n",
       "    </tr>\n",
       "    <tr>\n",
       "      <th>5</th>\n",
       "      <td>IsidroRicardoV4</td>\n",
       "      <td>1</td>\n",
       "      <td>1.824115</td>\n",
       "    </tr>\n",
       "    <tr>\n",
       "      <th>7</th>\n",
       "      <td>jfrancovergara</td>\n",
       "      <td>1</td>\n",
       "      <td>1.748102</td>\n",
       "    </tr>\n",
       "    <tr>\n",
       "      <th>6</th>\n",
       "      <td>britez_ortiz1</td>\n",
       "      <td>1</td>\n",
       "      <td>0.899137</td>\n",
       "    </tr>\n",
       "    <tr>\n",
       "      <th>0</th>\n",
       "      <td>gabiotago</td>\n",
       "      <td>2</td>\n",
       "      <td>0.721404</td>\n",
       "    </tr>\n",
       "  </tbody>\n",
       "</table>\n",
       "</div>"
      ],
      "text/plain": [
       "          1.Perfil  2.Total respuestas     3.PBB\n",
       "3    ARDaz82798131                   1  3.831324\n",
       "5  IsidroRicardoV4                   1  1.824115\n",
       "7   jfrancovergara                   1  1.748102\n",
       "6    britez_ortiz1                   1  0.899137\n",
       "0        gabiotago                   2  0.721404"
      ]
     },
     "execution_count": 289,
     "metadata": {},
     "output_type": "execute_result"
    }
   ],
   "source": [
    "rp_ba_bots = rps_ba_df[rps_ba_df['3.PBB']>quantile_75]\n",
    "print('De los {0} perfiles que respondieron, {1} son bots ({2}%)'.format(rps_ba_df.shape[0], \n",
    "                                                                         rp_ba_bots.shape[0],\n",
    "                                                                         round(100*rp_ba_bots.shape[0]/rps_ba_df.shape[0],0)))\n",
    "rp_ba_bots.sort_values('3.PBB', inplace=True, ascending=False)\n",
    "rp_ba_bots.head()"
   ]
  },
  {
   "cell_type": "markdown",
   "metadata": {},
   "source": [
    "#### Interacciones recibidas"
   ]
  },
  {
   "cell_type": "code",
   "execution_count": 290,
   "metadata": {},
   "outputs": [],
   "source": [
    "inter_bareiro = na.get_in_interactions('LuisBareiro')"
   ]
  },
  {
   "cell_type": "code",
   "execution_count": 291,
   "metadata": {},
   "outputs": [
    {
     "name": "stdout",
     "output_type": "stream",
     "text": [
      "2938 tweets; 2680 retweets, 207 respuestas, 38 menciones, y 13 citaciones\n"
     ]
    }
   ],
   "source": [
    "print('{0} tweets; {1} retweets, {2} respuestas, {3} menciones, y {4} citaciones'. \\\n",
    "      format(inter_bareiro['in_interactions']['total']['count'], \\\n",
    "             inter_bareiro['in_interactions']['retweets']['count'], \\\n",
    "             inter_bareiro['in_interactions']['replies']['count'], \\\n",
    "             inter_bareiro['in_interactions']['mentions']['count'], \\\n",
    "             inter_bareiro['in_interactions']['quotes']['count']))"
   ]
  },
  {
   "cell_type": "markdown",
   "metadata": {},
   "source": [
    "##### Perfiles que más retuitearon sus publicaciones"
   ]
  },
  {
   "cell_type": "code",
   "execution_count": 292,
   "metadata": {},
   "outputs": [
    {
     "data": {
      "text/html": [
       "<div>\n",
       "<style scoped>\n",
       "    .dataframe tbody tr th:only-of-type {\n",
       "        vertical-align: middle;\n",
       "    }\n",
       "\n",
       "    .dataframe tbody tr th {\n",
       "        vertical-align: top;\n",
       "    }\n",
       "\n",
       "    .dataframe thead th {\n",
       "        text-align: right;\n",
       "    }\n",
       "</style>\n",
       "<table border=\"1\" class=\"dataframe\">\n",
       "  <thead>\n",
       "    <tr style=\"text-align: right;\">\n",
       "      <th></th>\n",
       "      <th>1.Perfil</th>\n",
       "      <th>2.Total retweets</th>\n",
       "      <th>3.PBB</th>\n",
       "    </tr>\n",
       "  </thead>\n",
       "  <tbody>\n",
       "    <tr>\n",
       "      <th>0</th>\n",
       "      <td>espiridion01</td>\n",
       "      <td>8</td>\n",
       "      <td>0.522269</td>\n",
       "    </tr>\n",
       "    <tr>\n",
       "      <th>1</th>\n",
       "      <td>GloriaB2B</td>\n",
       "      <td>2</td>\n",
       "      <td>0.396105</td>\n",
       "    </tr>\n",
       "    <tr>\n",
       "      <th>2</th>\n",
       "      <td>curahee343</td>\n",
       "      <td>1</td>\n",
       "      <td>0.714146</td>\n",
       "    </tr>\n",
       "    <tr>\n",
       "      <th>3</th>\n",
       "      <td>PilarAlonso92</td>\n",
       "      <td>1</td>\n",
       "      <td>0.750776</td>\n",
       "    </tr>\n",
       "    <tr>\n",
       "      <th>4</th>\n",
       "      <td>caroberdoy</td>\n",
       "      <td>1</td>\n",
       "      <td>0.336212</td>\n",
       "    </tr>\n",
       "  </tbody>\n",
       "</table>\n",
       "</div>"
      ],
      "text/plain": [
       "        1.Perfil  2.Total retweets     3.PBB\n",
       "0   espiridion01                 8  0.522269\n",
       "1      GloriaB2B                 2  0.396105\n",
       "2     curahee343                 1  0.714146\n",
       "3  PilarAlonso92                 1  0.750776\n",
       "4     caroberdoy                 1  0.336212"
      ]
     },
     "execution_count": 292,
     "metadata": {},
     "output_type": "execute_result"
    }
   ],
   "source": [
    "rts = []\n",
    "in_inter_bareiro = inter_bareiro['in_interactions']['retweets']['details']\n",
    "sorted_in_interactions = sorted(in_inter_bareiro.items(), key=lambda kv: kv[1], reverse=True)\n",
    "for interaction in sorted_in_interactions:\n",
    "    contacto = {'1.Perfil': interaction[0], \n",
    "                '2.Total retweets': interaction[1],\n",
    "                '3.PBB': float(all_users_df[all_users_df['screen_name']==interaction[0]]['pbb'])\n",
    "               }\n",
    "    rts.append(contacto)\n",
    "rts_df = pd.DataFrame(rts)\n",
    "rts_df.head()"
   ]
  },
  {
   "cell_type": "markdown",
   "metadata": {},
   "source": [
    "**¿Cuántos de esos perfiles son bots?**"
   ]
  },
  {
   "cell_type": "code",
   "execution_count": 293,
   "metadata": {},
   "outputs": [
    {
     "name": "stdout",
     "output_type": "stream",
     "text": [
      "De los 2672 perfiles que retuitearon, 324 son bots (12.0%)\n"
     ]
    }
   ],
   "source": [
    "rt_bots = rts_df[rts_df['3.PBB']>quantile_75]\n",
    "print('De los {0} perfiles que retuitearon, {1} son bots ({2}%)'.format(rts_df.shape[0], \n",
    "                                                                        rt_bots.shape[0],\n",
    "                                                                        round(100*rt_bots.shape[0]/rts_df.shape[0],0)))"
   ]
  },
  {
   "cell_type": "markdown",
   "metadata": {},
   "source": [
    "##### Perfiles que más respondieron a sus publicaciones"
   ]
  },
  {
   "cell_type": "code",
   "execution_count": 294,
   "metadata": {},
   "outputs": [
    {
     "data": {
      "text/html": [
       "<div>\n",
       "<style scoped>\n",
       "    .dataframe tbody tr th:only-of-type {\n",
       "        vertical-align: middle;\n",
       "    }\n",
       "\n",
       "    .dataframe tbody tr th {\n",
       "        vertical-align: top;\n",
       "    }\n",
       "\n",
       "    .dataframe thead th {\n",
       "        text-align: right;\n",
       "    }\n",
       "</style>\n",
       "<table border=\"1\" class=\"dataframe\">\n",
       "  <thead>\n",
       "    <tr style=\"text-align: right;\">\n",
       "      <th></th>\n",
       "      <th>1.Perfil</th>\n",
       "      <th>2.Total respuestas</th>\n",
       "      <th>3.PBB</th>\n",
       "      <th>4.Movimiento</th>\n",
       "    </tr>\n",
       "  </thead>\n",
       "  <tbody>\n",
       "    <tr>\n",
       "      <th>0</th>\n",
       "      <td>rey_europa</td>\n",
       "      <td>5</td>\n",
       "      <td>1.393175</td>\n",
       "      <td>honor colorado</td>\n",
       "    </tr>\n",
       "    <tr>\n",
       "      <th>1</th>\n",
       "      <td>britez_ortiz1</td>\n",
       "      <td>3</td>\n",
       "      <td>0.899137</td>\n",
       "      <td>honor colorado</td>\n",
       "    </tr>\n",
       "    <tr>\n",
       "      <th>2</th>\n",
       "      <td>DeaMaldonado</td>\n",
       "      <td>3</td>\n",
       "      <td>0.357405</td>\n",
       "      <td>honor colorado</td>\n",
       "    </tr>\n",
       "    <tr>\n",
       "      <th>3</th>\n",
       "      <td>Vctor84855402</td>\n",
       "      <td>2</td>\n",
       "      <td>3.500665</td>\n",
       "      <td>honor colorado</td>\n",
       "    </tr>\n",
       "    <tr>\n",
       "      <th>4</th>\n",
       "      <td>Py_retrocede</td>\n",
       "      <td>2</td>\n",
       "      <td>6.596651</td>\n",
       "      <td>honor colorado</td>\n",
       "    </tr>\n",
       "  </tbody>\n",
       "</table>\n",
       "</div>"
      ],
      "text/plain": [
       "        1.Perfil  2.Total respuestas     3.PBB    4.Movimiento\n",
       "0     rey_europa                   5  1.393175  honor colorado\n",
       "1  britez_ortiz1                   3  0.899137  honor colorado\n",
       "2   DeaMaldonado                   3  0.357405  honor colorado\n",
       "3  Vctor84855402                   2  3.500665  honor colorado\n",
       "4   Py_retrocede                   2  6.596651  honor colorado"
      ]
     },
     "execution_count": 294,
     "metadata": {},
     "output_type": "execute_result"
    }
   ],
   "source": [
    "rps = []\n",
    "in_inter_bareiro = inter_bareiro['in_interactions']['replies']['details']\n",
    "sorted_in_interactions = sorted(in_inter_bareiro.items(), key=lambda kv: kv[1], reverse=True)\n",
    "for interaction in sorted_in_interactions:\n",
    "    contacto = {'1.Perfil': interaction[0], \n",
    "                '2.Total respuestas': interaction[1],\n",
    "                '3.PBB': float(all_users_df[all_users_df['screen_name']==interaction[0]]['pbb']),\n",
    "                '4.Movimiento': all_users_df[all_users_df['screen_name']==interaction[0]]['movement'].values[0]\n",
    "               }\n",
    "    rps.append(contacto)\n",
    "rps_df = pd.DataFrame(rps)\n",
    "rps_df.head()"
   ]
  },
  {
   "cell_type": "markdown",
   "metadata": {},
   "source": [
    "**¿Cuántos de esos perfiles son bots?**"
   ]
  },
  {
   "cell_type": "code",
   "execution_count": 295,
   "metadata": {},
   "outputs": [
    {
     "name": "stdout",
     "output_type": "stream",
     "text": [
      "De los 189 perfiles que respondieron, 75 son bots (40.0%)\n"
     ]
    }
   ],
   "source": [
    "rp_bots = rps_df[rps_df['3.PBB']>quantile_75]\n",
    "print('De los {0} perfiles que respondieron, {1} son bots ({2}%)'.format(rps_df.shape[0], \n",
    "                                                                         rp_bots.shape[0],\n",
    "                                                                         round(100*rp_bots.shape[0]/rps_df.shape[0],0)))"
   ]
  },
  {
   "cell_type": "code",
   "execution_count": 263,
   "metadata": {},
   "outputs": [
    {
     "name": "stderr",
     "output_type": "stream",
     "text": [
      "/Users/jorgesaldivar/Dropbox/Development/politic-bots/env/lib/python3.4/site-packages/ipykernel_launcher.py:2: SettingWithCopyWarning: \n",
      "A value is trying to be set on a copy of a slice from a DataFrame\n",
      "\n",
      "See the caveats in the documentation: http://pandas.pydata.org/pandas-docs/stable/indexing.html#indexing-view-versus-copy\n",
      "  \n"
     ]
    },
    {
     "data": {
      "text/html": [
       "<div>\n",
       "<style scoped>\n",
       "    .dataframe tbody tr th:only-of-type {\n",
       "        vertical-align: middle;\n",
       "    }\n",
       "\n",
       "    .dataframe tbody tr th {\n",
       "        vertical-align: top;\n",
       "    }\n",
       "\n",
       "    .dataframe thead th {\n",
       "        text-align: right;\n",
       "    }\n",
       "</style>\n",
       "<table border=\"1\" class=\"dataframe\">\n",
       "  <thead>\n",
       "    <tr style=\"text-align: right;\">\n",
       "      <th></th>\n",
       "      <th>1.Perfil</th>\n",
       "      <th>2.Total respuestas</th>\n",
       "      <th>3.PBB</th>\n",
       "      <th>4.Movimiento</th>\n",
       "    </tr>\n",
       "  </thead>\n",
       "  <tbody>\n",
       "    <tr>\n",
       "      <th>0</th>\n",
       "      <td>rey_europa</td>\n",
       "      <td>5</td>\n",
       "      <td>1.393175</td>\n",
       "      <td>honor colorado</td>\n",
       "    </tr>\n",
       "    <tr>\n",
       "      <th>1</th>\n",
       "      <td>britez_ortiz1</td>\n",
       "      <td>3</td>\n",
       "      <td>0.899137</td>\n",
       "      <td>honor colorado</td>\n",
       "    </tr>\n",
       "    <tr>\n",
       "      <th>3</th>\n",
       "      <td>Vctor84855402</td>\n",
       "      <td>2</td>\n",
       "      <td>3.500665</td>\n",
       "      <td>honor colorado</td>\n",
       "    </tr>\n",
       "    <tr>\n",
       "      <th>4</th>\n",
       "      <td>Py_retrocede</td>\n",
       "      <td>2</td>\n",
       "      <td>6.596651</td>\n",
       "      <td>honor colorado</td>\n",
       "    </tr>\n",
       "    <tr>\n",
       "      <th>6</th>\n",
       "      <td>ARDaz82798131</td>\n",
       "      <td>2</td>\n",
       "      <td>3.831324</td>\n",
       "      <td>honor colorado</td>\n",
       "    </tr>\n",
       "    <tr>\n",
       "      <th>7</th>\n",
       "      <td>gabiotago</td>\n",
       "      <td>2</td>\n",
       "      <td>0.721404</td>\n",
       "      <td>honor colorado</td>\n",
       "    </tr>\n",
       "    <tr>\n",
       "      <th>11</th>\n",
       "      <td>nicomartinezpy</td>\n",
       "      <td>2</td>\n",
       "      <td>0.855605</td>\n",
       "      <td>honor colorado</td>\n",
       "    </tr>\n",
       "    <tr>\n",
       "      <th>12</th>\n",
       "      <td>gladis_ge</td>\n",
       "      <td>2</td>\n",
       "      <td>0.916297</td>\n",
       "      <td>honor colorado</td>\n",
       "    </tr>\n",
       "    <tr>\n",
       "      <th>94</th>\n",
       "      <td>jorge_sdg7</td>\n",
       "      <td>1</td>\n",
       "      <td>0.753966</td>\n",
       "      <td>honor colorado</td>\n",
       "    </tr>\n",
       "    <tr>\n",
       "      <th>100</th>\n",
       "      <td>Magni95990910</td>\n",
       "      <td>1</td>\n",
       "      <td>1.978191</td>\n",
       "      <td>colorado añetete</td>\n",
       "    </tr>\n",
       "    <tr>\n",
       "      <th>99</th>\n",
       "      <td>willerm0</td>\n",
       "      <td>1</td>\n",
       "      <td>0.884428</td>\n",
       "      <td>honor colorado</td>\n",
       "    </tr>\n",
       "    <tr>\n",
       "      <th>95</th>\n",
       "      <td>majorjuan91</td>\n",
       "      <td>1</td>\n",
       "      <td>2.696898</td>\n",
       "      <td>colorado añetete</td>\n",
       "    </tr>\n",
       "    <tr>\n",
       "      <th>85</th>\n",
       "      <td>Siloe_Finder</td>\n",
       "      <td>1</td>\n",
       "      <td>1.778915</td>\n",
       "      <td>honor colorado</td>\n",
       "    </tr>\n",
       "    <tr>\n",
       "      <th>93</th>\n",
       "      <td>BernardinoCab5</td>\n",
       "      <td>1</td>\n",
       "      <td>1.259102</td>\n",
       "      <td>honor colorado</td>\n",
       "    </tr>\n",
       "    <tr>\n",
       "      <th>90</th>\n",
       "      <td>ead_gonzalez</td>\n",
       "      <td>1</td>\n",
       "      <td>1.573059</td>\n",
       "      <td>honor colorado</td>\n",
       "    </tr>\n",
       "    <tr>\n",
       "      <th>104</th>\n",
       "      <td>chelobejarano</td>\n",
       "      <td>1</td>\n",
       "      <td>1.083293</td>\n",
       "      <td>honor colorado</td>\n",
       "    </tr>\n",
       "    <tr>\n",
       "      <th>102</th>\n",
       "      <td>sergio21bogado</td>\n",
       "      <td>1</td>\n",
       "      <td>0.909540</td>\n",
       "      <td>honor colorado</td>\n",
       "    </tr>\n",
       "    <tr>\n",
       "      <th>113</th>\n",
       "      <td>Larioviedo</td>\n",
       "      <td>1</td>\n",
       "      <td>0.750829</td>\n",
       "      <td>honor colorado</td>\n",
       "    </tr>\n",
       "    <tr>\n",
       "      <th>107</th>\n",
       "      <td>Solaris_XD</td>\n",
       "      <td>1</td>\n",
       "      <td>0.923851</td>\n",
       "      <td>honor colorado</td>\n",
       "    </tr>\n",
       "    <tr>\n",
       "      <th>109</th>\n",
       "      <td>ethel_alvarez</td>\n",
       "      <td>1</td>\n",
       "      <td>1.102464</td>\n",
       "      <td>colorado añetete</td>\n",
       "    </tr>\n",
       "    <tr>\n",
       "      <th>79</th>\n",
       "      <td>Alyelez</td>\n",
       "      <td>1</td>\n",
       "      <td>10.911111</td>\n",
       "      <td>colorado añetete</td>\n",
       "    </tr>\n",
       "    <tr>\n",
       "      <th>114</th>\n",
       "      <td>EdgarAl41685148</td>\n",
       "      <td>1</td>\n",
       "      <td>1.925915</td>\n",
       "      <td>colorado añetete</td>\n",
       "    </tr>\n",
       "    <tr>\n",
       "      <th>115</th>\n",
       "      <td>osvaldo08269009</td>\n",
       "      <td>1</td>\n",
       "      <td>1.156232</td>\n",
       "      <td>honor colorado</td>\n",
       "    </tr>\n",
       "    <tr>\n",
       "      <th>117</th>\n",
       "      <td>joluvalin</td>\n",
       "      <td>1</td>\n",
       "      <td>0.727849</td>\n",
       "      <td>honor colorado</td>\n",
       "    </tr>\n",
       "    <tr>\n",
       "      <th>122</th>\n",
       "      <td>hectorv97608169</td>\n",
       "      <td>1</td>\n",
       "      <td>0.840707</td>\n",
       "      <td>honor colorado</td>\n",
       "    </tr>\n",
       "    <tr>\n",
       "      <th>124</th>\n",
       "      <td>JuanUriarte39</td>\n",
       "      <td>1</td>\n",
       "      <td>1.009275</td>\n",
       "      <td>honor colorado</td>\n",
       "    </tr>\n",
       "    <tr>\n",
       "      <th>125</th>\n",
       "      <td>VictorA54800227</td>\n",
       "      <td>1</td>\n",
       "      <td>3.890411</td>\n",
       "      <td>honor colorado</td>\n",
       "    </tr>\n",
       "    <tr>\n",
       "      <th>84</th>\n",
       "      <td>RaquelLerea</td>\n",
       "      <td>1</td>\n",
       "      <td>0.873912</td>\n",
       "      <td>honor colorado</td>\n",
       "    </tr>\n",
       "    <tr>\n",
       "      <th>64</th>\n",
       "      <td>krlitosmoran33</td>\n",
       "      <td>1</td>\n",
       "      <td>0.972603</td>\n",
       "      <td>honor colorado</td>\n",
       "    </tr>\n",
       "    <tr>\n",
       "      <th>76</th>\n",
       "      <td>VictorT74363702</td>\n",
       "      <td>1</td>\n",
       "      <td>1.394367</td>\n",
       "      <td>honor colorado</td>\n",
       "    </tr>\n",
       "    <tr>\n",
       "      <th>34</th>\n",
       "      <td>VilmaFernndez9</td>\n",
       "      <td>1</td>\n",
       "      <td>1.841781</td>\n",
       "      <td>honor colorado</td>\n",
       "    </tr>\n",
       "    <tr>\n",
       "      <th>16</th>\n",
       "      <td>DavichoM2</td>\n",
       "      <td>1</td>\n",
       "      <td>5.830884</td>\n",
       "      <td>honor colorado</td>\n",
       "    </tr>\n",
       "    <tr>\n",
       "      <th>18</th>\n",
       "      <td>leakspy</td>\n",
       "      <td>1</td>\n",
       "      <td>0.874851</td>\n",
       "      <td>honor colorado</td>\n",
       "    </tr>\n",
       "    <tr>\n",
       "      <th>22</th>\n",
       "      <td>JulyMire</td>\n",
       "      <td>1</td>\n",
       "      <td>0.764443</td>\n",
       "      <td>honor colorado</td>\n",
       "    </tr>\n",
       "    <tr>\n",
       "      <th>24</th>\n",
       "      <td>Dorajara6</td>\n",
       "      <td>1</td>\n",
       "      <td>0.835623</td>\n",
       "      <td>honor colorado</td>\n",
       "    </tr>\n",
       "    <tr>\n",
       "      <th>25</th>\n",
       "      <td>lumajava</td>\n",
       "      <td>1</td>\n",
       "      <td>0.928831</td>\n",
       "      <td>honor colorado</td>\n",
       "    </tr>\n",
       "    <tr>\n",
       "      <th>27</th>\n",
       "      <td>IsidroRicardoV4</td>\n",
       "      <td>1</td>\n",
       "      <td>1.824115</td>\n",
       "      <td>honor colorado</td>\n",
       "    </tr>\n",
       "    <tr>\n",
       "      <th>28</th>\n",
       "      <td>ctoni34</td>\n",
       "      <td>1</td>\n",
       "      <td>1.074778</td>\n",
       "      <td>honor colorado</td>\n",
       "    </tr>\n",
       "    <tr>\n",
       "      <th>29</th>\n",
       "      <td>2LegiTwoQuit</td>\n",
       "      <td>1</td>\n",
       "      <td>1.724268</td>\n",
       "      <td>honor colorado</td>\n",
       "    </tr>\n",
       "    <tr>\n",
       "      <th>38</th>\n",
       "      <td>galezuni</td>\n",
       "      <td>1</td>\n",
       "      <td>1.848977</td>\n",
       "      <td>honor colorado</td>\n",
       "    </tr>\n",
       "    <tr>\n",
       "      <th>74</th>\n",
       "      <td>jfrancovergara</td>\n",
       "      <td>1</td>\n",
       "      <td>1.748102</td>\n",
       "      <td>honor colorado</td>\n",
       "    </tr>\n",
       "    <tr>\n",
       "      <th>40</th>\n",
       "      <td>Marlene76410536</td>\n",
       "      <td>1</td>\n",
       "      <td>2.203514</td>\n",
       "      <td>honor colorado</td>\n",
       "    </tr>\n",
       "    <tr>\n",
       "      <th>46</th>\n",
       "      <td>CarlosD82850998</td>\n",
       "      <td>1</td>\n",
       "      <td>1.701471</td>\n",
       "      <td>honor colorado</td>\n",
       "    </tr>\n",
       "    <tr>\n",
       "      <th>52</th>\n",
       "      <td>JuanVal22174539</td>\n",
       "      <td>1</td>\n",
       "      <td>1.099043</td>\n",
       "      <td>honor colorado</td>\n",
       "    </tr>\n",
       "    <tr>\n",
       "      <th>54</th>\n",
       "      <td>CasildoGimnez</td>\n",
       "      <td>1</td>\n",
       "      <td>1.118904</td>\n",
       "      <td>honor colorado</td>\n",
       "    </tr>\n",
       "    <tr>\n",
       "      <th>56</th>\n",
       "      <td>martin_hermes</td>\n",
       "      <td>1</td>\n",
       "      <td>0.899547</td>\n",
       "      <td>honor colorado</td>\n",
       "    </tr>\n",
       "    <tr>\n",
       "      <th>61</th>\n",
       "      <td>alaia_lugo</td>\n",
       "      <td>1</td>\n",
       "      <td>0.752345</td>\n",
       "      <td>colorado añetete</td>\n",
       "    </tr>\n",
       "    <tr>\n",
       "      <th>63</th>\n",
       "      <td>JuanAlbarino</td>\n",
       "      <td>1</td>\n",
       "      <td>1.130276</td>\n",
       "      <td>honor colorado</td>\n",
       "    </tr>\n",
       "    <tr>\n",
       "      <th>71</th>\n",
       "      <td>Giovann55252495</td>\n",
       "      <td>1</td>\n",
       "      <td>1.315099</td>\n",
       "      <td>honor colorado</td>\n",
       "    </tr>\n",
       "    <tr>\n",
       "      <th>126</th>\n",
       "      <td>MariaelenaSugat</td>\n",
       "      <td>1</td>\n",
       "      <td>2.441203</td>\n",
       "      <td>honor colorado</td>\n",
       "    </tr>\n",
       "  </tbody>\n",
       "</table>\n",
       "</div>"
      ],
      "text/plain": [
       "            1.Perfil  2.Total respuestas      3.PBB      4.Movimiento\n",
       "0         rey_europa                   5   1.393175    honor colorado\n",
       "1      britez_ortiz1                   3   0.899137    honor colorado\n",
       "3      Vctor84855402                   2   3.500665    honor colorado\n",
       "4       Py_retrocede                   2   6.596651    honor colorado\n",
       "6      ARDaz82798131                   2   3.831324    honor colorado\n",
       "7          gabiotago                   2   0.721404    honor colorado\n",
       "11    nicomartinezpy                   2   0.855605    honor colorado\n",
       "12         gladis_ge                   2   0.916297    honor colorado\n",
       "94        jorge_sdg7                   1   0.753966    honor colorado\n",
       "100    Magni95990910                   1   1.978191  colorado añetete\n",
       "99          willerm0                   1   0.884428    honor colorado\n",
       "95       majorjuan91                   1   2.696898  colorado añetete\n",
       "85      Siloe_Finder                   1   1.778915    honor colorado\n",
       "93    BernardinoCab5                   1   1.259102    honor colorado\n",
       "90      ead_gonzalez                   1   1.573059    honor colorado\n",
       "104    chelobejarano                   1   1.083293    honor colorado\n",
       "102   sergio21bogado                   1   0.909540    honor colorado\n",
       "113       Larioviedo                   1   0.750829    honor colorado\n",
       "107       Solaris_XD                   1   0.923851    honor colorado\n",
       "109    ethel_alvarez                   1   1.102464  colorado añetete\n",
       "79           Alyelez                   1  10.911111  colorado añetete\n",
       "114  EdgarAl41685148                   1   1.925915  colorado añetete\n",
       "115  osvaldo08269009                   1   1.156232    honor colorado\n",
       "117        joluvalin                   1   0.727849    honor colorado\n",
       "122  hectorv97608169                   1   0.840707    honor colorado\n",
       "124    JuanUriarte39                   1   1.009275    honor colorado\n",
       "125  VictorA54800227                   1   3.890411    honor colorado\n",
       "84       RaquelLerea                   1   0.873912    honor colorado\n",
       "64    krlitosmoran33                   1   0.972603    honor colorado\n",
       "76   VictorT74363702                   1   1.394367    honor colorado\n",
       "34    VilmaFernndez9                   1   1.841781    honor colorado\n",
       "16         DavichoM2                   1   5.830884    honor colorado\n",
       "18           leakspy                   1   0.874851    honor colorado\n",
       "22          JulyMire                   1   0.764443    honor colorado\n",
       "24         Dorajara6                   1   0.835623    honor colorado\n",
       "25          lumajava                   1   0.928831    honor colorado\n",
       "27   IsidroRicardoV4                   1   1.824115    honor colorado\n",
       "28           ctoni34                   1   1.074778    honor colorado\n",
       "29      2LegiTwoQuit                   1   1.724268    honor colorado\n",
       "38          galezuni                   1   1.848977    honor colorado\n",
       "74    jfrancovergara                   1   1.748102    honor colorado\n",
       "40   Marlene76410536                   1   2.203514    honor colorado\n",
       "46   CarlosD82850998                   1   1.701471    honor colorado\n",
       "52   JuanVal22174539                   1   1.099043    honor colorado\n",
       "54     CasildoGimnez                   1   1.118904    honor colorado\n",
       "56     martin_hermes                   1   0.899547    honor colorado\n",
       "61        alaia_lugo                   1   0.752345  colorado añetete\n",
       "63      JuanAlbarino                   1   1.130276    honor colorado\n",
       "71   Giovann55252495                   1   1.315099    honor colorado\n",
       "126  MariaelenaSugat                   1   2.441203    honor colorado"
      ]
     },
     "execution_count": 263,
     "metadata": {},
     "output_type": "execute_result"
    }
   ],
   "source": [
    "sub_set_rp_bots = rp_bots.head(50)\n",
    "sub_set_rp_bots.sort_values('2.Total respuestas', inplace=True, ascending=False)\n",
    "sub_set_rp_bots[sub_set_rp_bots['3.PBB']>quantile_75].shape[0]\n",
    "sub_set_rp_bots"
   ]
  },
  {
   "cell_type": "markdown",
   "metadata": {},
   "source": [
    "#### ¿Cuántos bots son HC?"
   ]
  },
  {
   "cell_type": "code",
   "execution_count": 296,
   "metadata": {},
   "outputs": [
    {
     "data": {
      "text/plain": [
       "66"
      ]
     },
     "execution_count": 296,
     "metadata": {},
     "output_type": "execute_result"
    }
   ],
   "source": [
    "rp_bots[rp_bots['4.Movimiento']=='honor colorado'].shape[0]"
   ]
  },
  {
   "cell_type": "code",
   "execution_count": 158,
   "metadata": {},
   "outputs": [],
   "source": [
    "replies_bots = db.search({'tweet_obj.retweeted_status': {'$exists': 0},\n",
    "                          'tweet_obj.in_reply_to_status_id_str': {'$ne': None},\n",
    "                          'tweet_obj.in_reply_to_screen_name': {'$eq': 'LuisBareiro'},\n",
    "                          'tweet_obj.is_quote_status': False,\n",
    "                          'tweet_obj.user.screen_name': {'$in': list(rp_bots['1.Perfil'])}})"
   ]
  },
  {
   "cell_type": "code",
   "execution_count": 159,
   "metadata": {},
   "outputs": [
    {
     "name": "stdout",
     "output_type": "stream",
     "text": [
      "Total replies: 83\n",
      "Positive replies: 26\n",
      "Neutral replies: 43\n",
      "Negative replies: 14\n"
     ]
    }
   ],
   "source": [
    "total_replies_bots = replies_bots.count()\n",
    "pos_replies, neu_replies, neg_replies = 0, 0, 0\n",
    "id_txt_replies = []\n",
    "for reply in replies_bots:\n",
    "    if reply['sentimiento']['tono'] == 'negative':\n",
    "        neg_replies += 1\n",
    "        if 'full_text' in reply['tweet_obj'].keys():\n",
    "            id_txt_replies.append({'text': reply['tweet_obj']['full_text'], \n",
    "                                   'id': reply['tweet_obj']['id_str'],\n",
    "                                   'author': reply['tweet_obj']['user']['screen_name']})\n",
    "        else:\n",
    "            id_txt_replies.append({'text': reply['tweet_obj']['text'], \n",
    "                                   'id': reply['tweet_obj']['id_str'],\n",
    "                                   'author': reply['tweet_obj']['user']['screen_name']})\n",
    "    if reply['sentimiento']['tono'] == 'neutral':\n",
    "        neu_replies += 1\n",
    "    if reply['sentimiento']['tono'] == 'positive':\n",
    "        pos_replies += 1\n",
    "print('Total replies: {0}'.format(total_replies_bots))\n",
    "print('Positive replies: {0}'.format(pos_replies))\n",
    "print('Neutral replies: {0}'.format(neu_replies))\n",
    "print('Negative replies: {0}'.format(neg_replies))"
   ]
  },
  {
   "cell_type": "code",
   "execution_count": 160,
   "metadata": {},
   "outputs": [
    {
     "data": {
      "text/plain": [
       "[{'author': 'ARDaz82798131',\n",
       "  'id': '942581207950417920',\n",
       "  'text': '@LuisBareiro @SantiPenap Si la lista 2 de senadores tiene más votos que Santi, hay otra lectura. Si tuvo mas votos que Marito, peor. Ojalá sea castigo, pero dudo.'},\n",
       " {'author': 'DorysPy',\n",
       "  'id': '942555060827054080',\n",
       "  'text': '@LuisBareiro @SantiPenap Moopioooo....nde vendido!!! Hace 5 horas te tenia como idolo imparcial!!! Pero despues de lo que escuché hoy de la burla q hiciste en telefuturo...me decepcionaste...tu vos tenes q informar no burlarte nde vendido!!!'},\n",
       " {'author': 'Giovann55252495',\n",
       "  'id': '942547940043870208',\n",
       "  'text': '@LuisBareiro @SantiPenap por una parte cierto pero por otra no un Buen Colorado no le va a votar a un liberal'},\n",
       " {'author': 'JuanPor88172473',\n",
       "  'id': '942823684640780288',\n",
       "  'text': '@LuisBareiro @SantiPenap Siii legalmente por defender al senador Óscar González daher'},\n",
       " {'author': 'JulyMire',\n",
       "  'id': '942558306677219328',\n",
       "  'text': '@LuisBareiro @SantiPenap Sr. Cartes, es una pena, usted le hizo perder a Santi. Su lista sábana de Senadores una vergüenza.'}]"
      ]
     },
     "execution_count": 160,
     "metadata": {},
     "output_type": "execute_result"
    }
   ],
   "source": [
    "id_txt_replies[:5]"
   ]
  },
  {
   "cell_type": "markdown",
   "metadata": {},
   "source": [
    "##### Perfiles que más mencionaron a LuisBareiro"
   ]
  },
  {
   "cell_type": "code",
   "execution_count": 297,
   "metadata": {},
   "outputs": [
    {
     "data": {
      "text/html": [
       "<div>\n",
       "<style scoped>\n",
       "    .dataframe tbody tr th:only-of-type {\n",
       "        vertical-align: middle;\n",
       "    }\n",
       "\n",
       "    .dataframe tbody tr th {\n",
       "        vertical-align: top;\n",
       "    }\n",
       "\n",
       "    .dataframe thead th {\n",
       "        text-align: right;\n",
       "    }\n",
       "</style>\n",
       "<table border=\"1\" class=\"dataframe\">\n",
       "  <thead>\n",
       "    <tr style=\"text-align: right;\">\n",
       "      <th></th>\n",
       "      <th>1.Perfil</th>\n",
       "      <th>2.Total menciones</th>\n",
       "      <th>3. PBB</th>\n",
       "    </tr>\n",
       "  </thead>\n",
       "  <tbody>\n",
       "    <tr>\n",
       "      <th>0</th>\n",
       "      <td>CarlosZ86636382</td>\n",
       "      <td>6</td>\n",
       "      <td>0.575252</td>\n",
       "    </tr>\n",
       "    <tr>\n",
       "      <th>1</th>\n",
       "      <td>caramarillapy</td>\n",
       "      <td>4</td>\n",
       "      <td>0.251158</td>\n",
       "    </tr>\n",
       "    <tr>\n",
       "      <th>2</th>\n",
       "      <td>agustinkonrad27</td>\n",
       "      <td>2</td>\n",
       "      <td>0.724941</td>\n",
       "    </tr>\n",
       "    <tr>\n",
       "      <th>3</th>\n",
       "      <td>Luinoguera</td>\n",
       "      <td>2</td>\n",
       "      <td>0.292720</td>\n",
       "    </tr>\n",
       "    <tr>\n",
       "      <th>4</th>\n",
       "      <td>papo_py</td>\n",
       "      <td>1</td>\n",
       "      <td>0.594589</td>\n",
       "    </tr>\n",
       "  </tbody>\n",
       "</table>\n",
       "</div>"
      ],
      "text/plain": [
       "          1.Perfil  2.Total menciones    3. PBB\n",
       "0  CarlosZ86636382                  6  0.575252\n",
       "1    caramarillapy                  4  0.251158\n",
       "2  agustinkonrad27                  2  0.724941\n",
       "3       Luinoguera                  2  0.292720\n",
       "4          papo_py                  1  0.594589"
      ]
     },
     "execution_count": 297,
     "metadata": {},
     "output_type": "execute_result"
    }
   ],
   "source": [
    "mts = []\n",
    "in_inter_bareiro = inter_bareiro['in_interactions']['mentions']['details']\n",
    "sorted_in_interactions = sorted(in_inter_bareiro.items(), key=lambda kv: kv[1], reverse=True)\n",
    "for interaction in sorted_in_interactions:\n",
    "    contacto = {'1.Perfil': interaction[0], \n",
    "                '2.Total menciones': interaction[1],\n",
    "                '3. PBB': float(all_users_df[all_users_df['screen_name']==interaction[0]]['pbb'])\n",
    "               }\n",
    "    mts.append(contacto)\n",
    "mts_df = pd.DataFrame(mts)\n",
    "mts_df.head()"
   ]
  },
  {
   "cell_type": "markdown",
   "metadata": {},
   "source": [
    "**¿Cuántos de esos perfiles son bots?**"
   ]
  },
  {
   "cell_type": "code",
   "execution_count": 298,
   "metadata": {},
   "outputs": [
    {
     "name": "stdout",
     "output_type": "stream",
     "text": [
      "De los 28 perfiles que mencionaron, 6 son bots (21.0%)\n"
     ]
    },
    {
     "name": "stderr",
     "output_type": "stream",
     "text": [
      "/Users/jorgesaldivar/Dropbox/Development/politic-bots/env/lib/python3.4/site-packages/ipykernel_launcher.py:5: SettingWithCopyWarning: \n",
      "A value is trying to be set on a copy of a slice from a DataFrame\n",
      "\n",
      "See the caveats in the documentation: http://pandas.pydata.org/pandas-docs/stable/indexing.html#indexing-view-versus-copy\n",
      "  \"\"\"\n"
     ]
    },
    {
     "data": {
      "text/html": [
       "<div>\n",
       "<style scoped>\n",
       "    .dataframe tbody tr th:only-of-type {\n",
       "        vertical-align: middle;\n",
       "    }\n",
       "\n",
       "    .dataframe tbody tr th {\n",
       "        vertical-align: top;\n",
       "    }\n",
       "\n",
       "    .dataframe thead th {\n",
       "        text-align: right;\n",
       "    }\n",
       "</style>\n",
       "<table border=\"1\" class=\"dataframe\">\n",
       "  <thead>\n",
       "    <tr style=\"text-align: right;\">\n",
       "      <th></th>\n",
       "      <th>1.Perfil</th>\n",
       "      <th>2.Total menciones</th>\n",
       "      <th>3. PBB</th>\n",
       "    </tr>\n",
       "  </thead>\n",
       "  <tbody>\n",
       "    <tr>\n",
       "      <th>2</th>\n",
       "      <td>agustinkonrad27</td>\n",
       "      <td>2</td>\n",
       "      <td>0.724941</td>\n",
       "    </tr>\n",
       "    <tr>\n",
       "      <th>5</th>\n",
       "      <td>Carlito25Baz</td>\n",
       "      <td>1</td>\n",
       "      <td>1.562724</td>\n",
       "    </tr>\n",
       "    <tr>\n",
       "      <th>9</th>\n",
       "      <td>JhoseAlcaraz</td>\n",
       "      <td>1</td>\n",
       "      <td>0.932065</td>\n",
       "    </tr>\n",
       "    <tr>\n",
       "      <th>12</th>\n",
       "      <td>kuaratiri</td>\n",
       "      <td>1</td>\n",
       "      <td>1.329281</td>\n",
       "    </tr>\n",
       "    <tr>\n",
       "      <th>21</th>\n",
       "      <td>CarlosCarlospy</td>\n",
       "      <td>1</td>\n",
       "      <td>1.715469</td>\n",
       "    </tr>\n",
       "  </tbody>\n",
       "</table>\n",
       "</div>"
      ],
      "text/plain": [
       "           1.Perfil  2.Total menciones    3. PBB\n",
       "2   agustinkonrad27                  2  0.724941\n",
       "5      Carlito25Baz                  1  1.562724\n",
       "9      JhoseAlcaraz                  1  0.932065\n",
       "12        kuaratiri                  1  1.329281\n",
       "21   CarlosCarlospy                  1  1.715469"
      ]
     },
     "execution_count": 298,
     "metadata": {},
     "output_type": "execute_result"
    }
   ],
   "source": [
    "mts_bots = mts_df[mts_df['3. PBB']>quantile_75]\n",
    "print('De los {0} perfiles que mencionaron, {1} son bots ({2}%)'.format(mts_df.shape[0], \n",
    "                                                                        mts_bots.shape[0],\n",
    "                                                                        round(100*mts_bots.shape[0]/mts_df.shape[0],0)))\n",
    "mts_bots.sort_values('2.Total menciones', inplace=True, ascending=False)\n",
    "mts_bots.head()"
   ]
  },
  {
   "cell_type": "markdown",
   "metadata": {},
   "source": [
    "##### Perfiles que más citaron a LuisBareiro"
   ]
  },
  {
   "cell_type": "code",
   "execution_count": 299,
   "metadata": {},
   "outputs": [
    {
     "data": {
      "text/html": [
       "<div>\n",
       "<style scoped>\n",
       "    .dataframe tbody tr th:only-of-type {\n",
       "        vertical-align: middle;\n",
       "    }\n",
       "\n",
       "    .dataframe tbody tr th {\n",
       "        vertical-align: top;\n",
       "    }\n",
       "\n",
       "    .dataframe thead th {\n",
       "        text-align: right;\n",
       "    }\n",
       "</style>\n",
       "<table border=\"1\" class=\"dataframe\">\n",
       "  <thead>\n",
       "    <tr style=\"text-align: right;\">\n",
       "      <th></th>\n",
       "      <th>1.Perfil</th>\n",
       "      <th>2.Total citaciones</th>\n",
       "      <th>3.PBB</th>\n",
       "    </tr>\n",
       "  </thead>\n",
       "  <tbody>\n",
       "    <tr>\n",
       "      <th>10</th>\n",
       "      <td>ANIBALCSPDS</td>\n",
       "      <td>1</td>\n",
       "      <td>0.663988</td>\n",
       "    </tr>\n",
       "    <tr>\n",
       "      <th>0</th>\n",
       "      <td>rossicav</td>\n",
       "      <td>1</td>\n",
       "      <td>0.602726</td>\n",
       "    </tr>\n",
       "    <tr>\n",
       "      <th>7</th>\n",
       "      <td>tallerluichi</td>\n",
       "      <td>1</td>\n",
       "      <td>0.581150</td>\n",
       "    </tr>\n",
       "    <tr>\n",
       "      <th>12</th>\n",
       "      <td>DnicCristaldo</td>\n",
       "      <td>1</td>\n",
       "      <td>0.557738</td>\n",
       "    </tr>\n",
       "    <tr>\n",
       "      <th>6</th>\n",
       "      <td>gildaruizz</td>\n",
       "      <td>1</td>\n",
       "      <td>0.484084</td>\n",
       "    </tr>\n",
       "  </tbody>\n",
       "</table>\n",
       "</div>"
      ],
      "text/plain": [
       "         1.Perfil  2.Total citaciones     3.PBB\n",
       "10    ANIBALCSPDS                   1  0.663988\n",
       "0        rossicav                   1  0.602726\n",
       "7    tallerluichi                   1  0.581150\n",
       "12  DnicCristaldo                   1  0.557738\n",
       "6      gildaruizz                   1  0.484084"
      ]
     },
     "execution_count": 299,
     "metadata": {},
     "output_type": "execute_result"
    }
   ],
   "source": [
    "qts = []\n",
    "in_inter_bareiro = inter_bareiro['in_interactions']['quotes']['details']\n",
    "sorted_in_interactions = sorted(in_inter_bareiro.items(), key=lambda kv: kv[1], reverse=True)\n",
    "for interaction in sorted_in_interactions:\n",
    "    contacto = {'1.Perfil': interaction[0], \n",
    "                '2.Total citaciones': interaction[1],\n",
    "                '3.PBB': float(all_users_df[all_users_df['screen_name']==interaction[0]]['pbb'])\n",
    "               }\n",
    "    qts.append(contacto)\n",
    "qts_df = pd.DataFrame(qts)\n",
    "qts_df.sort_values('3.PBB', inplace=True, ascending=False)\n",
    "qts_df.head() "
   ]
  },
  {
   "cell_type": "markdown",
   "metadata": {},
   "source": [
    "**¿Cuántos de esos perfiles son bots?**"
   ]
  },
  {
   "cell_type": "code",
   "execution_count": 300,
   "metadata": {},
   "outputs": [
    {
     "name": "stdout",
     "output_type": "stream",
     "text": [
      "De los 13 perfiles que mencionaron, 0 son bots (0.0%)\n"
     ]
    },
    {
     "name": "stderr",
     "output_type": "stream",
     "text": [
      "/Users/jorgesaldivar/Dropbox/Development/politic-bots/env/lib/python3.4/site-packages/ipykernel_launcher.py:5: SettingWithCopyWarning: \n",
      "A value is trying to be set on a copy of a slice from a DataFrame\n",
      "\n",
      "See the caveats in the documentation: http://pandas.pydata.org/pandas-docs/stable/indexing.html#indexing-view-versus-copy\n",
      "  \"\"\"\n"
     ]
    }
   ],
   "source": [
    "qts_bots = qts_df[qts_df['3.PBB']>quantile_75]\n",
    "print('De los {0} perfiles que mencionaron, {1} son bots ({2}%)'.format(qts_df.shape[0], \n",
    "                                                                        qts_bots.shape[0],\n",
    "                                                                        round(100*qts_bots.shape[0]/qts_df.shape[0],0)))\n",
    "qts_bots.sort_values('2.Total citaciones', inplace=True, ascending=False)"
   ]
  },
  {
   "cell_type": "markdown",
   "metadata": {},
   "source": [
    "#### En total, ¿cuántos perfiles del tipo interactuaron con LuisBareiro?"
   ]
  },
  {
   "cell_type": "code",
   "execution_count": 301,
   "metadata": {},
   "outputs": [
    {
     "name": "stdout",
     "output_type": "stream",
     "text": [
      "Del total 2877 perfiles que interacturaron con Luis Bareiro, 397 son del tipo bot\n"
     ]
    }
   ],
   "source": [
    "# Get list of bots\n",
    "all_bots_lb = []\n",
    "all_bots_lb.extend(list(rt_bots['1.Perfil']))\n",
    "all_bots_lb.extend(list(rp_bots['1.Perfil']))\n",
    "all_bots_lb.extend(list(mts_bots['1.Perfil']))\n",
    "all_bots_lb.extend(list(qts_bots['1.Perfil']))\n",
    "# Get list of all profiles\n",
    "all_prof_lb = []\n",
    "all_prof_lb.extend(list(rts_df['1.Perfil']))\n",
    "all_prof_lb.extend(list(rps_df['1.Perfil']))\n",
    "all_prof_lb.extend(list(mts_df['1.Perfil']))\n",
    "all_prof_lb.extend(list(qts_df['1.Perfil']))\n",
    "print('Del total {0} perfiles que interacturaron con Luis Bareiro, {1} son del tipo bot'.format(\n",
    "      len(set(all_prof_lb)),\n",
    "      len(set(all_bots_lb))))"
   ]
  },
  {
   "cell_type": "markdown",
   "metadata": {},
   "source": [
    "Más del 90% (2680 de 2938) de las interacciones recibidas por `LuisBareiro` corresponden a retweets de su publicaciones, demostrando el gran alcance de sus tweets. Otro aspecto destacable es que el mismo perfil `CarlosZ86636382` que más menciones hizo sobre `Santula` es el mismo que más mencionó a `LuisBareiro`. "
   ]
  },
  {
   "cell_type": "markdown",
   "metadata": {},
   "source": [
    "### Enrique Vargas Peña (enriquevp)"
   ]
  },
  {
   "cell_type": "code",
   "execution_count": 41,
   "metadata": {},
   "outputs": [],
   "source": [
    "na = NetworkAnalyzer()\n",
    "inter_evp = na.get_interactions('enriquevp')"
   ]
  },
  {
   "cell_type": "markdown",
   "metadata": {},
   "source": [
    "#### Interacciones generadas"
   ]
  },
  {
   "cell_type": "code",
   "execution_count": 42,
   "metadata": {},
   "outputs": [
    {
     "name": "stdout",
     "output_type": "stream",
     "text": [
      "153 tweets; 16 retweets, 48 respuestas, 81 menciones, y 8 citaciones\n"
     ]
    }
   ],
   "source": [
    "print('{0} tweets; {1} retweets, {2} respuestas, {3} menciones, y {4} citaciones'. \\\n",
    "      format(inter_evp['out_interactions']['total']['count'], \\\n",
    "             inter_evp['out_interactions']['retweets']['count'], \\\n",
    "             inter_evp['out_interactions']['replies']['count'], \\\n",
    "             inter_evp['out_interactions']['mentions']['count'], \\\n",
    "             inter_evp['out_interactions']['quotes']['count']))"
   ]
  },
  {
   "cell_type": "markdown",
   "metadata": {},
   "source": [
    "##### Perfiles más retuiteados"
   ]
  },
  {
   "cell_type": "code",
   "execution_count": 43,
   "metadata": {},
   "outputs": [
    {
     "data": {
      "text/html": [
       "<div>\n",
       "<style scoped>\n",
       "    .dataframe tbody tr th:only-of-type {\n",
       "        vertical-align: middle;\n",
       "    }\n",
       "\n",
       "    .dataframe tbody tr th {\n",
       "        vertical-align: top;\n",
       "    }\n",
       "\n",
       "    .dataframe thead th {\n",
       "        text-align: right;\n",
       "    }\n",
       "</style>\n",
       "<table border=\"1\" class=\"dataframe\">\n",
       "  <thead>\n",
       "    <tr style=\"text-align: right;\">\n",
       "      <th></th>\n",
       "      <th>1.Perfil</th>\n",
       "      <th>2.Total retweets</th>\n",
       "    </tr>\n",
       "  </thead>\n",
       "  <tbody>\n",
       "    <tr>\n",
       "      <th>0</th>\n",
       "      <td>Santula</td>\n",
       "      <td>4</td>\n",
       "    </tr>\n",
       "    <tr>\n",
       "      <th>1</th>\n",
       "      <td>patriaquerida</td>\n",
       "      <td>3</td>\n",
       "    </tr>\n",
       "    <tr>\n",
       "      <th>2</th>\n",
       "      <td>EfrainAlegre</td>\n",
       "      <td>2</td>\n",
       "    </tr>\n",
       "    <tr>\n",
       "      <th>3</th>\n",
       "      <td>ABCCardinal</td>\n",
       "      <td>2</td>\n",
       "    </tr>\n",
       "    <tr>\n",
       "      <th>4</th>\n",
       "      <td>JavierSanchezPy</td>\n",
       "      <td>1</td>\n",
       "    </tr>\n",
       "  </tbody>\n",
       "</table>\n",
       "</div>"
      ],
      "text/plain": [
       "          1.Perfil  2.Total retweets\n",
       "0          Santula                 4\n",
       "1    patriaquerida                 3\n",
       "2     EfrainAlegre                 2\n",
       "3      ABCCardinal                 2\n",
       "4  JavierSanchezPy                 1"
      ]
     },
     "execution_count": 43,
     "metadata": {},
     "output_type": "execute_result"
    }
   ],
   "source": [
    "top_rts = []\n",
    "out_inter_evp = inter_evp['out_interactions']['retweets']['details']\n",
    "max_iter = 5 if len(out_inter_evp) > 5 else len(out_inter_evp)\n",
    "for i in range(max_iter):\n",
    "    contacto = {'1.Perfil': out_inter_evp[i][0], \n",
    "                '2.Total retweets': out_inter_evp[i][1]\n",
    "               }\n",
    "    top_rts.append(contacto)\n",
    "pd.DataFrame(top_rts)"
   ]
  },
  {
   "cell_type": "markdown",
   "metadata": {},
   "source": [
    "##### Perfiles a los que más respondió"
   ]
  },
  {
   "cell_type": "code",
   "execution_count": 44,
   "metadata": {},
   "outputs": [
    {
     "data": {
      "text/html": [
       "<div>\n",
       "<style scoped>\n",
       "    .dataframe tbody tr th:only-of-type {\n",
       "        vertical-align: middle;\n",
       "    }\n",
       "\n",
       "    .dataframe tbody tr th {\n",
       "        vertical-align: top;\n",
       "    }\n",
       "\n",
       "    .dataframe thead th {\n",
       "        text-align: right;\n",
       "    }\n",
       "</style>\n",
       "<table border=\"1\" class=\"dataframe\">\n",
       "  <thead>\n",
       "    <tr style=\"text-align: right;\">\n",
       "      <th></th>\n",
       "      <th>1.Perfil</th>\n",
       "      <th>2.Total respuestas</th>\n",
       "    </tr>\n",
       "  </thead>\n",
       "  <tbody>\n",
       "    <tr>\n",
       "      <th>0</th>\n",
       "      <td>MaritoAbdo</td>\n",
       "      <td>17</td>\n",
       "    </tr>\n",
       "    <tr>\n",
       "      <th>1</th>\n",
       "      <td>SantiPenap</td>\n",
       "      <td>6</td>\n",
       "    </tr>\n",
       "    <tr>\n",
       "      <th>2</th>\n",
       "      <td>fidelzavala2018</td>\n",
       "      <td>6</td>\n",
       "    </tr>\n",
       "    <tr>\n",
       "      <th>3</th>\n",
       "      <td>gduartcacavelos</td>\n",
       "      <td>4</td>\n",
       "    </tr>\n",
       "    <tr>\n",
       "      <th>4</th>\n",
       "      <td>sebavillarejo</td>\n",
       "      <td>4</td>\n",
       "    </tr>\n",
       "  </tbody>\n",
       "</table>\n",
       "</div>"
      ],
      "text/plain": [
       "          1.Perfil  2.Total respuestas\n",
       "0       MaritoAbdo                  17\n",
       "1       SantiPenap                   6\n",
       "2  fidelzavala2018                   6\n",
       "3  gduartcacavelos                   4\n",
       "4    sebavillarejo                   4"
      ]
     },
     "execution_count": 44,
     "metadata": {},
     "output_type": "execute_result"
    }
   ],
   "source": [
    "top_rps = []\n",
    "out_inter_evp = inter_evp['out_interactions']['replies']['details']\n",
    "max_iter = 5 if len(out_inter_evp) > 5 else len(out_inter_evp)\n",
    "for i in range(max_iter):\n",
    "    contacto = {'1.Perfil': out_inter_evp[i][0], \n",
    "                '2.Total respuestas': out_inter_evp[i][1]\n",
    "               }\n",
    "    top_rps.append(contacto)\n",
    "pd.DataFrame(top_rps)"
   ]
  },
  {
   "cell_type": "markdown",
   "metadata": {},
   "source": [
    "##### Perfiles más mencionados"
   ]
  },
  {
   "cell_type": "code",
   "execution_count": 45,
   "metadata": {},
   "outputs": [
    {
     "data": {
      "text/html": [
       "<div>\n",
       "<style scoped>\n",
       "    .dataframe tbody tr th:only-of-type {\n",
       "        vertical-align: middle;\n",
       "    }\n",
       "\n",
       "    .dataframe tbody tr th {\n",
       "        vertical-align: top;\n",
       "    }\n",
       "\n",
       "    .dataframe thead th {\n",
       "        text-align: right;\n",
       "    }\n",
       "</style>\n",
       "<table border=\"1\" class=\"dataframe\">\n",
       "  <thead>\n",
       "    <tr style=\"text-align: right;\">\n",
       "      <th></th>\n",
       "      <th>1.Perfil</th>\n",
       "      <th>2.Total menciones</th>\n",
       "    </tr>\n",
       "  </thead>\n",
       "  <tbody>\n",
       "    <tr>\n",
       "      <th>0</th>\n",
       "      <td>SantiPenap</td>\n",
       "      <td>27</td>\n",
       "    </tr>\n",
       "    <tr>\n",
       "      <th>1</th>\n",
       "      <td>MaritoAbdo</td>\n",
       "      <td>17</td>\n",
       "    </tr>\n",
       "    <tr>\n",
       "      <th>2</th>\n",
       "      <td>SinLimites_RG</td>\n",
       "      <td>6</td>\n",
       "    </tr>\n",
       "    <tr>\n",
       "      <th>3</th>\n",
       "      <td>EfrainAlegre</td>\n",
       "      <td>5</td>\n",
       "    </tr>\n",
       "    <tr>\n",
       "      <th>4</th>\n",
       "      <td>patriaquerida</td>\n",
       "      <td>4</td>\n",
       "    </tr>\n",
       "  </tbody>\n",
       "</table>\n",
       "</div>"
      ],
      "text/plain": [
       "        1.Perfil  2.Total menciones\n",
       "0     SantiPenap                 27\n",
       "1     MaritoAbdo                 17\n",
       "2  SinLimites_RG                  6\n",
       "3   EfrainAlegre                  5\n",
       "4  patriaquerida                  4"
      ]
     },
     "execution_count": 45,
     "metadata": {},
     "output_type": "execute_result"
    }
   ],
   "source": [
    "top_mts = []\n",
    "out_inter_evp = inter_evp['out_interactions']['mentions']['details']\n",
    "max_iter = 5 if len(out_inter_evp) > 5 else len(out_inter_evp)\n",
    "for i in range(max_iter):\n",
    "    contacto = {'1.Perfil': out_inter_evp[i][0], \n",
    "                '2.Total menciones': out_inter_evp[i][1]\n",
    "               }\n",
    "    top_mts.append(contacto)\n",
    "pd.DataFrame(top_mts)"
   ]
  },
  {
   "cell_type": "markdown",
   "metadata": {},
   "source": [
    "##### Perfiles más citados"
   ]
  },
  {
   "cell_type": "code",
   "execution_count": 46,
   "metadata": {},
   "outputs": [
    {
     "data": {
      "text/html": [
       "<div>\n",
       "<style scoped>\n",
       "    .dataframe tbody tr th:only-of-type {\n",
       "        vertical-align: middle;\n",
       "    }\n",
       "\n",
       "    .dataframe tbody tr th {\n",
       "        vertical-align: top;\n",
       "    }\n",
       "\n",
       "    .dataframe thead th {\n",
       "        text-align: right;\n",
       "    }\n",
       "</style>\n",
       "<table border=\"1\" class=\"dataframe\">\n",
       "  <thead>\n",
       "    <tr style=\"text-align: right;\">\n",
       "      <th></th>\n",
       "      <th>1.Perfil</th>\n",
       "      <th>2.Total citaciones</th>\n",
       "    </tr>\n",
       "  </thead>\n",
       "  <tbody>\n",
       "    <tr>\n",
       "      <th>0</th>\n",
       "      <td>ABCDigital</td>\n",
       "      <td>2</td>\n",
       "    </tr>\n",
       "    <tr>\n",
       "      <th>1</th>\n",
       "      <td>jotabernabe</td>\n",
       "      <td>2</td>\n",
       "    </tr>\n",
       "    <tr>\n",
       "      <th>2</th>\n",
       "      <td>Copanosetoca</td>\n",
       "      <td>1</td>\n",
       "    </tr>\n",
       "    <tr>\n",
       "      <th>3</th>\n",
       "      <td>smongelos</td>\n",
       "      <td>1</td>\n",
       "    </tr>\n",
       "    <tr>\n",
       "      <th>4</th>\n",
       "      <td>sandralopezpy</td>\n",
       "      <td>1</td>\n",
       "    </tr>\n",
       "  </tbody>\n",
       "</table>\n",
       "</div>"
      ],
      "text/plain": [
       "        1.Perfil  2.Total citaciones\n",
       "0     ABCDigital                   2\n",
       "1    jotabernabe                   2\n",
       "2   Copanosetoca                   1\n",
       "3      smongelos                   1\n",
       "4  sandralopezpy                   1"
      ]
     },
     "execution_count": 46,
     "metadata": {},
     "output_type": "execute_result"
    }
   ],
   "source": [
    "top_qts = []\n",
    "out_inter_evp = inter_evp['out_interactions']['quotes']['details']\n",
    "max_iter = 5 if len(out_inter_evp) > 5 else len(out_inter_evp)\n",
    "for i in range(max_iter):\n",
    "    contacto = {'1.Perfil': out_inter_evp[i][0], \n",
    "                '2.Total citaciones': out_inter_evp[i][1]\n",
    "               }\n",
    "    top_qts.append(contacto)\n",
    "pd.DataFrame(top_qts)"
   ]
  },
  {
   "cell_type": "markdown",
   "metadata": {},
   "source": [
    "#### Interacciones recibidas"
   ]
  },
  {
   "cell_type": "code",
   "execution_count": 47,
   "metadata": {},
   "outputs": [
    {
     "name": "stdout",
     "output_type": "stream",
     "text": [
      "2762 tweets; 2054 retweets, 654 respuestas, 43 menciones, y 11 citaciones\n"
     ]
    }
   ],
   "source": [
    "print('{0} tweets; {1} retweets, {2} respuestas, {3} menciones, y {4} citaciones'. \\\n",
    "      format(inter_evp['in_interactions']['total']['count'], \\\n",
    "             inter_evp['in_interactions']['retweets']['count'], \\\n",
    "             inter_evp['in_interactions']['replies']['count'], \\\n",
    "             inter_evp['in_interactions']['mentions']['count'], \\\n",
    "             inter_evp['in_interactions']['quotes']['count']))"
   ]
  },
  {
   "cell_type": "markdown",
   "metadata": {},
   "source": [
    "##### Perfiles que más retuitearon sus publicaciones"
   ]
  },
  {
   "cell_type": "code",
   "execution_count": 48,
   "metadata": {},
   "outputs": [
    {
     "data": {
      "text/html": [
       "<div>\n",
       "<style scoped>\n",
       "    .dataframe tbody tr th:only-of-type {\n",
       "        vertical-align: middle;\n",
       "    }\n",
       "\n",
       "    .dataframe tbody tr th {\n",
       "        vertical-align: top;\n",
       "    }\n",
       "\n",
       "    .dataframe thead th {\n",
       "        text-align: right;\n",
       "    }\n",
       "</style>\n",
       "<table border=\"1\" class=\"dataframe\">\n",
       "  <thead>\n",
       "    <tr style=\"text-align: right;\">\n",
       "      <th></th>\n",
       "      <th>1.Perfil</th>\n",
       "      <th>2.Total retweets</th>\n",
       "    </tr>\n",
       "  </thead>\n",
       "  <tbody>\n",
       "    <tr>\n",
       "      <th>0</th>\n",
       "      <td>fabiansolis_</td>\n",
       "      <td>25</td>\n",
       "    </tr>\n",
       "    <tr>\n",
       "      <th>1</th>\n",
       "      <td>Norabeli</td>\n",
       "      <td>24</td>\n",
       "    </tr>\n",
       "    <tr>\n",
       "      <th>2</th>\n",
       "      <td>Roberto73467377</td>\n",
       "      <td>22</td>\n",
       "    </tr>\n",
       "    <tr>\n",
       "      <th>3</th>\n",
       "      <td>marcosacua2</td>\n",
       "      <td>21</td>\n",
       "    </tr>\n",
       "    <tr>\n",
       "      <th>4</th>\n",
       "      <td>Beatriz20D</td>\n",
       "      <td>19</td>\n",
       "    </tr>\n",
       "  </tbody>\n",
       "</table>\n",
       "</div>"
      ],
      "text/plain": [
       "          1.Perfil  2.Total retweets\n",
       "0     fabiansolis_                25\n",
       "1         Norabeli                24\n",
       "2  Roberto73467377                22\n",
       "3      marcosacua2                21\n",
       "4       Beatriz20D                19"
      ]
     },
     "execution_count": 48,
     "metadata": {},
     "output_type": "execute_result"
    }
   ],
   "source": [
    "top_rts = []\n",
    "in_inter_evp = inter_evp['in_interactions']['retweets']['details']\n",
    "max_iter = 5 if len(in_inter_evp) > 5 else len(in_inter_evp)\n",
    "for i in range(max_iter):\n",
    "    contacto = {'1.Perfil': in_inter_evp[i][0], \n",
    "                '2.Total retweets': in_inter_evp[i][1]\n",
    "               }\n",
    "    top_rts.append(contacto)\n",
    "pd.DataFrame(top_rts)"
   ]
  },
  {
   "cell_type": "markdown",
   "metadata": {},
   "source": [
    "##### Perfiles que más respondieron a sus publicaciones"
   ]
  },
  {
   "cell_type": "code",
   "execution_count": 49,
   "metadata": {},
   "outputs": [
    {
     "data": {
      "text/html": [
       "<div>\n",
       "<style scoped>\n",
       "    .dataframe tbody tr th:only-of-type {\n",
       "        vertical-align: middle;\n",
       "    }\n",
       "\n",
       "    .dataframe tbody tr th {\n",
       "        vertical-align: top;\n",
       "    }\n",
       "\n",
       "    .dataframe thead th {\n",
       "        text-align: right;\n",
       "    }\n",
       "</style>\n",
       "<table border=\"1\" class=\"dataframe\">\n",
       "  <thead>\n",
       "    <tr style=\"text-align: right;\">\n",
       "      <th></th>\n",
       "      <th>1.Perfil</th>\n",
       "      <th>2.Total respuestas</th>\n",
       "    </tr>\n",
       "  </thead>\n",
       "  <tbody>\n",
       "    <tr>\n",
       "      <th>0</th>\n",
       "      <td>Verogot</td>\n",
       "      <td>14</td>\n",
       "    </tr>\n",
       "    <tr>\n",
       "      <th>1</th>\n",
       "      <td>Avorivas</td>\n",
       "      <td>12</td>\n",
       "    </tr>\n",
       "    <tr>\n",
       "      <th>2</th>\n",
       "      <td>AlamVera2</td>\n",
       "      <td>12</td>\n",
       "    </tr>\n",
       "    <tr>\n",
       "      <th>3</th>\n",
       "      <td>keito_sanchez</td>\n",
       "      <td>8</td>\n",
       "    </tr>\n",
       "    <tr>\n",
       "      <th>4</th>\n",
       "      <td>GloriaRiego2</td>\n",
       "      <td>8</td>\n",
       "    </tr>\n",
       "  </tbody>\n",
       "</table>\n",
       "</div>"
      ],
      "text/plain": [
       "        1.Perfil  2.Total respuestas\n",
       "0        Verogot                  14\n",
       "1       Avorivas                  12\n",
       "2      AlamVera2                  12\n",
       "3  keito_sanchez                   8\n",
       "4   GloriaRiego2                   8"
      ]
     },
     "execution_count": 49,
     "metadata": {},
     "output_type": "execute_result"
    }
   ],
   "source": [
    "top_rps = []\n",
    "in_inter_evp = inter_evp['in_interactions']['replies']['details']\n",
    "max_iter = 5 if len(in_inter_evp) > 5 else len(in_inter_evp)\n",
    "for i in range(max_iter):\n",
    "    contacto = {'1.Perfil': in_inter_evp[i][0], \n",
    "                '2.Total respuestas': in_inter_evp[i][1]\n",
    "               }\n",
    "    top_rps.append(contacto)\n",
    "pd.DataFrame(top_rps)"
   ]
  },
  {
   "cell_type": "markdown",
   "metadata": {},
   "source": [
    "##### Perfiles que más mencionaron a enriquevp "
   ]
  },
  {
   "cell_type": "code",
   "execution_count": 51,
   "metadata": {},
   "outputs": [
    {
     "data": {
      "text/html": [
       "<div>\n",
       "<style scoped>\n",
       "    .dataframe tbody tr th:only-of-type {\n",
       "        vertical-align: middle;\n",
       "    }\n",
       "\n",
       "    .dataframe tbody tr th {\n",
       "        vertical-align: top;\n",
       "    }\n",
       "\n",
       "    .dataframe thead th {\n",
       "        text-align: right;\n",
       "    }\n",
       "</style>\n",
       "<table border=\"1\" class=\"dataframe\">\n",
       "  <thead>\n",
       "    <tr style=\"text-align: right;\">\n",
       "      <th></th>\n",
       "      <th>1.Perfil</th>\n",
       "      <th>2.Total menciones</th>\n",
       "    </tr>\n",
       "  </thead>\n",
       "  <tbody>\n",
       "    <tr>\n",
       "      <th>0</th>\n",
       "      <td>caramarillapy</td>\n",
       "      <td>5</td>\n",
       "    </tr>\n",
       "    <tr>\n",
       "      <th>1</th>\n",
       "      <td>Maxnarvezmatto</td>\n",
       "      <td>4</td>\n",
       "    </tr>\n",
       "    <tr>\n",
       "      <th>2</th>\n",
       "      <td>JoseRamirezZela</td>\n",
       "      <td>2</td>\n",
       "    </tr>\n",
       "    <tr>\n",
       "      <th>3</th>\n",
       "      <td>minaftv</td>\n",
       "      <td>2</td>\n",
       "    </tr>\n",
       "    <tr>\n",
       "      <th>4</th>\n",
       "      <td>UribeQuerubin</td>\n",
       "      <td>1</td>\n",
       "    </tr>\n",
       "  </tbody>\n",
       "</table>\n",
       "</div>"
      ],
      "text/plain": [
       "          1.Perfil  2.Total menciones\n",
       "0    caramarillapy                  5\n",
       "1   Maxnarvezmatto                  4\n",
       "2  JoseRamirezZela                  2\n",
       "3          minaftv                  2\n",
       "4    UribeQuerubin                  1"
      ]
     },
     "execution_count": 51,
     "metadata": {},
     "output_type": "execute_result"
    }
   ],
   "source": [
    "top_mts = []\n",
    "in_inter_evp = inter_evp['in_interactions']['mentions']['details']\n",
    "max_iter = 5 if len(in_inter_evp) > 5 else len(in_inter_evp)\n",
    "for i in range(max_iter):\n",
    "    contacto = {'1.Perfil': in_inter_evp[i][0], \n",
    "                '2.Total menciones': in_inter_evp[i][1]\n",
    "               }\n",
    "    top_mts.append(contacto)\n",
    "pd.DataFrame(top_mts)"
   ]
  },
  {
   "cell_type": "markdown",
   "metadata": {},
   "source": [
    "##### Perfiles que más citaron sus publicaciones"
   ]
  },
  {
   "cell_type": "code",
   "execution_count": 52,
   "metadata": {},
   "outputs": [
    {
     "data": {
      "text/html": [
       "<div>\n",
       "<style scoped>\n",
       "    .dataframe tbody tr th:only-of-type {\n",
       "        vertical-align: middle;\n",
       "    }\n",
       "\n",
       "    .dataframe tbody tr th {\n",
       "        vertical-align: top;\n",
       "    }\n",
       "\n",
       "    .dataframe thead th {\n",
       "        text-align: right;\n",
       "    }\n",
       "</style>\n",
       "<table border=\"1\" class=\"dataframe\">\n",
       "  <thead>\n",
       "    <tr style=\"text-align: right;\">\n",
       "      <th></th>\n",
       "      <th>1.Perfil</th>\n",
       "      <th>2.Total citaciones</th>\n",
       "    </tr>\n",
       "  </thead>\n",
       "  <tbody>\n",
       "    <tr>\n",
       "      <th>0</th>\n",
       "      <td>chintuoviedo</td>\n",
       "      <td>1</td>\n",
       "    </tr>\n",
       "    <tr>\n",
       "      <th>1</th>\n",
       "      <td>Clyde_VolkartOf</td>\n",
       "      <td>1</td>\n",
       "    </tr>\n",
       "    <tr>\n",
       "      <th>2</th>\n",
       "      <td>desimasi2</td>\n",
       "      <td>1</td>\n",
       "    </tr>\n",
       "    <tr>\n",
       "      <th>3</th>\n",
       "      <td>Avorivas</td>\n",
       "      <td>1</td>\n",
       "    </tr>\n",
       "    <tr>\n",
       "      <th>4</th>\n",
       "      <td>gio_martinez88</td>\n",
       "      <td>1</td>\n",
       "    </tr>\n",
       "  </tbody>\n",
       "</table>\n",
       "</div>"
      ],
      "text/plain": [
       "          1.Perfil  2.Total citaciones\n",
       "0     chintuoviedo                   1\n",
       "1  Clyde_VolkartOf                   1\n",
       "2        desimasi2                   1\n",
       "3         Avorivas                   1\n",
       "4   gio_martinez88                   1"
      ]
     },
     "execution_count": 52,
     "metadata": {},
     "output_type": "execute_result"
    }
   ],
   "source": [
    "top_qts = []\n",
    "in_inter_evp = inter_evp['in_interactions']['quotes']['details']\n",
    "max_iter = 5 if len(in_inter_evp) > 5 else len(in_inter_evp)\n",
    "for i in range(max_iter):\n",
    "    contacto = {'1.Perfil': in_inter_evp[i][0], \n",
    "                '2.Total citaciones': in_inter_evp[i][1]\n",
    "               }\n",
    "    top_qts.append(contacto)\n",
    "pd.DataFrame(top_qts)"
   ]
  },
  {
   "cell_type": "markdown",
   "metadata": {},
   "source": [
    "Casi el 75% de las interacciones que recibió `enriquevp` corresponden a retweets de sus publicaciones. También se destaca que la mayoría de las interacciones generadas por Vargas Peña se relacionan con menciones, citaciones, o respuestas a los principales pre-candidatos a la presidencia, Mario Abdo Benítez, Santiago Peña, y Efraín Alegre."
   ]
  },
  {
   "cell_type": "markdown",
   "metadata": {},
   "source": [
    "### Desireè Masi (desimasi2)"
   ]
  },
  {
   "cell_type": "code",
   "execution_count": 270,
   "metadata": {},
   "outputs": [],
   "source": [
    "na = NetworkAnalyzer()\n",
    "inter_dm = na.get_out_interactions('desimasi2')"
   ]
  },
  {
   "cell_type": "markdown",
   "metadata": {},
   "source": [
    "##### Interacciones generadas"
   ]
  },
  {
   "cell_type": "code",
   "execution_count": 271,
   "metadata": {},
   "outputs": [
    {
     "name": "stdout",
     "output_type": "stream",
     "text": [
      "235 tweets; 26 retweets, 59 respuestas, 113 menciones, y 37 citaciones\n"
     ]
    }
   ],
   "source": [
    "print('{0} tweets; {1} retweets, {2} respuestas, {3} menciones, y {4} citaciones'. \\\n",
    "      format(inter_dm['out_interactions']['total']['count'], \\\n",
    "             inter_dm['out_interactions']['retweets']['count'], \\\n",
    "             inter_dm['out_interactions']['replies']['count'], \\\n",
    "             inter_dm['out_interactions']['mentions']['count'], \\\n",
    "             inter_dm['out_interactions']['quotes']['count']))"
   ]
  },
  {
   "cell_type": "markdown",
   "metadata": {},
   "source": [
    "##### Perfiles más retuiteados"
   ]
  },
  {
   "cell_type": "code",
   "execution_count": 56,
   "metadata": {},
   "outputs": [
    {
     "data": {
      "text/html": [
       "<div>\n",
       "<style scoped>\n",
       "    .dataframe tbody tr th:only-of-type {\n",
       "        vertical-align: middle;\n",
       "    }\n",
       "\n",
       "    .dataframe tbody tr th {\n",
       "        vertical-align: top;\n",
       "    }\n",
       "\n",
       "    .dataframe thead th {\n",
       "        text-align: right;\n",
       "    }\n",
       "</style>\n",
       "<table border=\"1\" class=\"dataframe\">\n",
       "  <thead>\n",
       "    <tr style=\"text-align: right;\">\n",
       "      <th></th>\n",
       "      <th>1.Perfil</th>\n",
       "      <th>2.Total retweets</th>\n",
       "    </tr>\n",
       "  </thead>\n",
       "  <tbody>\n",
       "    <tr>\n",
       "      <th>0</th>\n",
       "      <td>StibenPatron</td>\n",
       "      <td>2</td>\n",
       "    </tr>\n",
       "    <tr>\n",
       "      <th>1</th>\n",
       "      <td>EfrainAlegre</td>\n",
       "      <td>2</td>\n",
       "    </tr>\n",
       "    <tr>\n",
       "      <th>2</th>\n",
       "      <td>enriquevp</td>\n",
       "      <td>2</td>\n",
       "    </tr>\n",
       "    <tr>\n",
       "      <th>3</th>\n",
       "      <td>Raquel_1634</td>\n",
       "      <td>1</td>\n",
       "    </tr>\n",
       "    <tr>\n",
       "      <th>4</th>\n",
       "      <td>gernhof</td>\n",
       "      <td>1</td>\n",
       "    </tr>\n",
       "  </tbody>\n",
       "</table>\n",
       "</div>"
      ],
      "text/plain": [
       "       1.Perfil  2.Total retweets\n",
       "0  StibenPatron                 2\n",
       "1  EfrainAlegre                 2\n",
       "2     enriquevp                 2\n",
       "3   Raquel_1634                 1\n",
       "4       gernhof                 1"
      ]
     },
     "execution_count": 56,
     "metadata": {},
     "output_type": "execute_result"
    }
   ],
   "source": [
    "top_rts = []\n",
    "out_inter_dm = inter_dm['out_interactions']['retweets']['details']\n",
    "max_iter = 5 if len(out_inter_dm) > 5 else len(out_inter_dm)\n",
    "for i in range(max_iter):\n",
    "    contacto = {'1.Perfil': out_inter_dm[i][0], \n",
    "                '2.Total retweets': out_inter_dm[i][1]\n",
    "               }\n",
    "    top_rts.append(contacto)\n",
    "pd.DataFrame(top_rts)"
   ]
  },
  {
   "cell_type": "markdown",
   "metadata": {},
   "source": [
    "##### Perfiles a los que más respondió"
   ]
  },
  {
   "cell_type": "code",
   "execution_count": 272,
   "metadata": {},
   "outputs": [
    {
     "data": {
      "text/html": [
       "<div>\n",
       "<style scoped>\n",
       "    .dataframe tbody tr th:only-of-type {\n",
       "        vertical-align: middle;\n",
       "    }\n",
       "\n",
       "    .dataframe tbody tr th {\n",
       "        vertical-align: top;\n",
       "    }\n",
       "\n",
       "    .dataframe thead th {\n",
       "        text-align: right;\n",
       "    }\n",
       "</style>\n",
       "<table border=\"1\" class=\"dataframe\">\n",
       "  <thead>\n",
       "    <tr style=\"text-align: right;\">\n",
       "      <th></th>\n",
       "      <th>1.Perfil</th>\n",
       "      <th>2.Total respuestas</th>\n",
       "      <th>3.PBB</th>\n",
       "    </tr>\n",
       "  </thead>\n",
       "  <tbody>\n",
       "    <tr>\n",
       "      <th>0</th>\n",
       "      <td>andregp87</td>\n",
       "      <td>4</td>\n",
       "      <td>0.419268</td>\n",
       "    </tr>\n",
       "    <tr>\n",
       "      <th>1</th>\n",
       "      <td>Rolando35503217</td>\n",
       "      <td>3</td>\n",
       "      <td>9.815278</td>\n",
       "    </tr>\n",
       "    <tr>\n",
       "      <th>2</th>\n",
       "      <td>smongelos</td>\n",
       "      <td>2</td>\n",
       "      <td>0.440155</td>\n",
       "    </tr>\n",
       "    <tr>\n",
       "      <th>3</th>\n",
       "      <td>neonecio</td>\n",
       "      <td>2</td>\n",
       "      <td>0.563443</td>\n",
       "    </tr>\n",
       "    <tr>\n",
       "      <th>4</th>\n",
       "      <td>Carlito25Baz</td>\n",
       "      <td>2</td>\n",
       "      <td>1.562724</td>\n",
       "    </tr>\n",
       "  </tbody>\n",
       "</table>\n",
       "</div>"
      ],
      "text/plain": [
       "          1.Perfil  2.Total respuestas     3.PBB\n",
       "0        andregp87                   4  0.419268\n",
       "1  Rolando35503217                   3  9.815278\n",
       "2        smongelos                   2  0.440155\n",
       "3         neonecio                   2  0.563443\n",
       "4     Carlito25Baz                   2  1.562724"
      ]
     },
     "execution_count": 272,
     "metadata": {},
     "output_type": "execute_result"
    }
   ],
   "source": [
    "rps_out = []\n",
    "out_inter_dm = inter_dm['out_interactions']['replies']['details']\n",
    "sorted_out_interactions = sorted(out_inter_dm.items(), key=lambda kv: kv[1], reverse=True)\n",
    "for interaction in sorted_out_interactions:\n",
    "    contacto = {'1.Perfil': interaction[0], \n",
    "                '2.Total respuestas': interaction[1],\n",
    "                '3.PBB': float(all_users_df[all_users_df['screen_name']==interaction[0]]['pbb'])\n",
    "               }\n",
    "    rps_out.append(contacto)\n",
    "rps_out_df = pd.DataFrame(rps_out)\n",
    "rps_out_df.head()"
   ]
  },
  {
   "cell_type": "markdown",
   "metadata": {},
   "source": [
    "**¿Cuántos de esos perfiles son bots?**"
   ]
  },
  {
   "cell_type": "code",
   "execution_count": 273,
   "metadata": {},
   "outputs": [
    {
     "name": "stdout",
     "output_type": "stream",
     "text": [
      "De los 49 perfiles a los que respondió, 12 son bots (24.0%)\n"
     ]
    },
    {
     "name": "stderr",
     "output_type": "stream",
     "text": [
      "/Users/jorgesaldivar/Dropbox/Development/politic-bots/env/lib/python3.4/site-packages/ipykernel_launcher.py:5: SettingWithCopyWarning: \n",
      "A value is trying to be set on a copy of a slice from a DataFrame\n",
      "\n",
      "See the caveats in the documentation: http://pandas.pydata.org/pandas-docs/stable/indexing.html#indexing-view-versus-copy\n",
      "  \"\"\"\n"
     ]
    },
    {
     "data": {
      "text/html": [
       "<div>\n",
       "<style scoped>\n",
       "    .dataframe tbody tr th:only-of-type {\n",
       "        vertical-align: middle;\n",
       "    }\n",
       "\n",
       "    .dataframe tbody tr th {\n",
       "        vertical-align: top;\n",
       "    }\n",
       "\n",
       "    .dataframe thead th {\n",
       "        text-align: right;\n",
       "    }\n",
       "</style>\n",
       "<table border=\"1\" class=\"dataframe\">\n",
       "  <thead>\n",
       "    <tr style=\"text-align: right;\">\n",
       "      <th></th>\n",
       "      <th>1.Perfil</th>\n",
       "      <th>2.Total respuestas</th>\n",
       "      <th>3.PBB</th>\n",
       "    </tr>\n",
       "  </thead>\n",
       "  <tbody>\n",
       "    <tr>\n",
       "      <th>1</th>\n",
       "      <td>Rolando35503217</td>\n",
       "      <td>3</td>\n",
       "      <td>9.815278</td>\n",
       "    </tr>\n",
       "    <tr>\n",
       "      <th>4</th>\n",
       "      <td>Carlito25Baz</td>\n",
       "      <td>2</td>\n",
       "      <td>1.562724</td>\n",
       "    </tr>\n",
       "    <tr>\n",
       "      <th>7</th>\n",
       "      <td>Beatriz20D</td>\n",
       "      <td>1</td>\n",
       "      <td>0.744348</td>\n",
       "    </tr>\n",
       "    <tr>\n",
       "      <th>9</th>\n",
       "      <td>majorjuan91</td>\n",
       "      <td>1</td>\n",
       "      <td>2.696898</td>\n",
       "    </tr>\n",
       "    <tr>\n",
       "      <th>14</th>\n",
       "      <td>ElGalho</td>\n",
       "      <td>1</td>\n",
       "      <td>0.776139</td>\n",
       "    </tr>\n",
       "  </tbody>\n",
       "</table>\n",
       "</div>"
      ],
      "text/plain": [
       "           1.Perfil  2.Total respuestas     3.PBB\n",
       "1   Rolando35503217                   3  9.815278\n",
       "4      Carlito25Baz                   2  1.562724\n",
       "7        Beatriz20D                   1  0.744348\n",
       "9       majorjuan91                   1  2.696898\n",
       "14          ElGalho                   1  0.776139"
      ]
     },
     "execution_count": 273,
     "metadata": {},
     "output_type": "execute_result"
    }
   ],
   "source": [
    "rps_out_bots = rps_out_df[rps_out_df['3.PBB']>quantile_75]\n",
    "print('De los {0} perfiles a los que respondió, {1} son bots ({2}%)'.format(rps_out_df.shape[0], \n",
    "                                                                        rps_out_bots.shape[0],\n",
    "                                                                        round(100*rps_out_bots.shape[0]/rps_out_df.shape[0],0)))\n",
    "rps_out_bots.sort_values('2.Total respuestas', inplace=True, ascending=False)\n",
    "rps_out_bots.head()"
   ]
  },
  {
   "cell_type": "markdown",
   "metadata": {},
   "source": [
    "##### Perfiles a los que más mencionó"
   ]
  },
  {
   "cell_type": "code",
   "execution_count": 58,
   "metadata": {},
   "outputs": [
    {
     "data": {
      "text/html": [
       "<div>\n",
       "<style scoped>\n",
       "    .dataframe tbody tr th:only-of-type {\n",
       "        vertical-align: middle;\n",
       "    }\n",
       "\n",
       "    .dataframe tbody tr th {\n",
       "        vertical-align: top;\n",
       "    }\n",
       "\n",
       "    .dataframe thead th {\n",
       "        text-align: right;\n",
       "    }\n",
       "</style>\n",
       "<table border=\"1\" class=\"dataframe\">\n",
       "  <thead>\n",
       "    <tr style=\"text-align: right;\">\n",
       "      <th></th>\n",
       "      <th>1.Perfil</th>\n",
       "      <th>2.Total menciones</th>\n",
       "    </tr>\n",
       "  </thead>\n",
       "  <tbody>\n",
       "    <tr>\n",
       "      <th>0</th>\n",
       "      <td>Horacio_Cartes</td>\n",
       "      <td>36</td>\n",
       "    </tr>\n",
       "    <tr>\n",
       "      <th>1</th>\n",
       "      <td>EfrainAlegre</td>\n",
       "      <td>7</td>\n",
       "    </tr>\n",
       "    <tr>\n",
       "      <th>2</th>\n",
       "      <td>fidelzavala2018</td>\n",
       "      <td>7</td>\n",
       "    </tr>\n",
       "    <tr>\n",
       "      <th>3</th>\n",
       "      <td>Estelaruizdiaz</td>\n",
       "      <td>6</td>\n",
       "    </tr>\n",
       "    <tr>\n",
       "      <th>4</th>\n",
       "      <td>SantiPenap</td>\n",
       "      <td>5</td>\n",
       "    </tr>\n",
       "  </tbody>\n",
       "</table>\n",
       "</div>"
      ],
      "text/plain": [
       "          1.Perfil  2.Total menciones\n",
       "0   Horacio_Cartes                 36\n",
       "1     EfrainAlegre                  7\n",
       "2  fidelzavala2018                  7\n",
       "3   Estelaruizdiaz                  6\n",
       "4       SantiPenap                  5"
      ]
     },
     "execution_count": 58,
     "metadata": {},
     "output_type": "execute_result"
    }
   ],
   "source": [
    "top_mts = []\n",
    "out_inter_dm = inter_dm['out_interactions']['mentions']['details']\n",
    "max_iter = 5 if len(out_inter_dm) > 5 else len(out_inter_dm)\n",
    "for i in range(max_iter):\n",
    "    contacto = {'1.Perfil': out_inter_dm[i][0], \n",
    "                '2.Total menciones': out_inter_dm[i][1]\n",
    "               }\n",
    "    top_mts.append(contacto)\n",
    "pd.DataFrame(top_mts)"
   ]
  },
  {
   "cell_type": "markdown",
   "metadata": {},
   "source": [
    "##### Perfiles a los que más citó"
   ]
  },
  {
   "cell_type": "code",
   "execution_count": 59,
   "metadata": {},
   "outputs": [
    {
     "data": {
      "text/html": [
       "<div>\n",
       "<style scoped>\n",
       "    .dataframe tbody tr th:only-of-type {\n",
       "        vertical-align: middle;\n",
       "    }\n",
       "\n",
       "    .dataframe tbody tr th {\n",
       "        vertical-align: top;\n",
       "    }\n",
       "\n",
       "    .dataframe thead th {\n",
       "        text-align: right;\n",
       "    }\n",
       "</style>\n",
       "<table border=\"1\" class=\"dataframe\">\n",
       "  <thead>\n",
       "    <tr style=\"text-align: right;\">\n",
       "      <th></th>\n",
       "      <th>1.Perfil</th>\n",
       "      <th>2.Total citaciones</th>\n",
       "    </tr>\n",
       "  </thead>\n",
       "  <tbody>\n",
       "    <tr>\n",
       "      <th>0</th>\n",
       "      <td>eottolenghi</td>\n",
       "      <td>5</td>\n",
       "    </tr>\n",
       "    <tr>\n",
       "      <th>1</th>\n",
       "      <td>UltimaHoracom</td>\n",
       "      <td>5</td>\n",
       "    </tr>\n",
       "    <tr>\n",
       "      <th>2</th>\n",
       "      <td>EfrainAlegre</td>\n",
       "      <td>3</td>\n",
       "    </tr>\n",
       "    <tr>\n",
       "      <th>3</th>\n",
       "      <td>ABCCardinal</td>\n",
       "      <td>3</td>\n",
       "    </tr>\n",
       "    <tr>\n",
       "      <th>4</th>\n",
       "      <td>desimasi2</td>\n",
       "      <td>3</td>\n",
       "    </tr>\n",
       "  </tbody>\n",
       "</table>\n",
       "</div>"
      ],
      "text/plain": [
       "        1.Perfil  2.Total citaciones\n",
       "0    eottolenghi                   5\n",
       "1  UltimaHoracom                   5\n",
       "2   EfrainAlegre                   3\n",
       "3    ABCCardinal                   3\n",
       "4      desimasi2                   3"
      ]
     },
     "execution_count": 59,
     "metadata": {},
     "output_type": "execute_result"
    }
   ],
   "source": [
    "top_qts = []\n",
    "out_inter_dm = inter_dm['out_interactions']['quotes']['details']\n",
    "max_iter = 5 if len(out_inter_dm) > 5 else len(out_inter_dm)\n",
    "for i in range(max_iter):\n",
    "    contacto = {'1.Perfil': out_inter_dm[i][0], \n",
    "                '2.Total citaciones': out_inter_dm[i][1]\n",
    "               }\n",
    "    top_qts.append(contacto)\n",
    "pd.DataFrame(top_qts)"
   ]
  },
  {
   "cell_type": "markdown",
   "metadata": {},
   "source": [
    "#### Interacciones recibidas"
   ]
  },
  {
   "cell_type": "code",
   "execution_count": 274,
   "metadata": {},
   "outputs": [],
   "source": [
    "inter_dm = na.get_in_interactions('desimasi2')"
   ]
  },
  {
   "cell_type": "code",
   "execution_count": 275,
   "metadata": {},
   "outputs": [
    {
     "name": "stdout",
     "output_type": "stream",
     "text": [
      "2516 tweets; 1735 retweets, 729 respuestas, 40 menciones, y 12 citaciones\n"
     ]
    }
   ],
   "source": [
    "print('{0} tweets; {1} retweets, {2} respuestas, {3} menciones, y {4} citaciones'. \\\n",
    "      format(inter_dm['in_interactions']['total']['count'], \\\n",
    "             inter_dm['in_interactions']['retweets']['count'], \\\n",
    "             inter_dm['in_interactions']['replies']['count'], \\\n",
    "             inter_dm['in_interactions']['mentions']['count'], \\\n",
    "             inter_dm['in_interactions']['quotes']['count']))"
   ]
  },
  {
   "cell_type": "markdown",
   "metadata": {},
   "source": [
    "##### Perfiles que más retuitean sus publicaciones"
   ]
  },
  {
   "cell_type": "code",
   "execution_count": 276,
   "metadata": {},
   "outputs": [
    {
     "data": {
      "text/html": [
       "<div>\n",
       "<style scoped>\n",
       "    .dataframe tbody tr th:only-of-type {\n",
       "        vertical-align: middle;\n",
       "    }\n",
       "\n",
       "    .dataframe tbody tr th {\n",
       "        vertical-align: top;\n",
       "    }\n",
       "\n",
       "    .dataframe thead th {\n",
       "        text-align: right;\n",
       "    }\n",
       "</style>\n",
       "<table border=\"1\" class=\"dataframe\">\n",
       "  <thead>\n",
       "    <tr style=\"text-align: right;\">\n",
       "      <th></th>\n",
       "      <th>1.Perfil</th>\n",
       "      <th>2.Total retweets</th>\n",
       "      <th>3.PBB</th>\n",
       "    </tr>\n",
       "  </thead>\n",
       "  <tbody>\n",
       "    <tr>\n",
       "      <th>0</th>\n",
       "      <td>gladysgulino</td>\n",
       "      <td>36</td>\n",
       "      <td>0.348731</td>\n",
       "    </tr>\n",
       "    <tr>\n",
       "      <th>1</th>\n",
       "      <td>Norabeli</td>\n",
       "      <td>35</td>\n",
       "      <td>0.385551</td>\n",
       "    </tr>\n",
       "    <tr>\n",
       "      <th>2</th>\n",
       "      <td>Beatriz20D</td>\n",
       "      <td>28</td>\n",
       "      <td>0.744348</td>\n",
       "    </tr>\n",
       "    <tr>\n",
       "      <th>3</th>\n",
       "      <td>pdpprogresista</td>\n",
       "      <td>20</td>\n",
       "      <td>0.399427</td>\n",
       "    </tr>\n",
       "    <tr>\n",
       "      <th>4</th>\n",
       "      <td>juancoolazar</td>\n",
       "      <td>19</td>\n",
       "      <td>0.491520</td>\n",
       "    </tr>\n",
       "  </tbody>\n",
       "</table>\n",
       "</div>"
      ],
      "text/plain": [
       "         1.Perfil  2.Total retweets     3.PBB\n",
       "0    gladysgulino                36  0.348731\n",
       "1        Norabeli                35  0.385551\n",
       "2      Beatriz20D                28  0.744348\n",
       "3  pdpprogresista                20  0.399427\n",
       "4    juancoolazar                19  0.491520"
      ]
     },
     "execution_count": 276,
     "metadata": {},
     "output_type": "execute_result"
    }
   ],
   "source": [
    "rts_in = []\n",
    "in_inter_dm = inter_dm['in_interactions']['retweets']['details']\n",
    "sorted_in_interactions = sorted(in_inter_dm.items(), key=lambda kv: kv[1], reverse=True)\n",
    "for interaction in sorted_in_interactions:\n",
    "    contacto = {'1.Perfil': interaction[0], \n",
    "                '2.Total retweets': interaction[1],\n",
    "                '3.PBB': float(all_users_df[all_users_df['screen_name']==interaction[0]]['pbb'])\n",
    "               }\n",
    "    rts_in.append(contacto)\n",
    "rts_in_df = pd.DataFrame(rts_in)\n",
    "rts_in_df.head()"
   ]
  },
  {
   "cell_type": "markdown",
   "metadata": {},
   "source": [
    "**¿Cuántos de esos perfiles son bots?**"
   ]
  },
  {
   "cell_type": "code",
   "execution_count": 277,
   "metadata": {},
   "outputs": [
    {
     "name": "stdout",
     "output_type": "stream",
     "text": [
      "De los 812 perfiles a los que respondió, 167 son bots (21.0%)\n"
     ]
    },
    {
     "name": "stderr",
     "output_type": "stream",
     "text": [
      "/Users/jorgesaldivar/Dropbox/Development/politic-bots/env/lib/python3.4/site-packages/ipykernel_launcher.py:5: SettingWithCopyWarning: \n",
      "A value is trying to be set on a copy of a slice from a DataFrame\n",
      "\n",
      "See the caveats in the documentation: http://pandas.pydata.org/pandas-docs/stable/indexing.html#indexing-view-versus-copy\n",
      "  \"\"\"\n"
     ]
    },
    {
     "data": {
      "text/html": [
       "<div>\n",
       "<style scoped>\n",
       "    .dataframe tbody tr th:only-of-type {\n",
       "        vertical-align: middle;\n",
       "    }\n",
       "\n",
       "    .dataframe tbody tr th {\n",
       "        vertical-align: top;\n",
       "    }\n",
       "\n",
       "    .dataframe thead th {\n",
       "        text-align: right;\n",
       "    }\n",
       "</style>\n",
       "<table border=\"1\" class=\"dataframe\">\n",
       "  <thead>\n",
       "    <tr style=\"text-align: right;\">\n",
       "      <th></th>\n",
       "      <th>1.Perfil</th>\n",
       "      <th>2.Total retweets</th>\n",
       "      <th>3.PBB</th>\n",
       "    </tr>\n",
       "  </thead>\n",
       "  <tbody>\n",
       "    <tr>\n",
       "      <th>2</th>\n",
       "      <td>Beatriz20D</td>\n",
       "      <td>28</td>\n",
       "      <td>0.744348</td>\n",
       "    </tr>\n",
       "    <tr>\n",
       "      <th>6</th>\n",
       "      <td>angelmgaray</td>\n",
       "      <td>17</td>\n",
       "      <td>0.791667</td>\n",
       "    </tr>\n",
       "    <tr>\n",
       "      <th>7</th>\n",
       "      <td>CesarSanchez636</td>\n",
       "      <td>17</td>\n",
       "      <td>0.851941</td>\n",
       "    </tr>\n",
       "    <tr>\n",
       "      <th>12</th>\n",
       "      <td>CESARSANCHEZ553</td>\n",
       "      <td>12</td>\n",
       "      <td>1.191947</td>\n",
       "    </tr>\n",
       "    <tr>\n",
       "      <th>16</th>\n",
       "      <td>vicgustavoza</td>\n",
       "      <td>10</td>\n",
       "      <td>1.054465</td>\n",
       "    </tr>\n",
       "  </tbody>\n",
       "</table>\n",
       "</div>"
      ],
      "text/plain": [
       "           1.Perfil  2.Total retweets     3.PBB\n",
       "2        Beatriz20D                28  0.744348\n",
       "6       angelmgaray                17  0.791667\n",
       "7   CesarSanchez636                17  0.851941\n",
       "12  CESARSANCHEZ553                12  1.191947\n",
       "16     vicgustavoza                10  1.054465"
      ]
     },
     "execution_count": 277,
     "metadata": {},
     "output_type": "execute_result"
    }
   ],
   "source": [
    "rts_in_bots = rts_in_df[rts_in_df['3.PBB']>quantile_75]\n",
    "print('De los {0} perfiles a los que respondió, {1} son bots ({2}%)'.format(rts_in_df.shape[0], \n",
    "                                                                            rts_in_bots.shape[0],\n",
    "                                                                            round(100*rts_in_bots.shape[0]/rts_in_df.shape[0],0)))\n",
    "rts_in_bots.sort_values('2.Total retweets', inplace=True, ascending=False)\n",
    "rts_in_bots.head()"
   ]
  },
  {
   "cell_type": "markdown",
   "metadata": {},
   "source": [
    "##### Perfiles que más respondieron a sus publicaciones"
   ]
  },
  {
   "cell_type": "code",
   "execution_count": 278,
   "metadata": {},
   "outputs": [
    {
     "data": {
      "text/html": [
       "<div>\n",
       "<style scoped>\n",
       "    .dataframe tbody tr th:only-of-type {\n",
       "        vertical-align: middle;\n",
       "    }\n",
       "\n",
       "    .dataframe tbody tr th {\n",
       "        vertical-align: top;\n",
       "    }\n",
       "\n",
       "    .dataframe thead th {\n",
       "        text-align: right;\n",
       "    }\n",
       "</style>\n",
       "<table border=\"1\" class=\"dataframe\">\n",
       "  <thead>\n",
       "    <tr style=\"text-align: right;\">\n",
       "      <th></th>\n",
       "      <th>1.Perfil</th>\n",
       "      <th>2.Total respuestas</th>\n",
       "      <th>3.PBB</th>\n",
       "      <th>4.Movimiento</th>\n",
       "    </tr>\n",
       "  </thead>\n",
       "  <tbody>\n",
       "    <tr>\n",
       "      <th>0</th>\n",
       "      <td>AlamVera2</td>\n",
       "      <td>11</td>\n",
       "      <td>0.339423</td>\n",
       "      <td>honor colorado</td>\n",
       "    </tr>\n",
       "    <tr>\n",
       "      <th>1</th>\n",
       "      <td>DardoCastelluc1</td>\n",
       "      <td>10</td>\n",
       "      <td>0.551256</td>\n",
       "      <td>honor colorado</td>\n",
       "    </tr>\n",
       "    <tr>\n",
       "      <th>2</th>\n",
       "      <td>Carlito25Baz</td>\n",
       "      <td>7</td>\n",
       "      <td>1.562724</td>\n",
       "      <td>colorado añetete</td>\n",
       "    </tr>\n",
       "    <tr>\n",
       "      <th>3</th>\n",
       "      <td>andregp87</td>\n",
       "      <td>7</td>\n",
       "      <td>0.419268</td>\n",
       "      <td>honor colorado</td>\n",
       "    </tr>\n",
       "    <tr>\n",
       "      <th>4</th>\n",
       "      <td>JavierQ52935829</td>\n",
       "      <td>6</td>\n",
       "      <td>1.513418</td>\n",
       "      <td>honor colorado</td>\n",
       "    </tr>\n",
       "  </tbody>\n",
       "</table>\n",
       "</div>"
      ],
      "text/plain": [
       "          1.Perfil  2.Total respuestas     3.PBB      4.Movimiento\n",
       "0        AlamVera2                  11  0.339423    honor colorado\n",
       "1  DardoCastelluc1                  10  0.551256    honor colorado\n",
       "2     Carlito25Baz                   7  1.562724  colorado añetete\n",
       "3        andregp87                   7  0.419268    honor colorado\n",
       "4  JavierQ52935829                   6  1.513418    honor colorado"
      ]
     },
     "execution_count": 278,
     "metadata": {},
     "output_type": "execute_result"
    }
   ],
   "source": [
    "rps_in = []\n",
    "in_inter_dm = inter_dm['in_interactions']['replies']['details']\n",
    "sorted_in_interactions = sorted(in_inter_dm.items(), key=lambda kv: kv[1], reverse=True)\n",
    "for interaction in sorted_in_interactions:\n",
    "    contacto = {'1.Perfil': interaction[0], \n",
    "                '2.Total respuestas': interaction[1],\n",
    "                '3.PBB': float(all_users_df[all_users_df['screen_name']==interaction[0]]['pbb']),\n",
    "                '4.Movimiento': all_users_df[all_users_df['screen_name']==interaction[0]]['movement'].values[0]\n",
    "               }\n",
    "    rps_in.append(contacto)\n",
    "rps_in_df = pd.DataFrame(rps_in)\n",
    "rps_in_df.head()"
   ]
  },
  {
   "cell_type": "markdown",
   "metadata": {},
   "source": [
    "**¿Cuántos de esos perfiles son bots?**"
   ]
  },
  {
   "cell_type": "code",
   "execution_count": 279,
   "metadata": {},
   "outputs": [
    {
     "name": "stdout",
     "output_type": "stream",
     "text": [
      "De los 525 perfiles a los que respondió, 180 son bots (34.0%)\n"
     ]
    },
    {
     "name": "stderr",
     "output_type": "stream",
     "text": [
      "/Users/jorgesaldivar/Dropbox/Development/politic-bots/env/lib/python3.4/site-packages/ipykernel_launcher.py:5: SettingWithCopyWarning: \n",
      "A value is trying to be set on a copy of a slice from a DataFrame\n",
      "\n",
      "See the caveats in the documentation: http://pandas.pydata.org/pandas-docs/stable/indexing.html#indexing-view-versus-copy\n",
      "  \"\"\"\n"
     ]
    },
    {
     "data": {
      "text/html": [
       "<div>\n",
       "<style scoped>\n",
       "    .dataframe tbody tr th:only-of-type {\n",
       "        vertical-align: middle;\n",
       "    }\n",
       "\n",
       "    .dataframe tbody tr th {\n",
       "        vertical-align: top;\n",
       "    }\n",
       "\n",
       "    .dataframe thead th {\n",
       "        text-align: right;\n",
       "    }\n",
       "</style>\n",
       "<table border=\"1\" class=\"dataframe\">\n",
       "  <thead>\n",
       "    <tr style=\"text-align: right;\">\n",
       "      <th></th>\n",
       "      <th>1.Perfil</th>\n",
       "      <th>2.Total respuestas</th>\n",
       "      <th>3.PBB</th>\n",
       "      <th>4.Movimiento</th>\n",
       "    </tr>\n",
       "  </thead>\n",
       "  <tbody>\n",
       "    <tr>\n",
       "      <th>2</th>\n",
       "      <td>Carlito25Baz</td>\n",
       "      <td>7</td>\n",
       "      <td>1.562724</td>\n",
       "      <td>colorado añetete</td>\n",
       "    </tr>\n",
       "    <tr>\n",
       "      <th>6</th>\n",
       "      <td>edgaraguero72</td>\n",
       "      <td>6</td>\n",
       "      <td>1.581630</td>\n",
       "      <td>honor colorado</td>\n",
       "    </tr>\n",
       "    <tr>\n",
       "      <th>4</th>\n",
       "      <td>JavierQ52935829</td>\n",
       "      <td>6</td>\n",
       "      <td>1.513418</td>\n",
       "      <td>honor colorado</td>\n",
       "    </tr>\n",
       "    <tr>\n",
       "      <th>10</th>\n",
       "      <td>Jorgeamarila1</td>\n",
       "      <td>4</td>\n",
       "      <td>1.486532</td>\n",
       "      <td>honor colorado</td>\n",
       "    </tr>\n",
       "    <tr>\n",
       "      <th>12</th>\n",
       "      <td>antomartinez87</td>\n",
       "      <td>4</td>\n",
       "      <td>0.794701</td>\n",
       "      <td>honor colorado</td>\n",
       "    </tr>\n",
       "    <tr>\n",
       "      <th>14</th>\n",
       "      <td>cesarDQM</td>\n",
       "      <td>4</td>\n",
       "      <td>0.801699</td>\n",
       "      <td>honor colorado</td>\n",
       "    </tr>\n",
       "    <tr>\n",
       "      <th>31</th>\n",
       "      <td>RuthLore_3</td>\n",
       "      <td>3</td>\n",
       "      <td>0.893918</td>\n",
       "      <td>honor colorado</td>\n",
       "    </tr>\n",
       "    <tr>\n",
       "      <th>36</th>\n",
       "      <td>Irma59952042</td>\n",
       "      <td>3</td>\n",
       "      <td>3.773519</td>\n",
       "      <td>colorado añetete</td>\n",
       "    </tr>\n",
       "    <tr>\n",
       "      <th>34</th>\n",
       "      <td>Goani_29</td>\n",
       "      <td>3</td>\n",
       "      <td>1.388889</td>\n",
       "      <td></td>\n",
       "    </tr>\n",
       "    <tr>\n",
       "      <th>33</th>\n",
       "      <td>Michum777</td>\n",
       "      <td>3</td>\n",
       "      <td>1.155610</td>\n",
       "      <td>honor colorado</td>\n",
       "    </tr>\n",
       "    <tr>\n",
       "      <th>40</th>\n",
       "      <td>diris41</td>\n",
       "      <td>3</td>\n",
       "      <td>0.757994</td>\n",
       "      <td>honor colorado</td>\n",
       "    </tr>\n",
       "    <tr>\n",
       "      <th>30</th>\n",
       "      <td>Beatriz20D</td>\n",
       "      <td>3</td>\n",
       "      <td>0.744348</td>\n",
       "      <td>colorado añetete</td>\n",
       "    </tr>\n",
       "    <tr>\n",
       "      <th>28</th>\n",
       "      <td>vbgaikon</td>\n",
       "      <td>3</td>\n",
       "      <td>0.771509</td>\n",
       "      <td>honor colorado</td>\n",
       "    </tr>\n",
       "    <tr>\n",
       "      <th>26</th>\n",
       "      <td>Rolando35503217</td>\n",
       "      <td>3</td>\n",
       "      <td>9.815278</td>\n",
       "      <td>honor colorado</td>\n",
       "    </tr>\n",
       "    <tr>\n",
       "      <th>29</th>\n",
       "      <td>cachilito72</td>\n",
       "      <td>3</td>\n",
       "      <td>1.806921</td>\n",
       "      <td>honor colorado</td>\n",
       "    </tr>\n",
       "    <tr>\n",
       "      <th>98</th>\n",
       "      <td>kandia_roro</td>\n",
       "      <td>2</td>\n",
       "      <td>1.692857</td>\n",
       "      <td>honor colorado</td>\n",
       "    </tr>\n",
       "    <tr>\n",
       "      <th>82</th>\n",
       "      <td>maxirmar</td>\n",
       "      <td>2</td>\n",
       "      <td>6.766667</td>\n",
       "      <td>honor colorado</td>\n",
       "    </tr>\n",
       "    <tr>\n",
       "      <th>88</th>\n",
       "      <td>CarlosD82850998</td>\n",
       "      <td>2</td>\n",
       "      <td>1.701471</td>\n",
       "      <td>honor colorado</td>\n",
       "    </tr>\n",
       "    <tr>\n",
       "      <th>89</th>\n",
       "      <td>Armanbarret</td>\n",
       "      <td>2</td>\n",
       "      <td>2.900121</td>\n",
       "      <td>honor colorado</td>\n",
       "    </tr>\n",
       "    <tr>\n",
       "      <th>92</th>\n",
       "      <td>SeverianojosNe2</td>\n",
       "      <td>2</td>\n",
       "      <td>1.728549</td>\n",
       "      <td>honor colorado</td>\n",
       "    </tr>\n",
       "    <tr>\n",
       "      <th>97</th>\n",
       "      <td>IrmaAgu68244830</td>\n",
       "      <td>2</td>\n",
       "      <td>1.443681</td>\n",
       "      <td>honor colorado</td>\n",
       "    </tr>\n",
       "    <tr>\n",
       "      <th>107</th>\n",
       "      <td>marcialferrei11</td>\n",
       "      <td>2</td>\n",
       "      <td>0.784914</td>\n",
       "      <td>honor colorado</td>\n",
       "    </tr>\n",
       "    <tr>\n",
       "      <th>102</th>\n",
       "      <td>charlesapodaca2</td>\n",
       "      <td>2</td>\n",
       "      <td>1.375732</td>\n",
       "      <td>honor colorado</td>\n",
       "    </tr>\n",
       "    <tr>\n",
       "      <th>108</th>\n",
       "      <td>ElGalho</td>\n",
       "      <td>2</td>\n",
       "      <td>0.776139</td>\n",
       "      <td>honor colorado</td>\n",
       "    </tr>\n",
       "    <tr>\n",
       "      <th>113</th>\n",
       "      <td>mariscalgou</td>\n",
       "      <td>2</td>\n",
       "      <td>3.387334</td>\n",
       "      <td>honor colorado</td>\n",
       "    </tr>\n",
       "    <tr>\n",
       "      <th>115</th>\n",
       "      <td>molinas_diego</td>\n",
       "      <td>2</td>\n",
       "      <td>1.794681</td>\n",
       "      <td>honor colorado</td>\n",
       "    </tr>\n",
       "    <tr>\n",
       "      <th>79</th>\n",
       "      <td>VicGaleano</td>\n",
       "      <td>2</td>\n",
       "      <td>1.248605</td>\n",
       "      <td>honor colorado</td>\n",
       "    </tr>\n",
       "    <tr>\n",
       "      <th>80</th>\n",
       "      <td>jotac2c</td>\n",
       "      <td>2</td>\n",
       "      <td>3.415774</td>\n",
       "      <td>honor colorado</td>\n",
       "    </tr>\n",
       "    <tr>\n",
       "      <th>103</th>\n",
       "      <td>gabrielsama2013</td>\n",
       "      <td>2</td>\n",
       "      <td>1.630276</td>\n",
       "      <td>honor colorado</td>\n",
       "    </tr>\n",
       "    <tr>\n",
       "      <th>78</th>\n",
       "      <td>rodrigruizdiaz</td>\n",
       "      <td>2</td>\n",
       "      <td>2.376201</td>\n",
       "      <td>honor colorado</td>\n",
       "    </tr>\n",
       "    <tr>\n",
       "      <th>62</th>\n",
       "      <td>gulyces</td>\n",
       "      <td>2</td>\n",
       "      <td>0.806030</td>\n",
       "      <td>honor colorado</td>\n",
       "    </tr>\n",
       "    <tr>\n",
       "      <th>76</th>\n",
       "      <td>PolitologoPerez</td>\n",
       "      <td>2</td>\n",
       "      <td>4.318150</td>\n",
       "      <td>colorado añetete</td>\n",
       "    </tr>\n",
       "    <tr>\n",
       "      <th>50</th>\n",
       "      <td>AlbertRocker10</td>\n",
       "      <td>2</td>\n",
       "      <td>0.957792</td>\n",
       "      <td>colorado añetete</td>\n",
       "    </tr>\n",
       "    <tr>\n",
       "      <th>59</th>\n",
       "      <td>j44444853</td>\n",
       "      <td>2</td>\n",
       "      <td>0.854806</td>\n",
       "      <td>honor colorado</td>\n",
       "    </tr>\n",
       "    <tr>\n",
       "      <th>60</th>\n",
       "      <td>majorjuan91</td>\n",
       "      <td>2</td>\n",
       "      <td>2.696898</td>\n",
       "      <td>colorado añetete</td>\n",
       "    </tr>\n",
       "    <tr>\n",
       "      <th>46</th>\n",
       "      <td>MarianoCarbal11</td>\n",
       "      <td>2</td>\n",
       "      <td>1.773348</td>\n",
       "      <td>honor colorado</td>\n",
       "    </tr>\n",
       "    <tr>\n",
       "      <th>61</th>\n",
       "      <td>magno_bc</td>\n",
       "      <td>2</td>\n",
       "      <td>1.280429</td>\n",
       "      <td>colorado añetete</td>\n",
       "    </tr>\n",
       "    <tr>\n",
       "      <th>66</th>\n",
       "      <td>rbogarin64</td>\n",
       "      <td>2</td>\n",
       "      <td>0.754414</td>\n",
       "      <td>honor colorado</td>\n",
       "    </tr>\n",
       "    <tr>\n",
       "      <th>68</th>\n",
       "      <td>Nenatorrest</td>\n",
       "      <td>2</td>\n",
       "      <td>0.767603</td>\n",
       "      <td>honor colorado</td>\n",
       "    </tr>\n",
       "    <tr>\n",
       "      <th>69</th>\n",
       "      <td>espiinola_ale</td>\n",
       "      <td>2</td>\n",
       "      <td>0.913824</td>\n",
       "      <td>honor colorado</td>\n",
       "    </tr>\n",
       "    <tr>\n",
       "      <th>70</th>\n",
       "      <td>vallej_gladys</td>\n",
       "      <td>2</td>\n",
       "      <td>0.735205</td>\n",
       "      <td>honor colorado</td>\n",
       "    </tr>\n",
       "    <tr>\n",
       "      <th>71</th>\n",
       "      <td>si_olimpiabayer</td>\n",
       "      <td>2</td>\n",
       "      <td>1.434683</td>\n",
       "      <td>colorado añetete</td>\n",
       "    </tr>\n",
       "    <tr>\n",
       "      <th>385</th>\n",
       "      <td>mauri_pineda60</td>\n",
       "      <td>1</td>\n",
       "      <td>1.053748</td>\n",
       "      <td>honor colorado</td>\n",
       "    </tr>\n",
       "    <tr>\n",
       "      <th>368</th>\n",
       "      <td>lopezricardo27</td>\n",
       "      <td>1</td>\n",
       "      <td>1.615374</td>\n",
       "      <td>honor colorado</td>\n",
       "    </tr>\n",
       "    <tr>\n",
       "      <th>373</th>\n",
       "      <td>fgonzalezaranda</td>\n",
       "      <td>1</td>\n",
       "      <td>1.385726</td>\n",
       "      <td>honor colorado</td>\n",
       "    </tr>\n",
       "    <tr>\n",
       "      <th>376</th>\n",
       "      <td>dinosaurito_rex</td>\n",
       "      <td>1</td>\n",
       "      <td>0.815072</td>\n",
       "      <td>honor colorado</td>\n",
       "    </tr>\n",
       "    <tr>\n",
       "      <th>381</th>\n",
       "      <td>jose_salvadora</td>\n",
       "      <td>1</td>\n",
       "      <td>1.327169</td>\n",
       "      <td>honor colorado</td>\n",
       "    </tr>\n",
       "    <tr>\n",
       "      <th>382</th>\n",
       "      <td>AbelMaldo</td>\n",
       "      <td>1</td>\n",
       "      <td>0.738672</td>\n",
       "      <td>colorado añetete</td>\n",
       "    </tr>\n",
       "    <tr>\n",
       "      <th>397</th>\n",
       "      <td>BernardinoDice</td>\n",
       "      <td>1</td>\n",
       "      <td>5.046294</td>\n",
       "      <td>colorado añetete</td>\n",
       "    </tr>\n",
       "    <tr>\n",
       "      <th>388</th>\n",
       "      <td>eligua1978</td>\n",
       "      <td>1</td>\n",
       "      <td>1.374907</td>\n",
       "      <td>colorado añetete</td>\n",
       "    </tr>\n",
       "  </tbody>\n",
       "</table>\n",
       "</div>"
      ],
      "text/plain": [
       "            1.Perfil  2.Total respuestas     3.PBB      4.Movimiento\n",
       "2       Carlito25Baz                   7  1.562724  colorado añetete\n",
       "6      edgaraguero72                   6  1.581630    honor colorado\n",
       "4    JavierQ52935829                   6  1.513418    honor colorado\n",
       "10     Jorgeamarila1                   4  1.486532    honor colorado\n",
       "12    antomartinez87                   4  0.794701    honor colorado\n",
       "14          cesarDQM                   4  0.801699    honor colorado\n",
       "31        RuthLore_3                   3  0.893918    honor colorado\n",
       "36      Irma59952042                   3  3.773519  colorado añetete\n",
       "34          Goani_29                   3  1.388889                  \n",
       "33         Michum777                   3  1.155610    honor colorado\n",
       "40           diris41                   3  0.757994    honor colorado\n",
       "30        Beatriz20D                   3  0.744348  colorado añetete\n",
       "28          vbgaikon                   3  0.771509    honor colorado\n",
       "26   Rolando35503217                   3  9.815278    honor colorado\n",
       "29       cachilito72                   3  1.806921    honor colorado\n",
       "98       kandia_roro                   2  1.692857    honor colorado\n",
       "82          maxirmar                   2  6.766667    honor colorado\n",
       "88   CarlosD82850998                   2  1.701471    honor colorado\n",
       "89       Armanbarret                   2  2.900121    honor colorado\n",
       "92   SeverianojosNe2                   2  1.728549    honor colorado\n",
       "97   IrmaAgu68244830                   2  1.443681    honor colorado\n",
       "107  marcialferrei11                   2  0.784914    honor colorado\n",
       "102  charlesapodaca2                   2  1.375732    honor colorado\n",
       "108          ElGalho                   2  0.776139    honor colorado\n",
       "113      mariscalgou                   2  3.387334    honor colorado\n",
       "115    molinas_diego                   2  1.794681    honor colorado\n",
       "79        VicGaleano                   2  1.248605    honor colorado\n",
       "80           jotac2c                   2  3.415774    honor colorado\n",
       "103  gabrielsama2013                   2  1.630276    honor colorado\n",
       "78    rodrigruizdiaz                   2  2.376201    honor colorado\n",
       "62           gulyces                   2  0.806030    honor colorado\n",
       "76   PolitologoPerez                   2  4.318150  colorado añetete\n",
       "50    AlbertRocker10                   2  0.957792  colorado añetete\n",
       "59         j44444853                   2  0.854806    honor colorado\n",
       "60       majorjuan91                   2  2.696898  colorado añetete\n",
       "46   MarianoCarbal11                   2  1.773348    honor colorado\n",
       "61          magno_bc                   2  1.280429  colorado añetete\n",
       "66        rbogarin64                   2  0.754414    honor colorado\n",
       "68       Nenatorrest                   2  0.767603    honor colorado\n",
       "69     espiinola_ale                   2  0.913824    honor colorado\n",
       "70     vallej_gladys                   2  0.735205    honor colorado\n",
       "71   si_olimpiabayer                   2  1.434683  colorado añetete\n",
       "385   mauri_pineda60                   1  1.053748    honor colorado\n",
       "368   lopezricardo27                   1  1.615374    honor colorado\n",
       "373  fgonzalezaranda                   1  1.385726    honor colorado\n",
       "376  dinosaurito_rex                   1  0.815072    honor colorado\n",
       "381   jose_salvadora                   1  1.327169    honor colorado\n",
       "382        AbelMaldo                   1  0.738672  colorado añetete\n",
       "397   BernardinoDice                   1  5.046294  colorado añetete\n",
       "388       eligua1978                   1  1.374907  colorado añetete"
      ]
     },
     "execution_count": 279,
     "metadata": {},
     "output_type": "execute_result"
    }
   ],
   "source": [
    "rps_in_bots = rps_in_df[rps_in_df['3.PBB']>quantile_75]\n",
    "print('De los {0} perfiles a los que respondió, {1} son bots ({2}%)'.format(rps_in_df.shape[0], \n",
    "                                                                            rps_in_bots.shape[0],\n",
    "                                                                            round(100*rps_in_bots.shape[0]/rps_in_df.shape[0],0)))\n",
    "rps_in_bots.sort_values('2.Total respuestas', inplace=True, ascending=False)\n",
    "rps_in_bots.head(50)"
   ]
  },
  {
   "cell_type": "markdown",
   "metadata": {},
   "source": [
    "#### ¿Cuántos bots son HC?"
   ]
  },
  {
   "cell_type": "code",
   "execution_count": 280,
   "metadata": {},
   "outputs": [
    {
     "data": {
      "text/plain": [
       "134"
      ]
     },
     "execution_count": 280,
     "metadata": {},
     "output_type": "execute_result"
    }
   ],
   "source": [
    "rps_in_bots[rps_in_bots['4.Movimiento']=='honor colorado'].shape[0]"
   ]
  },
  {
   "cell_type": "code",
   "execution_count": 200,
   "metadata": {},
   "outputs": [],
   "source": [
    "replies_bots = db.search({'tweet_obj.retweeted_status': {'$exists': 0},\n",
    "                          'tweet_obj.in_reply_to_status_id_str': {'$ne': None},\n",
    "                          'tweet_obj.in_reply_to_screen_name': {'$eq': 'desimasi2'},\n",
    "                          'tweet_obj.is_quote_status': False,\n",
    "                          'tweet_obj.user.screen_name': {'$in': list(rps_in_bots['1.Perfil'])}})"
   ]
  },
  {
   "cell_type": "code",
   "execution_count": 201,
   "metadata": {},
   "outputs": [
    {
     "name": "stdout",
     "output_type": "stream",
     "text": [
      "Total replies: 247\n",
      "Positive replies: 62\n",
      "Neutral replies: 137\n",
      "Negative replies: 48\n"
     ]
    }
   ],
   "source": [
    "total_replies_bots = replies_bots.count()\n",
    "pos_replies, neu_replies, neg_replies = 0, 0, 0\n",
    "id_txt_replies = []\n",
    "for reply in replies_bots:\n",
    "    if reply['sentimiento']['tono'] == 'negative':\n",
    "        neg_replies += 1\n",
    "        if 'full_text' in reply['tweet_obj'].keys():\n",
    "            id_txt_replies.append({'text': reply['tweet_obj']['full_text'], \n",
    "                                   'id': reply['tweet_obj']['id_str'],\n",
    "                                   'author': reply['tweet_obj']['user']['screen_name']})\n",
    "        else:\n",
    "            id_txt_replies.append({'text': reply['tweet_obj']['text'], \n",
    "                                   'id': reply['tweet_obj']['id_str'],\n",
    "                                   'author': reply['tweet_obj']['user']['screen_name']})\n",
    "    if reply['sentimiento']['tono'] == 'neutral':\n",
    "        neu_replies += 1\n",
    "    if reply['sentimiento']['tono'] == 'positive':\n",
    "        pos_replies += 1\n",
    "print('Total replies: {0}'.format(total_replies_bots))\n",
    "print('Positive replies: {0}'.format(pos_replies))\n",
    "print('Neutral replies: {0}'.format(neu_replies))\n",
    "print('Negative replies: {0}'.format(neg_replies))"
   ]
  },
  {
   "cell_type": "code",
   "execution_count": 202,
   "metadata": {},
   "outputs": [
    {
     "data": {
      "text/plain": [
       "[{'author': 'A2Nahuel',\n",
       "  'id': '942512548334710784',\n",
       "  'text': \"@desimasi2 @Horacio_Cartes Ma'ena cuantas cuentas falsas van a perder anga su empleo \\U0001f641\"},\n",
       " {'author': 'ARIELTALAVERA82',\n",
       "  'id': '944755022507671553',\n",
       "  'text': '@desimasi2 @chiqui_avalos @Horacio_Cartes Falta lo de los helicopteros'},\n",
       " {'author': 'Beatriz20D',\n",
       "  'id': '947278341463298048',\n",
       "  'text': '@desimasi2 @EfrainAlegre @MRehnfeldt @pdpprogresista Ahora los del PLRA piensan que ellos nomas defendieron la CN hagamosle recordar que tanto tu movimiento como el de Marito desde el congreso también defendieron la CN.'},\n",
       " {'author': 'Crlosferreira3',\n",
       "  'id': '938383041268940800',\n",
       "  'text': '@desimasi2 @Horacio_Cartes Con lo de ayer no creo ,pero cara dura como el creo queseva&amp;&amp;&amp;&amp;&amp;&amp;'},\n",
       " {'author': 'Edgarba87050441',\n",
       "  'id': '951942316507435008',\n",
       "  'text': '@desimasi2 @Horacio_Cartes Vergüenza política y mondaha los que son los políticos'}]"
      ]
     },
     "execution_count": 202,
     "metadata": {},
     "output_type": "execute_result"
    }
   ],
   "source": [
    "id_txt_replies[:5]"
   ]
  },
  {
   "cell_type": "markdown",
   "metadata": {},
   "source": [
    "##### Perfiles que más mencionaron a desimasi2"
   ]
  },
  {
   "cell_type": "code",
   "execution_count": 281,
   "metadata": {},
   "outputs": [
    {
     "data": {
      "text/html": [
       "<div>\n",
       "<style scoped>\n",
       "    .dataframe tbody tr th:only-of-type {\n",
       "        vertical-align: middle;\n",
       "    }\n",
       "\n",
       "    .dataframe tbody tr th {\n",
       "        vertical-align: top;\n",
       "    }\n",
       "\n",
       "    .dataframe thead th {\n",
       "        text-align: right;\n",
       "    }\n",
       "</style>\n",
       "<table border=\"1\" class=\"dataframe\">\n",
       "  <thead>\n",
       "    <tr style=\"text-align: right;\">\n",
       "      <th></th>\n",
       "      <th>1.Perfil</th>\n",
       "      <th>2.Total menciones</th>\n",
       "      <th>3.PBB</th>\n",
       "    </tr>\n",
       "  </thead>\n",
       "  <tbody>\n",
       "    <tr>\n",
       "      <th>0</th>\n",
       "      <td>ANIBALCSPDS</td>\n",
       "      <td>3</td>\n",
       "      <td>0.663988</td>\n",
       "    </tr>\n",
       "    <tr>\n",
       "      <th>1</th>\n",
       "      <td>Maxnarvezmatto</td>\n",
       "      <td>2</td>\n",
       "      <td>0.331122</td>\n",
       "    </tr>\n",
       "    <tr>\n",
       "      <th>2</th>\n",
       "      <td>eottolenghi</td>\n",
       "      <td>2</td>\n",
       "      <td>0.313151</td>\n",
       "    </tr>\n",
       "    <tr>\n",
       "      <th>3</th>\n",
       "      <td>smongelos</td>\n",
       "      <td>2</td>\n",
       "      <td>0.440155</td>\n",
       "    </tr>\n",
       "    <tr>\n",
       "      <th>4</th>\n",
       "      <td>JoseRamirezZela</td>\n",
       "      <td>2</td>\n",
       "      <td>0.330245</td>\n",
       "    </tr>\n",
       "  </tbody>\n",
       "</table>\n",
       "</div>"
      ],
      "text/plain": [
       "          1.Perfil  2.Total menciones     3.PBB\n",
       "0      ANIBALCSPDS                  3  0.663988\n",
       "1   Maxnarvezmatto                  2  0.331122\n",
       "2      eottolenghi                  2  0.313151\n",
       "3        smongelos                  2  0.440155\n",
       "4  JoseRamirezZela                  2  0.330245"
      ]
     },
     "execution_count": 281,
     "metadata": {},
     "output_type": "execute_result"
    }
   ],
   "source": [
    "mts_in = []\n",
    "in_inter_dm = inter_dm['in_interactions']['mentions']['details']\n",
    "sorted_in_interactions = sorted(in_inter_dm.items(), key=lambda kv: kv[1], reverse=True)\n",
    "for interaction in sorted_in_interactions:\n",
    "    contacto = {'1.Perfil': interaction[0], \n",
    "                '2.Total menciones': interaction[1],\n",
    "                '3.PBB': float(all_users_df[all_users_df['screen_name']==interaction[0]]['pbb'])\n",
    "               }\n",
    "    mts_in.append(contacto)\n",
    "mts_in_df = pd.DataFrame(mts_in)\n",
    "mts_in_df.head()"
   ]
  },
  {
   "cell_type": "markdown",
   "metadata": {},
   "source": [
    "**¿Cuántos de esos perfiles son bots?**"
   ]
  },
  {
   "cell_type": "code",
   "execution_count": 282,
   "metadata": {},
   "outputs": [
    {
     "name": "stdout",
     "output_type": "stream",
     "text": [
      "De los 33 perfiles que la mencionaron, 5 son bots (15.0%)\n"
     ]
    },
    {
     "name": "stderr",
     "output_type": "stream",
     "text": [
      "/Users/jorgesaldivar/Dropbox/Development/politic-bots/env/lib/python3.4/site-packages/ipykernel_launcher.py:5: SettingWithCopyWarning: \n",
      "A value is trying to be set on a copy of a slice from a DataFrame\n",
      "\n",
      "See the caveats in the documentation: http://pandas.pydata.org/pandas-docs/stable/indexing.html#indexing-view-versus-copy\n",
      "  \"\"\"\n"
     ]
    },
    {
     "data": {
      "text/html": [
       "<div>\n",
       "<style scoped>\n",
       "    .dataframe tbody tr th:only-of-type {\n",
       "        vertical-align: middle;\n",
       "    }\n",
       "\n",
       "    .dataframe tbody tr th {\n",
       "        vertical-align: top;\n",
       "    }\n",
       "\n",
       "    .dataframe thead th {\n",
       "        text-align: right;\n",
       "    }\n",
       "</style>\n",
       "<table border=\"1\" class=\"dataframe\">\n",
       "  <thead>\n",
       "    <tr style=\"text-align: right;\">\n",
       "      <th></th>\n",
       "      <th>1.Perfil</th>\n",
       "      <th>2.Total menciones</th>\n",
       "      <th>3.PBB</th>\n",
       "    </tr>\n",
       "  </thead>\n",
       "  <tbody>\n",
       "    <tr>\n",
       "      <th>8</th>\n",
       "      <td>ItalianoAzzurro</td>\n",
       "      <td>1</td>\n",
       "      <td>2.497851</td>\n",
       "    </tr>\n",
       "    <tr>\n",
       "      <th>13</th>\n",
       "      <td>AllegToni</td>\n",
       "      <td>1</td>\n",
       "      <td>0.829161</td>\n",
       "    </tr>\n",
       "    <tr>\n",
       "      <th>19</th>\n",
       "      <td>nicolasmrussog</td>\n",
       "      <td>1</td>\n",
       "      <td>1.007754</td>\n",
       "    </tr>\n",
       "    <tr>\n",
       "      <th>25</th>\n",
       "      <td>odioAlPulpoPaul</td>\n",
       "      <td>1</td>\n",
       "      <td>1.317194</td>\n",
       "    </tr>\n",
       "    <tr>\n",
       "      <th>30</th>\n",
       "      <td>Alejand59868222</td>\n",
       "      <td>1</td>\n",
       "      <td>0.751273</td>\n",
       "    </tr>\n",
       "  </tbody>\n",
       "</table>\n",
       "</div>"
      ],
      "text/plain": [
       "           1.Perfil  2.Total menciones     3.PBB\n",
       "8   ItalianoAzzurro                  1  2.497851\n",
       "13        AllegToni                  1  0.829161\n",
       "19   nicolasmrussog                  1  1.007754\n",
       "25  odioAlPulpoPaul                  1  1.317194\n",
       "30  Alejand59868222                  1  0.751273"
      ]
     },
     "execution_count": 282,
     "metadata": {},
     "output_type": "execute_result"
    }
   ],
   "source": [
    "mts_in_bots = mts_in_df[mts_in_df['3.PBB']>quantile_75]\n",
    "print('De los {0} perfiles que la mencionaron, {1} son bots ({2}%)'.format(mts_in_df.shape[0], \n",
    "                                                                           mts_in_bots.shape[0],\n",
    "                                                                           round(100*mts_in_bots.shape[0]/mts_in_df.shape[0],0)))\n",
    "mts_in_bots.sort_values('2.Total menciones', inplace=True, ascending=False)\n",
    "mts_in_bots.head()"
   ]
  },
  {
   "cell_type": "markdown",
   "metadata": {},
   "source": [
    "##### Perfiles que más citaron sus publicaciones"
   ]
  },
  {
   "cell_type": "code",
   "execution_count": 283,
   "metadata": {},
   "outputs": [
    {
     "data": {
      "text/html": [
       "<div>\n",
       "<style scoped>\n",
       "    .dataframe tbody tr th:only-of-type {\n",
       "        vertical-align: middle;\n",
       "    }\n",
       "\n",
       "    .dataframe tbody tr th {\n",
       "        vertical-align: top;\n",
       "    }\n",
       "\n",
       "    .dataframe thead th {\n",
       "        text-align: right;\n",
       "    }\n",
       "</style>\n",
       "<table border=\"1\" class=\"dataframe\">\n",
       "  <thead>\n",
       "    <tr style=\"text-align: right;\">\n",
       "      <th></th>\n",
       "      <th>1.Perfil</th>\n",
       "      <th>2.Total citaciones</th>\n",
       "      <th>3.PBB</th>\n",
       "    </tr>\n",
       "  </thead>\n",
       "  <tbody>\n",
       "    <tr>\n",
       "      <th>0</th>\n",
       "      <td>rocioalejandraJ</td>\n",
       "      <td>1</td>\n",
       "      <td>0.347566</td>\n",
       "    </tr>\n",
       "    <tr>\n",
       "      <th>1</th>\n",
       "      <td>Cirilomelgarej1</td>\n",
       "      <td>1</td>\n",
       "      <td>1.013931</td>\n",
       "    </tr>\n",
       "    <tr>\n",
       "      <th>2</th>\n",
       "      <td>bittarsandra</td>\n",
       "      <td>1</td>\n",
       "      <td>0.938957</td>\n",
       "    </tr>\n",
       "    <tr>\n",
       "      <th>3</th>\n",
       "      <td>heriberto7502</td>\n",
       "      <td>1</td>\n",
       "      <td>0.398463</td>\n",
       "    </tr>\n",
       "    <tr>\n",
       "      <th>4</th>\n",
       "      <td>JaraCristo</td>\n",
       "      <td>1</td>\n",
       "      <td>0.303537</td>\n",
       "    </tr>\n",
       "    <tr>\n",
       "      <th>5</th>\n",
       "      <td>Nosoy1rroba</td>\n",
       "      <td>1</td>\n",
       "      <td>0.498804</td>\n",
       "    </tr>\n",
       "    <tr>\n",
       "      <th>6</th>\n",
       "      <td>casanaslevi</td>\n",
       "      <td>1</td>\n",
       "      <td>0.177180</td>\n",
       "    </tr>\n",
       "    <tr>\n",
       "      <th>7</th>\n",
       "      <td>cgonzalezmir</td>\n",
       "      <td>1</td>\n",
       "      <td>0.433462</td>\n",
       "    </tr>\n",
       "    <tr>\n",
       "      <th>8</th>\n",
       "      <td>totoclerch</td>\n",
       "      <td>1</td>\n",
       "      <td>0.318271</td>\n",
       "    </tr>\n",
       "    <tr>\n",
       "      <th>9</th>\n",
       "      <td>vbgaikon</td>\n",
       "      <td>1</td>\n",
       "      <td>0.771509</td>\n",
       "    </tr>\n",
       "    <tr>\n",
       "      <th>10</th>\n",
       "      <td>ernes_baez</td>\n",
       "      <td>1</td>\n",
       "      <td>0.415670</td>\n",
       "    </tr>\n",
       "    <tr>\n",
       "      <th>11</th>\n",
       "      <td>arturodoldan</td>\n",
       "      <td>1</td>\n",
       "      <td>0.193404</td>\n",
       "    </tr>\n",
       "  </tbody>\n",
       "</table>\n",
       "</div>"
      ],
      "text/plain": [
       "           1.Perfil  2.Total citaciones     3.PBB\n",
       "0   rocioalejandraJ                   1  0.347566\n",
       "1   Cirilomelgarej1                   1  1.013931\n",
       "2      bittarsandra                   1  0.938957\n",
       "3     heriberto7502                   1  0.398463\n",
       "4        JaraCristo                   1  0.303537\n",
       "5       Nosoy1rroba                   1  0.498804\n",
       "6       casanaslevi                   1  0.177180\n",
       "7      cgonzalezmir                   1  0.433462\n",
       "8        totoclerch                   1  0.318271\n",
       "9          vbgaikon                   1  0.771509\n",
       "10       ernes_baez                   1  0.415670\n",
       "11     arturodoldan                   1  0.193404"
      ]
     },
     "execution_count": 283,
     "metadata": {},
     "output_type": "execute_result"
    }
   ],
   "source": [
    "qts_in = []\n",
    "in_inter_dm = inter_dm['in_interactions']['quotes']['details']\n",
    "sorted_in_interactions = sorted(in_inter_dm.items(), key=lambda kv: kv[1], reverse=True)\n",
    "for interaction in sorted_in_interactions:\n",
    "    contacto = {'1.Perfil': interaction[0], \n",
    "                '2.Total citaciones': interaction[1],\n",
    "                '3.PBB': float(all_users_df[all_users_df['screen_name']==interaction[0]]['pbb'])\n",
    "               }\n",
    "    qts_in.append(contacto)\n",
    "qts_in_df = pd.DataFrame(qts_in)\n",
    "qts_in_df.head(20)"
   ]
  },
  {
   "cell_type": "markdown",
   "metadata": {},
   "source": [
    "**¿Cuántos de esos perfiles son bots?**"
   ]
  },
  {
   "cell_type": "code",
   "execution_count": 284,
   "metadata": {},
   "outputs": [
    {
     "name": "stdout",
     "output_type": "stream",
     "text": [
      "De los 12 perfiles que la citaron, 3 son bots (25.0%)\n"
     ]
    },
    {
     "name": "stderr",
     "output_type": "stream",
     "text": [
      "/Users/jorgesaldivar/Dropbox/Development/politic-bots/env/lib/python3.4/site-packages/ipykernel_launcher.py:5: SettingWithCopyWarning: \n",
      "A value is trying to be set on a copy of a slice from a DataFrame\n",
      "\n",
      "See the caveats in the documentation: http://pandas.pydata.org/pandas-docs/stable/indexing.html#indexing-view-versus-copy\n",
      "  \"\"\"\n"
     ]
    },
    {
     "data": {
      "text/html": [
       "<div>\n",
       "<style scoped>\n",
       "    .dataframe tbody tr th:only-of-type {\n",
       "        vertical-align: middle;\n",
       "    }\n",
       "\n",
       "    .dataframe tbody tr th {\n",
       "        vertical-align: top;\n",
       "    }\n",
       "\n",
       "    .dataframe thead th {\n",
       "        text-align: right;\n",
       "    }\n",
       "</style>\n",
       "<table border=\"1\" class=\"dataframe\">\n",
       "  <thead>\n",
       "    <tr style=\"text-align: right;\">\n",
       "      <th></th>\n",
       "      <th>1.Perfil</th>\n",
       "      <th>2.Total citaciones</th>\n",
       "      <th>3.PBB</th>\n",
       "    </tr>\n",
       "  </thead>\n",
       "  <tbody>\n",
       "    <tr>\n",
       "      <th>1</th>\n",
       "      <td>Cirilomelgarej1</td>\n",
       "      <td>1</td>\n",
       "      <td>1.013931</td>\n",
       "    </tr>\n",
       "    <tr>\n",
       "      <th>2</th>\n",
       "      <td>bittarsandra</td>\n",
       "      <td>1</td>\n",
       "      <td>0.938957</td>\n",
       "    </tr>\n",
       "    <tr>\n",
       "      <th>9</th>\n",
       "      <td>vbgaikon</td>\n",
       "      <td>1</td>\n",
       "      <td>0.771509</td>\n",
       "    </tr>\n",
       "  </tbody>\n",
       "</table>\n",
       "</div>"
      ],
      "text/plain": [
       "          1.Perfil  2.Total citaciones     3.PBB\n",
       "1  Cirilomelgarej1                   1  1.013931\n",
       "2     bittarsandra                   1  0.938957\n",
       "9         vbgaikon                   1  0.771509"
      ]
     },
     "execution_count": 284,
     "metadata": {},
     "output_type": "execute_result"
    }
   ],
   "source": [
    "qts_in_bots = qts_in_df[qts_in_df['3.PBB']>quantile_75]\n",
    "print('De los {0} perfiles que la citaron, {1} son bots ({2}%)'.format(qts_in_df.shape[0], \n",
    "                                                                       qts_in_bots.shape[0],\n",
    "                                                                       round(100*qts_in_bots.shape[0]/qts_in_df.shape[0],0)))\n",
    "qts_in_bots.sort_values('2.Total citaciones', inplace=True, ascending=False)\n",
    "qts_in_bots.head()"
   ]
  },
  {
   "cell_type": "markdown",
   "metadata": {},
   "source": [
    "#### En total, ¿cuántos perfiles del tipo interactuaron con Desireè Masi?"
   ]
  },
  {
   "cell_type": "code",
   "execution_count": 317,
   "metadata": {},
   "outputs": [
    {
     "name": "stdout",
     "output_type": "stream",
     "text": [
      "Del total 1251 perfiles que interacturaron con desimasi2, 326 son del tipo bot\n"
     ]
    }
   ],
   "source": [
    "# Get list of bots\n",
    "all_bots_dm = []\n",
    "all_bots_dm.extend(list(rts_in_bots['1.Perfil']))\n",
    "all_bots_dm.extend(list(rps_in_bots['1.Perfil']))\n",
    "all_bots_dm.extend(list(mts_in_bots['1.Perfil']))\n",
    "all_bots_dm.extend(list(qts_in_bots['1.Perfil']))\n",
    "# Get list of all profiles\n",
    "all_prof_dm = []\n",
    "all_prof_dm.extend(list(rts_in_df['1.Perfil']))\n",
    "all_prof_dm.extend(list(rps_in_df['1.Perfil']))\n",
    "all_prof_dm.extend(list(mts_in_df['1.Perfil']))\n",
    "all_prof_dm.extend(list(qts_in_df['1.Perfil']))\n",
    "print('Del total {0} perfiles que interacturaron con desimasi2, {1} son del tipo bot'.format(\n",
    "      len(set(all_prof_dm)),\n",
    "      len(set(all_bots_dm))))"
   ]
  },
  {
   "cell_type": "markdown",
   "metadata": {},
   "source": [
    "Al igual que los perfiles anteriores se destaca la gran cantidad de retweets de sus publicaciones. Casi el 70% de las interacciones que recibió `desimasi2` corresponde a acciones orientadas a difundir sus tweets."
   ]
  },
  {
   "cell_type": "markdown",
   "metadata": {},
   "source": [
    "#### Cuantos bots comparte Desiré Masi con Luis Bareiro y Santiago González?"
   ]
  },
  {
   "cell_type": "code",
   "execution_count": 321,
   "metadata": {},
   "outputs": [
    {
     "data": {
      "text/plain": [
       "326"
      ]
     },
     "execution_count": 321,
     "metadata": {},
     "output_type": "execute_result"
    }
   ],
   "source": [
    "unique_bots_dm = set(all_bots_dm)\n",
    "len(unique_bots_dm)"
   ]
  },
  {
   "cell_type": "code",
   "execution_count": 322,
   "metadata": {},
   "outputs": [
    {
     "data": {
      "text/plain": [
       "397"
      ]
     },
     "execution_count": 322,
     "metadata": {},
     "output_type": "execute_result"
    }
   ],
   "source": [
    "unique_bots_lb = set(all_bots_lb)\n",
    "len(unique_bots_lb)"
   ]
  },
  {
   "cell_type": "code",
   "execution_count": 323,
   "metadata": {},
   "outputs": [
    {
     "data": {
      "text/plain": [
       "855"
      ]
     },
     "execution_count": 323,
     "metadata": {},
     "output_type": "execute_result"
    }
   ],
   "source": [
    "unique_bots_st = set(all_bots_st)\n",
    "len(unique_bots_st)"
   ]
  },
  {
   "cell_type": "markdown",
   "metadata": {},
   "source": [
    "Comunes Santula y Luis Bareiro"
   ]
  },
  {
   "cell_type": "code",
   "execution_count": 335,
   "metadata": {},
   "outputs": [
    {
     "data": {
      "text/plain": [
       "122"
      ]
     },
     "execution_count": 335,
     "metadata": {},
     "output_type": "execute_result"
    }
   ],
   "source": [
    "len(set.intersection(unique_bots_lb, unique_bots_st))"
   ]
  },
  {
   "cell_type": "code",
   "execution_count": 336,
   "metadata": {},
   "outputs": [
    {
     "data": {
      "text/plain": [
       "1008"
      ]
     },
     "execution_count": 336,
     "metadata": {},
     "output_type": "execute_result"
    }
   ],
   "source": [
    "len(unique_bots_lb^unique_bots_st)"
   ]
  },
  {
   "cell_type": "markdown",
   "metadata": {},
   "source": [
    "Comunes Santula y Desirée"
   ]
  },
  {
   "cell_type": "code",
   "execution_count": 337,
   "metadata": {},
   "outputs": [
    {
     "data": {
      "text/plain": [
       "111"
      ]
     },
     "execution_count": 337,
     "metadata": {},
     "output_type": "execute_result"
    }
   ],
   "source": [
    "len(set.intersection(unique_bots_dm, unique_bots_st))"
   ]
  },
  {
   "cell_type": "code",
   "execution_count": 338,
   "metadata": {},
   "outputs": [
    {
     "data": {
      "text/plain": [
       "959"
      ]
     },
     "execution_count": 338,
     "metadata": {},
     "output_type": "execute_result"
    }
   ],
   "source": [
    "len(unique_bots_dm^unique_bots_st)"
   ]
  },
  {
   "cell_type": "markdown",
   "metadata": {},
   "source": [
    "Comunies Luis Bareiro y Desirée"
   ]
  },
  {
   "cell_type": "code",
   "execution_count": 339,
   "metadata": {},
   "outputs": [
    {
     "data": {
      "text/plain": [
       "37"
      ]
     },
     "execution_count": 339,
     "metadata": {},
     "output_type": "execute_result"
    }
   ],
   "source": [
    "len(set.intersection(unique_bots_dm, unique_bots_lb))"
   ]
  },
  {
   "cell_type": "code",
   "execution_count": 340,
   "metadata": {},
   "outputs": [
    {
     "data": {
      "text/plain": [
       "649"
      ]
     },
     "execution_count": 340,
     "metadata": {},
     "output_type": "execute_result"
    }
   ],
   "source": [
    "len(unique_bots_dm^unique_bots_lb)"
   ]
  },
  {
   "cell_type": "markdown",
   "metadata": {},
   "source": [
    "Comunes Luis Bareiro, Desirée, Santula"
   ]
  },
  {
   "cell_type": "code",
   "execution_count": 341,
   "metadata": {},
   "outputs": [
    {
     "data": {
      "text/plain": [
       "23"
      ]
     },
     "execution_count": 341,
     "metadata": {},
     "output_type": "execute_result"
    }
   ],
   "source": [
    "len(set.intersection(unique_bots_dm, unique_bots_lb, unique_bots_st))"
   ]
  },
  {
   "cell_type": "code",
   "execution_count": 342,
   "metadata": {},
   "outputs": [
    {
     "data": {
      "text/plain": [
       "1130"
      ]
     },
     "execution_count": 342,
     "metadata": {},
     "output_type": "execute_result"
    }
   ],
   "source": [
    "bots_all_3 = unique_bots_dm ^ unique_bots_lb\n",
    "bots_all_3 = bots_all_3 ^ unique_bots_st\n",
    "len(bots_all_3)"
   ]
  }
 ],
 "metadata": {
  "kernelspec": {
   "display_name": "Python 3",
   "language": "python",
   "name": "python3"
  },
  "language_info": {
   "codemirror_mode": {
    "name": "ipython",
    "version": 3
   },
   "file_extension": ".py",
   "mimetype": "text/x-python",
   "name": "python",
   "nbconvert_exporter": "python",
   "pygments_lexer": "ipython3",
   "version": "3.4.4"
  }
 },
 "nbformat": 4,
 "nbformat_minor": 2
}
