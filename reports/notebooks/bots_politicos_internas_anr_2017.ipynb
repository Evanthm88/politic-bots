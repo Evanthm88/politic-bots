{
 "cells": [
  {
   "cell_type": "markdown",
   "metadata": {},
   "source": [
    "# Uso de Twitter en periódos electorales - Internas de la ANR, Diciembre 2017"
   ]
  },
  {
   "cell_type": "markdown",
   "metadata": {},
   "source": [
    "## Recolección de tweets basada en cuentas (@) y Hashtags (#)"
   ]
  },
  {
   "cell_type": "markdown",
   "metadata": {},
   "source": [
    "Usando el API de Twitter recoletamos **tweets publicados entre el 27 de Noviembre 2017 y el 15 de Enero de 2018**, que provengan de cuentas de pre-candidatos de los principales partidos políticos (ANR), y/o contengan hashtags utilizados con fines electorales. Como base utilizamos las cuentas y hashtags publicados por el Diario Última Hora en su artículo [Perfiles de pre-candidatos según las redes](http://elecciones.ultimahora.com/informacion/?id=20). Por ejemplo, Última Hora reporta que el hashtag **#JuntosPodemosMas** es utilizado para identificar tweets vínculados al candidatos Santiago Peña de Honor Colorado. Así mismo, **#MaritoDeLaGente** se utilzan en tweets publicados en favor del candidato del movimiento Colorado Añeteté.\n",
    "\n",
    "[Aquí](https://docs.google.com/spreadsheets/d/e/2PACX-1vQHoukfR9AFhSaz30QHYwKqpwexe1ASrW8ya25Fueh3jXcRPMSjrAyj4SbzryTLiuKkPdi6fsprqtM2/pubhtml) se puede acceder a lista completa de hashtags y cuentas."
   ]
  },
  {
   "cell_type": "markdown",
   "metadata": {},
   "source": [
    "## Tamaño del data set"
   ]
  },
  {
   "cell_type": "code",
   "execution_count": 1,
   "metadata": {},
   "outputs": [],
   "source": [
    "%matplotlib inline\n",
    "\n",
    "import os\n",
    "import csv\n",
    "import json\n",
    "import matplotlib.pyplot as plt\n",
    "import seaborn as sns\n",
    "import numpy as np\n",
    "import pandas as pd\n",
    "from datetime import datetime\n",
    "\n",
    "os.chdir('../..')\n",
    "\n",
    "from src.utils.db_manager import *\n",
    "from src.utils.data_wrangler import *\n",
    "from src.analyzer.data_analyzer import *\n",
    "from src.analyzer.network_analysis import NetworkAnalyzer\n",
    "\n",
    "plt.style.use('seaborn')"
   ]
  },
  {
   "cell_type": "code",
   "execution_count": 2,
   "metadata": {},
   "outputs": [
    {
     "name": "stdout",
     "output_type": "stream",
     "text": [
      "Se recolectaron 178860 tweets relacionados a la interna de la ANR\n"
     ]
    }
   ],
   "source": [
    "db = DBManager('tweets')\n",
    "total_tweets = db.search({'flag.partido_politico.anr': {'$gt': 0}}, only_relevant_tws=False).count()\n",
    "print('Se recolectaron {0} tweets relacionados a la interna de la ANR'.format(total_tweets))"
   ]
  },
  {
   "cell_type": "markdown",
   "metadata": {},
   "source": [
    "## Selección de tweets relevantes"
   ]
  },
  {
   "cell_type": "markdown",
   "metadata": {},
   "source": [
    "Encontramos que los hashtags usados por los candidatos en sus campañas era también utilizados en otros contextos (en otros paises) por lo tanto para el estudio consideramos solo aquellos tweets que además de los hashtags de interés contienen alguna mención a cuentas de los candidatos."
   ]
  },
  {
   "cell_type": "code",
   "execution_count": 3,
   "metadata": {},
   "outputs": [
    {
     "name": "stdout",
     "output_type": "stream",
     "text": [
      "Del total de 178860 tweets con hashtags relacionados a la campaña de la ANR, seleccionamos 145021 que encontramos relevantes para el trabajo (81.0% del total)\n"
     ]
    }
   ],
   "source": [
    "#te = TweetEvaluator()\n",
    "#te.identify_relevant_tweets()\n",
    "relevant_tweets = db.search({'flag.partido_politico.anr': {'$gt': 0}}).count()\n",
    "per_relevant = round(100*(relevant_tweets/total_tweets),0)\n",
    "print('Del total de {0} tweets con hashtags relacionados a la campaña de la ANR, seleccionamos {1} que encontramos ' \\\n",
    "      'relevantes para el trabajo ({2}% del total)'.\n",
    "      format(total_tweets, relevant_tweets, per_relevant))"
   ]
  },
  {
   "cell_type": "markdown",
   "metadata": {},
   "source": [
    "## Número de perfiles autores de tweets"
   ]
  },
  {
   "cell_type": "code",
   "execution_count": 64,
   "metadata": {},
   "outputs": [],
   "source": [
    "dbu = DBManager('users')\n",
    "#unique_tw_authors = db.get_unique_users(**{'partido':'anr'})\n",
    "unique_tw_authors = dbu.search({'party': 'anr'})"
   ]
  },
  {
   "cell_type": "code",
   "execution_count": 65,
   "metadata": {},
   "outputs": [
    {
     "name": "stdout",
     "output_type": "stream",
     "text": [
      "En total 23245 perfiles publicaron tweets, retweets, replies, y citaciones relacionadas a las internas del partido colorado\n"
     ]
    }
   ],
   "source": [
    "print('En total {0} perfiles publicaron tweets, retweets, replies, y citaciones relacionadas a las internas del partido colorado'.format(unique_tw_authors.count()))"
   ]
  },
  {
   "cell_type": "markdown",
   "metadata": {},
   "source": [
    "## Tipos de tweets"
   ]
  },
  {
   "cell_type": "code",
   "execution_count": 9,
   "metadata": {},
   "outputs": [],
   "source": [
    "original_tweets = db.get_original_tweets(**{'partido': 'anr'})\n",
    "num_original_tweets = len(original_tweets)\n",
    "retweets = db.get_retweets(**{'partido': 'anr'})\n",
    "num_retweets = len(retweets)\n",
    "replies = db.get_replies(**{'partido': 'anr'})\n",
    "num_replies = len(replies)\n",
    "quotes = db.get_quotes(**{'partido': 'anr'})\n",
    "num_quotes = len(quotes)\n",
    "tweets_por_tipo = pd.DataFrame({\n",
    "    'Tipo': ['Original', 'Retweet', 'Reply', 'Quote'],\n",
    "    'Tweets': [num_original_tweets, num_retweets, num_replies, num_quotes]\n",
    "}, index=['ot', 'rt', 'rp', 'qt'])"
   ]
  },
  {
   "cell_type": "code",
   "execution_count": 4,
   "metadata": {},
   "outputs": [
    {
     "data": {
      "image/png": "[encoded data removed]",
      "text/plain": [
       "<matplotlib.figure.Figure at 0x10dafeba8>"
      ]
     },
     "metadata": {
      "needs_background": "light"
     },
     "output_type": "display_data"
    }
   ],
   "source": [
    "fig = sns.barplot(x='Tipo', y='Tweets', data=tweets_por_tipo, order=['Retweet', 'Reply', 'Original', 'Quote'])\n",
    "ax=fig\n",
    "#annotate axis = seaborn axis\n",
    "for p in ax.patches:\n",
    "    ax.annotate(\"%d\" % p.get_height(), (p.get_x() + p.get_width() / 2., p.get_height()),\n",
    "                 ha='center', va='center', fontsize=12, color='black', xytext=(0, 10),\n",
    "                 textcoords='offset points')\n",
    "_ = fig.set_ylim(0,105000) #To make space for the annotations\n",
    "plt.show()"
   ]
  },
  {
   "cell_type": "markdown",
   "metadata": {},
   "source": [
    "### Honor Colorado"
   ]
  },
  {
   "cell_type": "code",
   "execution_count": 28,
   "metadata": {},
   "outputs": [],
   "source": [
    "original_tweets_hc = db.get_original_tweets(**{'partido': 'anr', 'movimiento': 'honor colorado'})\n",
    "num_original_tweets = len(original_tweets_hc)\n",
    "retweets_hc = db.get_retweets(**{'partido': 'anr', 'movimiento': 'honor colorado'})\n",
    "num_retweets = len(retweets_hc)\n",
    "replies_hc = db.get_replies(**{'partido': 'anr', 'movimiento': 'honor colorado'})\n",
    "num_replies = len(replies_hc)\n",
    "quotes_hc = db.get_quotes(**{'partido': 'anr', 'movimiento': 'honor colorado'})\n",
    "num_quotes = len(quotes_hc)\n",
    "tweets_por_tipo_hc = pd.DataFrame({\n",
    "    'Tipo': ['Original', 'Retweet', 'Reply', 'Quote'],\n",
    "    'Tweets': [num_original_tweets, num_retweets, num_replies, num_quotes]\n",
    "}, index=['ot', 'rt', 'rp', 'qt'])"
   ]
  },
  {
   "cell_type": "code",
   "execution_count": 13,
   "metadata": {},
   "outputs": [
    {
     "data": {
      "image/png": "[encoded data removed]",
      "text/plain": [
       "<matplotlib.figure.Figure at 0x34b64dda0>"
      ]
     },
     "metadata": {
      "needs_background": "light"
     },
     "output_type": "display_data"
    }
   ],
   "source": [
    "fig = sns.barplot(x='Tipo', y='Tweets', data=tweets_por_tipo_hc, order=['Retweet', 'Reply', 'Original', 'Quote'],\n",
    "                 palette=\"Reds_d\")\n",
    "ax=fig\n",
    "#annotate axis = seaborn axis\n",
    "for p in ax.patches:\n",
    "    ax.annotate(\"%d\" % p.get_height(), (p.get_x() + p.get_width() / 2., p.get_height()),\n",
    "                 ha='center', va='center', fontsize=12, color='black', xytext=(0, 10),\n",
    "                 textcoords='offset points')\n",
    "_ = fig.set_ylim(0,68000) #To make space for the annotations\n",
    "plt.show()"
   ]
  },
  {
   "cell_type": "markdown",
   "metadata": {},
   "source": [
    "### Colorado Añeteté"
   ]
  },
  {
   "cell_type": "code",
   "execution_count": 40,
   "metadata": {},
   "outputs": [],
   "source": [
    "original_tweets_ca= db.get_original_tweets(**{'partido': 'anr', 'movimiento': 'colorado añetete'})\n",
    "num_original_tweets = len(original_tweets_ca)\n",
    "retweets_ca = db.get_retweets(**{'partido': 'anr', 'movimiento': 'colorado añetete'})\n",
    "num_retweets = len(retweets_ca)\n",
    "replies_ca = db.get_replies(**{'partido': 'anr', 'movimiento': 'colorado añetete'})\n",
    "num_replies = len(replies_ca)\n",
    "quotes_ca = db.get_quotes(**{'partido': 'anr', 'movimiento': 'colorado añetete'})\n",
    "num_quotes = len(quotes_ca)\n",
    "tweets_por_tipo_ca = pd.DataFrame({\n",
    "    'Tipo': ['Original', 'Retweet', 'Reply', 'Quote'],\n",
    "    'Tweets': [num_original_tweets, num_retweets, num_replies, num_quotes]\n",
    "}, index=['ot', 'rt', 'rp', 'qt'])"
   ]
  },
  {
   "cell_type": "code",
   "execution_count": 17,
   "metadata": {},
   "outputs": [
    {
     "data": {
      "image/png": "[encoded data removed]",
      "text/plain": [
       "<matplotlib.figure.Figure at 0x3e2dba518>"
      ]
     },
     "metadata": {
      "needs_background": "light"
     },
     "output_type": "display_data"
    }
   ],
   "source": [
    "fig = sns.barplot(x='Tipo', y='Tweets', data=tweets_por_tipo_ca, order=['Retweet', 'Reply', 'Original', 'Quote'],\n",
    "                 palette=\"Reds_d\")\n",
    "ax=fig\n",
    "#annotate axis = seaborn axis\n",
    "for p in ax.patches:\n",
    "    ax.annotate(\"%d\" % p.get_height(), (p.get_x() + p.get_width() / 2., p.get_height()),\n",
    "                 ha='center', va='center', fontsize=12, color='black', xytext=(0, 10),\n",
    "                 textcoords='offset points')\n",
    "_ = fig.set_ylim(0,41000) #To make space for the annotations\n",
    "plt.show()"
   ]
  },
  {
   "cell_type": "markdown",
   "metadata": {},
   "source": [
    "Los conjuntos de tweets de **`Honor Colorado`** y **`Colorado Añeteté`** no son mutuamente excluyentes ya que existen tweets que contienen menciones a los candidatos de ambos movimientos o que tienen hashtags relacionados a los dos movimientos. Por ejemplo el siguiente tweet"
   ]
  },
  {
   "cell_type": "code",
   "execution_count": 26,
   "metadata": {},
   "outputs": [],
   "source": [
    "class Tweet(object):\n",
    "    def __init__(self, embed_str=None):\n",
    "        self.embed_str = embed_str\n",
    "\n",
    "    def _repr_html_(self):\n",
    "        return self.embed_str"
   ]
  },
  {
   "cell_type": "code",
   "execution_count": 36,
   "metadata": {},
   "outputs": [
    {
     "data": {
      "text/html": [
       "\n",
       "<blockquote class=\"twitter-tweet\" data-lang=\"en\"><p lang=\"es\" dir=\"ltr\">.<a href=\"https://twitter.com/SantiPenap?ref_src=twsrc%5Etfw\">@SantiPenap</a>: &quot;Me parece indignante que <a href=\"https://twitter.com/MaritoAbdo?ref_src=twsrc%5Etfw\">@MaritoAbdo</a> siga recibiendo un salario del Estado y haciendo campaña. Si está seguro que va a ganar, le desafío a que mañana renuncie a su banca en <a href=\"https://twitter.com/SenadoresPy?ref_src=twsrc%5Etfw\">@SenadoresPy</a>&quot; <a href=\"https://twitter.com/hashtag/COCPY?src=hash&amp;ref_src=twsrc%5Etfw\">#COCPY</a></p>&mdash; Jorge Torres Romero (@jtorresromero) <a href=\"https://twitter.com/jtorresromero/status/937488208492941312?ref_src=twsrc%5Etfw\">December 4, 2017</a></blockquote>\n",
       "<script async src=\"https://platform.twitter.com/widgets.js\" charset=\"utf-8\"></script>\n"
      ],
      "text/plain": [
       "<__main__.Tweet at 0x3e2dfb080>"
      ]
     },
     "execution_count": 36,
     "metadata": {},
     "output_type": "execute_result"
    }
   ],
   "source": [
    "s = (\"\"\"\n",
    "<blockquote class=\"twitter-tweet\" data-lang=\"en\"><p lang=\"es\" dir=\"ltr\">.<a href=\"https://twitter.com/SantiPenap?ref_src=twsrc%5Etfw\">@SantiPenap</a>: &quot;Me parece indignante que <a href=\"https://twitter.com/MaritoAbdo?ref_src=twsrc%5Etfw\">@MaritoAbdo</a> siga recibiendo un salario del Estado y haciendo campaña. Si está seguro que va a ganar, le desafío a que mañana renuncie a su banca en <a href=\"https://twitter.com/SenadoresPy?ref_src=twsrc%5Etfw\">@SenadoresPy</a>&quot; <a href=\"https://twitter.com/hashtag/COCPY?src=hash&amp;ref_src=twsrc%5Etfw\">#COCPY</a></p>&mdash; Jorge Torres Romero (@jtorresromero) <a href=\"https://twitter.com/jtorresromero/status/937488208492941312?ref_src=twsrc%5Etfw\">December 4, 2017</a></blockquote>\n",
    "<script async src=\"https://platform.twitter.com/widgets.js\" charset=\"utf-8\"></script>\n",
    "\"\"\")\n",
    "Tweet(s)"
   ]
  },
  {
   "cell_type": "markdown",
   "metadata": {},
   "source": [
    "## Evolución de tweets en el tiempo"
   ]
  },
  {
   "cell_type": "code",
   "execution_count": 95,
   "metadata": {},
   "outputs": [
    {
     "data": {
      "image/png": "[encoded data removed]",
      "text/plain": [
       "<matplotlib.figure.Figure at 0x112deb390>"
      ]
     },
     "metadata": {
      "needs_background": "light"
     },
     "output_type": "display_data"
    }
   ],
   "source": [
    "# set figure size\n",
    "plt.figure(figsize=(14,8))\n",
    "# get tweets by date\n",
    "tw_by_date_hc = db.get_tweets_by_date(**{'partido':'anr', 'movimiento': 'honor colorado'})\n",
    "tw_by_date_ca = db.get_tweets_by_date(**{'partido':'anr', 'movimiento': 'colorado añetete'})\n",
    "# convert list to pandas' dataframe\n",
    "tweets_por_fecha = pd.DataFrame(tw_by_date_hc)\n",
    "tweets_por_fecha = tweets_por_fecha.append(pd.DataFrame(tw_by_date_ca))\n",
    "# draw and show the figure\n",
    "fig = sns.pointplot(x='_id', y='count', data=tweets_por_fecha, hue=\"movimiento\", \n",
    "                    palette=\"Reds_d\")\n",
    "fig.set(xlabel='Fecha', ylabel='Tweets')\n",
    "for item in fig.get_xticklabels():\n",
    "    item.set_rotation(90)\n",
    "plt.show()"
   ]
  },
  {
   "cell_type": "markdown",
   "metadata": {},
   "source": [
    "La publicación de tweets fue creciendo con el paso del tiempo. El día de las elecciones (**`17 de diciembre`**) se concentró el mayor de publicaciones de tweets, más de **`30.000`** tweets (honor colorado 20.478, colorado añeteté 11.474) se publicaron ese día. Pasadas las elecciones los tweets relacionados a las internas decrecieron significativamente con un pequeño pico el día de 28 de diciembre. Esto pudo haberse debido a que ese día el presidente de la república y líder del Movimiento Honor Colorado, Horacio Cartes, confirmó su reunión con Mario Abdo Benítez, líder de Colorado Añeteté, en busca de la unidad del Partido Colorado ([Cartes confirma abrazo republicano](http://www.abc.com.py/nacionales/cartes-confirma-abrazo-republicano-1662344.html))."
   ]
  },
  {
   "cell_type": "markdown",
   "metadata": {},
   "source": [
    "## Cantidad de Tweets por movimiento"
   ]
  },
  {
   "cell_type": "markdown",
   "metadata": {},
   "source": [
    "Exploraremos la distribución de tweets considerando los dos movimiento más importantes en estas internas, es decir **`Honor Colorado`** y **`Colorado Añeteté`**."
   ]
  },
  {
   "cell_type": "markdown",
   "metadata": {},
   "source": [
    "### Honor Colorado"
   ]
  },
  {
   "cell_type": "code",
   "execution_count": 97,
   "metadata": {},
   "outputs": [
    {
     "name": "stdout",
     "output_type": "stream",
     "text": [
      "Se publicaron 86245 tweets relacionados al movimiento Honor Colorado (59.47% del total)\n"
     ]
    }
   ],
   "source": [
    "tweets_hc = db.search({'flag.movimiento.honor colorado': {'$gt': 0}, \n",
    "                       'flag.movimiento.colorado añetete': {'$eq': 0}})\n",
    "print('Se publicaron {0} tweets relacionados al movimiento Honor Colorado ({1}% del total)'.\n",
    "      format(tweets_hc.count(), round((tweets_hc.count()/relevant_tweets)*100,2)))"
   ]
  },
  {
   "cell_type": "markdown",
   "metadata": {},
   "source": [
    "### Colorado Añeteté"
   ]
  },
  {
   "cell_type": "code",
   "execution_count": 98,
   "metadata": {},
   "outputs": [
    {
     "name": "stdout",
     "output_type": "stream",
     "text": [
      "Se publicaron 46760 tweets relacionados al movimiento Colorado Añetete (32.24% del total)\n"
     ]
    }
   ],
   "source": [
    "tweets_ca = db.search({'flag.movimiento.colorado añetete': {'$gt': 0},\n",
    "                       'flag.movimiento.honor colorado': {'$eq': 0},\n",
    "                       'relevante': 1})\n",
    "print('Se publicaron {0} tweets relacionados al movimiento Colorado Añetete ({1}% del total)'.\n",
    "      format(tweets_ca.count(), round((tweets_ca.count()/relevant_tweets)*100,2)))"
   ]
  },
  {
   "cell_type": "markdown",
   "metadata": {},
   "source": [
    "### Ambos"
   ]
  },
  {
   "cell_type": "code",
   "execution_count": 99,
   "metadata": {},
   "outputs": [
    {
     "name": "stdout",
     "output_type": "stream",
     "text": [
      "Se publicaron 10917 tweets relacionados a ambos movimientos (7.53% del total)\n"
     ]
    }
   ],
   "source": [
    "tweets_hc_ca = db.search({'flag.movimiento.colorado añetete': {'$gt': 0},\n",
    "                          'flag.movimiento.honor colorado': {'$gt': 0},\n",
    "                          'relevante': 1})\n",
    "print('Se publicaron {0} tweets relacionados a ambos movimientos ({1}% del total)'.\n",
    "      format(tweets_hc_ca.count(), round((tweets_hc_ca.count()/relevant_tweets)*100,2)))"
   ]
  },
  {
   "cell_type": "code",
   "execution_count": 101,
   "metadata": {},
   "outputs": [
    {
     "data": {
      "image/png": "[encoded data removed]",
      "text/plain": [
       "<matplotlib.figure.Figure at 0x1183c8780>"
      ]
     },
     "metadata": {
      "needs_background": "light"
     },
     "output_type": "display_data"
    }
   ],
   "source": [
    "tweets_por_movimiento = pd.DataFrame({\n",
    "    'Movimiento': ['Honor Colorado', 'Añeteté', 'Ambos'],\n",
    "    'Tweets': [tweets_hc.count(), tweets_ca.count(), tweets_hc_ca.count()]\n",
    "}, index=['hc', 'ca', 'ambos'])\n",
    "fig = sns.barplot(x='Movimiento', y='Tweets', data=tweets_por_movimiento, palette=\"Reds_d\")\n",
    "ax=fig\n",
    "#annotate axis = seaborn axis\n",
    "for p in ax.patches:\n",
    "    ax.annotate(\"%d\" % p.get_height(), (p.get_x() + p.get_width() / 2., p.get_height()),\n",
    "                 ha='center', va='center', fontsize=12, color='black', xytext=(0, 10),\n",
    "                 textcoords='offset points')\n",
    "_ = fig.set_ylim(0,95000) #To make space for the annotations\n",
    "plt.show()"
   ]
  },
  {
   "cell_type": "markdown",
   "metadata": {},
   "source": [
    "Los tweets relacionados al movimiento **`Honor Colorado`** constituyen casi el **`60%`** de nuestro data set mientras que los vinculados a las candidaturas del movimiento **`Colorado Añeteté`** representan menos del **`35%`** del total de datos. El restante porcentaje se distribuye entre tweet que hacen referencia a ambos movimiento (7%) y tweets vínculados a las internas de la ANR pero no necesariamente a alguno de estos dos movimiento, por ejemplo, tweets que utilizan solamente el hashtag **`#InternasANR`**."
   ]
  },
  {
   "cell_type": "markdown",
   "metadata": {},
   "source": [
    "### Distribución de tweets por hora el día D (17/12/17)"
   ]
  },
  {
   "cell_type": "code",
   "execution_count": 102,
   "metadata": {},
   "outputs": [
    {
     "data": {
      "image/png": "[encoded data removed]",
      "text/plain": [
       "<matplotlib.figure.Figure at 0x1183979e8>"
      ]
     },
     "metadata": {
      "needs_background": "light"
     },
     "output_type": "display_data"
    }
   ],
   "source": [
    "# set figure size\n",
    "plt.figure(figsize=(14,8))\n",
    "# get tweets by hour by movement\n",
    "hc_tw_by_hour = db.get_tweets_by_hour('12/17/17', **{'partido': 'anr','movimiento': 'honor colorado'})\n",
    "ca_tw_by_hour = db.get_tweets_by_hour('12/17/17', **{'partido': 'anr','movimiento': 'colorado añetete'})\n",
    "# convert list to pandas' dataframe\n",
    "tweets_by_hour = pd.DataFrame(hc_tw_by_hour)\n",
    "tweets_by_hour = tweets_by_hour.append(pd.DataFrame(ca_tw_by_hour))\n",
    "# draw and show the figure\n",
    "fig = sns.pointplot(x='hour', y='count', data=tweets_by_hour, hue=\"movimiento\", \n",
    "                    palette=\"Reds_d\")\n",
    "fig.set(xlabel='Hora', ylabel='Tweets')\n",
    "for item in fig.get_xticklabels():\n",
    "    item.set_rotation(90)\n",
    "plt.show()"
   ]
  },
  {
   "cell_type": "markdown",
   "metadata": {},
   "source": [
    "La cantidad de tweets con información relacionada a **`Honor Colorado`** fue superior durante toda la jornada electoral con respecto a los tweets de **`Colorado Añeteté`**, inclusive aún después de la proclamación del TREP (20 hs)"
   ]
  },
  {
   "cell_type": "markdown",
   "metadata": {},
   "source": [
    "## Distribución de tweets por candidato"
   ]
  },
  {
   "cell_type": "markdown",
   "metadata": {},
   "source": [
    "Para esta parte del análisis solo se tuvieron en cuenta los tweets que contienen hashtags utilizados exclusivamente para promocionar las **candidaturas** presidenciales, no los **movimientos** o **partidos**. Por ejemplo, los hashtags **`#JuntosPodemosMas`** o **`#CaminandoJuntos`** son hashtags vinculados principalmente a la figura de Santiago Peña no así el hashtag **`#HonorColorado`** que se utiliza para referirse al movimiento partidario pero no necesariamente la candidatura de Peña. De igual manera, los hashtags **`#MaritoDeLaGente`** o **`ParaguayDeLaGente`** fueron usados para promocionar la campaña de Mario Abdo, no necesariamente las candidatura del movimiento Colorado Añeteté al que pertenece.\n",
    "\n",
    "Los tweets publicados por las cuentas personales de los candidatos no son tenidos en cuenta en este análisis."
   ]
  },
  {
   "cell_type": "markdown",
   "metadata": {},
   "source": [
    "### Santiago Peña"
   ]
  },
  {
   "cell_type": "markdown",
   "metadata": {},
   "source": [
    "Hashtags de ejemplo: **`#JuntosPodemosMas`**, **`#CaminandoJuntos`**, **`#SantiPresidente`**, **`#VotoxSanti`**, **`#SigamosConversando`**"
   ]
  },
  {
   "cell_type": "code",
   "execution_count": 103,
   "metadata": {},
   "outputs": [
    {
     "name": "stdout",
     "output_type": "stream",
     "text": [
      "Se publicaron 58282 tweets que utilizaron hashtags vinculados a la candidatura de Santiago Peña (67.58% del total de los tweets de Honor Colorado)\n"
     ]
    }
   ],
   "source": [
    "tweets_sp = db.search({'flag.candidatura.santiago peña': {'$gt': 0},\n",
    "                       'flag.candidatura.mario abdo': {'$eq': 0},\n",
    "                       'flag.movimiento.colorado añetete': {'$eq': 0},\n",
    "                       'tweet_obj.user.screen_name': {'$ne': 'SantiPenap'}})\n",
    "per_tweet_sp = round((tweets_sp.count()/tweets_hc.count())*100,2)\n",
    "print('Se publicaron {0} tweets que utilizaron hashtags vinculados a la candidatura de Santiago Peña ' \\\n",
    "      '({1}% del total de los tweets de Honor Colorado)'.\n",
    "      format(tweets_sp.count(), per_tweet_sp))"
   ]
  },
  {
   "cell_type": "markdown",
   "metadata": {},
   "source": [
    "### Mario Abdo Benítez"
   ]
  },
  {
   "cell_type": "markdown",
   "metadata": {},
   "source": [
    "Hashtags de ejemplo: **`#MaritoDeLaGente`**, **`#ParaguayDeLaGente`**, **`#MaritoImparable`**, **`#MaritoPresidente`**, **`#1000KmConLaGente`**"
   ]
  },
  {
   "cell_type": "code",
   "execution_count": 104,
   "metadata": {
    "scrolled": true
   },
   "outputs": [
    {
     "name": "stdout",
     "output_type": "stream",
     "text": [
      "Se publicaron 46275 tweets que utilizaron hashtags vinculados a la candidatura de Mario Abdo (98.96% del total de los tweets de Colorado Añeteté)\n"
     ]
    }
   ],
   "source": [
    "tweets_ma = db.search({'flag.candidatura.santiago peña': {'$eq': 0},\n",
    "                       'flag.candidatura.mario abdo': {'$gt': 0},\n",
    "                       'flag.movimiento.honor colorado': {'$eq': 0},\n",
    "                       'tweet_obj.user.screen_name': {'$ne': 'maritoabdo'}})\n",
    "per_tweet_ma = round((tweets_ma.count()/tweets_ca.count())*100,2)\n",
    "print('Se publicaron {0} tweets que utilizaron hashtags vinculados a la candidatura de Mario Abdo ' \\\n",
    "      '({1}% del total de los tweets de Colorado Añeteté)'.\n",
    "      format(tweets_ma.count(), per_tweet_ma))"
   ]
  },
  {
   "cell_type": "markdown",
   "metadata": {},
   "source": [
    "### Tweets sobre candidatos sobre el total de su movimiento"
   ]
  },
  {
   "cell_type": "code",
   "execution_count": 118,
   "metadata": {},
   "outputs": [
    {
     "data": {
      "image/png": "[encoded data removed]",
      "text/plain": [
       "<matplotlib.figure.Figure at 0x114a53978>"
      ]
     },
     "metadata": {
      "needs_background": "light"
     },
     "output_type": "display_data"
    }
   ],
   "source": [
    "tweets_por_candidato_anr = pd.DataFrame({\n",
    "    'Candidato': ['Santiago Peña', 'Mario Abdo'],\n",
    "    '% tweets sobre total mov': [per_tweet_sp,per_tweet_ma]\n",
    "}, index=['sp', 'ma'])\n",
    "fig = sns.barplot(x='Candidato', y='% tweets sobre total mov', data=tweets_por_candidato_anr, \n",
    "                  order=['Mario Abdo', 'Santiago Peña'], palette=\"Reds_d\")\n",
    "ax=fig\n",
    "#annotate axis = seaborn axis\n",
    "for p in ax.patches:\n",
    "    ax.annotate(\"{0}%\".format(p.get_height()), (p.get_x() + p.get_width() / 2., p.get_height()),\n",
    "                 ha='center', va='center', fontsize=12, color='black', xytext=(0, 10),\n",
    "                 textcoords='offset points')\n",
    "_ = fig.set_ylim(0,110) #To make space for the annotations\n",
    "plt.show()"
   ]
  },
  {
   "cell_type": "markdown",
   "metadata": {},
   "source": [
    "## Tonalidad de Tweets"
   ]
  },
  {
   "cell_type": "markdown",
   "metadata": {},
   "source": [
    "En este análisis se consideran solo tweets originales, replies, y quotes. Los retweets son descartados."
   ]
  },
  {
   "cell_type": "code",
   "execution_count": 3,
   "metadata": {},
   "outputs": [],
   "source": [
    "st = db.get_sentiment_tweets(**{'partido': 'anr'})\n",
    "st_dict = {\n",
    "    'Tono': [],\n",
    "    'Tweets': []\n",
    "}\n",
    "for sen in st:\n",
    "    if sen['sentiment'] == 'positive':\n",
    "        st_dict['Tono'].append('Positivo')\n",
    "    elif sen['sentiment'] == 'negative':\n",
    "        st_dict['Tono'].append('Negativo')\n",
    "    else:\n",
    "        st_dict['Tono'].append('Neutral')\n",
    "    st_dict['Tweets'].append(sen['count'])\n",
    "st_df = pd.DataFrame(st_dict)"
   ]
  },
  {
   "cell_type": "code",
   "execution_count": 4,
   "metadata": {},
   "outputs": [
    {
     "data": {
      "image/png": "[encoded data removed]",
      "text/plain": [
       "<matplotlib.figure.Figure at 0x11e8c2978>"
      ]
     },
     "metadata": {
      "needs_background": "light"
     },
     "output_type": "display_data"
    }
   ],
   "source": [
    "fig = sns.barplot(x='Tono', y='Tweets', data=st_df, \n",
    "                  order=['Positivo', 'Neutral', 'Negativo'],\n",
    "                  palette=['green','gray', 'red'])\n",
    "ax=fig\n",
    "#annotate axis = seaborn axis\n",
    "for p in ax.patches:\n",
    "    ax.annotate(\"%d\" % p.get_height(), (p.get_x() + p.get_width() / 2., p.get_height()),\n",
    "                 ha='center', va='center', fontsize=12, color='black', xytext=(0, 10),\n",
    "                 textcoords='offset points')\n",
    "_ = fig.set_ylim(0,30000) #To make space for the annotations\n",
    "plt.show()"
   ]
  },
  {
   "cell_type": "markdown",
   "metadata": {},
   "source": [
    "### Honor Colorado"
   ]
  },
  {
   "cell_type": "code",
   "execution_count": 5,
   "metadata": {},
   "outputs": [],
   "source": [
    "st = db.get_sentiment_tweets(**{'partido': 'anr', 'movimiento': 'honor colorado'})\n",
    "st_dict = {\n",
    "    'Tono': [],\n",
    "    'Tweets': []\n",
    "}\n",
    "for sen in st:\n",
    "    if sen['sentiment'] == 'positive':\n",
    "        st_dict['Tono'].append('Positivo')\n",
    "    elif sen['sentiment'] == 'negative':\n",
    "        st_dict['Tono'].append('Negativo')\n",
    "    else:\n",
    "        st_dict['Tono'].append('Neutral')\n",
    "    st_dict['Tweets'].append(sen['count'])\n",
    "st_df_hc = pd.DataFrame(st_dict)"
   ]
  },
  {
   "cell_type": "code",
   "execution_count": 6,
   "metadata": {},
   "outputs": [
    {
     "data": {
      "image/png": "[encoded data removed]",
      "text/plain": [
       "<matplotlib.figure.Figure at 0x11e8cde10>"
      ]
     },
     "metadata": {
      "needs_background": "light"
     },
     "output_type": "display_data"
    }
   ],
   "source": [
    "fig = sns.barplot(x='Tono', y='Tweets', data=st_df_hc, \n",
    "                  order=['Positivo', 'Neutral', 'Negativo'],\n",
    "                  palette=['green','gray', 'red'])\n",
    "ax=fig\n",
    "#annotate axis = seaborn axis\n",
    "for p in ax.patches:\n",
    "    ax.annotate(\"%d\" % p.get_height(), (p.get_x() + p.get_width() / 2., p.get_height()),\n",
    "                 ha='center', va='center', fontsize=12, color='black', xytext=(0, 10),\n",
    "                 textcoords='offset points')\n",
    "_ = fig.set_ylim(0,21000) #To make space for the annotations\n",
    "plt.show()"
   ]
  },
  {
   "cell_type": "code",
   "execution_count": 7,
   "metadata": {},
   "outputs": [
    {
     "name": "stdout",
     "output_type": "stream",
     "text": [
      "Tweets Positivos: 31.6%\n",
      "Tweets Negativos: 17.4%\n",
      "Tweets Neutrales: 51.0%\n"
     ]
    }
   ],
   "source": [
    "total = sum(st_df_hc['Tweets'])\n",
    "positive = int(st_df_hc[st_df_hc['Tono'] == 'Positivo']['Tweets'])\n",
    "negative = int(st_df_hc[st_df_hc['Tono'] == 'Negativo']['Tweets'])\n",
    "neutral = int(st_df_hc[st_df_hc['Tono'] == 'Neutral']['Tweets'])\n",
    "print('Tweets Positivos: {0}%'.format(round(100*positive/total, 1)))\n",
    "print('Tweets Negativos: {0}%'.format(round(100*negative/total, 1)))\n",
    "print('Tweets Neutrales: {0}%'.format(round(100*neutral/total, 1)))"
   ]
  },
  {
   "cell_type": "markdown",
   "metadata": {},
   "source": [
    "#### Tweets Originales"
   ]
  },
  {
   "cell_type": "code",
   "execution_count": 8,
   "metadata": {},
   "outputs": [],
   "source": [
    "st = db.get_sentiment_tweets(type_query='original', **{'partido': 'anr', 'movimiento': 'honor colorado'})\n",
    "st_dict = {\n",
    "    'Tono': [],\n",
    "    'Tweets': []\n",
    "}\n",
    "for sen in st:\n",
    "    if sen['sentiment'] == 'positive':\n",
    "        st_dict['Tono'].append('Positivo')\n",
    "    elif sen['sentiment'] == 'negative':\n",
    "        st_dict['Tono'].append('Negativo')\n",
    "    else:\n",
    "        st_dict['Tono'].append('Neutral')\n",
    "    st_dict['Tweets'].append(sen['count'])\n",
    "st_df_hc = pd.DataFrame(st_dict)"
   ]
  },
  {
   "cell_type": "code",
   "execution_count": 11,
   "metadata": {},
   "outputs": [
    {
     "data": {
      "image/png": "[encoded data removed]",
      "text/plain": [
       "<matplotlib.figure.Figure at 0x11e8cdc88>"
      ]
     },
     "metadata": {
      "needs_background": "light"
     },
     "output_type": "display_data"
    }
   ],
   "source": [
    "fig = sns.barplot(x='Tono', y='Tweets', data=st_df_hc, \n",
    "                  order=['Positivo', 'Neutral', 'Negativo'],\n",
    "                  palette=['green','gray', 'red'])\n",
    "ax=fig\n",
    "#annotate axis = seaborn axis\n",
    "for p in ax.patches:\n",
    "    ax.annotate(\"%d\" % p.get_height(), (p.get_x() + p.get_width() / 2., p.get_height()),\n",
    "                 ha='center', va='center', fontsize=12, color='black', xytext=(0, 10),\n",
    "                 textcoords='offset points')\n",
    "_ = fig.set_ylim(0,3500) #To make space for the annotations\n",
    "plt.show()"
   ]
  },
  {
   "cell_type": "code",
   "execution_count": 12,
   "metadata": {},
   "outputs": [
    {
     "name": "stdout",
     "output_type": "stream",
     "text": [
      "Tweets Positivos: 40.7%\n",
      "Tweets Negativos: 15.6%\n",
      "Tweets Neutrales: 43.7%\n"
     ]
    }
   ],
   "source": [
    "total = sum(st_df_hc['Tweets'])\n",
    "positive = int(st_df_hc[st_df_hc['Tono'] == 'Positivo']['Tweets'])\n",
    "negative = int(st_df_hc[st_df_hc['Tono'] == 'Negativo']['Tweets'])\n",
    "neutral = int(st_df_hc[st_df_hc['Tono'] == 'Neutral']['Tweets'])\n",
    "print('Tweets Positivos: {0}%'.format(round(100*positive/total, 1)))\n",
    "print('Tweets Negativos: {0}%'.format(round(100*negative/total, 1)))\n",
    "print('Tweets Neutrales: {0}%'.format(round(100*neutral/total, 1)))"
   ]
  },
  {
   "cell_type": "markdown",
   "metadata": {},
   "source": [
    "#### Replies"
   ]
  },
  {
   "cell_type": "code",
   "execution_count": 13,
   "metadata": {},
   "outputs": [],
   "source": [
    "st = db.get_sentiment_tweets(type_query='replies', **{'partido': 'anr', 'movimiento': 'honor colorado'})\n",
    "st_dict = {\n",
    "    'Tono': [],\n",
    "    'Tweets': []\n",
    "}\n",
    "for sen in st:\n",
    "    if sen['sentiment'] == 'positive':\n",
    "        st_dict['Tono'].append('Positivo')\n",
    "    elif sen['sentiment'] == 'negative':\n",
    "        st_dict['Tono'].append('Negativo')\n",
    "    else:\n",
    "        st_dict['Tono'].append('Neutral')\n",
    "    st_dict['Tweets'].append(sen['count'])\n",
    "st_df_hc = pd.DataFrame(st_dict)"
   ]
  },
  {
   "cell_type": "code",
   "execution_count": 16,
   "metadata": {},
   "outputs": [
    {
     "data": {
      "image/png": "[encoded data removed]",
      "text/plain": [
       "<matplotlib.figure.Figure at 0x11f359dd8>"
      ]
     },
     "metadata": {
      "needs_background": "light"
     },
     "output_type": "display_data"
    }
   ],
   "source": [
    "fig = sns.barplot(x='Tono', y='Tweets', data=st_df_hc, \n",
    "                  order=['Positivo', 'Neutral', 'Negativo'],\n",
    "                  palette=['green','gray', 'red'])\n",
    "ax=fig\n",
    "#annotate axis = seaborn axis\n",
    "for p in ax.patches:\n",
    "    ax.annotate(\"%d\" % p.get_height(), (p.get_x() + p.get_width() / 2., p.get_height()),\n",
    "                 ha='center', va='center', fontsize=12, color='black', xytext=(0, 10),\n",
    "                 textcoords='offset points')\n",
    "_ = fig.set_ylim(0,15000) #To make space for the annotations\n",
    "plt.show()"
   ]
  },
  {
   "cell_type": "code",
   "execution_count": 17,
   "metadata": {},
   "outputs": [
    {
     "name": "stdout",
     "output_type": "stream",
     "text": [
      "Tweets Positivos: 29.0%\n",
      "Tweets Negativos: 18.2%\n",
      "Tweets Neutrales: 52.8%\n"
     ]
    }
   ],
   "source": [
    "total = sum(st_df_hc['Tweets'])\n",
    "positive = int(st_df_hc[st_df_hc['Tono'] == 'Positivo']['Tweets'])\n",
    "negative = int(st_df_hc[st_df_hc['Tono'] == 'Negativo']['Tweets'])\n",
    "neutral = int(st_df_hc[st_df_hc['Tono'] == 'Neutral']['Tweets'])\n",
    "print('Tweets Positivos: {0}%'.format(round(100*positive/total, 1)))\n",
    "print('Tweets Negativos: {0}%'.format(round(100*negative/total, 1)))\n",
    "print('Tweets Neutrales: {0}%'.format(round(100*neutral/total, 1)))"
   ]
  },
  {
   "cell_type": "markdown",
   "metadata": {},
   "source": [
    "#### Quotes"
   ]
  },
  {
   "cell_type": "code",
   "execution_count": 18,
   "metadata": {},
   "outputs": [],
   "source": [
    "st = db.get_sentiment_tweets(type_query='quotes', **{'partido': 'anr', 'movimiento': 'honor colorado'})\n",
    "st_dict = {\n",
    "    'Tono': [],\n",
    "    'Tweets': []\n",
    "}\n",
    "for sen in st:\n",
    "    if sen['sentiment'] == 'positive':\n",
    "        st_dict['Tono'].append('Positivo')\n",
    "    elif sen['sentiment'] == 'negative':\n",
    "        st_dict['Tono'].append('Negativo')\n",
    "    else:\n",
    "        st_dict['Tono'].append('Neutral')\n",
    "    st_dict['Tweets'].append(sen['count'])\n",
    "st_df_hc = pd.DataFrame(st_dict)"
   ]
  },
  {
   "cell_type": "code",
   "execution_count": 22,
   "metadata": {},
   "outputs": [
    {
     "data": {
      "image/png": "[encoded data removed]",
      "text/plain": [
       "<matplotlib.figure.Figure at 0x10d280f28>"
      ]
     },
     "metadata": {
      "needs_background": "light"
     },
     "output_type": "display_data"
    }
   ],
   "source": [
    "fig = sns.barplot(x='Tono', y='Tweets', data=st_df_hc, \n",
    "                  order=['Positivo', 'Neutral', 'Negativo'],\n",
    "                  palette=['green','gray', 'red'])\n",
    "ax=fig\n",
    "#annotate axis = seaborn axis\n",
    "for p in ax.patches:\n",
    "    ax.annotate(\"%d\" % p.get_height(), (p.get_x() + p.get_width() / 2., p.get_height()),\n",
    "                 ha='center', va='center', fontsize=12, color='black', xytext=(0, 10),\n",
    "                 textcoords='offset points')\n",
    "_ = fig.set_ylim(0,2300) #To make space for the annotations\n",
    "plt.show()"
   ]
  },
  {
   "cell_type": "code",
   "execution_count": 23,
   "metadata": {},
   "outputs": [
    {
     "name": "stdout",
     "output_type": "stream",
     "text": [
      "Tweets Positivos: 33.7%\n",
      "Tweets Negativos: 15.0%\n",
      "Tweets Neutrales: 51.3%\n"
     ]
    }
   ],
   "source": [
    "total = sum(st_df_hc['Tweets'])\n",
    "positive = int(st_df_hc[st_df_hc['Tono'] == 'Positivo']['Tweets'])\n",
    "negative = int(st_df_hc[st_df_hc['Tono'] == 'Negativo']['Tweets'])\n",
    "neutral = int(st_df_hc[st_df_hc['Tono'] == 'Neutral']['Tweets'])\n",
    "print('Tweets Positivos: {0}%'.format(round(100*positive/total, 1)))\n",
    "print('Tweets Negativos: {0}%'.format(round(100*negative/total, 1)))\n",
    "print('Tweets Neutrales: {0}%'.format(round(100*neutral/total, 1)))"
   ]
  },
  {
   "cell_type": "markdown",
   "metadata": {},
   "source": [
    "### Colorado Añeteté"
   ]
  },
  {
   "cell_type": "code",
   "execution_count": 44,
   "metadata": {},
   "outputs": [],
   "source": [
    "st = db.get_sentiment_tweets(**{'partido': 'anr', 'movimiento': 'colorado añetete'})\n",
    "st_dict = {\n",
    "    'Tono': [],\n",
    "    'Tweets': []\n",
    "}\n",
    "for sen in st:\n",
    "    if sen['sentiment'] == 'positive':\n",
    "        st_dict['Tono'].append('Positivo')\n",
    "    elif sen['sentiment'] == 'negative':\n",
    "        st_dict['Tono'].append('Negativo')\n",
    "    else:\n",
    "        st_dict['Tono'].append('Neutral')\n",
    "    st_dict['Tweets'].append(sen['count'])\n",
    "st_df_ca = pd.DataFrame(st_dict)"
   ]
  },
  {
   "cell_type": "code",
   "execution_count": 45,
   "metadata": {},
   "outputs": [
    {
     "data": {
      "image/png": "[encoded data removed]",
      "text/plain": [
       "<matplotlib.figure.Figure at 0x3d8ec6c88>"
      ]
     },
     "metadata": {
      "needs_background": "light"
     },
     "output_type": "display_data"
    }
   ],
   "source": [
    "fig = sns.barplot(x='Tono', y='Tweets', data=st_df_ca, \n",
    "                  order=['Positivo', 'Neutral', 'Negativo'],\n",
    "                  palette=['green','gray', 'red'])\n",
    "ax=fig\n",
    "#annotate axis = seaborn axis\n",
    "for p in ax.patches:\n",
    "    ax.annotate(\"%d\" % p.get_height(), (p.get_x() + p.get_width() / 2., p.get_height()),\n",
    "                 ha='center', va='center', fontsize=12, color='black', xytext=(0, 10),\n",
    "                 textcoords='offset points')\n",
    "_ = fig.set_ylim(0,12000) #To make space for the annotations\n",
    "plt.show()"
   ]
  },
  {
   "cell_type": "code",
   "execution_count": 59,
   "metadata": {},
   "outputs": [
    {
     "name": "stdout",
     "output_type": "stream",
     "text": [
      "Tweets Positivos: 35.1%\n",
      "Tweets Negativos: 14.6%\n",
      "Tweets Neutrales: 50.3%\n"
     ]
    }
   ],
   "source": [
    "total = sum(st_df_ca['Tweets'])\n",
    "positive = int(st_df_ca[st_df_ca['Tono'] == 'Positivo']['Tweets'])\n",
    "negative = int(st_df_ca[st_df_ca['Tono'] == 'Negativo']['Tweets'])\n",
    "neutral = int(st_df_ca[st_df_ca['Tono'] == 'Neutral']['Tweets'])\n",
    "print('Tweets Positivos: {0}%'.format(round(100*positive/total, 1)))\n",
    "print('Tweets Negativos: {0}%'.format(round(100*negative/total, 1)))\n",
    "print('Tweets Neutrales: {0}%'.format(round(100*neutral/total, 1)))"
   ]
  },
  {
   "cell_type": "markdown",
   "metadata": {},
   "source": [
    "#### Tweets Originales"
   ]
  },
  {
   "cell_type": "code",
   "execution_count": 30,
   "metadata": {},
   "outputs": [],
   "source": [
    "st = db.get_sentiment_tweets(type_query = 'original', **{'partido': 'anr', 'movimiento': 'colorado añetete'})\n",
    "st_dict = {\n",
    "    'Tono': [],\n",
    "    'Tweets': []\n",
    "}\n",
    "for sen in st:\n",
    "    if sen['sentiment'] == 'positive':\n",
    "        st_dict['Tono'].append('Positivo')\n",
    "    elif sen['sentiment'] == 'negative':\n",
    "        st_dict['Tono'].append('Negativo')\n",
    "    else:\n",
    "        st_dict['Tono'].append('Neutral')\n",
    "    st_dict['Tweets'].append(sen['count'])\n",
    "st_df_ca = pd.DataFrame(st_dict)"
   ]
  },
  {
   "cell_type": "code",
   "execution_count": 34,
   "metadata": {},
   "outputs": [
    {
     "data": {
      "image/png": "[encoded data removed]",
      "text/plain": [
       "<matplotlib.figure.Figure at 0x11f946b00>"
      ]
     },
     "metadata": {
      "needs_background": "light"
     },
     "output_type": "display_data"
    }
   ],
   "source": [
    "fig = sns.barplot(x='Tono', y='Tweets', data=st_df_ca, \n",
    "                  order=['Positivo', 'Neutral', 'Negativo'],\n",
    "                  palette=['green','gray', 'red'])\n",
    "ax=fig\n",
    "#annotate axis = seaborn axis\n",
    "for p in ax.patches:\n",
    "    ax.annotate(\"%d\" % p.get_height(), (p.get_x() + p.get_width() / 2., p.get_height()),\n",
    "                 ha='center', va='center', fontsize=12, color='black', xytext=(0, 10),\n",
    "                 textcoords='offset points')\n",
    "_ = fig.set_ylim(0,2800) #To make space for the annotations\n",
    "plt.show()"
   ]
  },
  {
   "cell_type": "code",
   "execution_count": 35,
   "metadata": {},
   "outputs": [
    {
     "name": "stdout",
     "output_type": "stream",
     "text": [
      "Tweets Positivos: 43.5%\n",
      "Tweets Negativos: 14.0%\n",
      "Tweets Neutrales: 42.5%\n"
     ]
    }
   ],
   "source": [
    "total = sum(st_df_ca['Tweets'])\n",
    "positive = int(st_df_ca[st_df_ca['Tono'] == 'Positivo']['Tweets'])\n",
    "negative = int(st_df_ca[st_df_ca['Tono'] == 'Negativo']['Tweets'])\n",
    "neutral = int(st_df_ca[st_df_ca['Tono'] == 'Neutral']['Tweets'])\n",
    "print('Tweets Positivos: {0}%'.format(round(100*positive/total, 1)))\n",
    "print('Tweets Negativos: {0}%'.format(round(100*negative/total, 1)))\n",
    "print('Tweets Neutrales: {0}%'.format(round(100*neutral/total, 1)))"
   ]
  },
  {
   "cell_type": "markdown",
   "metadata": {},
   "source": [
    "#### Replies"
   ]
  },
  {
   "cell_type": "code",
   "execution_count": 36,
   "metadata": {},
   "outputs": [],
   "source": [
    "st = db.get_sentiment_tweets(type_query = 'replies', **{'partido': 'anr', 'movimiento': 'colorado añetete'})\n",
    "st_dict = {\n",
    "    'Tono': [],\n",
    "    'Tweets': []\n",
    "}\n",
    "for sen in st:\n",
    "    if sen['sentiment'] == 'positive':\n",
    "        st_dict['Tono'].append('Positivo')\n",
    "    elif sen['sentiment'] == 'negative':\n",
    "        st_dict['Tono'].append('Negativo')\n",
    "    else:\n",
    "        st_dict['Tono'].append('Neutral')\n",
    "    st_dict['Tweets'].append(sen['count'])\n",
    "st_df_ca = pd.DataFrame(st_dict)"
   ]
  },
  {
   "cell_type": "code",
   "execution_count": 42,
   "metadata": {},
   "outputs": [
    {
     "data": {
      "image/png": "[encoded data removed]",
      "text/plain": [
       "<matplotlib.figure.Figure at 0x11f344390>"
      ]
     },
     "metadata": {
      "needs_background": "light"
     },
     "output_type": "display_data"
    }
   ],
   "source": [
    "fig = sns.barplot(x='Tono', y='Tweets', data=st_df_ca, \n",
    "                  order=['Positivo', 'Neutral', 'Negativo'],\n",
    "                  palette=['green','gray', 'red'])\n",
    "ax=fig\n",
    "#annotate axis = seaborn axis\n",
    "for p in ax.patches:\n",
    "    ax.annotate(\"%d\" % p.get_height(), (p.get_x() + p.get_width() / 2., p.get_height()),\n",
    "                 ha='center', va='center', fontsize=12, color='black', xytext=(0, 10),\n",
    "                 textcoords='offset points')\n",
    "_ = fig.set_ylim(0,8400) #To make space for the annotations\n",
    "plt.show()"
   ]
  },
  {
   "cell_type": "code",
   "execution_count": 43,
   "metadata": {},
   "outputs": [
    {
     "name": "stdout",
     "output_type": "stream",
     "text": [
      "Tweets Positivos: 30.3%\n",
      "Tweets Negativos: 15.5%\n",
      "Tweets Neutrales: 54.3%\n"
     ]
    }
   ],
   "source": [
    "total = sum(st_df_ca['Tweets'])\n",
    "positive = int(st_df_ca[st_df_ca['Tono'] == 'Positivo']['Tweets'])\n",
    "negative = int(st_df_ca[st_df_ca['Tono'] == 'Negativo']['Tweets'])\n",
    "neutral = int(st_df_ca[st_df_ca['Tono'] == 'Neutral']['Tweets'])\n",
    "print('Tweets Positivos: {0}%'.format(round(100*positive/total, 1)))\n",
    "print('Tweets Negativos: {0}%'.format(round(100*negative/total, 1)))\n",
    "print('Tweets Neutrales: {0}%'.format(round(100*neutral/total, 1)))"
   ]
  },
  {
   "cell_type": "markdown",
   "metadata": {},
   "source": [
    "#### Quotes"
   ]
  },
  {
   "cell_type": "code",
   "execution_count": 44,
   "metadata": {},
   "outputs": [],
   "source": [
    "st = db.get_sentiment_tweets(type_query = 'quotes', **{'partido': 'anr', 'movimiento': 'colorado añetete'})\n",
    "st_dict = {\n",
    "    'Tono': [],\n",
    "    'Tweets': []\n",
    "}\n",
    "for sen in st:\n",
    "    if sen['sentiment'] == 'positive':\n",
    "        st_dict['Tono'].append('Positivo')\n",
    "    elif sen['sentiment'] == 'negative':\n",
    "        st_dict['Tono'].append('Negativo')\n",
    "    else:\n",
    "        st_dict['Tono'].append('Neutral')\n",
    "    st_dict['Tweets'].append(sen['count'])\n",
    "st_df_ca = pd.DataFrame(st_dict)"
   ]
  },
  {
   "cell_type": "code",
   "execution_count": 50,
   "metadata": {},
   "outputs": [
    {
     "data": {
      "image/png": "[encoded data removed]",
      "text/plain": [
       "<matplotlib.figure.Figure at 0x11b5691d0>"
      ]
     },
     "metadata": {
      "needs_background": "light"
     },
     "output_type": "display_data"
    }
   ],
   "source": [
    "fig = sns.barplot(x='Tono', y='Tweets', data=st_df_ca, \n",
    "                  order=['Positivo', 'Neutral', 'Negativo'],\n",
    "                  palette=['green','gray', 'red'])\n",
    "ax=fig\n",
    "#annotate axis = seaborn axis\n",
    "for p in ax.patches:\n",
    "    ax.annotate(\"%d\" % p.get_height(), (p.get_x() + p.get_width() / 2., p.get_height()),\n",
    "                 ha='center', va='center', fontsize=12, color='black', xytext=(0, 10),\n",
    "                 textcoords='offset points')\n",
    "_ = fig.set_ylim(0,950) #To make space for the annotations\n",
    "plt.show()"
   ]
  },
  {
   "cell_type": "code",
   "execution_count": 47,
   "metadata": {},
   "outputs": [
    {
     "name": "stdout",
     "output_type": "stream",
     "text": [
      "Tweets Positivos: 46.9%\n",
      "Tweets Negativos: 9.9%\n",
      "Tweets Neutrales: 43.2%\n"
     ]
    }
   ],
   "source": [
    "total = sum(st_df_ca['Tweets'])\n",
    "positive = int(st_df_ca[st_df_ca['Tono'] == 'Positivo']['Tweets'])\n",
    "negative = int(st_df_ca[st_df_ca['Tono'] == 'Negativo']['Tweets'])\n",
    "neutral = int(st_df_ca[st_df_ca['Tono'] == 'Neutral']['Tweets'])\n",
    "print('Tweets Positivos: {0}%'.format(round(100*positive/total, 1)))\n",
    "print('Tweets Negativos: {0}%'.format(round(100*negative/total, 1)))\n",
    "print('Tweets Neutrales: {0}%'.format(round(100*neutral/total, 1)))"
   ]
  },
  {
   "cell_type": "markdown",
   "metadata": {},
   "source": [
    "La distribución de tweets por tonalidad es bastante similar en ambos movimientos. Los resultados se mantienen aún dividiendo el análisis por tipo de tweet: original, reply, quote. Un aspecto interesante es que la distribución de tonalidades es ligeramente diferente para el movimiento **`Colorado Añeteté`** en cuanto a tweets originales y quotes, donde los tweets positivos sobre pasan a los neutrales."
   ]
  },
  {
   "cell_type": "markdown",
   "metadata": {},
   "source": [
    "## Distribución de Tweets por contenido"
   ]
  },
  {
   "cell_type": "markdown",
   "metadata": {},
   "source": [
    "En este análisis se consideran solo tweets originales, replies, y quotes. Los retweets son descartados."
   ]
  },
  {
   "cell_type": "code",
   "execution_count": 10,
   "metadata": {},
   "outputs": [],
   "source": [
    "tot_tweets_anr_no_rt = len(original_tweets) + len(replies) + len(quotes)"
   ]
  },
  {
   "cell_type": "markdown",
   "metadata": {},
   "source": [
    "### Planos"
   ]
  },
  {
   "cell_type": "markdown",
   "metadata": {},
   "source": [
    "Solo texto sin links, fotos, o videos."
   ]
  },
  {
   "cell_type": "code",
   "execution_count": 11,
   "metadata": {},
   "outputs": [],
   "source": [
    "pt = db.get_plain_tweets(**{'partido': 'anr'})"
   ]
  },
  {
   "cell_type": "markdown",
   "metadata": {},
   "source": [
    "### Links"
   ]
  },
  {
   "cell_type": "markdown",
   "metadata": {},
   "source": [
    "Tweets con links"
   ]
  },
  {
   "cell_type": "code",
   "execution_count": 13,
   "metadata": {},
   "outputs": [],
   "source": [
    "lt = db.get_tweets_with_links(**{'partido': 'anr'})"
   ]
  },
  {
   "cell_type": "markdown",
   "metadata": {},
   "source": [
    "#### Top-10 dominios más frecuentes"
   ]
  },
  {
   "cell_type": "code",
   "execution_count": 24,
   "metadata": {},
   "outputs": [],
   "source": [
    "la = LinkAnalyzer()\n",
    "domains_url, domains = la.get_domains_and_freq(save_to_file=False, **{'partido': 'anr'})"
   ]
  },
  {
   "cell_type": "code",
   "execution_count": 25,
   "metadata": {},
   "outputs": [
    {
     "data": {
      "text/html": [
       "<div>\n",
       "<style scoped>\n",
       "    .dataframe tbody tr th:only-of-type {\n",
       "        vertical-align: middle;\n",
       "    }\n",
       "\n",
       "    .dataframe tbody tr th {\n",
       "        vertical-align: top;\n",
       "    }\n",
       "\n",
       "    .dataframe thead th {\n",
       "        text-align: right;\n",
       "    }\n",
       "</style>\n",
       "<table border=\"1\" class=\"dataframe\">\n",
       "  <thead>\n",
       "    <tr style=\"text-align: right;\">\n",
       "      <th></th>\n",
       "      <th>Domain</th>\n",
       "      <th>Tweets</th>\n",
       "    </tr>\n",
       "  </thead>\n",
       "  <tbody>\n",
       "    <tr>\n",
       "      <th>0</th>\n",
       "      <td>messenger</td>\n",
       "      <td>154</td>\n",
       "    </tr>\n",
       "    <tr>\n",
       "      <th>1</th>\n",
       "      <td>youtube</td>\n",
       "      <td>150</td>\n",
       "    </tr>\n",
       "    <tr>\n",
       "      <th>2</th>\n",
       "      <td>facebook</td>\n",
       "      <td>98</td>\n",
       "    </tr>\n",
       "    <tr>\n",
       "      <th>3</th>\n",
       "      <td>abc</td>\n",
       "      <td>82</td>\n",
       "    </tr>\n",
       "    <tr>\n",
       "      <th>4</th>\n",
       "      <td>ultimahora</td>\n",
       "      <td>36</td>\n",
       "    </tr>\n",
       "    <tr>\n",
       "      <th>5</th>\n",
       "      <td>efe</td>\n",
       "      <td>20</td>\n",
       "    </tr>\n",
       "    <tr>\n",
       "      <th>6</th>\n",
       "      <td>radio1000</td>\n",
       "      <td>18</td>\n",
       "    </tr>\n",
       "    <tr>\n",
       "      <th>7</th>\n",
       "      <td>goo</td>\n",
       "      <td>18</td>\n",
       "    </tr>\n",
       "    <tr>\n",
       "      <th>8</th>\n",
       "      <td>lavozdigital</td>\n",
       "      <td>17</td>\n",
       "    </tr>\n",
       "    <tr>\n",
       "      <th>9</th>\n",
       "      <td>instagram</td>\n",
       "      <td>14</td>\n",
       "    </tr>\n",
       "  </tbody>\n",
       "</table>\n",
       "</div>"
      ],
      "text/plain": [
       "         Domain  Tweets\n",
       "0     messenger     154\n",
       "1       youtube     150\n",
       "2      facebook      98\n",
       "3           abc      82\n",
       "4    ultimahora      36\n",
       "5           efe      20\n",
       "6     radio1000      18\n",
       "7           goo      18\n",
       "8  lavozdigital      17\n",
       "9     instagram      14"
      ]
     },
     "execution_count": 25,
     "metadata": {},
     "output_type": "execute_result"
    }
   ],
   "source": [
    "domains_freq = pd.DataFrame(domains, columns=['Domain','Tweets'])\n",
    "domains_freq[:10]"
   ]
  },
  {
   "cell_type": "markdown",
   "metadata": {},
   "source": [
    "### Fotos"
   ]
  },
  {
   "cell_type": "markdown",
   "metadata": {},
   "source": [
    "Tweets con fotos"
   ]
  },
  {
   "cell_type": "code",
   "execution_count": 15,
   "metadata": {},
   "outputs": [],
   "source": [
    "pht = db.get_tweets_with_photo(**{'partido': 'anr'})"
   ]
  },
  {
   "cell_type": "markdown",
   "metadata": {},
   "source": [
    "#### Ejemplo"
   ]
  },
  {
   "cell_type": "code",
   "execution_count": 27,
   "metadata": {},
   "outputs": [
    {
     "data": {
      "text/html": [
       "\n",
       "<blockquote class=\"twitter-tweet\" data-lang=\"en\"><p lang=\"es\" dir=\"ltr\">Sumate al equipo ganador. ¡Votá <a href=\"https://twitter.com/hashtag/Lista2?src=hash&amp;ref_src=twsrc%5Etfw\">#Lista2</a>! <a href=\"https://t.co/DOVRIcMWNX\">pic.twitter.com/DOVRIcMWNX</a></p>&mdash; Santiago Peña (@SantiPenap) <a href=\"https://twitter.com/SantiPenap/status/936853394278330369?ref_src=twsrc%5Etfw\">December 2, 2017</a></blockquote>\n",
       "<script async src=\"https://platform.twitter.com/widgets.js\" charset=\"utf-8\"></script>\n"
      ],
      "text/plain": [
       "<__main__.Tweet at 0x1215520b8>"
      ]
     },
     "execution_count": 27,
     "metadata": {},
     "output_type": "execute_result"
    }
   ],
   "source": [
    "s = (\"\"\"\n",
    "<blockquote class=\"twitter-tweet\" data-lang=\"en\"><p lang=\"es\" dir=\"ltr\">Sumate al equipo ganador. ¡Votá <a href=\"https://twitter.com/hashtag/Lista2?src=hash&amp;ref_src=twsrc%5Etfw\">#Lista2</a>! <a href=\"https://t.co/DOVRIcMWNX\">pic.twitter.com/DOVRIcMWNX</a></p>&mdash; Santiago Peña (@SantiPenap) <a href=\"https://twitter.com/SantiPenap/status/936853394278330369?ref_src=twsrc%5Etfw\">December 2, 2017</a></blockquote>\n",
    "<script async src=\"https://platform.twitter.com/widgets.js\" charset=\"utf-8\"></script>\n",
    "\"\"\")\n",
    "Tweet(s)"
   ]
  },
  {
   "cell_type": "markdown",
   "metadata": {},
   "source": [
    "### Videos"
   ]
  },
  {
   "cell_type": "markdown",
   "metadata": {},
   "source": [
    "Tweets con video"
   ]
  },
  {
   "cell_type": "code",
   "execution_count": 17,
   "metadata": {},
   "outputs": [],
   "source": [
    "vt = db.get_tweets_with_video(**{'partido': 'anr'})"
   ]
  },
  {
   "cell_type": "code",
   "execution_count": 22,
   "metadata": {},
   "outputs": [
    {
     "data": {
      "image/png": "[encoded data removed]",
      "text/plain": [
       "<matplotlib.figure.Figure at 0x17941def0>"
      ]
     },
     "metadata": {
      "needs_background": "light"
     },
     "output_type": "display_data"
    }
   ],
   "source": [
    "dis = pd.DataFrame(\n",
    "    {\n",
    "        'Tipo': ['Plano', 'Link', 'Foto', 'Video'],\n",
    "        '% Tweets': [\n",
    "            round(100*(len(pt)/tot_tweets_anr_no_rt),1),\n",
    "            round(100*(len(lt)/tot_tweets_anr_no_rt),1),\n",
    "            round(100*(len(pht)/tot_tweets_anr_no_rt),1),\n",
    "            round(100*(len(vt)/tot_tweets_anr_no_rt),1)\n",
    "        ]\n",
    "    }\n",
    ")\n",
    "fig = sns.barplot(x='Tipo', y='% Tweets', data=dis, order=['Plano', 'Foto', 'Link', 'Video'])\n",
    "ax=fig\n",
    "#annotate axis = seaborn axis\n",
    "for p in ax.patches:\n",
    "    ax.annotate(\"{0}%\".format(p.get_height()), (p.get_x() + p.get_width() / 2., p.get_height()),\n",
    "                 ha='center', va='center', fontsize=12, color='black', xytext=(0, 10),\n",
    "                 textcoords='offset points')\n",
    "_ = fig.set_ylim(0,100) #To make space for the annotations\n",
    "plt.show()"
   ]
  },
  {
   "cell_type": "markdown",
   "metadata": {},
   "source": [
    "### Honor Colorado"
   ]
  },
  {
   "cell_type": "code",
   "execution_count": 29,
   "metadata": {},
   "outputs": [],
   "source": [
    "tot_tws_hc = len(original_tweets_hc) + len(replies_hc) + len(quotes_hc)"
   ]
  },
  {
   "cell_type": "markdown",
   "metadata": {},
   "source": [
    "### Planos"
   ]
  },
  {
   "cell_type": "markdown",
   "metadata": {},
   "source": [
    "Solo texto sin links, fotos, o videos."
   ]
  },
  {
   "cell_type": "code",
   "execution_count": 30,
   "metadata": {},
   "outputs": [],
   "source": [
    "pt = db.get_plain_tweets(**{'partido': 'anr', 'movimiento': 'honor colorado'})"
   ]
  },
  {
   "cell_type": "code",
   "execution_count": 31,
   "metadata": {},
   "outputs": [
    {
     "name": "stdout",
     "output_type": "stream",
     "text": [
      "Existen 31189 tweets planos. Representan el 86.7% del total de tweets originales, replies, y quotes de HC.\n"
     ]
    }
   ],
   "source": [
    "print('Existen {0} tweets planos. Representan el {1}% del total de tweets originales, replies, y quotes de HC.'.\n",
    "      format(len(pt), round(100*(len(pt)/tot_tws_hc),1)))"
   ]
  },
  {
   "cell_type": "markdown",
   "metadata": {},
   "source": [
    "### Links"
   ]
  },
  {
   "cell_type": "markdown",
   "metadata": {},
   "source": [
    "Tweets con links"
   ]
  },
  {
   "cell_type": "code",
   "execution_count": 32,
   "metadata": {},
   "outputs": [],
   "source": [
    "lt = db.get_tweets_with_links(**{'partido': 'anr', 'movimiento': 'honor colorado'})"
   ]
  },
  {
   "cell_type": "code",
   "execution_count": 44,
   "metadata": {},
   "outputs": [
    {
     "name": "stdout",
     "output_type": "stream",
     "text": [
      "Existen 503 tweets con links. Representan el 1.4% del total de tweets originales, replies, y quotes de HC.\n"
     ]
    }
   ],
   "source": [
    "print('Existen {0} tweets con links. Representan el {1}% del total de tweets originales, replies, y quotes de HC.'.\n",
    "      format(len(lt), round(100*(len(lt)/tot_tws_hc),1)))"
   ]
  },
  {
   "cell_type": "markdown",
   "metadata": {},
   "source": [
    "#### Top-10 dominios más frecuentes"
   ]
  },
  {
   "cell_type": "code",
   "execution_count": 60,
   "metadata": {},
   "outputs": [],
   "source": [
    "la = LinkAnalyzer()\n",
    "domains_url, domains = la.get_domains_and_freq(save_to_file=False, \n",
    "                                               **{'partido': 'anr', 'movimiento': 'honor colorado'})"
   ]
  },
  {
   "cell_type": "code",
   "execution_count": 61,
   "metadata": {},
   "outputs": [
    {
     "data": {
      "text/html": [
       "<div>\n",
       "<style scoped>\n",
       "    .dataframe tbody tr th:only-of-type {\n",
       "        vertical-align: middle;\n",
       "    }\n",
       "\n",
       "    .dataframe tbody tr th {\n",
       "        vertical-align: top;\n",
       "    }\n",
       "\n",
       "    .dataframe thead th {\n",
       "        text-align: right;\n",
       "    }\n",
       "</style>\n",
       "<table border=\"1\" class=\"dataframe\">\n",
       "  <thead>\n",
       "    <tr style=\"text-align: right;\">\n",
       "      <th></th>\n",
       "      <th>Domain</th>\n",
       "      <th>Tweets</th>\n",
       "    </tr>\n",
       "  </thead>\n",
       "  <tbody>\n",
       "    <tr>\n",
       "      <th>0</th>\n",
       "      <td>youtube</td>\n",
       "      <td>133</td>\n",
       "    </tr>\n",
       "    <tr>\n",
       "      <th>1</th>\n",
       "      <td>abc</td>\n",
       "      <td>57</td>\n",
       "    </tr>\n",
       "    <tr>\n",
       "      <th>2</th>\n",
       "      <td>facebook</td>\n",
       "      <td>51</td>\n",
       "    </tr>\n",
       "    <tr>\n",
       "      <th>3</th>\n",
       "      <td>ultimahora</td>\n",
       "      <td>16</td>\n",
       "    </tr>\n",
       "    <tr>\n",
       "      <th>4</th>\n",
       "      <td>efe</td>\n",
       "      <td>16</td>\n",
       "    </tr>\n",
       "    <tr>\n",
       "      <th>5</th>\n",
       "      <td>lavozdigital</td>\n",
       "      <td>12</td>\n",
       "    </tr>\n",
       "    <tr>\n",
       "      <th>6</th>\n",
       "      <td>rdn</td>\n",
       "      <td>8</td>\n",
       "    </tr>\n",
       "    <tr>\n",
       "      <th>7</th>\n",
       "      <td>santipresidente</td>\n",
       "      <td>8</td>\n",
       "    </tr>\n",
       "    <tr>\n",
       "      <th>8</th>\n",
       "      <td>twitter</td>\n",
       "      <td>7</td>\n",
       "    </tr>\n",
       "    <tr>\n",
       "      <th>9</th>\n",
       "      <td>780am</td>\n",
       "      <td>5</td>\n",
       "    </tr>\n",
       "  </tbody>\n",
       "</table>\n",
       "</div>"
      ],
      "text/plain": [
       "            Domain  Tweets\n",
       "0          youtube     133\n",
       "1              abc      57\n",
       "2         facebook      51\n",
       "3       ultimahora      16\n",
       "4              efe      16\n",
       "5     lavozdigital      12\n",
       "6              rdn       8\n",
       "7  santipresidente       8\n",
       "8          twitter       7\n",
       "9            780am       5"
      ]
     },
     "execution_count": 61,
     "metadata": {},
     "output_type": "execute_result"
    }
   ],
   "source": [
    "domains_freq = pd.DataFrame(domains, columns=['Domain','Tweets'])\n",
    "domains_freq[:10]"
   ]
  },
  {
   "cell_type": "markdown",
   "metadata": {},
   "source": [
    "### Fotos"
   ]
  },
  {
   "cell_type": "markdown",
   "metadata": {},
   "source": [
    "Tweets con fotos"
   ]
  },
  {
   "cell_type": "code",
   "execution_count": 35,
   "metadata": {},
   "outputs": [],
   "source": [
    "pht = db.get_tweets_with_photo(**{'partido': 'anr', 'movimiento': 'honor colorado'})"
   ]
  },
  {
   "cell_type": "code",
   "execution_count": 45,
   "metadata": {},
   "outputs": [
    {
     "name": "stdout",
     "output_type": "stream",
     "text": [
      "Existen 4296 tweets con fotos. Representan el 11.9% del total de tweets originales, replies, y quotes de HC.\n"
     ]
    }
   ],
   "source": [
    "print('Existen {0} tweets con fotos. Representan el {1}% del total de tweets originales, replies, y quotes de HC.'.\n",
    "      format(len(pht), round(100*(len(pht)/tot_tws_hc),1)))"
   ]
  },
  {
   "cell_type": "markdown",
   "metadata": {},
   "source": [
    "### Videos"
   ]
  },
  {
   "cell_type": "markdown",
   "metadata": {},
   "source": [
    "Tweets con video"
   ]
  },
  {
   "cell_type": "code",
   "execution_count": 37,
   "metadata": {},
   "outputs": [],
   "source": [
    "vt = db.get_tweets_with_video(**{'partido': 'anr', 'movimiento': 'honor colorado'})"
   ]
  },
  {
   "cell_type": "code",
   "execution_count": 46,
   "metadata": {},
   "outputs": [
    {
     "name": "stdout",
     "output_type": "stream",
     "text": [
      "Existen 0 tweets videos. Representan el 0.0% del total de tweets originales, replies, y quotes de HC.\n"
     ]
    }
   ],
   "source": [
    "print('Existen {0} tweets videos. Representan el {1}% del total de tweets originales, replies, y quotes de HC.'.\n",
    "      format(len(vt), round(100*(len(vt)/tot_tws_hc),1)))"
   ]
  },
  {
   "cell_type": "code",
   "execution_count": 39,
   "metadata": {},
   "outputs": [
    {
     "data": {
      "image/png": "[encoded data removed]",
      "text/plain": [
       "<matplotlib.figure.Figure at 0x15de0cdd8>"
      ]
     },
     "metadata": {
      "needs_background": "light"
     },
     "output_type": "display_data"
    }
   ],
   "source": [
    "dis = pd.DataFrame(\n",
    "    {\n",
    "        'Tipo': ['Plano', 'Link', 'Foto', 'Video'],\n",
    "        '% Tweets': [\n",
    "            round(100*(len(pt)/tot_tws_hc),1),\n",
    "            round(100*(len(lt)/tot_tws_hc),1),\n",
    "            round(100*(len(pht)/tot_tws_hc),1),\n",
    "            round(100*(len(vt)/tot_tws_hc),1)\n",
    "        ]\n",
    "    }\n",
    ")\n",
    "fig = sns.barplot(x='Tipo', y='% Tweets', data=dis, order=['Plano', 'Foto', 'Link', 'Video'])\n",
    "ax=fig\n",
    "#annotate axis = seaborn axis\n",
    "for p in ax.patches:\n",
    "    ax.annotate(\"{0}%\".format(p.get_height()), (p.get_x() + p.get_width() / 2., p.get_height()),\n",
    "                 ha='center', va='center', fontsize=12, color='black', xytext=(0, 10),\n",
    "                 textcoords='offset points')\n",
    "_ = fig.set_ylim(0,100) #To make space for the annotations\n",
    "plt.show()"
   ]
  },
  {
   "cell_type": "markdown",
   "metadata": {},
   "source": [
    "### Colorado Añeteté"
   ]
  },
  {
   "cell_type": "code",
   "execution_count": 41,
   "metadata": {},
   "outputs": [],
   "source": [
    "tot_tws_ca = len(original_tweets_ca) + len(replies_ca) + len(quotes_ca)"
   ]
  },
  {
   "cell_type": "markdown",
   "metadata": {},
   "source": [
    "### Planos"
   ]
  },
  {
   "cell_type": "markdown",
   "metadata": {},
   "source": [
    "Solo texto sin links, fotos, o videos."
   ]
  },
  {
   "cell_type": "code",
   "execution_count": 47,
   "metadata": {},
   "outputs": [],
   "source": [
    "pt = db.get_plain_tweets(**{'partido': 'anr', 'movimiento': 'colorado añetete'})"
   ]
  },
  {
   "cell_type": "code",
   "execution_count": 48,
   "metadata": {},
   "outputs": [
    {
     "name": "stdout",
     "output_type": "stream",
     "text": [
      "Existen 18040 tweets planos. Representan el 84.1% del total de tweets originales, replies, y quotes de CA.\n"
     ]
    }
   ],
   "source": [
    "print('Existen {0} tweets planos. Representan el {1}% del total de tweets originales, replies, y quotes de CA.'.\n",
    "      format(len(pt), round(100*(len(pt)/tot_tws_ca),1)))"
   ]
  },
  {
   "cell_type": "markdown",
   "metadata": {},
   "source": [
    "### Links"
   ]
  },
  {
   "cell_type": "markdown",
   "metadata": {},
   "source": [
    "Tweets con links"
   ]
  },
  {
   "cell_type": "code",
   "execution_count": 49,
   "metadata": {},
   "outputs": [],
   "source": [
    "lt = db.get_tweets_with_links(**{'partido': 'anr', 'movimiento': 'colorado añetete'})"
   ]
  },
  {
   "cell_type": "code",
   "execution_count": 54,
   "metadata": {},
   "outputs": [
    {
     "name": "stdout",
     "output_type": "stream",
     "text": [
      "Existen 617 tweets con links. Representan el 2.9% del total de tweets originales, replies, y quotes de CA.\n"
     ]
    }
   ],
   "source": [
    "print('Existen {0} tweets con links. Representan el {1}% del total de tweets originales, replies, y quotes de CA.'.\n",
    "      format(len(lt), round(100*(len(lt)/tot_tws_ca),1)))"
   ]
  },
  {
   "cell_type": "markdown",
   "metadata": {},
   "source": [
    "#### Top-10 dominios más frecuentes"
   ]
  },
  {
   "cell_type": "code",
   "execution_count": 62,
   "metadata": {},
   "outputs": [],
   "source": [
    "la = LinkAnalyzer()\n",
    "domains_url, domains = la.get_domains_and_freq(save_to_file=False, \n",
    "                                               **{'partido': 'anr', 'movimiento': 'colorado añetete'})"
   ]
  },
  {
   "cell_type": "code",
   "execution_count": 63,
   "metadata": {},
   "outputs": [
    {
     "data": {
      "text/html": [
       "<div>\n",
       "<style scoped>\n",
       "    .dataframe tbody tr th:only-of-type {\n",
       "        vertical-align: middle;\n",
       "    }\n",
       "\n",
       "    .dataframe tbody tr th {\n",
       "        vertical-align: top;\n",
       "    }\n",
       "\n",
       "    .dataframe thead th {\n",
       "        text-align: right;\n",
       "    }\n",
       "</style>\n",
       "<table border=\"1\" class=\"dataframe\">\n",
       "  <thead>\n",
       "    <tr style=\"text-align: right;\">\n",
       "      <th></th>\n",
       "      <th>Domain</th>\n",
       "      <th>Tweets</th>\n",
       "    </tr>\n",
       "  </thead>\n",
       "  <tbody>\n",
       "    <tr>\n",
       "      <th>0</th>\n",
       "      <td>messenger</td>\n",
       "      <td>154</td>\n",
       "    </tr>\n",
       "    <tr>\n",
       "      <th>1</th>\n",
       "      <td>facebook</td>\n",
       "      <td>48</td>\n",
       "    </tr>\n",
       "    <tr>\n",
       "      <th>2</th>\n",
       "      <td>abc</td>\n",
       "      <td>34</td>\n",
       "    </tr>\n",
       "    <tr>\n",
       "      <th>3</th>\n",
       "      <td>ultimahora</td>\n",
       "      <td>22</td>\n",
       "    </tr>\n",
       "    <tr>\n",
       "      <th>4</th>\n",
       "      <td>youtube</td>\n",
       "      <td>20</td>\n",
       "    </tr>\n",
       "    <tr>\n",
       "      <th>5</th>\n",
       "      <td>radio1000</td>\n",
       "      <td>18</td>\n",
       "    </tr>\n",
       "    <tr>\n",
       "      <th>6</th>\n",
       "      <td>instagram</td>\n",
       "      <td>11</td>\n",
       "    </tr>\n",
       "    <tr>\n",
       "      <th>7</th>\n",
       "      <td>lavozdigital</td>\n",
       "      <td>10</td>\n",
       "    </tr>\n",
       "    <tr>\n",
       "      <th>8</th>\n",
       "      <td>nanduti</td>\n",
       "      <td>8</td>\n",
       "    </tr>\n",
       "    <tr>\n",
       "      <th>9</th>\n",
       "      <td>goo</td>\n",
       "      <td>7</td>\n",
       "    </tr>\n",
       "  </tbody>\n",
       "</table>\n",
       "</div>"
      ],
      "text/plain": [
       "         Domain  Tweets\n",
       "0     messenger     154\n",
       "1      facebook      48\n",
       "2           abc      34\n",
       "3    ultimahora      22\n",
       "4       youtube      20\n",
       "5     radio1000      18\n",
       "6     instagram      11\n",
       "7  lavozdigital      10\n",
       "8       nanduti       8\n",
       "9           goo       7"
      ]
     },
     "execution_count": 63,
     "metadata": {},
     "output_type": "execute_result"
    }
   ],
   "source": [
    "domains_freq = pd.DataFrame(domains, columns=['Domain','Tweets'])\n",
    "domains_freq[:10]"
   ]
  },
  {
   "cell_type": "markdown",
   "metadata": {},
   "source": [
    "### Fotos"
   ]
  },
  {
   "cell_type": "markdown",
   "metadata": {},
   "source": [
    "Tweets con fotos"
   ]
  },
  {
   "cell_type": "code",
   "execution_count": 52,
   "metadata": {},
   "outputs": [],
   "source": [
    "pht = db.get_tweets_with_photo(**{'partido': 'anr', 'movimiento': 'colorado añetete'})"
   ]
  },
  {
   "cell_type": "code",
   "execution_count": 55,
   "metadata": {},
   "outputs": [
    {
     "name": "stdout",
     "output_type": "stream",
     "text": [
      "Existen 2791 tweets con fotos. Representan el 13.0% del total de tweets originales, replies, y quotes de CA.\n"
     ]
    }
   ],
   "source": [
    "print('Existen {0} tweets con fotos. Representan el {1}% del total de tweets originales, replies, y quotes de CA.'.\n",
    "      format(len(pht), round(100*(len(pht)/tot_tws_ca),1)))"
   ]
  },
  {
   "cell_type": "markdown",
   "metadata": {},
   "source": [
    "### Videos"
   ]
  },
  {
   "cell_type": "markdown",
   "metadata": {},
   "source": [
    "Tweets con video"
   ]
  },
  {
   "cell_type": "code",
   "execution_count": 56,
   "metadata": {},
   "outputs": [],
   "source": [
    "vt = db.get_tweets_with_video(**{'partido': 'anr', 'movimiento': 'colorado añetete'})"
   ]
  },
  {
   "cell_type": "code",
   "execution_count": 57,
   "metadata": {},
   "outputs": [
    {
     "name": "stdout",
     "output_type": "stream",
     "text": [
      "Existen 0 tweets planos. Representan el 0.0% del total de tweets originales, replies, y quotes de CA.\n"
     ]
    }
   ],
   "source": [
    "print('Existen {0} tweets planos. Representan el {1}% del total de tweets originales, replies, y quotes de CA.'.\n",
    "      format(len(vt), round(100*(len(vt)/tot_tws_ca),1)))"
   ]
  },
  {
   "cell_type": "code",
   "execution_count": 59,
   "metadata": {},
   "outputs": [
    {
     "data": {
      "image/png": "[encoded data removed]",
      "text/plain": [
       "<matplotlib.figure.Figure at 0x1621123c8>"
      ]
     },
     "metadata": {
      "needs_background": "light"
     },
     "output_type": "display_data"
    }
   ],
   "source": [
    "dis = pd.DataFrame(\n",
    "    {\n",
    "        'Tipo': ['Plano', 'Link', 'Foto', 'Video'],\n",
    "        '% Tweets': [\n",
    "            round(100*(len(pt)/tot_tws_ca),1),\n",
    "            round(100*(len(lt)/tot_tws_ca),1),\n",
    "            round(100*(len(pht)/tot_tws_ca),1),\n",
    "            round(100*(len(vt)/tot_tws_ca),1)\n",
    "        ]\n",
    "    }\n",
    ")\n",
    "fig = sns.barplot(x='Tipo', y='% Tweets', data=dis, order=['Plano', 'Foto', 'Link', 'Video'])\n",
    "ax=fig\n",
    "#annotate axis = seaborn axis\n",
    "for p in ax.patches:\n",
    "    ax.annotate(\"{0}%\".format(p.get_height()), (p.get_x() + p.get_width() / 2., p.get_height()),\n",
    "                 ha='center', va='center', fontsize=12, color='black', xytext=(0, 10),\n",
    "                 textcoords='offset points')\n",
    "_ = fig.set_ylim(0,100) #To make space for the annotations\n",
    "plt.show()"
   ]
  },
  {
   "cell_type": "markdown",
   "metadata": {},
   "source": [
    "## Hashtags más populares"
   ]
  },
  {
   "cell_type": "markdown",
   "metadata": {},
   "source": [
    "Lista de hashtag más comunes utilizados en tweets relacionados a los movimientos Honor Colorado y Colorado Añeteté."
   ]
  },
  {
   "cell_type": "markdown",
   "metadata": {},
   "source": [
    "### Top-5 hashtags relacionado a Honor Colorado"
   ]
  },
  {
   "cell_type": "code",
   "execution_count": 53,
   "metadata": {},
   "outputs": [
    {
     "data": {
      "text/html": [
       "<div>\n",
       "<style scoped>\n",
       "    .dataframe tbody tr th:only-of-type {\n",
       "        vertical-align: middle;\n",
       "    }\n",
       "\n",
       "    .dataframe tbody tr th {\n",
       "        vertical-align: top;\n",
       "    }\n",
       "\n",
       "    .dataframe thead th {\n",
       "        text-align: right;\n",
       "    }\n",
       "</style>\n",
       "<table border=\"1\" class=\"dataframe\">\n",
       "  <thead>\n",
       "    <tr style=\"text-align: right;\">\n",
       "      <th></th>\n",
       "      <th>1. Hashtag</th>\n",
       "      <th>2. Cantidad de Tweets</th>\n",
       "    </tr>\n",
       "  </thead>\n",
       "  <tbody>\n",
       "    <tr>\n",
       "      <th>0</th>\n",
       "      <td>#Lista2</td>\n",
       "      <td>3184</td>\n",
       "    </tr>\n",
       "    <tr>\n",
       "      <th>1</th>\n",
       "      <td>#SantiPresidente</td>\n",
       "      <td>3167</td>\n",
       "    </tr>\n",
       "    <tr>\n",
       "      <th>2</th>\n",
       "      <td>#SigamosConversando</td>\n",
       "      <td>1294</td>\n",
       "    </tr>\n",
       "    <tr>\n",
       "      <th>3</th>\n",
       "      <td>#HonorColorado</td>\n",
       "      <td>979</td>\n",
       "    </tr>\n",
       "    <tr>\n",
       "      <th>4</th>\n",
       "      <td>#ParaguayElige</td>\n",
       "      <td>759</td>\n",
       "    </tr>\n",
       "  </tbody>\n",
       "</table>\n",
       "</div>"
      ],
      "text/plain": [
       "            1. Hashtag  2. Cantidad de Tweets\n",
       "0              #Lista2                   3184\n",
       "1     #SantiPresidente                   3167\n",
       "2  #SigamosConversando                   1294\n",
       "3       #HonorColorado                    979\n",
       "4       #ParaguayElige                    759"
      ]
     },
     "execution_count": 53,
     "metadata": {},
     "output_type": "execute_result"
    }
   ],
   "source": [
    "additional_args = {'include_candidate':False, 'candidate_handler':'SantiPenap'}\n",
    "hashtags_hc = db.get_hashtags_by_movement('honor colorado', **additional_args)\n",
    "hashtags_populares_hc = []\n",
    "sum_total = 0\n",
    "for i in range(5):\n",
    "    hashtag = hashtags_hc[i]\n",
    "    sum_total += hashtag['count']\n",
    "    hashtag_dict = {'1. Hashtag': '#' + hashtag['hashtag'], '2. Cantidad de Tweets': hashtag['count']}\n",
    "    hashtags_populares_hc.append(hashtag_dict)\n",
    "pd.DataFrame(hashtags_populares_hc)"
   ]
  },
  {
   "cell_type": "markdown",
   "metadata": {},
   "source": [
    "### Top-5 hashtags relacionados a Colorado Añeteté"
   ]
  },
  {
   "cell_type": "code",
   "execution_count": 54,
   "metadata": {},
   "outputs": [
    {
     "data": {
      "text/html": [
       "<div>\n",
       "<style scoped>\n",
       "    .dataframe tbody tr th:only-of-type {\n",
       "        vertical-align: middle;\n",
       "    }\n",
       "\n",
       "    .dataframe tbody tr th {\n",
       "        vertical-align: top;\n",
       "    }\n",
       "\n",
       "    .dataframe thead th {\n",
       "        text-align: right;\n",
       "    }\n",
       "</style>\n",
       "<table border=\"1\" class=\"dataframe\">\n",
       "  <thead>\n",
       "    <tr style=\"text-align: right;\">\n",
       "      <th></th>\n",
       "      <th>1. Hashtag</th>\n",
       "      <th>2. Cantidad de Tweets</th>\n",
       "    </tr>\n",
       "  </thead>\n",
       "  <tbody>\n",
       "    <tr>\n",
       "      <th>0</th>\n",
       "      <td>#ParaguayDeLaGente</td>\n",
       "      <td>8421</td>\n",
       "    </tr>\n",
       "    <tr>\n",
       "      <th>1</th>\n",
       "      <td>#MaritoImparable</td>\n",
       "      <td>1404</td>\n",
       "    </tr>\n",
       "    <tr>\n",
       "      <th>2</th>\n",
       "      <td>#MaritoDeLaGente</td>\n",
       "      <td>1402</td>\n",
       "    </tr>\n",
       "    <tr>\n",
       "      <th>3</th>\n",
       "      <td>#ParaguayElige</td>\n",
       "      <td>645</td>\n",
       "    </tr>\n",
       "    <tr>\n",
       "      <th>4</th>\n",
       "      <td>#MaritoPresidente</td>\n",
       "      <td>560</td>\n",
       "    </tr>\n",
       "  </tbody>\n",
       "</table>\n",
       "</div>"
      ],
      "text/plain": [
       "           1. Hashtag  2. Cantidad de Tweets\n",
       "0  #ParaguayDeLaGente                   8421\n",
       "1    #MaritoImparable                   1404\n",
       "2    #MaritoDeLaGente                   1402\n",
       "3      #ParaguayElige                    645\n",
       "4   #MaritoPresidente                    560"
      ]
     },
     "execution_count": 54,
     "metadata": {},
     "output_type": "execute_result"
    }
   ],
   "source": [
    "additional_args = {'include_candidate':False, 'candidate_handler':'MaritoAbdo'}\n",
    "hashtags_ca = db.get_hashtags_by_movement('colorado añetete', **additional_args)\n",
    "hashtags_populares_ca = []\n",
    "for i in range(5):\n",
    "    hashtag = hashtags_ca[i]\n",
    "    hashtag_dict = {'1. Hashtag': '#' + hashtag['hashtag'], '2. Cantidad de Tweets': hashtag['count']}\n",
    "    hashtags_populares_ca.append(hashtag_dict)\n",
    "pd.DataFrame(hashtags_populares_ca)"
   ]
  },
  {
   "cell_type": "markdown",
   "metadata": {},
   "source": [
    "## Cantidad de tuiteros por movimiento"
   ]
  },
  {
   "cell_type": "markdown",
   "metadata": {},
   "source": [
    "Análisis de la cantidad de perfiles que publicaron tweets conteniendo los hashtags de los movimientos. Los conjuntos de perfiles no son mutuamente excluyente. En otros palabras, pueden existir perfiles que hayan realizado publicado tweets usando hashtags vinculados a ambos movimientos. "
   ]
  },
  {
   "cell_type": "markdown",
   "metadata": {},
   "source": [
    "### Honor Colorado"
   ]
  },
  {
   "cell_type": "code",
   "execution_count": 66,
   "metadata": {},
   "outputs": [
    {
     "name": "stdout",
     "output_type": "stream",
     "text": [
      "15663 usuarios tuitearon utilizando hashtags vinculados al movimiento Honor Colorado\n"
     ]
    }
   ],
   "source": [
    "search_args = {'movement':'honor colorado', 'party':'anr'}\n",
    "unique_users_hc = dbu.search(search_args, only_relevant_tws=False)\n",
    "print('{0} usuarios tuitearon utilizando hashtags vinculados al movimiento Honor Colorado'.\n",
    "      format(unique_users_hc.count()))"
   ]
  },
  {
   "cell_type": "markdown",
   "metadata": {},
   "source": [
    "#### Top-10 más activos con sus principales características y actividades"
   ]
  },
  {
   "cell_type": "code",
   "execution_count": 69,
   "metadata": {
    "scrolled": true
   },
   "outputs": [],
   "source": [
    "users = dbu.get_users_and_activity(**{'partido': 'anr', 'movimiento': 'honor colorado'})"
   ]
  },
  {
   "cell_type": "code",
   "execution_count": 70,
   "metadata": {},
   "outputs": [
    {
     "data": {
      "text/html": [
       "<div>\n",
       "<style scoped>\n",
       "    .dataframe tbody tr th:only-of-type {\n",
       "        vertical-align: middle;\n",
       "    }\n",
       "\n",
       "    .dataframe tbody tr th {\n",
       "        vertical-align: top;\n",
       "    }\n",
       "\n",
       "    .dataframe thead th {\n",
       "        text-align: right;\n",
       "    }\n",
       "</style>\n",
       "<table border=\"1\" class=\"dataframe\">\n",
       "  <thead>\n",
       "    <tr style=\"text-align: right;\">\n",
       "      <th></th>\n",
       "      <th>1.Usuario</th>\n",
       "      <th>2.Tweets</th>\n",
       "      <th>3.Originales</th>\n",
       "      <th>4.Retweets</th>\n",
       "      <th>5.Quotes</th>\n",
       "      <th>6.Replies</th>\n",
       "      <th>7.Followers</th>\n",
       "      <th>8.Friends</th>\n",
       "    </tr>\n",
       "  </thead>\n",
       "  <tbody>\n",
       "    <tr>\n",
       "      <th>0</th>\n",
       "      <td>CESARSANCHEZ553</td>\n",
       "      <td>952</td>\n",
       "      <td>0</td>\n",
       "      <td>754</td>\n",
       "      <td>0</td>\n",
       "      <td>198</td>\n",
       "      <td>17</td>\n",
       "      <td>132</td>\n",
       "    </tr>\n",
       "    <tr>\n",
       "      <th>1</th>\n",
       "      <td>Norabeli</td>\n",
       "      <td>941</td>\n",
       "      <td>1</td>\n",
       "      <td>734</td>\n",
       "      <td>2</td>\n",
       "      <td>204</td>\n",
       "      <td>1387</td>\n",
       "      <td>930</td>\n",
       "    </tr>\n",
       "    <tr>\n",
       "      <th>2</th>\n",
       "      <td>CesarSanchez636</td>\n",
       "      <td>802</td>\n",
       "      <td>0</td>\n",
       "      <td>646</td>\n",
       "      <td>0</td>\n",
       "      <td>156</td>\n",
       "      <td>155</td>\n",
       "      <td>651</td>\n",
       "    </tr>\n",
       "    <tr>\n",
       "      <th>3</th>\n",
       "      <td>Michelec1954</td>\n",
       "      <td>707</td>\n",
       "      <td>0</td>\n",
       "      <td>0</td>\n",
       "      <td>575</td>\n",
       "      <td>132</td>\n",
       "      <td>708</td>\n",
       "      <td>1484</td>\n",
       "    </tr>\n",
       "    <tr>\n",
       "      <th>4</th>\n",
       "      <td>gladysgulino</td>\n",
       "      <td>548</td>\n",
       "      <td>0</td>\n",
       "      <td>548</td>\n",
       "      <td>0</td>\n",
       "      <td>0</td>\n",
       "      <td>471</td>\n",
       "      <td>93</td>\n",
       "    </tr>\n",
       "    <tr>\n",
       "      <th>5</th>\n",
       "      <td>Radio970AM</td>\n",
       "      <td>535</td>\n",
       "      <td>96</td>\n",
       "      <td>11</td>\n",
       "      <td>5</td>\n",
       "      <td>423</td>\n",
       "      <td>211891</td>\n",
       "      <td>875</td>\n",
       "    </tr>\n",
       "    <tr>\n",
       "      <th>6</th>\n",
       "      <td>delgapy2016</td>\n",
       "      <td>529</td>\n",
       "      <td>0</td>\n",
       "      <td>485</td>\n",
       "      <td>0</td>\n",
       "      <td>44</td>\n",
       "      <td>79</td>\n",
       "      <td>461</td>\n",
       "    </tr>\n",
       "    <tr>\n",
       "      <th>7</th>\n",
       "      <td>SemideiOmar</td>\n",
       "      <td>527</td>\n",
       "      <td>8</td>\n",
       "      <td>3</td>\n",
       "      <td>0</td>\n",
       "      <td>516</td>\n",
       "      <td>419</td>\n",
       "      <td>277</td>\n",
       "    </tr>\n",
       "    <tr>\n",
       "      <th>8</th>\n",
       "      <td>ArturoO22734057</td>\n",
       "      <td>516</td>\n",
       "      <td>1</td>\n",
       "      <td>510</td>\n",
       "      <td>0</td>\n",
       "      <td>5</td>\n",
       "      <td>192</td>\n",
       "      <td>825</td>\n",
       "    </tr>\n",
       "    <tr>\n",
       "      <th>9</th>\n",
       "      <td>JavierSanchezPy</td>\n",
       "      <td>434</td>\n",
       "      <td>237</td>\n",
       "      <td>136</td>\n",
       "      <td>4</td>\n",
       "      <td>57</td>\n",
       "      <td>11151</td>\n",
       "      <td>1373</td>\n",
       "    </tr>\n",
       "  </tbody>\n",
       "</table>\n",
       "</div>"
      ],
      "text/plain": [
       "         1.Usuario  2.Tweets  3.Originales  4.Retweets  5.Quotes  6.Replies  \\\n",
       "0  CESARSANCHEZ553       952             0         754         0        198   \n",
       "1         Norabeli       941             1         734         2        204   \n",
       "2  CesarSanchez636       802             0         646         0        156   \n",
       "3     Michelec1954       707             0           0       575        132   \n",
       "4     gladysgulino       548             0         548         0          0   \n",
       "5       Radio970AM       535            96          11         5        423   \n",
       "6      delgapy2016       529             0         485         0         44   \n",
       "7      SemideiOmar       527             8           3         0        516   \n",
       "8  ArturoO22734057       516             1         510         0          5   \n",
       "9  JavierSanchezPy       434           237         136         4         57   \n",
       "\n",
       "   7.Followers  8.Friends  \n",
       "0           17        132  \n",
       "1         1387        930  \n",
       "2          155        651  \n",
       "3          708       1484  \n",
       "4          471         93  \n",
       "5       211891        875  \n",
       "6           79        461  \n",
       "7          419        277  \n",
       "8          192        825  \n",
       "9        11151       1373  "
      ]
     },
     "execution_count": 70,
     "metadata": {},
     "output_type": "execute_result"
    }
   ],
   "source": [
    "top10_tuiteros_hc = []\n",
    "for i in range(10):\n",
    "    tuitero_hc = {'1.Usuario': users[i]['screen_name'], \n",
    "                  '2.Tweets': users[i]['tweets'],\n",
    "                  '3.Originales': users[i]['original_tweets'],\n",
    "                  '4.Retweets': users[i]['rts'],\n",
    "                  '5.Quotes': users[i]['qts'],\n",
    "                  '6.Replies': users[i]['rps'],\n",
    "                  '7.Followers': users[i]['followers'],\n",
    "                  '8.Friends': users[i]['friends']}\n",
    "    top10_tuiteros_hc.append(tuitero_hc)\n",
    "pd.DataFrame(top10_tuiteros_hc)"
   ]
  },
  {
   "cell_type": "code",
   "execution_count": 72,
   "metadata": {},
   "outputs": [
    {
     "ename": "TweepError",
     "evalue": "Twitter error response: status code = 404",
     "output_type": "error",
     "traceback": [
      "\u001b[0;31m---------------------------------------------------------------------------\u001b[0m",
      "\u001b[0;31mTweepError\u001b[0m                                Traceback (most recent call last)",
      "\u001b[0;32m<ipython-input-72-8c2e87af5ab8>\u001b[0m in \u001b[0;36m<module>\u001b[0;34m()\u001b[0m\n\u001b[1;32m      1\u001b[0m \u001b[0;32mfrom\u001b[0m \u001b[0msrc\u001b[0m\u001b[0;34m.\u001b[0m\u001b[0mbot_detector\u001b[0m\u001b[0;34m.\u001b[0m\u001b[0mbot_detector\u001b[0m \u001b[0;32mimport\u001b[0m \u001b[0mBotDetector\u001b[0m\u001b[0;34m\u001b[0m\u001b[0m\n\u001b[1;32m      2\u001b[0m \u001b[0mbot_detector\u001b[0m \u001b[0;34m=\u001b[0m \u001b[0mBotDetector\u001b[0m\u001b[0;34m(\u001b[0m\u001b[0;34m)\u001b[0m\u001b[0;34m\u001b[0m\u001b[0m\n\u001b[0;32m----> 3\u001b[0;31m \u001b[0mbot_detector\u001b[0m\u001b[0;34m.\u001b[0m\u001b[0mcompute_bot_probability\u001b[0m\u001b[0;34m(\u001b[0m\u001b[0;34m[\u001b[0m\u001b[0;34m'CESARSANCHEZ553'\u001b[0m\u001b[0;34m]\u001b[0m\u001b[0;34m)\u001b[0m\u001b[0;34m\u001b[0m\u001b[0m\n\u001b[0m",
      "\u001b[0;32m~/Dropbox/Development/politic-bots/src/bot_detector/bot_detector.py\u001b[0m in \u001b[0;36mcompute_bot_probability\u001b[0;34m(self, users)\u001b[0m\n\u001b[1;32m     85\u001b[0m             \u001b[0musers\u001b[0m \u001b[0;34m=\u001b[0m \u001b[0mself\u001b[0m\u001b[0;34m.\u001b[0m\u001b[0m__dbm_users\u001b[0m\u001b[0;34m.\u001b[0m\u001b[0msearch\u001b[0m\u001b[0;34m(\u001b[0m\u001b[0;34m{\u001b[0m\u001b[0;34m}\u001b[0m\u001b[0;34m)\u001b[0m\u001b[0;34m\u001b[0m\u001b[0m\n\u001b[1;32m     86\u001b[0m         \u001b[0;32mfor\u001b[0m \u001b[0muser\u001b[0m \u001b[0;32min\u001b[0m \u001b[0musers\u001b[0m\u001b[0;34m:\u001b[0m\u001b[0;34m\u001b[0m\u001b[0m\n\u001b[0;32m---> 87\u001b[0;31m             \u001b[0mself\u001b[0m\u001b[0;34m.\u001b[0m\u001b[0m__check_heuristics\u001b[0m\u001b[0;34m(\u001b[0m\u001b[0muser\u001b[0m\u001b[0;34m)\u001b[0m\u001b[0;34m\u001b[0m\u001b[0m\n\u001b[0m\u001b[1;32m     88\u001b[0m \u001b[0;34m\u001b[0m\u001b[0m\n\u001b[1;32m     89\u001b[0m \u001b[0;34m\u001b[0m\u001b[0m\n",
      "\u001b[0;32m~/Dropbox/Development/politic-bots/src/bot_detector/bot_detector.py\u001b[0m in \u001b[0;36m__check_heuristics\u001b[0;34m(self, user_screen_name)\u001b[0m\n\u001b[1;32m     58\u001b[0m         \u001b[0;31m# to understand the data of users available in the tweet objects\u001b[0m\u001b[0;34m\u001b[0m\u001b[0;34m\u001b[0m\u001b[0m\n\u001b[1;32m     59\u001b[0m         \u001b[0muser_obj\u001b[0m \u001b[0;34m=\u001b[0m \u001b[0mget_user\u001b[0m\u001b[0;34m(\u001b[0m\u001b[0mself\u001b[0m\u001b[0;34m.\u001b[0m\u001b[0m__dbm_tweets\u001b[0m\u001b[0;34m,\u001b[0m \u001b[0muser_screen_name\u001b[0m\u001b[0;34m)\u001b[0m\u001b[0;34m\u001b[0m\u001b[0m\n\u001b[0;32m---> 60\u001b[0;31m         \u001b[0muser_timeline\u001b[0m \u001b[0;34m=\u001b[0m \u001b[0mself\u001b[0m\u001b[0;34m.\u001b[0m\u001b[0m__get_timeline\u001b[0m\u001b[0;34m(\u001b[0m\u001b[0muser_screen_name\u001b[0m\u001b[0;34m)\u001b[0m\u001b[0;34m\u001b[0m\u001b[0m\n\u001b[0m\u001b[1;32m     61\u001b[0m         \u001b[0mbot_score\u001b[0m \u001b[0;34m+=\u001b[0m \u001b[0mis_retweet_bot\u001b[0m\u001b[0;34m(\u001b[0m\u001b[0muser_timeline\u001b[0m\u001b[0;34m)\u001b[0m\u001b[0;34m\u001b[0m\u001b[0m\n\u001b[1;32m     62\u001b[0m         \u001b[0mheuristic_counter\u001b[0m \u001b[0;34m+=\u001b[0m \u001b[0;36m1\u001b[0m\u001b[0;34m\u001b[0m\u001b[0m\n",
      "\u001b[0;32m~/Dropbox/Development/politic-bots/src/bot_detector/bot_detector.py\u001b[0m in \u001b[0;36m__get_timeline\u001b[0;34m(self, user)\u001b[0m\n\u001b[1;32m     39\u001b[0m         \"\"\"\n\u001b[1;32m     40\u001b[0m         \u001b[0mtimeline\u001b[0m \u001b[0;34m=\u001b[0m \u001b[0;34m[\u001b[0m\u001b[0;34m]\u001b[0m\u001b[0;34m\u001b[0m\u001b[0m\n\u001b[0;32m---> 41\u001b[0;31m         \u001b[0;32mfor\u001b[0m \u001b[0mstatus\u001b[0m \u001b[0;32min\u001b[0m \u001b[0mtweepy\u001b[0m\u001b[0;34m.\u001b[0m\u001b[0mCursor\u001b[0m\u001b[0;34m(\u001b[0m\u001b[0mself\u001b[0m\u001b[0;34m.\u001b[0m\u001b[0m__api\u001b[0m\u001b[0;34m.\u001b[0m\u001b[0muser_timeline\u001b[0m\u001b[0;34m,\u001b[0m \u001b[0mscreen_name\u001b[0m\u001b[0;34m=\u001b[0m\u001b[0muser\u001b[0m\u001b[0;34m)\u001b[0m\u001b[0;34m.\u001b[0m\u001b[0mitems\u001b[0m\u001b[0;34m(\u001b[0m\u001b[0;34m)\u001b[0m\u001b[0;34m:\u001b[0m\u001b[0;34m\u001b[0m\u001b[0m\n\u001b[0m\u001b[1;32m     42\u001b[0m             timeline_data = {'tweet_creation': status._json['created_at'],\n\u001b[1;32m     43\u001b[0m                              'text': status._json['text']}\n",
      "\u001b[0;32m~/Dropbox/Development/politic-bots/env/lib/python3.4/site-packages/tweepy/cursor.py\u001b[0m in \u001b[0;36m__next__\u001b[0;34m(self)\u001b[0m\n\u001b[1;32m     47\u001b[0m \u001b[0;34m\u001b[0m\u001b[0m\n\u001b[1;32m     48\u001b[0m     \u001b[0;32mdef\u001b[0m \u001b[0m__next__\u001b[0m\u001b[0;34m(\u001b[0m\u001b[0mself\u001b[0m\u001b[0;34m)\u001b[0m\u001b[0;34m:\u001b[0m\u001b[0;34m\u001b[0m\u001b[0m\n\u001b[0;32m---> 49\u001b[0;31m         \u001b[0;32mreturn\u001b[0m \u001b[0mself\u001b[0m\u001b[0;34m.\u001b[0m\u001b[0mnext\u001b[0m\u001b[0;34m(\u001b[0m\u001b[0;34m)\u001b[0m\u001b[0;34m\u001b[0m\u001b[0m\n\u001b[0m\u001b[1;32m     50\u001b[0m \u001b[0;34m\u001b[0m\u001b[0m\n\u001b[1;32m     51\u001b[0m     \u001b[0;32mdef\u001b[0m \u001b[0mnext\u001b[0m\u001b[0;34m(\u001b[0m\u001b[0mself\u001b[0m\u001b[0;34m)\u001b[0m\u001b[0;34m:\u001b[0m\u001b[0;34m\u001b[0m\u001b[0m\n",
      "\u001b[0;32m~/Dropbox/Development/politic-bots/env/lib/python3.4/site-packages/tweepy/cursor.py\u001b[0m in \u001b[0;36mnext\u001b[0;34m(self)\u001b[0m\n\u001b[1;32m    195\u001b[0m         \u001b[0;32mif\u001b[0m \u001b[0mself\u001b[0m\u001b[0;34m.\u001b[0m\u001b[0mcurrent_page\u001b[0m \u001b[0;32mis\u001b[0m \u001b[0;32mNone\u001b[0m \u001b[0;32mor\u001b[0m \u001b[0mself\u001b[0m\u001b[0;34m.\u001b[0m\u001b[0mpage_index\u001b[0m \u001b[0;34m==\u001b[0m \u001b[0mlen\u001b[0m\u001b[0;34m(\u001b[0m\u001b[0mself\u001b[0m\u001b[0;34m.\u001b[0m\u001b[0mcurrent_page\u001b[0m\u001b[0;34m)\u001b[0m \u001b[0;34m-\u001b[0m \u001b[0;36m1\u001b[0m\u001b[0;34m:\u001b[0m\u001b[0;34m\u001b[0m\u001b[0m\n\u001b[1;32m    196\u001b[0m             \u001b[0;31m# Reached end of current page, get the next page...\u001b[0m\u001b[0;34m\u001b[0m\u001b[0;34m\u001b[0m\u001b[0m\n\u001b[0;32m--> 197\u001b[0;31m             \u001b[0mself\u001b[0m\u001b[0;34m.\u001b[0m\u001b[0mcurrent_page\u001b[0m \u001b[0;34m=\u001b[0m \u001b[0mself\u001b[0m\u001b[0;34m.\u001b[0m\u001b[0mpage_iterator\u001b[0m\u001b[0;34m.\u001b[0m\u001b[0mnext\u001b[0m\u001b[0;34m(\u001b[0m\u001b[0;34m)\u001b[0m\u001b[0;34m\u001b[0m\u001b[0m\n\u001b[0m\u001b[1;32m    198\u001b[0m             \u001b[0mself\u001b[0m\u001b[0;34m.\u001b[0m\u001b[0mpage_index\u001b[0m \u001b[0;34m=\u001b[0m \u001b[0;34m-\u001b[0m\u001b[0;36m1\u001b[0m\u001b[0;34m\u001b[0m\u001b[0m\n\u001b[1;32m    199\u001b[0m         \u001b[0mself\u001b[0m\u001b[0;34m.\u001b[0m\u001b[0mpage_index\u001b[0m \u001b[0;34m+=\u001b[0m \u001b[0;36m1\u001b[0m\u001b[0;34m\u001b[0m\u001b[0m\n",
      "\u001b[0;32m~/Dropbox/Development/politic-bots/env/lib/python3.4/site-packages/tweepy/cursor.py\u001b[0m in \u001b[0;36mnext\u001b[0;34m(self)\u001b[0m\n\u001b[1;32m    106\u001b[0m \u001b[0;34m\u001b[0m\u001b[0m\n\u001b[1;32m    107\u001b[0m         \u001b[0;32mif\u001b[0m \u001b[0mself\u001b[0m\u001b[0;34m.\u001b[0m\u001b[0mindex\u001b[0m \u001b[0;34m>=\u001b[0m \u001b[0mlen\u001b[0m\u001b[0;34m(\u001b[0m\u001b[0mself\u001b[0m\u001b[0;34m.\u001b[0m\u001b[0mresults\u001b[0m\u001b[0;34m)\u001b[0m \u001b[0;34m-\u001b[0m \u001b[0;36m1\u001b[0m\u001b[0;34m:\u001b[0m\u001b[0;34m\u001b[0m\u001b[0m\n\u001b[0;32m--> 108\u001b[0;31m             \u001b[0mdata\u001b[0m \u001b[0;34m=\u001b[0m \u001b[0mself\u001b[0m\u001b[0;34m.\u001b[0m\u001b[0mmethod\u001b[0m\u001b[0;34m(\u001b[0m\u001b[0mmax_id\u001b[0m\u001b[0;34m=\u001b[0m\u001b[0mself\u001b[0m\u001b[0;34m.\u001b[0m\u001b[0mmax_id\u001b[0m\u001b[0;34m,\u001b[0m \u001b[0mparser\u001b[0m\u001b[0;34m=\u001b[0m\u001b[0mRawParser\u001b[0m\u001b[0;34m(\u001b[0m\u001b[0;34m)\u001b[0m\u001b[0;34m,\u001b[0m \u001b[0;34m*\u001b[0m\u001b[0mself\u001b[0m\u001b[0;34m.\u001b[0m\u001b[0margs\u001b[0m\u001b[0;34m,\u001b[0m \u001b[0;34m**\u001b[0m\u001b[0mself\u001b[0m\u001b[0;34m.\u001b[0m\u001b[0mkargs\u001b[0m\u001b[0;34m)\u001b[0m\u001b[0;34m\u001b[0m\u001b[0m\n\u001b[0m\u001b[1;32m    109\u001b[0m \u001b[0;34m\u001b[0m\u001b[0m\n\u001b[1;32m    110\u001b[0m             \u001b[0;32mif\u001b[0m \u001b[0mhasattr\u001b[0m\u001b[0;34m(\u001b[0m\u001b[0mself\u001b[0m\u001b[0;34m.\u001b[0m\u001b[0mmethod\u001b[0m\u001b[0;34m,\u001b[0m \u001b[0;34m'__self__'\u001b[0m\u001b[0;34m)\u001b[0m\u001b[0;34m:\u001b[0m\u001b[0;34m\u001b[0m\u001b[0m\n",
      "\u001b[0;32m~/Dropbox/Development/politic-bots/env/lib/python3.4/site-packages/tweepy/binder.py\u001b[0m in \u001b[0;36m_call\u001b[0;34m(*args, **kwargs)\u001b[0m\n\u001b[1;32m    243\u001b[0m             \u001b[0;32mreturn\u001b[0m \u001b[0mmethod\u001b[0m\u001b[0;34m\u001b[0m\u001b[0m\n\u001b[1;32m    244\u001b[0m         \u001b[0;32melse\u001b[0m\u001b[0;34m:\u001b[0m\u001b[0;34m\u001b[0m\u001b[0m\n\u001b[0;32m--> 245\u001b[0;31m             \u001b[0;32mreturn\u001b[0m \u001b[0mmethod\u001b[0m\u001b[0;34m.\u001b[0m\u001b[0mexecute\u001b[0m\u001b[0;34m(\u001b[0m\u001b[0;34m)\u001b[0m\u001b[0;34m\u001b[0m\u001b[0m\n\u001b[0m\u001b[1;32m    246\u001b[0m \u001b[0;34m\u001b[0m\u001b[0m\n\u001b[1;32m    247\u001b[0m     \u001b[0;31m# Set pagination mode\u001b[0m\u001b[0;34m\u001b[0m\u001b[0;34m\u001b[0m\u001b[0m\n",
      "\u001b[0;32m~/Dropbox/Development/politic-bots/env/lib/python3.4/site-packages/tweepy/binder.py\u001b[0m in \u001b[0;36mexecute\u001b[0;34m(self)\u001b[0m\n\u001b[1;32m    227\u001b[0m                     \u001b[0;32mraise\u001b[0m \u001b[0mRateLimitError\u001b[0m\u001b[0;34m(\u001b[0m\u001b[0merror_msg\u001b[0m\u001b[0;34m,\u001b[0m \u001b[0mresp\u001b[0m\u001b[0;34m)\u001b[0m\u001b[0;34m\u001b[0m\u001b[0m\n\u001b[1;32m    228\u001b[0m                 \u001b[0;32melse\u001b[0m\u001b[0;34m:\u001b[0m\u001b[0;34m\u001b[0m\u001b[0m\n\u001b[0;32m--> 229\u001b[0;31m                     \u001b[0;32mraise\u001b[0m \u001b[0mTweepError\u001b[0m\u001b[0;34m(\u001b[0m\u001b[0merror_msg\u001b[0m\u001b[0;34m,\u001b[0m \u001b[0mresp\u001b[0m\u001b[0;34m,\u001b[0m \u001b[0mapi_code\u001b[0m\u001b[0;34m=\u001b[0m\u001b[0mapi_error_code\u001b[0m\u001b[0;34m)\u001b[0m\u001b[0;34m\u001b[0m\u001b[0m\n\u001b[0m\u001b[1;32m    230\u001b[0m \u001b[0;34m\u001b[0m\u001b[0m\n\u001b[1;32m    231\u001b[0m             \u001b[0;31m# Parse the response payload\u001b[0m\u001b[0;34m\u001b[0m\u001b[0;34m\u001b[0m\u001b[0m\n",
      "\u001b[0;31mTweepError\u001b[0m: Twitter error response: status code = 404"
     ]
    }
   ],
   "source": [
    "from src.bot_detector.bot_detector import BotDetector\n",
    "bot_detector = BotDetector()\n",
    "bot_detector.compute_bot_probability(['CESARSANCHEZ553'])"
   ]
  },
  {
   "cell_type": "markdown",
   "metadata": {},
   "source": [
    "### Colorado Añeteté"
   ]
  },
  {
   "cell_type": "code",
   "execution_count": 9,
   "metadata": {},
   "outputs": [
    {
     "name": "stdout",
     "output_type": "stream",
     "text": [
      "7484 usuarios tuitearon utilizando hashtags vinculados al movimiento Colorado Aneteté\n"
     ]
    }
   ],
   "source": [
    "search_args = {'movement':'colorado añetete', 'party':'anr'}\n",
    "unique_users_ca = dbu.search(search_args, only_relevant_tws=False)\n",
    "print('{0} usuarios tuitearon utilizando hashtags vinculados al movimiento Colorado Aneteté'.\n",
    "      format(unique_users_ca.count()))"
   ]
  },
  {
   "cell_type": "markdown",
   "metadata": {},
   "source": [
    "#### Top-10 más activos y sus actividades"
   ]
  },
  {
   "cell_type": "code",
   "execution_count": 10,
   "metadata": {
    "scrolled": true
   },
   "outputs": [
    {
     "data": {
      "text/html": [
       "<div>\n",
       "<style scoped>\n",
       "    .dataframe tbody tr th:only-of-type {\n",
       "        vertical-align: middle;\n",
       "    }\n",
       "\n",
       "    .dataframe tbody tr th {\n",
       "        vertical-align: top;\n",
       "    }\n",
       "\n",
       "    .dataframe thead th {\n",
       "        text-align: right;\n",
       "    }\n",
       "</style>\n",
       "<table border=\"1\" class=\"dataframe\">\n",
       "  <thead>\n",
       "    <tr style=\"text-align: right;\">\n",
       "      <th></th>\n",
       "      <th>1.Usuario</th>\n",
       "      <th>2.Tweets</th>\n",
       "      <th>3.Originales</th>\n",
       "      <th>4.Retweets</th>\n",
       "      <th>5.Quotes</th>\n",
       "      <th>6.Replies</th>\n",
       "      <th>7.Followers</th>\n",
       "      <th>8.Friends</th>\n",
       "    </tr>\n",
       "  </thead>\n",
       "  <tbody>\n",
       "    <tr>\n",
       "      <th>0</th>\n",
       "      <td>Paraguaynosune</td>\n",
       "      <td>856</td>\n",
       "      <td>0</td>\n",
       "      <td>856</td>\n",
       "      <td>0</td>\n",
       "      <td>0</td>\n",
       "      <td>174</td>\n",
       "      <td>520</td>\n",
       "    </tr>\n",
       "    <tr>\n",
       "      <th>1</th>\n",
       "      <td>Beatriz20D</td>\n",
       "      <td>854</td>\n",
       "      <td>0</td>\n",
       "      <td>743</td>\n",
       "      <td>2</td>\n",
       "      <td>109</td>\n",
       "      <td>739</td>\n",
       "      <td>210</td>\n",
       "    </tr>\n",
       "    <tr>\n",
       "      <th>2</th>\n",
       "      <td>Solmelga</td>\n",
       "      <td>540</td>\n",
       "      <td>138</td>\n",
       "      <td>330</td>\n",
       "      <td>1</td>\n",
       "      <td>71</td>\n",
       "      <td>4790</td>\n",
       "      <td>5323</td>\n",
       "    </tr>\n",
       "    <tr>\n",
       "      <th>3</th>\n",
       "      <td>1000_am</td>\n",
       "      <td>421</td>\n",
       "      <td>148</td>\n",
       "      <td>78</td>\n",
       "      <td>1</td>\n",
       "      <td>194</td>\n",
       "      <td>368</td>\n",
       "      <td>93115</td>\n",
       "    </tr>\n",
       "    <tr>\n",
       "      <th>4</th>\n",
       "      <td>felixugarte</td>\n",
       "      <td>373</td>\n",
       "      <td>0</td>\n",
       "      <td>367</td>\n",
       "      <td>0</td>\n",
       "      <td>6</td>\n",
       "      <td>369</td>\n",
       "      <td>499</td>\n",
       "    </tr>\n",
       "    <tr>\n",
       "      <th>5</th>\n",
       "      <td>LaJusticierra</td>\n",
       "      <td>344</td>\n",
       "      <td>2</td>\n",
       "      <td>258</td>\n",
       "      <td>0</td>\n",
       "      <td>84</td>\n",
       "      <td>1262</td>\n",
       "      <td>3344</td>\n",
       "    </tr>\n",
       "    <tr>\n",
       "      <th>6</th>\n",
       "      <td>MaritoAbdo</td>\n",
       "      <td>270</td>\n",
       "      <td>228</td>\n",
       "      <td>42</td>\n",
       "      <td>0</td>\n",
       "      <td>0</td>\n",
       "      <td>501</td>\n",
       "      <td>101326</td>\n",
       "    </tr>\n",
       "    <tr>\n",
       "      <th>7</th>\n",
       "      <td>jjrios_bogado</td>\n",
       "      <td>264</td>\n",
       "      <td>29</td>\n",
       "      <td>233</td>\n",
       "      <td>0</td>\n",
       "      <td>2</td>\n",
       "      <td>777</td>\n",
       "      <td>1870</td>\n",
       "    </tr>\n",
       "    <tr>\n",
       "      <th>8</th>\n",
       "      <td>EDITHVILLA3</td>\n",
       "      <td>246</td>\n",
       "      <td>5</td>\n",
       "      <td>193</td>\n",
       "      <td>0</td>\n",
       "      <td>48</td>\n",
       "      <td>1117</td>\n",
       "      <td>598</td>\n",
       "    </tr>\n",
       "    <tr>\n",
       "      <th>9</th>\n",
       "      <td>totoclerch</td>\n",
       "      <td>245</td>\n",
       "      <td>5</td>\n",
       "      <td>168</td>\n",
       "      <td>4</td>\n",
       "      <td>68</td>\n",
       "      <td>1025</td>\n",
       "      <td>1580</td>\n",
       "    </tr>\n",
       "  </tbody>\n",
       "</table>\n",
       "</div>"
      ],
      "text/plain": [
       "        1.Usuario  2.Tweets  3.Originales  4.Retweets  5.Quotes  6.Replies  \\\n",
       "0  Paraguaynosune       856             0         856         0          0   \n",
       "1      Beatriz20D       854             0         743         2        109   \n",
       "2        Solmelga       540           138         330         1         71   \n",
       "3         1000_am       421           148          78         1        194   \n",
       "4     felixugarte       373             0         367         0          6   \n",
       "5   LaJusticierra       344             2         258         0         84   \n",
       "6      MaritoAbdo       270           228          42         0          0   \n",
       "7   jjrios_bogado       264            29         233         0          2   \n",
       "8     EDITHVILLA3       246             5         193         0         48   \n",
       "9      totoclerch       245             5         168         4         68   \n",
       "\n",
       "   7.Followers  8.Friends  \n",
       "0          174        520  \n",
       "1          739        210  \n",
       "2         4790       5323  \n",
       "3          368      93115  \n",
       "4          369        499  \n",
       "5         1262       3344  \n",
       "6          501     101326  \n",
       "7          777       1870  \n",
       "8         1117        598  \n",
       "9         1025       1580  "
      ]
     },
     "execution_count": 10,
     "metadata": {},
     "output_type": "execute_result"
    }
   ],
   "source": [
    "users = dbu.get_users_and_activity(**{'partido': 'anr', 'movimiento': 'colorado añetete'})\n",
    "top10_tuiteros_ca = []\n",
    "for i in range(10):\n",
    "    tuitero_ca = {'1.Usuario': users[i]['screen_name'], \n",
    "                  '2.Tweets': users[i]['tweets'],\n",
    "                  '3.Originales': users[i]['original_tweets'],\n",
    "                  '4.Retweets': users[i]['rts'],\n",
    "                  '5.Quotes': users[i]['qts'],\n",
    "                  '6.Replies': users[i]['rps'],\n",
    "                  '7.Followers': users[i]['friends'],\n",
    "                  '8.Friends': users[i]['followers']}\n",
    "    top10_tuiteros_ca.append(tuitero_ca)\n",
    "pd.DataFrame(top10_tuiteros_ca)"
   ]
  },
  {
   "cell_type": "code",
   "execution_count": 13,
   "metadata": {
    "scrolled": true
   },
   "outputs": [
    {
     "data": {
      "image/png": "[encoded data removed]",
      "text/plain": [
       "<matplotlib.figure.Figure at 0x1145787f0>"
      ]
     },
     "metadata": {
      "needs_background": "light"
     },
     "output_type": "display_data"
    }
   ],
   "source": [
    "tuiteros_por_movimiento = pd.DataFrame({\n",
    "    'Movimiento': ['Honor Colorado', 'Colorado Añeteté'],\n",
    "    'Tuiteros': [unique_users_hc.count(), unique_users_ca.count()]\n",
    "}, index=['hc', 'ca'])\n",
    "fig = sns.barplot(x='Movimiento', y='Tuiteros', data=tuiteros_por_movimiento, palette=\"Reds_d\")\n",
    "for p in fig.patches:\n",
    "    fig.annotate(\"%d\" % p.get_height(), (p.get_x() + p.get_width() / 2., p.get_height()),\n",
    "                 ha='center', va='center', fontsize=12, color='black', xytext=(0, 10),\n",
    "                 textcoords='offset points')\n",
    "_ = fig.set_ylim(0,17500) #To make space for the annotations\n",
    "plt.show()"
   ]
  },
  {
   "cell_type": "markdown",
   "metadata": {},
   "source": [
    "Como se podría esperar la cantidad de perfiles que publicaron tweets utilizando hashtags vinculados al movimiento **`Honor Colorado`** (15.663, 67% del total de perfiles vinculados a la ANR) es ampliamente superior al de **`Colorado Añeteté`** (7.484, 32% del total ANR). **Por cada tuitero de `Colorado Añeteté` existen 2 tuiteros de `Honor Colorado`**. La diferencia en la cantidad de tuiteros se puede percibir también en la cantidad de tweets de cada movimiento; **`Honor Colorado`** tiene casi el doble de tweets que **`Colorado Añeteté`**. Un aspecto a notar aquí es que existen 98 perfiles que publicaron tweets usando hashtags relacionados al partido colorado pero a ningún movimiento en particular.\n",
    "\n",
    "Otro aspecto destacable es el tipo de actividad que realizan tanto los tuiteros. Comparando las actividades de los perfiles más activos en ambos movimiento se nota que en la mayoría de los casos, **los tuiteros más activos no realizan publicaciones propias** sino más bien se ocupan de realizar retweets. En otras palabras, la principal actividad de estos usuarios es amplificar y promocionar información relacionada a sus intereses. **Este comportamiento es típico de bots y cuentas falsas**. Los perfiles más activos de **`Honor Colorado`** se destacan además por su importante volumen de respuestas, esto puede deberse a que estas cuentas se utilizaron prinicipalmente para entrar en debates o responder a publicaciones en contra de los intereses de este movimiento. "
   ]
  },
  {
   "cell_type": "markdown",
   "metadata": {},
   "source": [
    "## Red de interacciones entre perfiles"
   ]
  },
  {
   "cell_type": "markdown",
   "metadata": {},
   "source": [
    "Como parte del estudio realizamos un análisis sobre la red de perfiles que publicaron tweets utilizando hashtags relacionados a la interna del partido colorado. El análisis lo centramos en las interacciones entre los perfiles, no en las relaciones entre ellos (seguidores, seguidos). Consideramos que A tuvo una interacción con B si i) publicó un tweet mencionando a B; ii) retuiteo un tweet publicado por B; iii) citó (quote) un tweet publicado por B; iv) respondió un tweet publicado por B.\n",
    "\n",
    "Al generar la **red de interacciones** encontramos que de la misma forman parte **23.710 perfiles** que se comunicaron entre si 84.996 veces en el período de Noviembre a Enero 2018, el promedio de interacciones de un perfil en la red es 3,58. La cantidad de perfiles en la red supera en 465 el total de perfiles relacionados a la ANR. Esto se debe principalmente a que la red también incluye perfiles vinculados a otros partidos que realizaron interacciones con los de la ANR.\n",
    "\n",
    "El perfil `CESARSANCHEZ553` fue el que más interacciones generó (463), seguido por `CesarSanchez636` (378), y `Norabeli` (354), todos vinculados principalmente al movimiento `Honor Colorado`. `Santula` (4.661), `MaritoAbdo` (4.636), y `SantiPenap` (4.532) fueron los perfiles que más interacciones recibieron, esto es menciones, retweets, replies, quotes. Es interesante notar el rol tan preponderante del periodista Santiago González (Santula). En el último mes de campaña Santula atrajo inclusive más interacciones que los mismos candidatos a la presidencia."
   ]
  },
  {
   "cell_type": "markdown",
   "metadata": {},
   "source": [
    "![Red Interacciones](../../sna/img/internas-anr-red.png)"
   ]
  },
  {
   "cell_type": "markdown",
   "metadata": {},
   "source": [
    "El gráfico muestra la parte más significativa de la red de interacciones. Los perfiles son ilustrados por medio de círculos, los cuales toman principalmente dos colores. Los circulos `rojo claro` represetan perfiles cuyas interacciones contenian mayoritariamente hashtags o menciones asociadas al movimiento **`Honor Colorado`**. El `rojo oscuro` se utiliza para respresentar perfiles que principalmente participaron de comunicaciones donde se utilizaron hashtags o menciones vinculadas a la campaña del movimiento **`Colorado Añeteté`**. Existen círculo de otros colores como azul, naranja, o verde utilizados para representar otros movimientos de la ANR como el progresista colorado pero estos son irrelevantes dentro de la red.\n",
    "\n",
    "El **tamaño de los círculos** es proporcional al número de interacciones del perfil. Así perfiles que representados por círculos grandes (p. ej., MaritoAbdo, Horacio_Cartes, SantiPenap) son muy relevantes dentro de la red por la gran cantidad de interacciones en las que se vieron envueltos. Además de tamaño y color, los círculos se encuentran etiquetados con el nombre de perfil. El tamaño de la etiqueta es proporcional al tamaño del círculo, así perfiles importantes, con muchas interacciones, tienen asociados etiquetas más grandes.\n",
    "\n",
    "Como era de esperarse la red está dominada por perfiles que utilizaron en sus interacciones hashtags vinculados al movimiento **`Honor Colorado`**. Vimos anteriormente que estos son mayoría en el conjunto de datos. Los perfiles del movimiento **`Colorado Añeteté`** se encuentran principalmente en un sector acotado de la red y muy cercanos al perfil del candidato de este movimiento. Otra característica esperable de la red es la influencia de los perfiles de los candidatos a presidente, **Mario Abdo (`MaritoAbdo`)** y **Santiago Peña (`SantiPenap`)**. Es de notar también la importancia en la red del líder del movimiento **`Honor Colorado`**, **Horacio Cartes (`Horacio_Cartes`)**, demostrando que se vió involucrado --- esto es, menciones, retweets, replies, etc --- en gran parte de las interacciones, especialmente en las de su movimiento.\n",
    "\n",
    "Un aspecto sorpresivo y a destacar es la importancia en la red de los periodistas **Santiago González (`Santula`)** y **Luis Bareiro (`LuisBareiro`)**. Por el color de los círculos utilizados para representar su perfiles podemos notar que principalmente los mismo se vieron involucrados en interacciones que mayoritariamente incluían hashtags menciones a los perfiles de los candidatos del movimiento oficialista **`Honor Colorado`**. Considerando la posición crítica de estos periodistas hacia el gobierno, es difícil imaginar que los mismos hayan utilizado twitter para promocionar las candidaturas de este movimiento, es más probable, sin embargo, que González y Bareiro se hayan visto involucrados en discusiones con seguidores de HC a raiz de comentarios críticos hacia el gobierno, el candidato a presidente, o el grupo político ligado a **`Honor Colorado`**. Profundizaremos en este aspecto más adelante."
   ]
  },
  {
   "cell_type": "markdown",
   "metadata": {},
   "source": [
    "### Honor Colorado"
   ]
  },
  {
   "cell_type": "markdown",
   "metadata": {},
   "source": [
    "La red de interacciones del movimiento **`Honor Colorado`** está compuesta por **15.809 perfiles** (66.68% del total) que realizaron 47.436 interacciones (56% del total). En promedio, los perfiles de la red de **`Honor Colorado`** realizan 3 interacciones. `SantiPenap` (4.122), `Santula` (3.490), y `Horacio_Cartes` (3.173) son los tres perfiles que más interacciones recibieron. Lo de Peña y Cartes es entendible, lo de `Santula` es llamativo. Conociendo su postura crítica al candidato oficialista y al gobierno es de suponer que las interacciones no deberieron ser muy positivas. En una misma situación se encuentra Luis Bareiro (`LuisBareiro`), que después del perfil del presidente de la república, es el que más interacciones recibió (2.543).\n",
    "\n",
    "También es notorio la importancia en la red de perfiles muy críticos al gobierno como el de la Senadora Desireè Masi (`desimasi2`), quién en este período recibió 877 interacciones (menciones, respuestas, citaciones, retweets). También se destaca el perfil del canal de televisión Telefuturo (`TelefuturoInfo`), quién recibió más de 1.000 interacciones de cuentas vinculas al movimiento oficialista. Cabe destacar que la línea editorial del canal Telefuturo fue una de las más críticas al gobierno durante la crisis de la enmienda. El perfil de la radio ABC Cardinal (`ABCCardinal`) y del periodística de esta radio Javier Sánchez (`JavierSanchezPy`) se destacan también como relevantes dentro de la red del movimiento **`Honor Colorado`**."
   ]
  },
  {
   "cell_type": "markdown",
   "metadata": {},
   "source": [
    "![Red Interacciones](../../sna/img/internas-anr-hc-red.png)"
   ]
  },
  {
   "cell_type": "markdown",
   "metadata": {},
   "source": [
    "## Colorado Añeteté"
   ]
  },
  {
   "cell_type": "markdown",
   "metadata": {},
   "source": [
    "Aproximadamente 33% del total de perfiles (**7.629**) de la red de interacciones de la ANR está compuesta por cuenta relacionadas al movimiento **`Colorado Añeteté`**. Estos perfiles interactuaron 14.333 veces durante el último mes de campaña y los primeros días de Enero de 2018. En promedio los perfiles realizaron 1.87 interacciones. Como era de esperarse y se puede notar en la gráfica, la red de **`Colorado Añeteté`** está fuertemente centrada en la figura del candidato a presidente Mario Abdo (`MaritoAbdo`). Esto lo confirman las casi 3.500 interacciones que recibió.\n",
    "\n",
    "Aunque muy por debajo de Abdo, otros perfiles en la red de **`Colorado Añeteté`** que recibieron una importante cantidad de interacciones son `JuanAfara` (485), `enriquevp` (450), y `minaftv` (324). `Paraguaynosune` es el perfil que más interacciones generó (167) seguido de `Solmega` (92) y `Beatriz20D` (75)."
   ]
  },
  {
   "cell_type": "markdown",
   "metadata": {},
   "source": [
    "![Red Interacciones](../../sna/img/internas-anr-ca-red.png)"
   ]
  },
  {
   "cell_type": "markdown",
   "metadata": {},
   "source": [
    "## Interacciones alrededor de perfiles relevantes"
   ]
  },
  {
   "cell_type": "markdown",
   "metadata": {},
   "source": [
    "Aquí analizaremos las interacciones alrededor de perfiles relevantes en la red pero no directamente vinculados a la campaña electoral de las internas de la ANR, p.ej., `Santula`, `LuisBareiro`, `enriquevp`, `desimasi2`."
   ]
  },
  {
   "cell_type": "markdown",
   "metadata": {},
   "source": [
    "### Santiago González (Santula)"
   ]
  },
  {
   "cell_type": "code",
   "execution_count": 13,
   "metadata": {},
   "outputs": [],
   "source": [
    "na = NetworkAnalyzer()\n",
    "inter_santula = na.get_interactions('Santula')"
   ]
  },
  {
   "cell_type": "markdown",
   "metadata": {},
   "source": [
    "#### Interacciones generadas"
   ]
  },
  {
   "cell_type": "markdown",
   "metadata": {},
   "source": [
    "Las interacciones generadas son todas aquellas publicaciones realizadas por el usuario. Esto comprende los tweets originales, los retweets, las respuestas a tweets, y las citaciones"
   ]
  },
  {
   "cell_type": "code",
   "execution_count": 17,
   "metadata": {},
   "outputs": [
    {
     "name": "stdout",
     "output_type": "stream",
     "text": [
      "145 tweets; 24 retweets, 6 respuestas, 111 menciones, y 4 citaciones\n"
     ]
    }
   ],
   "source": [
    "print('{0} tweets; {1} retweets, {2} respuestas, {3} menciones, y {4} citaciones'. \\\n",
    "      format(inter_santula['out_interactions']['total']['count'], \\\n",
    "             inter_santula['out_interactions']['retweets']['count'], \\\n",
    "             inter_santula['out_interactions']['replies']['count'], \\\n",
    "             inter_santula['out_interactions']['mentions']['count'], \\\n",
    "             inter_santula['out_interactions']['quotes']['count']))"
   ]
  },
  {
   "cell_type": "markdown",
   "metadata": {},
   "source": [
    "##### Perfiles más retuiteados"
   ]
  },
  {
   "cell_type": "code",
   "execution_count": 21,
   "metadata": {},
   "outputs": [
    {
     "data": {
      "text/html": [
       "<div>\n",
       "<style scoped>\n",
       "    .dataframe tbody tr th:only-of-type {\n",
       "        vertical-align: middle;\n",
       "    }\n",
       "\n",
       "    .dataframe tbody tr th {\n",
       "        vertical-align: top;\n",
       "    }\n",
       "\n",
       "    .dataframe thead th {\n",
       "        text-align: right;\n",
       "    }\n",
       "</style>\n",
       "<table border=\"1\" class=\"dataframe\">\n",
       "  <thead>\n",
       "    <tr style=\"text-align: right;\">\n",
       "      <th></th>\n",
       "      <th>1.Perfil</th>\n",
       "      <th>2.Total retweets</th>\n",
       "    </tr>\n",
       "  </thead>\n",
       "  <tbody>\n",
       "    <tr>\n",
       "      <th>0</th>\n",
       "      <td>algoandamalpy</td>\n",
       "      <td>12</td>\n",
       "    </tr>\n",
       "    <tr>\n",
       "      <th>1</th>\n",
       "      <td>TelefuturoInfo</td>\n",
       "      <td>3</td>\n",
       "    </tr>\n",
       "    <tr>\n",
       "      <th>2</th>\n",
       "      <td>juankilezcano</td>\n",
       "      <td>3</td>\n",
       "    </tr>\n",
       "    <tr>\n",
       "      <th>3</th>\n",
       "      <td>minaftv</td>\n",
       "      <td>2</td>\n",
       "    </tr>\n",
       "    <tr>\n",
       "      <th>4</th>\n",
       "      <td>Santula</td>\n",
       "      <td>1</td>\n",
       "    </tr>\n",
       "  </tbody>\n",
       "</table>\n",
       "</div>"
      ],
      "text/plain": [
       "         1.Perfil  2.Total retweets\n",
       "0   algoandamalpy                12\n",
       "1  TelefuturoInfo                 3\n",
       "2   juankilezcano                 3\n",
       "3         minaftv                 2\n",
       "4         Santula                 1"
      ]
     },
     "execution_count": 21,
     "metadata": {},
     "output_type": "execute_result"
    }
   ],
   "source": [
    "top_rts = []\n",
    "out_inter_santula = inter_santula['out_interactions']['retweets']['details']\n",
    "max_iter = 5 if len(out_inter_santula) > 5 else len(out_inter_santula)\n",
    "for i in range(max_iter):\n",
    "    contacto = {'1.Perfil': out_inter_santula[i][0], \n",
    "                '2.Total retweets': out_inter_santula[i][1]\n",
    "               }\n",
    "    top_rts.append(contacto)\n",
    "pd.DataFrame(top_rts)"
   ]
  },
  {
   "cell_type": "markdown",
   "metadata": {},
   "source": [
    "##### Perfiles más mencionados"
   ]
  },
  {
   "cell_type": "code",
   "execution_count": 22,
   "metadata": {},
   "outputs": [
    {
     "data": {
      "text/html": [
       "<div>\n",
       "<style scoped>\n",
       "    .dataframe tbody tr th:only-of-type {\n",
       "        vertical-align: middle;\n",
       "    }\n",
       "\n",
       "    .dataframe tbody tr th {\n",
       "        vertical-align: top;\n",
       "    }\n",
       "\n",
       "    .dataframe thead th {\n",
       "        text-align: right;\n",
       "    }\n",
       "</style>\n",
       "<table border=\"1\" class=\"dataframe\">\n",
       "  <thead>\n",
       "    <tr style=\"text-align: right;\">\n",
       "      <th></th>\n",
       "      <th>1.Perfil</th>\n",
       "      <th>2.Total menciones</th>\n",
       "    </tr>\n",
       "  </thead>\n",
       "  <tbody>\n",
       "    <tr>\n",
       "      <th>0</th>\n",
       "      <td>Telefuturo</td>\n",
       "      <td>38</td>\n",
       "    </tr>\n",
       "    <tr>\n",
       "      <th>1</th>\n",
       "      <td>MaritoAbdo</td>\n",
       "      <td>28</td>\n",
       "    </tr>\n",
       "    <tr>\n",
       "      <th>2</th>\n",
       "      <td>SantiPenap</td>\n",
       "      <td>24</td>\n",
       "    </tr>\n",
       "    <tr>\n",
       "      <th>3</th>\n",
       "      <td>EfrainAlegre</td>\n",
       "      <td>13</td>\n",
       "    </tr>\n",
       "    <tr>\n",
       "      <th>4</th>\n",
       "      <td>nanduti</td>\n",
       "      <td>2</td>\n",
       "    </tr>\n",
       "  </tbody>\n",
       "</table>\n",
       "</div>"
      ],
      "text/plain": [
       "       1.Perfil  2.Total menciones\n",
       "0    Telefuturo                 38\n",
       "1    MaritoAbdo                 28\n",
       "2    SantiPenap                 24\n",
       "3  EfrainAlegre                 13\n",
       "4       nanduti                  2"
      ]
     },
     "execution_count": 22,
     "metadata": {},
     "output_type": "execute_result"
    }
   ],
   "source": [
    "top_mts = []\n",
    "out_inter_santula = inter_santula['out_interactions']['mentions']['details']\n",
    "max_iter = 5 if len(out_inter_santula) > 5 else len(out_inter_santula)\n",
    "for i in range(max_iter):\n",
    "    contacto = {'1.Perfil': out_inter_santula[i][0], \n",
    "                '2.Total menciones': out_inter_santula[i][1]\n",
    "               }\n",
    "    top_mts.append(contacto)\n",
    "pd.DataFrame(top_mts)"
   ]
  },
  {
   "cell_type": "markdown",
   "metadata": {},
   "source": [
    "##### Perfiles más citados"
   ]
  },
  {
   "cell_type": "code",
   "execution_count": 23,
   "metadata": {},
   "outputs": [
    {
     "data": {
      "text/html": [
       "<div>\n",
       "<style scoped>\n",
       "    .dataframe tbody tr th:only-of-type {\n",
       "        vertical-align: middle;\n",
       "    }\n",
       "\n",
       "    .dataframe tbody tr th {\n",
       "        vertical-align: top;\n",
       "    }\n",
       "\n",
       "    .dataframe thead th {\n",
       "        text-align: right;\n",
       "    }\n",
       "</style>\n",
       "<table border=\"1\" class=\"dataframe\">\n",
       "  <thead>\n",
       "    <tr style=\"text-align: right;\">\n",
       "      <th></th>\n",
       "      <th>1.Perfil</th>\n",
       "      <th>2.Total citas</th>\n",
       "    </tr>\n",
       "  </thead>\n",
       "  <tbody>\n",
       "    <tr>\n",
       "      <th>0</th>\n",
       "      <td>MoWet2015</td>\n",
       "      <td>1</td>\n",
       "    </tr>\n",
       "    <tr>\n",
       "      <th>1</th>\n",
       "      <td>UltimaHoracom</td>\n",
       "      <td>1</td>\n",
       "    </tr>\n",
       "    <tr>\n",
       "      <th>2</th>\n",
       "      <td>algoandamalpy</td>\n",
       "      <td>1</td>\n",
       "    </tr>\n",
       "    <tr>\n",
       "      <th>3</th>\n",
       "      <td>MaritoAbdo</td>\n",
       "      <td>1</td>\n",
       "    </tr>\n",
       "  </tbody>\n",
       "</table>\n",
       "</div>"
      ],
      "text/plain": [
       "        1.Perfil  2.Total citas\n",
       "0      MoWet2015              1\n",
       "1  UltimaHoracom              1\n",
       "2  algoandamalpy              1\n",
       "3     MaritoAbdo              1"
      ]
     },
     "execution_count": 23,
     "metadata": {},
     "output_type": "execute_result"
    }
   ],
   "source": [
    "top_qts = []\n",
    "out_inter_santula = inter_santula['out_interactions']['quotes']['details']\n",
    "max_iter = 5 if len(out_inter_santula) > 5 else len(out_inter_santula)\n",
    "for i in range(max_iter):\n",
    "    contacto = {'1.Perfil': out_inter_santula[i][0], \n",
    "                '2.Total citas': out_inter_santula[i][1]\n",
    "               }\n",
    "    top_qts.append(contacto)\n",
    "pd.DataFrame(top_qts)"
   ]
  },
  {
   "cell_type": "markdown",
   "metadata": {},
   "source": [
    "##### Perfiles a quiénes más respondió"
   ]
  },
  {
   "cell_type": "code",
   "execution_count": 25,
   "metadata": {},
   "outputs": [
    {
     "data": {
      "text/html": [
       "<div>\n",
       "<style scoped>\n",
       "    .dataframe tbody tr th:only-of-type {\n",
       "        vertical-align: middle;\n",
       "    }\n",
       "\n",
       "    .dataframe tbody tr th {\n",
       "        vertical-align: top;\n",
       "    }\n",
       "\n",
       "    .dataframe thead th {\n",
       "        text-align: right;\n",
       "    }\n",
       "</style>\n",
       "<table border=\"1\" class=\"dataframe\">\n",
       "  <thead>\n",
       "    <tr style=\"text-align: right;\">\n",
       "      <th></th>\n",
       "      <th>1.Perfil</th>\n",
       "      <th>2.Total respuestas</th>\n",
       "    </tr>\n",
       "  </thead>\n",
       "  <tbody>\n",
       "    <tr>\n",
       "      <th>0</th>\n",
       "      <td>josemfer</td>\n",
       "      <td>3</td>\n",
       "    </tr>\n",
       "    <tr>\n",
       "      <th>1</th>\n",
       "      <td>PolemicaPy</td>\n",
       "      <td>1</td>\n",
       "    </tr>\n",
       "    <tr>\n",
       "      <th>2</th>\n",
       "      <td>MariaGodoyMora1</td>\n",
       "      <td>1</td>\n",
       "    </tr>\n",
       "    <tr>\n",
       "      <th>3</th>\n",
       "      <td>majozpires</td>\n",
       "      <td>1</td>\n",
       "    </tr>\n",
       "  </tbody>\n",
       "</table>\n",
       "</div>"
      ],
      "text/plain": [
       "          1.Perfil  2.Total respuestas\n",
       "0         josemfer                   3\n",
       "1       PolemicaPy                   1\n",
       "2  MariaGodoyMora1                   1\n",
       "3       majozpires                   1"
      ]
     },
     "execution_count": 25,
     "metadata": {},
     "output_type": "execute_result"
    }
   ],
   "source": [
    "top_rps = []\n",
    "out_inter_santula = inter_santula['out_interactions']['replies']['details']\n",
    "max_iter = 5 if len(out_inter_santula) > 5 else len(out_inter_santula)\n",
    "for i in range(max_iter):\n",
    "    contacto = {'1.Perfil': out_inter_santula[i][0], \n",
    "                '2.Total respuestas': out_inter_santula[i][1]\n",
    "               }\n",
    "    top_rps.append(contacto)\n",
    "pd.DataFrame(top_rps)"
   ]
  },
  {
   "cell_type": "markdown",
   "metadata": {},
   "source": [
    "Lo más resaltante de las interacciones de `@Santula` es que durante el período de muestreo un importante número de sus publicaciones se centraron en tweets que mencionaron a los principales pre-candidatos a la presidencia de la república, `Mario Abdo Benítez`, `Santiago Peña`, y `Efrain Alegre`."
   ]
  },
  {
   "cell_type": "markdown",
   "metadata": {},
   "source": [
    "#### Interacciones recibidas"
   ]
  },
  {
   "cell_type": "markdown",
   "metadata": {},
   "source": [
    "Las interacciones recibidas corresponde a todos aquellos tweets donde se menciona al usuario, se cita al usuario, se retuitea o responde a una publicación del usuario."
   ]
  },
  {
   "cell_type": "code",
   "execution_count": 26,
   "metadata": {},
   "outputs": [
    {
     "name": "stdout",
     "output_type": "stream",
     "text": [
      "7743 tweets; 6000 retweets, 1563 respuestas, 118 menciones, y 62 citaciones\n"
     ]
    }
   ],
   "source": [
    "print('{0} tweets; {1} retweets, {2} respuestas, {3} menciones, y {4} citaciones'. \\\n",
    "      format(inter_santula['in_interactions']['total']['count'], \\\n",
    "             inter_santula['in_interactions']['retweets']['count'], \\\n",
    "             inter_santula['in_interactions']['replies']['count'], \\\n",
    "             inter_santula['in_interactions']['mentions']['count'], \\\n",
    "             inter_santula['in_interactions']['quotes']['count']))"
   ]
  },
  {
   "cell_type": "markdown",
   "metadata": {},
   "source": [
    "##### Perfiles que más retuiteron sus publicaciones"
   ]
  },
  {
   "cell_type": "code",
   "execution_count": 27,
   "metadata": {},
   "outputs": [
    {
     "data": {
      "text/html": [
       "<div>\n",
       "<style scoped>\n",
       "    .dataframe tbody tr th:only-of-type {\n",
       "        vertical-align: middle;\n",
       "    }\n",
       "\n",
       "    .dataframe tbody tr th {\n",
       "        vertical-align: top;\n",
       "    }\n",
       "\n",
       "    .dataframe thead th {\n",
       "        text-align: right;\n",
       "    }\n",
       "</style>\n",
       "<table border=\"1\" class=\"dataframe\">\n",
       "  <thead>\n",
       "    <tr style=\"text-align: right;\">\n",
       "      <th></th>\n",
       "      <th>1.Perfil</th>\n",
       "      <th>2.Total retweets</th>\n",
       "    </tr>\n",
       "  </thead>\n",
       "  <tbody>\n",
       "    <tr>\n",
       "      <th>0</th>\n",
       "      <td>ChristianDoldan</td>\n",
       "      <td>32</td>\n",
       "    </tr>\n",
       "    <tr>\n",
       "      <th>1</th>\n",
       "      <td>Norabeli</td>\n",
       "      <td>14</td>\n",
       "    </tr>\n",
       "    <tr>\n",
       "      <th>2</th>\n",
       "      <td>Beatriz20D</td>\n",
       "      <td>14</td>\n",
       "    </tr>\n",
       "    <tr>\n",
       "      <th>3</th>\n",
       "      <td>christianchena</td>\n",
       "      <td>14</td>\n",
       "    </tr>\n",
       "    <tr>\n",
       "      <th>4</th>\n",
       "      <td>Ever_Caceres</td>\n",
       "      <td>13</td>\n",
       "    </tr>\n",
       "  </tbody>\n",
       "</table>\n",
       "</div>"
      ],
      "text/plain": [
       "          1.Perfil  2.Total retweets\n",
       "0  ChristianDoldan                32\n",
       "1         Norabeli                14\n",
       "2       Beatriz20D                14\n",
       "3   christianchena                14\n",
       "4     Ever_Caceres                13"
      ]
     },
     "execution_count": 27,
     "metadata": {},
     "output_type": "execute_result"
    }
   ],
   "source": [
    "top_rts = []\n",
    "in_inter_santula = inter_santula['in_interactions']['retweets']['details']\n",
    "max_iter = 5 if len(in_inter_santula) > 5 else len(in_inter_santula)\n",
    "for i in range(max_iter):\n",
    "    contacto = {'1.Perfil': in_inter_santula[i][0], \n",
    "                '2.Total retweets': in_inter_santula[i][1]\n",
    "               }\n",
    "    top_rts.append(contacto)\n",
    "pd.DataFrame(top_rts)"
   ]
  },
  {
   "cell_type": "markdown",
   "metadata": {},
   "source": [
    "##### Perfiles que más respondieron a sus publicaciones"
   ]
  },
  {
   "cell_type": "code",
   "execution_count": 28,
   "metadata": {},
   "outputs": [
    {
     "data": {
      "text/html": [
       "<div>\n",
       "<style scoped>\n",
       "    .dataframe tbody tr th:only-of-type {\n",
       "        vertical-align: middle;\n",
       "    }\n",
       "\n",
       "    .dataframe tbody tr th {\n",
       "        vertical-align: top;\n",
       "    }\n",
       "\n",
       "    .dataframe thead th {\n",
       "        text-align: right;\n",
       "    }\n",
       "</style>\n",
       "<table border=\"1\" class=\"dataframe\">\n",
       "  <thead>\n",
       "    <tr style=\"text-align: right;\">\n",
       "      <th></th>\n",
       "      <th>1.Perfil</th>\n",
       "      <th>2.Total respuestas</th>\n",
       "    </tr>\n",
       "  </thead>\n",
       "  <tbody>\n",
       "    <tr>\n",
       "      <th>0</th>\n",
       "      <td>SemideiOmar</td>\n",
       "      <td>10</td>\n",
       "    </tr>\n",
       "    <tr>\n",
       "      <th>1</th>\n",
       "      <td>FarinaLfa</td>\n",
       "      <td>9</td>\n",
       "    </tr>\n",
       "    <tr>\n",
       "      <th>2</th>\n",
       "      <td>MariaelenaSugat</td>\n",
       "      <td>9</td>\n",
       "    </tr>\n",
       "    <tr>\n",
       "      <th>3</th>\n",
       "      <td>SantacruzFISA</td>\n",
       "      <td>8</td>\n",
       "    </tr>\n",
       "    <tr>\n",
       "      <th>4</th>\n",
       "      <td>RaulOjedaCano2</td>\n",
       "      <td>8</td>\n",
       "    </tr>\n",
       "  </tbody>\n",
       "</table>\n",
       "</div>"
      ],
      "text/plain": [
       "          1.Perfil  2.Total respuestas\n",
       "0      SemideiOmar                  10\n",
       "1        FarinaLfa                   9\n",
       "2  MariaelenaSugat                   9\n",
       "3    SantacruzFISA                   8\n",
       "4   RaulOjedaCano2                   8"
      ]
     },
     "execution_count": 28,
     "metadata": {},
     "output_type": "execute_result"
    }
   ],
   "source": [
    "top_rps = []\n",
    "in_inter_santula = inter_santula['in_interactions']['replies']['details']\n",
    "max_iter = 5 if len(in_inter_santula) > 5 else len(in_inter_santula)\n",
    "for i in range(max_iter):\n",
    "    contacto = {'1.Perfil': in_inter_santula[i][0], \n",
    "                '2.Total respuestas': in_inter_santula[i][1]\n",
    "               }\n",
    "    top_rps.append(contacto)\n",
    "pd.DataFrame(top_rps)"
   ]
  },
  {
   "cell_type": "markdown",
   "metadata": {},
   "source": [
    "##### Perfiles que más mencionaron a Santula"
   ]
  },
  {
   "cell_type": "code",
   "execution_count": 29,
   "metadata": {},
   "outputs": [
    {
     "data": {
      "text/html": [
       "<div>\n",
       "<style scoped>\n",
       "    .dataframe tbody tr th:only-of-type {\n",
       "        vertical-align: middle;\n",
       "    }\n",
       "\n",
       "    .dataframe tbody tr th {\n",
       "        vertical-align: top;\n",
       "    }\n",
       "\n",
       "    .dataframe thead th {\n",
       "        text-align: right;\n",
       "    }\n",
       "</style>\n",
       "<table border=\"1\" class=\"dataframe\">\n",
       "  <thead>\n",
       "    <tr style=\"text-align: right;\">\n",
       "      <th></th>\n",
       "      <th>1.Perfil</th>\n",
       "      <th>2.Total menciones</th>\n",
       "    </tr>\n",
       "  </thead>\n",
       "  <tbody>\n",
       "    <tr>\n",
       "      <th>0</th>\n",
       "      <td>CarlosZ86636382</td>\n",
       "      <td>8</td>\n",
       "    </tr>\n",
       "    <tr>\n",
       "      <th>1</th>\n",
       "      <td>Juangpy</td>\n",
       "      <td>7</td>\n",
       "    </tr>\n",
       "    <tr>\n",
       "      <th>2</th>\n",
       "      <td>_kimberlyxc</td>\n",
       "      <td>5</td>\n",
       "    </tr>\n",
       "    <tr>\n",
       "      <th>3</th>\n",
       "      <td>ANIBALCSPDS</td>\n",
       "      <td>4</td>\n",
       "    </tr>\n",
       "    <tr>\n",
       "      <th>4</th>\n",
       "      <td>josanortiz88</td>\n",
       "      <td>4</td>\n",
       "    </tr>\n",
       "  </tbody>\n",
       "</table>\n",
       "</div>"
      ],
      "text/plain": [
       "          1.Perfil  2.Total menciones\n",
       "0  CarlosZ86636382                  8\n",
       "1          Juangpy                  7\n",
       "2      _kimberlyxc                  5\n",
       "3      ANIBALCSPDS                  4\n",
       "4     josanortiz88                  4"
      ]
     },
     "execution_count": 29,
     "metadata": {},
     "output_type": "execute_result"
    }
   ],
   "source": [
    "top_mts = []\n",
    "in_inter_santula = inter_santula['in_interactions']['mentions']['details']\n",
    "max_iter = 5 if len(in_inter_santula) > 5 else len(in_inter_santula)\n",
    "for i in range(max_iter):\n",
    "    contacto = {'1.Perfil': in_inter_santula[i][0], \n",
    "                '2.Total menciones': in_inter_santula[i][1]\n",
    "               }\n",
    "    top_mts.append(contacto)\n",
    "pd.DataFrame(top_mts)"
   ]
  },
  {
   "cell_type": "markdown",
   "metadata": {},
   "source": [
    "##### Perfiles que más citaron publicaciones de Santula"
   ]
  },
  {
   "cell_type": "code",
   "execution_count": 30,
   "metadata": {},
   "outputs": [
    {
     "data": {
      "text/html": [
       "<div>\n",
       "<style scoped>\n",
       "    .dataframe tbody tr th:only-of-type {\n",
       "        vertical-align: middle;\n",
       "    }\n",
       "\n",
       "    .dataframe tbody tr th {\n",
       "        vertical-align: top;\n",
       "    }\n",
       "\n",
       "    .dataframe thead th {\n",
       "        text-align: right;\n",
       "    }\n",
       "</style>\n",
       "<table border=\"1\" class=\"dataframe\">\n",
       "  <thead>\n",
       "    <tr style=\"text-align: right;\">\n",
       "      <th></th>\n",
       "      <th>1.Perfil</th>\n",
       "      <th>2.Total citaciones</th>\n",
       "    </tr>\n",
       "  </thead>\n",
       "  <tbody>\n",
       "    <tr>\n",
       "      <th>0</th>\n",
       "      <td>heriberto7502</td>\n",
       "      <td>5</td>\n",
       "    </tr>\n",
       "    <tr>\n",
       "      <th>1</th>\n",
       "      <td>jbenjaminb</td>\n",
       "      <td>2</td>\n",
       "    </tr>\n",
       "    <tr>\n",
       "      <th>2</th>\n",
       "      <td>narakopguare</td>\n",
       "      <td>2</td>\n",
       "    </tr>\n",
       "    <tr>\n",
       "      <th>3</th>\n",
       "      <td>hova_ata</td>\n",
       "      <td>2</td>\n",
       "    </tr>\n",
       "    <tr>\n",
       "      <th>4</th>\n",
       "      <td>cyzal</td>\n",
       "      <td>2</td>\n",
       "    </tr>\n",
       "  </tbody>\n",
       "</table>\n",
       "</div>"
      ],
      "text/plain": [
       "        1.Perfil  2.Total citaciones\n",
       "0  heriberto7502                   5\n",
       "1     jbenjaminb                   2\n",
       "2   narakopguare                   2\n",
       "3       hova_ata                   2\n",
       "4          cyzal                   2"
      ]
     },
     "execution_count": 30,
     "metadata": {},
     "output_type": "execute_result"
    }
   ],
   "source": [
    "top_qts = []\n",
    "in_inter_santula = inter_santula['in_interactions']['quotes']['details']\n",
    "max_iter = 5 if len(in_inter_santula) > 5 else len(in_inter_santula)\n",
    "for i in range(max_iter):\n",
    "    contacto = {'1.Perfil': in_inter_santula[i][0], \n",
    "                '2.Total citaciones': in_inter_santula[i][1]\n",
    "               }\n",
    "    top_qts.append(contacto)\n",
    "pd.DataFrame(top_qts)"
   ]
  },
  {
   "cell_type": "markdown",
   "metadata": {},
   "source": [
    "Casi el 80% (6000 de 7743) de las interacciones recibidas por `Santula` corresponde a retweets de sus publicaciones. Esto demuestra la relevancia de este perfil dentro de la red del movimiento `Honor Colorado`. Conociendo la postura crítica de `Santula` hacia las candidaturas de este movimiento se puede esperar que el contenido de estas publicaciones no hayan sido precisamente de promoción a los candidatos de HC.\n",
    "\n",
    "Otro aspecto a resaltar es la actividad del perfil `SemideiOmar`, quién respondió a casi el 10% de total de tweets (no retweets) de `Santula`. También existen perfiles con muchas menciones a `Santula` cuyos nombres no parecen ser reales, por ejemplo `CarlosZ86636382`."
   ]
  },
  {
   "cell_type": "markdown",
   "metadata": {},
   "source": [
    "### Luis Bareiro (LuisBareiro)"
   ]
  },
  {
   "cell_type": "code",
   "execution_count": 31,
   "metadata": {},
   "outputs": [],
   "source": [
    "na = NetworkAnalyzer()\n",
    "inter_bareiro = na.get_interactions('LuisBareiro')"
   ]
  },
  {
   "cell_type": "markdown",
   "metadata": {},
   "source": [
    "#### Interacciones generadas"
   ]
  },
  {
   "cell_type": "code",
   "execution_count": 32,
   "metadata": {},
   "outputs": [
    {
     "name": "stdout",
     "output_type": "stream",
     "text": [
      "17 tweets; 6 retweets, 10 respuestas, 1 menciones, y 0 citaciones\n"
     ]
    }
   ],
   "source": [
    "print('{0} tweets; {1} retweets, {2} respuestas, {3} menciones, y {4} citaciones'. \\\n",
    "      format(inter_bareiro['out_interactions']['total']['count'], \\\n",
    "             inter_bareiro['out_interactions']['retweets']['count'], \\\n",
    "             inter_bareiro['out_interactions']['replies']['count'], \\\n",
    "             inter_bareiro['out_interactions']['mentions']['count'], \\\n",
    "             inter_bareiro['out_interactions']['quotes']['count']))"
   ]
  },
  {
   "cell_type": "markdown",
   "metadata": {},
   "source": [
    "##### Perfiles más retuiteados"
   ]
  },
  {
   "cell_type": "code",
   "execution_count": 33,
   "metadata": {},
   "outputs": [
    {
     "data": {
      "text/html": [
       "<div>\n",
       "<style scoped>\n",
       "    .dataframe tbody tr th:only-of-type {\n",
       "        vertical-align: middle;\n",
       "    }\n",
       "\n",
       "    .dataframe tbody tr th {\n",
       "        vertical-align: top;\n",
       "    }\n",
       "\n",
       "    .dataframe thead th {\n",
       "        text-align: right;\n",
       "    }\n",
       "</style>\n",
       "<table border=\"1\" class=\"dataframe\">\n",
       "  <thead>\n",
       "    <tr style=\"text-align: right;\">\n",
       "      <th></th>\n",
       "      <th>1.Perfil</th>\n",
       "      <th>2.Total retweets</th>\n",
       "    </tr>\n",
       "  </thead>\n",
       "  <tbody>\n",
       "    <tr>\n",
       "      <th>0</th>\n",
       "      <td>AM_1080</td>\n",
       "      <td>2</td>\n",
       "    </tr>\n",
       "    <tr>\n",
       "      <th>1</th>\n",
       "      <td>latelePy</td>\n",
       "      <td>2</td>\n",
       "    </tr>\n",
       "    <tr>\n",
       "      <th>2</th>\n",
       "      <td>Santula</td>\n",
       "      <td>1</td>\n",
       "    </tr>\n",
       "    <tr>\n",
       "      <th>3</th>\n",
       "      <td>Dii_villalba</td>\n",
       "      <td>1</td>\n",
       "    </tr>\n",
       "  </tbody>\n",
       "</table>\n",
       "</div>"
      ],
      "text/plain": [
       "       1.Perfil  2.Total retweets\n",
       "0       AM_1080                 2\n",
       "1      latelePy                 2\n",
       "2       Santula                 1\n",
       "3  Dii_villalba                 1"
      ]
     },
     "execution_count": 33,
     "metadata": {},
     "output_type": "execute_result"
    }
   ],
   "source": [
    "top_rts = []\n",
    "out_inter_bareiro = inter_bareiro['out_interactions']['retweets']['details']\n",
    "max_iter = 5 if len(out_inter_bareiro) > 5 else len(out_inter_bareiro)\n",
    "for i in range(max_iter):\n",
    "    contacto = {'1.Perfil': out_inter_bareiro[i][0], \n",
    "                '2.Total retweets': out_inter_bareiro[i][1]\n",
    "               }\n",
    "    top_rts.append(contacto)\n",
    "pd.DataFrame(top_rts)"
   ]
  },
  {
   "cell_type": "markdown",
   "metadata": {},
   "source": [
    "##### Perfiles a quiénes más respondió"
   ]
  },
  {
   "cell_type": "code",
   "execution_count": 34,
   "metadata": {},
   "outputs": [
    {
     "data": {
      "text/html": [
       "<div>\n",
       "<style scoped>\n",
       "    .dataframe tbody tr th:only-of-type {\n",
       "        vertical-align: middle;\n",
       "    }\n",
       "\n",
       "    .dataframe tbody tr th {\n",
       "        vertical-align: top;\n",
       "    }\n",
       "\n",
       "    .dataframe thead th {\n",
       "        text-align: right;\n",
       "    }\n",
       "</style>\n",
       "<table border=\"1\" class=\"dataframe\">\n",
       "  <thead>\n",
       "    <tr style=\"text-align: right;\">\n",
       "      <th></th>\n",
       "      <th>1.Perfil</th>\n",
       "      <th>2.Total respuestas</th>\n",
       "    </tr>\n",
       "  </thead>\n",
       "  <tbody>\n",
       "    <tr>\n",
       "      <th>0</th>\n",
       "      <td>DeaMaldonado</td>\n",
       "      <td>2</td>\n",
       "    </tr>\n",
       "    <tr>\n",
       "      <th>1</th>\n",
       "      <td>gabiotago</td>\n",
       "      <td>2</td>\n",
       "    </tr>\n",
       "    <tr>\n",
       "      <th>2</th>\n",
       "      <td>IsidroRicardoV4</td>\n",
       "      <td>1</td>\n",
       "    </tr>\n",
       "    <tr>\n",
       "      <th>3</th>\n",
       "      <td>jfrancovergara</td>\n",
       "      <td>1</td>\n",
       "    </tr>\n",
       "    <tr>\n",
       "      <th>4</th>\n",
       "      <td>vlamanchao</td>\n",
       "      <td>1</td>\n",
       "    </tr>\n",
       "  </tbody>\n",
       "</table>\n",
       "</div>"
      ],
      "text/plain": [
       "          1.Perfil  2.Total respuestas\n",
       "0     DeaMaldonado                   2\n",
       "1        gabiotago                   2\n",
       "2  IsidroRicardoV4                   1\n",
       "3   jfrancovergara                   1\n",
       "4       vlamanchao                   1"
      ]
     },
     "execution_count": 34,
     "metadata": {},
     "output_type": "execute_result"
    }
   ],
   "source": [
    "top_rps = []\n",
    "out_inter_bareiro = inter_bareiro['out_interactions']['replies']['details']\n",
    "max_iter = 5 if len(out_inter_bareiro) > 5 else len(out_inter_bareiro)\n",
    "for i in range(max_iter):\n",
    "    contacto = {'1.Perfil': out_inter_bareiro[i][0], \n",
    "                '2.Total respuestas': out_inter_bareiro[i][1]\n",
    "               }\n",
    "    top_rps.append(contacto)\n",
    "pd.DataFrame(top_rps)"
   ]
  },
  {
   "cell_type": "markdown",
   "metadata": {},
   "source": [
    "#### Interacciones recibidas"
   ]
  },
  {
   "cell_type": "code",
   "execution_count": 35,
   "metadata": {},
   "outputs": [
    {
     "name": "stdout",
     "output_type": "stream",
     "text": [
      "2938 tweets; 2680 retweets, 207 respuestas, 38 menciones, y 13 citaciones\n"
     ]
    }
   ],
   "source": [
    "print('{0} tweets; {1} retweets, {2} respuestas, {3} menciones, y {4} citaciones'. \\\n",
    "      format(inter_bareiro['in_interactions']['total']['count'], \\\n",
    "             inter_bareiro['in_interactions']['retweets']['count'], \\\n",
    "             inter_bareiro['in_interactions']['replies']['count'], \\\n",
    "             inter_bareiro['in_interactions']['mentions']['count'], \\\n",
    "             inter_bareiro['in_interactions']['quotes']['count']))"
   ]
  },
  {
   "cell_type": "markdown",
   "metadata": {},
   "source": [
    "##### Perfiles que más retuitearon sus publicaciones"
   ]
  },
  {
   "cell_type": "code",
   "execution_count": 36,
   "metadata": {},
   "outputs": [
    {
     "data": {
      "text/html": [
       "<div>\n",
       "<style scoped>\n",
       "    .dataframe tbody tr th:only-of-type {\n",
       "        vertical-align: middle;\n",
       "    }\n",
       "\n",
       "    .dataframe tbody tr th {\n",
       "        vertical-align: top;\n",
       "    }\n",
       "\n",
       "    .dataframe thead th {\n",
       "        text-align: right;\n",
       "    }\n",
       "</style>\n",
       "<table border=\"1\" class=\"dataframe\">\n",
       "  <thead>\n",
       "    <tr style=\"text-align: right;\">\n",
       "      <th></th>\n",
       "      <th>1.Perfil</th>\n",
       "      <th>2.Total retweets</th>\n",
       "    </tr>\n",
       "  </thead>\n",
       "  <tbody>\n",
       "    <tr>\n",
       "      <th>0</th>\n",
       "      <td>espiridion01</td>\n",
       "      <td>8</td>\n",
       "    </tr>\n",
       "    <tr>\n",
       "      <th>1</th>\n",
       "      <td>GloriaB2B</td>\n",
       "      <td>2</td>\n",
       "    </tr>\n",
       "    <tr>\n",
       "      <th>2</th>\n",
       "      <td>JUAMPA88</td>\n",
       "      <td>1</td>\n",
       "    </tr>\n",
       "    <tr>\n",
       "      <th>3</th>\n",
       "      <td>89_caballero</td>\n",
       "      <td>1</td>\n",
       "    </tr>\n",
       "    <tr>\n",
       "      <th>4</th>\n",
       "      <td>emersonjonas101</td>\n",
       "      <td>1</td>\n",
       "    </tr>\n",
       "  </tbody>\n",
       "</table>\n",
       "</div>"
      ],
      "text/plain": [
       "          1.Perfil  2.Total retweets\n",
       "0     espiridion01                 8\n",
       "1        GloriaB2B                 2\n",
       "2         JUAMPA88                 1\n",
       "3     89_caballero                 1\n",
       "4  emersonjonas101                 1"
      ]
     },
     "execution_count": 36,
     "metadata": {},
     "output_type": "execute_result"
    }
   ],
   "source": [
    "top_rts = []\n",
    "in_inter_bareiro = inter_bareiro['in_interactions']['retweets']['details']\n",
    "max_iter = 5 if len(in_inter_bareiro) > 5 else len(in_inter_bareiro)\n",
    "for i in range(max_iter):\n",
    "    contacto = {'1.Perfil': in_inter_bareiro[i][0], \n",
    "                '2.Total retweets': in_inter_bareiro[i][1]\n",
    "               }\n",
    "    top_rts.append(contacto)\n",
    "pd.DataFrame(top_rts)"
   ]
  },
  {
   "cell_type": "markdown",
   "metadata": {},
   "source": [
    "##### Perfiles que más respondieron a sus publicaciones"
   ]
  },
  {
   "cell_type": "code",
   "execution_count": 37,
   "metadata": {},
   "outputs": [
    {
     "data": {
      "text/html": [
       "<div>\n",
       "<style scoped>\n",
       "    .dataframe tbody tr th:only-of-type {\n",
       "        vertical-align: middle;\n",
       "    }\n",
       "\n",
       "    .dataframe tbody tr th {\n",
       "        vertical-align: top;\n",
       "    }\n",
       "\n",
       "    .dataframe thead th {\n",
       "        text-align: right;\n",
       "    }\n",
       "</style>\n",
       "<table border=\"1\" class=\"dataframe\">\n",
       "  <thead>\n",
       "    <tr style=\"text-align: right;\">\n",
       "      <th></th>\n",
       "      <th>1.Perfil</th>\n",
       "      <th>2.Total respuestas</th>\n",
       "    </tr>\n",
       "  </thead>\n",
       "  <tbody>\n",
       "    <tr>\n",
       "      <th>0</th>\n",
       "      <td>rey_europa</td>\n",
       "      <td>5</td>\n",
       "    </tr>\n",
       "    <tr>\n",
       "      <th>1</th>\n",
       "      <td>britez_ortiz1</td>\n",
       "      <td>3</td>\n",
       "    </tr>\n",
       "    <tr>\n",
       "      <th>2</th>\n",
       "      <td>DeaMaldonado</td>\n",
       "      <td>3</td>\n",
       "    </tr>\n",
       "    <tr>\n",
       "      <th>3</th>\n",
       "      <td>nicomartinezpy</td>\n",
       "      <td>2</td>\n",
       "    </tr>\n",
       "    <tr>\n",
       "      <th>4</th>\n",
       "      <td>gabiotago</td>\n",
       "      <td>2</td>\n",
       "    </tr>\n",
       "  </tbody>\n",
       "</table>\n",
       "</div>"
      ],
      "text/plain": [
       "         1.Perfil  2.Total respuestas\n",
       "0      rey_europa                   5\n",
       "1   britez_ortiz1                   3\n",
       "2    DeaMaldonado                   3\n",
       "3  nicomartinezpy                   2\n",
       "4       gabiotago                   2"
      ]
     },
     "execution_count": 37,
     "metadata": {},
     "output_type": "execute_result"
    }
   ],
   "source": [
    "top_rps = []\n",
    "in_inter_bareiro = inter_bareiro['in_interactions']['replies']['details']\n",
    "max_iter = 5 if len(in_inter_bareiro) > 5 else len(in_inter_bareiro)\n",
    "for i in range(max_iter):\n",
    "    contacto = {'1.Perfil': in_inter_bareiro[i][0], \n",
    "                '2.Total respuestas': in_inter_bareiro[i][1]\n",
    "               }\n",
    "    top_rps.append(contacto)\n",
    "pd.DataFrame(top_rps)"
   ]
  },
  {
   "cell_type": "markdown",
   "metadata": {},
   "source": [
    "##### Perfiles que más mencionaron a LuisBareiro"
   ]
  },
  {
   "cell_type": "code",
   "execution_count": 38,
   "metadata": {},
   "outputs": [
    {
     "data": {
      "text/html": [
       "<div>\n",
       "<style scoped>\n",
       "    .dataframe tbody tr th:only-of-type {\n",
       "        vertical-align: middle;\n",
       "    }\n",
       "\n",
       "    .dataframe tbody tr th {\n",
       "        vertical-align: top;\n",
       "    }\n",
       "\n",
       "    .dataframe thead th {\n",
       "        text-align: right;\n",
       "    }\n",
       "</style>\n",
       "<table border=\"1\" class=\"dataframe\">\n",
       "  <thead>\n",
       "    <tr style=\"text-align: right;\">\n",
       "      <th></th>\n",
       "      <th>1.Perfil</th>\n",
       "      <th>2.Total menciones</th>\n",
       "    </tr>\n",
       "  </thead>\n",
       "  <tbody>\n",
       "    <tr>\n",
       "      <th>0</th>\n",
       "      <td>CarlosZ86636382</td>\n",
       "      <td>6</td>\n",
       "    </tr>\n",
       "    <tr>\n",
       "      <th>1</th>\n",
       "      <td>caramarillapy</td>\n",
       "      <td>4</td>\n",
       "    </tr>\n",
       "    <tr>\n",
       "      <th>2</th>\n",
       "      <td>Luinoguera</td>\n",
       "      <td>2</td>\n",
       "    </tr>\n",
       "    <tr>\n",
       "      <th>3</th>\n",
       "      <td>agustinkonrad27</td>\n",
       "      <td>2</td>\n",
       "    </tr>\n",
       "    <tr>\n",
       "      <th>4</th>\n",
       "      <td>maue_escobar</td>\n",
       "      <td>1</td>\n",
       "    </tr>\n",
       "  </tbody>\n",
       "</table>\n",
       "</div>"
      ],
      "text/plain": [
       "          1.Perfil  2.Total menciones\n",
       "0  CarlosZ86636382                  6\n",
       "1    caramarillapy                  4\n",
       "2       Luinoguera                  2\n",
       "3  agustinkonrad27                  2\n",
       "4     maue_escobar                  1"
      ]
     },
     "execution_count": 38,
     "metadata": {},
     "output_type": "execute_result"
    }
   ],
   "source": [
    "top_mts = []\n",
    "in_inter_bareiro = inter_bareiro['in_interactions']['mentions']['details']\n",
    "max_iter = 5 if len(in_inter_bareiro) > 5 else len(in_inter_bareiro)\n",
    "for i in range(max_iter):\n",
    "    contacto = {'1.Perfil': in_inter_bareiro[i][0], \n",
    "                '2.Total menciones': in_inter_bareiro[i][1]\n",
    "               }\n",
    "    top_mts.append(contacto)\n",
    "pd.DataFrame(top_mts)"
   ]
  },
  {
   "cell_type": "markdown",
   "metadata": {},
   "source": [
    "##### Perfiles que más citaron a LuisBareiro"
   ]
  },
  {
   "cell_type": "code",
   "execution_count": 39,
   "metadata": {},
   "outputs": [
    {
     "data": {
      "text/html": [
       "<div>\n",
       "<style scoped>\n",
       "    .dataframe tbody tr th:only-of-type {\n",
       "        vertical-align: middle;\n",
       "    }\n",
       "\n",
       "    .dataframe tbody tr th {\n",
       "        vertical-align: top;\n",
       "    }\n",
       "\n",
       "    .dataframe thead th {\n",
       "        text-align: right;\n",
       "    }\n",
       "</style>\n",
       "<table border=\"1\" class=\"dataframe\">\n",
       "  <thead>\n",
       "    <tr style=\"text-align: right;\">\n",
       "      <th></th>\n",
       "      <th>1.Perfil</th>\n",
       "      <th>2.Total citaciones</th>\n",
       "    </tr>\n",
       "  </thead>\n",
       "  <tbody>\n",
       "    <tr>\n",
       "      <th>0</th>\n",
       "      <td>pascolili</td>\n",
       "      <td>1</td>\n",
       "    </tr>\n",
       "    <tr>\n",
       "      <th>1</th>\n",
       "      <td>heriberto7502</td>\n",
       "      <td>1</td>\n",
       "    </tr>\n",
       "    <tr>\n",
       "      <th>2</th>\n",
       "      <td>DnicCristaldo</td>\n",
       "      <td>1</td>\n",
       "    </tr>\n",
       "    <tr>\n",
       "      <th>3</th>\n",
       "      <td>andregp87</td>\n",
       "      <td>1</td>\n",
       "    </tr>\n",
       "    <tr>\n",
       "      <th>4</th>\n",
       "      <td>fabiigonza</td>\n",
       "      <td>1</td>\n",
       "    </tr>\n",
       "  </tbody>\n",
       "</table>\n",
       "</div>"
      ],
      "text/plain": [
       "        1.Perfil  2.Total citaciones\n",
       "0      pascolili                   1\n",
       "1  heriberto7502                   1\n",
       "2  DnicCristaldo                   1\n",
       "3      andregp87                   1\n",
       "4     fabiigonza                   1"
      ]
     },
     "execution_count": 39,
     "metadata": {},
     "output_type": "execute_result"
    }
   ],
   "source": [
    "top_qts = []\n",
    "in_inter_bareiro = inter_bareiro['in_interactions']['quotes']['details']\n",
    "max_iter = 5 if len(in_inter_bareiro) > 5 else len(in_inter_bareiro)\n",
    "for i in range(max_iter):\n",
    "    contacto = {'1.Perfil': in_inter_bareiro[i][0], \n",
    "                '2.Total citaciones': in_inter_bareiro[i][1]\n",
    "               }\n",
    "    top_qts.append(contacto)\n",
    "pd.DataFrame(top_qts)"
   ]
  },
  {
   "cell_type": "markdown",
   "metadata": {},
   "source": [
    "Más del 90% (2680 de 2938) de las interacciones recibidas por `LuisBareiro` corresponden a retweets de su publicaciones, demostrando el gran alcance de sus tweets. Otro aspecto destacable es que el mismo perfil `CarlosZ86636382` que más menciones hizo sobre `Santula` es el mismo que más mencionó a `LuisBareiro`. "
   ]
  },
  {
   "cell_type": "markdown",
   "metadata": {},
   "source": [
    "### Enrique Vargas Peña (enriquevp)"
   ]
  },
  {
   "cell_type": "code",
   "execution_count": 41,
   "metadata": {},
   "outputs": [],
   "source": [
    "na = NetworkAnalyzer()\n",
    "inter_evp = na.get_interactions('enriquevp')"
   ]
  },
  {
   "cell_type": "markdown",
   "metadata": {},
   "source": [
    "#### Interacciones generadas"
   ]
  },
  {
   "cell_type": "code",
   "execution_count": 42,
   "metadata": {},
   "outputs": [
    {
     "name": "stdout",
     "output_type": "stream",
     "text": [
      "153 tweets; 16 retweets, 48 respuestas, 81 menciones, y 8 citaciones\n"
     ]
    }
   ],
   "source": [
    "print('{0} tweets; {1} retweets, {2} respuestas, {3} menciones, y {4} citaciones'. \\\n",
    "      format(inter_evp['out_interactions']['total']['count'], \\\n",
    "             inter_evp['out_interactions']['retweets']['count'], \\\n",
    "             inter_evp['out_interactions']['replies']['count'], \\\n",
    "             inter_evp['out_interactions']['mentions']['count'], \\\n",
    "             inter_evp['out_interactions']['quotes']['count']))"
   ]
  },
  {
   "cell_type": "markdown",
   "metadata": {},
   "source": [
    "##### Perfiles más retuiteados"
   ]
  },
  {
   "cell_type": "code",
   "execution_count": 43,
   "metadata": {},
   "outputs": [
    {
     "data": {
      "text/html": [
       "<div>\n",
       "<style scoped>\n",
       "    .dataframe tbody tr th:only-of-type {\n",
       "        vertical-align: middle;\n",
       "    }\n",
       "\n",
       "    .dataframe tbody tr th {\n",
       "        vertical-align: top;\n",
       "    }\n",
       "\n",
       "    .dataframe thead th {\n",
       "        text-align: right;\n",
       "    }\n",
       "</style>\n",
       "<table border=\"1\" class=\"dataframe\">\n",
       "  <thead>\n",
       "    <tr style=\"text-align: right;\">\n",
       "      <th></th>\n",
       "      <th>1.Perfil</th>\n",
       "      <th>2.Total retweets</th>\n",
       "    </tr>\n",
       "  </thead>\n",
       "  <tbody>\n",
       "    <tr>\n",
       "      <th>0</th>\n",
       "      <td>Santula</td>\n",
       "      <td>4</td>\n",
       "    </tr>\n",
       "    <tr>\n",
       "      <th>1</th>\n",
       "      <td>patriaquerida</td>\n",
       "      <td>3</td>\n",
       "    </tr>\n",
       "    <tr>\n",
       "      <th>2</th>\n",
       "      <td>EfrainAlegre</td>\n",
       "      <td>2</td>\n",
       "    </tr>\n",
       "    <tr>\n",
       "      <th>3</th>\n",
       "      <td>ABCCardinal</td>\n",
       "      <td>2</td>\n",
       "    </tr>\n",
       "    <tr>\n",
       "      <th>4</th>\n",
       "      <td>JavierSanchezPy</td>\n",
       "      <td>1</td>\n",
       "    </tr>\n",
       "  </tbody>\n",
       "</table>\n",
       "</div>"
      ],
      "text/plain": [
       "          1.Perfil  2.Total retweets\n",
       "0          Santula                 4\n",
       "1    patriaquerida                 3\n",
       "2     EfrainAlegre                 2\n",
       "3      ABCCardinal                 2\n",
       "4  JavierSanchezPy                 1"
      ]
     },
     "execution_count": 43,
     "metadata": {},
     "output_type": "execute_result"
    }
   ],
   "source": [
    "top_rts = []\n",
    "out_inter_evp = inter_evp['out_interactions']['retweets']['details']\n",
    "max_iter = 5 if len(out_inter_evp) > 5 else len(out_inter_evp)\n",
    "for i in range(max_iter):\n",
    "    contacto = {'1.Perfil': out_inter_evp[i][0], \n",
    "                '2.Total retweets': out_inter_evp[i][1]\n",
    "               }\n",
    "    top_rts.append(contacto)\n",
    "pd.DataFrame(top_rts)"
   ]
  },
  {
   "cell_type": "markdown",
   "metadata": {},
   "source": [
    "##### Perfiles a los que más respondió"
   ]
  },
  {
   "cell_type": "code",
   "execution_count": 44,
   "metadata": {},
   "outputs": [
    {
     "data": {
      "text/html": [
       "<div>\n",
       "<style scoped>\n",
       "    .dataframe tbody tr th:only-of-type {\n",
       "        vertical-align: middle;\n",
       "    }\n",
       "\n",
       "    .dataframe tbody tr th {\n",
       "        vertical-align: top;\n",
       "    }\n",
       "\n",
       "    .dataframe thead th {\n",
       "        text-align: right;\n",
       "    }\n",
       "</style>\n",
       "<table border=\"1\" class=\"dataframe\">\n",
       "  <thead>\n",
       "    <tr style=\"text-align: right;\">\n",
       "      <th></th>\n",
       "      <th>1.Perfil</th>\n",
       "      <th>2.Total respuestas</th>\n",
       "    </tr>\n",
       "  </thead>\n",
       "  <tbody>\n",
       "    <tr>\n",
       "      <th>0</th>\n",
       "      <td>MaritoAbdo</td>\n",
       "      <td>17</td>\n",
       "    </tr>\n",
       "    <tr>\n",
       "      <th>1</th>\n",
       "      <td>SantiPenap</td>\n",
       "      <td>6</td>\n",
       "    </tr>\n",
       "    <tr>\n",
       "      <th>2</th>\n",
       "      <td>fidelzavala2018</td>\n",
       "      <td>6</td>\n",
       "    </tr>\n",
       "    <tr>\n",
       "      <th>3</th>\n",
       "      <td>gduartcacavelos</td>\n",
       "      <td>4</td>\n",
       "    </tr>\n",
       "    <tr>\n",
       "      <th>4</th>\n",
       "      <td>sebavillarejo</td>\n",
       "      <td>4</td>\n",
       "    </tr>\n",
       "  </tbody>\n",
       "</table>\n",
       "</div>"
      ],
      "text/plain": [
       "          1.Perfil  2.Total respuestas\n",
       "0       MaritoAbdo                  17\n",
       "1       SantiPenap                   6\n",
       "2  fidelzavala2018                   6\n",
       "3  gduartcacavelos                   4\n",
       "4    sebavillarejo                   4"
      ]
     },
     "execution_count": 44,
     "metadata": {},
     "output_type": "execute_result"
    }
   ],
   "source": [
    "top_rps = []\n",
    "out_inter_evp = inter_evp['out_interactions']['replies']['details']\n",
    "max_iter = 5 if len(out_inter_evp) > 5 else len(out_inter_evp)\n",
    "for i in range(max_iter):\n",
    "    contacto = {'1.Perfil': out_inter_evp[i][0], \n",
    "                '2.Total respuestas': out_inter_evp[i][1]\n",
    "               }\n",
    "    top_rps.append(contacto)\n",
    "pd.DataFrame(top_rps)"
   ]
  },
  {
   "cell_type": "markdown",
   "metadata": {},
   "source": [
    "##### Perfiles más mencionados"
   ]
  },
  {
   "cell_type": "code",
   "execution_count": 45,
   "metadata": {},
   "outputs": [
    {
     "data": {
      "text/html": [
       "<div>\n",
       "<style scoped>\n",
       "    .dataframe tbody tr th:only-of-type {\n",
       "        vertical-align: middle;\n",
       "    }\n",
       "\n",
       "    .dataframe tbody tr th {\n",
       "        vertical-align: top;\n",
       "    }\n",
       "\n",
       "    .dataframe thead th {\n",
       "        text-align: right;\n",
       "    }\n",
       "</style>\n",
       "<table border=\"1\" class=\"dataframe\">\n",
       "  <thead>\n",
       "    <tr style=\"text-align: right;\">\n",
       "      <th></th>\n",
       "      <th>1.Perfil</th>\n",
       "      <th>2.Total menciones</th>\n",
       "    </tr>\n",
       "  </thead>\n",
       "  <tbody>\n",
       "    <tr>\n",
       "      <th>0</th>\n",
       "      <td>SantiPenap</td>\n",
       "      <td>27</td>\n",
       "    </tr>\n",
       "    <tr>\n",
       "      <th>1</th>\n",
       "      <td>MaritoAbdo</td>\n",
       "      <td>17</td>\n",
       "    </tr>\n",
       "    <tr>\n",
       "      <th>2</th>\n",
       "      <td>SinLimites_RG</td>\n",
       "      <td>6</td>\n",
       "    </tr>\n",
       "    <tr>\n",
       "      <th>3</th>\n",
       "      <td>EfrainAlegre</td>\n",
       "      <td>5</td>\n",
       "    </tr>\n",
       "    <tr>\n",
       "      <th>4</th>\n",
       "      <td>patriaquerida</td>\n",
       "      <td>4</td>\n",
       "    </tr>\n",
       "  </tbody>\n",
       "</table>\n",
       "</div>"
      ],
      "text/plain": [
       "        1.Perfil  2.Total menciones\n",
       "0     SantiPenap                 27\n",
       "1     MaritoAbdo                 17\n",
       "2  SinLimites_RG                  6\n",
       "3   EfrainAlegre                  5\n",
       "4  patriaquerida                  4"
      ]
     },
     "execution_count": 45,
     "metadata": {},
     "output_type": "execute_result"
    }
   ],
   "source": [
    "top_mts = []\n",
    "out_inter_evp = inter_evp['out_interactions']['mentions']['details']\n",
    "max_iter = 5 if len(out_inter_evp) > 5 else len(out_inter_evp)\n",
    "for i in range(max_iter):\n",
    "    contacto = {'1.Perfil': out_inter_evp[i][0], \n",
    "                '2.Total menciones': out_inter_evp[i][1]\n",
    "               }\n",
    "    top_mts.append(contacto)\n",
    "pd.DataFrame(top_mts)"
   ]
  },
  {
   "cell_type": "markdown",
   "metadata": {},
   "source": [
    "##### Perfiles más citados"
   ]
  },
  {
   "cell_type": "code",
   "execution_count": 46,
   "metadata": {},
   "outputs": [
    {
     "data": {
      "text/html": [
       "<div>\n",
       "<style scoped>\n",
       "    .dataframe tbody tr th:only-of-type {\n",
       "        vertical-align: middle;\n",
       "    }\n",
       "\n",
       "    .dataframe tbody tr th {\n",
       "        vertical-align: top;\n",
       "    }\n",
       "\n",
       "    .dataframe thead th {\n",
       "        text-align: right;\n",
       "    }\n",
       "</style>\n",
       "<table border=\"1\" class=\"dataframe\">\n",
       "  <thead>\n",
       "    <tr style=\"text-align: right;\">\n",
       "      <th></th>\n",
       "      <th>1.Perfil</th>\n",
       "      <th>2.Total citaciones</th>\n",
       "    </tr>\n",
       "  </thead>\n",
       "  <tbody>\n",
       "    <tr>\n",
       "      <th>0</th>\n",
       "      <td>ABCDigital</td>\n",
       "      <td>2</td>\n",
       "    </tr>\n",
       "    <tr>\n",
       "      <th>1</th>\n",
       "      <td>jotabernabe</td>\n",
       "      <td>2</td>\n",
       "    </tr>\n",
       "    <tr>\n",
       "      <th>2</th>\n",
       "      <td>Copanosetoca</td>\n",
       "      <td>1</td>\n",
       "    </tr>\n",
       "    <tr>\n",
       "      <th>3</th>\n",
       "      <td>smongelos</td>\n",
       "      <td>1</td>\n",
       "    </tr>\n",
       "    <tr>\n",
       "      <th>4</th>\n",
       "      <td>sandralopezpy</td>\n",
       "      <td>1</td>\n",
       "    </tr>\n",
       "  </tbody>\n",
       "</table>\n",
       "</div>"
      ],
      "text/plain": [
       "        1.Perfil  2.Total citaciones\n",
       "0     ABCDigital                   2\n",
       "1    jotabernabe                   2\n",
       "2   Copanosetoca                   1\n",
       "3      smongelos                   1\n",
       "4  sandralopezpy                   1"
      ]
     },
     "execution_count": 46,
     "metadata": {},
     "output_type": "execute_result"
    }
   ],
   "source": [
    "top_qts = []\n",
    "out_inter_evp = inter_evp['out_interactions']['quotes']['details']\n",
    "max_iter = 5 if len(out_inter_evp) > 5 else len(out_inter_evp)\n",
    "for i in range(max_iter):\n",
    "    contacto = {'1.Perfil': out_inter_evp[i][0], \n",
    "                '2.Total citaciones': out_inter_evp[i][1]\n",
    "               }\n",
    "    top_qts.append(contacto)\n",
    "pd.DataFrame(top_qts)"
   ]
  },
  {
   "cell_type": "markdown",
   "metadata": {},
   "source": [
    "#### Interacciones recibidas"
   ]
  },
  {
   "cell_type": "code",
   "execution_count": 47,
   "metadata": {},
   "outputs": [
    {
     "name": "stdout",
     "output_type": "stream",
     "text": [
      "2762 tweets; 2054 retweets, 654 respuestas, 43 menciones, y 11 citaciones\n"
     ]
    }
   ],
   "source": [
    "print('{0} tweets; {1} retweets, {2} respuestas, {3} menciones, y {4} citaciones'. \\\n",
    "      format(inter_evp['in_interactions']['total']['count'], \\\n",
    "             inter_evp['in_interactions']['retweets']['count'], \\\n",
    "             inter_evp['in_interactions']['replies']['count'], \\\n",
    "             inter_evp['in_interactions']['mentions']['count'], \\\n",
    "             inter_evp['in_interactions']['quotes']['count']))"
   ]
  },
  {
   "cell_type": "markdown",
   "metadata": {},
   "source": [
    "##### Perfiles que más retuitearon sus publicaciones"
   ]
  },
  {
   "cell_type": "code",
   "execution_count": 48,
   "metadata": {},
   "outputs": [
    {
     "data": {
      "text/html": [
       "<div>\n",
       "<style scoped>\n",
       "    .dataframe tbody tr th:only-of-type {\n",
       "        vertical-align: middle;\n",
       "    }\n",
       "\n",
       "    .dataframe tbody tr th {\n",
       "        vertical-align: top;\n",
       "    }\n",
       "\n",
       "    .dataframe thead th {\n",
       "        text-align: right;\n",
       "    }\n",
       "</style>\n",
       "<table border=\"1\" class=\"dataframe\">\n",
       "  <thead>\n",
       "    <tr style=\"text-align: right;\">\n",
       "      <th></th>\n",
       "      <th>1.Perfil</th>\n",
       "      <th>2.Total retweets</th>\n",
       "    </tr>\n",
       "  </thead>\n",
       "  <tbody>\n",
       "    <tr>\n",
       "      <th>0</th>\n",
       "      <td>fabiansolis_</td>\n",
       "      <td>25</td>\n",
       "    </tr>\n",
       "    <tr>\n",
       "      <th>1</th>\n",
       "      <td>Norabeli</td>\n",
       "      <td>24</td>\n",
       "    </tr>\n",
       "    <tr>\n",
       "      <th>2</th>\n",
       "      <td>Roberto73467377</td>\n",
       "      <td>22</td>\n",
       "    </tr>\n",
       "    <tr>\n",
       "      <th>3</th>\n",
       "      <td>marcosacua2</td>\n",
       "      <td>21</td>\n",
       "    </tr>\n",
       "    <tr>\n",
       "      <th>4</th>\n",
       "      <td>Beatriz20D</td>\n",
       "      <td>19</td>\n",
       "    </tr>\n",
       "  </tbody>\n",
       "</table>\n",
       "</div>"
      ],
      "text/plain": [
       "          1.Perfil  2.Total retweets\n",
       "0     fabiansolis_                25\n",
       "1         Norabeli                24\n",
       "2  Roberto73467377                22\n",
       "3      marcosacua2                21\n",
       "4       Beatriz20D                19"
      ]
     },
     "execution_count": 48,
     "metadata": {},
     "output_type": "execute_result"
    }
   ],
   "source": [
    "top_rts = []\n",
    "in_inter_evp = inter_evp['in_interactions']['retweets']['details']\n",
    "max_iter = 5 if len(in_inter_evp) > 5 else len(in_inter_evp)\n",
    "for i in range(max_iter):\n",
    "    contacto = {'1.Perfil': in_inter_evp[i][0], \n",
    "                '2.Total retweets': in_inter_evp[i][1]\n",
    "               }\n",
    "    top_rts.append(contacto)\n",
    "pd.DataFrame(top_rts)"
   ]
  },
  {
   "cell_type": "markdown",
   "metadata": {},
   "source": [
    "##### Perfiles que más respondieron a sus publicaciones"
   ]
  },
  {
   "cell_type": "code",
   "execution_count": 49,
   "metadata": {},
   "outputs": [
    {
     "data": {
      "text/html": [
       "<div>\n",
       "<style scoped>\n",
       "    .dataframe tbody tr th:only-of-type {\n",
       "        vertical-align: middle;\n",
       "    }\n",
       "\n",
       "    .dataframe tbody tr th {\n",
       "        vertical-align: top;\n",
       "    }\n",
       "\n",
       "    .dataframe thead th {\n",
       "        text-align: right;\n",
       "    }\n",
       "</style>\n",
       "<table border=\"1\" class=\"dataframe\">\n",
       "  <thead>\n",
       "    <tr style=\"text-align: right;\">\n",
       "      <th></th>\n",
       "      <th>1.Perfil</th>\n",
       "      <th>2.Total respuestas</th>\n",
       "    </tr>\n",
       "  </thead>\n",
       "  <tbody>\n",
       "    <tr>\n",
       "      <th>0</th>\n",
       "      <td>Verogot</td>\n",
       "      <td>14</td>\n",
       "    </tr>\n",
       "    <tr>\n",
       "      <th>1</th>\n",
       "      <td>Avorivas</td>\n",
       "      <td>12</td>\n",
       "    </tr>\n",
       "    <tr>\n",
       "      <th>2</th>\n",
       "      <td>AlamVera2</td>\n",
       "      <td>12</td>\n",
       "    </tr>\n",
       "    <tr>\n",
       "      <th>3</th>\n",
       "      <td>keito_sanchez</td>\n",
       "      <td>8</td>\n",
       "    </tr>\n",
       "    <tr>\n",
       "      <th>4</th>\n",
       "      <td>GloriaRiego2</td>\n",
       "      <td>8</td>\n",
       "    </tr>\n",
       "  </tbody>\n",
       "</table>\n",
       "</div>"
      ],
      "text/plain": [
       "        1.Perfil  2.Total respuestas\n",
       "0        Verogot                  14\n",
       "1       Avorivas                  12\n",
       "2      AlamVera2                  12\n",
       "3  keito_sanchez                   8\n",
       "4   GloriaRiego2                   8"
      ]
     },
     "execution_count": 49,
     "metadata": {},
     "output_type": "execute_result"
    }
   ],
   "source": [
    "top_rps = []\n",
    "in_inter_evp = inter_evp['in_interactions']['replies']['details']\n",
    "max_iter = 5 if len(in_inter_evp) > 5 else len(in_inter_evp)\n",
    "for i in range(max_iter):\n",
    "    contacto = {'1.Perfil': in_inter_evp[i][0], \n",
    "                '2.Total respuestas': in_inter_evp[i][1]\n",
    "               }\n",
    "    top_rps.append(contacto)\n",
    "pd.DataFrame(top_rps)"
   ]
  },
  {
   "cell_type": "markdown",
   "metadata": {},
   "source": [
    "##### Perfiles que más mencionaron a enriquevp "
   ]
  },
  {
   "cell_type": "code",
   "execution_count": 51,
   "metadata": {},
   "outputs": [
    {
     "data": {
      "text/html": [
       "<div>\n",
       "<style scoped>\n",
       "    .dataframe tbody tr th:only-of-type {\n",
       "        vertical-align: middle;\n",
       "    }\n",
       "\n",
       "    .dataframe tbody tr th {\n",
       "        vertical-align: top;\n",
       "    }\n",
       "\n",
       "    .dataframe thead th {\n",
       "        text-align: right;\n",
       "    }\n",
       "</style>\n",
       "<table border=\"1\" class=\"dataframe\">\n",
       "  <thead>\n",
       "    <tr style=\"text-align: right;\">\n",
       "      <th></th>\n",
       "      <th>1.Perfil</th>\n",
       "      <th>2.Total menciones</th>\n",
       "    </tr>\n",
       "  </thead>\n",
       "  <tbody>\n",
       "    <tr>\n",
       "      <th>0</th>\n",
       "      <td>caramarillapy</td>\n",
       "      <td>5</td>\n",
       "    </tr>\n",
       "    <tr>\n",
       "      <th>1</th>\n",
       "      <td>Maxnarvezmatto</td>\n",
       "      <td>4</td>\n",
       "    </tr>\n",
       "    <tr>\n",
       "      <th>2</th>\n",
       "      <td>JoseRamirezZela</td>\n",
       "      <td>2</td>\n",
       "    </tr>\n",
       "    <tr>\n",
       "      <th>3</th>\n",
       "      <td>minaftv</td>\n",
       "      <td>2</td>\n",
       "    </tr>\n",
       "    <tr>\n",
       "      <th>4</th>\n",
       "      <td>UribeQuerubin</td>\n",
       "      <td>1</td>\n",
       "    </tr>\n",
       "  </tbody>\n",
       "</table>\n",
       "</div>"
      ],
      "text/plain": [
       "          1.Perfil  2.Total menciones\n",
       "0    caramarillapy                  5\n",
       "1   Maxnarvezmatto                  4\n",
       "2  JoseRamirezZela                  2\n",
       "3          minaftv                  2\n",
       "4    UribeQuerubin                  1"
      ]
     },
     "execution_count": 51,
     "metadata": {},
     "output_type": "execute_result"
    }
   ],
   "source": [
    "top_mts = []\n",
    "in_inter_evp = inter_evp['in_interactions']['mentions']['details']\n",
    "max_iter = 5 if len(in_inter_evp) > 5 else len(in_inter_evp)\n",
    "for i in range(max_iter):\n",
    "    contacto = {'1.Perfil': in_inter_evp[i][0], \n",
    "                '2.Total menciones': in_inter_evp[i][1]\n",
    "               }\n",
    "    top_mts.append(contacto)\n",
    "pd.DataFrame(top_mts)"
   ]
  },
  {
   "cell_type": "markdown",
   "metadata": {},
   "source": [
    "##### Perfiles que más citaron sus publicaciones"
   ]
  },
  {
   "cell_type": "code",
   "execution_count": 52,
   "metadata": {},
   "outputs": [
    {
     "data": {
      "text/html": [
       "<div>\n",
       "<style scoped>\n",
       "    .dataframe tbody tr th:only-of-type {\n",
       "        vertical-align: middle;\n",
       "    }\n",
       "\n",
       "    .dataframe tbody tr th {\n",
       "        vertical-align: top;\n",
       "    }\n",
       "\n",
       "    .dataframe thead th {\n",
       "        text-align: right;\n",
       "    }\n",
       "</style>\n",
       "<table border=\"1\" class=\"dataframe\">\n",
       "  <thead>\n",
       "    <tr style=\"text-align: right;\">\n",
       "      <th></th>\n",
       "      <th>1.Perfil</th>\n",
       "      <th>2.Total citaciones</th>\n",
       "    </tr>\n",
       "  </thead>\n",
       "  <tbody>\n",
       "    <tr>\n",
       "      <th>0</th>\n",
       "      <td>chintuoviedo</td>\n",
       "      <td>1</td>\n",
       "    </tr>\n",
       "    <tr>\n",
       "      <th>1</th>\n",
       "      <td>Clyde_VolkartOf</td>\n",
       "      <td>1</td>\n",
       "    </tr>\n",
       "    <tr>\n",
       "      <th>2</th>\n",
       "      <td>desimasi2</td>\n",
       "      <td>1</td>\n",
       "    </tr>\n",
       "    <tr>\n",
       "      <th>3</th>\n",
       "      <td>Avorivas</td>\n",
       "      <td>1</td>\n",
       "    </tr>\n",
       "    <tr>\n",
       "      <th>4</th>\n",
       "      <td>gio_martinez88</td>\n",
       "      <td>1</td>\n",
       "    </tr>\n",
       "  </tbody>\n",
       "</table>\n",
       "</div>"
      ],
      "text/plain": [
       "          1.Perfil  2.Total citaciones\n",
       "0     chintuoviedo                   1\n",
       "1  Clyde_VolkartOf                   1\n",
       "2        desimasi2                   1\n",
       "3         Avorivas                   1\n",
       "4   gio_martinez88                   1"
      ]
     },
     "execution_count": 52,
     "metadata": {},
     "output_type": "execute_result"
    }
   ],
   "source": [
    "top_qts = []\n",
    "in_inter_evp = inter_evp['in_interactions']['quotes']['details']\n",
    "max_iter = 5 if len(in_inter_evp) > 5 else len(in_inter_evp)\n",
    "for i in range(max_iter):\n",
    "    contacto = {'1.Perfil': in_inter_evp[i][0], \n",
    "                '2.Total citaciones': in_inter_evp[i][1]\n",
    "               }\n",
    "    top_qts.append(contacto)\n",
    "pd.DataFrame(top_qts)"
   ]
  },
  {
   "cell_type": "markdown",
   "metadata": {},
   "source": [
    "Casi el 75% de las interacciones que recibió `enriquevp` corresponden a retweets de sus publicaciones. También se destaca que la mayoría de las interacciones generadas por Vargas Peña se relacionan con menciones, citaciones, o respuestas a los principales pre-candidatos a la presidencia, Mario Abdo Benítez, Santiago Peña, y Efraín Alegre."
   ]
  },
  {
   "cell_type": "markdown",
   "metadata": {},
   "source": [
    "### Desireè Masi (desimasi2)"
   ]
  },
  {
   "cell_type": "code",
   "execution_count": 54,
   "metadata": {},
   "outputs": [],
   "source": [
    "na = NetworkAnalyzer()\n",
    "inter_dm = na.get_interactions('desimasi2')"
   ]
  },
  {
   "cell_type": "markdown",
   "metadata": {},
   "source": [
    "##### Interacciones generadas"
   ]
  },
  {
   "cell_type": "code",
   "execution_count": 55,
   "metadata": {},
   "outputs": [
    {
     "name": "stdout",
     "output_type": "stream",
     "text": [
      "235 tweets; 26 retweets, 59 respuestas, 113 menciones, y 37 citaciones\n"
     ]
    }
   ],
   "source": [
    "print('{0} tweets; {1} retweets, {2} respuestas, {3} menciones, y {4} citaciones'. \\\n",
    "      format(inter_dm['out_interactions']['total']['count'], \\\n",
    "             inter_dm['out_interactions']['retweets']['count'], \\\n",
    "             inter_dm['out_interactions']['replies']['count'], \\\n",
    "             inter_dm['out_interactions']['mentions']['count'], \\\n",
    "             inter_dm['out_interactions']['quotes']['count']))"
   ]
  },
  {
   "cell_type": "markdown",
   "metadata": {},
   "source": [
    "##### Perfiles más retuiteados"
   ]
  },
  {
   "cell_type": "code",
   "execution_count": 56,
   "metadata": {},
   "outputs": [
    {
     "data": {
      "text/html": [
       "<div>\n",
       "<style scoped>\n",
       "    .dataframe tbody tr th:only-of-type {\n",
       "        vertical-align: middle;\n",
       "    }\n",
       "\n",
       "    .dataframe tbody tr th {\n",
       "        vertical-align: top;\n",
       "    }\n",
       "\n",
       "    .dataframe thead th {\n",
       "        text-align: right;\n",
       "    }\n",
       "</style>\n",
       "<table border=\"1\" class=\"dataframe\">\n",
       "  <thead>\n",
       "    <tr style=\"text-align: right;\">\n",
       "      <th></th>\n",
       "      <th>1.Perfil</th>\n",
       "      <th>2.Total retweets</th>\n",
       "    </tr>\n",
       "  </thead>\n",
       "  <tbody>\n",
       "    <tr>\n",
       "      <th>0</th>\n",
       "      <td>StibenPatron</td>\n",
       "      <td>2</td>\n",
       "    </tr>\n",
       "    <tr>\n",
       "      <th>1</th>\n",
       "      <td>EfrainAlegre</td>\n",
       "      <td>2</td>\n",
       "    </tr>\n",
       "    <tr>\n",
       "      <th>2</th>\n",
       "      <td>enriquevp</td>\n",
       "      <td>2</td>\n",
       "    </tr>\n",
       "    <tr>\n",
       "      <th>3</th>\n",
       "      <td>Raquel_1634</td>\n",
       "      <td>1</td>\n",
       "    </tr>\n",
       "    <tr>\n",
       "      <th>4</th>\n",
       "      <td>gernhof</td>\n",
       "      <td>1</td>\n",
       "    </tr>\n",
       "  </tbody>\n",
       "</table>\n",
       "</div>"
      ],
      "text/plain": [
       "       1.Perfil  2.Total retweets\n",
       "0  StibenPatron                 2\n",
       "1  EfrainAlegre                 2\n",
       "2     enriquevp                 2\n",
       "3   Raquel_1634                 1\n",
       "4       gernhof                 1"
      ]
     },
     "execution_count": 56,
     "metadata": {},
     "output_type": "execute_result"
    }
   ],
   "source": [
    "top_rts = []\n",
    "out_inter_dm = inter_dm['out_interactions']['retweets']['details']\n",
    "max_iter = 5 if len(out_inter_dm) > 5 else len(out_inter_dm)\n",
    "for i in range(max_iter):\n",
    "    contacto = {'1.Perfil': out_inter_dm[i][0], \n",
    "                '2.Total retweets': out_inter_dm[i][1]\n",
    "               }\n",
    "    top_rts.append(contacto)\n",
    "pd.DataFrame(top_rts)"
   ]
  },
  {
   "cell_type": "markdown",
   "metadata": {},
   "source": [
    "##### Perfiles a los que más respondió"
   ]
  },
  {
   "cell_type": "code",
   "execution_count": 57,
   "metadata": {},
   "outputs": [
    {
     "data": {
      "text/html": [
       "<div>\n",
       "<style scoped>\n",
       "    .dataframe tbody tr th:only-of-type {\n",
       "        vertical-align: middle;\n",
       "    }\n",
       "\n",
       "    .dataframe tbody tr th {\n",
       "        vertical-align: top;\n",
       "    }\n",
       "\n",
       "    .dataframe thead th {\n",
       "        text-align: right;\n",
       "    }\n",
       "</style>\n",
       "<table border=\"1\" class=\"dataframe\">\n",
       "  <thead>\n",
       "    <tr style=\"text-align: right;\">\n",
       "      <th></th>\n",
       "      <th>1.Perfil</th>\n",
       "      <th>2.Total respuestas</th>\n",
       "    </tr>\n",
       "  </thead>\n",
       "  <tbody>\n",
       "    <tr>\n",
       "      <th>0</th>\n",
       "      <td>andregp87</td>\n",
       "      <td>4</td>\n",
       "    </tr>\n",
       "    <tr>\n",
       "      <th>1</th>\n",
       "      <td>Rolando35503217</td>\n",
       "      <td>3</td>\n",
       "    </tr>\n",
       "    <tr>\n",
       "      <th>2</th>\n",
       "      <td>RodneyBareiro77</td>\n",
       "      <td>2</td>\n",
       "    </tr>\n",
       "    <tr>\n",
       "      <th>3</th>\n",
       "      <td>smongelos</td>\n",
       "      <td>2</td>\n",
       "    </tr>\n",
       "    <tr>\n",
       "      <th>4</th>\n",
       "      <td>Carlito25Baz</td>\n",
       "      <td>2</td>\n",
       "    </tr>\n",
       "  </tbody>\n",
       "</table>\n",
       "</div>"
      ],
      "text/plain": [
       "          1.Perfil  2.Total respuestas\n",
       "0        andregp87                   4\n",
       "1  Rolando35503217                   3\n",
       "2  RodneyBareiro77                   2\n",
       "3        smongelos                   2\n",
       "4     Carlito25Baz                   2"
      ]
     },
     "execution_count": 57,
     "metadata": {},
     "output_type": "execute_result"
    }
   ],
   "source": [
    "top_rps = []\n",
    "out_inter_dm = inter_dm['out_interactions']['replies']['details']\n",
    "max_iter = 5 if len(out_inter_dm) > 5 else len(out_inter_dm)\n",
    "for i in range(max_iter):\n",
    "    contacto = {'1.Perfil': out_inter_dm[i][0], \n",
    "                '2.Total respuestas': out_inter_dm[i][1]\n",
    "               }\n",
    "    top_rps.append(contacto)\n",
    "pd.DataFrame(top_rps)"
   ]
  },
  {
   "cell_type": "markdown",
   "metadata": {},
   "source": [
    "##### Perfiles a los que más mencionó"
   ]
  },
  {
   "cell_type": "code",
   "execution_count": 58,
   "metadata": {},
   "outputs": [
    {
     "data": {
      "text/html": [
       "<div>\n",
       "<style scoped>\n",
       "    .dataframe tbody tr th:only-of-type {\n",
       "        vertical-align: middle;\n",
       "    }\n",
       "\n",
       "    .dataframe tbody tr th {\n",
       "        vertical-align: top;\n",
       "    }\n",
       "\n",
       "    .dataframe thead th {\n",
       "        text-align: right;\n",
       "    }\n",
       "</style>\n",
       "<table border=\"1\" class=\"dataframe\">\n",
       "  <thead>\n",
       "    <tr style=\"text-align: right;\">\n",
       "      <th></th>\n",
       "      <th>1.Perfil</th>\n",
       "      <th>2.Total menciones</th>\n",
       "    </tr>\n",
       "  </thead>\n",
       "  <tbody>\n",
       "    <tr>\n",
       "      <th>0</th>\n",
       "      <td>Horacio_Cartes</td>\n",
       "      <td>36</td>\n",
       "    </tr>\n",
       "    <tr>\n",
       "      <th>1</th>\n",
       "      <td>EfrainAlegre</td>\n",
       "      <td>7</td>\n",
       "    </tr>\n",
       "    <tr>\n",
       "      <th>2</th>\n",
       "      <td>fidelzavala2018</td>\n",
       "      <td>7</td>\n",
       "    </tr>\n",
       "    <tr>\n",
       "      <th>3</th>\n",
       "      <td>Estelaruizdiaz</td>\n",
       "      <td>6</td>\n",
       "    </tr>\n",
       "    <tr>\n",
       "      <th>4</th>\n",
       "      <td>SantiPenap</td>\n",
       "      <td>5</td>\n",
       "    </tr>\n",
       "  </tbody>\n",
       "</table>\n",
       "</div>"
      ],
      "text/plain": [
       "          1.Perfil  2.Total menciones\n",
       "0   Horacio_Cartes                 36\n",
       "1     EfrainAlegre                  7\n",
       "2  fidelzavala2018                  7\n",
       "3   Estelaruizdiaz                  6\n",
       "4       SantiPenap                  5"
      ]
     },
     "execution_count": 58,
     "metadata": {},
     "output_type": "execute_result"
    }
   ],
   "source": [
    "top_mts = []\n",
    "out_inter_dm = inter_dm['out_interactions']['mentions']['details']\n",
    "max_iter = 5 if len(out_inter_dm) > 5 else len(out_inter_dm)\n",
    "for i in range(max_iter):\n",
    "    contacto = {'1.Perfil': out_inter_dm[i][0], \n",
    "                '2.Total menciones': out_inter_dm[i][1]\n",
    "               }\n",
    "    top_mts.append(contacto)\n",
    "pd.DataFrame(top_mts)"
   ]
  },
  {
   "cell_type": "markdown",
   "metadata": {},
   "source": [
    "##### Perfiles a los que más citó"
   ]
  },
  {
   "cell_type": "code",
   "execution_count": 59,
   "metadata": {},
   "outputs": [
    {
     "data": {
      "text/html": [
       "<div>\n",
       "<style scoped>\n",
       "    .dataframe tbody tr th:only-of-type {\n",
       "        vertical-align: middle;\n",
       "    }\n",
       "\n",
       "    .dataframe tbody tr th {\n",
       "        vertical-align: top;\n",
       "    }\n",
       "\n",
       "    .dataframe thead th {\n",
       "        text-align: right;\n",
       "    }\n",
       "</style>\n",
       "<table border=\"1\" class=\"dataframe\">\n",
       "  <thead>\n",
       "    <tr style=\"text-align: right;\">\n",
       "      <th></th>\n",
       "      <th>1.Perfil</th>\n",
       "      <th>2.Total citaciones</th>\n",
       "    </tr>\n",
       "  </thead>\n",
       "  <tbody>\n",
       "    <tr>\n",
       "      <th>0</th>\n",
       "      <td>eottolenghi</td>\n",
       "      <td>5</td>\n",
       "    </tr>\n",
       "    <tr>\n",
       "      <th>1</th>\n",
       "      <td>UltimaHoracom</td>\n",
       "      <td>5</td>\n",
       "    </tr>\n",
       "    <tr>\n",
       "      <th>2</th>\n",
       "      <td>EfrainAlegre</td>\n",
       "      <td>3</td>\n",
       "    </tr>\n",
       "    <tr>\n",
       "      <th>3</th>\n",
       "      <td>ABCCardinal</td>\n",
       "      <td>3</td>\n",
       "    </tr>\n",
       "    <tr>\n",
       "      <th>4</th>\n",
       "      <td>desimasi2</td>\n",
       "      <td>3</td>\n",
       "    </tr>\n",
       "  </tbody>\n",
       "</table>\n",
       "</div>"
      ],
      "text/plain": [
       "        1.Perfil  2.Total citaciones\n",
       "0    eottolenghi                   5\n",
       "1  UltimaHoracom                   5\n",
       "2   EfrainAlegre                   3\n",
       "3    ABCCardinal                   3\n",
       "4      desimasi2                   3"
      ]
     },
     "execution_count": 59,
     "metadata": {},
     "output_type": "execute_result"
    }
   ],
   "source": [
    "top_qts = []\n",
    "out_inter_dm = inter_dm['out_interactions']['quotes']['details']\n",
    "max_iter = 5 if len(out_inter_dm) > 5 else len(out_inter_dm)\n",
    "for i in range(max_iter):\n",
    "    contacto = {'1.Perfil': out_inter_dm[i][0], \n",
    "                '2.Total citaciones': out_inter_dm[i][1]\n",
    "               }\n",
    "    top_qts.append(contacto)\n",
    "pd.DataFrame(top_qts)"
   ]
  },
  {
   "cell_type": "markdown",
   "metadata": {},
   "source": [
    "#### Interacciones recibidas"
   ]
  },
  {
   "cell_type": "code",
   "execution_count": 60,
   "metadata": {},
   "outputs": [
    {
     "name": "stdout",
     "output_type": "stream",
     "text": [
      "2516 tweets; 1735 retweets, 729 respuestas, 40 menciones, y 12 citaciones\n"
     ]
    }
   ],
   "source": [
    "print('{0} tweets; {1} retweets, {2} respuestas, {3} menciones, y {4} citaciones'. \\\n",
    "      format(inter_dm['in_interactions']['total']['count'], \\\n",
    "             inter_dm['in_interactions']['retweets']['count'], \\\n",
    "             inter_dm['in_interactions']['replies']['count'], \\\n",
    "             inter_dm['in_interactions']['mentions']['count'], \\\n",
    "             inter_dm['in_interactions']['quotes']['count']))"
   ]
  },
  {
   "cell_type": "markdown",
   "metadata": {},
   "source": [
    "##### Perfiles que más retuitean sus publicaciones"
   ]
  },
  {
   "cell_type": "code",
   "execution_count": 62,
   "metadata": {},
   "outputs": [
    {
     "data": {
      "text/html": [
       "<div>\n",
       "<style scoped>\n",
       "    .dataframe tbody tr th:only-of-type {\n",
       "        vertical-align: middle;\n",
       "    }\n",
       "\n",
       "    .dataframe tbody tr th {\n",
       "        vertical-align: top;\n",
       "    }\n",
       "\n",
       "    .dataframe thead th {\n",
       "        text-align: right;\n",
       "    }\n",
       "</style>\n",
       "<table border=\"1\" class=\"dataframe\">\n",
       "  <thead>\n",
       "    <tr style=\"text-align: right;\">\n",
       "      <th></th>\n",
       "      <th>1.Perfil</th>\n",
       "      <th>2.Total retweets</th>\n",
       "    </tr>\n",
       "  </thead>\n",
       "  <tbody>\n",
       "    <tr>\n",
       "      <th>0</th>\n",
       "      <td>gladysgulino</td>\n",
       "      <td>36</td>\n",
       "    </tr>\n",
       "    <tr>\n",
       "      <th>1</th>\n",
       "      <td>Norabeli</td>\n",
       "      <td>35</td>\n",
       "    </tr>\n",
       "    <tr>\n",
       "      <th>2</th>\n",
       "      <td>Beatriz20D</td>\n",
       "      <td>28</td>\n",
       "    </tr>\n",
       "    <tr>\n",
       "      <th>3</th>\n",
       "      <td>pdpprogresista</td>\n",
       "      <td>20</td>\n",
       "    </tr>\n",
       "    <tr>\n",
       "      <th>4</th>\n",
       "      <td>marcosacua2</td>\n",
       "      <td>19</td>\n",
       "    </tr>\n",
       "  </tbody>\n",
       "</table>\n",
       "</div>"
      ],
      "text/plain": [
       "         1.Perfil  2.Total retweets\n",
       "0    gladysgulino                36\n",
       "1        Norabeli                35\n",
       "2      Beatriz20D                28\n",
       "3  pdpprogresista                20\n",
       "4     marcosacua2                19"
      ]
     },
     "execution_count": 62,
     "metadata": {},
     "output_type": "execute_result"
    }
   ],
   "source": [
    "top_rts = []\n",
    "in_inter_dm = inter_dm['in_interactions']['retweets']['details']\n",
    "max_iter = 5 if len(in_inter_dm) > 5 else len(in_inter_dm)\n",
    "for i in range(max_iter):\n",
    "    contacto = {'1.Perfil': in_inter_dm[i][0], \n",
    "                '2.Total retweets': in_inter_dm[i][1]\n",
    "               }\n",
    "    top_rts.append(contacto)\n",
    "pd.DataFrame(top_rts)"
   ]
  },
  {
   "cell_type": "markdown",
   "metadata": {},
   "source": [
    "##### Perfiles que más respondieron a sus publicaciones"
   ]
  },
  {
   "cell_type": "code",
   "execution_count": 63,
   "metadata": {},
   "outputs": [
    {
     "data": {
      "text/html": [
       "<div>\n",
       "<style scoped>\n",
       "    .dataframe tbody tr th:only-of-type {\n",
       "        vertical-align: middle;\n",
       "    }\n",
       "\n",
       "    .dataframe tbody tr th {\n",
       "        vertical-align: top;\n",
       "    }\n",
       "\n",
       "    .dataframe thead th {\n",
       "        text-align: right;\n",
       "    }\n",
       "</style>\n",
       "<table border=\"1\" class=\"dataframe\">\n",
       "  <thead>\n",
       "    <tr style=\"text-align: right;\">\n",
       "      <th></th>\n",
       "      <th>1.Perfil</th>\n",
       "      <th>2.Total respuestas</th>\n",
       "    </tr>\n",
       "  </thead>\n",
       "  <tbody>\n",
       "    <tr>\n",
       "      <th>0</th>\n",
       "      <td>AlamVera2</td>\n",
       "      <td>11</td>\n",
       "    </tr>\n",
       "    <tr>\n",
       "      <th>1</th>\n",
       "      <td>DardoCastelluc1</td>\n",
       "      <td>10</td>\n",
       "    </tr>\n",
       "    <tr>\n",
       "      <th>2</th>\n",
       "      <td>Carlito25Baz</td>\n",
       "      <td>7</td>\n",
       "    </tr>\n",
       "    <tr>\n",
       "      <th>3</th>\n",
       "      <td>andregp87</td>\n",
       "      <td>7</td>\n",
       "    </tr>\n",
       "    <tr>\n",
       "      <th>4</th>\n",
       "      <td>edgaraguero72</td>\n",
       "      <td>6</td>\n",
       "    </tr>\n",
       "  </tbody>\n",
       "</table>\n",
       "</div>"
      ],
      "text/plain": [
       "          1.Perfil  2.Total respuestas\n",
       "0        AlamVera2                  11\n",
       "1  DardoCastelluc1                  10\n",
       "2     Carlito25Baz                   7\n",
       "3        andregp87                   7\n",
       "4    edgaraguero72                   6"
      ]
     },
     "execution_count": 63,
     "metadata": {},
     "output_type": "execute_result"
    }
   ],
   "source": [
    "top_rps = []\n",
    "in_inter_dm = inter_dm['in_interactions']['replies']['details']\n",
    "max_iter = 5 if len(in_inter_dm) > 5 else len(in_inter_dm)\n",
    "for i in range(max_iter):\n",
    "    contacto = {'1.Perfil': in_inter_dm[i][0], \n",
    "                '2.Total respuestas': in_inter_dm[i][1]\n",
    "               }\n",
    "    top_rps.append(contacto)\n",
    "pd.DataFrame(top_rps)"
   ]
  },
  {
   "cell_type": "markdown",
   "metadata": {},
   "source": [
    "##### Perfiles que más mencionaron a desimasi2"
   ]
  },
  {
   "cell_type": "code",
   "execution_count": 64,
   "metadata": {},
   "outputs": [
    {
     "data": {
      "text/html": [
       "<div>\n",
       "<style scoped>\n",
       "    .dataframe tbody tr th:only-of-type {\n",
       "        vertical-align: middle;\n",
       "    }\n",
       "\n",
       "    .dataframe tbody tr th {\n",
       "        vertical-align: top;\n",
       "    }\n",
       "\n",
       "    .dataframe thead th {\n",
       "        text-align: right;\n",
       "    }\n",
       "</style>\n",
       "<table border=\"1\" class=\"dataframe\">\n",
       "  <thead>\n",
       "    <tr style=\"text-align: right;\">\n",
       "      <th></th>\n",
       "      <th>1.Perfil</th>\n",
       "      <th>2.Total menciones</th>\n",
       "    </tr>\n",
       "  </thead>\n",
       "  <tbody>\n",
       "    <tr>\n",
       "      <th>0</th>\n",
       "      <td>ANIBALCSPDS</td>\n",
       "      <td>3</td>\n",
       "    </tr>\n",
       "    <tr>\n",
       "      <th>1</th>\n",
       "      <td>JoseRamirezZela</td>\n",
       "      <td>2</td>\n",
       "    </tr>\n",
       "    <tr>\n",
       "      <th>2</th>\n",
       "      <td>smongelos</td>\n",
       "      <td>2</td>\n",
       "    </tr>\n",
       "    <tr>\n",
       "      <th>3</th>\n",
       "      <td>Maxnarvezmatto</td>\n",
       "      <td>2</td>\n",
       "    </tr>\n",
       "    <tr>\n",
       "      <th>4</th>\n",
       "      <td>Ale_Buzo</td>\n",
       "      <td>2</td>\n",
       "    </tr>\n",
       "  </tbody>\n",
       "</table>\n",
       "</div>"
      ],
      "text/plain": [
       "          1.Perfil  2.Total menciones\n",
       "0      ANIBALCSPDS                  3\n",
       "1  JoseRamirezZela                  2\n",
       "2        smongelos                  2\n",
       "3   Maxnarvezmatto                  2\n",
       "4         Ale_Buzo                  2"
      ]
     },
     "execution_count": 64,
     "metadata": {},
     "output_type": "execute_result"
    }
   ],
   "source": [
    "top_mts = []\n",
    "in_inter_dm = inter_dm['in_interactions']['mentions']['details']\n",
    "max_iter = 5 if len(in_inter_dm) > 5 else len(in_inter_dm)\n",
    "for i in range(max_iter):\n",
    "    contacto = {'1.Perfil': in_inter_dm[i][0], \n",
    "                '2.Total menciones': in_inter_dm[i][1]\n",
    "               }\n",
    "    top_mts.append(contacto)\n",
    "pd.DataFrame(top_mts)"
   ]
  },
  {
   "cell_type": "markdown",
   "metadata": {},
   "source": [
    "##### Perfiles que más citaron sus publicaciones"
   ]
  },
  {
   "cell_type": "code",
   "execution_count": 65,
   "metadata": {},
   "outputs": [
    {
     "data": {
      "text/html": [
       "<div>\n",
       "<style scoped>\n",
       "    .dataframe tbody tr th:only-of-type {\n",
       "        vertical-align: middle;\n",
       "    }\n",
       "\n",
       "    .dataframe tbody tr th {\n",
       "        vertical-align: top;\n",
       "    }\n",
       "\n",
       "    .dataframe thead th {\n",
       "        text-align: right;\n",
       "    }\n",
       "</style>\n",
       "<table border=\"1\" class=\"dataframe\">\n",
       "  <thead>\n",
       "    <tr style=\"text-align: right;\">\n",
       "      <th></th>\n",
       "      <th>1.Perfil</th>\n",
       "      <th>2.Total citaciones</th>\n",
       "    </tr>\n",
       "  </thead>\n",
       "  <tbody>\n",
       "    <tr>\n",
       "      <th>0</th>\n",
       "      <td>casanaslevi</td>\n",
       "      <td>1</td>\n",
       "    </tr>\n",
       "    <tr>\n",
       "      <th>1</th>\n",
       "      <td>cgonzalezmir</td>\n",
       "      <td>1</td>\n",
       "    </tr>\n",
       "    <tr>\n",
       "      <th>2</th>\n",
       "      <td>JaraCristo</td>\n",
       "      <td>1</td>\n",
       "    </tr>\n",
       "    <tr>\n",
       "      <th>3</th>\n",
       "      <td>ernes_baez</td>\n",
       "      <td>1</td>\n",
       "    </tr>\n",
       "    <tr>\n",
       "      <th>4</th>\n",
       "      <td>arturodoldan</td>\n",
       "      <td>1</td>\n",
       "    </tr>\n",
       "  </tbody>\n",
       "</table>\n",
       "</div>"
      ],
      "text/plain": [
       "       1.Perfil  2.Total citaciones\n",
       "0   casanaslevi                   1\n",
       "1  cgonzalezmir                   1\n",
       "2    JaraCristo                   1\n",
       "3    ernes_baez                   1\n",
       "4  arturodoldan                   1"
      ]
     },
     "execution_count": 65,
     "metadata": {},
     "output_type": "execute_result"
    }
   ],
   "source": [
    "top_qts = []\n",
    "in_inter_dm = inter_dm['in_interactions']['quotes']['details']\n",
    "max_iter = 5 if len(in_inter_dm) > 5 else len(in_inter_dm)\n",
    "for i in range(max_iter):\n",
    "    contacto = {'1.Perfil': in_inter_dm[i][0], \n",
    "                '2.Total citaciones': in_inter_dm[i][1]\n",
    "               }\n",
    "    top_qts.append(contacto)\n",
    "pd.DataFrame(top_qts)"
   ]
  },
  {
   "cell_type": "markdown",
   "metadata": {},
   "source": [
    "Al igual que los perfiles anteriores se destaca la gran cantidad de retweets de sus publicaciones. Casi el 70% de las interacciones que recibió `desimasi2` corresponde a acciones orientadas a difundir sus tweets."
   ]
  }
 ],
 "metadata": {
  "kernelspec": {
   "display_name": "Python 3",
   "language": "python",
   "name": "python3"
  },
  "language_info": {
   "codemirror_mode": {
    "name": "ipython",
    "version": 3
   },
   "file_extension": ".py",
   "mimetype": "text/x-python",
   "name": "python",
   "nbconvert_exporter": "python",
   "pygments_lexer": "ipython3",
   "version": "3.4.4"
  }
 },
 "nbformat": 4,
 "nbformat_minor": 2
}
