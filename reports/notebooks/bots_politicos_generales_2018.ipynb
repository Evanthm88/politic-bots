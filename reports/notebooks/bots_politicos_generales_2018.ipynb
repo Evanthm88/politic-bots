{
 "cells": [
  {
   "cell_type": "markdown",
   "metadata": {
    "slideshow": {
     "slide_type": "slide"
    }
   },
   "source": [
    "# Uso de Twitter en las Elecciones Generales Paraguayas 2018"
   ]
  },
  {
   "cell_type": "markdown",
   "metadata": {
    "slideshow": {
     "slide_type": "slide"
    }
   },
   "source": [
    "Recolección de tweets basada en cuentas (@) y Hashtags (#). Usando el API de Twitter recoletamos **tweets publicados durante marzo y abril del año 2018**, que provengan de cuentas de candidatos a la presidencia y al congreso, y/o contengan hashtags utilizados con fines electorales. Como base utilizamos las cuentas y hashtags publicados por el Diario Última Hora en su artículo [Perfiles de pre-candidatos según las redes](http://elecciones.ultimahora.com/informacion/?id=20). [En este enlace](https://docs.google.com/spreadsheets/d/e/2PACX-1vQHoukfR9AFhSaz30QHYwKqpwexe1ASrW8ya25Fueh3jXcRPMSjrAyj4SbzryTLiuKkPdi6fsprqtM2/pubhtml) se puede acceder a lista completa de hashtags y cuentas."
   ]
  },
  {
   "cell_type": "markdown",
   "metadata": {
    "slideshow": {
     "slide_type": "slide"
    }
   },
   "source": [
    "## Sobre el Dataset"
   ]
  },
  {
   "cell_type": "markdown",
   "metadata": {
    "slideshow": {
     "slide_type": "slide"
    }
   },
   "source": [
    "### Resumen de Estadísticas"
   ]
  },
  {
   "cell_type": "code",
   "execution_count": 10,
   "metadata": {
    "hide_input": true
   },
   "outputs": [],
   "source": [
    "%matplotlib inline\n",
    "\n",
    "import os\n",
    "import csv\n",
    "import json\n",
    "import matplotlib.pyplot as plt\n",
    "import seaborn as sns\n",
    "import numpy as np\n",
    "import pandas as pd\n",
    "from datetime import datetime\n",
    "from matplotlib import rc\n",
    "\n",
    "os.chdir('../..')\n",
    "\n",
    "from src.utils.db_manager import *\n",
    "from src.utils.data_wrangler import *\n",
    "from src.analyzer.data_analyzer import *\n",
    "from src.analyzer.network_analysis import NetworkAnalyzer\n",
    "\n",
    "plt.style.use('seaborn')"
   ]
  },
  {
   "cell_type": "code",
   "execution_count": 11,
   "metadata": {
    "hide_input": true
   },
   "outputs": [],
   "source": [
    "db = DBManager('tweets')"
   ]
  },
  {
   "cell_type": "code",
   "execution_count": 12,
   "metadata": {
    "hide_input": true
   },
   "outputs": [],
   "source": [
    "total_tweets = db.search({},only_relevant_tws=False).count()"
   ]
  },
  {
   "cell_type": "code",
   "execution_count": 13,
   "metadata": {
    "code_folding": [],
    "hide_input": true
   },
   "outputs": [],
   "source": [
    "#te = TweetEvaluator()\n",
    "#te.identify_relevant_tweets()\n",
    "relevant_tweets = db.search({'relevante':{'$gt':0}}).count()\n",
    "per_relevant = round(100*(relevant_tweets/total_tweets),0)\n"
   ]
  },
  {
   "cell_type": "code",
   "execution_count": 14,
   "metadata": {
    "code_folding": [
     0,
     5,
     13
    ],
    "hide_input": true
   },
   "outputs": [
    {
     "name": "stdout",
     "output_type": "stream",
     "text": [
      "Total de Tweets:   289,582\n",
      "Tweets Relevantes: 104,515 [36.0%](i.e., filtrando tweets de otros contextos electorales o países)\n"
     ]
    },
    {
     "data": {
      "image/png": "[encoded data removed]",
      "text/plain": [
       "<matplotlib.figure.Figure at 0x11610bda0>"
      ]
     },
     "metadata": {},
     "output_type": "display_data"
    }
   ],
   "source": [
    "print('Total de Tweets: {0:9,d}'\n",
    "      .format(total_tweets))\n",
    "print('Tweets Relevantes: {0:6,d} [{1}%](i.e., filtrando tweets de otros contextos electorales o países)'\n",
    "      .format(relevant_tweets, per_relevant))\n",
    "\n",
    "resumen_dataset = pd.DataFrame({\n",
    "    'Tipo': ['Total de Tweets', 'Tweets Relevantes'],\n",
    "    'Tweets': [total_tweets, relevant_tweets]\n",
    "}, index=['tt', 'tr'])\n",
    "\n",
    "fig_resumen = sns.barplot(x='Tipo', y='Tweets', data=resumen_dataset, order=['Total de Tweets', 'Tweets Relevantes'])\n",
    "ax_resumen = fig_resumen\n",
    "#annotate axis = seaborn axis\n",
    "for p in ax_resumen.patches:\n",
    "    ax_resumen.annotate(\"%d\" % p.get_height(), (p.get_x() + p.get_width() / 2., p.get_height()),\n",
    "                 ha='center', va='center', fontsize=12, color='black', xytext=(0, 10),\n",
    "                 textcoords='offset points')\n",
    "_ = fig_resumen.set_ylim(0,320000) #To make space for the annotations\n",
    "plt.show()"
   ]
  },
  {
   "cell_type": "markdown",
   "metadata": {},
   "source": [
    "La distinción entre entre tweets regulares y **relevantes** se debe a que cncontramos que los hashtags usados por los candidatos en sus campañas fueron también utilizados en otros paises. Pra el estudio consideramos solo aquellos tweets que además de los hashtags de interés contienen **alguna mención a cuentas de los candidatos**. "
   ]
  },
  {
   "cell_type": "markdown",
   "metadata": {},
   "source": [
    "### Número de perfiles autores de tweets"
   ]
  },
  {
   "cell_type": "code",
   "execution_count": 15,
   "metadata": {
    "hide_input": true
   },
   "outputs": [],
   "source": [
    "dbu = DBManager('users')\n",
    "unique_tw_authors = dbu.search({})"
   ]
  },
  {
   "cell_type": "code",
   "execution_count": 16,
   "metadata": {
    "hide_input": true
   },
   "outputs": [
    {
     "name": "stdout",
     "output_type": "stream",
     "text": [
      "En total 20680 perfiles publicaron tweets, retweets, replies, y citaciones relacionadas a las elecciones\n"
     ]
    }
   ],
   "source": [
    "print('En total {0} perfiles publicaron tweets, retweets, replies, y citaciones relacionadas a las elecciones'.format(unique_tw_authors.count()))"
   ]
  },
  {
   "cell_type": "markdown",
   "metadata": {},
   "source": [
    "### Tipos de tweets"
   ]
  },
  {
   "cell_type": "code",
   "execution_count": 65,
   "metadata": {
    "code_folding": [],
    "hide_input": true
   },
   "outputs": [],
   "source": [
    "# Types of tweets (general)\n",
    "original_tweets = db.get_original_tweets(**{})\n",
    "num_original_tweets = len(original_tweets)\n",
    "retweets = db.get_retweets(**{})\n",
    "num_retweets = len(retweets)\n",
    "replies = db.get_replies(**{})\n",
    "num_replies = len(replies)\n",
    "quotes = db.get_quotes(**{})\n",
    "num_quotes = len(quotes)"
   ]
  },
  {
   "cell_type": "code",
   "execution_count": 68,
   "metadata": {
    "hide_input": false
   },
   "outputs": [],
   "source": [
    "# Types of tweets (partido presidencial: ANR)\n",
    "original_tweets_anr = db.get_original_tweets(**{'partido': 'anr'})\n",
    "num_original_tweets_anr = len(original_tweets_anr)\n",
    "retweets_anr = db.get_retweets(**{'partido': 'anr'})\n",
    "num_retweets_anr = len(retweets_anr)\n",
    "replies_anr = db.get_replies(**{'partido': 'anr'})\n",
    "num_replies_anr = len(replies_anr)\n",
    "quotes_anr = db.get_quotes(**{'partido': 'anr'})\n",
    "num_quotes_anr = len(quotes_anr)"
   ]
  },
  {
   "cell_type": "code",
   "execution_count": 69,
   "metadata": {
    "hide_input": false
   },
   "outputs": [],
   "source": [
    "# Types of tweets (partido presidencial: PLRA)\n",
    "original_tweets_plra = db.get_original_tweets(**{'partido': 'plra'})\n",
    "num_original_tweets_plra = len(original_tweets_plra)\n",
    "retweets_plra = db.get_retweets(**{'partido': 'plra'})\n",
    "num_retweets_plra = len(retweets_plra)\n",
    "replies_plra = db.get_replies(**{'partido': 'plra'})\n",
    "num_replies_plra = len(replies_plra)\n",
    "quotes_plra = db.get_quotes(**{'partido': 'plra'})\n",
    "num_quotes_plra = len(quotes_plra)"
   ]
  },
  {
   "cell_type": "code",
   "execution_count": 88,
   "metadata": {
    "hide_input": false
   },
   "outputs": [],
   "source": [
    "# Types of tweets (partido legislativo: Frente Guazu)\n",
    "original_tweets_fg = db.get_original_tweets(**{'partido': 'fg'})\n",
    "num_original_tweets_fg = len(original_tweets_fg)\n",
    "retweets_fg = db.get_retweets(**{'partido': 'fg'})\n",
    "num_retweets_fg = len(retweets_fg)\n",
    "replies_fg = db.get_replies(**{'partido': 'fg'})\n",
    "num_replies_fg = len(replies_fg)\n",
    "quotes_fg = db.get_quotes(**{'partido': 'fg'})\n",
    "num_quotes_fg = len(quotes_fg)"
   ]
  },
  {
   "cell_type": "code",
   "execution_count": 71,
   "metadata": {
    "hide_input": false
   },
   "outputs": [],
   "source": [
    "# Types of tweets (partido legislativo: patria querida)\n",
    "original_tweets_ppq = db.get_original_tweets(**{'partido': 'ppq'})\n",
    "num_original_tweets_ppq = len(original_tweets_ppq)\n",
    "retweets_ppq = db.get_retweets(**{'partido': 'ppq'})\n",
    "num_retweets_ppq = len(retweets_ppq)\n",
    "replies_ppq = db.get_replies(**{'partido': 'ppq'})\n",
    "num_replies_ppq = len(replies_ppq)\n",
    "quotes_ppq = db.get_quotes(**{'partido': 'ppq'})\n",
    "num_quotes_ppq = len(quotes_ppq)"
   ]
  },
  {
   "cell_type": "code",
   "execution_count": 72,
   "metadata": {
    "hide_input": false
   },
   "outputs": [],
   "source": [
    "# Types of tweets (partido legislativo: hagamos)\n",
    "original_tweets_hagamos = db.get_original_tweets(**{'partido': 'hagamos'})\n",
    "num_original_tweets_hagamos = len(original_tweets_hagamos)\n",
    "retweets_hagamos = db.get_retweets(**{'partido': 'hagamos'})\n",
    "num_retweets_hagamos = len(retweets_hagamos)\n",
    "replies_hagamos = db.get_replies(**{'partido': 'hagamos'})\n",
    "num_replies_hagamos = len(replies_hagamos)\n",
    "quotes_hagamos = db.get_quotes(**{'partido': 'hagamos'})\n",
    "num_quotes_hagamos = len(quotes_hagamos)"
   ]
  },
  {
   "cell_type": "code",
   "execution_count": 73,
   "metadata": {
    "hide_input": false
   },
   "outputs": [],
   "source": [
    "# Types of tweets (partido legislativo: pdp)\n",
    "original_tweets_pdp = db.get_original_tweets(**{'partido': 'pdp'})\n",
    "num_original_tweets_pdp = len(original_tweets_pdp)\n",
    "retweets_pdp = db.get_retweets(**{'partido': 'pdp'})\n",
    "num_retweets_pdp = len(retweets_pdp)\n",
    "replies_pdp = db.get_replies(**{'partido': 'pdp'})\n",
    "num_replies_pdp = len(replies_pdp)\n",
    "quotes_pdp = db.get_quotes(**{'partido': 'pdp'})\n",
    "num_quotes_pdp = len(quotes_pdp)"
   ]
  },
  {
   "cell_type": "code",
   "execution_count": 74,
   "metadata": {
    "hide_input": false
   },
   "outputs": [],
   "source": [
    "# Types of tweets (partido legislativo: cruzada nacional)\n",
    "original_tweets_cruzada = db.get_original_tweets(**{'partido': 'cruzada'})\n",
    "num_original_tweets_cruzada = len(original_tweets_cruzada)\n",
    "retweets_cruzada = db.get_retweets(**{'partido': 'cruzada'})\n",
    "num_retweets_cruzada = len(retweets_cruzada)\n",
    "replies_cruzada = db.get_replies(**{'partido': 'cruzada'})\n",
    "num_replies_cruzada = len(replies_cruzada)\n",
    "quotes_cruzada = db.get_quotes(**{'partido': 'cruzada'})\n",
    "num_quotes_cruzada = len(quotes_cruzada)"
   ]
  },
  {
   "cell_type": "code",
   "execution_count": 67,
   "metadata": {
    "hide_input": false
   },
   "outputs": [],
   "source": [
    "# Types of tweets (partido legislativo: unace)\n",
    "original_tweets_unace = db.get_original_tweets(**{'partido': 'unace'})\n",
    "num_original_tweets_unace = len(original_tweets_unace)\n",
    "retweets_unace = db.get_retweets(**{'partido': 'unace'})\n",
    "num_retweets_unace = len(retweets_unace)\n",
    "replies_unace = db.get_replies(**{'partido': 'unace'})\n",
    "num_replies_unace = len(replies_unace)\n",
    "quotes_unace = db.get_quotes(**{'partido': 'unace'})\n",
    "num_quotes_unace = len(quotes_unace)"
   ]
  },
  {
   "cell_type": "code",
   "execution_count": 26,
   "metadata": {
    "hide_input": false
   },
   "outputs": [],
   "source": [
    "# partido verde (no data)"
   ]
  },
  {
   "cell_type": "code",
   "execution_count": 75,
   "metadata": {
    "hide_input": false
   },
   "outputs": [],
   "source": [
    "# Types of tweets (partido legislativo: somos py)\n",
    "original_tweets_somospy = db.get_original_tweets(**{'partido': 'somospy'})\n",
    "num_original_tweets_somospy = len(original_tweets_somospy)\n",
    "retweets_somospy = db.get_retweets(**{'partido': 'somospy'})\n",
    "num_retweets_somospy = len(retweets_somospy)\n",
    "replies_somospy = db.get_replies(**{'partido': 'somospy'})\n",
    "num_replies_somospy = len(replies_somospy)\n",
    "quotes_somospy = db.get_quotes(**{'partido': 'somospy'})\n",
    "num_quotes_somospy = len(quotes_somospy)"
   ]
  },
  {
   "cell_type": "code",
   "execution_count": 76,
   "metadata": {
    "hide_input": false
   },
   "outputs": [],
   "source": [
    "# Types of tweets (partido legislativo: pen)\n",
    "original_tweets_pen = db.get_original_tweets(**{'partido': 'pen'})\n",
    "num_original_tweets_pen = len(original_tweets_pen)\n",
    "retweets_pen = db.get_retweets(**{'partido': 'pen'})\n",
    "num_retweets_pen = len(retweets_pen)\n",
    "replies_pen = db.get_replies(**{'partido': 'pen'})\n",
    "num_replies_pen = len(replies_pen)\n",
    "quotes_pen = db.get_quotes(**{'partido': 'pen'})\n",
    "num_quotes_pen = len(quotes_pen)"
   ]
  },
  {
   "cell_type": "code",
   "execution_count": 77,
   "metadata": {
    "hide_input": false
   },
   "outputs": [],
   "source": [
    "# Types of tweets (partido legislativo: mpip)\n",
    "original_tweets_mpip = db.get_original_tweets(**{'partido': 'mpip'})\n",
    "num_original_tweets_mpip = len(original_tweets_mpip)\n",
    "retweets_mpip = db.get_retweets(**{'partido': 'mpip'})\n",
    "num_retweets_mpip = len(retweets_mpip)\n",
    "replies_mpip = db.get_replies(**{'partido': 'mpip'})\n",
    "num_replies_mpip = len(replies_mpip)\n",
    "quotes_mpip = db.get_quotes(**{'partido': 'mpip'})\n",
    "num_quotes_mpip = len(quotes_mpip)"
   ]
  },
  {
   "cell_type": "code",
   "execution_count": 78,
   "metadata": {
    "hide_input": false
   },
   "outputs": [],
   "source": [
    "# Types of tweets (partido legislativo: partido democrata cristiano)\n",
    "original_tweets_pdc = db.get_original_tweets(**{'partido': 'pdc'})\n",
    "num_original_tweets_pdc = len(original_tweets_pdc)\n",
    "retweets_pdc = db.get_retweets(**{'partido': 'pdc'})\n",
    "num_retweets_pdc = len(retweets_pdc)\n",
    "replies_pdc = db.get_replies(**{'partido': 'pdc'})\n",
    "num_replies_pdc = len(replies_pdc)\n",
    "quotes_pdc = db.get_quotes(**{'partido': 'pdc'})\n",
    "num_quotes_pdc = len(quotes_pdc)"
   ]
  },
  {
   "cell_type": "code",
   "execution_count": 31,
   "metadata": {
    "hide_input": false
   },
   "outputs": [],
   "source": [
    "# paraguay seguro (no data)"
   ]
  },
  {
   "cell_type": "code",
   "execution_count": 79,
   "metadata": {
    "hide_input": false
   },
   "outputs": [],
   "source": [
    "# Types of tweets (partido legislativo: pmas)\n",
    "original_tweets_pmas = db.get_original_tweets(**{'partido': 'pmas'})\n",
    "num_original_tweets_pmas = len(original_tweets_pmas)\n",
    "retweets_pmas = db.get_retweets(**{'partido': 'pmas'})\n",
    "num_retweets_pmas = len(retweets_pmas)\n",
    "replies_pmas = db.get_replies(**{'partido': 'pmas'})\n",
    "num_replies_pmas = len(replies_pmas)\n",
    "quotes_pmas = db.get_quotes(**{'partido': 'pmas'})\n",
    "num_quotes_pmas = len(quotes_pmas)"
   ]
  },
  {
   "cell_type": "code",
   "execution_count": 80,
   "metadata": {
    "hide_input": false
   },
   "outputs": [],
   "source": [
    "# Types of tweets (partido legislativo: avancemos)\n",
    "original_tweets_avancemos = db.get_original_tweets(**{'partido': 'avancemos'})\n",
    "num_original_tweets_avancemos = len(original_tweets_avancemos)\n",
    "retweets_avancemos = db.get_retweets(**{'partido': 'avancemos'})\n",
    "num_retweets_avancemos = len(retweets_avancemos)\n",
    "replies_avancemos = db.get_replies(**{'partido': 'avancemos'})\n",
    "num_replies_avancemos = len(replies_avancemos)\n",
    "quotes_avancemos = db.get_quotes(**{'partido': 'avancemos'})\n",
    "num_quotes_avancemos = len(quotes_avancemos)"
   ]
  },
  {
   "cell_type": "code",
   "execution_count": 81,
   "metadata": {
    "hide_input": false
   },
   "outputs": [
    {
     "data": {
      "image/png": "[encoded data removed]",
      "text/plain": [
       "<matplotlib.figure.Figure at 0x2ef7995f8>"
      ]
     },
     "metadata": {},
     "output_type": "display_data"
    }
   ],
   "source": [
    "tweets_por_tipo = pd.DataFrame({\n",
    "    'Tipo': ['Original', 'Retweet', 'Reply', 'Quote'],\n",
    "    'Tweets': [num_original_tweets, num_retweets, num_replies, num_quotes]\n",
    "}, index=['ot', 'rt', 'rp', 'qt'])\n",
    "\n",
    "fig = sns.barplot(x='Tipo', y='Tweets', data=tweets_por_tipo, order=['Retweet', 'Reply', 'Original', 'Quote'])\n",
    "ax=fig\n",
    "#annotate axis = seaborn axis\n",
    "for p in ax.patches:\n",
    "    ax.annotate(\"%d\" % p.get_height(), (p.get_x() + p.get_width() / 2., p.get_height()),\n",
    "                 ha='center', va='center', fontsize=12, color='black', xytext=(0, 10),\n",
    "                 textcoords='offset points')\n",
    "_ = fig.set_ylim(0,105000) #To make space for the annotations\n",
    "plt.show()"
   ]
  },
  {
   "cell_type": "markdown",
   "metadata": {},
   "source": [
    "### Tipos de Tweets por Partido"
   ]
  },
  {
   "cell_type": "code",
   "execution_count": 89,
   "metadata": {
    "hide_input": false
   },
   "outputs": [],
   "source": [
    "# Simplify variable names (TODO: do it upfront))\n",
    "o_anr = int(num_original_tweets_anr)\n",
    "o_plra = int(num_original_tweets_plra)\n",
    "o_fg = int(num_original_tweets_fg)\n",
    "o_ppq = int(num_original_tweets_ppq)\n",
    "o_hagamos = int(num_original_tweets_hagamos)\n",
    "o_pdp = int(num_original_tweets_pdp)\n",
    "o_cruzada = int(num_original_tweets_cruzada)\n",
    "o_unace = int(num_original_tweets_unace)\n",
    "o_somospy = int(num_original_tweets_somospy)\n",
    "o_pen = int(num_original_tweets_pen)\n",
    "o_mpip = int(num_original_tweets_mpip)\n",
    "o_pdc = int(num_original_tweets_pdc)\n",
    "o_pmas = int(num_original_tweets_pmas)\n",
    "o_avancemos = int(num_original_tweets_avancemos)\n",
    "rt_anr = int(num_retweets_anr)\n",
    "rt_plra = int(num_retweets_plra)\n",
    "rt_fg = int(num_retweets_fg)\n",
    "rt_ppq = int(num_retweets_ppq)\n",
    "rt_hagamos = int(num_retweets_hagamos)\n",
    "rt_pdp = int(num_retweets_pdp)\n",
    "rt_cruzada = int(num_retweets_cruzada)\n",
    "rt_unace = int(num_retweets_unace)\n",
    "rt_somospy = int(num_retweets_somospy)\n",
    "rt_pen = int(num_retweets_pen)\n",
    "rt_mpip = int(num_retweets_mpip)\n",
    "rt_pdc = int(num_retweets_pdc)\n",
    "rt_pmas = int(num_retweets_pmas)\n",
    "rt_avancemos = int(num_retweets_avancemos)\n",
    "rp_anr = int(num_replies_anr)\n",
    "rp_plra = int(num_replies_plra)\n",
    "rp_fg = int(num_replies_fg)\n",
    "rp_ppq = int(num_replies_ppq)\n",
    "rp_hagamos = int(num_replies_hagamos)\n",
    "rp_pdp = int(num_replies_pdp)\n",
    "rp_cruzada = int(num_replies_cruzada)\n",
    "rp_unace = int(num_replies_unace)\n",
    "rp_somospy = int(num_replies_somospy)\n",
    "rp_pen = int(num_replies_pen)\n",
    "rp_mpip = int(num_replies_mpip)\n",
    "rp_pdc = int(num_replies_pdc)\n",
    "rp_pmas = int(num_replies_pmas)\n",
    "rp_avancemos = int(num_replies_avancemos)\n",
    "q_anr = int(num_quotes_anr)\n",
    "q_plra = int(num_quotes_plra)\n",
    "q_fg = int(num_quotes_fg)\n",
    "q_ppq = int(num_quotes_ppq)\n",
    "q_hagamos = int(num_quotes_hagamos)\n",
    "q_pdp = int(num_quotes_pdp)\n",
    "q_cruzada = int(num_quotes_cruzada)\n",
    "q_unace = int(num_quotes_unace)\n",
    "q_somospy = int(num_quotes_somospy)\n",
    "q_pen = int(num_quotes_pen)\n",
    "q_mpip = int(num_quotes_mpip)\n",
    "q_pdc = int(num_quotes_pdc)\n",
    "q_pmas = int(num_quotes_pmas)\n",
    "q_avancemos = int(num_quotes_avancemos)"
   ]
  },
  {
   "cell_type": "code",
   "execution_count": 90,
   "metadata": {
    "hide_input": false
   },
   "outputs": [],
   "source": [
    "# Totales por Partido\n",
    "total_anr = int(o_anr+rt_anr+rp_anr+q_anr)\n",
    "total_plra = int(o_plra+rt_plra+rp_plra+q_plra)\n",
    "total_fg = int(o_fg+rt_fg+rp_fg+q_fg)\n",
    "total_ppq = int(o_ppq+rt_ppq+rp_ppq+q_ppq)\n",
    "total_hagamos = int(o_hagamos+rt_hagamos+rp_hagamos+q_hagamos)\n",
    "total_pdp = int(o_pdp+rt_pdp+rp_pdp+q_pdp)\n",
    "total_cruzada = int(o_cruzada+rt_cruzada+rp_cruzada+q_cruzada)\n",
    "total_unace = int(o_unace+rt_unace+rp_unace+q_unace)\n",
    "total_somospy = int(o_somospy+rt_somospy+rp_somospy+q_somospy)\n",
    "total_pen = int(o_pen+rt_pen+rp_pen+q_pen)\n",
    "total_mpip = int(o_mpip+rt_mpip+rp_mpip+q_mpip)\n",
    "total_pdc = int(o_pdc+rt_pdc+rp_pdc+q_pdc)\n",
    "total_pmas = int(o_pmas+rt_pmas+rp_pmas+q_pmas)\n",
    "total_avancemos = int(o_avancemos+rt_avancemos+rp_avancemos+q_avancemos)"
   ]
  },
  {
   "cell_type": "code",
   "execution_count": 91,
   "metadata": {
    "hide_input": false
   },
   "outputs": [],
   "source": [
    "# Prepare data frame for Types of Tweets by Party\n",
    "tweets_por_tipo_por_partido_raw = {\n",
    "    'Party': ['anr', 'plra', 'fg', 'ppq', 'hagamos', 'pdp', 'cruzada', 'unace', 'somospy', 'pen', 'mpip', \n",
    "              'pdc', 'pmas', 'avancemos'],\n",
    "    'Original': [o_anr, o_plra, o_fg, o_ppq, o_hagamos, o_pdp, o_cruzada, o_unace, o_somospy, o_pen, o_mpip, \n",
    "                 o_pdc, o_pmas, o_avancemos],\n",
    "    'Retweet': [rt_anr, rt_plra, rt_fg, rt_ppq, rt_hagamos, rt_pdp, rt_cruzada, rt_unace, rt_somospy, rt_pen, \n",
    "                rt_mpip, rt_pdc, rt_pmas, rt_avancemos], \n",
    "    'Reply': [rp_anr, rp_plra, rp_fg, rp_ppq, rp_hagamos, rp_pdp, rp_cruzada, rp_unace, rp_somospy, rp_pen, \n",
    "              rp_mpip, rp_pdc, rp_pmas, rp_avancemos], \n",
    "    'Quote': [q_anr, q_plra, q_fg, q_ppq, q_hagamos, q_pdp, q_cruzada, q_unace, q_somospy, q_pen, q_mpip, \n",
    "              q_pdc, q_pmas, q_avancemos],\n",
    "    'Total': [total_anr, total_plra, total_fg, total_ppq, total_hagamos, total_pdp, total_cruzada, total_unace, \n",
    "              total_somospy, total_pen, total_mpip, total_pdc, total_pmas, total_avancemos]\n",
    "}\n",
    "\n",
    "parties =  ['anr', 'plra', 'fg', 'ppq', 'hagamos', 'pdp', 'cruzada', 'unace', 'somospy', 'pen', 'mpip', 'pdc', \n",
    "            'pmas', 'avancemos']\n",
    "originals =  [o_anr, o_plra, o_fg, o_ppq, o_hagamos, o_pdp, o_cruzada, o_unace, o_somospy, o_pen, o_mpip, o_pdc, o_pmas, o_avancemos]\n",
    "retweets =  [rt_anr, rt_plra, rt_fg, rt_ppq, rt_hagamos, rt_pdp, rt_cruzada, rt_unace, rt_somospy, rt_pen, rt_mpip, rt_pdc, rt_pmas, rt_avancemos]\n",
    "replies =  [rp_anr, rp_plra, rp_fg, rp_ppq, rp_hagamos, rp_pdp, rp_cruzada, rp_unace, rp_somospy, rp_pen, rp_mpip, rp_pdc, rp_pmas, rp_avancemos] \n",
    "quotes =  [q_anr, q_plra, q_fg, q_ppq, q_hagamos, q_pdp, q_cruzada, q_unace, q_somospy, q_pen, q_mpip, q_pdc, q_pmas, q_avancemos]\n",
    "totals =  [total_anr, total_plra, total_fg, total_ppq, total_hagamos, total_pdp, total_cruzada, total_unace, total_somospy, total_pen, total_mpip, total_pdc, total_pmas, total_avancemos]\n",
    "positions =  ['anr', 'plra', 'fg', 'ppq', 'hagamos', 'pdp', 'cruzada', 'unace', 'somospy', 'pen', 'mpip', 'pdc', 'pmas', 'avancemos']\n"
   ]
  },
  {
   "cell_type": "code",
   "execution_count": 92,
   "metadata": {
    "hide_input": false
   },
   "outputs": [],
   "source": [
    "tweets_por_tipo_por_partido = pd.DataFrame(\n",
    "    tweets_por_tipo_por_partido_raw, \n",
    "    columns = ['Party', 'Original', 'Retweet', 'Reply', 'Quote', 'Total'])"
   ]
  },
  {
   "cell_type": "code",
   "execution_count": 93,
   "metadata": {
    "hide_input": false
   },
   "outputs": [],
   "source": [
    "# y-axis in bold\n",
    "rc('font', weight='bold')\n",
    " \n",
    "# Heights of originals + retweets\n",
    "from operator import add\n",
    "bottom_for_replies = list( map(add, originals, retweets) )\n",
    "\n",
    "# bottom_for_replies + quotes \n",
    "bottom_for_quotes = list( map(add, bottom_for_replies, replies) )\n",
    "\n",
    "# The position of the bars on the x-axis\n",
    "r = [0, 5, 10, 15, 20, 25, 30, 35, 40, 45, 50, 55, 60, 65]\n",
    " \n",
    "# # Names of group and bar width\n",
    "names = parties\n",
    "barWidth = 4"
   ]
  },
  {
   "cell_type": "code",
   "execution_count": 126,
   "metadata": {
    "hide_input": false
   },
   "outputs": [
    {
     "data": {
      "image/png": "[encoded data removed]",
      "text/plain": [
       "<matplotlib.figure.Figure at 0x127f8f6d8>"
      ]
     },
     "metadata": {},
     "output_type": "display_data"
    }
   ],
   "source": [
    "plt.style.use('seaborn')\n",
    "plt.figure(figsize=(15,6))\n",
    "\n",
    "# # Create brown bars\n",
    "or_bar = plt.bar(r, originals, color='#bd676b', edgecolor='white', width=barWidth, tick_label=originals)\n",
    "# # Create green bars (middle), on top of the firs ones\n",
    "rt_bar = plt.bar(r, retweets, bottom=originals, color='#6480ae', edgecolor='white', width=barWidth, tick_label=retweets)\n",
    "# # Create green bars (top)\n",
    "rp_bar = plt.bar(r, replies, bottom=bottom_for_replies, color='#6ba779', edgecolor='white', width=barWidth, tick_label=replies)\n",
    "# # Create green bars (top)\n",
    "qt_bar = plt.bar(r, quotes, bottom=bottom_for_quotes, color='#9085b3', edgecolor='white', width=barWidth, tick_label=quotes)\n",
    " \n",
    "# # Custom X axis\n",
    "plt.xticks(r, names, fontweight='bold')\n",
    "plt.xlabel(\"Parties\")\n",
    "    \n",
    "plt.legend((or_bar[0], rt_bar[0], rp_bar[0], qt_bar[0]), ('Original', 'Retweet', 'Reply', 'Quote'))\n",
    "\n",
    "x_bars = r + r + r + r\n",
    " \n",
    "# Text on the top of each barplot\n",
    "for i in range(len(originals)):\n",
    "    x = x_bars[i]-2\n",
    "    \n",
    "    # Prepare de original bar\n",
    "    y = originals[i]-1000\n",
    "    prev_y = y\n",
    "    if y<0: \n",
    "        y = 0\n",
    "    s = str(originals[i])\n",
    "    plt.text(x, y, s, size = 10)\n",
    "    \n",
    "    # Prepare de retweet bar\n",
    "    y = originals[i] + retweets[i]-1000\n",
    "    s = str(retweets[i])\n",
    "    \n",
    "    \n",
    "    # If diff between original and retweet too short, increase it\n",
    "    diff_prev = y - prev_y\n",
    "    prev_y = y\n",
    "    if diff_prev < 800: \n",
    "        y += 1500\n",
    "        s += \" (RTs)\"\n",
    "    \n",
    "    if y>2500:\n",
    "        plt.text(x, y, s, size = 10)\n",
    "    \n",
    "    # Prepare de replies bar\n",
    "    y = originals[i] + retweets[i] + replies[i] - 1000\n",
    "    s = str(replies[i])\n",
    "    \n",
    "    # If diff between original and retweet too short, increase it\n",
    "    diff_prev = y - prev_y\n",
    "    prev_y = y\n",
    "    if diff_prev < 800: \n",
    "        y += 1500\n",
    "        s += \" (RPs)\"\n",
    "    \n",
    "    if y>2500:\n",
    "        plt.text(x, y, s, size = 10)\n",
    "    \n",
    "    # Prepare de quotes bar\n",
    "    y = originals[i] + retweets[i] + replies[i] + quotes[i]-1000\n",
    "    s = str(quotes[i])\n",
    "    \n",
    "    # If diff between original and retweet too short, increase it\n",
    "    diff_prev = y - prev_y\n",
    "    prev_y = y\n",
    "    if diff_prev < 800: \n",
    "        y += 1500\n",
    "        s += \" (QTs)\"\n",
    "    \n",
    "    if y>2500:\n",
    "        plt.text(x, y, s, size = 10)\n",
    "\n",
    "\n",
    "\n",
    "# # Show graphic\n",
    "plt.show()\n"
   ]
  },
  {
   "cell_type": "code",
   "execution_count": 48,
   "metadata": {
    "hide_input": false
   },
   "outputs": [],
   "source": [
    "# sns.set(style=\"whitegrid\")\n",
    "\n",
    "# # Initialize the matplotlib figure\n",
    "# f, ax = plt.subplots(figsize=(15, 6))\n",
    "\n",
    "# # Plot total tweets\n",
    "# sns.set_color_codes(\"pastel\")\n",
    "# sns.barplot(x=\"Party\", y=\"Total\", data=tweets_por_tipo_por_partido,\n",
    "#             label=\"Total\", color=\"b\")\n",
    "\n",
    "# # Plot original tweets\n",
    "# sns.set_color_codes(\"muted\")\n",
    "# sns.barplot(x=\"Party\", y=\"Retweet\", data=tweets_por_tipo_por_partido,\n",
    "#             label=\"Retweets\", color=\"b\")\n",
    "\n",
    "# # Add a legend and informative axis label\n",
    "# ax.legend(ncol=2, loc=\"upper right\", frameon=True)\n",
    "# ax.set(ylim=(0, 45000), xlabel=\"\",\n",
    "#        ylabel=\"Number of retweets with respect to total number of tweets by party\")\n",
    "\n",
    "# # Annotate axis = seaborn axis\n",
    "# for p in ax.patches:\n",
    "#     height = p.get_height()\n",
    "#     if height>2000: \n",
    "#         ax.text(p.get_x()+p.get_width()/2,\n",
    "#                 height+100,\n",
    "#                 '{0}'.format(height),\n",
    "#                 ha=\"center\",fontsize=12, color='black')\n",
    "#     elif height<2000: \n",
    "#         ax.text(p.get_x()+p.get_width()/2,\n",
    "#                 height+100,\n",
    "#                 '{0}'.format(height),\n",
    "#                 ha=\"center\",fontsize=12, color='black')\n",
    "        \n",
    "\n",
    "# ax.annotate('Parties with seat in congress', xy=(7.5, 0), xytext=(7.5, 35000),\n",
    "#             arrowprops=dict(facecolor='black', shrink=0.05),\n",
    "#             )\n",
    "        \n",
    "# sns.despine(left=True, bottom=True)"
   ]
  },
  {
   "cell_type": "markdown",
   "metadata": {},
   "source": [
    "## Evolución de tweets en el tiempo"
   ]
  },
  {
   "cell_type": "code",
   "execution_count": 111,
   "metadata": {
    "hide_input": true
   },
   "outputs": [],
   "source": [
    "# get tweets by date (traditional parties)\n",
    "tw_by_date_anr = db.get_tweets_by_date(**{'partido':'anr'})\n",
    "tw_by_date_plra = db.get_tweets_by_date(**{'partido':'plra'})"
   ]
  },
  {
   "cell_type": "code",
   "execution_count": 112,
   "metadata": {
    "hide_input": true
   },
   "outputs": [],
   "source": [
    "# get tweets by date (third space})\n",
    "tw_by_date_fg = db.get_tweets_by_date(**{'partido':'fg'})\n",
    "tw_by_date_ppq = db.get_tweets_by_date(**{'partido':'ppq'})\n",
    "tw_by_date_hagamos = db.get_tweets_by_date(**{'partido':'hagamos'})\n",
    "tw_by_date_pdp = db.get_tweets_by_date(**{'partido':'pdp'})\n",
    "tw_by_date_cruzada = db.get_tweets_by_date(**{'partido':'cruzada'})\n",
    "tw_by_date_unace = db.get_tweets_by_date(**{'partido':'unace'})\n",
    "tw_by_date_pen = db.get_tweets_by_date(**{'partido':'pen'})\n",
    "tw_by_date_pmas = db.get_tweets_by_date(**{'partido':'pmas'})\n",
    "tw_by_date_avancemos = db.get_tweets_by_date(**{'partido':'avancemos'})"
   ]
  },
  {
   "cell_type": "code",
   "execution_count": 113,
   "metadata": {
    "hide_input": false
   },
   "outputs": [],
   "source": [
    "# convert list to pandas' dataframe\n",
    "tweets_por_fecha = pd.DataFrame(tw_by_date_anr)\n",
    "tweets_por_fecha = tweets_por_fecha.append(pd.DataFrame(tw_by_date_plra))\n",
    "tweets_por_fecha = tweets_por_fecha.append(pd.DataFrame(tw_by_date_fg))\n",
    "tweets_por_fecha = tweets_por_fecha.append(pd.DataFrame(tw_by_date_ppq))\n",
    "# tweets_por_fecha = tweets_por_fecha.append(pd.DataFrame(tw_by_date_hagamos))\n",
    "tweets_por_fecha = tweets_por_fecha.append(pd.DataFrame(tw_by_date_pdp))\n",
    "# tweets_por_fecha = tweets_por_fecha.append(pd.DataFrame(tw_by_date_cruzada))\n",
    "# tweets_por_fecha = tweets_por_fecha.append(pd.DataFrame(tw_by_date_unace))\n",
    "#tweets_por_fecha = tweets_por_fecha.append(pd.DataFrame(tw_by_date_pen))\n",
    "#tweets_por_fecha = tweets_por_fecha.append(pd.DataFrame(tw_by_date_pmas))\n",
    "# tweets_por_fecha = tweets_por_fecha.append(pd.DataFrame(tw_by_date_avancemos))"
   ]
  },
  {
   "cell_type": "code",
   "execution_count": 134,
   "metadata": {},
   "outputs": [
    {
     "data": {
      "image/png": "[encoded data removed]",
      "text/plain": [
       "<matplotlib.figure.Figure at 0x12b7f5be0>"
      ]
     },
     "metadata": {},
     "output_type": "display_data"
    }
   ],
   "source": [
    "# draw and show the figure\n",
    "# set figure size\n",
    "plt.figure(figsize=(16,4))\n",
    "sns.set_color_codes(\"dark\")\n",
    "fig = sns.lineplot(x='_id', y='count', data=tweets_por_fecha, palette=[\"red\", \"blue\", \"purple\", \"cyan\", \"green\"], hue=\"partido\")\n",
    "fig.set(xlabel='Fecha', ylabel='Tweets')\n",
    "for item in fig.get_xticklabels():\n",
    "    item.set_rotation(90)\n",
    "plt.show()"
   ]
  },
  {
   "cell_type": "markdown",
   "metadata": {},
   "source": [
    "La publicación de tweets fue creciendo con el paso del tiempo. A diferencia de las internas, el día de mayor actividad fue el **15 de abril**, fecha en que se llevó a cabo del debate presidencial. Interesantemente, en los días sucesivos a las elecciones, la actividad de twitter siguió fuerte en relación al plra, lo que coincide en gran medida con las denuncias de fraudes y de problemas con las actas y el conteo de votos para las legislativas. "
   ]
  },
  {
   "cell_type": "markdown",
   "metadata": {},
   "source": [
    "## Cantidad de Tweets por Partido por día"
   ]
  },
  {
   "cell_type": "markdown",
   "metadata": {},
   "source": [
    "### ANR"
   ]
  },
  {
   "cell_type": "code",
   "execution_count": 135,
   "metadata": {},
   "outputs": [
    {
     "name": "stdout",
     "output_type": "stream",
     "text": [
      "ANR publicó en promedio 409 tweets por día\n"
     ]
    }
   ],
   "source": [
    "mean_tweets_anr = tweets_por_fecha[tweets_por_fecha['partido']=='anr']['count'].mean()\n",
    "print('ANR publicó en promedio {0} tweets por día'.format(int(mean_tweets_anr)))"
   ]
  },
  {
   "cell_type": "markdown",
   "metadata": {},
   "source": [
    "### PLRA"
   ]
  },
  {
   "cell_type": "code",
   "execution_count": 136,
   "metadata": {},
   "outputs": [
    {
     "name": "stdout",
     "output_type": "stream",
     "text": [
      "El PLRA publicó en promedio 759 tweets por día\n"
     ]
    }
   ],
   "source": [
    "mean_tweets_plra = tweets_por_fecha[tweets_por_fecha['partido']=='plra']['count'].mean()\n",
    "print('El PLRA publicó en promedio {0} tweets por día'.format(int(mean_tweets_plra)))"
   ]
  },
  {
   "cell_type": "markdown",
   "metadata": {},
   "source": [
    "### Partidos no tradicionales"
   ]
  },
  {
   "cell_type": "code",
   "execution_count": 189,
   "metadata": {},
   "outputs": [
    {
     "name": "stdout",
     "output_type": "stream",
     "text": [
      "El partido frente guazu publicó en promedio 202.4 tweets por día\n",
      "El partido patria querida publicó en promedio 110 tweets por día\n",
      "El partido hagamos publicó en promedio nan tweets por día\n",
      "El partido pdp publicó en promedio 371 tweets por día\n"
     ]
    },
    {
     "ename": "ValueError",
     "evalue": "cannot convert float NaN to integer",
     "output_type": "error",
     "traceback": [
      "\u001b[0;31m---------------------------------------------------------------------------\u001b[0m",
      "\u001b[0;31mValueError\u001b[0m                                Traceback (most recent call last)",
      "\u001b[0;32m<ipython-input-189-e802fa240de6>\u001b[0m in \u001b[0;36m<module>\u001b[0;34m()\u001b[0m\n\u001b[1;32m     14\u001b[0m \u001b[0mprint\u001b[0m\u001b[0;34m(\u001b[0m\u001b[0;34m'El partido hagamos publicó en promedio {0} tweets por día'\u001b[0m\u001b[0;34m.\u001b[0m\u001b[0mformat\u001b[0m\u001b[0;34m(\u001b[0m\u001b[0mmean_tweets_hagamos\u001b[0m\u001b[0;34m)\u001b[0m\u001b[0;34m)\u001b[0m\u001b[0;34m\u001b[0m\u001b[0m\n\u001b[1;32m     15\u001b[0m \u001b[0mprint\u001b[0m\u001b[0;34m(\u001b[0m\u001b[0;34m'El partido pdp publicó en promedio {0} tweets por día'\u001b[0m\u001b[0;34m.\u001b[0m\u001b[0mformat\u001b[0m\u001b[0;34m(\u001b[0m\u001b[0mint\u001b[0m\u001b[0;34m(\u001b[0m\u001b[0mmean_tweets_pdp\u001b[0m\u001b[0;34m)\u001b[0m\u001b[0;34m)\u001b[0m\u001b[0;34m)\u001b[0m\u001b[0;34m\u001b[0m\u001b[0m\n\u001b[0;32m---> 16\u001b[0;31m \u001b[0mprint\u001b[0m\u001b[0;34m(\u001b[0m\u001b[0;34m'El partido cruzada nacional publicó en promedio {0} tweets por día'\u001b[0m\u001b[0;34m.\u001b[0m\u001b[0mformat\u001b[0m\u001b[0;34m(\u001b[0m\u001b[0mint\u001b[0m\u001b[0;34m(\u001b[0m\u001b[0mmean_tweets_cruzada\u001b[0m\u001b[0;34m)\u001b[0m\u001b[0;34m)\u001b[0m\u001b[0;34m)\u001b[0m\u001b[0;34m\u001b[0m\u001b[0m\n\u001b[0m\u001b[1;32m     17\u001b[0m \u001b[0mprint\u001b[0m\u001b[0;34m(\u001b[0m\u001b[0;34m'El partido unace publicó en promedio {0} tweets por día'\u001b[0m\u001b[0;34m.\u001b[0m\u001b[0mformat\u001b[0m\u001b[0;34m(\u001b[0m\u001b[0mint\u001b[0m\u001b[0;34m(\u001b[0m\u001b[0mmean_tweets_unace\u001b[0m\u001b[0;34m)\u001b[0m\u001b[0;34m)\u001b[0m\u001b[0;34m)\u001b[0m\u001b[0;34m\u001b[0m\u001b[0m\n\u001b[1;32m     18\u001b[0m \u001b[0mprint\u001b[0m\u001b[0;34m(\u001b[0m\u001b[0;34m'El partido pen publicó en promedio {0} tweets por día'\u001b[0m\u001b[0;34m.\u001b[0m\u001b[0mformat\u001b[0m\u001b[0;34m(\u001b[0m\u001b[0mint\u001b[0m\u001b[0;34m(\u001b[0m\u001b[0mmean_tweets_pen\u001b[0m\u001b[0;34m)\u001b[0m\u001b[0;34m)\u001b[0m\u001b[0;34m)\u001b[0m\u001b[0;34m\u001b[0m\u001b[0m\n",
      "\u001b[0;31mValueError\u001b[0m: cannot convert float NaN to integer"
     ]
    }
   ],
   "source": [
    "mean_tweets_fg = tweets_por_fecha[tweets_por_fecha['partido']=='fg']['count'].mean()\n",
    "mean_tweets_ppq = tweets_por_fecha[tweets_por_fecha['partido']=='ppq']['count'].mean()\n",
    "mean_tweets_hagamos = tweets_por_fecha[tweets_por_fecha['partido']=='hagamos']['count'].mean()\n",
    "mean_tweets_pdp = tweets_por_fecha[tweets_por_fecha['partido']=='pdp']['count'].mean()\n",
    "mean_tweets_cruzada = tweets_por_fecha[tweets_por_fecha['partido']=='cruzada']['count'].mean()\n",
    "mean_tweets_unace = tweets_por_fecha[tweets_por_fecha['partido']=='unace']['count'].mean()\n",
    "mean_tweets_pen = tweets_por_fecha[tweets_por_fecha['partido']=='pen']['count'].mean()\n",
    "mean_tweets_pmas = tweets_por_fecha[tweets_por_fecha['partido']=='pmas']['count'].mean()\n",
    "mean_tweets_avancemos = tweets_por_fecha[tweets_por_fecha['partido']=='avancemos']['count'].mean()\n",
    "\n",
    "\n",
    "print('El partido frente guazu publicó en promedio {0} tweets por día'.format(mean_tweets_fg))\n",
    "print('El partido patria querida publicó en promedio {0} tweets por día'.format(mean_tweets_ppq))\n",
    "print('El partido hagamos publicó en promedio {0} tweets por día'.format(mean_tweets_hagamos))\n",
    "print('El partido pdp publicó en promedio {0} tweets por día'.format(int(mean_tweets_pdp)))\n",
    "print('El partido cruzada nacional publicó en promedio {0} tweets por día'.format(int(mean_tweets_cruzada)))\n",
    "print('El partido unace publicó en promedio {0} tweets por día'.format(int(mean_tweets_unace)))\n",
    "print('El partido pen publicó en promedio {0} tweets por día'.format(int(mean_tweets_pen)))\n",
    "print('El partido pmas publicó en promedio {0} tweets por día'.format(int(mean_tweets_pmas)))\n",
    "print('El partido avancemos publicó en promedio {0} tweets por día'.format(int(mean_tweets_avancemos)))\n",
    "\n"
   ]
  },
  {
   "cell_type": "markdown",
   "metadata": {},
   "source": [
    "## Frecuencia de posteo"
   ]
  },
  {
   "cell_type": "code",
   "execution_count": 96,
   "metadata": {},
   "outputs": [],
   "source": [
    "fp = db.get_posting_frequency_in_seconds({})\n",
    "fp_df = pd.DataFrame(fp)"
   ]
  },
  {
   "cell_type": "code",
   "execution_count": 88,
   "metadata": {},
   "outputs": [
    {
     "name": "stdout",
     "output_type": "stream",
     "text": [
      "En promedio se publicaron tweets relacionados a las elecciones generales 0.0 segundos\n"
     ]
    }
   ],
   "source": [
    "print('En promedio se publicaron tweets relacionados a las elecciones generales {0} segundos'.\n",
    "      format(round(fp_df['diff_with_previous'].mean(), 2)))"
   ]
  },
  {
   "cell_type": "markdown",
   "metadata": {},
   "source": [
    "### ANR"
   ]
  },
  {
   "cell_type": "code",
   "execution_count": null,
   "metadata": {},
   "outputs": [],
   "source": [
    "fp_anr = db.get_posting_frequency_in_seconds(**{'partido': 'anr'})\n",
    "fp_anr_df = pd.DataFrame(fp_anr)"
   ]
  },
  {
   "cell_type": "code",
   "execution_count": 93,
   "metadata": {},
   "outputs": [
    {
     "name": "stdout",
     "output_type": "stream",
     "text": [
      "En promedio se publicaron tweets relacionados al Partido ANR cada 0.0 segundos\n"
     ]
    }
   ],
   "source": [
    "print('En promedio se publicaron tweets relacionados al Partido ANR cada {0} segundos'.\n",
    "      format(round(fp_anr_df['diff_with_previous'].mean(), 2)))"
   ]
  },
  {
   "cell_type": "markdown",
   "metadata": {},
   "source": [
    "### PLRA"
   ]
  },
  {
   "cell_type": "code",
   "execution_count": 92,
   "metadata": {},
   "outputs": [],
   "source": [
    "fp_plra = db.get_posting_frequency_in_seconds(**{'partido': 'plra'})\n",
    "fp_plra_df = pd.DataFrame(fp_plra)"
   ]
  },
  {
   "cell_type": "code",
   "execution_count": 95,
   "metadata": {},
   "outputs": [
    {
     "name": "stdout",
     "output_type": "stream",
     "text": [
      "En promedio se publicaron tweets relacionados al partido PLRA cada 0.0 segundos\n"
     ]
    }
   ],
   "source": [
    "print('En promedio se publicaron tweets relacionados al partido PLRA cada {0} segundos'.\n",
    "      format(round(fp_plra_df['diff_with_previous'].mean(), 2)))"
   ]
  },
  {
   "cell_type": "markdown",
   "metadata": {},
   "source": [
    "### Third Space"
   ]
  },
  {
   "cell_type": "code",
   "execution_count": null,
   "metadata": {},
   "outputs": [],
   "source": []
  },
  {
   "cell_type": "code",
   "execution_count": null,
   "metadata": {},
   "outputs": [],
   "source": []
  },
  {
   "cell_type": "markdown",
   "metadata": {},
   "source": [
    "## Distribución de tweets por hora el día D (17/12/17)"
   ]
  },
  {
   "cell_type": "code",
   "execution_count": 9,
   "metadata": {
    "collapsed": true
   },
   "outputs": [],
   "source": [
    "# get tweets by hour by movement\n",
    "hc_tw_by_hour = db.get_tweets_by_hour('12/17/17', **{'partido': 'anr','movimiento': 'honor colorado'})\n",
    "ca_tw_by_hour = db.get_tweets_by_hour('12/17/17', **{'partido': 'anr','movimiento': 'colorado añetete'})\n",
    "# convert list to pandas' dataframe\n",
    "tweets_by_hour = pd.DataFrame(hc_tw_by_hour)\n",
    "tweets_by_hour = tweets_by_hour.append(pd.DataFrame(ca_tw_by_hour))"
   ]
  },
  {
   "cell_type": "code",
   "execution_count": 10,
   "metadata": {},
   "outputs": [
    {
     "data": {
      "image/png": "[encoded data removed]",
      "text/plain": [
       "<matplotlib.figure.Figure at 0x121f2c668>"
      ]
     },
     "metadata": {
      "needs_background": "light"
     },
     "output_type": "display_data"
    }
   ],
   "source": [
    "# set figure size\n",
    "plt.figure(figsize=(12,6))\n",
    "# draw and show the figure\n",
    "fig = sns.lineplot(x='hour', y='count', data=tweets_by_hour, hue=\"movimiento\", \n",
    "                    palette=\"Reds_d\")\n",
    "fig.set(xlabel='Hora', ylabel='Tweets')\n",
    "for item in fig.get_xticklabels():\n",
    "    item.set_rotation(90)\n",
    "plt.show()"
   ]
  },
  {
   "cell_type": "markdown",
   "metadata": {},
   "source": [
    "La cantidad de tweets con información relacionada a **`Honor Colorado`** fue superior durante toda la jornada electoral con respecto a los tweets de **`Colorado Añeteté`**, inclusive aún después de la proclamación del TREP (20 hs)"
   ]
  },
  {
   "cell_type": "markdown",
   "metadata": {},
   "source": [
    "## Cantidad de tuiteros por movimiento"
   ]
  },
  {
   "cell_type": "markdown",
   "metadata": {},
   "source": [
    "Análisis de la cantidad de perfiles que publicaron tweets conteniendo los hashtags de los movimientos. Los conjuntos de perfiles no son mutuamente excluyente. En otros palabras, pueden existir perfiles que hayan realizado publicado tweets usando hashtags vinculados a ambos movimientos. "
   ]
  },
  {
   "cell_type": "markdown",
   "metadata": {},
   "source": [
    "### Partido Colorado"
   ]
  },
  {
   "cell_type": "code",
   "execution_count": 139,
   "metadata": {},
   "outputs": [
    {
     "name": "stdout",
     "output_type": "stream",
     "text": [
      "2043 usuarios tuitearon utilizando hashtags vinculados al partido ANR\n"
     ]
    }
   ],
   "source": [
    "users = dbu.get_users_and_activity(**{'partido': 'anr'})\n",
    "print('{0} usuarios tuitearon utilizando hashtags vinculados al partido ANR'.\n",
    "      format(len(users)))"
   ]
  },
  {
   "cell_type": "markdown",
   "metadata": {},
   "source": [
    "#### Top-10 más activos con sus principales características y actividades"
   ]
  },
  {
   "cell_type": "code",
   "execution_count": 140,
   "metadata": {},
   "outputs": [
    {
     "data": {
      "text/html": [
       "<div>\n",
       "<style scoped>\n",
       "    .dataframe tbody tr th:only-of-type {\n",
       "        vertical-align: middle;\n",
       "    }\n",
       "\n",
       "    .dataframe tbody tr th {\n",
       "        vertical-align: top;\n",
       "    }\n",
       "\n",
       "    .dataframe thead th {\n",
       "        text-align: right;\n",
       "    }\n",
       "</style>\n",
       "<table border=\"1\" class=\"dataframe\">\n",
       "  <thead>\n",
       "    <tr style=\"text-align: right;\">\n",
       "      <th></th>\n",
       "      <th>1.Usuario</th>\n",
       "      <th>3.Tweets</th>\n",
       "      <th>4.Originales</th>\n",
       "      <th>5.Retweets</th>\n",
       "      <th>6.Quotes</th>\n",
       "      <th>7.Replies</th>\n",
       "      <th>8.Followers</th>\n",
       "      <th>9.Friends</th>\n",
       "    </tr>\n",
       "  </thead>\n",
       "  <tbody>\n",
       "    <tr>\n",
       "      <th>0</th>\n",
       "      <td>Paraguaynosune</td>\n",
       "      <td>466</td>\n",
       "      <td>0</td>\n",
       "      <td>466</td>\n",
       "      <td>0</td>\n",
       "      <td>0</td>\n",
       "      <td>768</td>\n",
       "      <td>179</td>\n",
       "    </tr>\n",
       "    <tr>\n",
       "      <th>1</th>\n",
       "      <td>Beatriz20D</td>\n",
       "      <td>379</td>\n",
       "      <td>0</td>\n",
       "      <td>297</td>\n",
       "      <td>0</td>\n",
       "      <td>82</td>\n",
       "      <td>274</td>\n",
       "      <td>706</td>\n",
       "    </tr>\n",
       "    <tr>\n",
       "      <th>2</th>\n",
       "      <td>Solmelga</td>\n",
       "      <td>173</td>\n",
       "      <td>61</td>\n",
       "      <td>75</td>\n",
       "      <td>1</td>\n",
       "      <td>36</td>\n",
       "      <td>5869</td>\n",
       "      <td>4882</td>\n",
       "    </tr>\n",
       "    <tr>\n",
       "      <th>3</th>\n",
       "      <td>beelu44</td>\n",
       "      <td>169</td>\n",
       "      <td>0</td>\n",
       "      <td>169</td>\n",
       "      <td>0</td>\n",
       "      <td>0</td>\n",
       "      <td>56</td>\n",
       "      <td>68</td>\n",
       "    </tr>\n",
       "    <tr>\n",
       "      <th>4</th>\n",
       "      <td>w4mFdMaubs7NLMo</td>\n",
       "      <td>169</td>\n",
       "      <td>41</td>\n",
       "      <td>101</td>\n",
       "      <td>11</td>\n",
       "      <td>16</td>\n",
       "      <td>137</td>\n",
       "      <td>120</td>\n",
       "    </tr>\n",
       "    <tr>\n",
       "      <th>5</th>\n",
       "      <td>RmjEpGVHus7g4tR</td>\n",
       "      <td>167</td>\n",
       "      <td>48</td>\n",
       "      <td>98</td>\n",
       "      <td>7</td>\n",
       "      <td>14</td>\n",
       "      <td>200</td>\n",
       "      <td>323</td>\n",
       "    </tr>\n",
       "    <tr>\n",
       "      <th>6</th>\n",
       "      <td>vaaGloria</td>\n",
       "      <td>166</td>\n",
       "      <td>1</td>\n",
       "      <td>129</td>\n",
       "      <td>36</td>\n",
       "      <td>0</td>\n",
       "      <td>42</td>\n",
       "      <td>64</td>\n",
       "    </tr>\n",
       "    <tr>\n",
       "      <th>7</th>\n",
       "      <td>k9RvTwj7nT6NwpO</td>\n",
       "      <td>159</td>\n",
       "      <td>47</td>\n",
       "      <td>90</td>\n",
       "      <td>7</td>\n",
       "      <td>15</td>\n",
       "      <td>120</td>\n",
       "      <td>177</td>\n",
       "    </tr>\n",
       "    <tr>\n",
       "      <th>8</th>\n",
       "      <td>mpairet</td>\n",
       "      <td>155</td>\n",
       "      <td>2</td>\n",
       "      <td>40</td>\n",
       "      <td>9</td>\n",
       "      <td>104</td>\n",
       "      <td>320</td>\n",
       "      <td>253</td>\n",
       "    </tr>\n",
       "    <tr>\n",
       "      <th>9</th>\n",
       "      <td>EDITHVILLA3</td>\n",
       "      <td>155</td>\n",
       "      <td>10</td>\n",
       "      <td>65</td>\n",
       "      <td>0</td>\n",
       "      <td>80</td>\n",
       "      <td>664</td>\n",
       "      <td>1147</td>\n",
       "    </tr>\n",
       "  </tbody>\n",
       "</table>\n",
       "</div>"
      ],
      "text/plain": [
       "         1.Usuario  3.Tweets  4.Originales  5.Retweets  6.Quotes  7.Replies  \\\n",
       "0   Paraguaynosune       466             0         466         0          0   \n",
       "1       Beatriz20D       379             0         297         0         82   \n",
       "2         Solmelga       173            61          75         1         36   \n",
       "3          beelu44       169             0         169         0          0   \n",
       "4  w4mFdMaubs7NLMo       169            41         101        11         16   \n",
       "5  RmjEpGVHus7g4tR       167            48          98         7         14   \n",
       "6        vaaGloria       166             1         129        36          0   \n",
       "7  k9RvTwj7nT6NwpO       159            47          90         7         15   \n",
       "8          mpairet       155             2          40         9        104   \n",
       "9      EDITHVILLA3       155            10          65         0         80   \n",
       "\n",
       "   8.Followers  9.Friends  \n",
       "0          768        179  \n",
       "1          274        706  \n",
       "2         5869       4882  \n",
       "3           56         68  \n",
       "4          137        120  \n",
       "5          200        323  \n",
       "6           42         64  \n",
       "7          120        177  \n",
       "8          320        253  \n",
       "9          664       1147  "
      ]
     },
     "execution_count": 140,
     "metadata": {},
     "output_type": "execute_result"
    }
   ],
   "source": [
    "top10_tuiteros_anr = []\n",
    "for i in range(10):\n",
    "    tuitero_anr = {'1.Usuario': users[i]['screen_name'], \n",
    "                  '3.Tweets': users[i]['tweets'],\n",
    "                  '4.Originales': users[i]['original_tweets'],\n",
    "                  '5.Retweets': users[i]['rts'],\n",
    "                  '6.Quotes': users[i]['qts'],\n",
    "                  '7.Replies': users[i]['rps'],\n",
    "                  '8.Followers': users[i]['followers'],\n",
    "                  '9.Friends': users[i]['friends']}\n",
    "#     # 0.87 es el límite del tercer quartil en la distribución de\n",
    "#     # las probabilidades de ser bot o cuenta falsa\n",
    "#     if users[i]['pbb'] > 0.87:\n",
    "#         tuitero_anr['2. Es cuenta Falsa?'] = 'Si'\n",
    "#     else:\n",
    "#         tuitero_anr['2. Es cuenta Falsa?'] = 'No'\n",
    "    top10_tuiteros_anr.append(tuitero_anr)\n",
    "pd.DataFrame(top10_tuiteros_anr)"
   ]
  },
  {
   "cell_type": "markdown",
   "metadata": {},
   "source": [
    "### PLRA"
   ]
  },
  {
   "cell_type": "code",
   "execution_count": 141,
   "metadata": {},
   "outputs": [
    {
     "name": "stdout",
     "output_type": "stream",
     "text": [
      "892 usuarios tuitearon utilizando hashtags vinculados al partido PLRA\n"
     ]
    }
   ],
   "source": [
    "users_plra = dbu.get_users_and_activity(**{'partido': 'plra'})\n",
    "print('{0} usuarios tuitearon utilizando hashtags vinculados al partido PLRA'.\n",
    "      format(len(users_plra)))"
   ]
  },
  {
   "cell_type": "markdown",
   "metadata": {},
   "source": [
    "#### Top-10 más activos y sus actividades"
   ]
  },
  {
   "cell_type": "code",
   "execution_count": 145,
   "metadata": {
    "scrolled": true
   },
   "outputs": [
    {
     "data": {
      "text/html": [
       "<div>\n",
       "<style scoped>\n",
       "    .dataframe tbody tr th:only-of-type {\n",
       "        vertical-align: middle;\n",
       "    }\n",
       "\n",
       "    .dataframe tbody tr th {\n",
       "        vertical-align: top;\n",
       "    }\n",
       "\n",
       "    .dataframe thead th {\n",
       "        text-align: right;\n",
       "    }\n",
       "</style>\n",
       "<table border=\"1\" class=\"dataframe\">\n",
       "  <thead>\n",
       "    <tr style=\"text-align: right;\">\n",
       "      <th></th>\n",
       "      <th>1.Usuario</th>\n",
       "      <th>3.Tweets</th>\n",
       "      <th>4.Originales</th>\n",
       "      <th>5.Retweets</th>\n",
       "      <th>6.Quotes</th>\n",
       "      <th>7.Replies</th>\n",
       "      <th>8.Followers</th>\n",
       "      <th>9.Friends</th>\n",
       "    </tr>\n",
       "  </thead>\n",
       "  <tbody>\n",
       "    <tr>\n",
       "      <th>0</th>\n",
       "      <td>MarioMaritocue7</td>\n",
       "      <td>316</td>\n",
       "      <td>0</td>\n",
       "      <td>292</td>\n",
       "      <td>0</td>\n",
       "      <td>24</td>\n",
       "      <td>31</td>\n",
       "      <td>63</td>\n",
       "    </tr>\n",
       "    <tr>\n",
       "      <th>1</th>\n",
       "      <td>marcosozuna_</td>\n",
       "      <td>237</td>\n",
       "      <td>0</td>\n",
       "      <td>227</td>\n",
       "      <td>1</td>\n",
       "      <td>9</td>\n",
       "      <td>684</td>\n",
       "      <td>807</td>\n",
       "    </tr>\n",
       "    <tr>\n",
       "      <th>2</th>\n",
       "      <td>mariateresabae9</td>\n",
       "      <td>227</td>\n",
       "      <td>1</td>\n",
       "      <td>193</td>\n",
       "      <td>0</td>\n",
       "      <td>33</td>\n",
       "      <td>226</td>\n",
       "      <td>66</td>\n",
       "    </tr>\n",
       "    <tr>\n",
       "      <th>3</th>\n",
       "      <td>SantacruzFISA</td>\n",
       "      <td>214</td>\n",
       "      <td>7</td>\n",
       "      <td>59</td>\n",
       "      <td>36</td>\n",
       "      <td>112</td>\n",
       "      <td>818</td>\n",
       "      <td>179</td>\n",
       "    </tr>\n",
       "    <tr>\n",
       "      <th>4</th>\n",
       "      <td>PedroBalbuena17</td>\n",
       "      <td>198</td>\n",
       "      <td>9</td>\n",
       "      <td>117</td>\n",
       "      <td>0</td>\n",
       "      <td>72</td>\n",
       "      <td>1226</td>\n",
       "      <td>158</td>\n",
       "    </tr>\n",
       "    <tr>\n",
       "      <th>5</th>\n",
       "      <td>juancoolazar</td>\n",
       "      <td>188</td>\n",
       "      <td>0</td>\n",
       "      <td>188</td>\n",
       "      <td>0</td>\n",
       "      <td>0</td>\n",
       "      <td>148</td>\n",
       "      <td>184</td>\n",
       "    </tr>\n",
       "    <tr>\n",
       "      <th>6</th>\n",
       "      <td>c10arguello</td>\n",
       "      <td>187</td>\n",
       "      <td>0</td>\n",
       "      <td>144</td>\n",
       "      <td>0</td>\n",
       "      <td>43</td>\n",
       "      <td>3196</td>\n",
       "      <td>574</td>\n",
       "    </tr>\n",
       "    <tr>\n",
       "      <th>7</th>\n",
       "      <td>leitorubin</td>\n",
       "      <td>163</td>\n",
       "      <td>76</td>\n",
       "      <td>62</td>\n",
       "      <td>1</td>\n",
       "      <td>24</td>\n",
       "      <td>1725</td>\n",
       "      <td>23484</td>\n",
       "    </tr>\n",
       "    <tr>\n",
       "      <th>8</th>\n",
       "      <td>info_paraguay</td>\n",
       "      <td>161</td>\n",
       "      <td>15</td>\n",
       "      <td>106</td>\n",
       "      <td>32</td>\n",
       "      <td>8</td>\n",
       "      <td>115</td>\n",
       "      <td>12</td>\n",
       "    </tr>\n",
       "    <tr>\n",
       "      <th>9</th>\n",
       "      <td>lohsegovia</td>\n",
       "      <td>156</td>\n",
       "      <td>0</td>\n",
       "      <td>112</td>\n",
       "      <td>0</td>\n",
       "      <td>44</td>\n",
       "      <td>72</td>\n",
       "      <td>42</td>\n",
       "    </tr>\n",
       "  </tbody>\n",
       "</table>\n",
       "</div>"
      ],
      "text/plain": [
       "         1.Usuario  3.Tweets  4.Originales  5.Retweets  6.Quotes  7.Replies  \\\n",
       "0  MarioMaritocue7       316             0         292         0         24   \n",
       "1     marcosozuna_       237             0         227         1          9   \n",
       "2  mariateresabae9       227             1         193         0         33   \n",
       "3    SantacruzFISA       214             7          59        36        112   \n",
       "4  PedroBalbuena17       198             9         117         0         72   \n",
       "5     juancoolazar       188             0         188         0          0   \n",
       "6      c10arguello       187             0         144         0         43   \n",
       "7       leitorubin       163            76          62         1         24   \n",
       "8    info_paraguay       161            15         106        32          8   \n",
       "9       lohsegovia       156             0         112         0         44   \n",
       "\n",
       "   8.Followers  9.Friends  \n",
       "0           31         63  \n",
       "1          684        807  \n",
       "2          226         66  \n",
       "3          818        179  \n",
       "4         1226        158  \n",
       "5          148        184  \n",
       "6         3196        574  \n",
       "7         1725      23484  \n",
       "8          115         12  \n",
       "9           72         42  "
      ]
     },
     "execution_count": 145,
     "metadata": {},
     "output_type": "execute_result"
    }
   ],
   "source": [
    "top10_tuiteros_plra = []\n",
    "for i in range(10):\n",
    "    tuitero_plra = {'1.Usuario': users_plra[i]['screen_name'], \n",
    "                  '3.Tweets': users_plra[i]['tweets'],\n",
    "                  '4.Originales': users_plra[i]['original_tweets'],\n",
    "                  '5.Retweets': users_plra[i]['rts'],\n",
    "                  '6.Quotes': users_plra[i]['qts'],\n",
    "                  '7.Replies': users_plra[i]['rps'],\n",
    "                  '8.Followers': users_plra[i]['friends'],\n",
    "                  '9.Friends': users_plra[i]['followers']\n",
    "                   }\n",
    "    # 0.87 es el límite del tercer quartil en la distribución de\n",
    "    # las probabilidades de ser bot o cuenta falsa\n",
    "#     if users_ca[i]['pbb'] > 0.87:\n",
    "#         tuitero_ca['2. Es cuenta Falsa?'] = 'Si'\n",
    "#     else:\n",
    "#         tuitero_ca['2. Es cuenta Falsa?'] = 'No'\n",
    "    top10_tuiteros_plra.append(tuitero_plra)\n",
    "pd.DataFrame(top10_tuiteros_plra)"
   ]
  },
  {
   "cell_type": "markdown",
   "metadata": {},
   "source": [
    "### PDP"
   ]
  },
  {
   "cell_type": "code",
   "execution_count": 147,
   "metadata": {},
   "outputs": [
    {
     "name": "stdout",
     "output_type": "stream",
     "text": [
      "169 usuarios tuitearon utilizando hashtags vinculados al partido PDP\n"
     ]
    }
   ],
   "source": [
    "users_pdp = dbu.get_users_and_activity(**{'partido': 'pdp'})\n",
    "print('{0} usuarios tuitearon utilizando hashtags vinculados al partido PDP'.\n",
    "      format(len(users_pdp)))"
   ]
  },
  {
   "cell_type": "markdown",
   "metadata": {},
   "source": [
    "#### Top-10 más activos y sus actividades"
   ]
  },
  {
   "cell_type": "code",
   "execution_count": 148,
   "metadata": {
    "scrolled": true
   },
   "outputs": [
    {
     "data": {
      "text/html": [
       "<div>\n",
       "<style scoped>\n",
       "    .dataframe tbody tr th:only-of-type {\n",
       "        vertical-align: middle;\n",
       "    }\n",
       "\n",
       "    .dataframe tbody tr th {\n",
       "        vertical-align: top;\n",
       "    }\n",
       "\n",
       "    .dataframe thead th {\n",
       "        text-align: right;\n",
       "    }\n",
       "</style>\n",
       "<table border=\"1\" class=\"dataframe\">\n",
       "  <thead>\n",
       "    <tr style=\"text-align: right;\">\n",
       "      <th></th>\n",
       "      <th>1.Usuario</th>\n",
       "      <th>3.Tweets</th>\n",
       "      <th>4.Originales</th>\n",
       "      <th>5.Retweets</th>\n",
       "      <th>6.Quotes</th>\n",
       "      <th>7.Replies</th>\n",
       "      <th>8.Followers</th>\n",
       "      <th>9.Friends</th>\n",
       "    </tr>\n",
       "  </thead>\n",
       "  <tbody>\n",
       "    <tr>\n",
       "      <th>0</th>\n",
       "      <td>Norabeli</td>\n",
       "      <td>873</td>\n",
       "      <td>4</td>\n",
       "      <td>656</td>\n",
       "      <td>0</td>\n",
       "      <td>213</td>\n",
       "      <td>997</td>\n",
       "      <td>2121</td>\n",
       "    </tr>\n",
       "    <tr>\n",
       "      <th>1</th>\n",
       "      <td>pdpprogresista</td>\n",
       "      <td>697</td>\n",
       "      <td>70</td>\n",
       "      <td>549</td>\n",
       "      <td>40</td>\n",
       "      <td>38</td>\n",
       "      <td>1874</td>\n",
       "      <td>1071</td>\n",
       "    </tr>\n",
       "    <tr>\n",
       "      <th>2</th>\n",
       "      <td>desimasi2</td>\n",
       "      <td>401</td>\n",
       "      <td>56</td>\n",
       "      <td>180</td>\n",
       "      <td>31</td>\n",
       "      <td>134</td>\n",
       "      <td>1092</td>\n",
       "      <td>31821</td>\n",
       "    </tr>\n",
       "    <tr>\n",
       "      <th>3</th>\n",
       "      <td>casanaslevi</td>\n",
       "      <td>315</td>\n",
       "      <td>14</td>\n",
       "      <td>272</td>\n",
       "      <td>12</td>\n",
       "      <td>17</td>\n",
       "      <td>957</td>\n",
       "      <td>10173</td>\n",
       "    </tr>\n",
       "    <tr>\n",
       "      <th>4</th>\n",
       "      <td>gladysgulino</td>\n",
       "      <td>268</td>\n",
       "      <td>0</td>\n",
       "      <td>261</td>\n",
       "      <td>0</td>\n",
       "      <td>7</td>\n",
       "      <td>110</td>\n",
       "      <td>592</td>\n",
       "    </tr>\n",
       "    <tr>\n",
       "      <th>5</th>\n",
       "      <td>gzgonzalez25</td>\n",
       "      <td>236</td>\n",
       "      <td>0</td>\n",
       "      <td>221</td>\n",
       "      <td>0</td>\n",
       "      <td>15</td>\n",
       "      <td>49</td>\n",
       "      <td>57</td>\n",
       "    </tr>\n",
       "    <tr>\n",
       "      <th>6</th>\n",
       "      <td>Francis48732579</td>\n",
       "      <td>217</td>\n",
       "      <td>0</td>\n",
       "      <td>179</td>\n",
       "      <td>0</td>\n",
       "      <td>38</td>\n",
       "      <td>110</td>\n",
       "      <td>75</td>\n",
       "    </tr>\n",
       "    <tr>\n",
       "      <th>7</th>\n",
       "      <td>rosuladasilva</td>\n",
       "      <td>211</td>\n",
       "      <td>0</td>\n",
       "      <td>202</td>\n",
       "      <td>0</td>\n",
       "      <td>9</td>\n",
       "      <td>1019</td>\n",
       "      <td>462</td>\n",
       "    </tr>\n",
       "    <tr>\n",
       "      <th>8</th>\n",
       "      <td>alejandrino_py</td>\n",
       "      <td>207</td>\n",
       "      <td>0</td>\n",
       "      <td>203</td>\n",
       "      <td>0</td>\n",
       "      <td>4</td>\n",
       "      <td>534</td>\n",
       "      <td>470</td>\n",
       "    </tr>\n",
       "    <tr>\n",
       "      <th>9</th>\n",
       "      <td>AbelCantero3</td>\n",
       "      <td>202</td>\n",
       "      <td>0</td>\n",
       "      <td>105</td>\n",
       "      <td>0</td>\n",
       "      <td>97</td>\n",
       "      <td>66</td>\n",
       "      <td>34</td>\n",
       "    </tr>\n",
       "  </tbody>\n",
       "</table>\n",
       "</div>"
      ],
      "text/plain": [
       "         1.Usuario  3.Tweets  4.Originales  5.Retweets  6.Quotes  7.Replies  \\\n",
       "0         Norabeli       873             4         656         0        213   \n",
       "1   pdpprogresista       697            70         549        40         38   \n",
       "2        desimasi2       401            56         180        31        134   \n",
       "3      casanaslevi       315            14         272        12         17   \n",
       "4     gladysgulino       268             0         261         0          7   \n",
       "5     gzgonzalez25       236             0         221         0         15   \n",
       "6  Francis48732579       217             0         179         0         38   \n",
       "7    rosuladasilva       211             0         202         0          9   \n",
       "8   alejandrino_py       207             0         203         0          4   \n",
       "9     AbelCantero3       202             0         105         0         97   \n",
       "\n",
       "   8.Followers  9.Friends  \n",
       "0          997       2121  \n",
       "1         1874       1071  \n",
       "2         1092      31821  \n",
       "3          957      10173  \n",
       "4          110        592  \n",
       "5           49         57  \n",
       "6          110         75  \n",
       "7         1019        462  \n",
       "8          534        470  \n",
       "9           66         34  "
      ]
     },
     "execution_count": 148,
     "metadata": {},
     "output_type": "execute_result"
    }
   ],
   "source": [
    "top10_tuiteros_pdp = []\n",
    "for i in range(10):\n",
    "    tuitero_pdp = {'1.Usuario': users_pdp[i]['screen_name'], \n",
    "                  '3.Tweets': users_pdp[i]['tweets'],\n",
    "                  '4.Originales': users_pdp[i]['original_tweets'],\n",
    "                  '5.Retweets': users_pdp[i]['rts'],\n",
    "                  '6.Quotes': users_pdp[i]['qts'],\n",
    "                  '7.Replies': users_pdp[i]['rps'],\n",
    "                  '8.Followers': users_pdp[i]['friends'],\n",
    "                  '9.Friends': users_pdp[i]['followers']\n",
    "                   }\n",
    "    # 0.87 es el límite del tercer quartil en la distribución de\n",
    "    # las probabilidades de ser bot o cuenta falsa\n",
    "#     if users_ca[i]['pbb'] > 0.87:\n",
    "#         tuitero_ca['2. Es cuenta Falsa?'] = 'Si'\n",
    "#     else:\n",
    "#         tuitero_ca['2. Es cuenta Falsa?'] = 'No'\n",
    "    top10_tuiteros_pdp.append(tuitero_pdp)\n",
    "pd.DataFrame(top10_tuiteros_pdp)"
   ]
  },
  {
   "cell_type": "markdown",
   "metadata": {},
   "source": [
    "### Otros"
   ]
  },
  {
   "cell_type": "code",
   "execution_count": 153,
   "metadata": {},
   "outputs": [
    {
     "name": "stdout",
     "output_type": "stream",
     "text": [
      "100 usuarios tuitearon utilizando hashtags vinculados a otros partidos\n"
     ]
    }
   ],
   "source": [
    "users_otros = dbu.search({ \"$and\": [ { \"party\": { \"$ne\": \"plra\" } }, { \"party\": { \"$ne\": \"anr\" } }, { \"party\": { \"$ne\": \"pdp\" } }, { \"party\": { \"$ne\": None } } ] })\n",
    "\n",
    "print('{0} usuarios tuitearon utilizando hashtags vinculados a otros partidos'.\n",
    "      format(users_otros.count()))"
   ]
  },
  {
   "cell_type": "markdown",
   "metadata": {},
   "source": [
    "#### Top-10 más activos y sus actividades"
   ]
  },
  {
   "cell_type": "code",
   "execution_count": 157,
   "metadata": {
    "scrolled": true
   },
   "outputs": [
    {
     "data": {
      "text/html": [
       "<div>\n",
       "<style scoped>\n",
       "    .dataframe tbody tr th:only-of-type {\n",
       "        vertical-align: middle;\n",
       "    }\n",
       "\n",
       "    .dataframe tbody tr th {\n",
       "        vertical-align: top;\n",
       "    }\n",
       "\n",
       "    .dataframe thead th {\n",
       "        text-align: right;\n",
       "    }\n",
       "</style>\n",
       "<table border=\"1\" class=\"dataframe\">\n",
       "  <thead>\n",
       "    <tr style=\"text-align: right;\">\n",
       "      <th></th>\n",
       "      <th>1.Usuario</th>\n",
       "      <th>10.Party</th>\n",
       "      <th>3.Tweets</th>\n",
       "      <th>4.Originales</th>\n",
       "      <th>5.Retweets</th>\n",
       "      <th>6.Quotes</th>\n",
       "      <th>7.Replies</th>\n",
       "      <th>8.Followers</th>\n",
       "      <th>9.Friends</th>\n",
       "    </tr>\n",
       "  </thead>\n",
       "  <tbody>\n",
       "    <tr>\n",
       "      <th>0</th>\n",
       "      <td>780AM</td>\n",
       "      <td>ganar</td>\n",
       "      <td>494</td>\n",
       "      <td>463</td>\n",
       "      <td>4</td>\n",
       "      <td>0</td>\n",
       "      <td>27</td>\n",
       "      <td>1288</td>\n",
       "      <td>308191</td>\n",
       "    </tr>\n",
       "    <tr>\n",
       "      <th>1</th>\n",
       "      <td>UNO650AM</td>\n",
       "      <td>ganar</td>\n",
       "      <td>231</td>\n",
       "      <td>112</td>\n",
       "      <td>15</td>\n",
       "      <td>0</td>\n",
       "      <td>104</td>\n",
       "      <td>697</td>\n",
       "      <td>108598</td>\n",
       "    </tr>\n",
       "    <tr>\n",
       "      <th>2</th>\n",
       "      <td>EDUARDOVIEDMA</td>\n",
       "      <td>hagamos</td>\n",
       "      <td>117</td>\n",
       "      <td>11</td>\n",
       "      <td>68</td>\n",
       "      <td>0</td>\n",
       "      <td>38</td>\n",
       "      <td>565</td>\n",
       "      <td>628</td>\n",
       "    </tr>\n",
       "    <tr>\n",
       "      <th>3</th>\n",
       "      <td>samiparaguay</td>\n",
       "      <td>ganar</td>\n",
       "      <td>85</td>\n",
       "      <td>39</td>\n",
       "      <td>38</td>\n",
       "      <td>1</td>\n",
       "      <td>7</td>\n",
       "      <td>3299</td>\n",
       "      <td>1341</td>\n",
       "    </tr>\n",
       "    <tr>\n",
       "      <th>4</th>\n",
       "      <td>themonoliths</td>\n",
       "      <td>hagamos</td>\n",
       "      <td>68</td>\n",
       "      <td>0</td>\n",
       "      <td>66</td>\n",
       "      <td>0</td>\n",
       "      <td>2</td>\n",
       "      <td>5042</td>\n",
       "      <td>4771</td>\n",
       "    </tr>\n",
       "    <tr>\n",
       "      <th>5</th>\n",
       "      <td>Yoyi_aponte</td>\n",
       "      <td>hagamos</td>\n",
       "      <td>60</td>\n",
       "      <td>0</td>\n",
       "      <td>52</td>\n",
       "      <td>0</td>\n",
       "      <td>8</td>\n",
       "      <td>756</td>\n",
       "      <td>785</td>\n",
       "    </tr>\n",
       "    <tr>\n",
       "      <th>6</th>\n",
       "      <td>MechitaDu</td>\n",
       "      <td>hagamos</td>\n",
       "      <td>60</td>\n",
       "      <td>0</td>\n",
       "      <td>50</td>\n",
       "      <td>0</td>\n",
       "      <td>10</td>\n",
       "      <td>648</td>\n",
       "      <td>1330</td>\n",
       "    </tr>\n",
       "    <tr>\n",
       "      <th>7</th>\n",
       "      <td>hectordalegre</td>\n",
       "      <td>hagamos</td>\n",
       "      <td>48</td>\n",
       "      <td>1</td>\n",
       "      <td>43</td>\n",
       "      <td>0</td>\n",
       "      <td>4</td>\n",
       "      <td>1772</td>\n",
       "      <td>5069</td>\n",
       "    </tr>\n",
       "    <tr>\n",
       "      <th>8</th>\n",
       "      <td>milibritez</td>\n",
       "      <td>hagamos</td>\n",
       "      <td>42</td>\n",
       "      <td>0</td>\n",
       "      <td>42</td>\n",
       "      <td>0</td>\n",
       "      <td>0</td>\n",
       "      <td>4759</td>\n",
       "      <td>162515</td>\n",
       "    </tr>\n",
       "    <tr>\n",
       "      <th>9</th>\n",
       "      <td>paraguayista</td>\n",
       "      <td>hagamos</td>\n",
       "      <td>42</td>\n",
       "      <td>0</td>\n",
       "      <td>13</td>\n",
       "      <td>0</td>\n",
       "      <td>29</td>\n",
       "      <td>1037</td>\n",
       "      <td>181</td>\n",
       "    </tr>\n",
       "  </tbody>\n",
       "</table>\n",
       "</div>"
      ],
      "text/plain": [
       "       1.Usuario 10.Party  3.Tweets  4.Originales  5.Retweets  6.Quotes  \\\n",
       "0          780AM    ganar       494           463           4         0   \n",
       "1       UNO650AM    ganar       231           112          15         0   \n",
       "2  EDUARDOVIEDMA  hagamos       117            11          68         0   \n",
       "3   samiparaguay    ganar        85            39          38         1   \n",
       "4   themonoliths  hagamos        68             0          66         0   \n",
       "5    Yoyi_aponte  hagamos        60             0          52         0   \n",
       "6      MechitaDu  hagamos        60             0          50         0   \n",
       "7  hectordalegre  hagamos        48             1          43         0   \n",
       "8     milibritez  hagamos        42             0          42         0   \n",
       "9   paraguayista  hagamos        42             0          13         0   \n",
       "\n",
       "   7.Replies  8.Followers  9.Friends  \n",
       "0         27         1288     308191  \n",
       "1        104          697     108598  \n",
       "2         38          565        628  \n",
       "3          7         3299       1341  \n",
       "4          2         5042       4771  \n",
       "5          8          756        785  \n",
       "6         10          648       1330  \n",
       "7          4         1772       5069  \n",
       "8          0         4759     162515  \n",
       "9         29         1037        181  "
      ]
     },
     "execution_count": 157,
     "metadata": {},
     "output_type": "execute_result"
    }
   ],
   "source": [
    "top10_tuiteros_otros = []\n",
    "for i in range(10):\n",
    "    tuitero_otros = {'1.Usuario': users_otros[i]['screen_name'], \n",
    "                  '3.Tweets': users_otros[i]['tweets'],\n",
    "                  '4.Originales': users_otros[i]['original_tweets'],\n",
    "                  '5.Retweets': users_otros[i]['rts'],\n",
    "                  '6.Quotes': users_otros[i]['qts'],\n",
    "                  '7.Replies': users_otros[i]['rps'],\n",
    "                  '8.Followers': users_otros[i]['friends'],\n",
    "                  '9.Friends': users_otros[i]['followers'],\n",
    "                  '10.Party': users_otros[i]['party']\n",
    "                     \n",
    "                   }\n",
    "    # 0.87 es el límite del tercer quartil en la distribución de\n",
    "    # las probabilidades de ser bot o cuenta falsa\n",
    "#     if users_ca[i]['pbb'] > 0.87:\n",
    "#         tuitero_ca['2. Es cuenta Falsa?'] = 'Si'\n",
    "#     else:\n",
    "#         tuitero_ca['2. Es cuenta Falsa?'] = 'No'\n",
    "    top10_tuiteros_otros.append(tuitero_otros)\n",
    "pd.DataFrame(top10_tuiteros_otros)"
   ]
  },
  {
   "cell_type": "markdown",
   "metadata": {},
   "source": [
    "### Neutros"
   ]
  },
  {
   "cell_type": "code",
   "execution_count": 159,
   "metadata": {},
   "outputs": [
    {
     "name": "stdout",
     "output_type": "stream",
     "text": [
      "17476 usuarios tuitearon utilizando hashtags vinculados a otros partidos\n"
     ]
    }
   ],
   "source": [
    "users_n = dbu.search({ \"party\": { \"$eq\": None } })\n",
    "\n",
    "print('{0} usuarios tuitearon utilizando hashtags vinculados a otros partidos'.\n",
    "      format(users_n.count()))"
   ]
  },
  {
   "cell_type": "markdown",
   "metadata": {},
   "source": [
    "#### Top-10 más activos y sus actividades"
   ]
  },
  {
   "cell_type": "code",
   "execution_count": 161,
   "metadata": {
    "scrolled": true
   },
   "outputs": [
    {
     "data": {
      "text/html": [
       "<div>\n",
       "<style scoped>\n",
       "    .dataframe tbody tr th:only-of-type {\n",
       "        vertical-align: middle;\n",
       "    }\n",
       "\n",
       "    .dataframe tbody tr th {\n",
       "        vertical-align: top;\n",
       "    }\n",
       "\n",
       "    .dataframe thead th {\n",
       "        text-align: right;\n",
       "    }\n",
       "</style>\n",
       "<table border=\"1\" class=\"dataframe\">\n",
       "  <thead>\n",
       "    <tr style=\"text-align: right;\">\n",
       "      <th></th>\n",
       "      <th>1.Usuario</th>\n",
       "      <th>3.Tweets</th>\n",
       "      <th>4.Originales</th>\n",
       "      <th>5.Retweets</th>\n",
       "      <th>6.Quotes</th>\n",
       "      <th>7.Replies</th>\n",
       "      <th>8.Followers</th>\n",
       "      <th>9.Friends</th>\n",
       "      <th>99.Most interacted party</th>\n",
       "    </tr>\n",
       "  </thead>\n",
       "  <tbody>\n",
       "    <tr>\n",
       "      <th>0</th>\n",
       "      <td>ABCCardinal</td>\n",
       "      <td>416</td>\n",
       "      <td>388</td>\n",
       "      <td>0</td>\n",
       "      <td>0</td>\n",
       "      <td>28</td>\n",
       "      <td>902</td>\n",
       "      <td>192660</td>\n",
       "      <td>plra</td>\n",
       "    </tr>\n",
       "    <tr>\n",
       "      <th>1</th>\n",
       "      <td>CamiloSoaresM</td>\n",
       "      <td>409</td>\n",
       "      <td>6</td>\n",
       "      <td>382</td>\n",
       "      <td>1</td>\n",
       "      <td>20</td>\n",
       "      <td>9841</td>\n",
       "      <td>26945</td>\n",
       "      <td>pmas</td>\n",
       "    </tr>\n",
       "    <tr>\n",
       "      <th>2</th>\n",
       "      <td>1000_am</td>\n",
       "      <td>336</td>\n",
       "      <td>216</td>\n",
       "      <td>51</td>\n",
       "      <td>0</td>\n",
       "      <td>69</td>\n",
       "      <td>372</td>\n",
       "      <td>96929</td>\n",
       "      <td>plra</td>\n",
       "    </tr>\n",
       "    <tr>\n",
       "      <th>3</th>\n",
       "      <td>LaUnionAM800</td>\n",
       "      <td>270</td>\n",
       "      <td>269</td>\n",
       "      <td>1</td>\n",
       "      <td>0</td>\n",
       "      <td>0</td>\n",
       "      <td>283</td>\n",
       "      <td>45208</td>\n",
       "      <td>plra</td>\n",
       "    </tr>\n",
       "    <tr>\n",
       "      <th>4</th>\n",
       "      <td>Hugobie</td>\n",
       "      <td>213</td>\n",
       "      <td>1</td>\n",
       "      <td>77</td>\n",
       "      <td>0</td>\n",
       "      <td>135</td>\n",
       "      <td>1289</td>\n",
       "      <td>23693</td>\n",
       "      <td>pdp</td>\n",
       "    </tr>\n",
       "    <tr>\n",
       "      <th>5</th>\n",
       "      <td>vanev87</td>\n",
       "      <td>179</td>\n",
       "      <td>4</td>\n",
       "      <td>59</td>\n",
       "      <td>3</td>\n",
       "      <td>113</td>\n",
       "      <td>2854</td>\n",
       "      <td>4056</td>\n",
       "      <td>pdp</td>\n",
       "    </tr>\n",
       "    <tr>\n",
       "      <th>6</th>\n",
       "      <td>nanduti</td>\n",
       "      <td>177</td>\n",
       "      <td>70</td>\n",
       "      <td>27</td>\n",
       "      <td>1</td>\n",
       "      <td>79</td>\n",
       "      <td>30312</td>\n",
       "      <td>393911</td>\n",
       "      <td>plra</td>\n",
       "    </tr>\n",
       "    <tr>\n",
       "      <th>7</th>\n",
       "      <td>Nanunfila</td>\n",
       "      <td>173</td>\n",
       "      <td>1</td>\n",
       "      <td>34</td>\n",
       "      <td>0</td>\n",
       "      <td>138</td>\n",
       "      <td>132</td>\n",
       "      <td>267</td>\n",
       "      <td>avancemos</td>\n",
       "    </tr>\n",
       "    <tr>\n",
       "      <th>8</th>\n",
       "      <td>caraocruzpy</td>\n",
       "      <td>170</td>\n",
       "      <td>63</td>\n",
       "      <td>0</td>\n",
       "      <td>0</td>\n",
       "      <td>107</td>\n",
       "      <td>1523</td>\n",
       "      <td>17763</td>\n",
       "      <td>plra</td>\n",
       "    </tr>\n",
       "    <tr>\n",
       "      <th>9</th>\n",
       "      <td>FFiorioPizurno</td>\n",
       "      <td>163</td>\n",
       "      <td>136</td>\n",
       "      <td>12</td>\n",
       "      <td>7</td>\n",
       "      <td>8</td>\n",
       "      <td>411</td>\n",
       "      <td>1892</td>\n",
       "      <td>plra</td>\n",
       "    </tr>\n",
       "  </tbody>\n",
       "</table>\n",
       "</div>"
      ],
      "text/plain": [
       "        1.Usuario  3.Tweets  4.Originales  5.Retweets  6.Quotes  7.Replies  \\\n",
       "0     ABCCardinal       416           388           0         0         28   \n",
       "1   CamiloSoaresM       409             6         382         1         20   \n",
       "2         1000_am       336           216          51         0         69   \n",
       "3    LaUnionAM800       270           269           1         0          0   \n",
       "4         Hugobie       213             1          77         0        135   \n",
       "5         vanev87       179             4          59         3        113   \n",
       "6         nanduti       177            70          27         1         79   \n",
       "7       Nanunfila       173             1          34         0        138   \n",
       "8     caraocruzpy       170            63           0         0        107   \n",
       "9  FFiorioPizurno       163           136          12         7          8   \n",
       "\n",
       "   8.Followers  9.Friends 99.Most interacted party  \n",
       "0          902     192660                     plra  \n",
       "1         9841      26945                     pmas  \n",
       "2          372      96929                     plra  \n",
       "3          283      45208                     plra  \n",
       "4         1289      23693                      pdp  \n",
       "5         2854       4056                      pdp  \n",
       "6        30312     393911                     plra  \n",
       "7          132        267                avancemos  \n",
       "8         1523      17763                     plra  \n",
       "9          411       1892                     plra  "
      ]
     },
     "execution_count": 161,
     "metadata": {},
     "output_type": "execute_result"
    }
   ],
   "source": [
    "top10_tuiteros_n = []\n",
    "for i in range(10):\n",
    "    tuitero_n = {'1.Usuario': users_n[i]['screen_name'], \n",
    "                  '3.Tweets': users_n[i]['tweets'],\n",
    "                  '4.Originales': users_n[i]['original_tweets'],\n",
    "                  '5.Retweets': users_n[i]['rts'],\n",
    "                  '6.Quotes': users_n[i]['qts'],\n",
    "                  '7.Replies': users_n[i]['rps'],\n",
    "                  '8.Followers': users_n[i]['friends'],\n",
    "                  '9.Friends': users_n[i]['followers'], \n",
    "                  '99.Most interacted party': users_n[i]['most_interacted_party']\n",
    "                   }\n",
    "    # 0.87 es el límite del tercer quartil en la distribución de\n",
    "    # las probabilidades de ser bot o cuenta falsa\n",
    "#     if users_ca[i]['pbb'] > 0.87:\n",
    "#         tuitero_ca['2. Es cuenta Falsa?'] = 'Si'\n",
    "#     else:\n",
    "#         tuitero_ca['2. Es cuenta Falsa?'] = 'No'\n",
    "    top10_tuiteros_n.append(tuitero_n)\n",
    "pd.DataFrame(top10_tuiteros_n)"
   ]
  },
  {
   "cell_type": "markdown",
   "metadata": {},
   "source": [
    "## Resumen de Tuiteros por Partido"
   ]
  },
  {
   "cell_type": "code",
   "execution_count": 166,
   "metadata": {
    "scrolled": true
   },
   "outputs": [
    {
     "data": {
      "image/png": "[encoded data removed]",
      "text/plain": [
       "<matplotlib.figure.Figure at 0x12b5d9f28>"
      ]
     },
     "metadata": {},
     "output_type": "display_data"
    }
   ],
   "source": [
    "tuiteros_por_partido = pd.DataFrame({\n",
    "    'Partido': ['anr', 'plra', 'pdp', 'otros'],\n",
    "    'Tuiteros': [len(users), len(users_plra), len(users_pdp), users_otros.count()]\n",
    "}, index=['anr', 'plra', 'pdp', 'otros'])\n",
    "fig = sns.barplot(x='Partido', y='Tuiteros', data=tuiteros_por_partido, palette=[\"red\", \"blue\", \"green\", \"orange\"])\n",
    "for p in fig.patches:\n",
    "    fig.annotate(\"%d\" % p.get_height(), (p.get_x() + p.get_width() / 2., p.get_height()),\n",
    "                 ha='center', va='center', fontsize=12, color='black', xytext=(0, 10),\n",
    "                 textcoords='offset points')\n",
    "_ = fig.set_ylim(0,2200) #To make space for the annotations\n",
    "plt.show()"
   ]
  },
  {
   "cell_type": "code",
   "execution_count": 179,
   "metadata": {},
   "outputs": [],
   "source": [
    "trolls_anr = dbu.search({ \"party\": { \"$eq\": \"anr\" }, \"most_interacted_party\": {\"$ne\": \"anr\"} })\n",
    "trolls_plra = dbu.search({ \"party\": { \"$eq\": \"plra\" }, \"most_interacted_party\": {\"$ne\": \"plra\"} })\n",
    "trolls_pdp = dbu.search({ \"party\": { \"$eq\": \"pdp\" }, \"most_interacted_party\": {\"$ne\": \"pdp\"} })\n",
    "trolls_ganar = dbu.search({ \"party\": { \"$eq\": \"ganar\" }, \"most_interacted_party\": {\"$ne\": \"ganar\"} })\n",
    "trolls_hagamos = dbu.search({ \"party\": { \"$eq\": \"hagamos\" }, \"most_interacted_party\": {\"$ne\": \"hagamos\"} })\n",
    "\n",
    "\n",
    "trolls_otros = trolls_ganar.count() + trolls_hagamos.count()"
   ]
  },
  {
   "cell_type": "code",
   "execution_count": 186,
   "metadata": {
    "scrolled": true
   },
   "outputs": [
    {
     "data": {
      "image/png": "[encoded data removed]",
      "text/plain": [
       "<matplotlib.figure.Figure at 0x132ff2358>"
      ]
     },
     "metadata": {},
     "output_type": "display_data"
    }
   ],
   "source": [
    "\n",
    "trolls_por_partido = pd.DataFrame({\n",
    "    'Partido': ['anr', 'plra', 'pdp', 'otros'],\n",
    "    'Potential Trolls': [trolls_anr.count(), trolls_plra.count(), trolls_pdp.count(), trolls_otros]\n",
    "}, index=['anr', 'plra', 'pdp', 'otros'])\n",
    "\n",
    "\n",
    "sns.set(style=\"whitegrid\")\n",
    "\n",
    "# Initialize the matplotlib figure\n",
    "f, ax = plt.subplots(figsize=(15, 6))\n",
    "\n",
    "# Plot total tweets\n",
    "sns.set_color_codes(\"pastel\")\n",
    "sns.barplot(x=\"Partido\", y=\"Tuiteros\", data=tuiteros_por_partido,\n",
    "            label=\"Total\", color=\"b\")\n",
    "\n",
    "# Plot original tweets\n",
    "sns.set_color_codes(\"muted\")\n",
    "sns.barplot(x=\"Partido\", y=\"Potential Trolls\", data=trolls_por_partido,\n",
    "            label=\"Potential Trolls\", color=\"b\")\n",
    "\n",
    "# Add a legend and informative axis label\n",
    "ax.legend(ncol=2, loc=\"upper right\", frameon=True)\n",
    "ax.set(ylim=(0, 2200), xlabel=\"\",\n",
    "       ylabel=\"Number of potential trolls with respect to total number of users per party\")\n",
    "\n",
    "# Annotate axis = seaborn axis\n",
    "for p in ax.patches:\n",
    "    height = p.get_height()\n",
    "    if height<100:\n",
    "        ax.text(p.get_x()+p.get_width()/2,\n",
    "            height+10,\n",
    "            '{0}'.format(height),\n",
    "            ha=\"center\",fontsize=12, color='black')    \n",
    "    else:\n",
    "        ax.text(p.get_x()+p.get_width()/2,\n",
    "                height+100,\n",
    "                '{0}'.format(height),\n",
    "                ha=\"center\",fontsize=12, color='black')    \n",
    "        \n",
    "sns.despine(left=True, bottom=True)"
   ]
  },
  {
   "cell_type": "markdown",
   "metadata": {},
   "source": [
    "## Distribución de tweets por candidato"
   ]
  },
  {
   "cell_type": "markdown",
   "metadata": {},
   "source": [
    "Para esta parte del análisis solo se tuvieron en cuenta los tweets que contienen hashtags utilizados exclusivamente para promocionar las **candidaturas** presidenciales, no los **movimientos** o **partidos**. Por ejemplo, los hashtags **`#JuntosPodemosMas`** o **`#CaminandoJuntos`** son hashtags vinculados principalmente a la figura de Santiago Peña no así el hashtag **`#HonorColorado`** que se utiliza para referirse al movimiento partidario pero no necesariamente la candidatura de Peña. De igual manera, los hashtags **`#MaritoDeLaGente`** o **`ParaguayDeLaGente`** fueron usados para promocionar la campaña de Mario Abdo, no necesariamente las candidatura del movimiento Colorado Añeteté al que pertenece.\n",
    "\n",
    "Los tweets publicados por las cuentas personales de los candidatos no son tenidos en cuenta en este análisis."
   ]
  },
  {
   "cell_type": "markdown",
   "metadata": {},
   "source": [
    "### Santiago Peña"
   ]
  },
  {
   "cell_type": "markdown",
   "metadata": {},
   "source": [
    "Hashtags de ejemplo: **`#JuntosPodemosMas`**, **`#CaminandoJuntos`**, **`#SantiPresidente`**, **`#VotoxSanti`**, **`#SigamosConversando`**"
   ]
  },
  {
   "cell_type": "code",
   "execution_count": 103,
   "metadata": {},
   "outputs": [
    {
     "name": "stdout",
     "output_type": "stream",
     "text": [
      "Se publicaron 58282 tweets que utilizaron hashtags vinculados a la candidatura de Santiago Peña (67.58% del total de los tweets de Honor Colorado)\n"
     ]
    }
   ],
   "source": [
    "tweets_sp = db.search({'flag.candidatura.santiago peña': {'$gt': 0},\n",
    "                       'flag.candidatura.mario abdo': {'$eq': 0},\n",
    "                       'flag.movimiento.colorado añetete': {'$eq': 0},\n",
    "                       'tweet_obj.user.screen_name': {'$ne': 'SantiPenap'}})\n",
    "per_tweet_sp = round((tweets_sp.count()/tweets_hc.count())*100,2)\n",
    "print('Se publicaron {0} tweets que utilizaron hashtags vinculados a la candidatura de Santiago Peña ' \\\n",
    "      '({1}% del total de los tweets de Honor Colorado)'.\n",
    "      format(tweets_sp.count(), per_tweet_sp))"
   ]
  },
  {
   "cell_type": "markdown",
   "metadata": {},
   "source": [
    "### Mario Abdo Benítez"
   ]
  },
  {
   "cell_type": "markdown",
   "metadata": {},
   "source": [
    "Hashtags de ejemplo: **`#MaritoDeLaGente`**, **`#ParaguayDeLaGente`**, **`#MaritoImparable`**, **`#MaritoPresidente`**, **`#1000KmConLaGente`**"
   ]
  },
  {
   "cell_type": "code",
   "execution_count": 104,
   "metadata": {
    "scrolled": true
   },
   "outputs": [
    {
     "name": "stdout",
     "output_type": "stream",
     "text": [
      "Se publicaron 46275 tweets que utilizaron hashtags vinculados a la candidatura de Mario Abdo (98.96% del total de los tweets de Colorado Añeteté)\n"
     ]
    }
   ],
   "source": [
    "tweets_ma = db.search({'flag.candidatura.santiago peña': {'$eq': 0},\n",
    "                       'flag.candidatura.mario abdo': {'$gt': 0},\n",
    "                       'flag.movimiento.honor colorado': {'$eq': 0},\n",
    "                       'tweet_obj.user.screen_name': {'$ne': 'maritoabdo'}})\n",
    "per_tweet_ma = round((tweets_ma.count()/tweets_ca.count())*100,2)\n",
    "print('Se publicaron {0} tweets que utilizaron hashtags vinculados a la candidatura de Mario Abdo ' \\\n",
    "      '({1}% del total de los tweets de Colorado Añeteté)'.\n",
    "      format(tweets_ma.count(), per_tweet_ma))"
   ]
  },
  {
   "cell_type": "markdown",
   "metadata": {},
   "source": [
    "### Tweets sobre candidatos sobre el total de su movimiento"
   ]
  },
  {
   "cell_type": "code",
   "execution_count": 118,
   "metadata": {},
   "outputs": [
    {
     "data": {
      "image/png": "[encoded data removed]",
      "text/plain": [
       "<matplotlib.figure.Figure at 0x114a53978>"
      ]
     },
     "metadata": {
      "needs_background": "light"
     },
     "output_type": "display_data"
    }
   ],
   "source": [
    "tweets_por_candidato_anr = pd.DataFrame({\n",
    "    'Candidato': ['Santiago Peña', 'Mario Abdo'],\n",
    "    '% tweets sobre total mov': [per_tweet_sp,per_tweet_ma]\n",
    "}, index=['sp', 'ma'])\n",
    "fig = sns.barplot(x='Candidato', y='% tweets sobre total mov', data=tweets_por_candidato_anr, \n",
    "                  order=['Mario Abdo', 'Santiago Peña'], palette=\"Reds_d\")\n",
    "ax=fig\n",
    "#annotate axis = seaborn axis\n",
    "for p in ax.patches:\n",
    "    ax.annotate(\"{0}%\".format(p.get_height()), (p.get_x() + p.get_width() / 2., p.get_height()),\n",
    "                 ha='center', va='center', fontsize=12, color='black', xytext=(0, 10),\n",
    "                 textcoords='offset points')\n",
    "_ = fig.set_ylim(0,110) #To make space for the annotations\n",
    "plt.show()"
   ]
  },
  {
   "cell_type": "markdown",
   "metadata": {},
   "source": [
    "## Tonalidad de Tweets"
   ]
  },
  {
   "cell_type": "markdown",
   "metadata": {},
   "source": [
    "En este análisis se consideran solo tweets originales, replies, y quotes. Los retweets son descartados."
   ]
  },
  {
   "cell_type": "code",
   "execution_count": 3,
   "metadata": {
    "collapsed": true
   },
   "outputs": [],
   "source": [
    "st = db.get_sentiment_tweets(**{'partido': 'anr'})\n",
    "st_dict = {\n",
    "    'Tono': [],\n",
    "    'Tweets': []\n",
    "}\n",
    "for sen in st:\n",
    "    if sen['sentiment'] == 'positive':\n",
    "        st_dict['Tono'].append('Positivo')\n",
    "    elif sen['sentiment'] == 'negative':\n",
    "        st_dict['Tono'].append('Negativo')\n",
    "    else:\n",
    "        st_dict['Tono'].append('Neutral')\n",
    "    st_dict['Tweets'].append(sen['count'])\n",
    "st_df = pd.DataFrame(st_dict)"
   ]
  },
  {
   "cell_type": "code",
   "execution_count": 4,
   "metadata": {},
   "outputs": [
    {
     "data": {
      "image/png": "[encoded data removed]",
      "text/plain": [
       "<matplotlib.figure.Figure at 0x11e8c2978>"
      ]
     },
     "metadata": {
      "needs_background": "light"
     },
     "output_type": "display_data"
    }
   ],
   "source": [
    "fig = sns.barplot(x='Tono', y='Tweets', data=st_df, \n",
    "                  order=['Positivo', 'Neutral', 'Negativo'],\n",
    "                  palette=['green','gray', 'red'])\n",
    "ax=fig\n",
    "#annotate axis = seaborn axis\n",
    "for p in ax.patches:\n",
    "    ax.annotate(\"%d\" % p.get_height(), (p.get_x() + p.get_width() / 2., p.get_height()),\n",
    "                 ha='center', va='center', fontsize=12, color='black', xytext=(0, 10),\n",
    "                 textcoords='offset points')\n",
    "_ = fig.set_ylim(0,30000) #To make space for the annotations\n",
    "plt.show()"
   ]
  },
  {
   "cell_type": "markdown",
   "metadata": {},
   "source": [
    "### Honor Colorado"
   ]
  },
  {
   "cell_type": "code",
   "execution_count": 5,
   "metadata": {
    "collapsed": true
   },
   "outputs": [],
   "source": [
    "st = db.get_sentiment_tweets(**{'partido': 'anr', 'movimiento': 'honor colorado'})\n",
    "st_dict = {\n",
    "    'Tono': [],\n",
    "    'Tweets': []\n",
    "}\n",
    "for sen in st:\n",
    "    if sen['sentiment'] == 'positive':\n",
    "        st_dict['Tono'].append('Positivo')\n",
    "    elif sen['sentiment'] == 'negative':\n",
    "        st_dict['Tono'].append('Negativo')\n",
    "    else:\n",
    "        st_dict['Tono'].append('Neutral')\n",
    "    st_dict['Tweets'].append(sen['count'])\n",
    "st_df_hc = pd.DataFrame(st_dict)"
   ]
  },
  {
   "cell_type": "code",
   "execution_count": 6,
   "metadata": {},
   "outputs": [
    {
     "data": {
      "image/png": "[encoded data removed]",
      "text/plain": [
       "<matplotlib.figure.Figure at 0x11e8cde10>"
      ]
     },
     "metadata": {
      "needs_background": "light"
     },
     "output_type": "display_data"
    }
   ],
   "source": [
    "fig = sns.barplot(x='Tono', y='Tweets', data=st_df_hc, \n",
    "                  order=['Positivo', 'Neutral', 'Negativo'],\n",
    "                  palette=['green','gray', 'red'])\n",
    "ax=fig\n",
    "#annotate axis = seaborn axis\n",
    "for p in ax.patches:\n",
    "    ax.annotate(\"%d\" % p.get_height(), (p.get_x() + p.get_width() / 2., p.get_height()),\n",
    "                 ha='center', va='center', fontsize=12, color='black', xytext=(0, 10),\n",
    "                 textcoords='offset points')\n",
    "_ = fig.set_ylim(0,21000) #To make space for the annotations\n",
    "plt.show()"
   ]
  },
  {
   "cell_type": "code",
   "execution_count": 7,
   "metadata": {},
   "outputs": [
    {
     "name": "stdout",
     "output_type": "stream",
     "text": [
      "Tweets Positivos: 31.6%\n",
      "Tweets Negativos: 17.4%\n",
      "Tweets Neutrales: 51.0%\n"
     ]
    }
   ],
   "source": [
    "total = sum(st_df_hc['Tweets'])\n",
    "positive = int(st_df_hc[st_df_hc['Tono'] == 'Positivo']['Tweets'])\n",
    "negative = int(st_df_hc[st_df_hc['Tono'] == 'Negativo']['Tweets'])\n",
    "neutral = int(st_df_hc[st_df_hc['Tono'] == 'Neutral']['Tweets'])\n",
    "print('Tweets Positivos: {0}%'.format(round(100*positive/total, 1)))\n",
    "print('Tweets Negativos: {0}%'.format(round(100*negative/total, 1)))\n",
    "print('Tweets Neutrales: {0}%'.format(round(100*neutral/total, 1)))"
   ]
  },
  {
   "cell_type": "markdown",
   "metadata": {},
   "source": [
    "#### Tweets Originales"
   ]
  },
  {
   "cell_type": "code",
   "execution_count": 8,
   "metadata": {
    "collapsed": true
   },
   "outputs": [],
   "source": [
    "st = db.get_sentiment_tweets(type_query='original', **{'partido': 'anr', 'movimiento': 'honor colorado'})\n",
    "st_dict = {\n",
    "    'Tono': [],\n",
    "    'Tweets': []\n",
    "}\n",
    "for sen in st:\n",
    "    if sen['sentiment'] == 'positive':\n",
    "        st_dict['Tono'].append('Positivo')\n",
    "    elif sen['sentiment'] == 'negative':\n",
    "        st_dict['Tono'].append('Negativo')\n",
    "    else:\n",
    "        st_dict['Tono'].append('Neutral')\n",
    "    st_dict['Tweets'].append(sen['count'])\n",
    "st_df_hc = pd.DataFrame(st_dict)"
   ]
  },
  {
   "cell_type": "code",
   "execution_count": 11,
   "metadata": {},
   "outputs": [
    {
     "data": {
      "image/png": "[encoded data removed]",
      "text/plain": [
       "<matplotlib.figure.Figure at 0x11e8cdc88>"
      ]
     },
     "metadata": {
      "needs_background": "light"
     },
     "output_type": "display_data"
    }
   ],
   "source": [
    "fig = sns.barplot(x='Tono', y='Tweets', data=st_df_hc, \n",
    "                  order=['Positivo', 'Neutral', 'Negativo'],\n",
    "                  palette=['green','gray', 'red'])\n",
    "ax=fig\n",
    "#annotate axis = seaborn axis\n",
    "for p in ax.patches:\n",
    "    ax.annotate(\"%d\" % p.get_height(), (p.get_x() + p.get_width() / 2., p.get_height()),\n",
    "                 ha='center', va='center', fontsize=12, color='black', xytext=(0, 10),\n",
    "                 textcoords='offset points')\n",
    "_ = fig.set_ylim(0,3500) #To make space for the annotations\n",
    "plt.show()"
   ]
  },
  {
   "cell_type": "code",
   "execution_count": 12,
   "metadata": {},
   "outputs": [
    {
     "name": "stdout",
     "output_type": "stream",
     "text": [
      "Tweets Positivos: 40.7%\n",
      "Tweets Negativos: 15.6%\n",
      "Tweets Neutrales: 43.7%\n"
     ]
    }
   ],
   "source": [
    "total = sum(st_df_hc['Tweets'])\n",
    "positive = int(st_df_hc[st_df_hc['Tono'] == 'Positivo']['Tweets'])\n",
    "negative = int(st_df_hc[st_df_hc['Tono'] == 'Negativo']['Tweets'])\n",
    "neutral = int(st_df_hc[st_df_hc['Tono'] == 'Neutral']['Tweets'])\n",
    "print('Tweets Positivos: {0}%'.format(round(100*positive/total, 1)))\n",
    "print('Tweets Negativos: {0}%'.format(round(100*negative/total, 1)))\n",
    "print('Tweets Neutrales: {0}%'.format(round(100*neutral/total, 1)))"
   ]
  },
  {
   "cell_type": "markdown",
   "metadata": {},
   "source": [
    "#### Replies"
   ]
  },
  {
   "cell_type": "code",
   "execution_count": 13,
   "metadata": {
    "collapsed": true
   },
   "outputs": [],
   "source": [
    "st = db.get_sentiment_tweets(type_query='replies', **{'partido': 'anr', 'movimiento': 'honor colorado'})\n",
    "st_dict = {\n",
    "    'Tono': [],\n",
    "    'Tweets': []\n",
    "}\n",
    "for sen in st:\n",
    "    if sen['sentiment'] == 'positive':\n",
    "        st_dict['Tono'].append('Positivo')\n",
    "    elif sen['sentiment'] == 'negative':\n",
    "        st_dict['Tono'].append('Negativo')\n",
    "    else:\n",
    "        st_dict['Tono'].append('Neutral')\n",
    "    st_dict['Tweets'].append(sen['count'])\n",
    "st_df_hc = pd.DataFrame(st_dict)"
   ]
  },
  {
   "cell_type": "code",
   "execution_count": 16,
   "metadata": {},
   "outputs": [
    {
     "data": {
      "image/png": "[encoded data removed]",
      "text/plain": [
       "<matplotlib.figure.Figure at 0x11f359dd8>"
      ]
     },
     "metadata": {
      "needs_background": "light"
     },
     "output_type": "display_data"
    }
   ],
   "source": [
    "fig = sns.barplot(x='Tono', y='Tweets', data=st_df_hc, \n",
    "                  order=['Positivo', 'Neutral', 'Negativo'],\n",
    "                  palette=['green','gray', 'red'])\n",
    "ax=fig\n",
    "#annotate axis = seaborn axis\n",
    "for p in ax.patches:\n",
    "    ax.annotate(\"%d\" % p.get_height(), (p.get_x() + p.get_width() / 2., p.get_height()),\n",
    "                 ha='center', va='center', fontsize=12, color='black', xytext=(0, 10),\n",
    "                 textcoords='offset points')\n",
    "_ = fig.set_ylim(0,15000) #To make space for the annotations\n",
    "plt.show()"
   ]
  },
  {
   "cell_type": "code",
   "execution_count": 17,
   "metadata": {},
   "outputs": [
    {
     "name": "stdout",
     "output_type": "stream",
     "text": [
      "Tweets Positivos: 29.0%\n",
      "Tweets Negativos: 18.2%\n",
      "Tweets Neutrales: 52.8%\n"
     ]
    }
   ],
   "source": [
    "total = sum(st_df_hc['Tweets'])\n",
    "positive = int(st_df_hc[st_df_hc['Tono'] == 'Positivo']['Tweets'])\n",
    "negative = int(st_df_hc[st_df_hc['Tono'] == 'Negativo']['Tweets'])\n",
    "neutral = int(st_df_hc[st_df_hc['Tono'] == 'Neutral']['Tweets'])\n",
    "print('Tweets Positivos: {0}%'.format(round(100*positive/total, 1)))\n",
    "print('Tweets Negativos: {0}%'.format(round(100*negative/total, 1)))\n",
    "print('Tweets Neutrales: {0}%'.format(round(100*neutral/total, 1)))"
   ]
  },
  {
   "cell_type": "markdown",
   "metadata": {},
   "source": [
    "#### Quotes"
   ]
  },
  {
   "cell_type": "code",
   "execution_count": 18,
   "metadata": {
    "collapsed": true
   },
   "outputs": [],
   "source": [
    "st = db.get_sentiment_tweets(type_query='quotes', **{'partido': 'anr', 'movimiento': 'honor colorado'})\n",
    "st_dict = {\n",
    "    'Tono': [],\n",
    "    'Tweets': []\n",
    "}\n",
    "for sen in st:\n",
    "    if sen['sentiment'] == 'positive':\n",
    "        st_dict['Tono'].append('Positivo')\n",
    "    elif sen['sentiment'] == 'negative':\n",
    "        st_dict['Tono'].append('Negativo')\n",
    "    else:\n",
    "        st_dict['Tono'].append('Neutral')\n",
    "    st_dict['Tweets'].append(sen['count'])\n",
    "st_df_hc = pd.DataFrame(st_dict)"
   ]
  },
  {
   "cell_type": "code",
   "execution_count": 22,
   "metadata": {},
   "outputs": [
    {
     "data": {
      "image/png": "[encoded data removed]",
      "text/plain": [
       "<matplotlib.figure.Figure at 0x10d280f28>"
      ]
     },
     "metadata": {
      "needs_background": "light"
     },
     "output_type": "display_data"
    }
   ],
   "source": [
    "fig = sns.barplot(x='Tono', y='Tweets', data=st_df_hc, \n",
    "                  order=['Positivo', 'Neutral', 'Negativo'],\n",
    "                  palette=['green','gray', 'red'])\n",
    "ax=fig\n",
    "#annotate axis = seaborn axis\n",
    "for p in ax.patches:\n",
    "    ax.annotate(\"%d\" % p.get_height(), (p.get_x() + p.get_width() / 2., p.get_height()),\n",
    "                 ha='center', va='center', fontsize=12, color='black', xytext=(0, 10),\n",
    "                 textcoords='offset points')\n",
    "_ = fig.set_ylim(0,2300) #To make space for the annotations\n",
    "plt.show()"
   ]
  },
  {
   "cell_type": "code",
   "execution_count": 23,
   "metadata": {},
   "outputs": [
    {
     "name": "stdout",
     "output_type": "stream",
     "text": [
      "Tweets Positivos: 33.7%\n",
      "Tweets Negativos: 15.0%\n",
      "Tweets Neutrales: 51.3%\n"
     ]
    }
   ],
   "source": [
    "total = sum(st_df_hc['Tweets'])\n",
    "positive = int(st_df_hc[st_df_hc['Tono'] == 'Positivo']['Tweets'])\n",
    "negative = int(st_df_hc[st_df_hc['Tono'] == 'Negativo']['Tweets'])\n",
    "neutral = int(st_df_hc[st_df_hc['Tono'] == 'Neutral']['Tweets'])\n",
    "print('Tweets Positivos: {0}%'.format(round(100*positive/total, 1)))\n",
    "print('Tweets Negativos: {0}%'.format(round(100*negative/total, 1)))\n",
    "print('Tweets Neutrales: {0}%'.format(round(100*neutral/total, 1)))"
   ]
  },
  {
   "cell_type": "markdown",
   "metadata": {},
   "source": [
    "### Colorado Añeteté"
   ]
  },
  {
   "cell_type": "code",
   "execution_count": 44,
   "metadata": {
    "collapsed": true
   },
   "outputs": [],
   "source": [
    "st = db.get_sentiment_tweets(**{'partido': 'anr', 'movimiento': 'colorado añetete'})\n",
    "st_dict = {\n",
    "    'Tono': [],\n",
    "    'Tweets': []\n",
    "}\n",
    "for sen in st:\n",
    "    if sen['sentiment'] == 'positive':\n",
    "        st_dict['Tono'].append('Positivo')\n",
    "    elif sen['sentiment'] == 'negative':\n",
    "        st_dict['Tono'].append('Negativo')\n",
    "    else:\n",
    "        st_dict['Tono'].append('Neutral')\n",
    "    st_dict['Tweets'].append(sen['count'])\n",
    "st_df_ca = pd.DataFrame(st_dict)"
   ]
  },
  {
   "cell_type": "code",
   "execution_count": 45,
   "metadata": {},
   "outputs": [
    {
     "data": {
      "image/png": "[encoded data removed]",
      "text/plain": [
       "<matplotlib.figure.Figure at 0x3d8ec6c88>"
      ]
     },
     "metadata": {
      "needs_background": "light"
     },
     "output_type": "display_data"
    }
   ],
   "source": [
    "fig = sns.barplot(x='Tono', y='Tweets', data=st_df_ca, \n",
    "                  order=['Positivo', 'Neutral', 'Negativo'],\n",
    "                  palette=['green','gray', 'red'])\n",
    "ax=fig\n",
    "#annotate axis = seaborn axis\n",
    "for p in ax.patches:\n",
    "    ax.annotate(\"%d\" % p.get_height(), (p.get_x() + p.get_width() / 2., p.get_height()),\n",
    "                 ha='center', va='center', fontsize=12, color='black', xytext=(0, 10),\n",
    "                 textcoords='offset points')\n",
    "_ = fig.set_ylim(0,12000) #To make space for the annotations\n",
    "plt.show()"
   ]
  },
  {
   "cell_type": "code",
   "execution_count": 59,
   "metadata": {},
   "outputs": [
    {
     "name": "stdout",
     "output_type": "stream",
     "text": [
      "Tweets Positivos: 35.1%\n",
      "Tweets Negativos: 14.6%\n",
      "Tweets Neutrales: 50.3%\n"
     ]
    }
   ],
   "source": [
    "total = sum(st_df_ca['Tweets'])\n",
    "positive = int(st_df_ca[st_df_ca['Tono'] == 'Positivo']['Tweets'])\n",
    "negative = int(st_df_ca[st_df_ca['Tono'] == 'Negativo']['Tweets'])\n",
    "neutral = int(st_df_ca[st_df_ca['Tono'] == 'Neutral']['Tweets'])\n",
    "print('Tweets Positivos: {0}%'.format(round(100*positive/total, 1)))\n",
    "print('Tweets Negativos: {0}%'.format(round(100*negative/total, 1)))\n",
    "print('Tweets Neutrales: {0}%'.format(round(100*neutral/total, 1)))"
   ]
  },
  {
   "cell_type": "markdown",
   "metadata": {},
   "source": [
    "#### Tweets Originales"
   ]
  },
  {
   "cell_type": "code",
   "execution_count": 30,
   "metadata": {
    "collapsed": true
   },
   "outputs": [],
   "source": [
    "st = db.get_sentiment_tweets(type_query = 'original', **{'partido': 'anr', 'movimiento': 'colorado añetete'})\n",
    "st_dict = {\n",
    "    'Tono': [],\n",
    "    'Tweets': []\n",
    "}\n",
    "for sen in st:\n",
    "    if sen['sentiment'] == 'positive':\n",
    "        st_dict['Tono'].append('Positivo')\n",
    "    elif sen['sentiment'] == 'negative':\n",
    "        st_dict['Tono'].append('Negativo')\n",
    "    else:\n",
    "        st_dict['Tono'].append('Neutral')\n",
    "    st_dict['Tweets'].append(sen['count'])\n",
    "st_df_ca = pd.DataFrame(st_dict)"
   ]
  },
  {
   "cell_type": "code",
   "execution_count": 34,
   "metadata": {},
   "outputs": [
    {
     "data": {
      "image/png": "[encoded data removed]",
      "text/plain": [
       "<matplotlib.figure.Figure at 0x11f946b00>"
      ]
     },
     "metadata": {
      "needs_background": "light"
     },
     "output_type": "display_data"
    }
   ],
   "source": [
    "fig = sns.barplot(x='Tono', y='Tweets', data=st_df_ca, \n",
    "                  order=['Positivo', 'Neutral', 'Negativo'],\n",
    "                  palette=['green','gray', 'red'])\n",
    "ax=fig\n",
    "#annotate axis = seaborn axis\n",
    "for p in ax.patches:\n",
    "    ax.annotate(\"%d\" % p.get_height(), (p.get_x() + p.get_width() / 2., p.get_height()),\n",
    "                 ha='center', va='center', fontsize=12, color='black', xytext=(0, 10),\n",
    "                 textcoords='offset points')\n",
    "_ = fig.set_ylim(0,2800) #To make space for the annotations\n",
    "plt.show()"
   ]
  },
  {
   "cell_type": "code",
   "execution_count": 35,
   "metadata": {},
   "outputs": [
    {
     "name": "stdout",
     "output_type": "stream",
     "text": [
      "Tweets Positivos: 43.5%\n",
      "Tweets Negativos: 14.0%\n",
      "Tweets Neutrales: 42.5%\n"
     ]
    }
   ],
   "source": [
    "total = sum(st_df_ca['Tweets'])\n",
    "positive = int(st_df_ca[st_df_ca['Tono'] == 'Positivo']['Tweets'])\n",
    "negative = int(st_df_ca[st_df_ca['Tono'] == 'Negativo']['Tweets'])\n",
    "neutral = int(st_df_ca[st_df_ca['Tono'] == 'Neutral']['Tweets'])\n",
    "print('Tweets Positivos: {0}%'.format(round(100*positive/total, 1)))\n",
    "print('Tweets Negativos: {0}%'.format(round(100*negative/total, 1)))\n",
    "print('Tweets Neutrales: {0}%'.format(round(100*neutral/total, 1)))"
   ]
  },
  {
   "cell_type": "markdown",
   "metadata": {},
   "source": [
    "#### Replies"
   ]
  },
  {
   "cell_type": "code",
   "execution_count": 36,
   "metadata": {
    "collapsed": true
   },
   "outputs": [],
   "source": [
    "st = db.get_sentiment_tweets(type_query = 'replies', **{'partido': 'anr', 'movimiento': 'colorado añetete'})\n",
    "st_dict = {\n",
    "    'Tono': [],\n",
    "    'Tweets': []\n",
    "}\n",
    "for sen in st:\n",
    "    if sen['sentiment'] == 'positive':\n",
    "        st_dict['Tono'].append('Positivo')\n",
    "    elif sen['sentiment'] == 'negative':\n",
    "        st_dict['Tono'].append('Negativo')\n",
    "    else:\n",
    "        st_dict['Tono'].append('Neutral')\n",
    "    st_dict['Tweets'].append(sen['count'])\n",
    "st_df_ca = pd.DataFrame(st_dict)"
   ]
  },
  {
   "cell_type": "code",
   "execution_count": 42,
   "metadata": {},
   "outputs": [
    {
     "data": {
      "image/png": "[encoded data removed]",
      "text/plain": [
       "<matplotlib.figure.Figure at 0x11f344390>"
      ]
     },
     "metadata": {
      "needs_background": "light"
     },
     "output_type": "display_data"
    }
   ],
   "source": [
    "fig = sns.barplot(x='Tono', y='Tweets', data=st_df_ca, \n",
    "                  order=['Positivo', 'Neutral', 'Negativo'],\n",
    "                  palette=['green','gray', 'red'])\n",
    "ax=fig\n",
    "#annotate axis = seaborn axis\n",
    "for p in ax.patches:\n",
    "    ax.annotate(\"%d\" % p.get_height(), (p.get_x() + p.get_width() / 2., p.get_height()),\n",
    "                 ha='center', va='center', fontsize=12, color='black', xytext=(0, 10),\n",
    "                 textcoords='offset points')\n",
    "_ = fig.set_ylim(0,8400) #To make space for the annotations\n",
    "plt.show()"
   ]
  },
  {
   "cell_type": "code",
   "execution_count": 43,
   "metadata": {},
   "outputs": [
    {
     "name": "stdout",
     "output_type": "stream",
     "text": [
      "Tweets Positivos: 30.3%\n",
      "Tweets Negativos: 15.5%\n",
      "Tweets Neutrales: 54.3%\n"
     ]
    }
   ],
   "source": [
    "total = sum(st_df_ca['Tweets'])\n",
    "positive = int(st_df_ca[st_df_ca['Tono'] == 'Positivo']['Tweets'])\n",
    "negative = int(st_df_ca[st_df_ca['Tono'] == 'Negativo']['Tweets'])\n",
    "neutral = int(st_df_ca[st_df_ca['Tono'] == 'Neutral']['Tweets'])\n",
    "print('Tweets Positivos: {0}%'.format(round(100*positive/total, 1)))\n",
    "print('Tweets Negativos: {0}%'.format(round(100*negative/total, 1)))\n",
    "print('Tweets Neutrales: {0}%'.format(round(100*neutral/total, 1)))"
   ]
  },
  {
   "cell_type": "markdown",
   "metadata": {},
   "source": [
    "#### Quotes"
   ]
  },
  {
   "cell_type": "code",
   "execution_count": 44,
   "metadata": {
    "collapsed": true
   },
   "outputs": [],
   "source": [
    "st = db.get_sentiment_tweets(type_query = 'quotes', **{'partido': 'anr', 'movimiento': 'colorado añetete'})\n",
    "st_dict = {\n",
    "    'Tono': [],\n",
    "    'Tweets': []\n",
    "}\n",
    "for sen in st:\n",
    "    if sen['sentiment'] == 'positive':\n",
    "        st_dict['Tono'].append('Positivo')\n",
    "    elif sen['sentiment'] == 'negative':\n",
    "        st_dict['Tono'].append('Negativo')\n",
    "    else:\n",
    "        st_dict['Tono'].append('Neutral')\n",
    "    st_dict['Tweets'].append(sen['count'])\n",
    "st_df_ca = pd.DataFrame(st_dict)"
   ]
  },
  {
   "cell_type": "code",
   "execution_count": 50,
   "metadata": {},
   "outputs": [
    {
     "data": {
      "image/png": "[encoded data removed]",
      "text/plain": [
       "<matplotlib.figure.Figure at 0x11b5691d0>"
      ]
     },
     "metadata": {
      "needs_background": "light"
     },
     "output_type": "display_data"
    }
   ],
   "source": [
    "fig = sns.barplot(x='Tono', y='Tweets', data=st_df_ca, \n",
    "                  order=['Positivo', 'Neutral', 'Negativo'],\n",
    "                  palette=['green','gray', 'red'])\n",
    "ax=fig\n",
    "#annotate axis = seaborn axis\n",
    "for p in ax.patches:\n",
    "    ax.annotate(\"%d\" % p.get_height(), (p.get_x() + p.get_width() / 2., p.get_height()),\n",
    "                 ha='center', va='center', fontsize=12, color='black', xytext=(0, 10),\n",
    "                 textcoords='offset points')\n",
    "_ = fig.set_ylim(0,950) #To make space for the annotations\n",
    "plt.show()"
   ]
  },
  {
   "cell_type": "code",
   "execution_count": 47,
   "metadata": {},
   "outputs": [
    {
     "name": "stdout",
     "output_type": "stream",
     "text": [
      "Tweets Positivos: 46.9%\n",
      "Tweets Negativos: 9.9%\n",
      "Tweets Neutrales: 43.2%\n"
     ]
    }
   ],
   "source": [
    "total = sum(st_df_ca['Tweets'])\n",
    "positive = int(st_df_ca[st_df_ca['Tono'] == 'Positivo']['Tweets'])\n",
    "negative = int(st_df_ca[st_df_ca['Tono'] == 'Negativo']['Tweets'])\n",
    "neutral = int(st_df_ca[st_df_ca['Tono'] == 'Neutral']['Tweets'])\n",
    "print('Tweets Positivos: {0}%'.format(round(100*positive/total, 1)))\n",
    "print('Tweets Negativos: {0}%'.format(round(100*negative/total, 1)))\n",
    "print('Tweets Neutrales: {0}%'.format(round(100*neutral/total, 1)))"
   ]
  },
  {
   "cell_type": "markdown",
   "metadata": {},
   "source": [
    "La distribución de tweets por tonalidad es bastante similar en ambos movimientos. Los resultados se mantienen aún dividiendo el análisis por tipo de tweet: original, reply, quote. Un aspecto interesante es que la distribución de tonalidades es ligeramente diferente para el movimiento **`Colorado Añeteté`** en cuanto a tweets originales y quotes, donde los tweets positivos sobre pasan a los neutrales."
   ]
  },
  {
   "cell_type": "markdown",
   "metadata": {},
   "source": [
    "## Distribución de Tweets por contenido"
   ]
  },
  {
   "cell_type": "markdown",
   "metadata": {},
   "source": [
    "En este análisis se consideran solo tweets originales, replies, y quotes. Los retweets son descartados."
   ]
  },
  {
   "cell_type": "code",
   "execution_count": 10,
   "metadata": {
    "collapsed": true
   },
   "outputs": [],
   "source": [
    "tot_tweets_anr_no_rt = len(original_tweets) + len(replies) + len(quotes)"
   ]
  },
  {
   "cell_type": "markdown",
   "metadata": {},
   "source": [
    "### Planos"
   ]
  },
  {
   "cell_type": "markdown",
   "metadata": {},
   "source": [
    "Solo texto sin links, fotos, o videos."
   ]
  },
  {
   "cell_type": "code",
   "execution_count": 11,
   "metadata": {
    "collapsed": true
   },
   "outputs": [],
   "source": [
    "pt = db.get_plain_tweets(**{'partido': 'anr'})"
   ]
  },
  {
   "cell_type": "markdown",
   "metadata": {},
   "source": [
    "### Links"
   ]
  },
  {
   "cell_type": "markdown",
   "metadata": {},
   "source": [
    "Tweets con links"
   ]
  },
  {
   "cell_type": "code",
   "execution_count": 13,
   "metadata": {
    "collapsed": true
   },
   "outputs": [],
   "source": [
    "lt = db.get_tweets_with_links(**{'partido': 'anr'})"
   ]
  },
  {
   "cell_type": "markdown",
   "metadata": {},
   "source": [
    "#### Top-10 dominios más frecuentes"
   ]
  },
  {
   "cell_type": "code",
   "execution_count": 24,
   "metadata": {
    "collapsed": true
   },
   "outputs": [],
   "source": [
    "la = LinkAnalyzer()\n",
    "domains_url, domains = la.get_domains_and_freq(save_to_file=False, **{'partido': 'anr'})"
   ]
  },
  {
   "cell_type": "code",
   "execution_count": 25,
   "metadata": {},
   "outputs": [
    {
     "data": {
      "text/html": [
       "<div>\n",
       "<style scoped>\n",
       "    .dataframe tbody tr th:only-of-type {\n",
       "        vertical-align: middle;\n",
       "    }\n",
       "\n",
       "    .dataframe tbody tr th {\n",
       "        vertical-align: top;\n",
       "    }\n",
       "\n",
       "    .dataframe thead th {\n",
       "        text-align: right;\n",
       "    }\n",
       "</style>\n",
       "<table border=\"1\" class=\"dataframe\">\n",
       "  <thead>\n",
       "    <tr style=\"text-align: right;\">\n",
       "      <th></th>\n",
       "      <th>Domain</th>\n",
       "      <th>Tweets</th>\n",
       "    </tr>\n",
       "  </thead>\n",
       "  <tbody>\n",
       "    <tr>\n",
       "      <th>0</th>\n",
       "      <td>messenger</td>\n",
       "      <td>154</td>\n",
       "    </tr>\n",
       "    <tr>\n",
       "      <th>1</th>\n",
       "      <td>youtube</td>\n",
       "      <td>150</td>\n",
       "    </tr>\n",
       "    <tr>\n",
       "      <th>2</th>\n",
       "      <td>facebook</td>\n",
       "      <td>98</td>\n",
       "    </tr>\n",
       "    <tr>\n",
       "      <th>3</th>\n",
       "      <td>abc</td>\n",
       "      <td>82</td>\n",
       "    </tr>\n",
       "    <tr>\n",
       "      <th>4</th>\n",
       "      <td>ultimahora</td>\n",
       "      <td>36</td>\n",
       "    </tr>\n",
       "    <tr>\n",
       "      <th>5</th>\n",
       "      <td>efe</td>\n",
       "      <td>20</td>\n",
       "    </tr>\n",
       "    <tr>\n",
       "      <th>6</th>\n",
       "      <td>radio1000</td>\n",
       "      <td>18</td>\n",
       "    </tr>\n",
       "    <tr>\n",
       "      <th>7</th>\n",
       "      <td>goo</td>\n",
       "      <td>18</td>\n",
       "    </tr>\n",
       "    <tr>\n",
       "      <th>8</th>\n",
       "      <td>lavozdigital</td>\n",
       "      <td>17</td>\n",
       "    </tr>\n",
       "    <tr>\n",
       "      <th>9</th>\n",
       "      <td>instagram</td>\n",
       "      <td>14</td>\n",
       "    </tr>\n",
       "  </tbody>\n",
       "</table>\n",
       "</div>"
      ],
      "text/plain": [
       "         Domain  Tweets\n",
       "0     messenger     154\n",
       "1       youtube     150\n",
       "2      facebook      98\n",
       "3           abc      82\n",
       "4    ultimahora      36\n",
       "5           efe      20\n",
       "6     radio1000      18\n",
       "7           goo      18\n",
       "8  lavozdigital      17\n",
       "9     instagram      14"
      ]
     },
     "execution_count": 25,
     "metadata": {},
     "output_type": "execute_result"
    }
   ],
   "source": [
    "domains_freq = pd.DataFrame(domains, columns=['Domain','Tweets'])\n",
    "domains_freq[:10]"
   ]
  },
  {
   "cell_type": "markdown",
   "metadata": {},
   "source": [
    "### Fotos"
   ]
  },
  {
   "cell_type": "markdown",
   "metadata": {},
   "source": [
    "Tweets con fotos"
   ]
  },
  {
   "cell_type": "code",
   "execution_count": 15,
   "metadata": {
    "collapsed": true
   },
   "outputs": [],
   "source": [
    "pht = db.get_tweets_with_photo(**{'partido': 'anr'})"
   ]
  },
  {
   "cell_type": "markdown",
   "metadata": {},
   "source": [
    "#### Ejemplo"
   ]
  },
  {
   "cell_type": "code",
   "execution_count": 27,
   "metadata": {},
   "outputs": [
    {
     "data": {
      "text/html": [
       "\n",
       "<blockquote class=\"twitter-tweet\" data-lang=\"en\"><p lang=\"es\" dir=\"ltr\">Sumate al equipo ganador. ¡Votá <a href=\"https://twitter.com/hashtag/Lista2?src=hash&amp;ref_src=twsrc%5Etfw\">#Lista2</a>! <a href=\"https://t.co/DOVRIcMWNX\">pic.twitter.com/DOVRIcMWNX</a></p>&mdash; Santiago Peña (@SantiPenap) <a href=\"https://twitter.com/SantiPenap/status/936853394278330369?ref_src=twsrc%5Etfw\">December 2, 2017</a></blockquote>\n",
       "<script async src=\"https://platform.twitter.com/widgets.js\" charset=\"utf-8\"></script>\n"
      ],
      "text/plain": [
       "<__main__.Tweet at 0x1215520b8>"
      ]
     },
     "execution_count": 27,
     "metadata": {},
     "output_type": "execute_result"
    }
   ],
   "source": [
    "s = (\"\"\"\n",
    "<blockquote class=\"twitter-tweet\" data-lang=\"en\"><p lang=\"es\" dir=\"ltr\">Sumate al equipo ganador. ¡Votá <a href=\"https://twitter.com/hashtag/Lista2?src=hash&amp;ref_src=twsrc%5Etfw\">#Lista2</a>! <a href=\"https://t.co/DOVRIcMWNX\">pic.twitter.com/DOVRIcMWNX</a></p>&mdash; Santiago Peña (@SantiPenap) <a href=\"https://twitter.com/SantiPenap/status/936853394278330369?ref_src=twsrc%5Etfw\">December 2, 2017</a></blockquote>\n",
    "<script async src=\"https://platform.twitter.com/widgets.js\" charset=\"utf-8\"></script>\n",
    "\"\"\")\n",
    "Tweet(s)"
   ]
  },
  {
   "cell_type": "markdown",
   "metadata": {},
   "source": [
    "### Videos"
   ]
  },
  {
   "cell_type": "markdown",
   "metadata": {},
   "source": [
    "Tweets con video"
   ]
  },
  {
   "cell_type": "code",
   "execution_count": 17,
   "metadata": {
    "collapsed": true
   },
   "outputs": [],
   "source": [
    "vt = db.get_tweets_with_video(**{'partido': 'anr'})"
   ]
  },
  {
   "cell_type": "code",
   "execution_count": 22,
   "metadata": {},
   "outputs": [
    {
     "data": {
      "image/png": "[encoded data removed]",
      "text/plain": [
       "<matplotlib.figure.Figure at 0x17941def0>"
      ]
     },
     "metadata": {
      "needs_background": "light"
     },
     "output_type": "display_data"
    }
   ],
   "source": [
    "dis = pd.DataFrame(\n",
    "    {\n",
    "        'Tipo': ['Plano', 'Link', 'Foto', 'Video'],\n",
    "        '% Tweets': [\n",
    "            round(100*(len(pt)/tot_tweets_anr_no_rt),1),\n",
    "            round(100*(len(lt)/tot_tweets_anr_no_rt),1),\n",
    "            round(100*(len(pht)/tot_tweets_anr_no_rt),1),\n",
    "            round(100*(len(vt)/tot_tweets_anr_no_rt),1)\n",
    "        ]\n",
    "    }\n",
    ")\n",
    "fig = sns.barplot(x='Tipo', y='% Tweets', data=dis, order=['Plano', 'Foto', 'Link', 'Video'])\n",
    "ax=fig\n",
    "#annotate axis = seaborn axis\n",
    "for p in ax.patches:\n",
    "    ax.annotate(\"{0}%\".format(p.get_height()), (p.get_x() + p.get_width() / 2., p.get_height()),\n",
    "                 ha='center', va='center', fontsize=12, color='black', xytext=(0, 10),\n",
    "                 textcoords='offset points')\n",
    "_ = fig.set_ylim(0,100) #To make space for the annotations\n",
    "plt.show()"
   ]
  },
  {
   "cell_type": "markdown",
   "metadata": {},
   "source": [
    "### Honor Colorado"
   ]
  },
  {
   "cell_type": "code",
   "execution_count": 29,
   "metadata": {
    "collapsed": true
   },
   "outputs": [],
   "source": [
    "tot_tws_hc = len(original_tweets_hc) + len(replies_hc) + len(quotes_hc)"
   ]
  },
  {
   "cell_type": "markdown",
   "metadata": {},
   "source": [
    "### Planos"
   ]
  },
  {
   "cell_type": "markdown",
   "metadata": {},
   "source": [
    "Solo texto sin links, fotos, o videos."
   ]
  },
  {
   "cell_type": "code",
   "execution_count": 30,
   "metadata": {
    "collapsed": true
   },
   "outputs": [],
   "source": [
    "pt = db.get_plain_tweets(**{'partido': 'anr', 'movimiento': 'honor colorado'})"
   ]
  },
  {
   "cell_type": "code",
   "execution_count": 31,
   "metadata": {},
   "outputs": [
    {
     "name": "stdout",
     "output_type": "stream",
     "text": [
      "Existen 31189 tweets planos. Representan el 86.7% del total de tweets originales, replies, y quotes de HC.\n"
     ]
    }
   ],
   "source": [
    "print('Existen {0} tweets planos. Representan el {1}% del total de tweets originales, replies, y quotes de HC.'.\n",
    "      format(len(pt), round(100*(len(pt)/tot_tws_hc),1)))"
   ]
  },
  {
   "cell_type": "markdown",
   "metadata": {},
   "source": [
    "### Links"
   ]
  },
  {
   "cell_type": "markdown",
   "metadata": {},
   "source": [
    "Tweets con links"
   ]
  },
  {
   "cell_type": "code",
   "execution_count": 32,
   "metadata": {
    "collapsed": true
   },
   "outputs": [],
   "source": [
    "lt = db.get_tweets_with_links(**{'partido': 'anr', 'movimiento': 'honor colorado'})"
   ]
  },
  {
   "cell_type": "code",
   "execution_count": 44,
   "metadata": {},
   "outputs": [
    {
     "name": "stdout",
     "output_type": "stream",
     "text": [
      "Existen 503 tweets con links. Representan el 1.4% del total de tweets originales, replies, y quotes de HC.\n"
     ]
    }
   ],
   "source": [
    "print('Existen {0} tweets con links. Representan el {1}% del total de tweets originales, replies, y quotes de HC.'.\n",
    "      format(len(lt), round(100*(len(lt)/tot_tws_hc),1)))"
   ]
  },
  {
   "cell_type": "markdown",
   "metadata": {},
   "source": [
    "#### Top-10 dominios más frecuentes"
   ]
  },
  {
   "cell_type": "code",
   "execution_count": 60,
   "metadata": {
    "collapsed": true
   },
   "outputs": [],
   "source": [
    "la = LinkAnalyzer()\n",
    "domains_url, domains = la.get_domains_and_freq(save_to_file=False, \n",
    "                                               **{'partido': 'anr', 'movimiento': 'honor colorado'})"
   ]
  },
  {
   "cell_type": "code",
   "execution_count": 61,
   "metadata": {},
   "outputs": [
    {
     "data": {
      "text/html": [
       "<div>\n",
       "<style scoped>\n",
       "    .dataframe tbody tr th:only-of-type {\n",
       "        vertical-align: middle;\n",
       "    }\n",
       "\n",
       "    .dataframe tbody tr th {\n",
       "        vertical-align: top;\n",
       "    }\n",
       "\n",
       "    .dataframe thead th {\n",
       "        text-align: right;\n",
       "    }\n",
       "</style>\n",
       "<table border=\"1\" class=\"dataframe\">\n",
       "  <thead>\n",
       "    <tr style=\"text-align: right;\">\n",
       "      <th></th>\n",
       "      <th>Domain</th>\n",
       "      <th>Tweets</th>\n",
       "    </tr>\n",
       "  </thead>\n",
       "  <tbody>\n",
       "    <tr>\n",
       "      <th>0</th>\n",
       "      <td>youtube</td>\n",
       "      <td>133</td>\n",
       "    </tr>\n",
       "    <tr>\n",
       "      <th>1</th>\n",
       "      <td>abc</td>\n",
       "      <td>57</td>\n",
       "    </tr>\n",
       "    <tr>\n",
       "      <th>2</th>\n",
       "      <td>facebook</td>\n",
       "      <td>51</td>\n",
       "    </tr>\n",
       "    <tr>\n",
       "      <th>3</th>\n",
       "      <td>ultimahora</td>\n",
       "      <td>16</td>\n",
       "    </tr>\n",
       "    <tr>\n",
       "      <th>4</th>\n",
       "      <td>efe</td>\n",
       "      <td>16</td>\n",
       "    </tr>\n",
       "    <tr>\n",
       "      <th>5</th>\n",
       "      <td>lavozdigital</td>\n",
       "      <td>12</td>\n",
       "    </tr>\n",
       "    <tr>\n",
       "      <th>6</th>\n",
       "      <td>rdn</td>\n",
       "      <td>8</td>\n",
       "    </tr>\n",
       "    <tr>\n",
       "      <th>7</th>\n",
       "      <td>santipresidente</td>\n",
       "      <td>8</td>\n",
       "    </tr>\n",
       "    <tr>\n",
       "      <th>8</th>\n",
       "      <td>twitter</td>\n",
       "      <td>7</td>\n",
       "    </tr>\n",
       "    <tr>\n",
       "      <th>9</th>\n",
       "      <td>780am</td>\n",
       "      <td>5</td>\n",
       "    </tr>\n",
       "  </tbody>\n",
       "</table>\n",
       "</div>"
      ],
      "text/plain": [
       "            Domain  Tweets\n",
       "0          youtube     133\n",
       "1              abc      57\n",
       "2         facebook      51\n",
       "3       ultimahora      16\n",
       "4              efe      16\n",
       "5     lavozdigital      12\n",
       "6              rdn       8\n",
       "7  santipresidente       8\n",
       "8          twitter       7\n",
       "9            780am       5"
      ]
     },
     "execution_count": 61,
     "metadata": {},
     "output_type": "execute_result"
    }
   ],
   "source": [
    "domains_freq = pd.DataFrame(domains, columns=['Domain','Tweets'])\n",
    "domains_freq[:10]"
   ]
  },
  {
   "cell_type": "markdown",
   "metadata": {},
   "source": [
    "### Fotos"
   ]
  },
  {
   "cell_type": "markdown",
   "metadata": {},
   "source": [
    "Tweets con fotos"
   ]
  },
  {
   "cell_type": "code",
   "execution_count": 35,
   "metadata": {
    "collapsed": true
   },
   "outputs": [],
   "source": [
    "pht = db.get_tweets_with_photo(**{'partido': 'anr', 'movimiento': 'honor colorado'})"
   ]
  },
  {
   "cell_type": "code",
   "execution_count": 45,
   "metadata": {},
   "outputs": [
    {
     "name": "stdout",
     "output_type": "stream",
     "text": [
      "Existen 4296 tweets con fotos. Representan el 11.9% del total de tweets originales, replies, y quotes de HC.\n"
     ]
    }
   ],
   "source": [
    "print('Existen {0} tweets con fotos. Representan el {1}% del total de tweets originales, replies, y quotes de HC.'.\n",
    "      format(len(pht), round(100*(len(pht)/tot_tws_hc),1)))"
   ]
  },
  {
   "cell_type": "markdown",
   "metadata": {},
   "source": [
    "### Videos"
   ]
  },
  {
   "cell_type": "markdown",
   "metadata": {},
   "source": [
    "Tweets con video"
   ]
  },
  {
   "cell_type": "code",
   "execution_count": 37,
   "metadata": {
    "collapsed": true
   },
   "outputs": [],
   "source": [
    "vt = db.get_tweets_with_video(**{'partido': 'anr', 'movimiento': 'honor colorado'})"
   ]
  },
  {
   "cell_type": "code",
   "execution_count": 46,
   "metadata": {},
   "outputs": [
    {
     "name": "stdout",
     "output_type": "stream",
     "text": [
      "Existen 0 tweets videos. Representan el 0.0% del total de tweets originales, replies, y quotes de HC.\n"
     ]
    }
   ],
   "source": [
    "print('Existen {0} tweets videos. Representan el {1}% del total de tweets originales, replies, y quotes de HC.'.\n",
    "      format(len(vt), round(100*(len(vt)/tot_tws_hc),1)))"
   ]
  },
  {
   "cell_type": "code",
   "execution_count": 39,
   "metadata": {},
   "outputs": [
    {
     "data": {
      "image/png": "[encoded data removed]",
      "text/plain": [
       "<matplotlib.figure.Figure at 0x15de0cdd8>"
      ]
     },
     "metadata": {
      "needs_background": "light"
     },
     "output_type": "display_data"
    }
   ],
   "source": [
    "dis = pd.DataFrame(\n",
    "    {\n",
    "        'Tipo': ['Plano', 'Link', 'Foto', 'Video'],\n",
    "        '% Tweets': [\n",
    "            round(100*(len(pt)/tot_tws_hc),1),\n",
    "            round(100*(len(lt)/tot_tws_hc),1),\n",
    "            round(100*(len(pht)/tot_tws_hc),1),\n",
    "            round(100*(len(vt)/tot_tws_hc),1)\n",
    "        ]\n",
    "    }\n",
    ")\n",
    "fig = sns.barplot(x='Tipo', y='% Tweets', data=dis, order=['Plano', 'Foto', 'Link', 'Video'])\n",
    "ax=fig\n",
    "#annotate axis = seaborn axis\n",
    "for p in ax.patches:\n",
    "    ax.annotate(\"{0}%\".format(p.get_height()), (p.get_x() + p.get_width() / 2., p.get_height()),\n",
    "                 ha='center', va='center', fontsize=12, color='black', xytext=(0, 10),\n",
    "                 textcoords='offset points')\n",
    "_ = fig.set_ylim(0,100) #To make space for the annotations\n",
    "plt.show()"
   ]
  },
  {
   "cell_type": "markdown",
   "metadata": {},
   "source": [
    "### Colorado Añeteté"
   ]
  },
  {
   "cell_type": "code",
   "execution_count": 41,
   "metadata": {
    "collapsed": true
   },
   "outputs": [],
   "source": [
    "tot_tws_ca = len(original_tweets_ca) + len(replies_ca) + len(quotes_ca)"
   ]
  },
  {
   "cell_type": "markdown",
   "metadata": {},
   "source": [
    "### Planos"
   ]
  },
  {
   "cell_type": "markdown",
   "metadata": {},
   "source": [
    "Solo texto sin links, fotos, o videos."
   ]
  },
  {
   "cell_type": "code",
   "execution_count": 47,
   "metadata": {
    "collapsed": true
   },
   "outputs": [],
   "source": [
    "pt = db.get_plain_tweets(**{'partido': 'anr', 'movimiento': 'colorado añetete'})"
   ]
  },
  {
   "cell_type": "code",
   "execution_count": 48,
   "metadata": {},
   "outputs": [
    {
     "name": "stdout",
     "output_type": "stream",
     "text": [
      "Existen 18040 tweets planos. Representan el 84.1% del total de tweets originales, replies, y quotes de CA.\n"
     ]
    }
   ],
   "source": [
    "print('Existen {0} tweets planos. Representan el {1}% del total de tweets originales, replies, y quotes de CA.'.\n",
    "      format(len(pt), round(100*(len(pt)/tot_tws_ca),1)))"
   ]
  },
  {
   "cell_type": "markdown",
   "metadata": {},
   "source": [
    "### Links"
   ]
  },
  {
   "cell_type": "markdown",
   "metadata": {},
   "source": [
    "Tweets con links"
   ]
  },
  {
   "cell_type": "code",
   "execution_count": 49,
   "metadata": {
    "collapsed": true
   },
   "outputs": [],
   "source": [
    "lt = db.get_tweets_with_links(**{'partido': 'anr', 'movimiento': 'colorado añetete'})"
   ]
  },
  {
   "cell_type": "code",
   "execution_count": 54,
   "metadata": {},
   "outputs": [
    {
     "name": "stdout",
     "output_type": "stream",
     "text": [
      "Existen 617 tweets con links. Representan el 2.9% del total de tweets originales, replies, y quotes de CA.\n"
     ]
    }
   ],
   "source": [
    "print('Existen {0} tweets con links. Representan el {1}% del total de tweets originales, replies, y quotes de CA.'.\n",
    "      format(len(lt), round(100*(len(lt)/tot_tws_ca),1)))"
   ]
  },
  {
   "cell_type": "markdown",
   "metadata": {},
   "source": [
    "#### Top-10 dominios más frecuentes"
   ]
  },
  {
   "cell_type": "code",
   "execution_count": 62,
   "metadata": {
    "collapsed": true
   },
   "outputs": [],
   "source": [
    "la = LinkAnalyzer()\n",
    "domains_url, domains = la.get_domains_and_freq(save_to_file=False, \n",
    "                                               **{'partido': 'anr', 'movimiento': 'colorado añetete'})"
   ]
  },
  {
   "cell_type": "code",
   "execution_count": 63,
   "metadata": {},
   "outputs": [
    {
     "data": {
      "text/html": [
       "<div>\n",
       "<style scoped>\n",
       "    .dataframe tbody tr th:only-of-type {\n",
       "        vertical-align: middle;\n",
       "    }\n",
       "\n",
       "    .dataframe tbody tr th {\n",
       "        vertical-align: top;\n",
       "    }\n",
       "\n",
       "    .dataframe thead th {\n",
       "        text-align: right;\n",
       "    }\n",
       "</style>\n",
       "<table border=\"1\" class=\"dataframe\">\n",
       "  <thead>\n",
       "    <tr style=\"text-align: right;\">\n",
       "      <th></th>\n",
       "      <th>Domain</th>\n",
       "      <th>Tweets</th>\n",
       "    </tr>\n",
       "  </thead>\n",
       "  <tbody>\n",
       "    <tr>\n",
       "      <th>0</th>\n",
       "      <td>messenger</td>\n",
       "      <td>154</td>\n",
       "    </tr>\n",
       "    <tr>\n",
       "      <th>1</th>\n",
       "      <td>facebook</td>\n",
       "      <td>48</td>\n",
       "    </tr>\n",
       "    <tr>\n",
       "      <th>2</th>\n",
       "      <td>abc</td>\n",
       "      <td>34</td>\n",
       "    </tr>\n",
       "    <tr>\n",
       "      <th>3</th>\n",
       "      <td>ultimahora</td>\n",
       "      <td>22</td>\n",
       "    </tr>\n",
       "    <tr>\n",
       "      <th>4</th>\n",
       "      <td>youtube</td>\n",
       "      <td>20</td>\n",
       "    </tr>\n",
       "    <tr>\n",
       "      <th>5</th>\n",
       "      <td>radio1000</td>\n",
       "      <td>18</td>\n",
       "    </tr>\n",
       "    <tr>\n",
       "      <th>6</th>\n",
       "      <td>instagram</td>\n",
       "      <td>11</td>\n",
       "    </tr>\n",
       "    <tr>\n",
       "      <th>7</th>\n",
       "      <td>lavozdigital</td>\n",
       "      <td>10</td>\n",
       "    </tr>\n",
       "    <tr>\n",
       "      <th>8</th>\n",
       "      <td>nanduti</td>\n",
       "      <td>8</td>\n",
       "    </tr>\n",
       "    <tr>\n",
       "      <th>9</th>\n",
       "      <td>goo</td>\n",
       "      <td>7</td>\n",
       "    </tr>\n",
       "  </tbody>\n",
       "</table>\n",
       "</div>"
      ],
      "text/plain": [
       "         Domain  Tweets\n",
       "0     messenger     154\n",
       "1      facebook      48\n",
       "2           abc      34\n",
       "3    ultimahora      22\n",
       "4       youtube      20\n",
       "5     radio1000      18\n",
       "6     instagram      11\n",
       "7  lavozdigital      10\n",
       "8       nanduti       8\n",
       "9           goo       7"
      ]
     },
     "execution_count": 63,
     "metadata": {},
     "output_type": "execute_result"
    }
   ],
   "source": [
    "domains_freq = pd.DataFrame(domains, columns=['Domain','Tweets'])\n",
    "domains_freq[:10]"
   ]
  },
  {
   "cell_type": "markdown",
   "metadata": {},
   "source": [
    "### Fotos"
   ]
  },
  {
   "cell_type": "markdown",
   "metadata": {},
   "source": [
    "Tweets con fotos"
   ]
  },
  {
   "cell_type": "code",
   "execution_count": 52,
   "metadata": {
    "collapsed": true
   },
   "outputs": [],
   "source": [
    "pht = db.get_tweets_with_photo(**{'partido': 'anr', 'movimiento': 'colorado añetete'})"
   ]
  },
  {
   "cell_type": "code",
   "execution_count": 55,
   "metadata": {},
   "outputs": [
    {
     "name": "stdout",
     "output_type": "stream",
     "text": [
      "Existen 2791 tweets con fotos. Representan el 13.0% del total de tweets originales, replies, y quotes de CA.\n"
     ]
    }
   ],
   "source": [
    "print('Existen {0} tweets con fotos. Representan el {1}% del total de tweets originales, replies, y quotes de CA.'.\n",
    "      format(len(pht), round(100*(len(pht)/tot_tws_ca),1)))"
   ]
  },
  {
   "cell_type": "markdown",
   "metadata": {},
   "source": [
    "### Videos"
   ]
  },
  {
   "cell_type": "markdown",
   "metadata": {},
   "source": [
    "Tweets con video"
   ]
  },
  {
   "cell_type": "code",
   "execution_count": 56,
   "metadata": {
    "collapsed": true
   },
   "outputs": [],
   "source": [
    "vt = db.get_tweets_with_video(**{'partido': 'anr', 'movimiento': 'colorado añetete'})"
   ]
  },
  {
   "cell_type": "code",
   "execution_count": 57,
   "metadata": {},
   "outputs": [
    {
     "name": "stdout",
     "output_type": "stream",
     "text": [
      "Existen 0 tweets planos. Representan el 0.0% del total de tweets originales, replies, y quotes de CA.\n"
     ]
    }
   ],
   "source": [
    "print('Existen {0} tweets planos. Representan el {1}% del total de tweets originales, replies, y quotes de CA.'.\n",
    "      format(len(vt), round(100*(len(vt)/tot_tws_ca),1)))"
   ]
  },
  {
   "cell_type": "code",
   "execution_count": 59,
   "metadata": {},
   "outputs": [
    {
     "data": {
      "image/png": "[encoded data removed]",
      "text/plain": [
       "<matplotlib.figure.Figure at 0x1621123c8>"
      ]
     },
     "metadata": {
      "needs_background": "light"
     },
     "output_type": "display_data"
    }
   ],
   "source": [
    "dis = pd.DataFrame(\n",
    "    {\n",
    "        'Tipo': ['Plano', 'Link', 'Foto', 'Video'],\n",
    "        '% Tweets': [\n",
    "            round(100*(len(pt)/tot_tws_ca),1),\n",
    "            round(100*(len(lt)/tot_tws_ca),1),\n",
    "            round(100*(len(pht)/tot_tws_ca),1),\n",
    "            round(100*(len(vt)/tot_tws_ca),1)\n",
    "        ]\n",
    "    }\n",
    ")\n",
    "fig = sns.barplot(x='Tipo', y='% Tweets', data=dis, order=['Plano', 'Foto', 'Link', 'Video'])\n",
    "ax=fig\n",
    "#annotate axis = seaborn axis\n",
    "for p in ax.patches:\n",
    "    ax.annotate(\"{0}%\".format(p.get_height()), (p.get_x() + p.get_width() / 2., p.get_height()),\n",
    "                 ha='center', va='center', fontsize=12, color='black', xytext=(0, 10),\n",
    "                 textcoords='offset points')\n",
    "_ = fig.set_ylim(0,100) #To make space for the annotations\n",
    "plt.show()"
   ]
  },
  {
   "cell_type": "markdown",
   "metadata": {},
   "source": [
    "## Hashtags más populares"
   ]
  },
  {
   "cell_type": "markdown",
   "metadata": {},
   "source": [
    "Lista de hashtag más comunes utilizados en tweets relacionados a los movimientos Honor Colorado y Colorado Añeteté."
   ]
  },
  {
   "cell_type": "markdown",
   "metadata": {},
   "source": [
    "### Top-5 hashtags relacionado a Honor Colorado"
   ]
  },
  {
   "cell_type": "code",
   "execution_count": 53,
   "metadata": {},
   "outputs": [
    {
     "data": {
      "text/html": [
       "<div>\n",
       "<style scoped>\n",
       "    .dataframe tbody tr th:only-of-type {\n",
       "        vertical-align: middle;\n",
       "    }\n",
       "\n",
       "    .dataframe tbody tr th {\n",
       "        vertical-align: top;\n",
       "    }\n",
       "\n",
       "    .dataframe thead th {\n",
       "        text-align: right;\n",
       "    }\n",
       "</style>\n",
       "<table border=\"1\" class=\"dataframe\">\n",
       "  <thead>\n",
       "    <tr style=\"text-align: right;\">\n",
       "      <th></th>\n",
       "      <th>1. Hashtag</th>\n",
       "      <th>2. Cantidad de Tweets</th>\n",
       "    </tr>\n",
       "  </thead>\n",
       "  <tbody>\n",
       "    <tr>\n",
       "      <th>0</th>\n",
       "      <td>#Lista2</td>\n",
       "      <td>3184</td>\n",
       "    </tr>\n",
       "    <tr>\n",
       "      <th>1</th>\n",
       "      <td>#SantiPresidente</td>\n",
       "      <td>3167</td>\n",
       "    </tr>\n",
       "    <tr>\n",
       "      <th>2</th>\n",
       "      <td>#SigamosConversando</td>\n",
       "      <td>1294</td>\n",
       "    </tr>\n",
       "    <tr>\n",
       "      <th>3</th>\n",
       "      <td>#HonorColorado</td>\n",
       "      <td>979</td>\n",
       "    </tr>\n",
       "    <tr>\n",
       "      <th>4</th>\n",
       "      <td>#ParaguayElige</td>\n",
       "      <td>759</td>\n",
       "    </tr>\n",
       "  </tbody>\n",
       "</table>\n",
       "</div>"
      ],
      "text/plain": [
       "            1. Hashtag  2. Cantidad de Tweets\n",
       "0              #Lista2                   3184\n",
       "1     #SantiPresidente                   3167\n",
       "2  #SigamosConversando                   1294\n",
       "3       #HonorColorado                    979\n",
       "4       #ParaguayElige                    759"
      ]
     },
     "execution_count": 53,
     "metadata": {},
     "output_type": "execute_result"
    }
   ],
   "source": [
    "additional_args = {'include_candidate':False, 'candidate_handler':'SantiPenap'}\n",
    "hashtags_hc = db.get_hashtags_by_movement('honor colorado', **additional_args)\n",
    "hashtags_populares_hc = []\n",
    "sum_total = 0\n",
    "for i in range(5):\n",
    "    hashtag = hashtags_hc[i]\n",
    "    sum_total += hashtag['count']\n",
    "    hashtag_dict = {'1. Hashtag': '#' + hashtag['hashtag'], '2. Cantidad de Tweets': hashtag['count']}\n",
    "    hashtags_populares_hc.append(hashtag_dict)\n",
    "pd.DataFrame(hashtags_populares_hc)"
   ]
  },
  {
   "cell_type": "markdown",
   "metadata": {},
   "source": [
    "### Top-5 hashtags relacionados a Colorado Añeteté"
   ]
  },
  {
   "cell_type": "code",
   "execution_count": 54,
   "metadata": {},
   "outputs": [
    {
     "data": {
      "text/html": [
       "<div>\n",
       "<style scoped>\n",
       "    .dataframe tbody tr th:only-of-type {\n",
       "        vertical-align: middle;\n",
       "    }\n",
       "\n",
       "    .dataframe tbody tr th {\n",
       "        vertical-align: top;\n",
       "    }\n",
       "\n",
       "    .dataframe thead th {\n",
       "        text-align: right;\n",
       "    }\n",
       "</style>\n",
       "<table border=\"1\" class=\"dataframe\">\n",
       "  <thead>\n",
       "    <tr style=\"text-align: right;\">\n",
       "      <th></th>\n",
       "      <th>1. Hashtag</th>\n",
       "      <th>2. Cantidad de Tweets</th>\n",
       "    </tr>\n",
       "  </thead>\n",
       "  <tbody>\n",
       "    <tr>\n",
       "      <th>0</th>\n",
       "      <td>#ParaguayDeLaGente</td>\n",
       "      <td>8421</td>\n",
       "    </tr>\n",
       "    <tr>\n",
       "      <th>1</th>\n",
       "      <td>#MaritoImparable</td>\n",
       "      <td>1404</td>\n",
       "    </tr>\n",
       "    <tr>\n",
       "      <th>2</th>\n",
       "      <td>#MaritoDeLaGente</td>\n",
       "      <td>1402</td>\n",
       "    </tr>\n",
       "    <tr>\n",
       "      <th>3</th>\n",
       "      <td>#ParaguayElige</td>\n",
       "      <td>645</td>\n",
       "    </tr>\n",
       "    <tr>\n",
       "      <th>4</th>\n",
       "      <td>#MaritoPresidente</td>\n",
       "      <td>560</td>\n",
       "    </tr>\n",
       "  </tbody>\n",
       "</table>\n",
       "</div>"
      ],
      "text/plain": [
       "           1. Hashtag  2. Cantidad de Tweets\n",
       "0  #ParaguayDeLaGente                   8421\n",
       "1    #MaritoImparable                   1404\n",
       "2    #MaritoDeLaGente                   1402\n",
       "3      #ParaguayElige                    645\n",
       "4   #MaritoPresidente                    560"
      ]
     },
     "execution_count": 54,
     "metadata": {},
     "output_type": "execute_result"
    }
   ],
   "source": [
    "additional_args = {'include_candidate':False, 'candidate_handler':'MaritoAbdo'}\n",
    "hashtags_ca = db.get_hashtags_by_movement('colorado añetete', **additional_args)\n",
    "hashtags_populares_ca = []\n",
    "for i in range(5):\n",
    "    hashtag = hashtags_ca[i]\n",
    "    hashtag_dict = {'1. Hashtag': '#' + hashtag['hashtag'], '2. Cantidad de Tweets': hashtag['count']}\n",
    "    hashtags_populares_ca.append(hashtag_dict)\n",
    "pd.DataFrame(hashtags_populares_ca)"
   ]
  },
  {
   "cell_type": "markdown",
   "metadata": {},
   "source": [
    "## Red de interacciones entre perfiles"
   ]
  },
  {
   "cell_type": "markdown",
   "metadata": {},
   "source": [
    "Como parte del estudio realizamos un análisis sobre la red de perfiles que publicaron tweets utilizando hashtags relacionados a la interna del partido colorado. El análisis lo centramos en las interacciones entre los perfiles, no en las relaciones entre ellos (seguidores, seguidos). Consideramos que A tuvo una interacción con B si i) publicó un tweet mencionando a B; ii) retuiteo un tweet publicado por B; iii) citó (quote) un tweet publicado por B; iv) respondió un tweet publicado por B.\n",
    "\n",
    "Al generar la **red de interacciones** encontramos que de la misma forman parte **23.710 perfiles** que se comunicaron entre si 84.996 veces en el período de Noviembre a Enero 2018, el promedio de interacciones de un perfil en la red es 3,58. La cantidad de perfiles en la red supera en 465 el total de perfiles relacionados a la ANR. Esto se debe principalmente a que la red también incluye perfiles vinculados a otros partidos que realizaron interacciones con los de la ANR.\n",
    "\n",
    "El perfil `CESARSANCHEZ553` fue el que más interacciones generó (463), seguido por `CesarSanchez636` (378), y `Norabeli` (354), todos vinculados principalmente al movimiento `Honor Colorado`. `Santula` (4.661), `MaritoAbdo` (4.636), y `SantiPenap` (4.532) fueron los perfiles que más interacciones recibieron, esto es menciones, retweets, replies, quotes. Es interesante notar el rol tan preponderante del periodista Santiago González (Santula). En el último mes de campaña Santula atrajo inclusive más interacciones que los mismos candidatos a la presidencia."
   ]
  },
  {
   "cell_type": "markdown",
   "metadata": {},
   "source": [
    "![Red Interacciones](../../sna/img/internas-anr-red.png)"
   ]
  },
  {
   "cell_type": "markdown",
   "metadata": {},
   "source": [
    "El gráfico muestra la parte más significativa de la red de interacciones. Los perfiles son ilustrados por medio de círculos, los cuales toman principalmente dos colores. Los circulos `rojo claro` represetan perfiles cuyas interacciones contenian mayoritariamente hashtags o menciones asociadas al movimiento **`Honor Colorado`**. El `rojo oscuro` se utiliza para respresentar perfiles que principalmente participaron de comunicaciones donde se utilizaron hashtags o menciones vinculadas a la campaña del movimiento **`Colorado Añeteté`**. Existen círculo de otros colores como azul, naranja, o verde utilizados para representar otros movimientos de la ANR como el progresista colorado pero estos son irrelevantes dentro de la red.\n",
    "\n",
    "El **tamaño de los círculos** es proporcional al número de interacciones del perfil. Así perfiles que representados por círculos grandes (p. ej., MaritoAbdo, Horacio_Cartes, SantiPenap) son muy relevantes dentro de la red por la gran cantidad de interacciones en las que se vieron envueltos. Además de tamaño y color, los círculos se encuentran etiquetados con el nombre de perfil. El tamaño de la etiqueta es proporcional al tamaño del círculo, así perfiles importantes, con muchas interacciones, tienen asociados etiquetas más grandes.\n",
    "\n",
    "Como era de esperarse la red está dominada por perfiles que utilizaron en sus interacciones hashtags vinculados al movimiento **`Honor Colorado`**. Vimos anteriormente que estos son mayoría en el conjunto de datos. Los perfiles del movimiento **`Colorado Añeteté`** se encuentran principalmente en un sector acotado de la red y muy cercanos al perfil del candidato de este movimiento. Otra característica esperable de la red es la influencia de los perfiles de los candidatos a presidente, **Mario Abdo (`MaritoAbdo`)** y **Santiago Peña (`SantiPenap`)**. Es de notar también la importancia en la red del líder del movimiento **`Honor Colorado`**, **Horacio Cartes (`Horacio_Cartes`)**, demostrando que se vió involucrado --- esto es, menciones, retweets, replies, etc --- en gran parte de las interacciones, especialmente en las de su movimiento.\n",
    "\n",
    "Un aspecto sorpresivo y a destacar es la importancia en la red de los periodistas **Santiago González (`Santula`)** y **Luis Bareiro (`LuisBareiro`)**. Por el color de los círculos utilizados para representar su perfiles podemos notar que principalmente los mismo se vieron involucrados en interacciones que mayoritariamente incluían hashtags menciones a los perfiles de los candidatos del movimiento oficialista **`Honor Colorado`**. Considerando la posición crítica de estos periodistas hacia el gobierno, es difícil imaginar que los mismos hayan utilizado twitter para promocionar las candidaturas de este movimiento, es más probable, sin embargo, que González y Bareiro se hayan visto involucrados en discusiones con seguidores de HC a raiz de comentarios críticos hacia el gobierno, el candidato a presidente, o el grupo político ligado a **`Honor Colorado`**. Profundizaremos en este aspecto más adelante."
   ]
  },
  {
   "cell_type": "markdown",
   "metadata": {},
   "source": [
    "### Honor Colorado"
   ]
  },
  {
   "cell_type": "markdown",
   "metadata": {},
   "source": [
    "La red de interacciones del movimiento **`Honor Colorado`** está compuesta por **15.809 perfiles** (66.68% del total) que realizaron 47.436 interacciones (56% del total). En promedio, los perfiles de la red de **`Honor Colorado`** realizan 3 interacciones. `SantiPenap` (4.122), `Santula` (3.490), y `Horacio_Cartes` (3.173) son los tres perfiles que más interacciones recibieron. Lo de Peña y Cartes es entendible, lo de `Santula` es llamativo. Conociendo su postura crítica al candidato oficialista y al gobierno es de suponer que las interacciones no deberieron ser muy positivas. En una misma situación se encuentra Luis Bareiro (`LuisBareiro`), que después del perfil del presidente de la república, es el que más interacciones recibió (2.543).\n",
    "\n",
    "También es notorio la importancia en la red de perfiles muy críticos al gobierno como el de la Senadora Desireè Masi (`desimasi2`), quién en este período recibió 877 interacciones (menciones, respuestas, citaciones, retweets). También se destaca el perfil del canal de televisión Telefuturo (`TelefuturoInfo`), quién recibió más de 1.000 interacciones de cuentas vinculas al movimiento oficialista. Cabe destacar que la línea editorial del canal Telefuturo fue una de las más críticas al gobierno durante la crisis de la enmienda. El perfil de la radio ABC Cardinal (`ABCCardinal`) y del periodística de esta radio Javier Sánchez (`JavierSanchezPy`) se destacan también como relevantes dentro de la red del movimiento **`Honor Colorado`**."
   ]
  },
  {
   "cell_type": "markdown",
   "metadata": {},
   "source": [
    "![Red Interacciones](../../sna/img/internas-anr-hc-red.png)"
   ]
  },
  {
   "cell_type": "markdown",
   "metadata": {},
   "source": [
    "## Colorado Añeteté"
   ]
  },
  {
   "cell_type": "markdown",
   "metadata": {},
   "source": [
    "Aproximadamente 33% del total de perfiles (**7.629**) de la red de interacciones de la ANR está compuesta por cuenta relacionadas al movimiento **`Colorado Añeteté`**. Estos perfiles interactuaron 14.333 veces durante el último mes de campaña y los primeros días de Enero de 2018. En promedio los perfiles realizaron 1.87 interacciones. Como era de esperarse y se puede notar en la gráfica, la red de **`Colorado Añeteté`** está fuertemente centrada en la figura del candidato a presidente Mario Abdo (`MaritoAbdo`). Esto lo confirman las casi 3.500 interacciones que recibió.\n",
    "\n",
    "Aunque muy por debajo de Abdo, otros perfiles en la red de **`Colorado Añeteté`** que recibieron una importante cantidad de interacciones son `JuanAfara` (485), `enriquevp` (450), y `minaftv` (324). `Paraguaynosune` es el perfil que más interacciones generó (167) seguido de `Solmega` (92) y `Beatriz20D` (75)."
   ]
  },
  {
   "cell_type": "markdown",
   "metadata": {},
   "source": [
    "![Red Interacciones](../../sna/img/internas-anr-ca-red.png)"
   ]
  },
  {
   "cell_type": "markdown",
   "metadata": {},
   "source": [
    "## Interacciones alrededor de perfiles relevantes"
   ]
  },
  {
   "cell_type": "markdown",
   "metadata": {},
   "source": [
    "Aquí analizaremos las interacciones alrededor de perfiles relevantes en la red pero no directamente vinculados a la campaña electoral de las internas de la ANR, p.ej., `Santula`, `LuisBareiro`, `enriquevp`, `desimasi2`."
   ]
  },
  {
   "cell_type": "markdown",
   "metadata": {},
   "source": [
    "### Santiago González (Santula)"
   ]
  },
  {
   "cell_type": "code",
   "execution_count": 13,
   "metadata": {
    "collapsed": true
   },
   "outputs": [],
   "source": [
    "na = NetworkAnalyzer()\n",
    "inter_santula = na.get_interactions('Santula')"
   ]
  },
  {
   "cell_type": "markdown",
   "metadata": {},
   "source": [
    "#### Interacciones generadas"
   ]
  },
  {
   "cell_type": "markdown",
   "metadata": {},
   "source": [
    "Las interacciones generadas son todas aquellas publicaciones realizadas por el usuario. Esto comprende los tweets originales, los retweets, las respuestas a tweets, y las citaciones"
   ]
  },
  {
   "cell_type": "code",
   "execution_count": 17,
   "metadata": {},
   "outputs": [
    {
     "name": "stdout",
     "output_type": "stream",
     "text": [
      "145 tweets; 24 retweets, 6 respuestas, 111 menciones, y 4 citaciones\n"
     ]
    }
   ],
   "source": [
    "print('{0} tweets; {1} retweets, {2} respuestas, {3} menciones, y {4} citaciones'. \\\n",
    "      format(inter_santula['out_interactions']['total']['count'], \\\n",
    "             inter_santula['out_interactions']['retweets']['count'], \\\n",
    "             inter_santula['out_interactions']['replies']['count'], \\\n",
    "             inter_santula['out_interactions']['mentions']['count'], \\\n",
    "             inter_santula['out_interactions']['quotes']['count']))"
   ]
  },
  {
   "cell_type": "markdown",
   "metadata": {},
   "source": [
    "##### Perfiles más retuiteados"
   ]
  },
  {
   "cell_type": "code",
   "execution_count": 21,
   "metadata": {},
   "outputs": [
    {
     "data": {
      "text/html": [
       "<div>\n",
       "<style scoped>\n",
       "    .dataframe tbody tr th:only-of-type {\n",
       "        vertical-align: middle;\n",
       "    }\n",
       "\n",
       "    .dataframe tbody tr th {\n",
       "        vertical-align: top;\n",
       "    }\n",
       "\n",
       "    .dataframe thead th {\n",
       "        text-align: right;\n",
       "    }\n",
       "</style>\n",
       "<table border=\"1\" class=\"dataframe\">\n",
       "  <thead>\n",
       "    <tr style=\"text-align: right;\">\n",
       "      <th></th>\n",
       "      <th>1.Perfil</th>\n",
       "      <th>2.Total retweets</th>\n",
       "    </tr>\n",
       "  </thead>\n",
       "  <tbody>\n",
       "    <tr>\n",
       "      <th>0</th>\n",
       "      <td>algoandamalpy</td>\n",
       "      <td>12</td>\n",
       "    </tr>\n",
       "    <tr>\n",
       "      <th>1</th>\n",
       "      <td>TelefuturoInfo</td>\n",
       "      <td>3</td>\n",
       "    </tr>\n",
       "    <tr>\n",
       "      <th>2</th>\n",
       "      <td>juankilezcano</td>\n",
       "      <td>3</td>\n",
       "    </tr>\n",
       "    <tr>\n",
       "      <th>3</th>\n",
       "      <td>minaftv</td>\n",
       "      <td>2</td>\n",
       "    </tr>\n",
       "    <tr>\n",
       "      <th>4</th>\n",
       "      <td>Santula</td>\n",
       "      <td>1</td>\n",
       "    </tr>\n",
       "  </tbody>\n",
       "</table>\n",
       "</div>"
      ],
      "text/plain": [
       "         1.Perfil  2.Total retweets\n",
       "0   algoandamalpy                12\n",
       "1  TelefuturoInfo                 3\n",
       "2   juankilezcano                 3\n",
       "3         minaftv                 2\n",
       "4         Santula                 1"
      ]
     },
     "execution_count": 21,
     "metadata": {},
     "output_type": "execute_result"
    }
   ],
   "source": [
    "top_rts = []\n",
    "out_inter_santula = inter_santula['out_interactions']['retweets']['details']\n",
    "max_iter = 5 if len(out_inter_santula) > 5 else len(out_inter_santula)\n",
    "for i in range(max_iter):\n",
    "    contacto = {'1.Perfil': out_inter_santula[i][0], \n",
    "                '2.Total retweets': out_inter_santula[i][1]\n",
    "               }\n",
    "    top_rts.append(contacto)\n",
    "pd.DataFrame(top_rts)"
   ]
  },
  {
   "cell_type": "markdown",
   "metadata": {},
   "source": [
    "##### Perfiles más mencionados"
   ]
  },
  {
   "cell_type": "code",
   "execution_count": 22,
   "metadata": {},
   "outputs": [
    {
     "data": {
      "text/html": [
       "<div>\n",
       "<style scoped>\n",
       "    .dataframe tbody tr th:only-of-type {\n",
       "        vertical-align: middle;\n",
       "    }\n",
       "\n",
       "    .dataframe tbody tr th {\n",
       "        vertical-align: top;\n",
       "    }\n",
       "\n",
       "    .dataframe thead th {\n",
       "        text-align: right;\n",
       "    }\n",
       "</style>\n",
       "<table border=\"1\" class=\"dataframe\">\n",
       "  <thead>\n",
       "    <tr style=\"text-align: right;\">\n",
       "      <th></th>\n",
       "      <th>1.Perfil</th>\n",
       "      <th>2.Total menciones</th>\n",
       "    </tr>\n",
       "  </thead>\n",
       "  <tbody>\n",
       "    <tr>\n",
       "      <th>0</th>\n",
       "      <td>Telefuturo</td>\n",
       "      <td>38</td>\n",
       "    </tr>\n",
       "    <tr>\n",
       "      <th>1</th>\n",
       "      <td>MaritoAbdo</td>\n",
       "      <td>28</td>\n",
       "    </tr>\n",
       "    <tr>\n",
       "      <th>2</th>\n",
       "      <td>SantiPenap</td>\n",
       "      <td>24</td>\n",
       "    </tr>\n",
       "    <tr>\n",
       "      <th>3</th>\n",
       "      <td>EfrainAlegre</td>\n",
       "      <td>13</td>\n",
       "    </tr>\n",
       "    <tr>\n",
       "      <th>4</th>\n",
       "      <td>nanduti</td>\n",
       "      <td>2</td>\n",
       "    </tr>\n",
       "  </tbody>\n",
       "</table>\n",
       "</div>"
      ],
      "text/plain": [
       "       1.Perfil  2.Total menciones\n",
       "0    Telefuturo                 38\n",
       "1    MaritoAbdo                 28\n",
       "2    SantiPenap                 24\n",
       "3  EfrainAlegre                 13\n",
       "4       nanduti                  2"
      ]
     },
     "execution_count": 22,
     "metadata": {},
     "output_type": "execute_result"
    }
   ],
   "source": [
    "top_mts = []\n",
    "out_inter_santula = inter_santula['out_interactions']['mentions']['details']\n",
    "max_iter = 5 if len(out_inter_santula) > 5 else len(out_inter_santula)\n",
    "for i in range(max_iter):\n",
    "    contacto = {'1.Perfil': out_inter_santula[i][0], \n",
    "                '2.Total menciones': out_inter_santula[i][1]\n",
    "               }\n",
    "    top_mts.append(contacto)\n",
    "pd.DataFrame(top_mts)"
   ]
  },
  {
   "cell_type": "markdown",
   "metadata": {},
   "source": [
    "##### Perfiles más citados"
   ]
  },
  {
   "cell_type": "code",
   "execution_count": 23,
   "metadata": {},
   "outputs": [
    {
     "data": {
      "text/html": [
       "<div>\n",
       "<style scoped>\n",
       "    .dataframe tbody tr th:only-of-type {\n",
       "        vertical-align: middle;\n",
       "    }\n",
       "\n",
       "    .dataframe tbody tr th {\n",
       "        vertical-align: top;\n",
       "    }\n",
       "\n",
       "    .dataframe thead th {\n",
       "        text-align: right;\n",
       "    }\n",
       "</style>\n",
       "<table border=\"1\" class=\"dataframe\">\n",
       "  <thead>\n",
       "    <tr style=\"text-align: right;\">\n",
       "      <th></th>\n",
       "      <th>1.Perfil</th>\n",
       "      <th>2.Total citas</th>\n",
       "    </tr>\n",
       "  </thead>\n",
       "  <tbody>\n",
       "    <tr>\n",
       "      <th>0</th>\n",
       "      <td>MoWet2015</td>\n",
       "      <td>1</td>\n",
       "    </tr>\n",
       "    <tr>\n",
       "      <th>1</th>\n",
       "      <td>UltimaHoracom</td>\n",
       "      <td>1</td>\n",
       "    </tr>\n",
       "    <tr>\n",
       "      <th>2</th>\n",
       "      <td>algoandamalpy</td>\n",
       "      <td>1</td>\n",
       "    </tr>\n",
       "    <tr>\n",
       "      <th>3</th>\n",
       "      <td>MaritoAbdo</td>\n",
       "      <td>1</td>\n",
       "    </tr>\n",
       "  </tbody>\n",
       "</table>\n",
       "</div>"
      ],
      "text/plain": [
       "        1.Perfil  2.Total citas\n",
       "0      MoWet2015              1\n",
       "1  UltimaHoracom              1\n",
       "2  algoandamalpy              1\n",
       "3     MaritoAbdo              1"
      ]
     },
     "execution_count": 23,
     "metadata": {},
     "output_type": "execute_result"
    }
   ],
   "source": [
    "top_qts = []\n",
    "out_inter_santula = inter_santula['out_interactions']['quotes']['details']\n",
    "max_iter = 5 if len(out_inter_santula) > 5 else len(out_inter_santula)\n",
    "for i in range(max_iter):\n",
    "    contacto = {'1.Perfil': out_inter_santula[i][0], \n",
    "                '2.Total citas': out_inter_santula[i][1]\n",
    "               }\n",
    "    top_qts.append(contacto)\n",
    "pd.DataFrame(top_qts)"
   ]
  },
  {
   "cell_type": "markdown",
   "metadata": {},
   "source": [
    "##### Perfiles a quiénes más respondió"
   ]
  },
  {
   "cell_type": "code",
   "execution_count": 25,
   "metadata": {},
   "outputs": [
    {
     "data": {
      "text/html": [
       "<div>\n",
       "<style scoped>\n",
       "    .dataframe tbody tr th:only-of-type {\n",
       "        vertical-align: middle;\n",
       "    }\n",
       "\n",
       "    .dataframe tbody tr th {\n",
       "        vertical-align: top;\n",
       "    }\n",
       "\n",
       "    .dataframe thead th {\n",
       "        text-align: right;\n",
       "    }\n",
       "</style>\n",
       "<table border=\"1\" class=\"dataframe\">\n",
       "  <thead>\n",
       "    <tr style=\"text-align: right;\">\n",
       "      <th></th>\n",
       "      <th>1.Perfil</th>\n",
       "      <th>2.Total respuestas</th>\n",
       "    </tr>\n",
       "  </thead>\n",
       "  <tbody>\n",
       "    <tr>\n",
       "      <th>0</th>\n",
       "      <td>josemfer</td>\n",
       "      <td>3</td>\n",
       "    </tr>\n",
       "    <tr>\n",
       "      <th>1</th>\n",
       "      <td>PolemicaPy</td>\n",
       "      <td>1</td>\n",
       "    </tr>\n",
       "    <tr>\n",
       "      <th>2</th>\n",
       "      <td>MariaGodoyMora1</td>\n",
       "      <td>1</td>\n",
       "    </tr>\n",
       "    <tr>\n",
       "      <th>3</th>\n",
       "      <td>majozpires</td>\n",
       "      <td>1</td>\n",
       "    </tr>\n",
       "  </tbody>\n",
       "</table>\n",
       "</div>"
      ],
      "text/plain": [
       "          1.Perfil  2.Total respuestas\n",
       "0         josemfer                   3\n",
       "1       PolemicaPy                   1\n",
       "2  MariaGodoyMora1                   1\n",
       "3       majozpires                   1"
      ]
     },
     "execution_count": 25,
     "metadata": {},
     "output_type": "execute_result"
    }
   ],
   "source": [
    "top_rps = []\n",
    "out_inter_santula = inter_santula['out_interactions']['replies']['details']\n",
    "max_iter = 5 if len(out_inter_santula) > 5 else len(out_inter_santula)\n",
    "for i in range(max_iter):\n",
    "    contacto = {'1.Perfil': out_inter_santula[i][0], \n",
    "                '2.Total respuestas': out_inter_santula[i][1]\n",
    "               }\n",
    "    top_rps.append(contacto)\n",
    "pd.DataFrame(top_rps)"
   ]
  },
  {
   "cell_type": "markdown",
   "metadata": {},
   "source": [
    "Lo más resaltante de las interacciones de `@Santula` es que durante el período de muestreo un importante número de sus publicaciones se centraron en tweets que mencionaron a los principales pre-candidatos a la presidencia de la república, `Mario Abdo Benítez`, `Santiago Peña`, y `Efrain Alegre`."
   ]
  },
  {
   "cell_type": "markdown",
   "metadata": {},
   "source": [
    "#### Interacciones recibidas"
   ]
  },
  {
   "cell_type": "markdown",
   "metadata": {},
   "source": [
    "Las interacciones recibidas corresponde a todos aquellos tweets donde se menciona al usuario, se cita al usuario, se retuitea o responde a una publicación del usuario."
   ]
  },
  {
   "cell_type": "code",
   "execution_count": 26,
   "metadata": {},
   "outputs": [
    {
     "name": "stdout",
     "output_type": "stream",
     "text": [
      "7743 tweets; 6000 retweets, 1563 respuestas, 118 menciones, y 62 citaciones\n"
     ]
    }
   ],
   "source": [
    "print('{0} tweets; {1} retweets, {2} respuestas, {3} menciones, y {4} citaciones'. \\\n",
    "      format(inter_santula['in_interactions']['total']['count'], \\\n",
    "             inter_santula['in_interactions']['retweets']['count'], \\\n",
    "             inter_santula['in_interactions']['replies']['count'], \\\n",
    "             inter_santula['in_interactions']['mentions']['count'], \\\n",
    "             inter_santula['in_interactions']['quotes']['count']))"
   ]
  },
  {
   "cell_type": "markdown",
   "metadata": {},
   "source": [
    "##### Perfiles que más retuiteron sus publicaciones"
   ]
  },
  {
   "cell_type": "code",
   "execution_count": 27,
   "metadata": {},
   "outputs": [
    {
     "data": {
      "text/html": [
       "<div>\n",
       "<style scoped>\n",
       "    .dataframe tbody tr th:only-of-type {\n",
       "        vertical-align: middle;\n",
       "    }\n",
       "\n",
       "    .dataframe tbody tr th {\n",
       "        vertical-align: top;\n",
       "    }\n",
       "\n",
       "    .dataframe thead th {\n",
       "        text-align: right;\n",
       "    }\n",
       "</style>\n",
       "<table border=\"1\" class=\"dataframe\">\n",
       "  <thead>\n",
       "    <tr style=\"text-align: right;\">\n",
       "      <th></th>\n",
       "      <th>1.Perfil</th>\n",
       "      <th>2.Total retweets</th>\n",
       "    </tr>\n",
       "  </thead>\n",
       "  <tbody>\n",
       "    <tr>\n",
       "      <th>0</th>\n",
       "      <td>ChristianDoldan</td>\n",
       "      <td>32</td>\n",
       "    </tr>\n",
       "    <tr>\n",
       "      <th>1</th>\n",
       "      <td>Norabeli</td>\n",
       "      <td>14</td>\n",
       "    </tr>\n",
       "    <tr>\n",
       "      <th>2</th>\n",
       "      <td>Beatriz20D</td>\n",
       "      <td>14</td>\n",
       "    </tr>\n",
       "    <tr>\n",
       "      <th>3</th>\n",
       "      <td>christianchena</td>\n",
       "      <td>14</td>\n",
       "    </tr>\n",
       "    <tr>\n",
       "      <th>4</th>\n",
       "      <td>Ever_Caceres</td>\n",
       "      <td>13</td>\n",
       "    </tr>\n",
       "  </tbody>\n",
       "</table>\n",
       "</div>"
      ],
      "text/plain": [
       "          1.Perfil  2.Total retweets\n",
       "0  ChristianDoldan                32\n",
       "1         Norabeli                14\n",
       "2       Beatriz20D                14\n",
       "3   christianchena                14\n",
       "4     Ever_Caceres                13"
      ]
     },
     "execution_count": 27,
     "metadata": {},
     "output_type": "execute_result"
    }
   ],
   "source": [
    "top_rts = []\n",
    "in_inter_santula = inter_santula['in_interactions']['retweets']['details']\n",
    "max_iter = 5 if len(in_inter_santula) > 5 else len(in_inter_santula)\n",
    "for i in range(max_iter):\n",
    "    contacto = {'1.Perfil': in_inter_santula[i][0], \n",
    "                '2.Total retweets': in_inter_santula[i][1]\n",
    "               }\n",
    "    top_rts.append(contacto)\n",
    "pd.DataFrame(top_rts)"
   ]
  },
  {
   "cell_type": "markdown",
   "metadata": {},
   "source": [
    "##### Perfiles que más respondieron a sus publicaciones"
   ]
  },
  {
   "cell_type": "code",
   "execution_count": 28,
   "metadata": {},
   "outputs": [
    {
     "data": {
      "text/html": [
       "<div>\n",
       "<style scoped>\n",
       "    .dataframe tbody tr th:only-of-type {\n",
       "        vertical-align: middle;\n",
       "    }\n",
       "\n",
       "    .dataframe tbody tr th {\n",
       "        vertical-align: top;\n",
       "    }\n",
       "\n",
       "    .dataframe thead th {\n",
       "        text-align: right;\n",
       "    }\n",
       "</style>\n",
       "<table border=\"1\" class=\"dataframe\">\n",
       "  <thead>\n",
       "    <tr style=\"text-align: right;\">\n",
       "      <th></th>\n",
       "      <th>1.Perfil</th>\n",
       "      <th>2.Total respuestas</th>\n",
       "    </tr>\n",
       "  </thead>\n",
       "  <tbody>\n",
       "    <tr>\n",
       "      <th>0</th>\n",
       "      <td>SemideiOmar</td>\n",
       "      <td>10</td>\n",
       "    </tr>\n",
       "    <tr>\n",
       "      <th>1</th>\n",
       "      <td>FarinaLfa</td>\n",
       "      <td>9</td>\n",
       "    </tr>\n",
       "    <tr>\n",
       "      <th>2</th>\n",
       "      <td>MariaelenaSugat</td>\n",
       "      <td>9</td>\n",
       "    </tr>\n",
       "    <tr>\n",
       "      <th>3</th>\n",
       "      <td>SantacruzFISA</td>\n",
       "      <td>8</td>\n",
       "    </tr>\n",
       "    <tr>\n",
       "      <th>4</th>\n",
       "      <td>RaulOjedaCano2</td>\n",
       "      <td>8</td>\n",
       "    </tr>\n",
       "  </tbody>\n",
       "</table>\n",
       "</div>"
      ],
      "text/plain": [
       "          1.Perfil  2.Total respuestas\n",
       "0      SemideiOmar                  10\n",
       "1        FarinaLfa                   9\n",
       "2  MariaelenaSugat                   9\n",
       "3    SantacruzFISA                   8\n",
       "4   RaulOjedaCano2                   8"
      ]
     },
     "execution_count": 28,
     "metadata": {},
     "output_type": "execute_result"
    }
   ],
   "source": [
    "top_rps = []\n",
    "in_inter_santula = inter_santula['in_interactions']['replies']['details']\n",
    "max_iter = 5 if len(in_inter_santula) > 5 else len(in_inter_santula)\n",
    "for i in range(max_iter):\n",
    "    contacto = {'1.Perfil': in_inter_santula[i][0], \n",
    "                '2.Total respuestas': in_inter_santula[i][1]\n",
    "               }\n",
    "    top_rps.append(contacto)\n",
    "pd.DataFrame(top_rps)"
   ]
  },
  {
   "cell_type": "markdown",
   "metadata": {},
   "source": [
    "##### Perfiles que más mencionaron a Santula"
   ]
  },
  {
   "cell_type": "code",
   "execution_count": 29,
   "metadata": {},
   "outputs": [
    {
     "data": {
      "text/html": [
       "<div>\n",
       "<style scoped>\n",
       "    .dataframe tbody tr th:only-of-type {\n",
       "        vertical-align: middle;\n",
       "    }\n",
       "\n",
       "    .dataframe tbody tr th {\n",
       "        vertical-align: top;\n",
       "    }\n",
       "\n",
       "    .dataframe thead th {\n",
       "        text-align: right;\n",
       "    }\n",
       "</style>\n",
       "<table border=\"1\" class=\"dataframe\">\n",
       "  <thead>\n",
       "    <tr style=\"text-align: right;\">\n",
       "      <th></th>\n",
       "      <th>1.Perfil</th>\n",
       "      <th>2.Total menciones</th>\n",
       "    </tr>\n",
       "  </thead>\n",
       "  <tbody>\n",
       "    <tr>\n",
       "      <th>0</th>\n",
       "      <td>CarlosZ86636382</td>\n",
       "      <td>8</td>\n",
       "    </tr>\n",
       "    <tr>\n",
       "      <th>1</th>\n",
       "      <td>Juangpy</td>\n",
       "      <td>7</td>\n",
       "    </tr>\n",
       "    <tr>\n",
       "      <th>2</th>\n",
       "      <td>_kimberlyxc</td>\n",
       "      <td>5</td>\n",
       "    </tr>\n",
       "    <tr>\n",
       "      <th>3</th>\n",
       "      <td>ANIBALCSPDS</td>\n",
       "      <td>4</td>\n",
       "    </tr>\n",
       "    <tr>\n",
       "      <th>4</th>\n",
       "      <td>josanortiz88</td>\n",
       "      <td>4</td>\n",
       "    </tr>\n",
       "  </tbody>\n",
       "</table>\n",
       "</div>"
      ],
      "text/plain": [
       "          1.Perfil  2.Total menciones\n",
       "0  CarlosZ86636382                  8\n",
       "1          Juangpy                  7\n",
       "2      _kimberlyxc                  5\n",
       "3      ANIBALCSPDS                  4\n",
       "4     josanortiz88                  4"
      ]
     },
     "execution_count": 29,
     "metadata": {},
     "output_type": "execute_result"
    }
   ],
   "source": [
    "top_mts = []\n",
    "in_inter_santula = inter_santula['in_interactions']['mentions']['details']\n",
    "max_iter = 5 if len(in_inter_santula) > 5 else len(in_inter_santula)\n",
    "for i in range(max_iter):\n",
    "    contacto = {'1.Perfil': in_inter_santula[i][0], \n",
    "                '2.Total menciones': in_inter_santula[i][1]\n",
    "               }\n",
    "    top_mts.append(contacto)\n",
    "pd.DataFrame(top_mts)"
   ]
  },
  {
   "cell_type": "markdown",
   "metadata": {},
   "source": [
    "##### Perfiles que más citaron publicaciones de Santula"
   ]
  },
  {
   "cell_type": "code",
   "execution_count": 30,
   "metadata": {},
   "outputs": [
    {
     "data": {
      "text/html": [
       "<div>\n",
       "<style scoped>\n",
       "    .dataframe tbody tr th:only-of-type {\n",
       "        vertical-align: middle;\n",
       "    }\n",
       "\n",
       "    .dataframe tbody tr th {\n",
       "        vertical-align: top;\n",
       "    }\n",
       "\n",
       "    .dataframe thead th {\n",
       "        text-align: right;\n",
       "    }\n",
       "</style>\n",
       "<table border=\"1\" class=\"dataframe\">\n",
       "  <thead>\n",
       "    <tr style=\"text-align: right;\">\n",
       "      <th></th>\n",
       "      <th>1.Perfil</th>\n",
       "      <th>2.Total citaciones</th>\n",
       "    </tr>\n",
       "  </thead>\n",
       "  <tbody>\n",
       "    <tr>\n",
       "      <th>0</th>\n",
       "      <td>heriberto7502</td>\n",
       "      <td>5</td>\n",
       "    </tr>\n",
       "    <tr>\n",
       "      <th>1</th>\n",
       "      <td>jbenjaminb</td>\n",
       "      <td>2</td>\n",
       "    </tr>\n",
       "    <tr>\n",
       "      <th>2</th>\n",
       "      <td>narakopguare</td>\n",
       "      <td>2</td>\n",
       "    </tr>\n",
       "    <tr>\n",
       "      <th>3</th>\n",
       "      <td>hova_ata</td>\n",
       "      <td>2</td>\n",
       "    </tr>\n",
       "    <tr>\n",
       "      <th>4</th>\n",
       "      <td>cyzal</td>\n",
       "      <td>2</td>\n",
       "    </tr>\n",
       "  </tbody>\n",
       "</table>\n",
       "</div>"
      ],
      "text/plain": [
       "        1.Perfil  2.Total citaciones\n",
       "0  heriberto7502                   5\n",
       "1     jbenjaminb                   2\n",
       "2   narakopguare                   2\n",
       "3       hova_ata                   2\n",
       "4          cyzal                   2"
      ]
     },
     "execution_count": 30,
     "metadata": {},
     "output_type": "execute_result"
    }
   ],
   "source": [
    "top_qts = []\n",
    "in_inter_santula = inter_santula['in_interactions']['quotes']['details']\n",
    "max_iter = 5 if len(in_inter_santula) > 5 else len(in_inter_santula)\n",
    "for i in range(max_iter):\n",
    "    contacto = {'1.Perfil': in_inter_santula[i][0], \n",
    "                '2.Total citaciones': in_inter_santula[i][1]\n",
    "               }\n",
    "    top_qts.append(contacto)\n",
    "pd.DataFrame(top_qts)"
   ]
  },
  {
   "cell_type": "markdown",
   "metadata": {},
   "source": [
    "Casi el 80% (6000 de 7743) de las interacciones recibidas por `Santula` corresponde a retweets de sus publicaciones. Esto demuestra la relevancia de este perfil dentro de la red del movimiento `Honor Colorado`. Conociendo la postura crítica de `Santula` hacia las candidaturas de este movimiento se puede esperar que el contenido de estas publicaciones no hayan sido precisamente de promoción a los candidatos de HC.\n",
    "\n",
    "Otro aspecto a resaltar es la actividad del perfil `SemideiOmar`, quién respondió a casi el 10% de total de tweets (no retweets) de `Santula`. También existen perfiles con muchas menciones a `Santula` cuyos nombres no parecen ser reales, por ejemplo `CarlosZ86636382`."
   ]
  },
  {
   "cell_type": "markdown",
   "metadata": {},
   "source": [
    "### Luis Bareiro (LuisBareiro)"
   ]
  },
  {
   "cell_type": "code",
   "execution_count": 31,
   "metadata": {
    "collapsed": true
   },
   "outputs": [],
   "source": [
    "na = NetworkAnalyzer()\n",
    "inter_bareiro = na.get_interactions('LuisBareiro')"
   ]
  },
  {
   "cell_type": "markdown",
   "metadata": {},
   "source": [
    "#### Interacciones generadas"
   ]
  },
  {
   "cell_type": "code",
   "execution_count": 32,
   "metadata": {},
   "outputs": [
    {
     "name": "stdout",
     "output_type": "stream",
     "text": [
      "17 tweets; 6 retweets, 10 respuestas, 1 menciones, y 0 citaciones\n"
     ]
    }
   ],
   "source": [
    "print('{0} tweets; {1} retweets, {2} respuestas, {3} menciones, y {4} citaciones'. \\\n",
    "      format(inter_bareiro['out_interactions']['total']['count'], \\\n",
    "             inter_bareiro['out_interactions']['retweets']['count'], \\\n",
    "             inter_bareiro['out_interactions']['replies']['count'], \\\n",
    "             inter_bareiro['out_interactions']['mentions']['count'], \\\n",
    "             inter_bareiro['out_interactions']['quotes']['count']))"
   ]
  },
  {
   "cell_type": "markdown",
   "metadata": {},
   "source": [
    "##### Perfiles más retuiteados"
   ]
  },
  {
   "cell_type": "code",
   "execution_count": 33,
   "metadata": {},
   "outputs": [
    {
     "data": {
      "text/html": [
       "<div>\n",
       "<style scoped>\n",
       "    .dataframe tbody tr th:only-of-type {\n",
       "        vertical-align: middle;\n",
       "    }\n",
       "\n",
       "    .dataframe tbody tr th {\n",
       "        vertical-align: top;\n",
       "    }\n",
       "\n",
       "    .dataframe thead th {\n",
       "        text-align: right;\n",
       "    }\n",
       "</style>\n",
       "<table border=\"1\" class=\"dataframe\">\n",
       "  <thead>\n",
       "    <tr style=\"text-align: right;\">\n",
       "      <th></th>\n",
       "      <th>1.Perfil</th>\n",
       "      <th>2.Total retweets</th>\n",
       "    </tr>\n",
       "  </thead>\n",
       "  <tbody>\n",
       "    <tr>\n",
       "      <th>0</th>\n",
       "      <td>AM_1080</td>\n",
       "      <td>2</td>\n",
       "    </tr>\n",
       "    <tr>\n",
       "      <th>1</th>\n",
       "      <td>latelePy</td>\n",
       "      <td>2</td>\n",
       "    </tr>\n",
       "    <tr>\n",
       "      <th>2</th>\n",
       "      <td>Santula</td>\n",
       "      <td>1</td>\n",
       "    </tr>\n",
       "    <tr>\n",
       "      <th>3</th>\n",
       "      <td>Dii_villalba</td>\n",
       "      <td>1</td>\n",
       "    </tr>\n",
       "  </tbody>\n",
       "</table>\n",
       "</div>"
      ],
      "text/plain": [
       "       1.Perfil  2.Total retweets\n",
       "0       AM_1080                 2\n",
       "1      latelePy                 2\n",
       "2       Santula                 1\n",
       "3  Dii_villalba                 1"
      ]
     },
     "execution_count": 33,
     "metadata": {},
     "output_type": "execute_result"
    }
   ],
   "source": [
    "top_rts = []\n",
    "out_inter_bareiro = inter_bareiro['out_interactions']['retweets']['details']\n",
    "max_iter = 5 if len(out_inter_bareiro) > 5 else len(out_inter_bareiro)\n",
    "for i in range(max_iter):\n",
    "    contacto = {'1.Perfil': out_inter_bareiro[i][0], \n",
    "                '2.Total retweets': out_inter_bareiro[i][1]\n",
    "               }\n",
    "    top_rts.append(contacto)\n",
    "pd.DataFrame(top_rts)"
   ]
  },
  {
   "cell_type": "markdown",
   "metadata": {},
   "source": [
    "##### Perfiles a quiénes más respondió"
   ]
  },
  {
   "cell_type": "code",
   "execution_count": 34,
   "metadata": {},
   "outputs": [
    {
     "data": {
      "text/html": [
       "<div>\n",
       "<style scoped>\n",
       "    .dataframe tbody tr th:only-of-type {\n",
       "        vertical-align: middle;\n",
       "    }\n",
       "\n",
       "    .dataframe tbody tr th {\n",
       "        vertical-align: top;\n",
       "    }\n",
       "\n",
       "    .dataframe thead th {\n",
       "        text-align: right;\n",
       "    }\n",
       "</style>\n",
       "<table border=\"1\" class=\"dataframe\">\n",
       "  <thead>\n",
       "    <tr style=\"text-align: right;\">\n",
       "      <th></th>\n",
       "      <th>1.Perfil</th>\n",
       "      <th>2.Total respuestas</th>\n",
       "    </tr>\n",
       "  </thead>\n",
       "  <tbody>\n",
       "    <tr>\n",
       "      <th>0</th>\n",
       "      <td>DeaMaldonado</td>\n",
       "      <td>2</td>\n",
       "    </tr>\n",
       "    <tr>\n",
       "      <th>1</th>\n",
       "      <td>gabiotago</td>\n",
       "      <td>2</td>\n",
       "    </tr>\n",
       "    <tr>\n",
       "      <th>2</th>\n",
       "      <td>IsidroRicardoV4</td>\n",
       "      <td>1</td>\n",
       "    </tr>\n",
       "    <tr>\n",
       "      <th>3</th>\n",
       "      <td>jfrancovergara</td>\n",
       "      <td>1</td>\n",
       "    </tr>\n",
       "    <tr>\n",
       "      <th>4</th>\n",
       "      <td>vlamanchao</td>\n",
       "      <td>1</td>\n",
       "    </tr>\n",
       "  </tbody>\n",
       "</table>\n",
       "</div>"
      ],
      "text/plain": [
       "          1.Perfil  2.Total respuestas\n",
       "0     DeaMaldonado                   2\n",
       "1        gabiotago                   2\n",
       "2  IsidroRicardoV4                   1\n",
       "3   jfrancovergara                   1\n",
       "4       vlamanchao                   1"
      ]
     },
     "execution_count": 34,
     "metadata": {},
     "output_type": "execute_result"
    }
   ],
   "source": [
    "top_rps = []\n",
    "out_inter_bareiro = inter_bareiro['out_interactions']['replies']['details']\n",
    "max_iter = 5 if len(out_inter_bareiro) > 5 else len(out_inter_bareiro)\n",
    "for i in range(max_iter):\n",
    "    contacto = {'1.Perfil': out_inter_bareiro[i][0], \n",
    "                '2.Total respuestas': out_inter_bareiro[i][1]\n",
    "               }\n",
    "    top_rps.append(contacto)\n",
    "pd.DataFrame(top_rps)"
   ]
  },
  {
   "cell_type": "markdown",
   "metadata": {},
   "source": [
    "#### Interacciones recibidas"
   ]
  },
  {
   "cell_type": "code",
   "execution_count": 35,
   "metadata": {},
   "outputs": [
    {
     "name": "stdout",
     "output_type": "stream",
     "text": [
      "2938 tweets; 2680 retweets, 207 respuestas, 38 menciones, y 13 citaciones\n"
     ]
    }
   ],
   "source": [
    "print('{0} tweets; {1} retweets, {2} respuestas, {3} menciones, y {4} citaciones'. \\\n",
    "      format(inter_bareiro['in_interactions']['total']['count'], \\\n",
    "             inter_bareiro['in_interactions']['retweets']['count'], \\\n",
    "             inter_bareiro['in_interactions']['replies']['count'], \\\n",
    "             inter_bareiro['in_interactions']['mentions']['count'], \\\n",
    "             inter_bareiro['in_interactions']['quotes']['count']))"
   ]
  },
  {
   "cell_type": "markdown",
   "metadata": {},
   "source": [
    "##### Perfiles que más retuitearon sus publicaciones"
   ]
  },
  {
   "cell_type": "code",
   "execution_count": 36,
   "metadata": {},
   "outputs": [
    {
     "data": {
      "text/html": [
       "<div>\n",
       "<style scoped>\n",
       "    .dataframe tbody tr th:only-of-type {\n",
       "        vertical-align: middle;\n",
       "    }\n",
       "\n",
       "    .dataframe tbody tr th {\n",
       "        vertical-align: top;\n",
       "    }\n",
       "\n",
       "    .dataframe thead th {\n",
       "        text-align: right;\n",
       "    }\n",
       "</style>\n",
       "<table border=\"1\" class=\"dataframe\">\n",
       "  <thead>\n",
       "    <tr style=\"text-align: right;\">\n",
       "      <th></th>\n",
       "      <th>1.Perfil</th>\n",
       "      <th>2.Total retweets</th>\n",
       "    </tr>\n",
       "  </thead>\n",
       "  <tbody>\n",
       "    <tr>\n",
       "      <th>0</th>\n",
       "      <td>espiridion01</td>\n",
       "      <td>8</td>\n",
       "    </tr>\n",
       "    <tr>\n",
       "      <th>1</th>\n",
       "      <td>GloriaB2B</td>\n",
       "      <td>2</td>\n",
       "    </tr>\n",
       "    <tr>\n",
       "      <th>2</th>\n",
       "      <td>JUAMPA88</td>\n",
       "      <td>1</td>\n",
       "    </tr>\n",
       "    <tr>\n",
       "      <th>3</th>\n",
       "      <td>89_caballero</td>\n",
       "      <td>1</td>\n",
       "    </tr>\n",
       "    <tr>\n",
       "      <th>4</th>\n",
       "      <td>emersonjonas101</td>\n",
       "      <td>1</td>\n",
       "    </tr>\n",
       "  </tbody>\n",
       "</table>\n",
       "</div>"
      ],
      "text/plain": [
       "          1.Perfil  2.Total retweets\n",
       "0     espiridion01                 8\n",
       "1        GloriaB2B                 2\n",
       "2         JUAMPA88                 1\n",
       "3     89_caballero                 1\n",
       "4  emersonjonas101                 1"
      ]
     },
     "execution_count": 36,
     "metadata": {},
     "output_type": "execute_result"
    }
   ],
   "source": [
    "top_rts = []\n",
    "in_inter_bareiro = inter_bareiro['in_interactions']['retweets']['details']\n",
    "max_iter = 5 if len(in_inter_bareiro) > 5 else len(in_inter_bareiro)\n",
    "for i in range(max_iter):\n",
    "    contacto = {'1.Perfil': in_inter_bareiro[i][0], \n",
    "                '2.Total retweets': in_inter_bareiro[i][1]\n",
    "               }\n",
    "    top_rts.append(contacto)\n",
    "pd.DataFrame(top_rts)"
   ]
  },
  {
   "cell_type": "markdown",
   "metadata": {},
   "source": [
    "##### Perfiles que más respondieron a sus publicaciones"
   ]
  },
  {
   "cell_type": "code",
   "execution_count": 37,
   "metadata": {},
   "outputs": [
    {
     "data": {
      "text/html": [
       "<div>\n",
       "<style scoped>\n",
       "    .dataframe tbody tr th:only-of-type {\n",
       "        vertical-align: middle;\n",
       "    }\n",
       "\n",
       "    .dataframe tbody tr th {\n",
       "        vertical-align: top;\n",
       "    }\n",
       "\n",
       "    .dataframe thead th {\n",
       "        text-align: right;\n",
       "    }\n",
       "</style>\n",
       "<table border=\"1\" class=\"dataframe\">\n",
       "  <thead>\n",
       "    <tr style=\"text-align: right;\">\n",
       "      <th></th>\n",
       "      <th>1.Perfil</th>\n",
       "      <th>2.Total respuestas</th>\n",
       "    </tr>\n",
       "  </thead>\n",
       "  <tbody>\n",
       "    <tr>\n",
       "      <th>0</th>\n",
       "      <td>rey_europa</td>\n",
       "      <td>5</td>\n",
       "    </tr>\n",
       "    <tr>\n",
       "      <th>1</th>\n",
       "      <td>britez_ortiz1</td>\n",
       "      <td>3</td>\n",
       "    </tr>\n",
       "    <tr>\n",
       "      <th>2</th>\n",
       "      <td>DeaMaldonado</td>\n",
       "      <td>3</td>\n",
       "    </tr>\n",
       "    <tr>\n",
       "      <th>3</th>\n",
       "      <td>nicomartinezpy</td>\n",
       "      <td>2</td>\n",
       "    </tr>\n",
       "    <tr>\n",
       "      <th>4</th>\n",
       "      <td>gabiotago</td>\n",
       "      <td>2</td>\n",
       "    </tr>\n",
       "  </tbody>\n",
       "</table>\n",
       "</div>"
      ],
      "text/plain": [
       "         1.Perfil  2.Total respuestas\n",
       "0      rey_europa                   5\n",
       "1   britez_ortiz1                   3\n",
       "2    DeaMaldonado                   3\n",
       "3  nicomartinezpy                   2\n",
       "4       gabiotago                   2"
      ]
     },
     "execution_count": 37,
     "metadata": {},
     "output_type": "execute_result"
    }
   ],
   "source": [
    "top_rps = []\n",
    "in_inter_bareiro = inter_bareiro['in_interactions']['replies']['details']\n",
    "max_iter = 5 if len(in_inter_bareiro) > 5 else len(in_inter_bareiro)\n",
    "for i in range(max_iter):\n",
    "    contacto = {'1.Perfil': in_inter_bareiro[i][0], \n",
    "                '2.Total respuestas': in_inter_bareiro[i][1]\n",
    "               }\n",
    "    top_rps.append(contacto)\n",
    "pd.DataFrame(top_rps)"
   ]
  },
  {
   "cell_type": "markdown",
   "metadata": {},
   "source": [
    "##### Perfiles que más mencionaron a LuisBareiro"
   ]
  },
  {
   "cell_type": "code",
   "execution_count": 38,
   "metadata": {},
   "outputs": [
    {
     "data": {
      "text/html": [
       "<div>\n",
       "<style scoped>\n",
       "    .dataframe tbody tr th:only-of-type {\n",
       "        vertical-align: middle;\n",
       "    }\n",
       "\n",
       "    .dataframe tbody tr th {\n",
       "        vertical-align: top;\n",
       "    }\n",
       "\n",
       "    .dataframe thead th {\n",
       "        text-align: right;\n",
       "    }\n",
       "</style>\n",
       "<table border=\"1\" class=\"dataframe\">\n",
       "  <thead>\n",
       "    <tr style=\"text-align: right;\">\n",
       "      <th></th>\n",
       "      <th>1.Perfil</th>\n",
       "      <th>2.Total menciones</th>\n",
       "    </tr>\n",
       "  </thead>\n",
       "  <tbody>\n",
       "    <tr>\n",
       "      <th>0</th>\n",
       "      <td>CarlosZ86636382</td>\n",
       "      <td>6</td>\n",
       "    </tr>\n",
       "    <tr>\n",
       "      <th>1</th>\n",
       "      <td>caramarillapy</td>\n",
       "      <td>4</td>\n",
       "    </tr>\n",
       "    <tr>\n",
       "      <th>2</th>\n",
       "      <td>Luinoguera</td>\n",
       "      <td>2</td>\n",
       "    </tr>\n",
       "    <tr>\n",
       "      <th>3</th>\n",
       "      <td>agustinkonrad27</td>\n",
       "      <td>2</td>\n",
       "    </tr>\n",
       "    <tr>\n",
       "      <th>4</th>\n",
       "      <td>maue_escobar</td>\n",
       "      <td>1</td>\n",
       "    </tr>\n",
       "  </tbody>\n",
       "</table>\n",
       "</div>"
      ],
      "text/plain": [
       "          1.Perfil  2.Total menciones\n",
       "0  CarlosZ86636382                  6\n",
       "1    caramarillapy                  4\n",
       "2       Luinoguera                  2\n",
       "3  agustinkonrad27                  2\n",
       "4     maue_escobar                  1"
      ]
     },
     "execution_count": 38,
     "metadata": {},
     "output_type": "execute_result"
    }
   ],
   "source": [
    "top_mts = []\n",
    "in_inter_bareiro = inter_bareiro['in_interactions']['mentions']['details']\n",
    "max_iter = 5 if len(in_inter_bareiro) > 5 else len(in_inter_bareiro)\n",
    "for i in range(max_iter):\n",
    "    contacto = {'1.Perfil': in_inter_bareiro[i][0], \n",
    "                '2.Total menciones': in_inter_bareiro[i][1]\n",
    "               }\n",
    "    top_mts.append(contacto)\n",
    "pd.DataFrame(top_mts)"
   ]
  },
  {
   "cell_type": "markdown",
   "metadata": {},
   "source": [
    "##### Perfiles que más citaron a LuisBareiro"
   ]
  },
  {
   "cell_type": "code",
   "execution_count": 39,
   "metadata": {},
   "outputs": [
    {
     "data": {
      "text/html": [
       "<div>\n",
       "<style scoped>\n",
       "    .dataframe tbody tr th:only-of-type {\n",
       "        vertical-align: middle;\n",
       "    }\n",
       "\n",
       "    .dataframe tbody tr th {\n",
       "        vertical-align: top;\n",
       "    }\n",
       "\n",
       "    .dataframe thead th {\n",
       "        text-align: right;\n",
       "    }\n",
       "</style>\n",
       "<table border=\"1\" class=\"dataframe\">\n",
       "  <thead>\n",
       "    <tr style=\"text-align: right;\">\n",
       "      <th></th>\n",
       "      <th>1.Perfil</th>\n",
       "      <th>2.Total citaciones</th>\n",
       "    </tr>\n",
       "  </thead>\n",
       "  <tbody>\n",
       "    <tr>\n",
       "      <th>0</th>\n",
       "      <td>pascolili</td>\n",
       "      <td>1</td>\n",
       "    </tr>\n",
       "    <tr>\n",
       "      <th>1</th>\n",
       "      <td>heriberto7502</td>\n",
       "      <td>1</td>\n",
       "    </tr>\n",
       "    <tr>\n",
       "      <th>2</th>\n",
       "      <td>DnicCristaldo</td>\n",
       "      <td>1</td>\n",
       "    </tr>\n",
       "    <tr>\n",
       "      <th>3</th>\n",
       "      <td>andregp87</td>\n",
       "      <td>1</td>\n",
       "    </tr>\n",
       "    <tr>\n",
       "      <th>4</th>\n",
       "      <td>fabiigonza</td>\n",
       "      <td>1</td>\n",
       "    </tr>\n",
       "  </tbody>\n",
       "</table>\n",
       "</div>"
      ],
      "text/plain": [
       "        1.Perfil  2.Total citaciones\n",
       "0      pascolili                   1\n",
       "1  heriberto7502                   1\n",
       "2  DnicCristaldo                   1\n",
       "3      andregp87                   1\n",
       "4     fabiigonza                   1"
      ]
     },
     "execution_count": 39,
     "metadata": {},
     "output_type": "execute_result"
    }
   ],
   "source": [
    "top_qts = []\n",
    "in_inter_bareiro = inter_bareiro['in_interactions']['quotes']['details']\n",
    "max_iter = 5 if len(in_inter_bareiro) > 5 else len(in_inter_bareiro)\n",
    "for i in range(max_iter):\n",
    "    contacto = {'1.Perfil': in_inter_bareiro[i][0], \n",
    "                '2.Total citaciones': in_inter_bareiro[i][1]\n",
    "               }\n",
    "    top_qts.append(contacto)\n",
    "pd.DataFrame(top_qts)"
   ]
  },
  {
   "cell_type": "markdown",
   "metadata": {},
   "source": [
    "Más del 90% (2680 de 2938) de las interacciones recibidas por `LuisBareiro` corresponden a retweets de su publicaciones, demostrando el gran alcance de sus tweets. Otro aspecto destacable es que el mismo perfil `CarlosZ86636382` que más menciones hizo sobre `Santula` es el mismo que más mencionó a `LuisBareiro`. "
   ]
  },
  {
   "cell_type": "markdown",
   "metadata": {},
   "source": [
    "### Enrique Vargas Peña (enriquevp)"
   ]
  },
  {
   "cell_type": "code",
   "execution_count": 41,
   "metadata": {
    "collapsed": true
   },
   "outputs": [],
   "source": [
    "na = NetworkAnalyzer()\n",
    "inter_evp = na.get_interactions('enriquevp')"
   ]
  },
  {
   "cell_type": "markdown",
   "metadata": {},
   "source": [
    "#### Interacciones generadas"
   ]
  },
  {
   "cell_type": "code",
   "execution_count": 42,
   "metadata": {},
   "outputs": [
    {
     "name": "stdout",
     "output_type": "stream",
     "text": [
      "153 tweets; 16 retweets, 48 respuestas, 81 menciones, y 8 citaciones\n"
     ]
    }
   ],
   "source": [
    "print('{0} tweets; {1} retweets, {2} respuestas, {3} menciones, y {4} citaciones'. \\\n",
    "      format(inter_evp['out_interactions']['total']['count'], \\\n",
    "             inter_evp['out_interactions']['retweets']['count'], \\\n",
    "             inter_evp['out_interactions']['replies']['count'], \\\n",
    "             inter_evp['out_interactions']['mentions']['count'], \\\n",
    "             inter_evp['out_interactions']['quotes']['count']))"
   ]
  },
  {
   "cell_type": "markdown",
   "metadata": {},
   "source": [
    "##### Perfiles más retuiteados"
   ]
  },
  {
   "cell_type": "code",
   "execution_count": 43,
   "metadata": {},
   "outputs": [
    {
     "data": {
      "text/html": [
       "<div>\n",
       "<style scoped>\n",
       "    .dataframe tbody tr th:only-of-type {\n",
       "        vertical-align: middle;\n",
       "    }\n",
       "\n",
       "    .dataframe tbody tr th {\n",
       "        vertical-align: top;\n",
       "    }\n",
       "\n",
       "    .dataframe thead th {\n",
       "        text-align: right;\n",
       "    }\n",
       "</style>\n",
       "<table border=\"1\" class=\"dataframe\">\n",
       "  <thead>\n",
       "    <tr style=\"text-align: right;\">\n",
       "      <th></th>\n",
       "      <th>1.Perfil</th>\n",
       "      <th>2.Total retweets</th>\n",
       "    </tr>\n",
       "  </thead>\n",
       "  <tbody>\n",
       "    <tr>\n",
       "      <th>0</th>\n",
       "      <td>Santula</td>\n",
       "      <td>4</td>\n",
       "    </tr>\n",
       "    <tr>\n",
       "      <th>1</th>\n",
       "      <td>patriaquerida</td>\n",
       "      <td>3</td>\n",
       "    </tr>\n",
       "    <tr>\n",
       "      <th>2</th>\n",
       "      <td>EfrainAlegre</td>\n",
       "      <td>2</td>\n",
       "    </tr>\n",
       "    <tr>\n",
       "      <th>3</th>\n",
       "      <td>ABCCardinal</td>\n",
       "      <td>2</td>\n",
       "    </tr>\n",
       "    <tr>\n",
       "      <th>4</th>\n",
       "      <td>JavierSanchezPy</td>\n",
       "      <td>1</td>\n",
       "    </tr>\n",
       "  </tbody>\n",
       "</table>\n",
       "</div>"
      ],
      "text/plain": [
       "          1.Perfil  2.Total retweets\n",
       "0          Santula                 4\n",
       "1    patriaquerida                 3\n",
       "2     EfrainAlegre                 2\n",
       "3      ABCCardinal                 2\n",
       "4  JavierSanchezPy                 1"
      ]
     },
     "execution_count": 43,
     "metadata": {},
     "output_type": "execute_result"
    }
   ],
   "source": [
    "top_rts = []\n",
    "out_inter_evp = inter_evp['out_interactions']['retweets']['details']\n",
    "max_iter = 5 if len(out_inter_evp) > 5 else len(out_inter_evp)\n",
    "for i in range(max_iter):\n",
    "    contacto = {'1.Perfil': out_inter_evp[i][0], \n",
    "                '2.Total retweets': out_inter_evp[i][1]\n",
    "               }\n",
    "    top_rts.append(contacto)\n",
    "pd.DataFrame(top_rts)"
   ]
  },
  {
   "cell_type": "markdown",
   "metadata": {},
   "source": [
    "##### Perfiles a los que más respondió"
   ]
  },
  {
   "cell_type": "code",
   "execution_count": 44,
   "metadata": {},
   "outputs": [
    {
     "data": {
      "text/html": [
       "<div>\n",
       "<style scoped>\n",
       "    .dataframe tbody tr th:only-of-type {\n",
       "        vertical-align: middle;\n",
       "    }\n",
       "\n",
       "    .dataframe tbody tr th {\n",
       "        vertical-align: top;\n",
       "    }\n",
       "\n",
       "    .dataframe thead th {\n",
       "        text-align: right;\n",
       "    }\n",
       "</style>\n",
       "<table border=\"1\" class=\"dataframe\">\n",
       "  <thead>\n",
       "    <tr style=\"text-align: right;\">\n",
       "      <th></th>\n",
       "      <th>1.Perfil</th>\n",
       "      <th>2.Total respuestas</th>\n",
       "    </tr>\n",
       "  </thead>\n",
       "  <tbody>\n",
       "    <tr>\n",
       "      <th>0</th>\n",
       "      <td>MaritoAbdo</td>\n",
       "      <td>17</td>\n",
       "    </tr>\n",
       "    <tr>\n",
       "      <th>1</th>\n",
       "      <td>SantiPenap</td>\n",
       "      <td>6</td>\n",
       "    </tr>\n",
       "    <tr>\n",
       "      <th>2</th>\n",
       "      <td>fidelzavala2018</td>\n",
       "      <td>6</td>\n",
       "    </tr>\n",
       "    <tr>\n",
       "      <th>3</th>\n",
       "      <td>gduartcacavelos</td>\n",
       "      <td>4</td>\n",
       "    </tr>\n",
       "    <tr>\n",
       "      <th>4</th>\n",
       "      <td>sebavillarejo</td>\n",
       "      <td>4</td>\n",
       "    </tr>\n",
       "  </tbody>\n",
       "</table>\n",
       "</div>"
      ],
      "text/plain": [
       "          1.Perfil  2.Total respuestas\n",
       "0       MaritoAbdo                  17\n",
       "1       SantiPenap                   6\n",
       "2  fidelzavala2018                   6\n",
       "3  gduartcacavelos                   4\n",
       "4    sebavillarejo                   4"
      ]
     },
     "execution_count": 44,
     "metadata": {},
     "output_type": "execute_result"
    }
   ],
   "source": [
    "top_rps = []\n",
    "out_inter_evp = inter_evp['out_interactions']['replies']['details']\n",
    "max_iter = 5 if len(out_inter_evp) > 5 else len(out_inter_evp)\n",
    "for i in range(max_iter):\n",
    "    contacto = {'1.Perfil': out_inter_evp[i][0], \n",
    "                '2.Total respuestas': out_inter_evp[i][1]\n",
    "               }\n",
    "    top_rps.append(contacto)\n",
    "pd.DataFrame(top_rps)"
   ]
  },
  {
   "cell_type": "markdown",
   "metadata": {},
   "source": [
    "##### Perfiles más mencionados"
   ]
  },
  {
   "cell_type": "code",
   "execution_count": 45,
   "metadata": {},
   "outputs": [
    {
     "data": {
      "text/html": [
       "<div>\n",
       "<style scoped>\n",
       "    .dataframe tbody tr th:only-of-type {\n",
       "        vertical-align: middle;\n",
       "    }\n",
       "\n",
       "    .dataframe tbody tr th {\n",
       "        vertical-align: top;\n",
       "    }\n",
       "\n",
       "    .dataframe thead th {\n",
       "        text-align: right;\n",
       "    }\n",
       "</style>\n",
       "<table border=\"1\" class=\"dataframe\">\n",
       "  <thead>\n",
       "    <tr style=\"text-align: right;\">\n",
       "      <th></th>\n",
       "      <th>1.Perfil</th>\n",
       "      <th>2.Total menciones</th>\n",
       "    </tr>\n",
       "  </thead>\n",
       "  <tbody>\n",
       "    <tr>\n",
       "      <th>0</th>\n",
       "      <td>SantiPenap</td>\n",
       "      <td>27</td>\n",
       "    </tr>\n",
       "    <tr>\n",
       "      <th>1</th>\n",
       "      <td>MaritoAbdo</td>\n",
       "      <td>17</td>\n",
       "    </tr>\n",
       "    <tr>\n",
       "      <th>2</th>\n",
       "      <td>SinLimites_RG</td>\n",
       "      <td>6</td>\n",
       "    </tr>\n",
       "    <tr>\n",
       "      <th>3</th>\n",
       "      <td>EfrainAlegre</td>\n",
       "      <td>5</td>\n",
       "    </tr>\n",
       "    <tr>\n",
       "      <th>4</th>\n",
       "      <td>patriaquerida</td>\n",
       "      <td>4</td>\n",
       "    </tr>\n",
       "  </tbody>\n",
       "</table>\n",
       "</div>"
      ],
      "text/plain": [
       "        1.Perfil  2.Total menciones\n",
       "0     SantiPenap                 27\n",
       "1     MaritoAbdo                 17\n",
       "2  SinLimites_RG                  6\n",
       "3   EfrainAlegre                  5\n",
       "4  patriaquerida                  4"
      ]
     },
     "execution_count": 45,
     "metadata": {},
     "output_type": "execute_result"
    }
   ],
   "source": [
    "top_mts = []\n",
    "out_inter_evp = inter_evp['out_interactions']['mentions']['details']\n",
    "max_iter = 5 if len(out_inter_evp) > 5 else len(out_inter_evp)\n",
    "for i in range(max_iter):\n",
    "    contacto = {'1.Perfil': out_inter_evp[i][0], \n",
    "                '2.Total menciones': out_inter_evp[i][1]\n",
    "               }\n",
    "    top_mts.append(contacto)\n",
    "pd.DataFrame(top_mts)"
   ]
  },
  {
   "cell_type": "markdown",
   "metadata": {},
   "source": [
    "##### Perfiles más citados"
   ]
  },
  {
   "cell_type": "code",
   "execution_count": 46,
   "metadata": {},
   "outputs": [
    {
     "data": {
      "text/html": [
       "<div>\n",
       "<style scoped>\n",
       "    .dataframe tbody tr th:only-of-type {\n",
       "        vertical-align: middle;\n",
       "    }\n",
       "\n",
       "    .dataframe tbody tr th {\n",
       "        vertical-align: top;\n",
       "    }\n",
       "\n",
       "    .dataframe thead th {\n",
       "        text-align: right;\n",
       "    }\n",
       "</style>\n",
       "<table border=\"1\" class=\"dataframe\">\n",
       "  <thead>\n",
       "    <tr style=\"text-align: right;\">\n",
       "      <th></th>\n",
       "      <th>1.Perfil</th>\n",
       "      <th>2.Total citaciones</th>\n",
       "    </tr>\n",
       "  </thead>\n",
       "  <tbody>\n",
       "    <tr>\n",
       "      <th>0</th>\n",
       "      <td>ABCDigital</td>\n",
       "      <td>2</td>\n",
       "    </tr>\n",
       "    <tr>\n",
       "      <th>1</th>\n",
       "      <td>jotabernabe</td>\n",
       "      <td>2</td>\n",
       "    </tr>\n",
       "    <tr>\n",
       "      <th>2</th>\n",
       "      <td>Copanosetoca</td>\n",
       "      <td>1</td>\n",
       "    </tr>\n",
       "    <tr>\n",
       "      <th>3</th>\n",
       "      <td>smongelos</td>\n",
       "      <td>1</td>\n",
       "    </tr>\n",
       "    <tr>\n",
       "      <th>4</th>\n",
       "      <td>sandralopezpy</td>\n",
       "      <td>1</td>\n",
       "    </tr>\n",
       "  </tbody>\n",
       "</table>\n",
       "</div>"
      ],
      "text/plain": [
       "        1.Perfil  2.Total citaciones\n",
       "0     ABCDigital                   2\n",
       "1    jotabernabe                   2\n",
       "2   Copanosetoca                   1\n",
       "3      smongelos                   1\n",
       "4  sandralopezpy                   1"
      ]
     },
     "execution_count": 46,
     "metadata": {},
     "output_type": "execute_result"
    }
   ],
   "source": [
    "top_qts = []\n",
    "out_inter_evp = inter_evp['out_interactions']['quotes']['details']\n",
    "max_iter = 5 if len(out_inter_evp) > 5 else len(out_inter_evp)\n",
    "for i in range(max_iter):\n",
    "    contacto = {'1.Perfil': out_inter_evp[i][0], \n",
    "                '2.Total citaciones': out_inter_evp[i][1]\n",
    "               }\n",
    "    top_qts.append(contacto)\n",
    "pd.DataFrame(top_qts)"
   ]
  },
  {
   "cell_type": "markdown",
   "metadata": {},
   "source": [
    "#### Interacciones recibidas"
   ]
  },
  {
   "cell_type": "code",
   "execution_count": 47,
   "metadata": {},
   "outputs": [
    {
     "name": "stdout",
     "output_type": "stream",
     "text": [
      "2762 tweets; 2054 retweets, 654 respuestas, 43 menciones, y 11 citaciones\n"
     ]
    }
   ],
   "source": [
    "print('{0} tweets; {1} retweets, {2} respuestas, {3} menciones, y {4} citaciones'. \\\n",
    "      format(inter_evp['in_interactions']['total']['count'], \\\n",
    "             inter_evp['in_interactions']['retweets']['count'], \\\n",
    "             inter_evp['in_interactions']['replies']['count'], \\\n",
    "             inter_evp['in_interactions']['mentions']['count'], \\\n",
    "             inter_evp['in_interactions']['quotes']['count']))"
   ]
  },
  {
   "cell_type": "markdown",
   "metadata": {},
   "source": [
    "##### Perfiles que más retuitearon sus publicaciones"
   ]
  },
  {
   "cell_type": "code",
   "execution_count": 48,
   "metadata": {},
   "outputs": [
    {
     "data": {
      "text/html": [
       "<div>\n",
       "<style scoped>\n",
       "    .dataframe tbody tr th:only-of-type {\n",
       "        vertical-align: middle;\n",
       "    }\n",
       "\n",
       "    .dataframe tbody tr th {\n",
       "        vertical-align: top;\n",
       "    }\n",
       "\n",
       "    .dataframe thead th {\n",
       "        text-align: right;\n",
       "    }\n",
       "</style>\n",
       "<table border=\"1\" class=\"dataframe\">\n",
       "  <thead>\n",
       "    <tr style=\"text-align: right;\">\n",
       "      <th></th>\n",
       "      <th>1.Perfil</th>\n",
       "      <th>2.Total retweets</th>\n",
       "    </tr>\n",
       "  </thead>\n",
       "  <tbody>\n",
       "    <tr>\n",
       "      <th>0</th>\n",
       "      <td>fabiansolis_</td>\n",
       "      <td>25</td>\n",
       "    </tr>\n",
       "    <tr>\n",
       "      <th>1</th>\n",
       "      <td>Norabeli</td>\n",
       "      <td>24</td>\n",
       "    </tr>\n",
       "    <tr>\n",
       "      <th>2</th>\n",
       "      <td>Roberto73467377</td>\n",
       "      <td>22</td>\n",
       "    </tr>\n",
       "    <tr>\n",
       "      <th>3</th>\n",
       "      <td>marcosacua2</td>\n",
       "      <td>21</td>\n",
       "    </tr>\n",
       "    <tr>\n",
       "      <th>4</th>\n",
       "      <td>Beatriz20D</td>\n",
       "      <td>19</td>\n",
       "    </tr>\n",
       "  </tbody>\n",
       "</table>\n",
       "</div>"
      ],
      "text/plain": [
       "          1.Perfil  2.Total retweets\n",
       "0     fabiansolis_                25\n",
       "1         Norabeli                24\n",
       "2  Roberto73467377                22\n",
       "3      marcosacua2                21\n",
       "4       Beatriz20D                19"
      ]
     },
     "execution_count": 48,
     "metadata": {},
     "output_type": "execute_result"
    }
   ],
   "source": [
    "top_rts = []\n",
    "in_inter_evp = inter_evp['in_interactions']['retweets']['details']\n",
    "max_iter = 5 if len(in_inter_evp) > 5 else len(in_inter_evp)\n",
    "for i in range(max_iter):\n",
    "    contacto = {'1.Perfil': in_inter_evp[i][0], \n",
    "                '2.Total retweets': in_inter_evp[i][1]\n",
    "               }\n",
    "    top_rts.append(contacto)\n",
    "pd.DataFrame(top_rts)"
   ]
  },
  {
   "cell_type": "markdown",
   "metadata": {},
   "source": [
    "##### Perfiles que más respondieron a sus publicaciones"
   ]
  },
  {
   "cell_type": "code",
   "execution_count": 49,
   "metadata": {},
   "outputs": [
    {
     "data": {
      "text/html": [
       "<div>\n",
       "<style scoped>\n",
       "    .dataframe tbody tr th:only-of-type {\n",
       "        vertical-align: middle;\n",
       "    }\n",
       "\n",
       "    .dataframe tbody tr th {\n",
       "        vertical-align: top;\n",
       "    }\n",
       "\n",
       "    .dataframe thead th {\n",
       "        text-align: right;\n",
       "    }\n",
       "</style>\n",
       "<table border=\"1\" class=\"dataframe\">\n",
       "  <thead>\n",
       "    <tr style=\"text-align: right;\">\n",
       "      <th></th>\n",
       "      <th>1.Perfil</th>\n",
       "      <th>2.Total respuestas</th>\n",
       "    </tr>\n",
       "  </thead>\n",
       "  <tbody>\n",
       "    <tr>\n",
       "      <th>0</th>\n",
       "      <td>Verogot</td>\n",
       "      <td>14</td>\n",
       "    </tr>\n",
       "    <tr>\n",
       "      <th>1</th>\n",
       "      <td>Avorivas</td>\n",
       "      <td>12</td>\n",
       "    </tr>\n",
       "    <tr>\n",
       "      <th>2</th>\n",
       "      <td>AlamVera2</td>\n",
       "      <td>12</td>\n",
       "    </tr>\n",
       "    <tr>\n",
       "      <th>3</th>\n",
       "      <td>keito_sanchez</td>\n",
       "      <td>8</td>\n",
       "    </tr>\n",
       "    <tr>\n",
       "      <th>4</th>\n",
       "      <td>GloriaRiego2</td>\n",
       "      <td>8</td>\n",
       "    </tr>\n",
       "  </tbody>\n",
       "</table>\n",
       "</div>"
      ],
      "text/plain": [
       "        1.Perfil  2.Total respuestas\n",
       "0        Verogot                  14\n",
       "1       Avorivas                  12\n",
       "2      AlamVera2                  12\n",
       "3  keito_sanchez                   8\n",
       "4   GloriaRiego2                   8"
      ]
     },
     "execution_count": 49,
     "metadata": {},
     "output_type": "execute_result"
    }
   ],
   "source": [
    "top_rps = []\n",
    "in_inter_evp = inter_evp['in_interactions']['replies']['details']\n",
    "max_iter = 5 if len(in_inter_evp) > 5 else len(in_inter_evp)\n",
    "for i in range(max_iter):\n",
    "    contacto = {'1.Perfil': in_inter_evp[i][0], \n",
    "                '2.Total respuestas': in_inter_evp[i][1]\n",
    "               }\n",
    "    top_rps.append(contacto)\n",
    "pd.DataFrame(top_rps)"
   ]
  },
  {
   "cell_type": "markdown",
   "metadata": {},
   "source": [
    "##### Perfiles que más mencionaron a enriquevp "
   ]
  },
  {
   "cell_type": "code",
   "execution_count": 51,
   "metadata": {},
   "outputs": [
    {
     "data": {
      "text/html": [
       "<div>\n",
       "<style scoped>\n",
       "    .dataframe tbody tr th:only-of-type {\n",
       "        vertical-align: middle;\n",
       "    }\n",
       "\n",
       "    .dataframe tbody tr th {\n",
       "        vertical-align: top;\n",
       "    }\n",
       "\n",
       "    .dataframe thead th {\n",
       "        text-align: right;\n",
       "    }\n",
       "</style>\n",
       "<table border=\"1\" class=\"dataframe\">\n",
       "  <thead>\n",
       "    <tr style=\"text-align: right;\">\n",
       "      <th></th>\n",
       "      <th>1.Perfil</th>\n",
       "      <th>2.Total menciones</th>\n",
       "    </tr>\n",
       "  </thead>\n",
       "  <tbody>\n",
       "    <tr>\n",
       "      <th>0</th>\n",
       "      <td>caramarillapy</td>\n",
       "      <td>5</td>\n",
       "    </tr>\n",
       "    <tr>\n",
       "      <th>1</th>\n",
       "      <td>Maxnarvezmatto</td>\n",
       "      <td>4</td>\n",
       "    </tr>\n",
       "    <tr>\n",
       "      <th>2</th>\n",
       "      <td>JoseRamirezZela</td>\n",
       "      <td>2</td>\n",
       "    </tr>\n",
       "    <tr>\n",
       "      <th>3</th>\n",
       "      <td>minaftv</td>\n",
       "      <td>2</td>\n",
       "    </tr>\n",
       "    <tr>\n",
       "      <th>4</th>\n",
       "      <td>UribeQuerubin</td>\n",
       "      <td>1</td>\n",
       "    </tr>\n",
       "  </tbody>\n",
       "</table>\n",
       "</div>"
      ],
      "text/plain": [
       "          1.Perfil  2.Total menciones\n",
       "0    caramarillapy                  5\n",
       "1   Maxnarvezmatto                  4\n",
       "2  JoseRamirezZela                  2\n",
       "3          minaftv                  2\n",
       "4    UribeQuerubin                  1"
      ]
     },
     "execution_count": 51,
     "metadata": {},
     "output_type": "execute_result"
    }
   ],
   "source": [
    "top_mts = []\n",
    "in_inter_evp = inter_evp['in_interactions']['mentions']['details']\n",
    "max_iter = 5 if len(in_inter_evp) > 5 else len(in_inter_evp)\n",
    "for i in range(max_iter):\n",
    "    contacto = {'1.Perfil': in_inter_evp[i][0], \n",
    "                '2.Total menciones': in_inter_evp[i][1]\n",
    "               }\n",
    "    top_mts.append(contacto)\n",
    "pd.DataFrame(top_mts)"
   ]
  },
  {
   "cell_type": "markdown",
   "metadata": {},
   "source": [
    "##### Perfiles que más citaron sus publicaciones"
   ]
  },
  {
   "cell_type": "code",
   "execution_count": 52,
   "metadata": {},
   "outputs": [
    {
     "data": {
      "text/html": [
       "<div>\n",
       "<style scoped>\n",
       "    .dataframe tbody tr th:only-of-type {\n",
       "        vertical-align: middle;\n",
       "    }\n",
       "\n",
       "    .dataframe tbody tr th {\n",
       "        vertical-align: top;\n",
       "    }\n",
       "\n",
       "    .dataframe thead th {\n",
       "        text-align: right;\n",
       "    }\n",
       "</style>\n",
       "<table border=\"1\" class=\"dataframe\">\n",
       "  <thead>\n",
       "    <tr style=\"text-align: right;\">\n",
       "      <th></th>\n",
       "      <th>1.Perfil</th>\n",
       "      <th>2.Total citaciones</th>\n",
       "    </tr>\n",
       "  </thead>\n",
       "  <tbody>\n",
       "    <tr>\n",
       "      <th>0</th>\n",
       "      <td>chintuoviedo</td>\n",
       "      <td>1</td>\n",
       "    </tr>\n",
       "    <tr>\n",
       "      <th>1</th>\n",
       "      <td>Clyde_VolkartOf</td>\n",
       "      <td>1</td>\n",
       "    </tr>\n",
       "    <tr>\n",
       "      <th>2</th>\n",
       "      <td>desimasi2</td>\n",
       "      <td>1</td>\n",
       "    </tr>\n",
       "    <tr>\n",
       "      <th>3</th>\n",
       "      <td>Avorivas</td>\n",
       "      <td>1</td>\n",
       "    </tr>\n",
       "    <tr>\n",
       "      <th>4</th>\n",
       "      <td>gio_martinez88</td>\n",
       "      <td>1</td>\n",
       "    </tr>\n",
       "  </tbody>\n",
       "</table>\n",
       "</div>"
      ],
      "text/plain": [
       "          1.Perfil  2.Total citaciones\n",
       "0     chintuoviedo                   1\n",
       "1  Clyde_VolkartOf                   1\n",
       "2        desimasi2                   1\n",
       "3         Avorivas                   1\n",
       "4   gio_martinez88                   1"
      ]
     },
     "execution_count": 52,
     "metadata": {},
     "output_type": "execute_result"
    }
   ],
   "source": [
    "top_qts = []\n",
    "in_inter_evp = inter_evp['in_interactions']['quotes']['details']\n",
    "max_iter = 5 if len(in_inter_evp) > 5 else len(in_inter_evp)\n",
    "for i in range(max_iter):\n",
    "    contacto = {'1.Perfil': in_inter_evp[i][0], \n",
    "                '2.Total citaciones': in_inter_evp[i][1]\n",
    "               }\n",
    "    top_qts.append(contacto)\n",
    "pd.DataFrame(top_qts)"
   ]
  },
  {
   "cell_type": "markdown",
   "metadata": {},
   "source": [
    "Casi el 75% de las interacciones que recibió `enriquevp` corresponden a retweets de sus publicaciones. También se destaca que la mayoría de las interacciones generadas por Vargas Peña se relacionan con menciones, citaciones, o respuestas a los principales pre-candidatos a la presidencia, Mario Abdo Benítez, Santiago Peña, y Efraín Alegre."
   ]
  },
  {
   "cell_type": "markdown",
   "metadata": {},
   "source": [
    "### Desireè Masi (desimasi2)"
   ]
  },
  {
   "cell_type": "code",
   "execution_count": 54,
   "metadata": {
    "collapsed": true
   },
   "outputs": [],
   "source": [
    "na = NetworkAnalyzer()\n",
    "inter_dm = na.get_interactions('desimasi2')"
   ]
  },
  {
   "cell_type": "markdown",
   "metadata": {},
   "source": [
    "##### Interacciones generadas"
   ]
  },
  {
   "cell_type": "code",
   "execution_count": 55,
   "metadata": {},
   "outputs": [
    {
     "name": "stdout",
     "output_type": "stream",
     "text": [
      "235 tweets; 26 retweets, 59 respuestas, 113 menciones, y 37 citaciones\n"
     ]
    }
   ],
   "source": [
    "print('{0} tweets; {1} retweets, {2} respuestas, {3} menciones, y {4} citaciones'. \\\n",
    "      format(inter_dm['out_interactions']['total']['count'], \\\n",
    "             inter_dm['out_interactions']['retweets']['count'], \\\n",
    "             inter_dm['out_interactions']['replies']['count'], \\\n",
    "             inter_dm['out_interactions']['mentions']['count'], \\\n",
    "             inter_dm['out_interactions']['quotes']['count']))"
   ]
  },
  {
   "cell_type": "markdown",
   "metadata": {},
   "source": [
    "##### Perfiles más retuiteados"
   ]
  },
  {
   "cell_type": "code",
   "execution_count": 56,
   "metadata": {},
   "outputs": [
    {
     "data": {
      "text/html": [
       "<div>\n",
       "<style scoped>\n",
       "    .dataframe tbody tr th:only-of-type {\n",
       "        vertical-align: middle;\n",
       "    }\n",
       "\n",
       "    .dataframe tbody tr th {\n",
       "        vertical-align: top;\n",
       "    }\n",
       "\n",
       "    .dataframe thead th {\n",
       "        text-align: right;\n",
       "    }\n",
       "</style>\n",
       "<table border=\"1\" class=\"dataframe\">\n",
       "  <thead>\n",
       "    <tr style=\"text-align: right;\">\n",
       "      <th></th>\n",
       "      <th>1.Perfil</th>\n",
       "      <th>2.Total retweets</th>\n",
       "    </tr>\n",
       "  </thead>\n",
       "  <tbody>\n",
       "    <tr>\n",
       "      <th>0</th>\n",
       "      <td>StibenPatron</td>\n",
       "      <td>2</td>\n",
       "    </tr>\n",
       "    <tr>\n",
       "      <th>1</th>\n",
       "      <td>EfrainAlegre</td>\n",
       "      <td>2</td>\n",
       "    </tr>\n",
       "    <tr>\n",
       "      <th>2</th>\n",
       "      <td>enriquevp</td>\n",
       "      <td>2</td>\n",
       "    </tr>\n",
       "    <tr>\n",
       "      <th>3</th>\n",
       "      <td>Raquel_1634</td>\n",
       "      <td>1</td>\n",
       "    </tr>\n",
       "    <tr>\n",
       "      <th>4</th>\n",
       "      <td>gernhof</td>\n",
       "      <td>1</td>\n",
       "    </tr>\n",
       "  </tbody>\n",
       "</table>\n",
       "</div>"
      ],
      "text/plain": [
       "       1.Perfil  2.Total retweets\n",
       "0  StibenPatron                 2\n",
       "1  EfrainAlegre                 2\n",
       "2     enriquevp                 2\n",
       "3   Raquel_1634                 1\n",
       "4       gernhof                 1"
      ]
     },
     "execution_count": 56,
     "metadata": {},
     "output_type": "execute_result"
    }
   ],
   "source": [
    "top_rts = []\n",
    "out_inter_dm = inter_dm['out_interactions']['retweets']['details']\n",
    "max_iter = 5 if len(out_inter_dm) > 5 else len(out_inter_dm)\n",
    "for i in range(max_iter):\n",
    "    contacto = {'1.Perfil': out_inter_dm[i][0], \n",
    "                '2.Total retweets': out_inter_dm[i][1]\n",
    "               }\n",
    "    top_rts.append(contacto)\n",
    "pd.DataFrame(top_rts)"
   ]
  },
  {
   "cell_type": "markdown",
   "metadata": {},
   "source": [
    "##### Perfiles a los que más respondió"
   ]
  },
  {
   "cell_type": "code",
   "execution_count": 57,
   "metadata": {},
   "outputs": [
    {
     "data": {
      "text/html": [
       "<div>\n",
       "<style scoped>\n",
       "    .dataframe tbody tr th:only-of-type {\n",
       "        vertical-align: middle;\n",
       "    }\n",
       "\n",
       "    .dataframe tbody tr th {\n",
       "        vertical-align: top;\n",
       "    }\n",
       "\n",
       "    .dataframe thead th {\n",
       "        text-align: right;\n",
       "    }\n",
       "</style>\n",
       "<table border=\"1\" class=\"dataframe\">\n",
       "  <thead>\n",
       "    <tr style=\"text-align: right;\">\n",
       "      <th></th>\n",
       "      <th>1.Perfil</th>\n",
       "      <th>2.Total respuestas</th>\n",
       "    </tr>\n",
       "  </thead>\n",
       "  <tbody>\n",
       "    <tr>\n",
       "      <th>0</th>\n",
       "      <td>andregp87</td>\n",
       "      <td>4</td>\n",
       "    </tr>\n",
       "    <tr>\n",
       "      <th>1</th>\n",
       "      <td>Rolando35503217</td>\n",
       "      <td>3</td>\n",
       "    </tr>\n",
       "    <tr>\n",
       "      <th>2</th>\n",
       "      <td>RodneyBareiro77</td>\n",
       "      <td>2</td>\n",
       "    </tr>\n",
       "    <tr>\n",
       "      <th>3</th>\n",
       "      <td>smongelos</td>\n",
       "      <td>2</td>\n",
       "    </tr>\n",
       "    <tr>\n",
       "      <th>4</th>\n",
       "      <td>Carlito25Baz</td>\n",
       "      <td>2</td>\n",
       "    </tr>\n",
       "  </tbody>\n",
       "</table>\n",
       "</div>"
      ],
      "text/plain": [
       "          1.Perfil  2.Total respuestas\n",
       "0        andregp87                   4\n",
       "1  Rolando35503217                   3\n",
       "2  RodneyBareiro77                   2\n",
       "3        smongelos                   2\n",
       "4     Carlito25Baz                   2"
      ]
     },
     "execution_count": 57,
     "metadata": {},
     "output_type": "execute_result"
    }
   ],
   "source": [
    "top_rps = []\n",
    "out_inter_dm = inter_dm['out_interactions']['replies']['details']\n",
    "max_iter = 5 if len(out_inter_dm) > 5 else len(out_inter_dm)\n",
    "for i in range(max_iter):\n",
    "    contacto = {'1.Perfil': out_inter_dm[i][0], \n",
    "                '2.Total respuestas': out_inter_dm[i][1]\n",
    "               }\n",
    "    top_rps.append(contacto)\n",
    "pd.DataFrame(top_rps)"
   ]
  },
  {
   "cell_type": "markdown",
   "metadata": {},
   "source": [
    "##### Perfiles a los que más mencionó"
   ]
  },
  {
   "cell_type": "code",
   "execution_count": 58,
   "metadata": {},
   "outputs": [
    {
     "data": {
      "text/html": [
       "<div>\n",
       "<style scoped>\n",
       "    .dataframe tbody tr th:only-of-type {\n",
       "        vertical-align: middle;\n",
       "    }\n",
       "\n",
       "    .dataframe tbody tr th {\n",
       "        vertical-align: top;\n",
       "    }\n",
       "\n",
       "    .dataframe thead th {\n",
       "        text-align: right;\n",
       "    }\n",
       "</style>\n",
       "<table border=\"1\" class=\"dataframe\">\n",
       "  <thead>\n",
       "    <tr style=\"text-align: right;\">\n",
       "      <th></th>\n",
       "      <th>1.Perfil</th>\n",
       "      <th>2.Total menciones</th>\n",
       "    </tr>\n",
       "  </thead>\n",
       "  <tbody>\n",
       "    <tr>\n",
       "      <th>0</th>\n",
       "      <td>Horacio_Cartes</td>\n",
       "      <td>36</td>\n",
       "    </tr>\n",
       "    <tr>\n",
       "      <th>1</th>\n",
       "      <td>EfrainAlegre</td>\n",
       "      <td>7</td>\n",
       "    </tr>\n",
       "    <tr>\n",
       "      <th>2</th>\n",
       "      <td>fidelzavala2018</td>\n",
       "      <td>7</td>\n",
       "    </tr>\n",
       "    <tr>\n",
       "      <th>3</th>\n",
       "      <td>Estelaruizdiaz</td>\n",
       "      <td>6</td>\n",
       "    </tr>\n",
       "    <tr>\n",
       "      <th>4</th>\n",
       "      <td>SantiPenap</td>\n",
       "      <td>5</td>\n",
       "    </tr>\n",
       "  </tbody>\n",
       "</table>\n",
       "</div>"
      ],
      "text/plain": [
       "          1.Perfil  2.Total menciones\n",
       "0   Horacio_Cartes                 36\n",
       "1     EfrainAlegre                  7\n",
       "2  fidelzavala2018                  7\n",
       "3   Estelaruizdiaz                  6\n",
       "4       SantiPenap                  5"
      ]
     },
     "execution_count": 58,
     "metadata": {},
     "output_type": "execute_result"
    }
   ],
   "source": [
    "top_mts = []\n",
    "out_inter_dm = inter_dm['out_interactions']['mentions']['details']\n",
    "max_iter = 5 if len(out_inter_dm) > 5 else len(out_inter_dm)\n",
    "for i in range(max_iter):\n",
    "    contacto = {'1.Perfil': out_inter_dm[i][0], \n",
    "                '2.Total menciones': out_inter_dm[i][1]\n",
    "               }\n",
    "    top_mts.append(contacto)\n",
    "pd.DataFrame(top_mts)"
   ]
  },
  {
   "cell_type": "markdown",
   "metadata": {},
   "source": [
    "##### Perfiles a los que más citó"
   ]
  },
  {
   "cell_type": "code",
   "execution_count": 59,
   "metadata": {},
   "outputs": [
    {
     "data": {
      "text/html": [
       "<div>\n",
       "<style scoped>\n",
       "    .dataframe tbody tr th:only-of-type {\n",
       "        vertical-align: middle;\n",
       "    }\n",
       "\n",
       "    .dataframe tbody tr th {\n",
       "        vertical-align: top;\n",
       "    }\n",
       "\n",
       "    .dataframe thead th {\n",
       "        text-align: right;\n",
       "    }\n",
       "</style>\n",
       "<table border=\"1\" class=\"dataframe\">\n",
       "  <thead>\n",
       "    <tr style=\"text-align: right;\">\n",
       "      <th></th>\n",
       "      <th>1.Perfil</th>\n",
       "      <th>2.Total citaciones</th>\n",
       "    </tr>\n",
       "  </thead>\n",
       "  <tbody>\n",
       "    <tr>\n",
       "      <th>0</th>\n",
       "      <td>eottolenghi</td>\n",
       "      <td>5</td>\n",
       "    </tr>\n",
       "    <tr>\n",
       "      <th>1</th>\n",
       "      <td>UltimaHoracom</td>\n",
       "      <td>5</td>\n",
       "    </tr>\n",
       "    <tr>\n",
       "      <th>2</th>\n",
       "      <td>EfrainAlegre</td>\n",
       "      <td>3</td>\n",
       "    </tr>\n",
       "    <tr>\n",
       "      <th>3</th>\n",
       "      <td>ABCCardinal</td>\n",
       "      <td>3</td>\n",
       "    </tr>\n",
       "    <tr>\n",
       "      <th>4</th>\n",
       "      <td>desimasi2</td>\n",
       "      <td>3</td>\n",
       "    </tr>\n",
       "  </tbody>\n",
       "</table>\n",
       "</div>"
      ],
      "text/plain": [
       "        1.Perfil  2.Total citaciones\n",
       "0    eottolenghi                   5\n",
       "1  UltimaHoracom                   5\n",
       "2   EfrainAlegre                   3\n",
       "3    ABCCardinal                   3\n",
       "4      desimasi2                   3"
      ]
     },
     "execution_count": 59,
     "metadata": {},
     "output_type": "execute_result"
    }
   ],
   "source": [
    "top_qts = []\n",
    "out_inter_dm = inter_dm['out_interactions']['quotes']['details']\n",
    "max_iter = 5 if len(out_inter_dm) > 5 else len(out_inter_dm)\n",
    "for i in range(max_iter):\n",
    "    contacto = {'1.Perfil': out_inter_dm[i][0], \n",
    "                '2.Total citaciones': out_inter_dm[i][1]\n",
    "               }\n",
    "    top_qts.append(contacto)\n",
    "pd.DataFrame(top_qts)"
   ]
  },
  {
   "cell_type": "markdown",
   "metadata": {},
   "source": [
    "#### Interacciones recibidas"
   ]
  },
  {
   "cell_type": "code",
   "execution_count": 60,
   "metadata": {},
   "outputs": [
    {
     "name": "stdout",
     "output_type": "stream",
     "text": [
      "2516 tweets; 1735 retweets, 729 respuestas, 40 menciones, y 12 citaciones\n"
     ]
    }
   ],
   "source": [
    "print('{0} tweets; {1} retweets, {2} respuestas, {3} menciones, y {4} citaciones'. \\\n",
    "      format(inter_dm['in_interactions']['total']['count'], \\\n",
    "             inter_dm['in_interactions']['retweets']['count'], \\\n",
    "             inter_dm['in_interactions']['replies']['count'], \\\n",
    "             inter_dm['in_interactions']['mentions']['count'], \\\n",
    "             inter_dm['in_interactions']['quotes']['count']))"
   ]
  },
  {
   "cell_type": "markdown",
   "metadata": {},
   "source": [
    "##### Perfiles que más retuitean sus publicaciones"
   ]
  },
  {
   "cell_type": "code",
   "execution_count": 62,
   "metadata": {},
   "outputs": [
    {
     "data": {
      "text/html": [
       "<div>\n",
       "<style scoped>\n",
       "    .dataframe tbody tr th:only-of-type {\n",
       "        vertical-align: middle;\n",
       "    }\n",
       "\n",
       "    .dataframe tbody tr th {\n",
       "        vertical-align: top;\n",
       "    }\n",
       "\n",
       "    .dataframe thead th {\n",
       "        text-align: right;\n",
       "    }\n",
       "</style>\n",
       "<table border=\"1\" class=\"dataframe\">\n",
       "  <thead>\n",
       "    <tr style=\"text-align: right;\">\n",
       "      <th></th>\n",
       "      <th>1.Perfil</th>\n",
       "      <th>2.Total retweets</th>\n",
       "    </tr>\n",
       "  </thead>\n",
       "  <tbody>\n",
       "    <tr>\n",
       "      <th>0</th>\n",
       "      <td>gladysgulino</td>\n",
       "      <td>36</td>\n",
       "    </tr>\n",
       "    <tr>\n",
       "      <th>1</th>\n",
       "      <td>Norabeli</td>\n",
       "      <td>35</td>\n",
       "    </tr>\n",
       "    <tr>\n",
       "      <th>2</th>\n",
       "      <td>Beatriz20D</td>\n",
       "      <td>28</td>\n",
       "    </tr>\n",
       "    <tr>\n",
       "      <th>3</th>\n",
       "      <td>pdpprogresista</td>\n",
       "      <td>20</td>\n",
       "    </tr>\n",
       "    <tr>\n",
       "      <th>4</th>\n",
       "      <td>marcosacua2</td>\n",
       "      <td>19</td>\n",
       "    </tr>\n",
       "  </tbody>\n",
       "</table>\n",
       "</div>"
      ],
      "text/plain": [
       "         1.Perfil  2.Total retweets\n",
       "0    gladysgulino                36\n",
       "1        Norabeli                35\n",
       "2      Beatriz20D                28\n",
       "3  pdpprogresista                20\n",
       "4     marcosacua2                19"
      ]
     },
     "execution_count": 62,
     "metadata": {},
     "output_type": "execute_result"
    }
   ],
   "source": [
    "top_rts = []\n",
    "in_inter_dm = inter_dm['in_interactions']['retweets']['details']\n",
    "max_iter = 5 if len(in_inter_dm) > 5 else len(in_inter_dm)\n",
    "for i in range(max_iter):\n",
    "    contacto = {'1.Perfil': in_inter_dm[i][0], \n",
    "                '2.Total retweets': in_inter_dm[i][1]\n",
    "               }\n",
    "    top_rts.append(contacto)\n",
    "pd.DataFrame(top_rts)"
   ]
  },
  {
   "cell_type": "markdown",
   "metadata": {},
   "source": [
    "##### Perfiles que más respondieron a sus publicaciones"
   ]
  },
  {
   "cell_type": "code",
   "execution_count": 63,
   "metadata": {},
   "outputs": [
    {
     "data": {
      "text/html": [
       "<div>\n",
       "<style scoped>\n",
       "    .dataframe tbody tr th:only-of-type {\n",
       "        vertical-align: middle;\n",
       "    }\n",
       "\n",
       "    .dataframe tbody tr th {\n",
       "        vertical-align: top;\n",
       "    }\n",
       "\n",
       "    .dataframe thead th {\n",
       "        text-align: right;\n",
       "    }\n",
       "</style>\n",
       "<table border=\"1\" class=\"dataframe\">\n",
       "  <thead>\n",
       "    <tr style=\"text-align: right;\">\n",
       "      <th></th>\n",
       "      <th>1.Perfil</th>\n",
       "      <th>2.Total respuestas</th>\n",
       "    </tr>\n",
       "  </thead>\n",
       "  <tbody>\n",
       "    <tr>\n",
       "      <th>0</th>\n",
       "      <td>AlamVera2</td>\n",
       "      <td>11</td>\n",
       "    </tr>\n",
       "    <tr>\n",
       "      <th>1</th>\n",
       "      <td>DardoCastelluc1</td>\n",
       "      <td>10</td>\n",
       "    </tr>\n",
       "    <tr>\n",
       "      <th>2</th>\n",
       "      <td>Carlito25Baz</td>\n",
       "      <td>7</td>\n",
       "    </tr>\n",
       "    <tr>\n",
       "      <th>3</th>\n",
       "      <td>andregp87</td>\n",
       "      <td>7</td>\n",
       "    </tr>\n",
       "    <tr>\n",
       "      <th>4</th>\n",
       "      <td>edgaraguero72</td>\n",
       "      <td>6</td>\n",
       "    </tr>\n",
       "  </tbody>\n",
       "</table>\n",
       "</div>"
      ],
      "text/plain": [
       "          1.Perfil  2.Total respuestas\n",
       "0        AlamVera2                  11\n",
       "1  DardoCastelluc1                  10\n",
       "2     Carlito25Baz                   7\n",
       "3        andregp87                   7\n",
       "4    edgaraguero72                   6"
      ]
     },
     "execution_count": 63,
     "metadata": {},
     "output_type": "execute_result"
    }
   ],
   "source": [
    "top_rps = []\n",
    "in_inter_dm = inter_dm['in_interactions']['replies']['details']\n",
    "max_iter = 5 if len(in_inter_dm) > 5 else len(in_inter_dm)\n",
    "for i in range(max_iter):\n",
    "    contacto = {'1.Perfil': in_inter_dm[i][0], \n",
    "                '2.Total respuestas': in_inter_dm[i][1]\n",
    "               }\n",
    "    top_rps.append(contacto)\n",
    "pd.DataFrame(top_rps)"
   ]
  },
  {
   "cell_type": "markdown",
   "metadata": {},
   "source": [
    "##### Perfiles que más mencionaron a desimasi2"
   ]
  },
  {
   "cell_type": "code",
   "execution_count": 64,
   "metadata": {},
   "outputs": [
    {
     "data": {
      "text/html": [
       "<div>\n",
       "<style scoped>\n",
       "    .dataframe tbody tr th:only-of-type {\n",
       "        vertical-align: middle;\n",
       "    }\n",
       "\n",
       "    .dataframe tbody tr th {\n",
       "        vertical-align: top;\n",
       "    }\n",
       "\n",
       "    .dataframe thead th {\n",
       "        text-align: right;\n",
       "    }\n",
       "</style>\n",
       "<table border=\"1\" class=\"dataframe\">\n",
       "  <thead>\n",
       "    <tr style=\"text-align: right;\">\n",
       "      <th></th>\n",
       "      <th>1.Perfil</th>\n",
       "      <th>2.Total menciones</th>\n",
       "    </tr>\n",
       "  </thead>\n",
       "  <tbody>\n",
       "    <tr>\n",
       "      <th>0</th>\n",
       "      <td>ANIBALCSPDS</td>\n",
       "      <td>3</td>\n",
       "    </tr>\n",
       "    <tr>\n",
       "      <th>1</th>\n",
       "      <td>JoseRamirezZela</td>\n",
       "      <td>2</td>\n",
       "    </tr>\n",
       "    <tr>\n",
       "      <th>2</th>\n",
       "      <td>smongelos</td>\n",
       "      <td>2</td>\n",
       "    </tr>\n",
       "    <tr>\n",
       "      <th>3</th>\n",
       "      <td>Maxnarvezmatto</td>\n",
       "      <td>2</td>\n",
       "    </tr>\n",
       "    <tr>\n",
       "      <th>4</th>\n",
       "      <td>Ale_Buzo</td>\n",
       "      <td>2</td>\n",
       "    </tr>\n",
       "  </tbody>\n",
       "</table>\n",
       "</div>"
      ],
      "text/plain": [
       "          1.Perfil  2.Total menciones\n",
       "0      ANIBALCSPDS                  3\n",
       "1  JoseRamirezZela                  2\n",
       "2        smongelos                  2\n",
       "3   Maxnarvezmatto                  2\n",
       "4         Ale_Buzo                  2"
      ]
     },
     "execution_count": 64,
     "metadata": {},
     "output_type": "execute_result"
    }
   ],
   "source": [
    "top_mts = []\n",
    "in_inter_dm = inter_dm['in_interactions']['mentions']['details']\n",
    "max_iter = 5 if len(in_inter_dm) > 5 else len(in_inter_dm)\n",
    "for i in range(max_iter):\n",
    "    contacto = {'1.Perfil': in_inter_dm[i][0], \n",
    "                '2.Total menciones': in_inter_dm[i][1]\n",
    "               }\n",
    "    top_mts.append(contacto)\n",
    "pd.DataFrame(top_mts)"
   ]
  },
  {
   "cell_type": "markdown",
   "metadata": {},
   "source": [
    "##### Perfiles que más citaron sus publicaciones"
   ]
  },
  {
   "cell_type": "code",
   "execution_count": 65,
   "metadata": {},
   "outputs": [
    {
     "data": {
      "text/html": [
       "<div>\n",
       "<style scoped>\n",
       "    .dataframe tbody tr th:only-of-type {\n",
       "        vertical-align: middle;\n",
       "    }\n",
       "\n",
       "    .dataframe tbody tr th {\n",
       "        vertical-align: top;\n",
       "    }\n",
       "\n",
       "    .dataframe thead th {\n",
       "        text-align: right;\n",
       "    }\n",
       "</style>\n",
       "<table border=\"1\" class=\"dataframe\">\n",
       "  <thead>\n",
       "    <tr style=\"text-align: right;\">\n",
       "      <th></th>\n",
       "      <th>1.Perfil</th>\n",
       "      <th>2.Total citaciones</th>\n",
       "    </tr>\n",
       "  </thead>\n",
       "  <tbody>\n",
       "    <tr>\n",
       "      <th>0</th>\n",
       "      <td>casanaslevi</td>\n",
       "      <td>1</td>\n",
       "    </tr>\n",
       "    <tr>\n",
       "      <th>1</th>\n",
       "      <td>cgonzalezmir</td>\n",
       "      <td>1</td>\n",
       "    </tr>\n",
       "    <tr>\n",
       "      <th>2</th>\n",
       "      <td>JaraCristo</td>\n",
       "      <td>1</td>\n",
       "    </tr>\n",
       "    <tr>\n",
       "      <th>3</th>\n",
       "      <td>ernes_baez</td>\n",
       "      <td>1</td>\n",
       "    </tr>\n",
       "    <tr>\n",
       "      <th>4</th>\n",
       "      <td>arturodoldan</td>\n",
       "      <td>1</td>\n",
       "    </tr>\n",
       "  </tbody>\n",
       "</table>\n",
       "</div>"
      ],
      "text/plain": [
       "       1.Perfil  2.Total citaciones\n",
       "0   casanaslevi                   1\n",
       "1  cgonzalezmir                   1\n",
       "2    JaraCristo                   1\n",
       "3    ernes_baez                   1\n",
       "4  arturodoldan                   1"
      ]
     },
     "execution_count": 65,
     "metadata": {},
     "output_type": "execute_result"
    }
   ],
   "source": [
    "top_qts = []\n",
    "in_inter_dm = inter_dm['in_interactions']['quotes']['details']\n",
    "max_iter = 5 if len(in_inter_dm) > 5 else len(in_inter_dm)\n",
    "for i in range(max_iter):\n",
    "    contacto = {'1.Perfil': in_inter_dm[i][0], \n",
    "                '2.Total citaciones': in_inter_dm[i][1]\n",
    "               }\n",
    "    top_qts.append(contacto)\n",
    "pd.DataFrame(top_qts)"
   ]
  },
  {
   "cell_type": "markdown",
   "metadata": {},
   "source": [
    "Al igual que los perfiles anteriores se destaca la gran cantidad de retweets de sus publicaciones. Casi el 70% de las interacciones que recibió `desimasi2` corresponde a acciones orientadas a difundir sus tweets."
   ]
  }
 ],
 "metadata": {
  "hide_input": false,
  "kernelspec": {
   "display_name": "Python 3",
   "language": "python",
   "name": "python3"
  },
  "language_info": {
   "codemirror_mode": {
    "name": "ipython",
    "version": 3
   },
   "file_extension": ".py",
   "mimetype": "text/x-python",
   "name": "python",
   "nbconvert_exporter": "python",
   "pygments_lexer": "ipython3",
   "version": "3.6.4"
  },
  "toc": {
   "base_numbering": 1,
   "nav_menu": {},
   "number_sections": true,
   "sideBar": true,
   "skip_h1_title": false,
   "title_cell": "Table of Contents",
   "title_sidebar": "Contents",
   "toc_cell": false,
   "toc_position": {},
   "toc_section_display": true,
   "toc_window_display": false
  },
  "varInspector": {
   "cols": {
    "lenName": 16,
    "lenType": 16,
    "lenVar": 40
   },
   "kernels_config": {
    "python": {
     "delete_cmd_postfix": "",
     "delete_cmd_prefix": "del ",
     "library": "var_list.py",
     "varRefreshCmd": "print(var_dic_list())"
    },
    "r": {
     "delete_cmd_postfix": ") ",
     "delete_cmd_prefix": "rm(",
     "library": "var_list.r",
     "varRefreshCmd": "cat(var_dic_list()) "
    }
   },
   "oldHeight": 656,
   "position": {
    "height": "40px",
    "left": "1188px",
    "right": "20px",
    "top": "138px",
    "width": "450px"
   },
   "types_to_exclude": [
    "module",
    "function",
    "builtin_function_or_method",
    "instance",
    "_Feature"
   ],
   "varInspector_section_display": "none",
   "window_display": true
  }
 },
 "nbformat": 4,
 "nbformat_minor": 2
}
