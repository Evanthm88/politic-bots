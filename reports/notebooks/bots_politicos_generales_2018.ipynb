{
 "cells": [
  {
   "cell_type": "markdown",
   "metadata": {
    "slideshow": {
     "slide_type": "slide"
    }
   },
   "source": [
    "# Uso de Twitter en las Elecciones Generales Paraguayas 2018"
   ]
  },
  {
   "cell_type": "markdown",
   "metadata": {
    "slideshow": {
     "slide_type": "slide"
    }
   },
   "source": [
    "Recolección de tweets basada en cuentas (@) y Hashtags (#). Usando el API de Twitter recoletamos **tweets publicados durante marzo y abril del año 2018**, que provengan de cuentas de candidatos a la presidencia y al congreso, y/o contengan hashtags utilizados con fines electorales. Como base utilizamos las cuentas y hashtags publicados por el Diario Última Hora en su artículo [Perfiles de pre-candidatos según las redes](http://elecciones.ultimahora.com/informacion/?id=20). [En este enlace](https://docs.google.com/spreadsheets/d/e/2PACX-1vQHoukfR9AFhSaz30QHYwKqpwexe1ASrW8ya25Fueh3jXcRPMSjrAyj4SbzryTLiuKkPdi6fsprqtM2/pubhtml) se puede acceder a lista completa de hashtags y cuentas."
   ]
  },
  {
   "cell_type": "markdown",
   "metadata": {
    "slideshow": {
     "slide_type": "slide"
    }
   },
   "source": [
    "## Sobre el Dataset"
   ]
  },
  {
   "cell_type": "markdown",
   "metadata": {
    "slideshow": {
     "slide_type": "slide"
    }
   },
   "source": [
    "### Resumen de Estadísticas"
   ]
  },
  {
   "cell_type": "code",
   "execution_count": 1,
   "metadata": {
    "hide_input": true
   },
   "outputs": [],
   "source": [
    "%matplotlib inline\n",
    "\n",
    "import os\n",
    "import csv\n",
    "import json\n",
    "import matplotlib.pyplot as plt\n",
    "import seaborn as sns\n",
    "import numpy as np\n",
    "import pandas as pd\n",
    "from datetime import datetime\n",
    "\n",
    "os.chdir('../..')\n",
    "\n",
    "from src.utils.db_manager import *\n",
    "from src.utils.data_wrangler import *\n",
    "from src.analyzer.data_analyzer import *\n",
    "from src.analyzer.network_analysis import NetworkAnalyzer\n",
    "\n",
    "plt.style.use('seaborn')"
   ]
  },
  {
   "cell_type": "code",
   "execution_count": 2,
   "metadata": {
    "hide_input": false
   },
   "outputs": [],
   "source": [
    "db = DBManager('tweets')"
   ]
  },
  {
   "cell_type": "code",
   "execution_count": 3,
   "metadata": {
    "hide_input": false
   },
   "outputs": [],
   "source": [
    "total_tweets = db.search({},only_relevant_tws=False).count()"
   ]
  },
  {
   "cell_type": "code",
   "execution_count": 5,
   "metadata": {
    "code_folding": [],
    "hide_input": false
   },
   "outputs": [],
   "source": [
    "#te = TweetEvaluator()\n",
    "#te.identify_relevant_tweets()\n",
    "relevant_tweets = db.search({'relevante':{'$gt':0}}).count()\n",
    "per_relevant = round(100*(relevant_tweets/total_tweets),0)\n"
   ]
  },
  {
   "cell_type": "code",
   "execution_count": 10,
   "metadata": {
    "code_folding": [
     0,
     5,
     13
    ],
    "hide_input": false
   },
   "outputs": [
    {
     "name": "stdout",
     "output_type": "stream",
     "text": [
      "Total de Tweets:   289,582\n",
      "Tweets Relevantes: 104,515 [36.0%](i.e., filtrando tweets de otros contextos electorales o países)\n"
     ]
    },
    {
     "data": {
      "image/png": "[encoded data removed]",
      "text/plain": [
       "<matplotlib.figure.Figure at 0x1140c0e10>"
      ]
     },
     "metadata": {
      "needs_background": "light"
     },
     "output_type": "display_data"
    }
   ],
   "source": [
    "print('Total de Tweets: {0:9,d}'\n",
    "      .format(total_tweets))\n",
    "print('Tweets Relevantes: {0:6,d} [{1}%](i.e., filtrando tweets de otros contextos electorales o países)'\n",
    "      .format(relevant_tweets, per_relevant))\n",
    "\n",
    "resumen_dataset = pd.DataFrame({\n",
    "    'Tipo': ['Total de Tweets', 'Tweets Relevantes'],\n",
    "    'Tweets': [total_tweets, relevant_tweets]\n",
    "}, index=['tt', 'tr'])\n",
    "\n",
    "fig_resumen = sns.barplot(x='Tipo', y='Tweets', data=resumen_dataset, order=['Total de Tweets', 'Tweets Relevantes'])\n",
    "ax_resumen = fig_resumen\n",
    "#annotate axis = seaborn axis\n",
    "for p in ax_resumen.patches:\n",
    "    ax_resumen.annotate(\"%d\" % p.get_height(), (p.get_x() + p.get_width() / 2., p.get_height()),\n",
    "                 ha='center', va='center', fontsize=12, color='black', xytext=(0, 10),\n",
    "                 textcoords='offset points')\n",
    "_ = fig_resumen.set_ylim(0,320000) #To make space for the annotations\n",
    "plt.show()"
   ]
  },
  {
   "cell_type": "markdown",
   "metadata": {},
   "source": [
    "La distinción entre entre tweets regulares y **relevantes** se debe a que cncontramos que los hashtags usados por los candidatos en sus campañas fueron también utilizados en otros paises. Pra el estudio consideramos solo aquellos tweets que además de los hashtags de interés contienen **alguna mención a cuentas de los candidatos**. "
   ]
  },
  {
   "cell_type": "markdown",
   "metadata": {},
   "source": [
    "### Número de perfiles autores de tweets"
   ]
  },
  {
   "cell_type": "code",
   "execution_count": 11,
   "metadata": {
    "hide_input": false
   },
   "outputs": [],
   "source": [
    "dbu = DBManager('users')\n",
    "unique_tw_authors = dbu.search({})"
   ]
  },
  {
   "cell_type": "code",
   "execution_count": 12,
   "metadata": {
    "hide_input": false
   },
   "outputs": [
    {
     "name": "stdout",
     "output_type": "stream",
     "text": [
      "En total 20680 perfiles publicaron tweets, retweets, replies, y citaciones relacionadas a las elecciones\n"
     ]
    }
   ],
   "source": [
    "print('En total {0} perfiles publicaron tweets, retweets, replies, y citaciones relacionadas a las elecciones'.format(unique_tw_authors.count()))"
   ]
  },
  {
   "cell_type": "markdown",
   "metadata": {},
   "source": [
    "### Tipos de tweets"
   ]
  },
  {
   "cell_type": "code",
   "execution_count": 13,
   "metadata": {
    "code_folding": [
     8,
     16
    ],
    "hide_input": false
   },
   "outputs": [],
   "source": [
    "# Types of tweets (general)\n",
    "original_tweets = db.get_original_tweets(**{})\n",
    "num_original_tweets = len(original_tweets)\n",
    "retweets = db.get_retweets(**{})\n",
    "num_retweets = len(retweets)\n",
    "replies = db.get_replies(**{})\n",
    "num_replies = len(replies)\n",
    "quotes = db.get_quotes(**{})\n",
    "num_quotes = len(quotes)"
   ]
  },
  {
   "cell_type": "code",
   "execution_count": 15,
   "metadata": {
    "hide_input": true
   },
   "outputs": [],
   "source": [
    "# Types of tweets (partido presidencial: ANR)\n",
    "original_tweets_anr = db.get_original_tweets(**{'partido': 'anr'})\n",
    "num_original_tweets_anr = len(original_tweets_anr)\n",
    "retweets_anr = db.get_retweets(**{'partido': 'anr'})\n",
    "num_retweets_anr = len(retweets_anr)\n",
    "replies_anr = db.get_replies(**{'partido': 'anr'})\n",
    "num_replies_anr = len(replies_anr)\n",
    "quotes_anr = db.get_quotes(**{'partido': 'anr'})\n",
    "num_quotes_anr = len(quotes_anr)"
   ]
  },
  {
   "cell_type": "code",
   "execution_count": 31,
   "metadata": {
    "hide_input": true
   },
   "outputs": [],
   "source": [
    "# Types of tweets (partido presidencial: PLRA)\n",
    "original_tweets_plra = db.get_original_tweets(**{'partido': 'plra'})\n",
    "num_original_tweets_plra = len(original_tweets_plra)\n",
    "retweets_plra = db.get_retweets(**{'partido': 'plra'})\n",
    "num_retweets_plra = len(retweets_plra)\n",
    "replies_plra = db.get_replies(**{'partido': 'plra'})\n",
    "num_replies_plra = len(replies_plra)\n",
    "quotes_plra = db.get_quotes(**{'partido': 'plra'})\n",
    "num_quotes_plra = len(quotes_plra)"
   ]
  },
  {
   "cell_type": "code",
   "execution_count": 19,
   "metadata": {
    "hide_input": true
   },
   "outputs": [],
   "source": [
    "# Types of tweets (partido legislativo: Frente Guazu)\n",
    "original_tweets_fg = db.get_original_tweets(**{'partido': 'frente guazu'})\n",
    "num_original_tweets_fg = len(original_tweets_fg)\n",
    "retweets_fg = db.get_retweets(**{'partido': 'frente guazu'})\n",
    "num_retweets_fg = len(retweets_fg)\n",
    "replies_fg = db.get_replies(**{'partido': 'frente guazu'})\n",
    "num_replies_fg = len(replies_fg)\n",
    "quotes_fg = db.get_quotes(**{'partido': 'frente guazu'})\n",
    "num_quotes_fg = len(quotes_fg)"
   ]
  },
  {
   "cell_type": "code",
   "execution_count": 20,
   "metadata": {
    "hide_input": true
   },
   "outputs": [],
   "source": [
    "# Types of tweets (partido legislativo: patria querida)\n",
    "original_tweets_ppq = db.get_original_tweets(**{'partido': 'patria querida'})\n",
    "num_original_tweets_ppq = len(original_tweets_ppq)\n",
    "retweets_ppq = db.get_retweets(**{'partido': 'patria querida'})\n",
    "num_retweets_ppq = len(retweets_ppq)\n",
    "replies_ppq = db.get_replies(**{'partido': 'patria querida'})\n",
    "num_replies_ppq = len(replies_ppq)\n",
    "quotes_ppq = db.get_quotes(**{'partido': 'patria querida'})\n",
    "num_quotes_ppq = len(quotes_ppq)"
   ]
  },
  {
   "cell_type": "code",
   "execution_count": 22,
   "metadata": {
    "hide_input": true
   },
   "outputs": [],
   "source": [
    "# Types of tweets (partido legislativo: hagamos)\n",
    "original_tweets_hagamos = db.get_original_tweets(**{'partido': 'hagamos'})\n",
    "num_original_tweets_hagamos = len(original_tweets_hagamos)\n",
    "retweets_hagamos = db.get_retweets(**{'partido': 'hagamos'})\n",
    "num_retweets_hagamos = len(retweets_hagamos)\n",
    "replies_hagamos = db.get_replies(**{'partido': 'hagamos'})\n",
    "num_replies_hagamos = len(replies_hagamos)\n",
    "quotes_hagamos = db.get_quotes(**{'partido': 'hagamos'})\n",
    "num_quotes_hagamos = len(quotes_hagamos)"
   ]
  },
  {
   "cell_type": "code",
   "execution_count": 23,
   "metadata": {
    "hide_input": true
   },
   "outputs": [],
   "source": [
    "# Types of tweets (partido legislativo: pdp)\n",
    "original_tweets_pdp = db.get_original_tweets(**{'partido': 'pdp'})\n",
    "num_original_tweets_pdp = len(original_tweets_pdp)\n",
    "retweets_pdp = db.get_retweets(**{'partido': 'pdp'})\n",
    "num_retweets_pdp = len(retweets_pdp)\n",
    "replies_pdp = db.get_replies(**{'partido': 'pdp'})\n",
    "num_replies_pdp = len(replies_pdp)\n",
    "quotes_pdp = db.get_quotes(**{'partido': 'pdp'})\n",
    "num_quotes_pdp = len(quotes_pdp)"
   ]
  },
  {
   "cell_type": "code",
   "execution_count": 24,
   "metadata": {
    "hide_input": true
   },
   "outputs": [],
   "source": [
    "# Types of tweets (partido legislativo: cruzada nacional)\n",
    "original_tweets_cruzada = db.get_original_tweets(**{'partido': 'cruzada nacional'})\n",
    "num_original_tweets_cruzada = len(original_tweets_cruzada)\n",
    "retweets_cruzada = db.get_retweets(**{'partido': 'cruzada nacional'})\n",
    "num_retweets_cruzada = len(retweets_cruzada)\n",
    "replies_cruzada = db.get_replies(**{'partido': 'cruzada nacional'})\n",
    "num_replies_cruzada = len(replies_cruzada)\n",
    "quotes_cruzada = db.get_quotes(**{'partido': 'cruzada nacional'})\n",
    "num_quotes_cruzada = len(quotes_cruzada)"
   ]
  },
  {
   "cell_type": "code",
   "execution_count": 25,
   "metadata": {
    "hide_input": true
   },
   "outputs": [],
   "source": [
    "# Types of tweets (partido legislativo: unace)\n",
    "original_tweets_unace = db.get_original_tweets(**{'partido': 'unace'})\n",
    "num_original_tweets_unace = len(original_tweets_unace)\n",
    "retweets_unace = db.get_retweets(**{'partido': 'unace'})\n",
    "num_retweets_unace = len(retweets_unace)\n",
    "replies_unace = db.get_replies(**{'partido': 'unace'})\n",
    "num_replies_unace = len(replies_unace)\n",
    "quotes_unace = db.get_quotes(**{'partido': 'unace'})\n",
    "num_quotes_unace = len(quotes_unace)"
   ]
  },
  {
   "cell_type": "code",
   "execution_count": 28,
   "metadata": {
    "hide_input": true
   },
   "outputs": [],
   "source": [
    "# partido verde (no data)"
   ]
  },
  {
   "cell_type": "code",
   "execution_count": 29,
   "metadata": {
    "hide_input": true
   },
   "outputs": [],
   "source": [
    "# Types of tweets (partido legislativo: somos py)\n",
    "original_tweets_somospy = db.get_original_tweets(**{'partido': 'somos py'})\n",
    "num_original_tweets_somospy = len(original_tweets_somospy)\n",
    "retweets_somospy = db.get_retweets(**{'partido': 'somos py'})\n",
    "num_retweets_somospy = len(retweets_somospy)\n",
    "replies_somospy = db.get_replies(**{'partido': 'somos py'})\n",
    "num_replies_somospy = len(replies_somospy)\n",
    "quotes_somospy = db.get_quotes(**{'partido': 'somos py'})\n",
    "num_quotes_somospy = len(quotes_somospy)"
   ]
  },
  {
   "cell_type": "code",
   "execution_count": 26,
   "metadata": {
    "hide_input": true
   },
   "outputs": [],
   "source": [
    "# Types of tweets (partido legislativo: pen)\n",
    "original_tweets_pen = db.get_original_tweets(**{'partido': 'pen'})\n",
    "num_original_tweets_pen = len(original_tweets_pen)\n",
    "retweets_pen = db.get_retweets(**{'partido': 'pen'})\n",
    "num_retweets_pen = len(retweets_pen)\n",
    "replies_pen = db.get_replies(**{'partido': 'pen'})\n",
    "num_replies_pen = len(replies_pen)\n",
    "quotes_pen = db.get_quotes(**{'partido': 'pen'})\n",
    "num_quotes_pen = len(quotes_pen)"
   ]
  },
  {
   "cell_type": "code",
   "execution_count": 30,
   "metadata": {
    "hide_input": true
   },
   "outputs": [],
   "source": [
    "# Types of tweets (partido legislativo: mpip)\n",
    "original_tweets_mpip = db.get_original_tweets(**{'partido': 'mpip'})\n",
    "num_original_tweets_mpip = len(original_tweets_mpip)\n",
    "retweets_mpip = db.get_retweets(**{'partido': 'mpip'})\n",
    "num_retweets_mpip = len(retweets_mpip)\n",
    "replies_mpip = db.get_replies(**{'partido': 'mpip'})\n",
    "num_replies_mpip = len(replies_mpip)\n",
    "quotes_mpip = db.get_quotes(**{'partido': 'mpip'})\n",
    "num_quotes_mpip = len(quotes_mpip)"
   ]
  },
  {
   "cell_type": "code",
   "execution_count": 32,
   "metadata": {
    "hide_input": true
   },
   "outputs": [],
   "source": [
    "# Types of tweets (partido legislativo: partido democrata cristiano)\n",
    "original_tweets_pdc = db.get_original_tweets(**{'partido': 'partido democrata cristiano'})\n",
    "num_original_tweets_pdc = len(original_tweets_pdc)\n",
    "retweets_pdc = db.get_retweets(**{'partido': 'partido democrata cristiano'})\n",
    "num_retweets_pdc = len(retweets_pdc)\n",
    "replies_pdc = db.get_replies(**{'partido': 'partido democrata cristiano'})\n",
    "num_replies_pdc = len(replies_pdc)\n",
    "quotes_pdc = db.get_quotes(**{'partido': 'partido democrata cristiano'})\n",
    "num_quotes_pdc = len(quotes_pdc)"
   ]
  },
  {
   "cell_type": "code",
   "execution_count": null,
   "metadata": {
    "hide_input": true
   },
   "outputs": [],
   "source": [
    "# paraguay seguro (no data)"
   ]
  },
  {
   "cell_type": "code",
   "execution_count": 27,
   "metadata": {
    "hide_input": true
   },
   "outputs": [],
   "source": [
    "# Types of tweets (partido legislativo: pmas)\n",
    "original_tweets_pmas = db.get_original_tweets(**{'partido': 'pmas'})\n",
    "num_original_tweets_pmas = len(original_tweets_pmas)\n",
    "retweets_pmas = db.get_retweets(**{'partido': 'pmas'})\n",
    "num_retweets_pmas = len(retweets_pmas)\n",
    "replies_pmas = db.get_replies(**{'partido': 'pmas'})\n",
    "num_replies_pmas = len(replies_pmas)\n",
    "quotes_pmas = db.get_quotes(**{'partido': 'pmas'})\n",
    "num_quotes_pmas = len(quotes_pmas)"
   ]
  },
  {
   "cell_type": "code",
   "execution_count": 33,
   "metadata": {
    "hide_input": true
   },
   "outputs": [],
   "source": [
    "# Types of tweets (partido legislativo: avancemos)\n",
    "original_tweets_avancemos = db.get_original_tweets(**{'partido': 'avancemos'})\n",
    "num_original_tweets_avancemos = len(original_tweets_avancemos)\n",
    "retweets_avancemos = db.get_retweets(**{'partido': 'avancemos'})\n",
    "num_retweets_avancemos = len(retweets_avancemos)\n",
    "replies_avancemos = db.get_replies(**{'partido': 'avancemos'})\n",
    "num_replies_avancemos = len(replies_avancemos)\n",
    "quotes_avancemos = db.get_quotes(**{'partido': 'avancemos'})\n",
    "num_quotes_avancemos = len(quotes_avancemos)"
   ]
  },
  {
   "cell_type": "code",
   "execution_count": 34,
   "metadata": {
    "hide_input": true
   },
   "outputs": [
    {
     "data": {
      "image/png": "[encoded data removed]",
      "text/plain": [
       "<matplotlib.figure.Figure at 0x25a5478d0>"
      ]
     },
     "metadata": {
      "needs_background": "light"
     },
     "output_type": "display_data"
    }
   ],
   "source": [
    "tweets_por_tipo = pd.DataFrame({\n",
    "    'Tipo': ['Original', 'Retweet', 'Reply', 'Quote'],\n",
    "    'Tweets': [num_original_tweets, num_retweets, num_replies, num_quotes]\n",
    "}, index=['ot', 'rt', 'rp', 'qt'])\n",
    "\n",
    "fig = sns.barplot(x='Tipo', y='Tweets', data=tweets_por_tipo, order=['Retweet', 'Reply', 'Original', 'Quote'])\n",
    "ax=fig\n",
    "#annotate axis = seaborn axis\n",
    "for p in ax.patches:\n",
    "    ax.annotate(\"%d\" % p.get_height(), (p.get_x() + p.get_width() / 2., p.get_height()),\n",
    "                 ha='center', va='center', fontsize=12, color='black', xytext=(0, 10),\n",
    "                 textcoords='offset points')\n",
    "_ = fig.set_ylim(0,105000) #To make space for the annotations\n",
    "plt.show()"
   ]
  },
  {
   "cell_type": "markdown",
   "metadata": {},
   "source": [
    "### Tipos de Tweets por Partido"
   ]
  },
  {
   "cell_type": "code",
   "execution_count": 35,
   "metadata": {
    "hide_input": true
   },
   "outputs": [],
   "source": [
    "# Simplify variable names (TODO: do it upfront)\n",
    "o_anr = num_original_tweets_anr\n",
    "o_plra = num_original_tweets_plra\n",
    "o_fg = num_original_tweets_fg\n",
    "o_ppq = num_original_tweets_ppq\n",
    "o_hagamos = num_original_tweets_hagamos\n",
    "o_pdp = num_original_tweets_pdp\n",
    "o_cruzada = num_original_tweets_cruzada\n",
    "o_unace = num_original_tweets_unace\n",
    "o_somospy = num_original_tweets_somospy\n",
    "o_pen = num_original_tweets_pen\n",
    "o_mpip = num_original_tweets_mpip\n",
    "o_pdc = num_original_tweets_pdc\n",
    "o_pmas = num_original_tweets_pmas\n",
    "o_avancemos = num_original_tweets_avancemos\n",
    "rt_anr = num_retweets_anr\n",
    "rt_plra = num_retweets_plra\n",
    "rt_fg = num_retweets_fg\n",
    "rt_ppq = num_retweets_ppq\n",
    "rt_hagamos = num_retweets_hagamos\n",
    "rt_pdp = num_retweets_pdp\n",
    "rt_cruzada = num_retweets_cruzada\n",
    "rt_unace = num_retweets_unace\n",
    "rt_somospy = num_retweets_somospy\n",
    "rt_pen = num_retweets_pen\n",
    "rt_mpip = num_retweets_mpip\n",
    "rt_pdc = num_retweets_pdc\n",
    "rt_pmas = num_retweets_pmas\n",
    "rt_avancemos = num_retweets_avancemos\n",
    "rp_anr = num_replies_anr\n",
    "rp_plra = num_replies_plra\n",
    "rp_fg = num_replies_fg\n",
    "rp_ppq = num_replies_ppq\n",
    "rp_hagamos = num_replies_hagamos\n",
    "rp_pdp = num_replies_pdp\n",
    "rp_cruzada = num_replies_cruzada\n",
    "rp_unace = num_replies_unace\n",
    "rp_somospy = num_replies_somospy\n",
    "rp_pen = num_replies_pen\n",
    "rp_mpip = num_replies_mpip\n",
    "rp_pdc = num_replies_pdc\n",
    "rp_pmas = num_replies_pmas\n",
    "rp_avancemos = num_replies_avancemos\n",
    "q_anr = num_quotes_anr\n",
    "q_plra = num_quotes_plra\n",
    "q_fg = num_quotes_fg\n",
    "q_ppq = num_quotes_ppq\n",
    "q_hagamos = num_quotes_hagamos\n",
    "q_pdp = num_quotes_pdp\n",
    "q_cruzada = num_quotes_cruzada\n",
    "q_unace = num_quotes_unace\n",
    "q_somospy = num_quotes_somospy\n",
    "q_pen = num_quotes_pen\n",
    "q_mpip = num_quotes_mpip\n",
    "q_pdc = num_quotes_pdc\n",
    "q_pmas = num_quotes_pmas\n",
    "q_avancemos = num_quotes_avancemos"
   ]
  },
  {
   "cell_type": "code",
   "execution_count": 36,
   "metadata": {
    "hide_input": true
   },
   "outputs": [],
   "source": [
    "# Totales por Partido\n",
    "total_anr = o_anr+rt_anr+rp_anr+q_anr\n",
    "total_plra = o_plra+rt_plra+rp_plra+q_plra\n",
    "total_fg = o_fg+rt_fg+rp_fg+q_fg\n",
    "total_ppq = o_ppq+rt_ppq+rp_ppq+q_ppq\n",
    "total_hagamos = o_hagamos+rt_hagamos+rp_hagamos+q_hagamos\n",
    "total_pdp = o_pdp+rt_pdp+rp_pdp+q_pdp\n",
    "total_cruzada = o_cruzada+rt_cruzada+rp_cruzada+q_cruzada\n",
    "total_unace = o_unace+rt_unace+rp_unace+q_unace\n",
    "total_somospy = o_somospy+rt_somospy+rp_somospy+q_somospy\n",
    "total_pen = o_pen+rt_pen+rp_pen+q_pen\n",
    "total_mpip = o_mpip+rt_mpip+rp_mpip+q_mpip\n",
    "total_pdc = o_pdc+rt_pdc+rp_pdc+q_pdc\n",
    "total_pmas = o_pmas+rt_pmas+rp_pmas+q_pmas\n",
    "total_avancemos = o_avancemos+rt_avancemos+rp_avancemos+q_avancemos"
   ]
  },
  {
   "cell_type": "code",
   "execution_count": 38,
   "metadata": {
    "hide_input": true
   },
   "outputs": [],
   "source": [
    "# Prepare data frame for Types of Tweets by Party\n",
    "tweets_por_tipo_por_partido_raw = {\n",
    "    'Party': ['anr', 'plra', 'fg', 'ppq', 'hagamos', 'pdp', 'cruzada', 'unace', 'somospy', 'pen', 'mpip', 'pdc', 'pmas', 'avancemos'],\n",
    "    'Original': [o_anr, o_plra, o_fg, o_ppq, o_hagamos, o_pdp, o_cruzada, o_unace, o_somospy, o_pen, o_mpip, o_pdc, o_pmas, o_avancemos],\n",
    "    'Retweet': [rt_anr, rt_plra, rt_fg, rt_ppq, rt_hagamos, rt_pdp, rt_cruzada, rt_unace, rt_somospy, rt_pen, rt_mpip, rt_pdc, rt_pmas, rt_avancemos], \n",
    "    'Reply': [rp_anr, rp_plra, rp_fg, rp_ppq, rp_hagamos, rp_pdp, rp_cruzada, rp_unace, rp_somospy, rp_pen, rp_mpip, rp_pdc, rp_pmas, rp_avancemos], \n",
    "    'Quote': [q_anr, q_plra, q_fg, q_ppq, q_hagamos, q_pdp, q_cruzada, q_unace, q_somospy, q_pen, q_mpip, q_pdc, q_pmas, q_avancemos],\n",
    "    'Total': [total_anr, total_plra, total_fg, total_ppq, total_hagamos, total_pdp, total_cruzada, total_unace, total_somospy, total_pen, total_mpip, total_pdc, total_pmas, total_avancemos]\n",
    "}"
   ]
  },
  {
   "cell_type": "code",
   "execution_count": 40,
   "metadata": {
    "hide_input": true
   },
   "outputs": [],
   "source": [
    "tweets_por_tipo_por_partido = pd.DataFrame(\n",
    "    tweets_por_tipo_por_partido_raw, \n",
    "    columns = ['Party', 'Original', 'Retweet', 'Reply', 'Quote', 'Total'])"
   ]
  },
  {
   "cell_type": "markdown",
   "metadata": {},
   "source": [
    "#### Tweets originales por partido"
   ]
  },
  {
   "cell_type": "code",
   "execution_count": 71,
   "metadata": {
    "hide_input": true
   },
   "outputs": [
    {
     "data": {
      "image/png": "[encoded data removed]",
      "text/plain": [
       "<matplotlib.figure.Figure at 0x2638ebbe0>"
      ]
     },
     "metadata": {},
     "output_type": "display_data"
    }
   ],
   "source": [
    "sns.set(style=\"whitegrid\")\n",
    "\n",
    "# Initialize the matplotlib figure\n",
    "f, ax = plt.subplots(figsize=(15, 6))\n",
    "\n",
    "# Plot total tweets\n",
    "sns.set_color_codes(\"pastel\")\n",
    "sns.barplot(x=\"Party\", y=\"Total\", data=tweets_por_tipo_por_partido,\n",
    "            label=\"Total\", color=\"b\")\n",
    "\n",
    "# Plot original tweets\n",
    "sns.set_color_codes(\"muted\")\n",
    "sns.barplot(x=\"Party\", y=\"Original\", data=tweets_por_tipo_por_partido,\n",
    "            label=\"Original tweets\", color=\"b\")\n",
    "\n",
    "# Add a legend and informative axis label\n",
    "ax.legend(ncol=2, loc=\"upper right\", frameon=True)\n",
    "ax.set(ylim=(0, 45000), xlabel=\"\",\n",
    "       ylabel=\"Number of original tweets with respect to total number of tweets by party\")\n",
    "\n",
    "# Annotate axis = seaborn axis\n",
    "for p in ax.patches:\n",
    "    height = p.get_height()\n",
    "    if height>200: \n",
    "        ax.text(p.get_x()+p.get_width()/2,\n",
    "                height+100,\n",
    "                '{0}'.format(height),\n",
    "                ha=\"center\",fontsize=12, color='black')\n",
    "\n",
    "ax.annotate('Parties with seat in congress', xy=(7.5, 0), xytext=(7.5, 35000),\n",
    "            arrowprops=dict(facecolor='black', shrink=0.05),\n",
    "            )\n",
    "        \n",
    "sns.despine(left=True, bottom=True)"
   ]
  },
  {
   "cell_type": "markdown",
   "metadata": {},
   "source": [
    "#### Retweets por partido"
   ]
  },
  {
   "cell_type": "code",
   "execution_count": 73,
   "metadata": {
    "hide_input": true
   },
   "outputs": [
    {
     "data": {
      "image/png": "[encoded data removed]",
      "text/plain": [
       "<matplotlib.figure.Figure at 0x2633fd6a0>"
      ]
     },
     "metadata": {},
     "output_type": "display_data"
    }
   ],
   "source": [
    "sns.set(style=\"whitegrid\")\n",
    "\n",
    "# Initialize the matplotlib figure\n",
    "f, ax = plt.subplots(figsize=(15, 6))\n",
    "\n",
    "# Plot total tweets\n",
    "sns.set_color_codes(\"pastel\")\n",
    "sns.barplot(x=\"Party\", y=\"Total\", data=tweets_por_tipo_por_partido,\n",
    "            label=\"Total\", color=\"b\")\n",
    "\n",
    "# Plot original tweets\n",
    "sns.set_color_codes(\"muted\")\n",
    "sns.barplot(x=\"Party\", y=\"Retweet\", data=tweets_por_tipo_por_partido,\n",
    "            label=\"Retweets\", color=\"b\")\n",
    "\n",
    "# Add a legend and informative axis label\n",
    "ax.legend(ncol=2, loc=\"upper right\", frameon=True)\n",
    "ax.set(ylim=(0, 45000), xlabel=\"\",\n",
    "       ylabel=\"Number of retweets with respect to total number of tweets by party\")\n",
    "\n",
    "# Annotate axis = seaborn axis\n",
    "for p in ax.patches:\n",
    "    height = p.get_height()\n",
    "    if height>2000: \n",
    "        ax.text(p.get_x()+p.get_width()/2,\n",
    "                height+100,\n",
    "                '{0}'.format(height),\n",
    "                ha=\"center\",fontsize=12, color='black')\n",
    "    elif height<2000: \n",
    "        ax.text(p.get_x()+p.get_width()/2,\n",
    "                height+100,\n",
    "                '{0}'.format(height),\n",
    "                ha=\"center\",fontsize=12, color='black')\n",
    "        \n",
    "\n",
    "ax.annotate('Parties with seat in congress', xy=(7.5, 0), xytext=(7.5, 35000),\n",
    "            arrowprops=dict(facecolor='black', shrink=0.05),\n",
    "            )\n",
    "        \n",
    "sns.despine(left=True, bottom=True)"
   ]
  },
  {
   "cell_type": "markdown",
   "metadata": {},
   "source": [
    "#### Replies por partido"
   ]
  },
  {
   "cell_type": "code",
   "execution_count": 74,
   "metadata": {
    "hide_input": true
   },
   "outputs": [
    {
     "data": {
      "image/png": "[encoded data removed]",
      "text/plain": [
       "<matplotlib.figure.Figure at 0x262fc8fd0>"
      ]
     },
     "metadata": {},
     "output_type": "display_data"
    }
   ],
   "source": [
    "sns.set(style=\"whitegrid\")\n",
    "\n",
    "# Initialize the matplotlib figure\n",
    "f, ax = plt.subplots(figsize=(15, 6))\n",
    "\n",
    "# Plot total tweets\n",
    "sns.set_color_codes(\"pastel\")\n",
    "sns.barplot(x=\"Party\", y=\"Total\", data=tweets_por_tipo_por_partido,\n",
    "            label=\"Total\", color=\"b\")\n",
    "\n",
    "# Plot original tweets\n",
    "sns.set_color_codes(\"muted\")\n",
    "sns.barplot(x=\"Party\", y=\"Reply\", data=tweets_por_tipo_por_partido,\n",
    "            label=\"Replies\", color=\"b\")\n",
    "\n",
    "# Add a legend and informative axis label\n",
    "ax.legend(ncol=2, loc=\"upper right\", frameon=True)\n",
    "ax.set(ylim=(0, 45000), xlabel=\"\",\n",
    "       ylabel=\"Number of replies with respect to total number of tweets by party\")\n",
    "\n",
    "# Annotate axis = seaborn axis\n",
    "for p in ax.patches:\n",
    "    height = p.get_height()\n",
    "    if height>200: \n",
    "        ax.text(p.get_x()+p.get_width()/2,\n",
    "                height+100,\n",
    "                '{0}'.format(height),\n",
    "                ha=\"center\",fontsize=12, color='black')\n",
    "\n",
    "ax.annotate('Parties with seat in congress', xy=(7.5, 0), xytext=(7.5, 35000),\n",
    "            arrowprops=dict(facecolor='black', shrink=0.05),\n",
    "            )\n",
    "        \n",
    "sns.despine(left=True, bottom=True)"
   ]
  },
  {
   "cell_type": "markdown",
   "metadata": {},
   "source": [
    "#### Quotes por partido"
   ]
  },
  {
   "cell_type": "code",
   "execution_count": 75,
   "metadata": {
    "hide_input": true
   },
   "outputs": [
    {
     "data": {
      "image/png": "[encoded data removed]",
      "text/plain": [
       "<matplotlib.figure.Figure at 0x263650208>"
      ]
     },
     "metadata": {},
     "output_type": "display_data"
    }
   ],
   "source": [
    "sns.set(style=\"whitegrid\")\n",
    "\n",
    "# Initialize the matplotlib figure\n",
    "f, ax = plt.subplots(figsize=(15, 6))\n",
    "\n",
    "# Plot total tweets\n",
    "sns.set_color_codes(\"pastel\")\n",
    "sns.barplot(x=\"Party\", y=\"Total\", data=tweets_por_tipo_por_partido,\n",
    "            label=\"Total\", color=\"b\")\n",
    "\n",
    "# Plot original tweets\n",
    "sns.set_color_codes(\"muted\")\n",
    "sns.barplot(x=\"Party\", y=\"Quote\", data=tweets_por_tipo_por_partido,\n",
    "            label=\"Quotes\", color=\"b\")\n",
    "\n",
    "# Add a legend and informative axis label\n",
    "ax.legend(ncol=2, loc=\"upper right\", frameon=True)\n",
    "ax.set(ylim=(0, 45000), xlabel=\"\",\n",
    "       ylabel=\"Number of quotes with respect to total number of tweets by party\")\n",
    "\n",
    "# Annotate axis = seaborn axis\n",
    "for p in ax.patches:\n",
    "    height = p.get_height()\n",
    "    if height>200: \n",
    "        ax.text(p.get_x()+p.get_width()/2,\n",
    "                height+100,\n",
    "                '{0}'.format(height),\n",
    "                ha=\"center\",fontsize=12, color='black')\n",
    "\n",
    "ax.annotate('Parties with seat in congress', xy=(7.5, 0), xytext=(7.5, 35000),\n",
    "            arrowprops=dict(facecolor='black', shrink=0.05),\n",
    "            )\n",
    "        \n",
    "sns.despine(left=True, bottom=True)"
   ]
  },
  {
   "cell_type": "markdown",
   "metadata": {},
   "source": [
    "## Evolución de tweets en el tiempo"
   ]
  },
  {
   "cell_type": "code",
   "execution_count": 77,
   "metadata": {
    "hide_input": true
   },
   "outputs": [],
   "source": [
    "# get tweets by date (traditional parties)\n",
    "tw_by_date_anr = db.get_tweets_by_date(**{'partido':'anr'})\n",
    "tw_by_date_plra = db.get_tweets_by_date(**{'partido':'plra'})"
   ]
  },
  {
   "cell_type": "code",
   "execution_count": 78,
   "metadata": {
    "hide_input": true
   },
   "outputs": [],
   "source": [
    "# get tweets by date (third space})\n",
    "tw_by_date_fg = db.get_tweets_by_date(**{'partido':'frente guazu'})\n",
    "tw_by_date_ppq = db.get_tweets_by_date(**{'partido':'patria querida'})\n",
    "tw_by_date_hagamos = db.get_tweets_by_date(**{'partido':'hagamos'})\n",
    "tw_by_date_pdp = db.get_tweets_by_date(**{'partido':'pdp'})\n",
    "tw_by_date_cruzada = db.get_tweets_by_date(**{'partido':'cruzada nacional'})\n",
    "tw_by_date_unace = db.get_tweets_by_date(**{'partido':'unace'})\n",
    "tw_by_date_pen = db.get_tweets_by_date(**{'partido':'pen'})\n",
    "tw_by_date_pmas = db.get_tweets_by_date(**{'partido':'pmas'})\n",
    "tw_by_date_avancemos = db.get_tweets_by_date(**{'partido':'avancemos'})"
   ]
  },
  {
   "cell_type": "code",
   "execution_count": 79,
   "metadata": {
    "hide_input": true
   },
   "outputs": [],
   "source": [
    "# convert list to pandas' dataframe\n",
    "tweets_por_fecha = pd.DataFrame(tw_by_date_anr)\n",
    "tweets_por_fecha = tweets_por_fecha.append(pd.DataFrame(tw_by_date_plra))\n",
    "tweets_por_fecha = tweets_por_fecha.append(pd.DataFrame(tw_by_date_fg))\n",
    "tweets_por_fecha = tweets_por_fecha.append(pd.DataFrame(tw_by_date_ppq))\n",
    "tweets_por_fecha = tweets_por_fecha.append(pd.DataFrame(tw_by_date_hagamos))\n",
    "tweets_por_fecha = tweets_por_fecha.append(pd.DataFrame(tw_by_date_pdp))\n",
    "tweets_por_fecha = tweets_por_fecha.append(pd.DataFrame(tw_by_date_cruzada))\n",
    "tweets_por_fecha = tweets_por_fecha.append(pd.DataFrame(tw_by_date_unace))\n",
    "tweets_por_fecha = tweets_por_fecha.append(pd.DataFrame(tw_by_date_pen))\n",
    "tweets_por_fecha = tweets_por_fecha.append(pd.DataFrame(tw_by_date_pmas))\n",
    "tweets_por_fecha = tweets_por_fecha.append(pd.DataFrame(tw_by_date_avancemos))"
   ]
  },
  {
   "cell_type": "code",
   "execution_count": 80,
   "metadata": {},
   "outputs": [
    {
     "data": {
      "image/png": "[encoded data removed]",
      "text/plain": [
       "<matplotlib.figure.Figure at 0x262eca128>"
      ]
     },
     "metadata": {},
     "output_type": "display_data"
    }
   ],
   "source": [
    "# draw and show the figure\n",
    "# set figure size\n",
    "plt.figure(figsize=(12,6))\n",
    "fig = sns.lineplot(x='_id', y='count', data=tweets_por_fecha, hue=\"partido\", \n",
    "                    palette=\"Reds_d\")\n",
    "fig.set(xlabel='Fecha', ylabel='Tweets')\n",
    "for item in fig.get_xticklabels():\n",
    "    item.set_rotation(90)\n",
    "plt.show()"
   ]
  },
  {
   "cell_type": "markdown",
   "metadata": {},
   "source": [
    "La publicación de tweets fue creciendo con el paso del tiempo. A diferencia de las internas, el día de mayor actividad fue el **15 de abril**, fecha en que se llevó a cabo del debate presidencial. Interesantemente, en los días sucesivos a las elecciones, la actividad de twitter siguió fuerte en relación al plra, lo que coincide en gran medida con las denuncias de fraudes y de problemas con las actas y el conteo de votos para las legislativas. "
   ]
  },
  {
   "cell_type": "markdown",
   "metadata": {},
   "source": [
    "## Cantidad de Tweets por Partido por día"
   ]
  },
  {
   "cell_type": "markdown",
   "metadata": {},
   "source": [
    "### ANR"
   ]
  },
  {
   "cell_type": "code",
   "execution_count": 82,
   "metadata": {},
   "outputs": [
    {
     "name": "stdout",
     "output_type": "stream",
     "text": [
      "ANR publicó en promedio 646 tweets por día\n"
     ]
    }
   ],
   "source": [
    "mean_tweets_anr = tweets_por_fecha[tweets_por_fecha['partido']=='anr']['count'].mean()\n",
    "print('ANR publicó en promedio {0} tweets por día'.format(int(mean_tweets_anr)))"
   ]
  },
  {
   "cell_type": "markdown",
   "metadata": {},
   "source": [
    "### PLRA"
   ]
  },
  {
   "cell_type": "code",
   "execution_count": 84,
   "metadata": {},
   "outputs": [
    {
     "name": "stdout",
     "output_type": "stream",
     "text": [
      "El PLRA publicó en promedio 736 tweets por día\n"
     ]
    }
   ],
   "source": [
    "mean_tweets_plra = tweets_por_fecha[tweets_por_fecha['partido']=='plra']['count'].mean()\n",
    "print('El PLRA publicó en promedio {0} tweets por día'.format(int(mean_tweets_plra)))"
   ]
  },
  {
   "cell_type": "markdown",
   "metadata": {},
   "source": [
    "## Partidos no tradicionales"
   ]
  },
  {
   "cell_type": "code",
   "execution_count": 85,
   "metadata": {},
   "outputs": [
    {
     "name": "stdout",
     "output_type": "stream",
     "text": [
      "El partido frente guazu publicó en promedio 151 tweets por día\n",
      "El partido patria querida publicó en promedio 109 tweets por día\n",
      "El partido hagamos publicó en promedio 57 tweets por día\n",
      "El partido pdp publicó en promedio 369 tweets por día\n",
      "El partido cruzada nacional publicó en promedio 56 tweets por día\n",
      "El partido unace publicó en promedio 47 tweets por día\n",
      "El partido pen publicó en promedio 180 tweets por día\n",
      "El partido pmas publicó en promedio 197 tweets por día\n",
      "El partido avancemos publicó en promedio 114 tweets por día\n"
     ]
    }
   ],
   "source": [
    "mean_tweets_fg = tweets_por_fecha[tweets_por_fecha['partido']=='frente guazu']['count'].mean()\n",
    "mean_tweets_ppq = tweets_por_fecha[tweets_por_fecha['partido']=='patria querida']['count'].mean()\n",
    "mean_tweets_hagamos = tweets_por_fecha[tweets_por_fecha['partido']=='hagamos']['count'].mean()\n",
    "mean_tweets_pdp = tweets_por_fecha[tweets_por_fecha['partido']=='pdp']['count'].mean()\n",
    "mean_tweets_cruzada = tweets_por_fecha[tweets_por_fecha['partido']=='cruzada nacional']['count'].mean()\n",
    "mean_tweets_unace = tweets_por_fecha[tweets_por_fecha['partido']=='unace']['count'].mean()\n",
    "mean_tweets_pen = tweets_por_fecha[tweets_por_fecha['partido']=='pen']['count'].mean()\n",
    "mean_tweets_pmas = tweets_por_fecha[tweets_por_fecha['partido']=='pmas']['count'].mean()\n",
    "mean_tweets_avancemos = tweets_por_fecha[tweets_por_fecha['partido']=='avancemos']['count'].mean()\n",
    "\n",
    "\n",
    "print('El partido frente guazu publicó en promedio {0} tweets por día'.format(int(mean_tweets_fg)))\n",
    "print('El partido patria querida publicó en promedio {0} tweets por día'.format(int(mean_tweets_ppq)))\n",
    "print('El partido hagamos publicó en promedio {0} tweets por día'.format(int(mean_tweets_hagamos)))\n",
    "print('El partido pdp publicó en promedio {0} tweets por día'.format(int(mean_tweets_pdp)))\n",
    "print('El partido cruzada nacional publicó en promedio {0} tweets por día'.format(int(mean_tweets_cruzada)))\n",
    "print('El partido unace publicó en promedio {0} tweets por día'.format(int(mean_tweets_unace)))\n",
    "print('El partido pen publicó en promedio {0} tweets por día'.format(int(mean_tweets_pen)))\n",
    "print('El partido pmas publicó en promedio {0} tweets por día'.format(int(mean_tweets_pmas)))\n",
    "print('El partido avancemos publicó en promedio {0} tweets por día'.format(int(mean_tweets_avancemos)))\n",
    "\n"
   ]
  },
  {
   "cell_type": "markdown",
   "metadata": {},
   "source": [
    "## Frecuencia de posteo"
   ]
  },
  {
   "cell_type": "code",
   "execution_count": 86,
   "metadata": {},
   "outputs": [],
   "source": [
    "fp = db.get_posting_frequency_in_seconds(**{})\n",
    "fp_df = pd.DataFrame(fp)"
   ]
  },
  {
   "cell_type": "code",
   "execution_count": 88,
   "metadata": {},
   "outputs": [
    {
     "name": "stdout",
     "output_type": "stream",
     "text": [
      "En promedio se publicaron tweets relacionados a las elecciones generales 0.0 segundos\n"
     ]
    }
   ],
   "source": [
    "print('En promedio se publicaron tweets relacionados a las elecciones generales {0} segundos'.\n",
    "      format(round(fp_df['diff_with_previous'].mean(), 2)))"
   ]
  },
  {
   "cell_type": "markdown",
   "metadata": {},
   "source": [
    "### ANR"
   ]
  },
  {
   "cell_type": "code",
   "execution_count": 89,
   "metadata": {},
   "outputs": [],
   "source": [
    "fp_anr = db.get_posting_frequency_in_seconds(**{'partido': 'anr'})\n",
    "fp_anr_df = pd.DataFrame(fp_anr)"
   ]
  },
  {
   "cell_type": "code",
   "execution_count": 93,
   "metadata": {},
   "outputs": [
    {
     "name": "stdout",
     "output_type": "stream",
     "text": [
      "En promedio se publicaron tweets relacionados al Partido ANR cada 0.0 segundos\n"
     ]
    }
   ],
   "source": [
    "print('En promedio se publicaron tweets relacionados al Partido ANR cada {0} segundos'.\n",
    "      format(round(fp_anr_df['diff_with_previous'].mean(), 2)))"
   ]
  },
  {
   "cell_type": "markdown",
   "metadata": {},
   "source": [
    "### PLRA"
   ]
  },
  {
   "cell_type": "code",
   "execution_count": 92,
   "metadata": {},
   "outputs": [],
   "source": [
    "fp_plra = db.get_posting_frequency_in_seconds(**{'partido': 'plra'})\n",
    "fp_plra_df = pd.DataFrame(fp_plra)"
   ]
  },
  {
   "cell_type": "code",
   "execution_count": null,
   "metadata": {},
   "outputs": [],
   "source": [
    "print('En promedio se publicaron tweets relacionados al partido PLRA cada {0} segundos'.\n",
    "      format(round(fp_ca_df['diff_with_previous'].mean(), 2)))"
   ]
  },
  {
   "cell_type": "markdown",
   "metadata": {},
   "source": [
    "### Third Space"
   ]
  },
  {
   "cell_type": "code",
   "execution_count": null,
   "metadata": {},
   "outputs": [],
   "source": []
  },
  {
   "cell_type": "code",
   "execution_count": null,
   "metadata": {},
   "outputs": [],
   "source": []
  },
  {
   "cell_type": "markdown",
   "metadata": {},
   "source": [
    "## Distribución de tweets por hora el día D (17/12/17)"
   ]
  },
  {
   "cell_type": "code",
   "execution_count": 9,
   "metadata": {
    "collapsed": true
   },
   "outputs": [],
   "source": [
    "# get tweets by hour by movement\n",
    "hc_tw_by_hour = db.get_tweets_by_hour('12/17/17', **{'partido': 'anr','movimiento': 'honor colorado'})\n",
    "ca_tw_by_hour = db.get_tweets_by_hour('12/17/17', **{'partido': 'anr','movimiento': 'colorado añetete'})\n",
    "# convert list to pandas' dataframe\n",
    "tweets_by_hour = pd.DataFrame(hc_tw_by_hour)\n",
    "tweets_by_hour = tweets_by_hour.append(pd.DataFrame(ca_tw_by_hour))"
   ]
  },
  {
   "cell_type": "code",
   "execution_count": 10,
   "metadata": {},
   "outputs": [
    {
     "data": {
      "image/png": "[encoded data removed]",
      "text/plain": [
       "<matplotlib.figure.Figure at 0x121f2c668>"
      ]
     },
     "metadata": {
      "needs_background": "light"
     },
     "output_type": "display_data"
    }
   ],
   "source": [
    "# set figure size\n",
    "plt.figure(figsize=(12,6))\n",
    "# draw and show the figure\n",
    "fig = sns.lineplot(x='hour', y='count', data=tweets_by_hour, hue=\"movimiento\", \n",
    "                    palette=\"Reds_d\")\n",
    "fig.set(xlabel='Hora', ylabel='Tweets')\n",
    "for item in fig.get_xticklabels():\n",
    "    item.set_rotation(90)\n",
    "plt.show()"
   ]
  },
  {
   "cell_type": "markdown",
   "metadata": {},
   "source": [
    "La cantidad de tweets con información relacionada a **`Honor Colorado`** fue superior durante toda la jornada electoral con respecto a los tweets de **`Colorado Añeteté`**, inclusive aún después de la proclamación del TREP (20 hs)"
   ]
  },
  {
   "cell_type": "markdown",
   "metadata": {},
   "source": [
    "## Distribución de tweets por candidato"
   ]
  },
  {
   "cell_type": "markdown",
   "metadata": {},
   "source": [
    "Para esta parte del análisis solo se tuvieron en cuenta los tweets que contienen hashtags utilizados exclusivamente para promocionar las **candidaturas** presidenciales, no los **movimientos** o **partidos**. Por ejemplo, los hashtags **`#JuntosPodemosMas`** o **`#CaminandoJuntos`** son hashtags vinculados principalmente a la figura de Santiago Peña no así el hashtag **`#HonorColorado`** que se utiliza para referirse al movimiento partidario pero no necesariamente la candidatura de Peña. De igual manera, los hashtags **`#MaritoDeLaGente`** o **`ParaguayDeLaGente`** fueron usados para promocionar la campaña de Mario Abdo, no necesariamente las candidatura del movimiento Colorado Añeteté al que pertenece.\n",
    "\n",
    "Los tweets publicados por las cuentas personales de los candidatos no son tenidos en cuenta en este análisis."
   ]
  },
  {
   "cell_type": "markdown",
   "metadata": {},
   "source": [
    "### Santiago Peña"
   ]
  },
  {
   "cell_type": "markdown",
   "metadata": {},
   "source": [
    "Hashtags de ejemplo: **`#JuntosPodemosMas`**, **`#CaminandoJuntos`**, **`#SantiPresidente`**, **`#VotoxSanti`**, **`#SigamosConversando`**"
   ]
  },
  {
   "cell_type": "code",
   "execution_count": 103,
   "metadata": {},
   "outputs": [
    {
     "name": "stdout",
     "output_type": "stream",
     "text": [
      "Se publicaron 58282 tweets que utilizaron hashtags vinculados a la candidatura de Santiago Peña (67.58% del total de los tweets de Honor Colorado)\n"
     ]
    }
   ],
   "source": [
    "tweets_sp = db.search({'flag.candidatura.santiago peña': {'$gt': 0},\n",
    "                       'flag.candidatura.mario abdo': {'$eq': 0},\n",
    "                       'flag.movimiento.colorado añetete': {'$eq': 0},\n",
    "                       'tweet_obj.user.screen_name': {'$ne': 'SantiPenap'}})\n",
    "per_tweet_sp = round((tweets_sp.count()/tweets_hc.count())*100,2)\n",
    "print('Se publicaron {0} tweets que utilizaron hashtags vinculados a la candidatura de Santiago Peña ' \\\n",
    "      '({1}% del total de los tweets de Honor Colorado)'.\n",
    "      format(tweets_sp.count(), per_tweet_sp))"
   ]
  },
  {
   "cell_type": "markdown",
   "metadata": {},
   "source": [
    "### Mario Abdo Benítez"
   ]
  },
  {
   "cell_type": "markdown",
   "metadata": {},
   "source": [
    "Hashtags de ejemplo: **`#MaritoDeLaGente`**, **`#ParaguayDeLaGente`**, **`#MaritoImparable`**, **`#MaritoPresidente`**, **`#1000KmConLaGente`**"
   ]
  },
  {
   "cell_type": "code",
   "execution_count": 104,
   "metadata": {
    "scrolled": true
   },
   "outputs": [
    {
     "name": "stdout",
     "output_type": "stream",
     "text": [
      "Se publicaron 46275 tweets que utilizaron hashtags vinculados a la candidatura de Mario Abdo (98.96% del total de los tweets de Colorado Añeteté)\n"
     ]
    }
   ],
   "source": [
    "tweets_ma = db.search({'flag.candidatura.santiago peña': {'$eq': 0},\n",
    "                       'flag.candidatura.mario abdo': {'$gt': 0},\n",
    "                       'flag.movimiento.honor colorado': {'$eq': 0},\n",
    "                       'tweet_obj.user.screen_name': {'$ne': 'maritoabdo'}})\n",
    "per_tweet_ma = round((tweets_ma.count()/tweets_ca.count())*100,2)\n",
    "print('Se publicaron {0} tweets que utilizaron hashtags vinculados a la candidatura de Mario Abdo ' \\\n",
    "      '({1}% del total de los tweets de Colorado Añeteté)'.\n",
    "      format(tweets_ma.count(), per_tweet_ma))"
   ]
  },
  {
   "cell_type": "markdown",
   "metadata": {},
   "source": [
    "### Tweets sobre candidatos sobre el total de su movimiento"
   ]
  },
  {
   "cell_type": "code",
   "execution_count": 118,
   "metadata": {},
   "outputs": [
    {
     "data": {
      "image/png": "[encoded data removed]",
      "text/plain": [
       "<matplotlib.figure.Figure at 0x114a53978>"
      ]
     },
     "metadata": {
      "needs_background": "light"
     },
     "output_type": "display_data"
    }
   ],
   "source": [
    "tweets_por_candidato_anr = pd.DataFrame({\n",
    "    'Candidato': ['Santiago Peña', 'Mario Abdo'],\n",
    "    '% tweets sobre total mov': [per_tweet_sp,per_tweet_ma]\n",
    "}, index=['sp', 'ma'])\n",
    "fig = sns.barplot(x='Candidato', y='% tweets sobre total mov', data=tweets_por_candidato_anr, \n",
    "                  order=['Mario Abdo', 'Santiago Peña'], palette=\"Reds_d\")\n",
    "ax=fig\n",
    "#annotate axis = seaborn axis\n",
    "for p in ax.patches:\n",
    "    ax.annotate(\"{0}%\".format(p.get_height()), (p.get_x() + p.get_width() / 2., p.get_height()),\n",
    "                 ha='center', va='center', fontsize=12, color='black', xytext=(0, 10),\n",
    "                 textcoords='offset points')\n",
    "_ = fig.set_ylim(0,110) #To make space for the annotations\n",
    "plt.show()"
   ]
  },
  {
   "cell_type": "markdown",
   "metadata": {},
   "source": [
    "## Tonalidad de Tweets"
   ]
  },
  {
   "cell_type": "markdown",
   "metadata": {},
   "source": [
    "En este análisis se consideran solo tweets originales, replies, y quotes. Los retweets son descartados."
   ]
  },
  {
   "cell_type": "code",
   "execution_count": 3,
   "metadata": {
    "collapsed": true
   },
   "outputs": [],
   "source": [
    "st = db.get_sentiment_tweets(**{'partido': 'anr'})\n",
    "st_dict = {\n",
    "    'Tono': [],\n",
    "    'Tweets': []\n",
    "}\n",
    "for sen in st:\n",
    "    if sen['sentiment'] == 'positive':\n",
    "        st_dict['Tono'].append('Positivo')\n",
    "    elif sen['sentiment'] == 'negative':\n",
    "        st_dict['Tono'].append('Negativo')\n",
    "    else:\n",
    "        st_dict['Tono'].append('Neutral')\n",
    "    st_dict['Tweets'].append(sen['count'])\n",
    "st_df = pd.DataFrame(st_dict)"
   ]
  },
  {
   "cell_type": "code",
   "execution_count": 4,
   "metadata": {},
   "outputs": [
    {
     "data": {
      "image/png": "[encoded data removed]",
      "text/plain": [
       "<matplotlib.figure.Figure at 0x11e8c2978>"
      ]
     },
     "metadata": {
      "needs_background": "light"
     },
     "output_type": "display_data"
    }
   ],
   "source": [
    "fig = sns.barplot(x='Tono', y='Tweets', data=st_df, \n",
    "                  order=['Positivo', 'Neutral', 'Negativo'],\n",
    "                  palette=['green','gray', 'red'])\n",
    "ax=fig\n",
    "#annotate axis = seaborn axis\n",
    "for p in ax.patches:\n",
    "    ax.annotate(\"%d\" % p.get_height(), (p.get_x() + p.get_width() / 2., p.get_height()),\n",
    "                 ha='center', va='center', fontsize=12, color='black', xytext=(0, 10),\n",
    "                 textcoords='offset points')\n",
    "_ = fig.set_ylim(0,30000) #To make space for the annotations\n",
    "plt.show()"
   ]
  },
  {
   "cell_type": "markdown",
   "metadata": {},
   "source": [
    "### Honor Colorado"
   ]
  },
  {
   "cell_type": "code",
   "execution_count": 5,
   "metadata": {
    "collapsed": true
   },
   "outputs": [],
   "source": [
    "st = db.get_sentiment_tweets(**{'partido': 'anr', 'movimiento': 'honor colorado'})\n",
    "st_dict = {\n",
    "    'Tono': [],\n",
    "    'Tweets': []\n",
    "}\n",
    "for sen in st:\n",
    "    if sen['sentiment'] == 'positive':\n",
    "        st_dict['Tono'].append('Positivo')\n",
    "    elif sen['sentiment'] == 'negative':\n",
    "        st_dict['Tono'].append('Negativo')\n",
    "    else:\n",
    "        st_dict['Tono'].append('Neutral')\n",
    "    st_dict['Tweets'].append(sen['count'])\n",
    "st_df_hc = pd.DataFrame(st_dict)"
   ]
  },
  {
   "cell_type": "code",
   "execution_count": 6,
   "metadata": {},
   "outputs": [
    {
     "data": {
      "image/png": "[encoded data removed]",
      "text/plain": [
       "<matplotlib.figure.Figure at 0x11e8cde10>"
      ]
     },
     "metadata": {
      "needs_background": "light"
     },
     "output_type": "display_data"
    }
   ],
   "source": [
    "fig = sns.barplot(x='Tono', y='Tweets', data=st_df_hc, \n",
    "                  order=['Positivo', 'Neutral', 'Negativo'],\n",
    "                  palette=['green','gray', 'red'])\n",
    "ax=fig\n",
    "#annotate axis = seaborn axis\n",
    "for p in ax.patches:\n",
    "    ax.annotate(\"%d\" % p.get_height(), (p.get_x() + p.get_width() / 2., p.get_height()),\n",
    "                 ha='center', va='center', fontsize=12, color='black', xytext=(0, 10),\n",
    "                 textcoords='offset points')\n",
    "_ = fig.set_ylim(0,21000) #To make space for the annotations\n",
    "plt.show()"
   ]
  },
  {
   "cell_type": "code",
   "execution_count": 7,
   "metadata": {},
   "outputs": [
    {
     "name": "stdout",
     "output_type": "stream",
     "text": [
      "Tweets Positivos: 31.6%\n",
      "Tweets Negativos: 17.4%\n",
      "Tweets Neutrales: 51.0%\n"
     ]
    }
   ],
   "source": [
    "total = sum(st_df_hc['Tweets'])\n",
    "positive = int(st_df_hc[st_df_hc['Tono'] == 'Positivo']['Tweets'])\n",
    "negative = int(st_df_hc[st_df_hc['Tono'] == 'Negativo']['Tweets'])\n",
    "neutral = int(st_df_hc[st_df_hc['Tono'] == 'Neutral']['Tweets'])\n",
    "print('Tweets Positivos: {0}%'.format(round(100*positive/total, 1)))\n",
    "print('Tweets Negativos: {0}%'.format(round(100*negative/total, 1)))\n",
    "print('Tweets Neutrales: {0}%'.format(round(100*neutral/total, 1)))"
   ]
  },
  {
   "cell_type": "markdown",
   "metadata": {},
   "source": [
    "#### Tweets Originales"
   ]
  },
  {
   "cell_type": "code",
   "execution_count": 8,
   "metadata": {
    "collapsed": true
   },
   "outputs": [],
   "source": [
    "st = db.get_sentiment_tweets(type_query='original', **{'partido': 'anr', 'movimiento': 'honor colorado'})\n",
    "st_dict = {\n",
    "    'Tono': [],\n",
    "    'Tweets': []\n",
    "}\n",
    "for sen in st:\n",
    "    if sen['sentiment'] == 'positive':\n",
    "        st_dict['Tono'].append('Positivo')\n",
    "    elif sen['sentiment'] == 'negative':\n",
    "        st_dict['Tono'].append('Negativo')\n",
    "    else:\n",
    "        st_dict['Tono'].append('Neutral')\n",
    "    st_dict['Tweets'].append(sen['count'])\n",
    "st_df_hc = pd.DataFrame(st_dict)"
   ]
  },
  {
   "cell_type": "code",
   "execution_count": 11,
   "metadata": {},
   "outputs": [
    {
     "data": {
      "image/png": "[encoded data removed]",
      "text/plain": [
       "<matplotlib.figure.Figure at 0x11e8cdc88>"
      ]
     },
     "metadata": {
      "needs_background": "light"
     },
     "output_type": "display_data"
    }
   ],
   "source": [
    "fig = sns.barplot(x='Tono', y='Tweets', data=st_df_hc, \n",
    "                  order=['Positivo', 'Neutral', 'Negativo'],\n",
    "                  palette=['green','gray', 'red'])\n",
    "ax=fig\n",
    "#annotate axis = seaborn axis\n",
    "for p in ax.patches:\n",
    "    ax.annotate(\"%d\" % p.get_height(), (p.get_x() + p.get_width() / 2., p.get_height()),\n",
    "                 ha='center', va='center', fontsize=12, color='black', xytext=(0, 10),\n",
    "                 textcoords='offset points')\n",
    "_ = fig.set_ylim(0,3500) #To make space for the annotations\n",
    "plt.show()"
   ]
  },
  {
   "cell_type": "code",
   "execution_count": 12,
   "metadata": {},
   "outputs": [
    {
     "name": "stdout",
     "output_type": "stream",
     "text": [
      "Tweets Positivos: 40.7%\n",
      "Tweets Negativos: 15.6%\n",
      "Tweets Neutrales: 43.7%\n"
     ]
    }
   ],
   "source": [
    "total = sum(st_df_hc['Tweets'])\n",
    "positive = int(st_df_hc[st_df_hc['Tono'] == 'Positivo']['Tweets'])\n",
    "negative = int(st_df_hc[st_df_hc['Tono'] == 'Negativo']['Tweets'])\n",
    "neutral = int(st_df_hc[st_df_hc['Tono'] == 'Neutral']['Tweets'])\n",
    "print('Tweets Positivos: {0}%'.format(round(100*positive/total, 1)))\n",
    "print('Tweets Negativos: {0}%'.format(round(100*negative/total, 1)))\n",
    "print('Tweets Neutrales: {0}%'.format(round(100*neutral/total, 1)))"
   ]
  },
  {
   "cell_type": "markdown",
   "metadata": {},
   "source": [
    "#### Replies"
   ]
  },
  {
   "cell_type": "code",
   "execution_count": 13,
   "metadata": {
    "collapsed": true
   },
   "outputs": [],
   "source": [
    "st = db.get_sentiment_tweets(type_query='replies', **{'partido': 'anr', 'movimiento': 'honor colorado'})\n",
    "st_dict = {\n",
    "    'Tono': [],\n",
    "    'Tweets': []\n",
    "}\n",
    "for sen in st:\n",
    "    if sen['sentiment'] == 'positive':\n",
    "        st_dict['Tono'].append('Positivo')\n",
    "    elif sen['sentiment'] == 'negative':\n",
    "        st_dict['Tono'].append('Negativo')\n",
    "    else:\n",
    "        st_dict['Tono'].append('Neutral')\n",
    "    st_dict['Tweets'].append(sen['count'])\n",
    "st_df_hc = pd.DataFrame(st_dict)"
   ]
  },
  {
   "cell_type": "code",
   "execution_count": 16,
   "metadata": {},
   "outputs": [
    {
     "data": {
      "image/png": "[encoded data removed]",
      "text/plain": [
       "<matplotlib.figure.Figure at 0x11f359dd8>"
      ]
     },
     "metadata": {
      "needs_background": "light"
     },
     "output_type": "display_data"
    }
   ],
   "source": [
    "fig = sns.barplot(x='Tono', y='Tweets', data=st_df_hc, \n",
    "                  order=['Positivo', 'Neutral', 'Negativo'],\n",
    "                  palette=['green','gray', 'red'])\n",
    "ax=fig\n",
    "#annotate axis = seaborn axis\n",
    "for p in ax.patches:\n",
    "    ax.annotate(\"%d\" % p.get_height(), (p.get_x() + p.get_width() / 2., p.get_height()),\n",
    "                 ha='center', va='center', fontsize=12, color='black', xytext=(0, 10),\n",
    "                 textcoords='offset points')\n",
    "_ = fig.set_ylim(0,15000) #To make space for the annotations\n",
    "plt.show()"
   ]
  },
  {
   "cell_type": "code",
   "execution_count": 17,
   "metadata": {},
   "outputs": [
    {
     "name": "stdout",
     "output_type": "stream",
     "text": [
      "Tweets Positivos: 29.0%\n",
      "Tweets Negativos: 18.2%\n",
      "Tweets Neutrales: 52.8%\n"
     ]
    }
   ],
   "source": [
    "total = sum(st_df_hc['Tweets'])\n",
    "positive = int(st_df_hc[st_df_hc['Tono'] == 'Positivo']['Tweets'])\n",
    "negative = int(st_df_hc[st_df_hc['Tono'] == 'Negativo']['Tweets'])\n",
    "neutral = int(st_df_hc[st_df_hc['Tono'] == 'Neutral']['Tweets'])\n",
    "print('Tweets Positivos: {0}%'.format(round(100*positive/total, 1)))\n",
    "print('Tweets Negativos: {0}%'.format(round(100*negative/total, 1)))\n",
    "print('Tweets Neutrales: {0}%'.format(round(100*neutral/total, 1)))"
   ]
  },
  {
   "cell_type": "markdown",
   "metadata": {},
   "source": [
    "#### Quotes"
   ]
  },
  {
   "cell_type": "code",
   "execution_count": 18,
   "metadata": {
    "collapsed": true
   },
   "outputs": [],
   "source": [
    "st = db.get_sentiment_tweets(type_query='quotes', **{'partido': 'anr', 'movimiento': 'honor colorado'})\n",
    "st_dict = {\n",
    "    'Tono': [],\n",
    "    'Tweets': []\n",
    "}\n",
    "for sen in st:\n",
    "    if sen['sentiment'] == 'positive':\n",
    "        st_dict['Tono'].append('Positivo')\n",
    "    elif sen['sentiment'] == 'negative':\n",
    "        st_dict['Tono'].append('Negativo')\n",
    "    else:\n",
    "        st_dict['Tono'].append('Neutral')\n",
    "    st_dict['Tweets'].append(sen['count'])\n",
    "st_df_hc = pd.DataFrame(st_dict)"
   ]
  },
  {
   "cell_type": "code",
   "execution_count": 22,
   "metadata": {},
   "outputs": [
    {
     "data": {
      "image/png": "[encoded data removed]",
      "text/plain": [
       "<matplotlib.figure.Figure at 0x10d280f28>"
      ]
     },
     "metadata": {
      "needs_background": "light"
     },
     "output_type": "display_data"
    }
   ],
   "source": [
    "fig = sns.barplot(x='Tono', y='Tweets', data=st_df_hc, \n",
    "                  order=['Positivo', 'Neutral', 'Negativo'],\n",
    "                  palette=['green','gray', 'red'])\n",
    "ax=fig\n",
    "#annotate axis = seaborn axis\n",
    "for p in ax.patches:\n",
    "    ax.annotate(\"%d\" % p.get_height(), (p.get_x() + p.get_width() / 2., p.get_height()),\n",
    "                 ha='center', va='center', fontsize=12, color='black', xytext=(0, 10),\n",
    "                 textcoords='offset points')\n",
    "_ = fig.set_ylim(0,2300) #To make space for the annotations\n",
    "plt.show()"
   ]
  },
  {
   "cell_type": "code",
   "execution_count": 23,
   "metadata": {},
   "outputs": [
    {
     "name": "stdout",
     "output_type": "stream",
     "text": [
      "Tweets Positivos: 33.7%\n",
      "Tweets Negativos: 15.0%\n",
      "Tweets Neutrales: 51.3%\n"
     ]
    }
   ],
   "source": [
    "total = sum(st_df_hc['Tweets'])\n",
    "positive = int(st_df_hc[st_df_hc['Tono'] == 'Positivo']['Tweets'])\n",
    "negative = int(st_df_hc[st_df_hc['Tono'] == 'Negativo']['Tweets'])\n",
    "neutral = int(st_df_hc[st_df_hc['Tono'] == 'Neutral']['Tweets'])\n",
    "print('Tweets Positivos: {0}%'.format(round(100*positive/total, 1)))\n",
    "print('Tweets Negativos: {0}%'.format(round(100*negative/total, 1)))\n",
    "print('Tweets Neutrales: {0}%'.format(round(100*neutral/total, 1)))"
   ]
  },
  {
   "cell_type": "markdown",
   "metadata": {},
   "source": [
    "### Colorado Añeteté"
   ]
  },
  {
   "cell_type": "code",
   "execution_count": 44,
   "metadata": {
    "collapsed": true
   },
   "outputs": [],
   "source": [
    "st = db.get_sentiment_tweets(**{'partido': 'anr', 'movimiento': 'colorado añetete'})\n",
    "st_dict = {\n",
    "    'Tono': [],\n",
    "    'Tweets': []\n",
    "}\n",
    "for sen in st:\n",
    "    if sen['sentiment'] == 'positive':\n",
    "        st_dict['Tono'].append('Positivo')\n",
    "    elif sen['sentiment'] == 'negative':\n",
    "        st_dict['Tono'].append('Negativo')\n",
    "    else:\n",
    "        st_dict['Tono'].append('Neutral')\n",
    "    st_dict['Tweets'].append(sen['count'])\n",
    "st_df_ca = pd.DataFrame(st_dict)"
   ]
  },
  {
   "cell_type": "code",
   "execution_count": 45,
   "metadata": {},
   "outputs": [
    {
     "data": {
      "image/png": "[encoded data removed]",
      "text/plain": [
       "<matplotlib.figure.Figure at 0x3d8ec6c88>"
      ]
     },
     "metadata": {
      "needs_background": "light"
     },
     "output_type": "display_data"
    }
   ],
   "source": [
    "fig = sns.barplot(x='Tono', y='Tweets', data=st_df_ca, \n",
    "                  order=['Positivo', 'Neutral', 'Negativo'],\n",
    "                  palette=['green','gray', 'red'])\n",
    "ax=fig\n",
    "#annotate axis = seaborn axis\n",
    "for p in ax.patches:\n",
    "    ax.annotate(\"%d\" % p.get_height(), (p.get_x() + p.get_width() / 2., p.get_height()),\n",
    "                 ha='center', va='center', fontsize=12, color='black', xytext=(0, 10),\n",
    "                 textcoords='offset points')\n",
    "_ = fig.set_ylim(0,12000) #To make space for the annotations\n",
    "plt.show()"
   ]
  },
  {
   "cell_type": "code",
   "execution_count": 59,
   "metadata": {},
   "outputs": [
    {
     "name": "stdout",
     "output_type": "stream",
     "text": [
      "Tweets Positivos: 35.1%\n",
      "Tweets Negativos: 14.6%\n",
      "Tweets Neutrales: 50.3%\n"
     ]
    }
   ],
   "source": [
    "total = sum(st_df_ca['Tweets'])\n",
    "positive = int(st_df_ca[st_df_ca['Tono'] == 'Positivo']['Tweets'])\n",
    "negative = int(st_df_ca[st_df_ca['Tono'] == 'Negativo']['Tweets'])\n",
    "neutral = int(st_df_ca[st_df_ca['Tono'] == 'Neutral']['Tweets'])\n",
    "print('Tweets Positivos: {0}%'.format(round(100*positive/total, 1)))\n",
    "print('Tweets Negativos: {0}%'.format(round(100*negative/total, 1)))\n",
    "print('Tweets Neutrales: {0}%'.format(round(100*neutral/total, 1)))"
   ]
  },
  {
   "cell_type": "markdown",
   "metadata": {},
   "source": [
    "#### Tweets Originales"
   ]
  },
  {
   "cell_type": "code",
   "execution_count": 30,
   "metadata": {
    "collapsed": true
   },
   "outputs": [],
   "source": [
    "st = db.get_sentiment_tweets(type_query = 'original', **{'partido': 'anr', 'movimiento': 'colorado añetete'})\n",
    "st_dict = {\n",
    "    'Tono': [],\n",
    "    'Tweets': []\n",
    "}\n",
    "for sen in st:\n",
    "    if sen['sentiment'] == 'positive':\n",
    "        st_dict['Tono'].append('Positivo')\n",
    "    elif sen['sentiment'] == 'negative':\n",
    "        st_dict['Tono'].append('Negativo')\n",
    "    else:\n",
    "        st_dict['Tono'].append('Neutral')\n",
    "    st_dict['Tweets'].append(sen['count'])\n",
    "st_df_ca = pd.DataFrame(st_dict)"
   ]
  },
  {
   "cell_type": "code",
   "execution_count": 34,
   "metadata": {},
   "outputs": [
    {
     "data": {
      "image/png": "[encoded data removed]",
      "text/plain": [
       "<matplotlib.figure.Figure at 0x11f946b00>"
      ]
     },
     "metadata": {
      "needs_background": "light"
     },
     "output_type": "display_data"
    }
   ],
   "source": [
    "fig = sns.barplot(x='Tono', y='Tweets', data=st_df_ca, \n",
    "                  order=['Positivo', 'Neutral', 'Negativo'],\n",
    "                  palette=['green','gray', 'red'])\n",
    "ax=fig\n",
    "#annotate axis = seaborn axis\n",
    "for p in ax.patches:\n",
    "    ax.annotate(\"%d\" % p.get_height(), (p.get_x() + p.get_width() / 2., p.get_height()),\n",
    "                 ha='center', va='center', fontsize=12, color='black', xytext=(0, 10),\n",
    "                 textcoords='offset points')\n",
    "_ = fig.set_ylim(0,2800) #To make space for the annotations\n",
    "plt.show()"
   ]
  },
  {
   "cell_type": "code",
   "execution_count": 35,
   "metadata": {},
   "outputs": [
    {
     "name": "stdout",
     "output_type": "stream",
     "text": [
      "Tweets Positivos: 43.5%\n",
      "Tweets Negativos: 14.0%\n",
      "Tweets Neutrales: 42.5%\n"
     ]
    }
   ],
   "source": [
    "total = sum(st_df_ca['Tweets'])\n",
    "positive = int(st_df_ca[st_df_ca['Tono'] == 'Positivo']['Tweets'])\n",
    "negative = int(st_df_ca[st_df_ca['Tono'] == 'Negativo']['Tweets'])\n",
    "neutral = int(st_df_ca[st_df_ca['Tono'] == 'Neutral']['Tweets'])\n",
    "print('Tweets Positivos: {0}%'.format(round(100*positive/total, 1)))\n",
    "print('Tweets Negativos: {0}%'.format(round(100*negative/total, 1)))\n",
    "print('Tweets Neutrales: {0}%'.format(round(100*neutral/total, 1)))"
   ]
  },
  {
   "cell_type": "markdown",
   "metadata": {},
   "source": [
    "#### Replies"
   ]
  },
  {
   "cell_type": "code",
   "execution_count": 36,
   "metadata": {
    "collapsed": true
   },
   "outputs": [],
   "source": [
    "st = db.get_sentiment_tweets(type_query = 'replies', **{'partido': 'anr', 'movimiento': 'colorado añetete'})\n",
    "st_dict = {\n",
    "    'Tono': [],\n",
    "    'Tweets': []\n",
    "}\n",
    "for sen in st:\n",
    "    if sen['sentiment'] == 'positive':\n",
    "        st_dict['Tono'].append('Positivo')\n",
    "    elif sen['sentiment'] == 'negative':\n",
    "        st_dict['Tono'].append('Negativo')\n",
    "    else:\n",
    "        st_dict['Tono'].append('Neutral')\n",
    "    st_dict['Tweets'].append(sen['count'])\n",
    "st_df_ca = pd.DataFrame(st_dict)"
   ]
  },
  {
   "cell_type": "code",
   "execution_count": 42,
   "metadata": {},
   "outputs": [
    {
     "data": {
      "image/png": "[encoded data removed]",
      "text/plain": [
       "<matplotlib.figure.Figure at 0x11f344390>"
      ]
     },
     "metadata": {
      "needs_background": "light"
     },
     "output_type": "display_data"
    }
   ],
   "source": [
    "fig = sns.barplot(x='Tono', y='Tweets', data=st_df_ca, \n",
    "                  order=['Positivo', 'Neutral', 'Negativo'],\n",
    "                  palette=['green','gray', 'red'])\n",
    "ax=fig\n",
    "#annotate axis = seaborn axis\n",
    "for p in ax.patches:\n",
    "    ax.annotate(\"%d\" % p.get_height(), (p.get_x() + p.get_width() / 2., p.get_height()),\n",
    "                 ha='center', va='center', fontsize=12, color='black', xytext=(0, 10),\n",
    "                 textcoords='offset points')\n",
    "_ = fig.set_ylim(0,8400) #To make space for the annotations\n",
    "plt.show()"
   ]
  },
  {
   "cell_type": "code",
   "execution_count": 43,
   "metadata": {},
   "outputs": [
    {
     "name": "stdout",
     "output_type": "stream",
     "text": [
      "Tweets Positivos: 30.3%\n",
      "Tweets Negativos: 15.5%\n",
      "Tweets Neutrales: 54.3%\n"
     ]
    }
   ],
   "source": [
    "total = sum(st_df_ca['Tweets'])\n",
    "positive = int(st_df_ca[st_df_ca['Tono'] == 'Positivo']['Tweets'])\n",
    "negative = int(st_df_ca[st_df_ca['Tono'] == 'Negativo']['Tweets'])\n",
    "neutral = int(st_df_ca[st_df_ca['Tono'] == 'Neutral']['Tweets'])\n",
    "print('Tweets Positivos: {0}%'.format(round(100*positive/total, 1)))\n",
    "print('Tweets Negativos: {0}%'.format(round(100*negative/total, 1)))\n",
    "print('Tweets Neutrales: {0}%'.format(round(100*neutral/total, 1)))"
   ]
  },
  {
   "cell_type": "markdown",
   "metadata": {},
   "source": [
    "#### Quotes"
   ]
  },
  {
   "cell_type": "code",
   "execution_count": 44,
   "metadata": {
    "collapsed": true
   },
   "outputs": [],
   "source": [
    "st = db.get_sentiment_tweets(type_query = 'quotes', **{'partido': 'anr', 'movimiento': 'colorado añetete'})\n",
    "st_dict = {\n",
    "    'Tono': [],\n",
    "    'Tweets': []\n",
    "}\n",
    "for sen in st:\n",
    "    if sen['sentiment'] == 'positive':\n",
    "        st_dict['Tono'].append('Positivo')\n",
    "    elif sen['sentiment'] == 'negative':\n",
    "        st_dict['Tono'].append('Negativo')\n",
    "    else:\n",
    "        st_dict['Tono'].append('Neutral')\n",
    "    st_dict['Tweets'].append(sen['count'])\n",
    "st_df_ca = pd.DataFrame(st_dict)"
   ]
  },
  {
   "cell_type": "code",
   "execution_count": 50,
   "metadata": {},
   "outputs": [
    {
     "data": {
      "image/png": "[encoded data removed]",
      "text/plain": [
       "<matplotlib.figure.Figure at 0x11b5691d0>"
      ]
     },
     "metadata": {
      "needs_background": "light"
     },
     "output_type": "display_data"
    }
   ],
   "source": [
    "fig = sns.barplot(x='Tono', y='Tweets', data=st_df_ca, \n",
    "                  order=['Positivo', 'Neutral', 'Negativo'],\n",
    "                  palette=['green','gray', 'red'])\n",
    "ax=fig\n",
    "#annotate axis = seaborn axis\n",
    "for p in ax.patches:\n",
    "    ax.annotate(\"%d\" % p.get_height(), (p.get_x() + p.get_width() / 2., p.get_height()),\n",
    "                 ha='center', va='center', fontsize=12, color='black', xytext=(0, 10),\n",
    "                 textcoords='offset points')\n",
    "_ = fig.set_ylim(0,950) #To make space for the annotations\n",
    "plt.show()"
   ]
  },
  {
   "cell_type": "code",
   "execution_count": 47,
   "metadata": {},
   "outputs": [
    {
     "name": "stdout",
     "output_type": "stream",
     "text": [
      "Tweets Positivos: 46.9%\n",
      "Tweets Negativos: 9.9%\n",
      "Tweets Neutrales: 43.2%\n"
     ]
    }
   ],
   "source": [
    "total = sum(st_df_ca['Tweets'])\n",
    "positive = int(st_df_ca[st_df_ca['Tono'] == 'Positivo']['Tweets'])\n",
    "negative = int(st_df_ca[st_df_ca['Tono'] == 'Negativo']['Tweets'])\n",
    "neutral = int(st_df_ca[st_df_ca['Tono'] == 'Neutral']['Tweets'])\n",
    "print('Tweets Positivos: {0}%'.format(round(100*positive/total, 1)))\n",
    "print('Tweets Negativos: {0}%'.format(round(100*negative/total, 1)))\n",
    "print('Tweets Neutrales: {0}%'.format(round(100*neutral/total, 1)))"
   ]
  },
  {
   "cell_type": "markdown",
   "metadata": {},
   "source": [
    "La distribución de tweets por tonalidad es bastante similar en ambos movimientos. Los resultados se mantienen aún dividiendo el análisis por tipo de tweet: original, reply, quote. Un aspecto interesante es que la distribución de tonalidades es ligeramente diferente para el movimiento **`Colorado Añeteté`** en cuanto a tweets originales y quotes, donde los tweets positivos sobre pasan a los neutrales."
   ]
  },
  {
   "cell_type": "markdown",
   "metadata": {},
   "source": [
    "## Distribución de Tweets por contenido"
   ]
  },
  {
   "cell_type": "markdown",
   "metadata": {},
   "source": [
    "En este análisis se consideran solo tweets originales, replies, y quotes. Los retweets son descartados."
   ]
  },
  {
   "cell_type": "code",
   "execution_count": 10,
   "metadata": {
    "collapsed": true
   },
   "outputs": [],
   "source": [
    "tot_tweets_anr_no_rt = len(original_tweets) + len(replies) + len(quotes)"
   ]
  },
  {
   "cell_type": "markdown",
   "metadata": {},
   "source": [
    "### Planos"
   ]
  },
  {
   "cell_type": "markdown",
   "metadata": {},
   "source": [
    "Solo texto sin links, fotos, o videos."
   ]
  },
  {
   "cell_type": "code",
   "execution_count": 11,
   "metadata": {
    "collapsed": true
   },
   "outputs": [],
   "source": [
    "pt = db.get_plain_tweets(**{'partido': 'anr'})"
   ]
  },
  {
   "cell_type": "markdown",
   "metadata": {},
   "source": [
    "### Links"
   ]
  },
  {
   "cell_type": "markdown",
   "metadata": {},
   "source": [
    "Tweets con links"
   ]
  },
  {
   "cell_type": "code",
   "execution_count": 13,
   "metadata": {
    "collapsed": true
   },
   "outputs": [],
   "source": [
    "lt = db.get_tweets_with_links(**{'partido': 'anr'})"
   ]
  },
  {
   "cell_type": "markdown",
   "metadata": {},
   "source": [
    "#### Top-10 dominios más frecuentes"
   ]
  },
  {
   "cell_type": "code",
   "execution_count": 24,
   "metadata": {
    "collapsed": true
   },
   "outputs": [],
   "source": [
    "la = LinkAnalyzer()\n",
    "domains_url, domains = la.get_domains_and_freq(save_to_file=False, **{'partido': 'anr'})"
   ]
  },
  {
   "cell_type": "code",
   "execution_count": 25,
   "metadata": {},
   "outputs": [
    {
     "data": {
      "text/html": [
       "<div>\n",
       "<style scoped>\n",
       "    .dataframe tbody tr th:only-of-type {\n",
       "        vertical-align: middle;\n",
       "    }\n",
       "\n",
       "    .dataframe tbody tr th {\n",
       "        vertical-align: top;\n",
       "    }\n",
       "\n",
       "    .dataframe thead th {\n",
       "        text-align: right;\n",
       "    }\n",
       "</style>\n",
       "<table border=\"1\" class=\"dataframe\">\n",
       "  <thead>\n",
       "    <tr style=\"text-align: right;\">\n",
       "      <th></th>\n",
       "      <th>Domain</th>\n",
       "      <th>Tweets</th>\n",
       "    </tr>\n",
       "  </thead>\n",
       "  <tbody>\n",
       "    <tr>\n",
       "      <th>0</th>\n",
       "      <td>messenger</td>\n",
       "      <td>154</td>\n",
       "    </tr>\n",
       "    <tr>\n",
       "      <th>1</th>\n",
       "      <td>youtube</td>\n",
       "      <td>150</td>\n",
       "    </tr>\n",
       "    <tr>\n",
       "      <th>2</th>\n",
       "      <td>facebook</td>\n",
       "      <td>98</td>\n",
       "    </tr>\n",
       "    <tr>\n",
       "      <th>3</th>\n",
       "      <td>abc</td>\n",
       "      <td>82</td>\n",
       "    </tr>\n",
       "    <tr>\n",
       "      <th>4</th>\n",
       "      <td>ultimahora</td>\n",
       "      <td>36</td>\n",
       "    </tr>\n",
       "    <tr>\n",
       "      <th>5</th>\n",
       "      <td>efe</td>\n",
       "      <td>20</td>\n",
       "    </tr>\n",
       "    <tr>\n",
       "      <th>6</th>\n",
       "      <td>radio1000</td>\n",
       "      <td>18</td>\n",
       "    </tr>\n",
       "    <tr>\n",
       "      <th>7</th>\n",
       "      <td>goo</td>\n",
       "      <td>18</td>\n",
       "    </tr>\n",
       "    <tr>\n",
       "      <th>8</th>\n",
       "      <td>lavozdigital</td>\n",
       "      <td>17</td>\n",
       "    </tr>\n",
       "    <tr>\n",
       "      <th>9</th>\n",
       "      <td>instagram</td>\n",
       "      <td>14</td>\n",
       "    </tr>\n",
       "  </tbody>\n",
       "</table>\n",
       "</div>"
      ],
      "text/plain": [
       "         Domain  Tweets\n",
       "0     messenger     154\n",
       "1       youtube     150\n",
       "2      facebook      98\n",
       "3           abc      82\n",
       "4    ultimahora      36\n",
       "5           efe      20\n",
       "6     radio1000      18\n",
       "7           goo      18\n",
       "8  lavozdigital      17\n",
       "9     instagram      14"
      ]
     },
     "execution_count": 25,
     "metadata": {},
     "output_type": "execute_result"
    }
   ],
   "source": [
    "domains_freq = pd.DataFrame(domains, columns=['Domain','Tweets'])\n",
    "domains_freq[:10]"
   ]
  },
  {
   "cell_type": "markdown",
   "metadata": {},
   "source": [
    "### Fotos"
   ]
  },
  {
   "cell_type": "markdown",
   "metadata": {},
   "source": [
    "Tweets con fotos"
   ]
  },
  {
   "cell_type": "code",
   "execution_count": 15,
   "metadata": {
    "collapsed": true
   },
   "outputs": [],
   "source": [
    "pht = db.get_tweets_with_photo(**{'partido': 'anr'})"
   ]
  },
  {
   "cell_type": "markdown",
   "metadata": {},
   "source": [
    "#### Ejemplo"
   ]
  },
  {
   "cell_type": "code",
   "execution_count": 27,
   "metadata": {},
   "outputs": [
    {
     "data": {
      "text/html": [
       "\n",
       "<blockquote class=\"twitter-tweet\" data-lang=\"en\"><p lang=\"es\" dir=\"ltr\">Sumate al equipo ganador. ¡Votá <a href=\"https://twitter.com/hashtag/Lista2?src=hash&amp;ref_src=twsrc%5Etfw\">#Lista2</a>! <a href=\"https://t.co/DOVRIcMWNX\">pic.twitter.com/DOVRIcMWNX</a></p>&mdash; Santiago Peña (@SantiPenap) <a href=\"https://twitter.com/SantiPenap/status/936853394278330369?ref_src=twsrc%5Etfw\">December 2, 2017</a></blockquote>\n",
       "<script async src=\"https://platform.twitter.com/widgets.js\" charset=\"utf-8\"></script>\n"
      ],
      "text/plain": [
       "<__main__.Tweet at 0x1215520b8>"
      ]
     },
     "execution_count": 27,
     "metadata": {},
     "output_type": "execute_result"
    }
   ],
   "source": [
    "s = (\"\"\"\n",
    "<blockquote class=\"twitter-tweet\" data-lang=\"en\"><p lang=\"es\" dir=\"ltr\">Sumate al equipo ganador. ¡Votá <a href=\"https://twitter.com/hashtag/Lista2?src=hash&amp;ref_src=twsrc%5Etfw\">#Lista2</a>! <a href=\"https://t.co/DOVRIcMWNX\">pic.twitter.com/DOVRIcMWNX</a></p>&mdash; Santiago Peña (@SantiPenap) <a href=\"https://twitter.com/SantiPenap/status/936853394278330369?ref_src=twsrc%5Etfw\">December 2, 2017</a></blockquote>\n",
    "<script async src=\"https://platform.twitter.com/widgets.js\" charset=\"utf-8\"></script>\n",
    "\"\"\")\n",
    "Tweet(s)"
   ]
  },
  {
   "cell_type": "markdown",
   "metadata": {},
   "source": [
    "### Videos"
   ]
  },
  {
   "cell_type": "markdown",
   "metadata": {},
   "source": [
    "Tweets con video"
   ]
  },
  {
   "cell_type": "code",
   "execution_count": 17,
   "metadata": {
    "collapsed": true
   },
   "outputs": [],
   "source": [
    "vt = db.get_tweets_with_video(**{'partido': 'anr'})"
   ]
  },
  {
   "cell_type": "code",
   "execution_count": 22,
   "metadata": {},
   "outputs": [
    {
     "data": {
      "image/png": "[encoded data removed]",
      "text/plain": [
       "<matplotlib.figure.Figure at 0x17941def0>"
      ]
     },
     "metadata": {
      "needs_background": "light"
     },
     "output_type": "display_data"
    }
   ],
   "source": [
    "dis = pd.DataFrame(\n",
    "    {\n",
    "        'Tipo': ['Plano', 'Link', 'Foto', 'Video'],\n",
    "        '% Tweets': [\n",
    "            round(100*(len(pt)/tot_tweets_anr_no_rt),1),\n",
    "            round(100*(len(lt)/tot_tweets_anr_no_rt),1),\n",
    "            round(100*(len(pht)/tot_tweets_anr_no_rt),1),\n",
    "            round(100*(len(vt)/tot_tweets_anr_no_rt),1)\n",
    "        ]\n",
    "    }\n",
    ")\n",
    "fig = sns.barplot(x='Tipo', y='% Tweets', data=dis, order=['Plano', 'Foto', 'Link', 'Video'])\n",
    "ax=fig\n",
    "#annotate axis = seaborn axis\n",
    "for p in ax.patches:\n",
    "    ax.annotate(\"{0}%\".format(p.get_height()), (p.get_x() + p.get_width() / 2., p.get_height()),\n",
    "                 ha='center', va='center', fontsize=12, color='black', xytext=(0, 10),\n",
    "                 textcoords='offset points')\n",
    "_ = fig.set_ylim(0,100) #To make space for the annotations\n",
    "plt.show()"
   ]
  },
  {
   "cell_type": "markdown",
   "metadata": {},
   "source": [
    "### Honor Colorado"
   ]
  },
  {
   "cell_type": "code",
   "execution_count": 29,
   "metadata": {
    "collapsed": true
   },
   "outputs": [],
   "source": [
    "tot_tws_hc = len(original_tweets_hc) + len(replies_hc) + len(quotes_hc)"
   ]
  },
  {
   "cell_type": "markdown",
   "metadata": {},
   "source": [
    "### Planos"
   ]
  },
  {
   "cell_type": "markdown",
   "metadata": {},
   "source": [
    "Solo texto sin links, fotos, o videos."
   ]
  },
  {
   "cell_type": "code",
   "execution_count": 30,
   "metadata": {
    "collapsed": true
   },
   "outputs": [],
   "source": [
    "pt = db.get_plain_tweets(**{'partido': 'anr', 'movimiento': 'honor colorado'})"
   ]
  },
  {
   "cell_type": "code",
   "execution_count": 31,
   "metadata": {},
   "outputs": [
    {
     "name": "stdout",
     "output_type": "stream",
     "text": [
      "Existen 31189 tweets planos. Representan el 86.7% del total de tweets originales, replies, y quotes de HC.\n"
     ]
    }
   ],
   "source": [
    "print('Existen {0} tweets planos. Representan el {1}% del total de tweets originales, replies, y quotes de HC.'.\n",
    "      format(len(pt), round(100*(len(pt)/tot_tws_hc),1)))"
   ]
  },
  {
   "cell_type": "markdown",
   "metadata": {},
   "source": [
    "### Links"
   ]
  },
  {
   "cell_type": "markdown",
   "metadata": {},
   "source": [
    "Tweets con links"
   ]
  },
  {
   "cell_type": "code",
   "execution_count": 32,
   "metadata": {
    "collapsed": true
   },
   "outputs": [],
   "source": [
    "lt = db.get_tweets_with_links(**{'partido': 'anr', 'movimiento': 'honor colorado'})"
   ]
  },
  {
   "cell_type": "code",
   "execution_count": 44,
   "metadata": {},
   "outputs": [
    {
     "name": "stdout",
     "output_type": "stream",
     "text": [
      "Existen 503 tweets con links. Representan el 1.4% del total de tweets originales, replies, y quotes de HC.\n"
     ]
    }
   ],
   "source": [
    "print('Existen {0} tweets con links. Representan el {1}% del total de tweets originales, replies, y quotes de HC.'.\n",
    "      format(len(lt), round(100*(len(lt)/tot_tws_hc),1)))"
   ]
  },
  {
   "cell_type": "markdown",
   "metadata": {},
   "source": [
    "#### Top-10 dominios más frecuentes"
   ]
  },
  {
   "cell_type": "code",
   "execution_count": 60,
   "metadata": {
    "collapsed": true
   },
   "outputs": [],
   "source": [
    "la = LinkAnalyzer()\n",
    "domains_url, domains = la.get_domains_and_freq(save_to_file=False, \n",
    "                                               **{'partido': 'anr', 'movimiento': 'honor colorado'})"
   ]
  },
  {
   "cell_type": "code",
   "execution_count": 61,
   "metadata": {},
   "outputs": [
    {
     "data": {
      "text/html": [
       "<div>\n",
       "<style scoped>\n",
       "    .dataframe tbody tr th:only-of-type {\n",
       "        vertical-align: middle;\n",
       "    }\n",
       "\n",
       "    .dataframe tbody tr th {\n",
       "        vertical-align: top;\n",
       "    }\n",
       "\n",
       "    .dataframe thead th {\n",
       "        text-align: right;\n",
       "    }\n",
       "</style>\n",
       "<table border=\"1\" class=\"dataframe\">\n",
       "  <thead>\n",
       "    <tr style=\"text-align: right;\">\n",
       "      <th></th>\n",
       "      <th>Domain</th>\n",
       "      <th>Tweets</th>\n",
       "    </tr>\n",
       "  </thead>\n",
       "  <tbody>\n",
       "    <tr>\n",
       "      <th>0</th>\n",
       "      <td>youtube</td>\n",
       "      <td>133</td>\n",
       "    </tr>\n",
       "    <tr>\n",
       "      <th>1</th>\n",
       "      <td>abc</td>\n",
       "      <td>57</td>\n",
       "    </tr>\n",
       "    <tr>\n",
       "      <th>2</th>\n",
       "      <td>facebook</td>\n",
       "      <td>51</td>\n",
       "    </tr>\n",
       "    <tr>\n",
       "      <th>3</th>\n",
       "      <td>ultimahora</td>\n",
       "      <td>16</td>\n",
       "    </tr>\n",
       "    <tr>\n",
       "      <th>4</th>\n",
       "      <td>efe</td>\n",
       "      <td>16</td>\n",
       "    </tr>\n",
       "    <tr>\n",
       "      <th>5</th>\n",
       "      <td>lavozdigital</td>\n",
       "      <td>12</td>\n",
       "    </tr>\n",
       "    <tr>\n",
       "      <th>6</th>\n",
       "      <td>rdn</td>\n",
       "      <td>8</td>\n",
       "    </tr>\n",
       "    <tr>\n",
       "      <th>7</th>\n",
       "      <td>santipresidente</td>\n",
       "      <td>8</td>\n",
       "    </tr>\n",
       "    <tr>\n",
       "      <th>8</th>\n",
       "      <td>twitter</td>\n",
       "      <td>7</td>\n",
       "    </tr>\n",
       "    <tr>\n",
       "      <th>9</th>\n",
       "      <td>780am</td>\n",
       "      <td>5</td>\n",
       "    </tr>\n",
       "  </tbody>\n",
       "</table>\n",
       "</div>"
      ],
      "text/plain": [
       "            Domain  Tweets\n",
       "0          youtube     133\n",
       "1              abc      57\n",
       "2         facebook      51\n",
       "3       ultimahora      16\n",
       "4              efe      16\n",
       "5     lavozdigital      12\n",
       "6              rdn       8\n",
       "7  santipresidente       8\n",
       "8          twitter       7\n",
       "9            780am       5"
      ]
     },
     "execution_count": 61,
     "metadata": {},
     "output_type": "execute_result"
    }
   ],
   "source": [
    "domains_freq = pd.DataFrame(domains, columns=['Domain','Tweets'])\n",
    "domains_freq[:10]"
   ]
  },
  {
   "cell_type": "markdown",
   "metadata": {},
   "source": [
    "### Fotos"
   ]
  },
  {
   "cell_type": "markdown",
   "metadata": {},
   "source": [
    "Tweets con fotos"
   ]
  },
  {
   "cell_type": "code",
   "execution_count": 35,
   "metadata": {
    "collapsed": true
   },
   "outputs": [],
   "source": [
    "pht = db.get_tweets_with_photo(**{'partido': 'anr', 'movimiento': 'honor colorado'})"
   ]
  },
  {
   "cell_type": "code",
   "execution_count": 45,
   "metadata": {},
   "outputs": [
    {
     "name": "stdout",
     "output_type": "stream",
     "text": [
      "Existen 4296 tweets con fotos. Representan el 11.9% del total de tweets originales, replies, y quotes de HC.\n"
     ]
    }
   ],
   "source": [
    "print('Existen {0} tweets con fotos. Representan el {1}% del total de tweets originales, replies, y quotes de HC.'.\n",
    "      format(len(pht), round(100*(len(pht)/tot_tws_hc),1)))"
   ]
  },
  {
   "cell_type": "markdown",
   "metadata": {},
   "source": [
    "### Videos"
   ]
  },
  {
   "cell_type": "markdown",
   "metadata": {},
   "source": [
    "Tweets con video"
   ]
  },
  {
   "cell_type": "code",
   "execution_count": 37,
   "metadata": {
    "collapsed": true
   },
   "outputs": [],
   "source": [
    "vt = db.get_tweets_with_video(**{'partido': 'anr', 'movimiento': 'honor colorado'})"
   ]
  },
  {
   "cell_type": "code",
   "execution_count": 46,
   "metadata": {},
   "outputs": [
    {
     "name": "stdout",
     "output_type": "stream",
     "text": [
      "Existen 0 tweets videos. Representan el 0.0% del total de tweets originales, replies, y quotes de HC.\n"
     ]
    }
   ],
   "source": [
    "print('Existen {0} tweets videos. Representan el {1}% del total de tweets originales, replies, y quotes de HC.'.\n",
    "      format(len(vt), round(100*(len(vt)/tot_tws_hc),1)))"
   ]
  },
  {
   "cell_type": "code",
   "execution_count": 39,
   "metadata": {},
   "outputs": [
    {
     "data": {
      "image/png": "[encoded data removed]",
      "text/plain": [
       "<matplotlib.figure.Figure at 0x15de0cdd8>"
      ]
     },
     "metadata": {
      "needs_background": "light"
     },
     "output_type": "display_data"
    }
   ],
   "source": [
    "dis = pd.DataFrame(\n",
    "    {\n",
    "        'Tipo': ['Plano', 'Link', 'Foto', 'Video'],\n",
    "        '% Tweets': [\n",
    "            round(100*(len(pt)/tot_tws_hc),1),\n",
    "            round(100*(len(lt)/tot_tws_hc),1),\n",
    "            round(100*(len(pht)/tot_tws_hc),1),\n",
    "            round(100*(len(vt)/tot_tws_hc),1)\n",
    "        ]\n",
    "    }\n",
    ")\n",
    "fig = sns.barplot(x='Tipo', y='% Tweets', data=dis, order=['Plano', 'Foto', 'Link', 'Video'])\n",
    "ax=fig\n",
    "#annotate axis = seaborn axis\n",
    "for p in ax.patches:\n",
    "    ax.annotate(\"{0}%\".format(p.get_height()), (p.get_x() + p.get_width() / 2., p.get_height()),\n",
    "                 ha='center', va='center', fontsize=12, color='black', xytext=(0, 10),\n",
    "                 textcoords='offset points')\n",
    "_ = fig.set_ylim(0,100) #To make space for the annotations\n",
    "plt.show()"
   ]
  },
  {
   "cell_type": "markdown",
   "metadata": {},
   "source": [
    "### Colorado Añeteté"
   ]
  },
  {
   "cell_type": "code",
   "execution_count": 41,
   "metadata": {
    "collapsed": true
   },
   "outputs": [],
   "source": [
    "tot_tws_ca = len(original_tweets_ca) + len(replies_ca) + len(quotes_ca)"
   ]
  },
  {
   "cell_type": "markdown",
   "metadata": {},
   "source": [
    "### Planos"
   ]
  },
  {
   "cell_type": "markdown",
   "metadata": {},
   "source": [
    "Solo texto sin links, fotos, o videos."
   ]
  },
  {
   "cell_type": "code",
   "execution_count": 47,
   "metadata": {
    "collapsed": true
   },
   "outputs": [],
   "source": [
    "pt = db.get_plain_tweets(**{'partido': 'anr', 'movimiento': 'colorado añetete'})"
   ]
  },
  {
   "cell_type": "code",
   "execution_count": 48,
   "metadata": {},
   "outputs": [
    {
     "name": "stdout",
     "output_type": "stream",
     "text": [
      "Existen 18040 tweets planos. Representan el 84.1% del total de tweets originales, replies, y quotes de CA.\n"
     ]
    }
   ],
   "source": [
    "print('Existen {0} tweets planos. Representan el {1}% del total de tweets originales, replies, y quotes de CA.'.\n",
    "      format(len(pt), round(100*(len(pt)/tot_tws_ca),1)))"
   ]
  },
  {
   "cell_type": "markdown",
   "metadata": {},
   "source": [
    "### Links"
   ]
  },
  {
   "cell_type": "markdown",
   "metadata": {},
   "source": [
    "Tweets con links"
   ]
  },
  {
   "cell_type": "code",
   "execution_count": 49,
   "metadata": {
    "collapsed": true
   },
   "outputs": [],
   "source": [
    "lt = db.get_tweets_with_links(**{'partido': 'anr', 'movimiento': 'colorado añetete'})"
   ]
  },
  {
   "cell_type": "code",
   "execution_count": 54,
   "metadata": {},
   "outputs": [
    {
     "name": "stdout",
     "output_type": "stream",
     "text": [
      "Existen 617 tweets con links. Representan el 2.9% del total de tweets originales, replies, y quotes de CA.\n"
     ]
    }
   ],
   "source": [
    "print('Existen {0} tweets con links. Representan el {1}% del total de tweets originales, replies, y quotes de CA.'.\n",
    "      format(len(lt), round(100*(len(lt)/tot_tws_ca),1)))"
   ]
  },
  {
   "cell_type": "markdown",
   "metadata": {},
   "source": [
    "#### Top-10 dominios más frecuentes"
   ]
  },
  {
   "cell_type": "code",
   "execution_count": 62,
   "metadata": {
    "collapsed": true
   },
   "outputs": [],
   "source": [
    "la = LinkAnalyzer()\n",
    "domains_url, domains = la.get_domains_and_freq(save_to_file=False, \n",
    "                                               **{'partido': 'anr', 'movimiento': 'colorado añetete'})"
   ]
  },
  {
   "cell_type": "code",
   "execution_count": 63,
   "metadata": {},
   "outputs": [
    {
     "data": {
      "text/html": [
       "<div>\n",
       "<style scoped>\n",
       "    .dataframe tbody tr th:only-of-type {\n",
       "        vertical-align: middle;\n",
       "    }\n",
       "\n",
       "    .dataframe tbody tr th {\n",
       "        vertical-align: top;\n",
       "    }\n",
       "\n",
       "    .dataframe thead th {\n",
       "        text-align: right;\n",
       "    }\n",
       "</style>\n",
       "<table border=\"1\" class=\"dataframe\">\n",
       "  <thead>\n",
       "    <tr style=\"text-align: right;\">\n",
       "      <th></th>\n",
       "      <th>Domain</th>\n",
       "      <th>Tweets</th>\n",
       "    </tr>\n",
       "  </thead>\n",
       "  <tbody>\n",
       "    <tr>\n",
       "      <th>0</th>\n",
       "      <td>messenger</td>\n",
       "      <td>154</td>\n",
       "    </tr>\n",
       "    <tr>\n",
       "      <th>1</th>\n",
       "      <td>facebook</td>\n",
       "      <td>48</td>\n",
       "    </tr>\n",
       "    <tr>\n",
       "      <th>2</th>\n",
       "      <td>abc</td>\n",
       "      <td>34</td>\n",
       "    </tr>\n",
       "    <tr>\n",
       "      <th>3</th>\n",
       "      <td>ultimahora</td>\n",
       "      <td>22</td>\n",
       "    </tr>\n",
       "    <tr>\n",
       "      <th>4</th>\n",
       "      <td>youtube</td>\n",
       "      <td>20</td>\n",
       "    </tr>\n",
       "    <tr>\n",
       "      <th>5</th>\n",
       "      <td>radio1000</td>\n",
       "      <td>18</td>\n",
       "    </tr>\n",
       "    <tr>\n",
       "      <th>6</th>\n",
       "      <td>instagram</td>\n",
       "      <td>11</td>\n",
       "    </tr>\n",
       "    <tr>\n",
       "      <th>7</th>\n",
       "      <td>lavozdigital</td>\n",
       "      <td>10</td>\n",
       "    </tr>\n",
       "    <tr>\n",
       "      <th>8</th>\n",
       "      <td>nanduti</td>\n",
       "      <td>8</td>\n",
       "    </tr>\n",
       "    <tr>\n",
       "      <th>9</th>\n",
       "      <td>goo</td>\n",
       "      <td>7</td>\n",
       "    </tr>\n",
       "  </tbody>\n",
       "</table>\n",
       "</div>"
      ],
      "text/plain": [
       "         Domain  Tweets\n",
       "0     messenger     154\n",
       "1      facebook      48\n",
       "2           abc      34\n",
       "3    ultimahora      22\n",
       "4       youtube      20\n",
       "5     radio1000      18\n",
       "6     instagram      11\n",
       "7  lavozdigital      10\n",
       "8       nanduti       8\n",
       "9           goo       7"
      ]
     },
     "execution_count": 63,
     "metadata": {},
     "output_type": "execute_result"
    }
   ],
   "source": [
    "domains_freq = pd.DataFrame(domains, columns=['Domain','Tweets'])\n",
    "domains_freq[:10]"
   ]
  },
  {
   "cell_type": "markdown",
   "metadata": {},
   "source": [
    "### Fotos"
   ]
  },
  {
   "cell_type": "markdown",
   "metadata": {},
   "source": [
    "Tweets con fotos"
   ]
  },
  {
   "cell_type": "code",
   "execution_count": 52,
   "metadata": {
    "collapsed": true
   },
   "outputs": [],
   "source": [
    "pht = db.get_tweets_with_photo(**{'partido': 'anr', 'movimiento': 'colorado añetete'})"
   ]
  },
  {
   "cell_type": "code",
   "execution_count": 55,
   "metadata": {},
   "outputs": [
    {
     "name": "stdout",
     "output_type": "stream",
     "text": [
      "Existen 2791 tweets con fotos. Representan el 13.0% del total de tweets originales, replies, y quotes de CA.\n"
     ]
    }
   ],
   "source": [
    "print('Existen {0} tweets con fotos. Representan el {1}% del total de tweets originales, replies, y quotes de CA.'.\n",
    "      format(len(pht), round(100*(len(pht)/tot_tws_ca),1)))"
   ]
  },
  {
   "cell_type": "markdown",
   "metadata": {},
   "source": [
    "### Videos"
   ]
  },
  {
   "cell_type": "markdown",
   "metadata": {},
   "source": [
    "Tweets con video"
   ]
  },
  {
   "cell_type": "code",
   "execution_count": 56,
   "metadata": {
    "collapsed": true
   },
   "outputs": [],
   "source": [
    "vt = db.get_tweets_with_video(**{'partido': 'anr', 'movimiento': 'colorado añetete'})"
   ]
  },
  {
   "cell_type": "code",
   "execution_count": 57,
   "metadata": {},
   "outputs": [
    {
     "name": "stdout",
     "output_type": "stream",
     "text": [
      "Existen 0 tweets planos. Representan el 0.0% del total de tweets originales, replies, y quotes de CA.\n"
     ]
    }
   ],
   "source": [
    "print('Existen {0} tweets planos. Representan el {1}% del total de tweets originales, replies, y quotes de CA.'.\n",
    "      format(len(vt), round(100*(len(vt)/tot_tws_ca),1)))"
   ]
  },
  {
   "cell_type": "code",
   "execution_count": 59,
   "metadata": {},
   "outputs": [
    {
     "data": {
      "image/png": "[encoded data removed]",
      "text/plain": [
       "<matplotlib.figure.Figure at 0x1621123c8>"
      ]
     },
     "metadata": {
      "needs_background": "light"
     },
     "output_type": "display_data"
    }
   ],
   "source": [
    "dis = pd.DataFrame(\n",
    "    {\n",
    "        'Tipo': ['Plano', 'Link', 'Foto', 'Video'],\n",
    "        '% Tweets': [\n",
    "            round(100*(len(pt)/tot_tws_ca),1),\n",
    "            round(100*(len(lt)/tot_tws_ca),1),\n",
    "            round(100*(len(pht)/tot_tws_ca),1),\n",
    "            round(100*(len(vt)/tot_tws_ca),1)\n",
    "        ]\n",
    "    }\n",
    ")\n",
    "fig = sns.barplot(x='Tipo', y='% Tweets', data=dis, order=['Plano', 'Foto', 'Link', 'Video'])\n",
    "ax=fig\n",
    "#annotate axis = seaborn axis\n",
    "for p in ax.patches:\n",
    "    ax.annotate(\"{0}%\".format(p.get_height()), (p.get_x() + p.get_width() / 2., p.get_height()),\n",
    "                 ha='center', va='center', fontsize=12, color='black', xytext=(0, 10),\n",
    "                 textcoords='offset points')\n",
    "_ = fig.set_ylim(0,100) #To make space for the annotations\n",
    "plt.show()"
   ]
  },
  {
   "cell_type": "markdown",
   "metadata": {},
   "source": [
    "## Hashtags más populares"
   ]
  },
  {
   "cell_type": "markdown",
   "metadata": {},
   "source": [
    "Lista de hashtag más comunes utilizados en tweets relacionados a los movimientos Honor Colorado y Colorado Añeteté."
   ]
  },
  {
   "cell_type": "markdown",
   "metadata": {},
   "source": [
    "### Top-5 hashtags relacionado a Honor Colorado"
   ]
  },
  {
   "cell_type": "code",
   "execution_count": 53,
   "metadata": {},
   "outputs": [
    {
     "data": {
      "text/html": [
       "<div>\n",
       "<style scoped>\n",
       "    .dataframe tbody tr th:only-of-type {\n",
       "        vertical-align: middle;\n",
       "    }\n",
       "\n",
       "    .dataframe tbody tr th {\n",
       "        vertical-align: top;\n",
       "    }\n",
       "\n",
       "    .dataframe thead th {\n",
       "        text-align: right;\n",
       "    }\n",
       "</style>\n",
       "<table border=\"1\" class=\"dataframe\">\n",
       "  <thead>\n",
       "    <tr style=\"text-align: right;\">\n",
       "      <th></th>\n",
       "      <th>1. Hashtag</th>\n",
       "      <th>2. Cantidad de Tweets</th>\n",
       "    </tr>\n",
       "  </thead>\n",
       "  <tbody>\n",
       "    <tr>\n",
       "      <th>0</th>\n",
       "      <td>#Lista2</td>\n",
       "      <td>3184</td>\n",
       "    </tr>\n",
       "    <tr>\n",
       "      <th>1</th>\n",
       "      <td>#SantiPresidente</td>\n",
       "      <td>3167</td>\n",
       "    </tr>\n",
       "    <tr>\n",
       "      <th>2</th>\n",
       "      <td>#SigamosConversando</td>\n",
       "      <td>1294</td>\n",
       "    </tr>\n",
       "    <tr>\n",
       "      <th>3</th>\n",
       "      <td>#HonorColorado</td>\n",
       "      <td>979</td>\n",
       "    </tr>\n",
       "    <tr>\n",
       "      <th>4</th>\n",
       "      <td>#ParaguayElige</td>\n",
       "      <td>759</td>\n",
       "    </tr>\n",
       "  </tbody>\n",
       "</table>\n",
       "</div>"
      ],
      "text/plain": [
       "            1. Hashtag  2. Cantidad de Tweets\n",
       "0              #Lista2                   3184\n",
       "1     #SantiPresidente                   3167\n",
       "2  #SigamosConversando                   1294\n",
       "3       #HonorColorado                    979\n",
       "4       #ParaguayElige                    759"
      ]
     },
     "execution_count": 53,
     "metadata": {},
     "output_type": "execute_result"
    }
   ],
   "source": [
    "additional_args = {'include_candidate':False, 'candidate_handler':'SantiPenap'}\n",
    "hashtags_hc = db.get_hashtags_by_movement('honor colorado', **additional_args)\n",
    "hashtags_populares_hc = []\n",
    "sum_total = 0\n",
    "for i in range(5):\n",
    "    hashtag = hashtags_hc[i]\n",
    "    sum_total += hashtag['count']\n",
    "    hashtag_dict = {'1. Hashtag': '#' + hashtag['hashtag'], '2. Cantidad de Tweets': hashtag['count']}\n",
    "    hashtags_populares_hc.append(hashtag_dict)\n",
    "pd.DataFrame(hashtags_populares_hc)"
   ]
  },
  {
   "cell_type": "markdown",
   "metadata": {},
   "source": [
    "### Top-5 hashtags relacionados a Colorado Añeteté"
   ]
  },
  {
   "cell_type": "code",
   "execution_count": 54,
   "metadata": {},
   "outputs": [
    {
     "data": {
      "text/html": [
       "<div>\n",
       "<style scoped>\n",
       "    .dataframe tbody tr th:only-of-type {\n",
       "        vertical-align: middle;\n",
       "    }\n",
       "\n",
       "    .dataframe tbody tr th {\n",
       "        vertical-align: top;\n",
       "    }\n",
       "\n",
       "    .dataframe thead th {\n",
       "        text-align: right;\n",
       "    }\n",
       "</style>\n",
       "<table border=\"1\" class=\"dataframe\">\n",
       "  <thead>\n",
       "    <tr style=\"text-align: right;\">\n",
       "      <th></th>\n",
       "      <th>1. Hashtag</th>\n",
       "      <th>2. Cantidad de Tweets</th>\n",
       "    </tr>\n",
       "  </thead>\n",
       "  <tbody>\n",
       "    <tr>\n",
       "      <th>0</th>\n",
       "      <td>#ParaguayDeLaGente</td>\n",
       "      <td>8421</td>\n",
       "    </tr>\n",
       "    <tr>\n",
       "      <th>1</th>\n",
       "      <td>#MaritoImparable</td>\n",
       "      <td>1404</td>\n",
       "    </tr>\n",
       "    <tr>\n",
       "      <th>2</th>\n",
       "      <td>#MaritoDeLaGente</td>\n",
       "      <td>1402</td>\n",
       "    </tr>\n",
       "    <tr>\n",
       "      <th>3</th>\n",
       "      <td>#ParaguayElige</td>\n",
       "      <td>645</td>\n",
       "    </tr>\n",
       "    <tr>\n",
       "      <th>4</th>\n",
       "      <td>#MaritoPresidente</td>\n",
       "      <td>560</td>\n",
       "    </tr>\n",
       "  </tbody>\n",
       "</table>\n",
       "</div>"
      ],
      "text/plain": [
       "           1. Hashtag  2. Cantidad de Tweets\n",
       "0  #ParaguayDeLaGente                   8421\n",
       "1    #MaritoImparable                   1404\n",
       "2    #MaritoDeLaGente                   1402\n",
       "3      #ParaguayElige                    645\n",
       "4   #MaritoPresidente                    560"
      ]
     },
     "execution_count": 54,
     "metadata": {},
     "output_type": "execute_result"
    }
   ],
   "source": [
    "additional_args = {'include_candidate':False, 'candidate_handler':'MaritoAbdo'}\n",
    "hashtags_ca = db.get_hashtags_by_movement('colorado añetete', **additional_args)\n",
    "hashtags_populares_ca = []\n",
    "for i in range(5):\n",
    "    hashtag = hashtags_ca[i]\n",
    "    hashtag_dict = {'1. Hashtag': '#' + hashtag['hashtag'], '2. Cantidad de Tweets': hashtag['count']}\n",
    "    hashtags_populares_ca.append(hashtag_dict)\n",
    "pd.DataFrame(hashtags_populares_ca)"
   ]
  },
  {
   "cell_type": "markdown",
   "metadata": {},
   "source": [
    "## Cantidad de tuiteros por movimiento"
   ]
  },
  {
   "cell_type": "markdown",
   "metadata": {},
   "source": [
    "Análisis de la cantidad de perfiles que publicaron tweets conteniendo los hashtags de los movimientos. Los conjuntos de perfiles no son mutuamente excluyente. En otros palabras, pueden existir perfiles que hayan realizado publicado tweets usando hashtags vinculados a ambos movimientos. "
   ]
  },
  {
   "cell_type": "markdown",
   "metadata": {},
   "source": [
    "### Honor Colorado"
   ]
  },
  {
   "cell_type": "code",
   "execution_count": 4,
   "metadata": {},
   "outputs": [
    {
     "name": "stdout",
     "output_type": "stream",
     "text": [
      "15663 usuarios tuitearon utilizando hashtags vinculados al movimiento Honor Colorado\n"
     ]
    }
   ],
   "source": [
    "users = dbu.get_users_and_activity(**{'partido': 'anr', 'movimiento': 'honor colorado'})\n",
    "print('{0} usuarios tuitearon utilizando hashtags vinculados al movimiento Honor Colorado'.\n",
    "      format(len(users)))"
   ]
  },
  {
   "cell_type": "markdown",
   "metadata": {},
   "source": [
    "#### Top-10 más activos con sus principales características y actividades"
   ]
  },
  {
   "cell_type": "code",
   "execution_count": 10,
   "metadata": {},
   "outputs": [
    {
     "data": {
      "text/html": [
       "<div>\n",
       "<style scoped>\n",
       "    .dataframe tbody tr th:only-of-type {\n",
       "        vertical-align: middle;\n",
       "    }\n",
       "\n",
       "    .dataframe tbody tr th {\n",
       "        vertical-align: top;\n",
       "    }\n",
       "\n",
       "    .dataframe thead th {\n",
       "        text-align: right;\n",
       "    }\n",
       "</style>\n",
       "<table border=\"1\" class=\"dataframe\">\n",
       "  <thead>\n",
       "    <tr style=\"text-align: right;\">\n",
       "      <th></th>\n",
       "      <th>1.Usuario</th>\n",
       "      <th>2. Es cuenta Falsa?</th>\n",
       "      <th>3.Tweets</th>\n",
       "      <th>4.Originales</th>\n",
       "      <th>5.Retweets</th>\n",
       "      <th>6.Quotes</th>\n",
       "      <th>7.Replies</th>\n",
       "      <th>8.Followers</th>\n",
       "      <th>9.Friends</th>\n",
       "    </tr>\n",
       "  </thead>\n",
       "  <tbody>\n",
       "    <tr>\n",
       "      <th>0</th>\n",
       "      <td>CESARSANCHEZ553</td>\n",
       "      <td>Si</td>\n",
       "      <td>952</td>\n",
       "      <td>0</td>\n",
       "      <td>754</td>\n",
       "      <td>0</td>\n",
       "      <td>198</td>\n",
       "      <td>17</td>\n",
       "      <td>132</td>\n",
       "    </tr>\n",
       "    <tr>\n",
       "      <th>1</th>\n",
       "      <td>Norabeli</td>\n",
       "      <td>No</td>\n",
       "      <td>941</td>\n",
       "      <td>1</td>\n",
       "      <td>734</td>\n",
       "      <td>2</td>\n",
       "      <td>204</td>\n",
       "      <td>1387</td>\n",
       "      <td>930</td>\n",
       "    </tr>\n",
       "    <tr>\n",
       "      <th>2</th>\n",
       "      <td>CesarSanchez636</td>\n",
       "      <td>No</td>\n",
       "      <td>802</td>\n",
       "      <td>0</td>\n",
       "      <td>646</td>\n",
       "      <td>0</td>\n",
       "      <td>156</td>\n",
       "      <td>155</td>\n",
       "      <td>651</td>\n",
       "    </tr>\n",
       "    <tr>\n",
       "      <th>3</th>\n",
       "      <td>Michelec1954</td>\n",
       "      <td>No</td>\n",
       "      <td>707</td>\n",
       "      <td>0</td>\n",
       "      <td>0</td>\n",
       "      <td>575</td>\n",
       "      <td>132</td>\n",
       "      <td>708</td>\n",
       "      <td>1484</td>\n",
       "    </tr>\n",
       "    <tr>\n",
       "      <th>4</th>\n",
       "      <td>gladysgulino</td>\n",
       "      <td>No</td>\n",
       "      <td>548</td>\n",
       "      <td>0</td>\n",
       "      <td>548</td>\n",
       "      <td>0</td>\n",
       "      <td>0</td>\n",
       "      <td>471</td>\n",
       "      <td>93</td>\n",
       "    </tr>\n",
       "    <tr>\n",
       "      <th>5</th>\n",
       "      <td>Radio970AM</td>\n",
       "      <td>No</td>\n",
       "      <td>535</td>\n",
       "      <td>96</td>\n",
       "      <td>11</td>\n",
       "      <td>5</td>\n",
       "      <td>423</td>\n",
       "      <td>211891</td>\n",
       "      <td>875</td>\n",
       "    </tr>\n",
       "    <tr>\n",
       "      <th>6</th>\n",
       "      <td>delgapy2016</td>\n",
       "      <td>No</td>\n",
       "      <td>529</td>\n",
       "      <td>0</td>\n",
       "      <td>485</td>\n",
       "      <td>0</td>\n",
       "      <td>44</td>\n",
       "      <td>79</td>\n",
       "      <td>461</td>\n",
       "    </tr>\n",
       "    <tr>\n",
       "      <th>7</th>\n",
       "      <td>SemideiOmar</td>\n",
       "      <td>No</td>\n",
       "      <td>527</td>\n",
       "      <td>8</td>\n",
       "      <td>3</td>\n",
       "      <td>0</td>\n",
       "      <td>516</td>\n",
       "      <td>419</td>\n",
       "      <td>277</td>\n",
       "    </tr>\n",
       "    <tr>\n",
       "      <th>8</th>\n",
       "      <td>ArturoO22734057</td>\n",
       "      <td>No</td>\n",
       "      <td>516</td>\n",
       "      <td>1</td>\n",
       "      <td>510</td>\n",
       "      <td>0</td>\n",
       "      <td>5</td>\n",
       "      <td>192</td>\n",
       "      <td>825</td>\n",
       "    </tr>\n",
       "    <tr>\n",
       "      <th>9</th>\n",
       "      <td>JavierSanchezPy</td>\n",
       "      <td>No</td>\n",
       "      <td>434</td>\n",
       "      <td>237</td>\n",
       "      <td>136</td>\n",
       "      <td>4</td>\n",
       "      <td>57</td>\n",
       "      <td>11151</td>\n",
       "      <td>1373</td>\n",
       "    </tr>\n",
       "  </tbody>\n",
       "</table>\n",
       "</div>"
      ],
      "text/plain": [
       "         1.Usuario 2. Es cuenta Falsa?  3.Tweets  4.Originales  5.Retweets  \\\n",
       "0  CESARSANCHEZ553                  Si       952             0         754   \n",
       "1         Norabeli                  No       941             1         734   \n",
       "2  CesarSanchez636                  No       802             0         646   \n",
       "3     Michelec1954                  No       707             0           0   \n",
       "4     gladysgulino                  No       548             0         548   \n",
       "5       Radio970AM                  No       535            96          11   \n",
       "6      delgapy2016                  No       529             0         485   \n",
       "7      SemideiOmar                  No       527             8           3   \n",
       "8  ArturoO22734057                  No       516             1         510   \n",
       "9  JavierSanchezPy                  No       434           237         136   \n",
       "\n",
       "   6.Quotes  7.Replies  8.Followers  9.Friends  \n",
       "0         0        198           17        132  \n",
       "1         2        204         1387        930  \n",
       "2         0        156          155        651  \n",
       "3       575        132          708       1484  \n",
       "4         0          0          471         93  \n",
       "5         5        423       211891        875  \n",
       "6         0         44           79        461  \n",
       "7         0        516          419        277  \n",
       "8         0          5          192        825  \n",
       "9         4         57        11151       1373  "
      ]
     },
     "execution_count": 10,
     "metadata": {},
     "output_type": "execute_result"
    }
   ],
   "source": [
    "top10_tuiteros_hc = []\n",
    "for i in range(10):\n",
    "    tuitero_hc = {'1.Usuario': users[i]['screen_name'], \n",
    "                  '3.Tweets': users[i]['tweets'],\n",
    "                  '4.Originales': users[i]['original_tweets'],\n",
    "                  '5.Retweets': users[i]['rts'],\n",
    "                  '6.Quotes': users[i]['qts'],\n",
    "                  '7.Replies': users[i]['rps'],\n",
    "                  '8.Followers': users[i]['followers'],\n",
    "                  '9.Friends': users[i]['friends']}\n",
    "    # 0.87 es el límite del tercer quartil en la distribución de\n",
    "    # las probabilidades de ser bot o cuenta falsa\n",
    "    if users[i]['pbb'] > 0.87:\n",
    "        tuitero_hc['2. Es cuenta Falsa?'] = 'Si'\n",
    "    else:\n",
    "        tuitero_hc['2. Es cuenta Falsa?'] = 'No'\n",
    "    top10_tuiteros_hc.append(tuitero_hc)\n",
    "pd.DataFrame(top10_tuiteros_hc)"
   ]
  },
  {
   "cell_type": "markdown",
   "metadata": {},
   "source": [
    "### Colorado Añeteté"
   ]
  },
  {
   "cell_type": "code",
   "execution_count": 9,
   "metadata": {},
   "outputs": [
    {
     "name": "stdout",
     "output_type": "stream",
     "text": [
      "7484 usuarios tuitearon utilizando hashtags vinculados al movimiento Colorado Aneteté\n"
     ]
    }
   ],
   "source": [
    "users_ca = dbu.get_users_and_activity(**{'partido': 'anr', 'movimiento': 'colorado añetete'})\n",
    "print('{0} usuarios tuitearon utilizando hashtags vinculados al movimiento Colorado Aneteté'.\n",
    "      format(len(users_ca)))"
   ]
  },
  {
   "cell_type": "markdown",
   "metadata": {},
   "source": [
    "#### Top-10 más activos y sus actividades"
   ]
  },
  {
   "cell_type": "code",
   "execution_count": 12,
   "metadata": {
    "scrolled": true
   },
   "outputs": [
    {
     "data": {
      "text/html": [
       "<div>\n",
       "<style scoped>\n",
       "    .dataframe tbody tr th:only-of-type {\n",
       "        vertical-align: middle;\n",
       "    }\n",
       "\n",
       "    .dataframe tbody tr th {\n",
       "        vertical-align: top;\n",
       "    }\n",
       "\n",
       "    .dataframe thead th {\n",
       "        text-align: right;\n",
       "    }\n",
       "</style>\n",
       "<table border=\"1\" class=\"dataframe\">\n",
       "  <thead>\n",
       "    <tr style=\"text-align: right;\">\n",
       "      <th></th>\n",
       "      <th>1.Usuario</th>\n",
       "      <th>10. PBB</th>\n",
       "      <th>2. Es cuenta Falsa?</th>\n",
       "      <th>3.Tweets</th>\n",
       "      <th>4.Originales</th>\n",
       "      <th>5.Retweets</th>\n",
       "      <th>6.Quotes</th>\n",
       "      <th>7.Replies</th>\n",
       "      <th>8.Followers</th>\n",
       "      <th>9.Friends</th>\n",
       "    </tr>\n",
       "  </thead>\n",
       "  <tbody>\n",
       "    <tr>\n",
       "      <th>0</th>\n",
       "      <td>Paraguaynosune</td>\n",
       "      <td>0.424198</td>\n",
       "      <td>No</td>\n",
       "      <td>856</td>\n",
       "      <td>0</td>\n",
       "      <td>856</td>\n",
       "      <td>0</td>\n",
       "      <td>0</td>\n",
       "      <td>174</td>\n",
       "      <td>520</td>\n",
       "    </tr>\n",
       "    <tr>\n",
       "      <th>1</th>\n",
       "      <td>Beatriz20D</td>\n",
       "      <td>0.744348</td>\n",
       "      <td>No</td>\n",
       "      <td>854</td>\n",
       "      <td>0</td>\n",
       "      <td>743</td>\n",
       "      <td>2</td>\n",
       "      <td>109</td>\n",
       "      <td>739</td>\n",
       "      <td>210</td>\n",
       "    </tr>\n",
       "    <tr>\n",
       "      <th>2</th>\n",
       "      <td>Solmelga</td>\n",
       "      <td>0.294215</td>\n",
       "      <td>No</td>\n",
       "      <td>540</td>\n",
       "      <td>138</td>\n",
       "      <td>330</td>\n",
       "      <td>1</td>\n",
       "      <td>71</td>\n",
       "      <td>4790</td>\n",
       "      <td>5323</td>\n",
       "    </tr>\n",
       "    <tr>\n",
       "      <th>3</th>\n",
       "      <td>1000_am</td>\n",
       "      <td>0.132465</td>\n",
       "      <td>No</td>\n",
       "      <td>421</td>\n",
       "      <td>148</td>\n",
       "      <td>78</td>\n",
       "      <td>1</td>\n",
       "      <td>194</td>\n",
       "      <td>368</td>\n",
       "      <td>93115</td>\n",
       "    </tr>\n",
       "    <tr>\n",
       "      <th>4</th>\n",
       "      <td>felixugarte</td>\n",
       "      <td>0.304890</td>\n",
       "      <td>No</td>\n",
       "      <td>373</td>\n",
       "      <td>0</td>\n",
       "      <td>367</td>\n",
       "      <td>0</td>\n",
       "      <td>6</td>\n",
       "      <td>369</td>\n",
       "      <td>499</td>\n",
       "    </tr>\n",
       "    <tr>\n",
       "      <th>5</th>\n",
       "      <td>LaJusticierra</td>\n",
       "      <td>0.322528</td>\n",
       "      <td>No</td>\n",
       "      <td>344</td>\n",
       "      <td>2</td>\n",
       "      <td>258</td>\n",
       "      <td>0</td>\n",
       "      <td>84</td>\n",
       "      <td>1262</td>\n",
       "      <td>3344</td>\n",
       "    </tr>\n",
       "    <tr>\n",
       "      <th>6</th>\n",
       "      <td>MaritoAbdo</td>\n",
       "      <td>0.000000</td>\n",
       "      <td>No</td>\n",
       "      <td>270</td>\n",
       "      <td>228</td>\n",
       "      <td>42</td>\n",
       "      <td>0</td>\n",
       "      <td>0</td>\n",
       "      <td>501</td>\n",
       "      <td>101326</td>\n",
       "    </tr>\n",
       "    <tr>\n",
       "      <th>7</th>\n",
       "      <td>jjrios_bogado</td>\n",
       "      <td>0.421662</td>\n",
       "      <td>No</td>\n",
       "      <td>264</td>\n",
       "      <td>29</td>\n",
       "      <td>233</td>\n",
       "      <td>0</td>\n",
       "      <td>2</td>\n",
       "      <td>777</td>\n",
       "      <td>1870</td>\n",
       "    </tr>\n",
       "    <tr>\n",
       "      <th>8</th>\n",
       "      <td>EDITHVILLA3</td>\n",
       "      <td>0.477252</td>\n",
       "      <td>No</td>\n",
       "      <td>246</td>\n",
       "      <td>5</td>\n",
       "      <td>193</td>\n",
       "      <td>0</td>\n",
       "      <td>48</td>\n",
       "      <td>1117</td>\n",
       "      <td>598</td>\n",
       "    </tr>\n",
       "    <tr>\n",
       "      <th>9</th>\n",
       "      <td>totoclerch</td>\n",
       "      <td>0.318271</td>\n",
       "      <td>No</td>\n",
       "      <td>245</td>\n",
       "      <td>5</td>\n",
       "      <td>168</td>\n",
       "      <td>4</td>\n",
       "      <td>68</td>\n",
       "      <td>1025</td>\n",
       "      <td>1580</td>\n",
       "    </tr>\n",
       "  </tbody>\n",
       "</table>\n",
       "</div>"
      ],
      "text/plain": [
       "        1.Usuario   10. PBB 2. Es cuenta Falsa?  3.Tweets  4.Originales  \\\n",
       "0  Paraguaynosune  0.424198                  No       856             0   \n",
       "1      Beatriz20D  0.744348                  No       854             0   \n",
       "2        Solmelga  0.294215                  No       540           138   \n",
       "3         1000_am  0.132465                  No       421           148   \n",
       "4     felixugarte  0.304890                  No       373             0   \n",
       "5   LaJusticierra  0.322528                  No       344             2   \n",
       "6      MaritoAbdo  0.000000                  No       270           228   \n",
       "7   jjrios_bogado  0.421662                  No       264            29   \n",
       "8     EDITHVILLA3  0.477252                  No       246             5   \n",
       "9      totoclerch  0.318271                  No       245             5   \n",
       "\n",
       "   5.Retweets  6.Quotes  7.Replies  8.Followers  9.Friends  \n",
       "0         856         0          0          174        520  \n",
       "1         743         2        109          739        210  \n",
       "2         330         1         71         4790       5323  \n",
       "3          78         1        194          368      93115  \n",
       "4         367         0          6          369        499  \n",
       "5         258         0         84         1262       3344  \n",
       "6          42         0          0          501     101326  \n",
       "7         233         0          2          777       1870  \n",
       "8         193         0         48         1117        598  \n",
       "9         168         4         68         1025       1580  "
      ]
     },
     "execution_count": 12,
     "metadata": {},
     "output_type": "execute_result"
    }
   ],
   "source": [
    "top10_tuiteros_ca = []\n",
    "for i in range(10):\n",
    "    tuitero_ca = {'1.Usuario': users_ca[i]['screen_name'], \n",
    "                  '3.Tweets': users_ca[i]['tweets'],\n",
    "                  '4.Originales': users_ca[i]['original_tweets'],\n",
    "                  '5.Retweets': users_ca[i]['rts'],\n",
    "                  '6.Quotes': users_ca[i]['qts'],\n",
    "                  '7.Replies': users_ca[i]['rps'],\n",
    "                  '8.Followers': users_ca[i]['friends'],\n",
    "                  '9.Friends': users_ca[i]['followers'],\n",
    "                  '10. PBB': users_ca[i]['pbb']}\n",
    "    # 0.87 es el límite del tercer quartil en la distribución de\n",
    "    # las probabilidades de ser bot o cuenta falsa\n",
    "    if users_ca[i]['pbb'] > 0.87:\n",
    "        tuitero_ca['2. Es cuenta Falsa?'] = 'Si'\n",
    "    else:\n",
    "        tuitero_ca['2. Es cuenta Falsa?'] = 'No'\n",
    "    top10_tuiteros_ca.append(tuitero_ca)\n",
    "pd.DataFrame(top10_tuiteros_ca)"
   ]
  },
  {
   "cell_type": "code",
   "execution_count": 13,
   "metadata": {
    "scrolled": true
   },
   "outputs": [
    {
     "data": {
      "image/png": "[encoded data removed]",
      "text/plain": [
       "<matplotlib.figure.Figure at 0x1145787f0>"
      ]
     },
     "metadata": {
      "needs_background": "light"
     },
     "output_type": "display_data"
    }
   ],
   "source": [
    "tuiteros_por_movimiento = pd.DataFrame({\n",
    "    'Movimiento': ['Honor Colorado', 'Colorado Añeteté'],\n",
    "    'Tuiteros': [unique_users_hc.count(), unique_users_ca.count()]\n",
    "}, index=['hc', 'ca'])\n",
    "fig = sns.barplot(x='Movimiento', y='Tuiteros', data=tuiteros_por_movimiento, palette=\"Reds_d\")\n",
    "for p in fig.patches:\n",
    "    fig.annotate(\"%d\" % p.get_height(), (p.get_x() + p.get_width() / 2., p.get_height()),\n",
    "                 ha='center', va='center', fontsize=12, color='black', xytext=(0, 10),\n",
    "                 textcoords='offset points')\n",
    "_ = fig.set_ylim(0,17500) #To make space for the annotations\n",
    "plt.show()"
   ]
  },
  {
   "cell_type": "markdown",
   "metadata": {},
   "source": [
    "Como se podría esperar la cantidad de perfiles que publicaron tweets utilizando hashtags vinculados al movimiento **`Honor Colorado`** (15.663, 67% del total de perfiles vinculados a la ANR) es ampliamente superior al de **`Colorado Añeteté`** (7.484, 32% del total ANR). **Por cada tuitero de `Colorado Añeteté` existen 2 tuiteros de `Honor Colorado`**. La diferencia en la cantidad de tuiteros se puede percibir también en la cantidad de tweets de cada movimiento; **`Honor Colorado`** tiene casi el doble de tweets que **`Colorado Añeteté`**. Un aspecto a notar aquí es que existen 98 perfiles que publicaron tweets usando hashtags relacionados al partido colorado pero a ningún movimiento en particular.\n",
    "\n",
    "Otro aspecto destacable es el tipo de actividad que realizan tanto los tuiteros. Comparando las actividades de los perfiles más activos en ambos movimiento se nota que en la mayoría de los casos, **los tuiteros más activos no realizan publicaciones propias** sino más bien se ocupan de realizar retweets. En otras palabras, la principal actividad de estos usuarios es amplificar y promocionar información relacionada a sus intereses. **Este comportamiento es típico de bots y cuentas falsas**. Los perfiles más activos de **`Honor Colorado`** se destacan además por su importante volumen de respuestas, esto puede deberse a que estas cuentas se utilizaron prinicipalmente para entrar en debates o responder a publicaciones en contra de los intereses de este movimiento. "
   ]
  },
  {
   "cell_type": "markdown",
   "metadata": {},
   "source": [
    "## Red de interacciones entre perfiles"
   ]
  },
  {
   "cell_type": "markdown",
   "metadata": {},
   "source": [
    "Como parte del estudio realizamos un análisis sobre la red de perfiles que publicaron tweets utilizando hashtags relacionados a la interna del partido colorado. El análisis lo centramos en las interacciones entre los perfiles, no en las relaciones entre ellos (seguidores, seguidos). Consideramos que A tuvo una interacción con B si i) publicó un tweet mencionando a B; ii) retuiteo un tweet publicado por B; iii) citó (quote) un tweet publicado por B; iv) respondió un tweet publicado por B.\n",
    "\n",
    "Al generar la **red de interacciones** encontramos que de la misma forman parte **23.710 perfiles** que se comunicaron entre si 84.996 veces en el período de Noviembre a Enero 2018, el promedio de interacciones de un perfil en la red es 3,58. La cantidad de perfiles en la red supera en 465 el total de perfiles relacionados a la ANR. Esto se debe principalmente a que la red también incluye perfiles vinculados a otros partidos que realizaron interacciones con los de la ANR.\n",
    "\n",
    "El perfil `CESARSANCHEZ553` fue el que más interacciones generó (463), seguido por `CesarSanchez636` (378), y `Norabeli` (354), todos vinculados principalmente al movimiento `Honor Colorado`. `Santula` (4.661), `MaritoAbdo` (4.636), y `SantiPenap` (4.532) fueron los perfiles que más interacciones recibieron, esto es menciones, retweets, replies, quotes. Es interesante notar el rol tan preponderante del periodista Santiago González (Santula). En el último mes de campaña Santula atrajo inclusive más interacciones que los mismos candidatos a la presidencia."
   ]
  },
  {
   "cell_type": "markdown",
   "metadata": {},
   "source": [
    "![Red Interacciones](../../sna/img/internas-anr-red.png)"
   ]
  },
  {
   "cell_type": "markdown",
   "metadata": {},
   "source": [
    "El gráfico muestra la parte más significativa de la red de interacciones. Los perfiles son ilustrados por medio de círculos, los cuales toman principalmente dos colores. Los circulos `rojo claro` represetan perfiles cuyas interacciones contenian mayoritariamente hashtags o menciones asociadas al movimiento **`Honor Colorado`**. El `rojo oscuro` se utiliza para respresentar perfiles que principalmente participaron de comunicaciones donde se utilizaron hashtags o menciones vinculadas a la campaña del movimiento **`Colorado Añeteté`**. Existen círculo de otros colores como azul, naranja, o verde utilizados para representar otros movimientos de la ANR como el progresista colorado pero estos son irrelevantes dentro de la red.\n",
    "\n",
    "El **tamaño de los círculos** es proporcional al número de interacciones del perfil. Así perfiles que representados por círculos grandes (p. ej., MaritoAbdo, Horacio_Cartes, SantiPenap) son muy relevantes dentro de la red por la gran cantidad de interacciones en las que se vieron envueltos. Además de tamaño y color, los círculos se encuentran etiquetados con el nombre de perfil. El tamaño de la etiqueta es proporcional al tamaño del círculo, así perfiles importantes, con muchas interacciones, tienen asociados etiquetas más grandes.\n",
    "\n",
    "Como era de esperarse la red está dominada por perfiles que utilizaron en sus interacciones hashtags vinculados al movimiento **`Honor Colorado`**. Vimos anteriormente que estos son mayoría en el conjunto de datos. Los perfiles del movimiento **`Colorado Añeteté`** se encuentran principalmente en un sector acotado de la red y muy cercanos al perfil del candidato de este movimiento. Otra característica esperable de la red es la influencia de los perfiles de los candidatos a presidente, **Mario Abdo (`MaritoAbdo`)** y **Santiago Peña (`SantiPenap`)**. Es de notar también la importancia en la red del líder del movimiento **`Honor Colorado`**, **Horacio Cartes (`Horacio_Cartes`)**, demostrando que se vió involucrado --- esto es, menciones, retweets, replies, etc --- en gran parte de las interacciones, especialmente en las de su movimiento.\n",
    "\n",
    "Un aspecto sorpresivo y a destacar es la importancia en la red de los periodistas **Santiago González (`Santula`)** y **Luis Bareiro (`LuisBareiro`)**. Por el color de los círculos utilizados para representar su perfiles podemos notar que principalmente los mismo se vieron involucrados en interacciones que mayoritariamente incluían hashtags menciones a los perfiles de los candidatos del movimiento oficialista **`Honor Colorado`**. Considerando la posición crítica de estos periodistas hacia el gobierno, es difícil imaginar que los mismos hayan utilizado twitter para promocionar las candidaturas de este movimiento, es más probable, sin embargo, que González y Bareiro se hayan visto involucrados en discusiones con seguidores de HC a raiz de comentarios críticos hacia el gobierno, el candidato a presidente, o el grupo político ligado a **`Honor Colorado`**. Profundizaremos en este aspecto más adelante."
   ]
  },
  {
   "cell_type": "markdown",
   "metadata": {},
   "source": [
    "### Honor Colorado"
   ]
  },
  {
   "cell_type": "markdown",
   "metadata": {},
   "source": [
    "La red de interacciones del movimiento **`Honor Colorado`** está compuesta por **15.809 perfiles** (66.68% del total) que realizaron 47.436 interacciones (56% del total). En promedio, los perfiles de la red de **`Honor Colorado`** realizan 3 interacciones. `SantiPenap` (4.122), `Santula` (3.490), y `Horacio_Cartes` (3.173) son los tres perfiles que más interacciones recibieron. Lo de Peña y Cartes es entendible, lo de `Santula` es llamativo. Conociendo su postura crítica al candidato oficialista y al gobierno es de suponer que las interacciones no deberieron ser muy positivas. En una misma situación se encuentra Luis Bareiro (`LuisBareiro`), que después del perfil del presidente de la república, es el que más interacciones recibió (2.543).\n",
    "\n",
    "También es notorio la importancia en la red de perfiles muy críticos al gobierno como el de la Senadora Desireè Masi (`desimasi2`), quién en este período recibió 877 interacciones (menciones, respuestas, citaciones, retweets). También se destaca el perfil del canal de televisión Telefuturo (`TelefuturoInfo`), quién recibió más de 1.000 interacciones de cuentas vinculas al movimiento oficialista. Cabe destacar que la línea editorial del canal Telefuturo fue una de las más críticas al gobierno durante la crisis de la enmienda. El perfil de la radio ABC Cardinal (`ABCCardinal`) y del periodística de esta radio Javier Sánchez (`JavierSanchezPy`) se destacan también como relevantes dentro de la red del movimiento **`Honor Colorado`**."
   ]
  },
  {
   "cell_type": "markdown",
   "metadata": {},
   "source": [
    "![Red Interacciones](../../sna/img/internas-anr-hc-red.png)"
   ]
  },
  {
   "cell_type": "markdown",
   "metadata": {},
   "source": [
    "## Colorado Añeteté"
   ]
  },
  {
   "cell_type": "markdown",
   "metadata": {},
   "source": [
    "Aproximadamente 33% del total de perfiles (**7.629**) de la red de interacciones de la ANR está compuesta por cuenta relacionadas al movimiento **`Colorado Añeteté`**. Estos perfiles interactuaron 14.333 veces durante el último mes de campaña y los primeros días de Enero de 2018. En promedio los perfiles realizaron 1.87 interacciones. Como era de esperarse y se puede notar en la gráfica, la red de **`Colorado Añeteté`** está fuertemente centrada en la figura del candidato a presidente Mario Abdo (`MaritoAbdo`). Esto lo confirman las casi 3.500 interacciones que recibió.\n",
    "\n",
    "Aunque muy por debajo de Abdo, otros perfiles en la red de **`Colorado Añeteté`** que recibieron una importante cantidad de interacciones son `JuanAfara` (485), `enriquevp` (450), y `minaftv` (324). `Paraguaynosune` es el perfil que más interacciones generó (167) seguido de `Solmega` (92) y `Beatriz20D` (75)."
   ]
  },
  {
   "cell_type": "markdown",
   "metadata": {},
   "source": [
    "![Red Interacciones](../../sna/img/internas-anr-ca-red.png)"
   ]
  },
  {
   "cell_type": "markdown",
   "metadata": {},
   "source": [
    "## Interacciones alrededor de perfiles relevantes"
   ]
  },
  {
   "cell_type": "markdown",
   "metadata": {},
   "source": [
    "Aquí analizaremos las interacciones alrededor de perfiles relevantes en la red pero no directamente vinculados a la campaña electoral de las internas de la ANR, p.ej., `Santula`, `LuisBareiro`, `enriquevp`, `desimasi2`."
   ]
  },
  {
   "cell_type": "markdown",
   "metadata": {},
   "source": [
    "### Santiago González (Santula)"
   ]
  },
  {
   "cell_type": "code",
   "execution_count": 13,
   "metadata": {
    "collapsed": true
   },
   "outputs": [],
   "source": [
    "na = NetworkAnalyzer()\n",
    "inter_santula = na.get_interactions('Santula')"
   ]
  },
  {
   "cell_type": "markdown",
   "metadata": {},
   "source": [
    "#### Interacciones generadas"
   ]
  },
  {
   "cell_type": "markdown",
   "metadata": {},
   "source": [
    "Las interacciones generadas son todas aquellas publicaciones realizadas por el usuario. Esto comprende los tweets originales, los retweets, las respuestas a tweets, y las citaciones"
   ]
  },
  {
   "cell_type": "code",
   "execution_count": 17,
   "metadata": {},
   "outputs": [
    {
     "name": "stdout",
     "output_type": "stream",
     "text": [
      "145 tweets; 24 retweets, 6 respuestas, 111 menciones, y 4 citaciones\n"
     ]
    }
   ],
   "source": [
    "print('{0} tweets; {1} retweets, {2} respuestas, {3} menciones, y {4} citaciones'. \\\n",
    "      format(inter_santula['out_interactions']['total']['count'], \\\n",
    "             inter_santula['out_interactions']['retweets']['count'], \\\n",
    "             inter_santula['out_interactions']['replies']['count'], \\\n",
    "             inter_santula['out_interactions']['mentions']['count'], \\\n",
    "             inter_santula['out_interactions']['quotes']['count']))"
   ]
  },
  {
   "cell_type": "markdown",
   "metadata": {},
   "source": [
    "##### Perfiles más retuiteados"
   ]
  },
  {
   "cell_type": "code",
   "execution_count": 21,
   "metadata": {},
   "outputs": [
    {
     "data": {
      "text/html": [
       "<div>\n",
       "<style scoped>\n",
       "    .dataframe tbody tr th:only-of-type {\n",
       "        vertical-align: middle;\n",
       "    }\n",
       "\n",
       "    .dataframe tbody tr th {\n",
       "        vertical-align: top;\n",
       "    }\n",
       "\n",
       "    .dataframe thead th {\n",
       "        text-align: right;\n",
       "    }\n",
       "</style>\n",
       "<table border=\"1\" class=\"dataframe\">\n",
       "  <thead>\n",
       "    <tr style=\"text-align: right;\">\n",
       "      <th></th>\n",
       "      <th>1.Perfil</th>\n",
       "      <th>2.Total retweets</th>\n",
       "    </tr>\n",
       "  </thead>\n",
       "  <tbody>\n",
       "    <tr>\n",
       "      <th>0</th>\n",
       "      <td>algoandamalpy</td>\n",
       "      <td>12</td>\n",
       "    </tr>\n",
       "    <tr>\n",
       "      <th>1</th>\n",
       "      <td>TelefuturoInfo</td>\n",
       "      <td>3</td>\n",
       "    </tr>\n",
       "    <tr>\n",
       "      <th>2</th>\n",
       "      <td>juankilezcano</td>\n",
       "      <td>3</td>\n",
       "    </tr>\n",
       "    <tr>\n",
       "      <th>3</th>\n",
       "      <td>minaftv</td>\n",
       "      <td>2</td>\n",
       "    </tr>\n",
       "    <tr>\n",
       "      <th>4</th>\n",
       "      <td>Santula</td>\n",
       "      <td>1</td>\n",
       "    </tr>\n",
       "  </tbody>\n",
       "</table>\n",
       "</div>"
      ],
      "text/plain": [
       "         1.Perfil  2.Total retweets\n",
       "0   algoandamalpy                12\n",
       "1  TelefuturoInfo                 3\n",
       "2   juankilezcano                 3\n",
       "3         minaftv                 2\n",
       "4         Santula                 1"
      ]
     },
     "execution_count": 21,
     "metadata": {},
     "output_type": "execute_result"
    }
   ],
   "source": [
    "top_rts = []\n",
    "out_inter_santula = inter_santula['out_interactions']['retweets']['details']\n",
    "max_iter = 5 if len(out_inter_santula) > 5 else len(out_inter_santula)\n",
    "for i in range(max_iter):\n",
    "    contacto = {'1.Perfil': out_inter_santula[i][0], \n",
    "                '2.Total retweets': out_inter_santula[i][1]\n",
    "               }\n",
    "    top_rts.append(contacto)\n",
    "pd.DataFrame(top_rts)"
   ]
  },
  {
   "cell_type": "markdown",
   "metadata": {},
   "source": [
    "##### Perfiles más mencionados"
   ]
  },
  {
   "cell_type": "code",
   "execution_count": 22,
   "metadata": {},
   "outputs": [
    {
     "data": {
      "text/html": [
       "<div>\n",
       "<style scoped>\n",
       "    .dataframe tbody tr th:only-of-type {\n",
       "        vertical-align: middle;\n",
       "    }\n",
       "\n",
       "    .dataframe tbody tr th {\n",
       "        vertical-align: top;\n",
       "    }\n",
       "\n",
       "    .dataframe thead th {\n",
       "        text-align: right;\n",
       "    }\n",
       "</style>\n",
       "<table border=\"1\" class=\"dataframe\">\n",
       "  <thead>\n",
       "    <tr style=\"text-align: right;\">\n",
       "      <th></th>\n",
       "      <th>1.Perfil</th>\n",
       "      <th>2.Total menciones</th>\n",
       "    </tr>\n",
       "  </thead>\n",
       "  <tbody>\n",
       "    <tr>\n",
       "      <th>0</th>\n",
       "      <td>Telefuturo</td>\n",
       "      <td>38</td>\n",
       "    </tr>\n",
       "    <tr>\n",
       "      <th>1</th>\n",
       "      <td>MaritoAbdo</td>\n",
       "      <td>28</td>\n",
       "    </tr>\n",
       "    <tr>\n",
       "      <th>2</th>\n",
       "      <td>SantiPenap</td>\n",
       "      <td>24</td>\n",
       "    </tr>\n",
       "    <tr>\n",
       "      <th>3</th>\n",
       "      <td>EfrainAlegre</td>\n",
       "      <td>13</td>\n",
       "    </tr>\n",
       "    <tr>\n",
       "      <th>4</th>\n",
       "      <td>nanduti</td>\n",
       "      <td>2</td>\n",
       "    </tr>\n",
       "  </tbody>\n",
       "</table>\n",
       "</div>"
      ],
      "text/plain": [
       "       1.Perfil  2.Total menciones\n",
       "0    Telefuturo                 38\n",
       "1    MaritoAbdo                 28\n",
       "2    SantiPenap                 24\n",
       "3  EfrainAlegre                 13\n",
       "4       nanduti                  2"
      ]
     },
     "execution_count": 22,
     "metadata": {},
     "output_type": "execute_result"
    }
   ],
   "source": [
    "top_mts = []\n",
    "out_inter_santula = inter_santula['out_interactions']['mentions']['details']\n",
    "max_iter = 5 if len(out_inter_santula) > 5 else len(out_inter_santula)\n",
    "for i in range(max_iter):\n",
    "    contacto = {'1.Perfil': out_inter_santula[i][0], \n",
    "                '2.Total menciones': out_inter_santula[i][1]\n",
    "               }\n",
    "    top_mts.append(contacto)\n",
    "pd.DataFrame(top_mts)"
   ]
  },
  {
   "cell_type": "markdown",
   "metadata": {},
   "source": [
    "##### Perfiles más citados"
   ]
  },
  {
   "cell_type": "code",
   "execution_count": 23,
   "metadata": {},
   "outputs": [
    {
     "data": {
      "text/html": [
       "<div>\n",
       "<style scoped>\n",
       "    .dataframe tbody tr th:only-of-type {\n",
       "        vertical-align: middle;\n",
       "    }\n",
       "\n",
       "    .dataframe tbody tr th {\n",
       "        vertical-align: top;\n",
       "    }\n",
       "\n",
       "    .dataframe thead th {\n",
       "        text-align: right;\n",
       "    }\n",
       "</style>\n",
       "<table border=\"1\" class=\"dataframe\">\n",
       "  <thead>\n",
       "    <tr style=\"text-align: right;\">\n",
       "      <th></th>\n",
       "      <th>1.Perfil</th>\n",
       "      <th>2.Total citas</th>\n",
       "    </tr>\n",
       "  </thead>\n",
       "  <tbody>\n",
       "    <tr>\n",
       "      <th>0</th>\n",
       "      <td>MoWet2015</td>\n",
       "      <td>1</td>\n",
       "    </tr>\n",
       "    <tr>\n",
       "      <th>1</th>\n",
       "      <td>UltimaHoracom</td>\n",
       "      <td>1</td>\n",
       "    </tr>\n",
       "    <tr>\n",
       "      <th>2</th>\n",
       "      <td>algoandamalpy</td>\n",
       "      <td>1</td>\n",
       "    </tr>\n",
       "    <tr>\n",
       "      <th>3</th>\n",
       "      <td>MaritoAbdo</td>\n",
       "      <td>1</td>\n",
       "    </tr>\n",
       "  </tbody>\n",
       "</table>\n",
       "</div>"
      ],
      "text/plain": [
       "        1.Perfil  2.Total citas\n",
       "0      MoWet2015              1\n",
       "1  UltimaHoracom              1\n",
       "2  algoandamalpy              1\n",
       "3     MaritoAbdo              1"
      ]
     },
     "execution_count": 23,
     "metadata": {},
     "output_type": "execute_result"
    }
   ],
   "source": [
    "top_qts = []\n",
    "out_inter_santula = inter_santula['out_interactions']['quotes']['details']\n",
    "max_iter = 5 if len(out_inter_santula) > 5 else len(out_inter_santula)\n",
    "for i in range(max_iter):\n",
    "    contacto = {'1.Perfil': out_inter_santula[i][0], \n",
    "                '2.Total citas': out_inter_santula[i][1]\n",
    "               }\n",
    "    top_qts.append(contacto)\n",
    "pd.DataFrame(top_qts)"
   ]
  },
  {
   "cell_type": "markdown",
   "metadata": {},
   "source": [
    "##### Perfiles a quiénes más respondió"
   ]
  },
  {
   "cell_type": "code",
   "execution_count": 25,
   "metadata": {},
   "outputs": [
    {
     "data": {
      "text/html": [
       "<div>\n",
       "<style scoped>\n",
       "    .dataframe tbody tr th:only-of-type {\n",
       "        vertical-align: middle;\n",
       "    }\n",
       "\n",
       "    .dataframe tbody tr th {\n",
       "        vertical-align: top;\n",
       "    }\n",
       "\n",
       "    .dataframe thead th {\n",
       "        text-align: right;\n",
       "    }\n",
       "</style>\n",
       "<table border=\"1\" class=\"dataframe\">\n",
       "  <thead>\n",
       "    <tr style=\"text-align: right;\">\n",
       "      <th></th>\n",
       "      <th>1.Perfil</th>\n",
       "      <th>2.Total respuestas</th>\n",
       "    </tr>\n",
       "  </thead>\n",
       "  <tbody>\n",
       "    <tr>\n",
       "      <th>0</th>\n",
       "      <td>josemfer</td>\n",
       "      <td>3</td>\n",
       "    </tr>\n",
       "    <tr>\n",
       "      <th>1</th>\n",
       "      <td>PolemicaPy</td>\n",
       "      <td>1</td>\n",
       "    </tr>\n",
       "    <tr>\n",
       "      <th>2</th>\n",
       "      <td>MariaGodoyMora1</td>\n",
       "      <td>1</td>\n",
       "    </tr>\n",
       "    <tr>\n",
       "      <th>3</th>\n",
       "      <td>majozpires</td>\n",
       "      <td>1</td>\n",
       "    </tr>\n",
       "  </tbody>\n",
       "</table>\n",
       "</div>"
      ],
      "text/plain": [
       "          1.Perfil  2.Total respuestas\n",
       "0         josemfer                   3\n",
       "1       PolemicaPy                   1\n",
       "2  MariaGodoyMora1                   1\n",
       "3       majozpires                   1"
      ]
     },
     "execution_count": 25,
     "metadata": {},
     "output_type": "execute_result"
    }
   ],
   "source": [
    "top_rps = []\n",
    "out_inter_santula = inter_santula['out_interactions']['replies']['details']\n",
    "max_iter = 5 if len(out_inter_santula) > 5 else len(out_inter_santula)\n",
    "for i in range(max_iter):\n",
    "    contacto = {'1.Perfil': out_inter_santula[i][0], \n",
    "                '2.Total respuestas': out_inter_santula[i][1]\n",
    "               }\n",
    "    top_rps.append(contacto)\n",
    "pd.DataFrame(top_rps)"
   ]
  },
  {
   "cell_type": "markdown",
   "metadata": {},
   "source": [
    "Lo más resaltante de las interacciones de `@Santula` es que durante el período de muestreo un importante número de sus publicaciones se centraron en tweets que mencionaron a los principales pre-candidatos a la presidencia de la república, `Mario Abdo Benítez`, `Santiago Peña`, y `Efrain Alegre`."
   ]
  },
  {
   "cell_type": "markdown",
   "metadata": {},
   "source": [
    "#### Interacciones recibidas"
   ]
  },
  {
   "cell_type": "markdown",
   "metadata": {},
   "source": [
    "Las interacciones recibidas corresponde a todos aquellos tweets donde se menciona al usuario, se cita al usuario, se retuitea o responde a una publicación del usuario."
   ]
  },
  {
   "cell_type": "code",
   "execution_count": 26,
   "metadata": {},
   "outputs": [
    {
     "name": "stdout",
     "output_type": "stream",
     "text": [
      "7743 tweets; 6000 retweets, 1563 respuestas, 118 menciones, y 62 citaciones\n"
     ]
    }
   ],
   "source": [
    "print('{0} tweets; {1} retweets, {2} respuestas, {3} menciones, y {4} citaciones'. \\\n",
    "      format(inter_santula['in_interactions']['total']['count'], \\\n",
    "             inter_santula['in_interactions']['retweets']['count'], \\\n",
    "             inter_santula['in_interactions']['replies']['count'], \\\n",
    "             inter_santula['in_interactions']['mentions']['count'], \\\n",
    "             inter_santula['in_interactions']['quotes']['count']))"
   ]
  },
  {
   "cell_type": "markdown",
   "metadata": {},
   "source": [
    "##### Perfiles que más retuiteron sus publicaciones"
   ]
  },
  {
   "cell_type": "code",
   "execution_count": 27,
   "metadata": {},
   "outputs": [
    {
     "data": {
      "text/html": [
       "<div>\n",
       "<style scoped>\n",
       "    .dataframe tbody tr th:only-of-type {\n",
       "        vertical-align: middle;\n",
       "    }\n",
       "\n",
       "    .dataframe tbody tr th {\n",
       "        vertical-align: top;\n",
       "    }\n",
       "\n",
       "    .dataframe thead th {\n",
       "        text-align: right;\n",
       "    }\n",
       "</style>\n",
       "<table border=\"1\" class=\"dataframe\">\n",
       "  <thead>\n",
       "    <tr style=\"text-align: right;\">\n",
       "      <th></th>\n",
       "      <th>1.Perfil</th>\n",
       "      <th>2.Total retweets</th>\n",
       "    </tr>\n",
       "  </thead>\n",
       "  <tbody>\n",
       "    <tr>\n",
       "      <th>0</th>\n",
       "      <td>ChristianDoldan</td>\n",
       "      <td>32</td>\n",
       "    </tr>\n",
       "    <tr>\n",
       "      <th>1</th>\n",
       "      <td>Norabeli</td>\n",
       "      <td>14</td>\n",
       "    </tr>\n",
       "    <tr>\n",
       "      <th>2</th>\n",
       "      <td>Beatriz20D</td>\n",
       "      <td>14</td>\n",
       "    </tr>\n",
       "    <tr>\n",
       "      <th>3</th>\n",
       "      <td>christianchena</td>\n",
       "      <td>14</td>\n",
       "    </tr>\n",
       "    <tr>\n",
       "      <th>4</th>\n",
       "      <td>Ever_Caceres</td>\n",
       "      <td>13</td>\n",
       "    </tr>\n",
       "  </tbody>\n",
       "</table>\n",
       "</div>"
      ],
      "text/plain": [
       "          1.Perfil  2.Total retweets\n",
       "0  ChristianDoldan                32\n",
       "1         Norabeli                14\n",
       "2       Beatriz20D                14\n",
       "3   christianchena                14\n",
       "4     Ever_Caceres                13"
      ]
     },
     "execution_count": 27,
     "metadata": {},
     "output_type": "execute_result"
    }
   ],
   "source": [
    "top_rts = []\n",
    "in_inter_santula = inter_santula['in_interactions']['retweets']['details']\n",
    "max_iter = 5 if len(in_inter_santula) > 5 else len(in_inter_santula)\n",
    "for i in range(max_iter):\n",
    "    contacto = {'1.Perfil': in_inter_santula[i][0], \n",
    "                '2.Total retweets': in_inter_santula[i][1]\n",
    "               }\n",
    "    top_rts.append(contacto)\n",
    "pd.DataFrame(top_rts)"
   ]
  },
  {
   "cell_type": "markdown",
   "metadata": {},
   "source": [
    "##### Perfiles que más respondieron a sus publicaciones"
   ]
  },
  {
   "cell_type": "code",
   "execution_count": 28,
   "metadata": {},
   "outputs": [
    {
     "data": {
      "text/html": [
       "<div>\n",
       "<style scoped>\n",
       "    .dataframe tbody tr th:only-of-type {\n",
       "        vertical-align: middle;\n",
       "    }\n",
       "\n",
       "    .dataframe tbody tr th {\n",
       "        vertical-align: top;\n",
       "    }\n",
       "\n",
       "    .dataframe thead th {\n",
       "        text-align: right;\n",
       "    }\n",
       "</style>\n",
       "<table border=\"1\" class=\"dataframe\">\n",
       "  <thead>\n",
       "    <tr style=\"text-align: right;\">\n",
       "      <th></th>\n",
       "      <th>1.Perfil</th>\n",
       "      <th>2.Total respuestas</th>\n",
       "    </tr>\n",
       "  </thead>\n",
       "  <tbody>\n",
       "    <tr>\n",
       "      <th>0</th>\n",
       "      <td>SemideiOmar</td>\n",
       "      <td>10</td>\n",
       "    </tr>\n",
       "    <tr>\n",
       "      <th>1</th>\n",
       "      <td>FarinaLfa</td>\n",
       "      <td>9</td>\n",
       "    </tr>\n",
       "    <tr>\n",
       "      <th>2</th>\n",
       "      <td>MariaelenaSugat</td>\n",
       "      <td>9</td>\n",
       "    </tr>\n",
       "    <tr>\n",
       "      <th>3</th>\n",
       "      <td>SantacruzFISA</td>\n",
       "      <td>8</td>\n",
       "    </tr>\n",
       "    <tr>\n",
       "      <th>4</th>\n",
       "      <td>RaulOjedaCano2</td>\n",
       "      <td>8</td>\n",
       "    </tr>\n",
       "  </tbody>\n",
       "</table>\n",
       "</div>"
      ],
      "text/plain": [
       "          1.Perfil  2.Total respuestas\n",
       "0      SemideiOmar                  10\n",
       "1        FarinaLfa                   9\n",
       "2  MariaelenaSugat                   9\n",
       "3    SantacruzFISA                   8\n",
       "4   RaulOjedaCano2                   8"
      ]
     },
     "execution_count": 28,
     "metadata": {},
     "output_type": "execute_result"
    }
   ],
   "source": [
    "top_rps = []\n",
    "in_inter_santula = inter_santula['in_interactions']['replies']['details']\n",
    "max_iter = 5 if len(in_inter_santula) > 5 else len(in_inter_santula)\n",
    "for i in range(max_iter):\n",
    "    contacto = {'1.Perfil': in_inter_santula[i][0], \n",
    "                '2.Total respuestas': in_inter_santula[i][1]\n",
    "               }\n",
    "    top_rps.append(contacto)\n",
    "pd.DataFrame(top_rps)"
   ]
  },
  {
   "cell_type": "markdown",
   "metadata": {},
   "source": [
    "##### Perfiles que más mencionaron a Santula"
   ]
  },
  {
   "cell_type": "code",
   "execution_count": 29,
   "metadata": {},
   "outputs": [
    {
     "data": {
      "text/html": [
       "<div>\n",
       "<style scoped>\n",
       "    .dataframe tbody tr th:only-of-type {\n",
       "        vertical-align: middle;\n",
       "    }\n",
       "\n",
       "    .dataframe tbody tr th {\n",
       "        vertical-align: top;\n",
       "    }\n",
       "\n",
       "    .dataframe thead th {\n",
       "        text-align: right;\n",
       "    }\n",
       "</style>\n",
       "<table border=\"1\" class=\"dataframe\">\n",
       "  <thead>\n",
       "    <tr style=\"text-align: right;\">\n",
       "      <th></th>\n",
       "      <th>1.Perfil</th>\n",
       "      <th>2.Total menciones</th>\n",
       "    </tr>\n",
       "  </thead>\n",
       "  <tbody>\n",
       "    <tr>\n",
       "      <th>0</th>\n",
       "      <td>CarlosZ86636382</td>\n",
       "      <td>8</td>\n",
       "    </tr>\n",
       "    <tr>\n",
       "      <th>1</th>\n",
       "      <td>Juangpy</td>\n",
       "      <td>7</td>\n",
       "    </tr>\n",
       "    <tr>\n",
       "      <th>2</th>\n",
       "      <td>_kimberlyxc</td>\n",
       "      <td>5</td>\n",
       "    </tr>\n",
       "    <tr>\n",
       "      <th>3</th>\n",
       "      <td>ANIBALCSPDS</td>\n",
       "      <td>4</td>\n",
       "    </tr>\n",
       "    <tr>\n",
       "      <th>4</th>\n",
       "      <td>josanortiz88</td>\n",
       "      <td>4</td>\n",
       "    </tr>\n",
       "  </tbody>\n",
       "</table>\n",
       "</div>"
      ],
      "text/plain": [
       "          1.Perfil  2.Total menciones\n",
       "0  CarlosZ86636382                  8\n",
       "1          Juangpy                  7\n",
       "2      _kimberlyxc                  5\n",
       "3      ANIBALCSPDS                  4\n",
       "4     josanortiz88                  4"
      ]
     },
     "execution_count": 29,
     "metadata": {},
     "output_type": "execute_result"
    }
   ],
   "source": [
    "top_mts = []\n",
    "in_inter_santula = inter_santula['in_interactions']['mentions']['details']\n",
    "max_iter = 5 if len(in_inter_santula) > 5 else len(in_inter_santula)\n",
    "for i in range(max_iter):\n",
    "    contacto = {'1.Perfil': in_inter_santula[i][0], \n",
    "                '2.Total menciones': in_inter_santula[i][1]\n",
    "               }\n",
    "    top_mts.append(contacto)\n",
    "pd.DataFrame(top_mts)"
   ]
  },
  {
   "cell_type": "markdown",
   "metadata": {},
   "source": [
    "##### Perfiles que más citaron publicaciones de Santula"
   ]
  },
  {
   "cell_type": "code",
   "execution_count": 30,
   "metadata": {},
   "outputs": [
    {
     "data": {
      "text/html": [
       "<div>\n",
       "<style scoped>\n",
       "    .dataframe tbody tr th:only-of-type {\n",
       "        vertical-align: middle;\n",
       "    }\n",
       "\n",
       "    .dataframe tbody tr th {\n",
       "        vertical-align: top;\n",
       "    }\n",
       "\n",
       "    .dataframe thead th {\n",
       "        text-align: right;\n",
       "    }\n",
       "</style>\n",
       "<table border=\"1\" class=\"dataframe\">\n",
       "  <thead>\n",
       "    <tr style=\"text-align: right;\">\n",
       "      <th></th>\n",
       "      <th>1.Perfil</th>\n",
       "      <th>2.Total citaciones</th>\n",
       "    </tr>\n",
       "  </thead>\n",
       "  <tbody>\n",
       "    <tr>\n",
       "      <th>0</th>\n",
       "      <td>heriberto7502</td>\n",
       "      <td>5</td>\n",
       "    </tr>\n",
       "    <tr>\n",
       "      <th>1</th>\n",
       "      <td>jbenjaminb</td>\n",
       "      <td>2</td>\n",
       "    </tr>\n",
       "    <tr>\n",
       "      <th>2</th>\n",
       "      <td>narakopguare</td>\n",
       "      <td>2</td>\n",
       "    </tr>\n",
       "    <tr>\n",
       "      <th>3</th>\n",
       "      <td>hova_ata</td>\n",
       "      <td>2</td>\n",
       "    </tr>\n",
       "    <tr>\n",
       "      <th>4</th>\n",
       "      <td>cyzal</td>\n",
       "      <td>2</td>\n",
       "    </tr>\n",
       "  </tbody>\n",
       "</table>\n",
       "</div>"
      ],
      "text/plain": [
       "        1.Perfil  2.Total citaciones\n",
       "0  heriberto7502                   5\n",
       "1     jbenjaminb                   2\n",
       "2   narakopguare                   2\n",
       "3       hova_ata                   2\n",
       "4          cyzal                   2"
      ]
     },
     "execution_count": 30,
     "metadata": {},
     "output_type": "execute_result"
    }
   ],
   "source": [
    "top_qts = []\n",
    "in_inter_santula = inter_santula['in_interactions']['quotes']['details']\n",
    "max_iter = 5 if len(in_inter_santula) > 5 else len(in_inter_santula)\n",
    "for i in range(max_iter):\n",
    "    contacto = {'1.Perfil': in_inter_santula[i][0], \n",
    "                '2.Total citaciones': in_inter_santula[i][1]\n",
    "               }\n",
    "    top_qts.append(contacto)\n",
    "pd.DataFrame(top_qts)"
   ]
  },
  {
   "cell_type": "markdown",
   "metadata": {},
   "source": [
    "Casi el 80% (6000 de 7743) de las interacciones recibidas por `Santula` corresponde a retweets de sus publicaciones. Esto demuestra la relevancia de este perfil dentro de la red del movimiento `Honor Colorado`. Conociendo la postura crítica de `Santula` hacia las candidaturas de este movimiento se puede esperar que el contenido de estas publicaciones no hayan sido precisamente de promoción a los candidatos de HC.\n",
    "\n",
    "Otro aspecto a resaltar es la actividad del perfil `SemideiOmar`, quién respondió a casi el 10% de total de tweets (no retweets) de `Santula`. También existen perfiles con muchas menciones a `Santula` cuyos nombres no parecen ser reales, por ejemplo `CarlosZ86636382`."
   ]
  },
  {
   "cell_type": "markdown",
   "metadata": {},
   "source": [
    "### Luis Bareiro (LuisBareiro)"
   ]
  },
  {
   "cell_type": "code",
   "execution_count": 31,
   "metadata": {
    "collapsed": true
   },
   "outputs": [],
   "source": [
    "na = NetworkAnalyzer()\n",
    "inter_bareiro = na.get_interactions('LuisBareiro')"
   ]
  },
  {
   "cell_type": "markdown",
   "metadata": {},
   "source": [
    "#### Interacciones generadas"
   ]
  },
  {
   "cell_type": "code",
   "execution_count": 32,
   "metadata": {},
   "outputs": [
    {
     "name": "stdout",
     "output_type": "stream",
     "text": [
      "17 tweets; 6 retweets, 10 respuestas, 1 menciones, y 0 citaciones\n"
     ]
    }
   ],
   "source": [
    "print('{0} tweets; {1} retweets, {2} respuestas, {3} menciones, y {4} citaciones'. \\\n",
    "      format(inter_bareiro['out_interactions']['total']['count'], \\\n",
    "             inter_bareiro['out_interactions']['retweets']['count'], \\\n",
    "             inter_bareiro['out_interactions']['replies']['count'], \\\n",
    "             inter_bareiro['out_interactions']['mentions']['count'], \\\n",
    "             inter_bareiro['out_interactions']['quotes']['count']))"
   ]
  },
  {
   "cell_type": "markdown",
   "metadata": {},
   "source": [
    "##### Perfiles más retuiteados"
   ]
  },
  {
   "cell_type": "code",
   "execution_count": 33,
   "metadata": {},
   "outputs": [
    {
     "data": {
      "text/html": [
       "<div>\n",
       "<style scoped>\n",
       "    .dataframe tbody tr th:only-of-type {\n",
       "        vertical-align: middle;\n",
       "    }\n",
       "\n",
       "    .dataframe tbody tr th {\n",
       "        vertical-align: top;\n",
       "    }\n",
       "\n",
       "    .dataframe thead th {\n",
       "        text-align: right;\n",
       "    }\n",
       "</style>\n",
       "<table border=\"1\" class=\"dataframe\">\n",
       "  <thead>\n",
       "    <tr style=\"text-align: right;\">\n",
       "      <th></th>\n",
       "      <th>1.Perfil</th>\n",
       "      <th>2.Total retweets</th>\n",
       "    </tr>\n",
       "  </thead>\n",
       "  <tbody>\n",
       "    <tr>\n",
       "      <th>0</th>\n",
       "      <td>AM_1080</td>\n",
       "      <td>2</td>\n",
       "    </tr>\n",
       "    <tr>\n",
       "      <th>1</th>\n",
       "      <td>latelePy</td>\n",
       "      <td>2</td>\n",
       "    </tr>\n",
       "    <tr>\n",
       "      <th>2</th>\n",
       "      <td>Santula</td>\n",
       "      <td>1</td>\n",
       "    </tr>\n",
       "    <tr>\n",
       "      <th>3</th>\n",
       "      <td>Dii_villalba</td>\n",
       "      <td>1</td>\n",
       "    </tr>\n",
       "  </tbody>\n",
       "</table>\n",
       "</div>"
      ],
      "text/plain": [
       "       1.Perfil  2.Total retweets\n",
       "0       AM_1080                 2\n",
       "1      latelePy                 2\n",
       "2       Santula                 1\n",
       "3  Dii_villalba                 1"
      ]
     },
     "execution_count": 33,
     "metadata": {},
     "output_type": "execute_result"
    }
   ],
   "source": [
    "top_rts = []\n",
    "out_inter_bareiro = inter_bareiro['out_interactions']['retweets']['details']\n",
    "max_iter = 5 if len(out_inter_bareiro) > 5 else len(out_inter_bareiro)\n",
    "for i in range(max_iter):\n",
    "    contacto = {'1.Perfil': out_inter_bareiro[i][0], \n",
    "                '2.Total retweets': out_inter_bareiro[i][1]\n",
    "               }\n",
    "    top_rts.append(contacto)\n",
    "pd.DataFrame(top_rts)"
   ]
  },
  {
   "cell_type": "markdown",
   "metadata": {},
   "source": [
    "##### Perfiles a quiénes más respondió"
   ]
  },
  {
   "cell_type": "code",
   "execution_count": 34,
   "metadata": {},
   "outputs": [
    {
     "data": {
      "text/html": [
       "<div>\n",
       "<style scoped>\n",
       "    .dataframe tbody tr th:only-of-type {\n",
       "        vertical-align: middle;\n",
       "    }\n",
       "\n",
       "    .dataframe tbody tr th {\n",
       "        vertical-align: top;\n",
       "    }\n",
       "\n",
       "    .dataframe thead th {\n",
       "        text-align: right;\n",
       "    }\n",
       "</style>\n",
       "<table border=\"1\" class=\"dataframe\">\n",
       "  <thead>\n",
       "    <tr style=\"text-align: right;\">\n",
       "      <th></th>\n",
       "      <th>1.Perfil</th>\n",
       "      <th>2.Total respuestas</th>\n",
       "    </tr>\n",
       "  </thead>\n",
       "  <tbody>\n",
       "    <tr>\n",
       "      <th>0</th>\n",
       "      <td>DeaMaldonado</td>\n",
       "      <td>2</td>\n",
       "    </tr>\n",
       "    <tr>\n",
       "      <th>1</th>\n",
       "      <td>gabiotago</td>\n",
       "      <td>2</td>\n",
       "    </tr>\n",
       "    <tr>\n",
       "      <th>2</th>\n",
       "      <td>IsidroRicardoV4</td>\n",
       "      <td>1</td>\n",
       "    </tr>\n",
       "    <tr>\n",
       "      <th>3</th>\n",
       "      <td>jfrancovergara</td>\n",
       "      <td>1</td>\n",
       "    </tr>\n",
       "    <tr>\n",
       "      <th>4</th>\n",
       "      <td>vlamanchao</td>\n",
       "      <td>1</td>\n",
       "    </tr>\n",
       "  </tbody>\n",
       "</table>\n",
       "</div>"
      ],
      "text/plain": [
       "          1.Perfil  2.Total respuestas\n",
       "0     DeaMaldonado                   2\n",
       "1        gabiotago                   2\n",
       "2  IsidroRicardoV4                   1\n",
       "3   jfrancovergara                   1\n",
       "4       vlamanchao                   1"
      ]
     },
     "execution_count": 34,
     "metadata": {},
     "output_type": "execute_result"
    }
   ],
   "source": [
    "top_rps = []\n",
    "out_inter_bareiro = inter_bareiro['out_interactions']['replies']['details']\n",
    "max_iter = 5 if len(out_inter_bareiro) > 5 else len(out_inter_bareiro)\n",
    "for i in range(max_iter):\n",
    "    contacto = {'1.Perfil': out_inter_bareiro[i][0], \n",
    "                '2.Total respuestas': out_inter_bareiro[i][1]\n",
    "               }\n",
    "    top_rps.append(contacto)\n",
    "pd.DataFrame(top_rps)"
   ]
  },
  {
   "cell_type": "markdown",
   "metadata": {},
   "source": [
    "#### Interacciones recibidas"
   ]
  },
  {
   "cell_type": "code",
   "execution_count": 35,
   "metadata": {},
   "outputs": [
    {
     "name": "stdout",
     "output_type": "stream",
     "text": [
      "2938 tweets; 2680 retweets, 207 respuestas, 38 menciones, y 13 citaciones\n"
     ]
    }
   ],
   "source": [
    "print('{0} tweets; {1} retweets, {2} respuestas, {3} menciones, y {4} citaciones'. \\\n",
    "      format(inter_bareiro['in_interactions']['total']['count'], \\\n",
    "             inter_bareiro['in_interactions']['retweets']['count'], \\\n",
    "             inter_bareiro['in_interactions']['replies']['count'], \\\n",
    "             inter_bareiro['in_interactions']['mentions']['count'], \\\n",
    "             inter_bareiro['in_interactions']['quotes']['count']))"
   ]
  },
  {
   "cell_type": "markdown",
   "metadata": {},
   "source": [
    "##### Perfiles que más retuitearon sus publicaciones"
   ]
  },
  {
   "cell_type": "code",
   "execution_count": 36,
   "metadata": {},
   "outputs": [
    {
     "data": {
      "text/html": [
       "<div>\n",
       "<style scoped>\n",
       "    .dataframe tbody tr th:only-of-type {\n",
       "        vertical-align: middle;\n",
       "    }\n",
       "\n",
       "    .dataframe tbody tr th {\n",
       "        vertical-align: top;\n",
       "    }\n",
       "\n",
       "    .dataframe thead th {\n",
       "        text-align: right;\n",
       "    }\n",
       "</style>\n",
       "<table border=\"1\" class=\"dataframe\">\n",
       "  <thead>\n",
       "    <tr style=\"text-align: right;\">\n",
       "      <th></th>\n",
       "      <th>1.Perfil</th>\n",
       "      <th>2.Total retweets</th>\n",
       "    </tr>\n",
       "  </thead>\n",
       "  <tbody>\n",
       "    <tr>\n",
       "      <th>0</th>\n",
       "      <td>espiridion01</td>\n",
       "      <td>8</td>\n",
       "    </tr>\n",
       "    <tr>\n",
       "      <th>1</th>\n",
       "      <td>GloriaB2B</td>\n",
       "      <td>2</td>\n",
       "    </tr>\n",
       "    <tr>\n",
       "      <th>2</th>\n",
       "      <td>JUAMPA88</td>\n",
       "      <td>1</td>\n",
       "    </tr>\n",
       "    <tr>\n",
       "      <th>3</th>\n",
       "      <td>89_caballero</td>\n",
       "      <td>1</td>\n",
       "    </tr>\n",
       "    <tr>\n",
       "      <th>4</th>\n",
       "      <td>emersonjonas101</td>\n",
       "      <td>1</td>\n",
       "    </tr>\n",
       "  </tbody>\n",
       "</table>\n",
       "</div>"
      ],
      "text/plain": [
       "          1.Perfil  2.Total retweets\n",
       "0     espiridion01                 8\n",
       "1        GloriaB2B                 2\n",
       "2         JUAMPA88                 1\n",
       "3     89_caballero                 1\n",
       "4  emersonjonas101                 1"
      ]
     },
     "execution_count": 36,
     "metadata": {},
     "output_type": "execute_result"
    }
   ],
   "source": [
    "top_rts = []\n",
    "in_inter_bareiro = inter_bareiro['in_interactions']['retweets']['details']\n",
    "max_iter = 5 if len(in_inter_bareiro) > 5 else len(in_inter_bareiro)\n",
    "for i in range(max_iter):\n",
    "    contacto = {'1.Perfil': in_inter_bareiro[i][0], \n",
    "                '2.Total retweets': in_inter_bareiro[i][1]\n",
    "               }\n",
    "    top_rts.append(contacto)\n",
    "pd.DataFrame(top_rts)"
   ]
  },
  {
   "cell_type": "markdown",
   "metadata": {},
   "source": [
    "##### Perfiles que más respondieron a sus publicaciones"
   ]
  },
  {
   "cell_type": "code",
   "execution_count": 37,
   "metadata": {},
   "outputs": [
    {
     "data": {
      "text/html": [
       "<div>\n",
       "<style scoped>\n",
       "    .dataframe tbody tr th:only-of-type {\n",
       "        vertical-align: middle;\n",
       "    }\n",
       "\n",
       "    .dataframe tbody tr th {\n",
       "        vertical-align: top;\n",
       "    }\n",
       "\n",
       "    .dataframe thead th {\n",
       "        text-align: right;\n",
       "    }\n",
       "</style>\n",
       "<table border=\"1\" class=\"dataframe\">\n",
       "  <thead>\n",
       "    <tr style=\"text-align: right;\">\n",
       "      <th></th>\n",
       "      <th>1.Perfil</th>\n",
       "      <th>2.Total respuestas</th>\n",
       "    </tr>\n",
       "  </thead>\n",
       "  <tbody>\n",
       "    <tr>\n",
       "      <th>0</th>\n",
       "      <td>rey_europa</td>\n",
       "      <td>5</td>\n",
       "    </tr>\n",
       "    <tr>\n",
       "      <th>1</th>\n",
       "      <td>britez_ortiz1</td>\n",
       "      <td>3</td>\n",
       "    </tr>\n",
       "    <tr>\n",
       "      <th>2</th>\n",
       "      <td>DeaMaldonado</td>\n",
       "      <td>3</td>\n",
       "    </tr>\n",
       "    <tr>\n",
       "      <th>3</th>\n",
       "      <td>nicomartinezpy</td>\n",
       "      <td>2</td>\n",
       "    </tr>\n",
       "    <tr>\n",
       "      <th>4</th>\n",
       "      <td>gabiotago</td>\n",
       "      <td>2</td>\n",
       "    </tr>\n",
       "  </tbody>\n",
       "</table>\n",
       "</div>"
      ],
      "text/plain": [
       "         1.Perfil  2.Total respuestas\n",
       "0      rey_europa                   5\n",
       "1   britez_ortiz1                   3\n",
       "2    DeaMaldonado                   3\n",
       "3  nicomartinezpy                   2\n",
       "4       gabiotago                   2"
      ]
     },
     "execution_count": 37,
     "metadata": {},
     "output_type": "execute_result"
    }
   ],
   "source": [
    "top_rps = []\n",
    "in_inter_bareiro = inter_bareiro['in_interactions']['replies']['details']\n",
    "max_iter = 5 if len(in_inter_bareiro) > 5 else len(in_inter_bareiro)\n",
    "for i in range(max_iter):\n",
    "    contacto = {'1.Perfil': in_inter_bareiro[i][0], \n",
    "                '2.Total respuestas': in_inter_bareiro[i][1]\n",
    "               }\n",
    "    top_rps.append(contacto)\n",
    "pd.DataFrame(top_rps)"
   ]
  },
  {
   "cell_type": "markdown",
   "metadata": {},
   "source": [
    "##### Perfiles que más mencionaron a LuisBareiro"
   ]
  },
  {
   "cell_type": "code",
   "execution_count": 38,
   "metadata": {},
   "outputs": [
    {
     "data": {
      "text/html": [
       "<div>\n",
       "<style scoped>\n",
       "    .dataframe tbody tr th:only-of-type {\n",
       "        vertical-align: middle;\n",
       "    }\n",
       "\n",
       "    .dataframe tbody tr th {\n",
       "        vertical-align: top;\n",
       "    }\n",
       "\n",
       "    .dataframe thead th {\n",
       "        text-align: right;\n",
       "    }\n",
       "</style>\n",
       "<table border=\"1\" class=\"dataframe\">\n",
       "  <thead>\n",
       "    <tr style=\"text-align: right;\">\n",
       "      <th></th>\n",
       "      <th>1.Perfil</th>\n",
       "      <th>2.Total menciones</th>\n",
       "    </tr>\n",
       "  </thead>\n",
       "  <tbody>\n",
       "    <tr>\n",
       "      <th>0</th>\n",
       "      <td>CarlosZ86636382</td>\n",
       "      <td>6</td>\n",
       "    </tr>\n",
       "    <tr>\n",
       "      <th>1</th>\n",
       "      <td>caramarillapy</td>\n",
       "      <td>4</td>\n",
       "    </tr>\n",
       "    <tr>\n",
       "      <th>2</th>\n",
       "      <td>Luinoguera</td>\n",
       "      <td>2</td>\n",
       "    </tr>\n",
       "    <tr>\n",
       "      <th>3</th>\n",
       "      <td>agustinkonrad27</td>\n",
       "      <td>2</td>\n",
       "    </tr>\n",
       "    <tr>\n",
       "      <th>4</th>\n",
       "      <td>maue_escobar</td>\n",
       "      <td>1</td>\n",
       "    </tr>\n",
       "  </tbody>\n",
       "</table>\n",
       "</div>"
      ],
      "text/plain": [
       "          1.Perfil  2.Total menciones\n",
       "0  CarlosZ86636382                  6\n",
       "1    caramarillapy                  4\n",
       "2       Luinoguera                  2\n",
       "3  agustinkonrad27                  2\n",
       "4     maue_escobar                  1"
      ]
     },
     "execution_count": 38,
     "metadata": {},
     "output_type": "execute_result"
    }
   ],
   "source": [
    "top_mts = []\n",
    "in_inter_bareiro = inter_bareiro['in_interactions']['mentions']['details']\n",
    "max_iter = 5 if len(in_inter_bareiro) > 5 else len(in_inter_bareiro)\n",
    "for i in range(max_iter):\n",
    "    contacto = {'1.Perfil': in_inter_bareiro[i][0], \n",
    "                '2.Total menciones': in_inter_bareiro[i][1]\n",
    "               }\n",
    "    top_mts.append(contacto)\n",
    "pd.DataFrame(top_mts)"
   ]
  },
  {
   "cell_type": "markdown",
   "metadata": {},
   "source": [
    "##### Perfiles que más citaron a LuisBareiro"
   ]
  },
  {
   "cell_type": "code",
   "execution_count": 39,
   "metadata": {},
   "outputs": [
    {
     "data": {
      "text/html": [
       "<div>\n",
       "<style scoped>\n",
       "    .dataframe tbody tr th:only-of-type {\n",
       "        vertical-align: middle;\n",
       "    }\n",
       "\n",
       "    .dataframe tbody tr th {\n",
       "        vertical-align: top;\n",
       "    }\n",
       "\n",
       "    .dataframe thead th {\n",
       "        text-align: right;\n",
       "    }\n",
       "</style>\n",
       "<table border=\"1\" class=\"dataframe\">\n",
       "  <thead>\n",
       "    <tr style=\"text-align: right;\">\n",
       "      <th></th>\n",
       "      <th>1.Perfil</th>\n",
       "      <th>2.Total citaciones</th>\n",
       "    </tr>\n",
       "  </thead>\n",
       "  <tbody>\n",
       "    <tr>\n",
       "      <th>0</th>\n",
       "      <td>pascolili</td>\n",
       "      <td>1</td>\n",
       "    </tr>\n",
       "    <tr>\n",
       "      <th>1</th>\n",
       "      <td>heriberto7502</td>\n",
       "      <td>1</td>\n",
       "    </tr>\n",
       "    <tr>\n",
       "      <th>2</th>\n",
       "      <td>DnicCristaldo</td>\n",
       "      <td>1</td>\n",
       "    </tr>\n",
       "    <tr>\n",
       "      <th>3</th>\n",
       "      <td>andregp87</td>\n",
       "      <td>1</td>\n",
       "    </tr>\n",
       "    <tr>\n",
       "      <th>4</th>\n",
       "      <td>fabiigonza</td>\n",
       "      <td>1</td>\n",
       "    </tr>\n",
       "  </tbody>\n",
       "</table>\n",
       "</div>"
      ],
      "text/plain": [
       "        1.Perfil  2.Total citaciones\n",
       "0      pascolili                   1\n",
       "1  heriberto7502                   1\n",
       "2  DnicCristaldo                   1\n",
       "3      andregp87                   1\n",
       "4     fabiigonza                   1"
      ]
     },
     "execution_count": 39,
     "metadata": {},
     "output_type": "execute_result"
    }
   ],
   "source": [
    "top_qts = []\n",
    "in_inter_bareiro = inter_bareiro['in_interactions']['quotes']['details']\n",
    "max_iter = 5 if len(in_inter_bareiro) > 5 else len(in_inter_bareiro)\n",
    "for i in range(max_iter):\n",
    "    contacto = {'1.Perfil': in_inter_bareiro[i][0], \n",
    "                '2.Total citaciones': in_inter_bareiro[i][1]\n",
    "               }\n",
    "    top_qts.append(contacto)\n",
    "pd.DataFrame(top_qts)"
   ]
  },
  {
   "cell_type": "markdown",
   "metadata": {},
   "source": [
    "Más del 90% (2680 de 2938) de las interacciones recibidas por `LuisBareiro` corresponden a retweets de su publicaciones, demostrando el gran alcance de sus tweets. Otro aspecto destacable es que el mismo perfil `CarlosZ86636382` que más menciones hizo sobre `Santula` es el mismo que más mencionó a `LuisBareiro`. "
   ]
  },
  {
   "cell_type": "markdown",
   "metadata": {},
   "source": [
    "### Enrique Vargas Peña (enriquevp)"
   ]
  },
  {
   "cell_type": "code",
   "execution_count": 41,
   "metadata": {
    "collapsed": true
   },
   "outputs": [],
   "source": [
    "na = NetworkAnalyzer()\n",
    "inter_evp = na.get_interactions('enriquevp')"
   ]
  },
  {
   "cell_type": "markdown",
   "metadata": {},
   "source": [
    "#### Interacciones generadas"
   ]
  },
  {
   "cell_type": "code",
   "execution_count": 42,
   "metadata": {},
   "outputs": [
    {
     "name": "stdout",
     "output_type": "stream",
     "text": [
      "153 tweets; 16 retweets, 48 respuestas, 81 menciones, y 8 citaciones\n"
     ]
    }
   ],
   "source": [
    "print('{0} tweets; {1} retweets, {2} respuestas, {3} menciones, y {4} citaciones'. \\\n",
    "      format(inter_evp['out_interactions']['total']['count'], \\\n",
    "             inter_evp['out_interactions']['retweets']['count'], \\\n",
    "             inter_evp['out_interactions']['replies']['count'], \\\n",
    "             inter_evp['out_interactions']['mentions']['count'], \\\n",
    "             inter_evp['out_interactions']['quotes']['count']))"
   ]
  },
  {
   "cell_type": "markdown",
   "metadata": {},
   "source": [
    "##### Perfiles más retuiteados"
   ]
  },
  {
   "cell_type": "code",
   "execution_count": 43,
   "metadata": {},
   "outputs": [
    {
     "data": {
      "text/html": [
       "<div>\n",
       "<style scoped>\n",
       "    .dataframe tbody tr th:only-of-type {\n",
       "        vertical-align: middle;\n",
       "    }\n",
       "\n",
       "    .dataframe tbody tr th {\n",
       "        vertical-align: top;\n",
       "    }\n",
       "\n",
       "    .dataframe thead th {\n",
       "        text-align: right;\n",
       "    }\n",
       "</style>\n",
       "<table border=\"1\" class=\"dataframe\">\n",
       "  <thead>\n",
       "    <tr style=\"text-align: right;\">\n",
       "      <th></th>\n",
       "      <th>1.Perfil</th>\n",
       "      <th>2.Total retweets</th>\n",
       "    </tr>\n",
       "  </thead>\n",
       "  <tbody>\n",
       "    <tr>\n",
       "      <th>0</th>\n",
       "      <td>Santula</td>\n",
       "      <td>4</td>\n",
       "    </tr>\n",
       "    <tr>\n",
       "      <th>1</th>\n",
       "      <td>patriaquerida</td>\n",
       "      <td>3</td>\n",
       "    </tr>\n",
       "    <tr>\n",
       "      <th>2</th>\n",
       "      <td>EfrainAlegre</td>\n",
       "      <td>2</td>\n",
       "    </tr>\n",
       "    <tr>\n",
       "      <th>3</th>\n",
       "      <td>ABCCardinal</td>\n",
       "      <td>2</td>\n",
       "    </tr>\n",
       "    <tr>\n",
       "      <th>4</th>\n",
       "      <td>JavierSanchezPy</td>\n",
       "      <td>1</td>\n",
       "    </tr>\n",
       "  </tbody>\n",
       "</table>\n",
       "</div>"
      ],
      "text/plain": [
       "          1.Perfil  2.Total retweets\n",
       "0          Santula                 4\n",
       "1    patriaquerida                 3\n",
       "2     EfrainAlegre                 2\n",
       "3      ABCCardinal                 2\n",
       "4  JavierSanchezPy                 1"
      ]
     },
     "execution_count": 43,
     "metadata": {},
     "output_type": "execute_result"
    }
   ],
   "source": [
    "top_rts = []\n",
    "out_inter_evp = inter_evp['out_interactions']['retweets']['details']\n",
    "max_iter = 5 if len(out_inter_evp) > 5 else len(out_inter_evp)\n",
    "for i in range(max_iter):\n",
    "    contacto = {'1.Perfil': out_inter_evp[i][0], \n",
    "                '2.Total retweets': out_inter_evp[i][1]\n",
    "               }\n",
    "    top_rts.append(contacto)\n",
    "pd.DataFrame(top_rts)"
   ]
  },
  {
   "cell_type": "markdown",
   "metadata": {},
   "source": [
    "##### Perfiles a los que más respondió"
   ]
  },
  {
   "cell_type": "code",
   "execution_count": 44,
   "metadata": {},
   "outputs": [
    {
     "data": {
      "text/html": [
       "<div>\n",
       "<style scoped>\n",
       "    .dataframe tbody tr th:only-of-type {\n",
       "        vertical-align: middle;\n",
       "    }\n",
       "\n",
       "    .dataframe tbody tr th {\n",
       "        vertical-align: top;\n",
       "    }\n",
       "\n",
       "    .dataframe thead th {\n",
       "        text-align: right;\n",
       "    }\n",
       "</style>\n",
       "<table border=\"1\" class=\"dataframe\">\n",
       "  <thead>\n",
       "    <tr style=\"text-align: right;\">\n",
       "      <th></th>\n",
       "      <th>1.Perfil</th>\n",
       "      <th>2.Total respuestas</th>\n",
       "    </tr>\n",
       "  </thead>\n",
       "  <tbody>\n",
       "    <tr>\n",
       "      <th>0</th>\n",
       "      <td>MaritoAbdo</td>\n",
       "      <td>17</td>\n",
       "    </tr>\n",
       "    <tr>\n",
       "      <th>1</th>\n",
       "      <td>SantiPenap</td>\n",
       "      <td>6</td>\n",
       "    </tr>\n",
       "    <tr>\n",
       "      <th>2</th>\n",
       "      <td>fidelzavala2018</td>\n",
       "      <td>6</td>\n",
       "    </tr>\n",
       "    <tr>\n",
       "      <th>3</th>\n",
       "      <td>gduartcacavelos</td>\n",
       "      <td>4</td>\n",
       "    </tr>\n",
       "    <tr>\n",
       "      <th>4</th>\n",
       "      <td>sebavillarejo</td>\n",
       "      <td>4</td>\n",
       "    </tr>\n",
       "  </tbody>\n",
       "</table>\n",
       "</div>"
      ],
      "text/plain": [
       "          1.Perfil  2.Total respuestas\n",
       "0       MaritoAbdo                  17\n",
       "1       SantiPenap                   6\n",
       "2  fidelzavala2018                   6\n",
       "3  gduartcacavelos                   4\n",
       "4    sebavillarejo                   4"
      ]
     },
     "execution_count": 44,
     "metadata": {},
     "output_type": "execute_result"
    }
   ],
   "source": [
    "top_rps = []\n",
    "out_inter_evp = inter_evp['out_interactions']['replies']['details']\n",
    "max_iter = 5 if len(out_inter_evp) > 5 else len(out_inter_evp)\n",
    "for i in range(max_iter):\n",
    "    contacto = {'1.Perfil': out_inter_evp[i][0], \n",
    "                '2.Total respuestas': out_inter_evp[i][1]\n",
    "               }\n",
    "    top_rps.append(contacto)\n",
    "pd.DataFrame(top_rps)"
   ]
  },
  {
   "cell_type": "markdown",
   "metadata": {},
   "source": [
    "##### Perfiles más mencionados"
   ]
  },
  {
   "cell_type": "code",
   "execution_count": 45,
   "metadata": {},
   "outputs": [
    {
     "data": {
      "text/html": [
       "<div>\n",
       "<style scoped>\n",
       "    .dataframe tbody tr th:only-of-type {\n",
       "        vertical-align: middle;\n",
       "    }\n",
       "\n",
       "    .dataframe tbody tr th {\n",
       "        vertical-align: top;\n",
       "    }\n",
       "\n",
       "    .dataframe thead th {\n",
       "        text-align: right;\n",
       "    }\n",
       "</style>\n",
       "<table border=\"1\" class=\"dataframe\">\n",
       "  <thead>\n",
       "    <tr style=\"text-align: right;\">\n",
       "      <th></th>\n",
       "      <th>1.Perfil</th>\n",
       "      <th>2.Total menciones</th>\n",
       "    </tr>\n",
       "  </thead>\n",
       "  <tbody>\n",
       "    <tr>\n",
       "      <th>0</th>\n",
       "      <td>SantiPenap</td>\n",
       "      <td>27</td>\n",
       "    </tr>\n",
       "    <tr>\n",
       "      <th>1</th>\n",
       "      <td>MaritoAbdo</td>\n",
       "      <td>17</td>\n",
       "    </tr>\n",
       "    <tr>\n",
       "      <th>2</th>\n",
       "      <td>SinLimites_RG</td>\n",
       "      <td>6</td>\n",
       "    </tr>\n",
       "    <tr>\n",
       "      <th>3</th>\n",
       "      <td>EfrainAlegre</td>\n",
       "      <td>5</td>\n",
       "    </tr>\n",
       "    <tr>\n",
       "      <th>4</th>\n",
       "      <td>patriaquerida</td>\n",
       "      <td>4</td>\n",
       "    </tr>\n",
       "  </tbody>\n",
       "</table>\n",
       "</div>"
      ],
      "text/plain": [
       "        1.Perfil  2.Total menciones\n",
       "0     SantiPenap                 27\n",
       "1     MaritoAbdo                 17\n",
       "2  SinLimites_RG                  6\n",
       "3   EfrainAlegre                  5\n",
       "4  patriaquerida                  4"
      ]
     },
     "execution_count": 45,
     "metadata": {},
     "output_type": "execute_result"
    }
   ],
   "source": [
    "top_mts = []\n",
    "out_inter_evp = inter_evp['out_interactions']['mentions']['details']\n",
    "max_iter = 5 if len(out_inter_evp) > 5 else len(out_inter_evp)\n",
    "for i in range(max_iter):\n",
    "    contacto = {'1.Perfil': out_inter_evp[i][0], \n",
    "                '2.Total menciones': out_inter_evp[i][1]\n",
    "               }\n",
    "    top_mts.append(contacto)\n",
    "pd.DataFrame(top_mts)"
   ]
  },
  {
   "cell_type": "markdown",
   "metadata": {},
   "source": [
    "##### Perfiles más citados"
   ]
  },
  {
   "cell_type": "code",
   "execution_count": 46,
   "metadata": {},
   "outputs": [
    {
     "data": {
      "text/html": [
       "<div>\n",
       "<style scoped>\n",
       "    .dataframe tbody tr th:only-of-type {\n",
       "        vertical-align: middle;\n",
       "    }\n",
       "\n",
       "    .dataframe tbody tr th {\n",
       "        vertical-align: top;\n",
       "    }\n",
       "\n",
       "    .dataframe thead th {\n",
       "        text-align: right;\n",
       "    }\n",
       "</style>\n",
       "<table border=\"1\" class=\"dataframe\">\n",
       "  <thead>\n",
       "    <tr style=\"text-align: right;\">\n",
       "      <th></th>\n",
       "      <th>1.Perfil</th>\n",
       "      <th>2.Total citaciones</th>\n",
       "    </tr>\n",
       "  </thead>\n",
       "  <tbody>\n",
       "    <tr>\n",
       "      <th>0</th>\n",
       "      <td>ABCDigital</td>\n",
       "      <td>2</td>\n",
       "    </tr>\n",
       "    <tr>\n",
       "      <th>1</th>\n",
       "      <td>jotabernabe</td>\n",
       "      <td>2</td>\n",
       "    </tr>\n",
       "    <tr>\n",
       "      <th>2</th>\n",
       "      <td>Copanosetoca</td>\n",
       "      <td>1</td>\n",
       "    </tr>\n",
       "    <tr>\n",
       "      <th>3</th>\n",
       "      <td>smongelos</td>\n",
       "      <td>1</td>\n",
       "    </tr>\n",
       "    <tr>\n",
       "      <th>4</th>\n",
       "      <td>sandralopezpy</td>\n",
       "      <td>1</td>\n",
       "    </tr>\n",
       "  </tbody>\n",
       "</table>\n",
       "</div>"
      ],
      "text/plain": [
       "        1.Perfil  2.Total citaciones\n",
       "0     ABCDigital                   2\n",
       "1    jotabernabe                   2\n",
       "2   Copanosetoca                   1\n",
       "3      smongelos                   1\n",
       "4  sandralopezpy                   1"
      ]
     },
     "execution_count": 46,
     "metadata": {},
     "output_type": "execute_result"
    }
   ],
   "source": [
    "top_qts = []\n",
    "out_inter_evp = inter_evp['out_interactions']['quotes']['details']\n",
    "max_iter = 5 if len(out_inter_evp) > 5 else len(out_inter_evp)\n",
    "for i in range(max_iter):\n",
    "    contacto = {'1.Perfil': out_inter_evp[i][0], \n",
    "                '2.Total citaciones': out_inter_evp[i][1]\n",
    "               }\n",
    "    top_qts.append(contacto)\n",
    "pd.DataFrame(top_qts)"
   ]
  },
  {
   "cell_type": "markdown",
   "metadata": {},
   "source": [
    "#### Interacciones recibidas"
   ]
  },
  {
   "cell_type": "code",
   "execution_count": 47,
   "metadata": {},
   "outputs": [
    {
     "name": "stdout",
     "output_type": "stream",
     "text": [
      "2762 tweets; 2054 retweets, 654 respuestas, 43 menciones, y 11 citaciones\n"
     ]
    }
   ],
   "source": [
    "print('{0} tweets; {1} retweets, {2} respuestas, {3} menciones, y {4} citaciones'. \\\n",
    "      format(inter_evp['in_interactions']['total']['count'], \\\n",
    "             inter_evp['in_interactions']['retweets']['count'], \\\n",
    "             inter_evp['in_interactions']['replies']['count'], \\\n",
    "             inter_evp['in_interactions']['mentions']['count'], \\\n",
    "             inter_evp['in_interactions']['quotes']['count']))"
   ]
  },
  {
   "cell_type": "markdown",
   "metadata": {},
   "source": [
    "##### Perfiles que más retuitearon sus publicaciones"
   ]
  },
  {
   "cell_type": "code",
   "execution_count": 48,
   "metadata": {},
   "outputs": [
    {
     "data": {
      "text/html": [
       "<div>\n",
       "<style scoped>\n",
       "    .dataframe tbody tr th:only-of-type {\n",
       "        vertical-align: middle;\n",
       "    }\n",
       "\n",
       "    .dataframe tbody tr th {\n",
       "        vertical-align: top;\n",
       "    }\n",
       "\n",
       "    .dataframe thead th {\n",
       "        text-align: right;\n",
       "    }\n",
       "</style>\n",
       "<table border=\"1\" class=\"dataframe\">\n",
       "  <thead>\n",
       "    <tr style=\"text-align: right;\">\n",
       "      <th></th>\n",
       "      <th>1.Perfil</th>\n",
       "      <th>2.Total retweets</th>\n",
       "    </tr>\n",
       "  </thead>\n",
       "  <tbody>\n",
       "    <tr>\n",
       "      <th>0</th>\n",
       "      <td>fabiansolis_</td>\n",
       "      <td>25</td>\n",
       "    </tr>\n",
       "    <tr>\n",
       "      <th>1</th>\n",
       "      <td>Norabeli</td>\n",
       "      <td>24</td>\n",
       "    </tr>\n",
       "    <tr>\n",
       "      <th>2</th>\n",
       "      <td>Roberto73467377</td>\n",
       "      <td>22</td>\n",
       "    </tr>\n",
       "    <tr>\n",
       "      <th>3</th>\n",
       "      <td>marcosacua2</td>\n",
       "      <td>21</td>\n",
       "    </tr>\n",
       "    <tr>\n",
       "      <th>4</th>\n",
       "      <td>Beatriz20D</td>\n",
       "      <td>19</td>\n",
       "    </tr>\n",
       "  </tbody>\n",
       "</table>\n",
       "</div>"
      ],
      "text/plain": [
       "          1.Perfil  2.Total retweets\n",
       "0     fabiansolis_                25\n",
       "1         Norabeli                24\n",
       "2  Roberto73467377                22\n",
       "3      marcosacua2                21\n",
       "4       Beatriz20D                19"
      ]
     },
     "execution_count": 48,
     "metadata": {},
     "output_type": "execute_result"
    }
   ],
   "source": [
    "top_rts = []\n",
    "in_inter_evp = inter_evp['in_interactions']['retweets']['details']\n",
    "max_iter = 5 if len(in_inter_evp) > 5 else len(in_inter_evp)\n",
    "for i in range(max_iter):\n",
    "    contacto = {'1.Perfil': in_inter_evp[i][0], \n",
    "                '2.Total retweets': in_inter_evp[i][1]\n",
    "               }\n",
    "    top_rts.append(contacto)\n",
    "pd.DataFrame(top_rts)"
   ]
  },
  {
   "cell_type": "markdown",
   "metadata": {},
   "source": [
    "##### Perfiles que más respondieron a sus publicaciones"
   ]
  },
  {
   "cell_type": "code",
   "execution_count": 49,
   "metadata": {},
   "outputs": [
    {
     "data": {
      "text/html": [
       "<div>\n",
       "<style scoped>\n",
       "    .dataframe tbody tr th:only-of-type {\n",
       "        vertical-align: middle;\n",
       "    }\n",
       "\n",
       "    .dataframe tbody tr th {\n",
       "        vertical-align: top;\n",
       "    }\n",
       "\n",
       "    .dataframe thead th {\n",
       "        text-align: right;\n",
       "    }\n",
       "</style>\n",
       "<table border=\"1\" class=\"dataframe\">\n",
       "  <thead>\n",
       "    <tr style=\"text-align: right;\">\n",
       "      <th></th>\n",
       "      <th>1.Perfil</th>\n",
       "      <th>2.Total respuestas</th>\n",
       "    </tr>\n",
       "  </thead>\n",
       "  <tbody>\n",
       "    <tr>\n",
       "      <th>0</th>\n",
       "      <td>Verogot</td>\n",
       "      <td>14</td>\n",
       "    </tr>\n",
       "    <tr>\n",
       "      <th>1</th>\n",
       "      <td>Avorivas</td>\n",
       "      <td>12</td>\n",
       "    </tr>\n",
       "    <tr>\n",
       "      <th>2</th>\n",
       "      <td>AlamVera2</td>\n",
       "      <td>12</td>\n",
       "    </tr>\n",
       "    <tr>\n",
       "      <th>3</th>\n",
       "      <td>keito_sanchez</td>\n",
       "      <td>8</td>\n",
       "    </tr>\n",
       "    <tr>\n",
       "      <th>4</th>\n",
       "      <td>GloriaRiego2</td>\n",
       "      <td>8</td>\n",
       "    </tr>\n",
       "  </tbody>\n",
       "</table>\n",
       "</div>"
      ],
      "text/plain": [
       "        1.Perfil  2.Total respuestas\n",
       "0        Verogot                  14\n",
       "1       Avorivas                  12\n",
       "2      AlamVera2                  12\n",
       "3  keito_sanchez                   8\n",
       "4   GloriaRiego2                   8"
      ]
     },
     "execution_count": 49,
     "metadata": {},
     "output_type": "execute_result"
    }
   ],
   "source": [
    "top_rps = []\n",
    "in_inter_evp = inter_evp['in_interactions']['replies']['details']\n",
    "max_iter = 5 if len(in_inter_evp) > 5 else len(in_inter_evp)\n",
    "for i in range(max_iter):\n",
    "    contacto = {'1.Perfil': in_inter_evp[i][0], \n",
    "                '2.Total respuestas': in_inter_evp[i][1]\n",
    "               }\n",
    "    top_rps.append(contacto)\n",
    "pd.DataFrame(top_rps)"
   ]
  },
  {
   "cell_type": "markdown",
   "metadata": {},
   "source": [
    "##### Perfiles que más mencionaron a enriquevp "
   ]
  },
  {
   "cell_type": "code",
   "execution_count": 51,
   "metadata": {},
   "outputs": [
    {
     "data": {
      "text/html": [
       "<div>\n",
       "<style scoped>\n",
       "    .dataframe tbody tr th:only-of-type {\n",
       "        vertical-align: middle;\n",
       "    }\n",
       "\n",
       "    .dataframe tbody tr th {\n",
       "        vertical-align: top;\n",
       "    }\n",
       "\n",
       "    .dataframe thead th {\n",
       "        text-align: right;\n",
       "    }\n",
       "</style>\n",
       "<table border=\"1\" class=\"dataframe\">\n",
       "  <thead>\n",
       "    <tr style=\"text-align: right;\">\n",
       "      <th></th>\n",
       "      <th>1.Perfil</th>\n",
       "      <th>2.Total menciones</th>\n",
       "    </tr>\n",
       "  </thead>\n",
       "  <tbody>\n",
       "    <tr>\n",
       "      <th>0</th>\n",
       "      <td>caramarillapy</td>\n",
       "      <td>5</td>\n",
       "    </tr>\n",
       "    <tr>\n",
       "      <th>1</th>\n",
       "      <td>Maxnarvezmatto</td>\n",
       "      <td>4</td>\n",
       "    </tr>\n",
       "    <tr>\n",
       "      <th>2</th>\n",
       "      <td>JoseRamirezZela</td>\n",
       "      <td>2</td>\n",
       "    </tr>\n",
       "    <tr>\n",
       "      <th>3</th>\n",
       "      <td>minaftv</td>\n",
       "      <td>2</td>\n",
       "    </tr>\n",
       "    <tr>\n",
       "      <th>4</th>\n",
       "      <td>UribeQuerubin</td>\n",
       "      <td>1</td>\n",
       "    </tr>\n",
       "  </tbody>\n",
       "</table>\n",
       "</div>"
      ],
      "text/plain": [
       "          1.Perfil  2.Total menciones\n",
       "0    caramarillapy                  5\n",
       "1   Maxnarvezmatto                  4\n",
       "2  JoseRamirezZela                  2\n",
       "3          minaftv                  2\n",
       "4    UribeQuerubin                  1"
      ]
     },
     "execution_count": 51,
     "metadata": {},
     "output_type": "execute_result"
    }
   ],
   "source": [
    "top_mts = []\n",
    "in_inter_evp = inter_evp['in_interactions']['mentions']['details']\n",
    "max_iter = 5 if len(in_inter_evp) > 5 else len(in_inter_evp)\n",
    "for i in range(max_iter):\n",
    "    contacto = {'1.Perfil': in_inter_evp[i][0], \n",
    "                '2.Total menciones': in_inter_evp[i][1]\n",
    "               }\n",
    "    top_mts.append(contacto)\n",
    "pd.DataFrame(top_mts)"
   ]
  },
  {
   "cell_type": "markdown",
   "metadata": {},
   "source": [
    "##### Perfiles que más citaron sus publicaciones"
   ]
  },
  {
   "cell_type": "code",
   "execution_count": 52,
   "metadata": {},
   "outputs": [
    {
     "data": {
      "text/html": [
       "<div>\n",
       "<style scoped>\n",
       "    .dataframe tbody tr th:only-of-type {\n",
       "        vertical-align: middle;\n",
       "    }\n",
       "\n",
       "    .dataframe tbody tr th {\n",
       "        vertical-align: top;\n",
       "    }\n",
       "\n",
       "    .dataframe thead th {\n",
       "        text-align: right;\n",
       "    }\n",
       "</style>\n",
       "<table border=\"1\" class=\"dataframe\">\n",
       "  <thead>\n",
       "    <tr style=\"text-align: right;\">\n",
       "      <th></th>\n",
       "      <th>1.Perfil</th>\n",
       "      <th>2.Total citaciones</th>\n",
       "    </tr>\n",
       "  </thead>\n",
       "  <tbody>\n",
       "    <tr>\n",
       "      <th>0</th>\n",
       "      <td>chintuoviedo</td>\n",
       "      <td>1</td>\n",
       "    </tr>\n",
       "    <tr>\n",
       "      <th>1</th>\n",
       "      <td>Clyde_VolkartOf</td>\n",
       "      <td>1</td>\n",
       "    </tr>\n",
       "    <tr>\n",
       "      <th>2</th>\n",
       "      <td>desimasi2</td>\n",
       "      <td>1</td>\n",
       "    </tr>\n",
       "    <tr>\n",
       "      <th>3</th>\n",
       "      <td>Avorivas</td>\n",
       "      <td>1</td>\n",
       "    </tr>\n",
       "    <tr>\n",
       "      <th>4</th>\n",
       "      <td>gio_martinez88</td>\n",
       "      <td>1</td>\n",
       "    </tr>\n",
       "  </tbody>\n",
       "</table>\n",
       "</div>"
      ],
      "text/plain": [
       "          1.Perfil  2.Total citaciones\n",
       "0     chintuoviedo                   1\n",
       "1  Clyde_VolkartOf                   1\n",
       "2        desimasi2                   1\n",
       "3         Avorivas                   1\n",
       "4   gio_martinez88                   1"
      ]
     },
     "execution_count": 52,
     "metadata": {},
     "output_type": "execute_result"
    }
   ],
   "source": [
    "top_qts = []\n",
    "in_inter_evp = inter_evp['in_interactions']['quotes']['details']\n",
    "max_iter = 5 if len(in_inter_evp) > 5 else len(in_inter_evp)\n",
    "for i in range(max_iter):\n",
    "    contacto = {'1.Perfil': in_inter_evp[i][0], \n",
    "                '2.Total citaciones': in_inter_evp[i][1]\n",
    "               }\n",
    "    top_qts.append(contacto)\n",
    "pd.DataFrame(top_qts)"
   ]
  },
  {
   "cell_type": "markdown",
   "metadata": {},
   "source": [
    "Casi el 75% de las interacciones que recibió `enriquevp` corresponden a retweets de sus publicaciones. También se destaca que la mayoría de las interacciones generadas por Vargas Peña se relacionan con menciones, citaciones, o respuestas a los principales pre-candidatos a la presidencia, Mario Abdo Benítez, Santiago Peña, y Efraín Alegre."
   ]
  },
  {
   "cell_type": "markdown",
   "metadata": {},
   "source": [
    "### Desireè Masi (desimasi2)"
   ]
  },
  {
   "cell_type": "code",
   "execution_count": 54,
   "metadata": {
    "collapsed": true
   },
   "outputs": [],
   "source": [
    "na = NetworkAnalyzer()\n",
    "inter_dm = na.get_interactions('desimasi2')"
   ]
  },
  {
   "cell_type": "markdown",
   "metadata": {},
   "source": [
    "##### Interacciones generadas"
   ]
  },
  {
   "cell_type": "code",
   "execution_count": 55,
   "metadata": {},
   "outputs": [
    {
     "name": "stdout",
     "output_type": "stream",
     "text": [
      "235 tweets; 26 retweets, 59 respuestas, 113 menciones, y 37 citaciones\n"
     ]
    }
   ],
   "source": [
    "print('{0} tweets; {1} retweets, {2} respuestas, {3} menciones, y {4} citaciones'. \\\n",
    "      format(inter_dm['out_interactions']['total']['count'], \\\n",
    "             inter_dm['out_interactions']['retweets']['count'], \\\n",
    "             inter_dm['out_interactions']['replies']['count'], \\\n",
    "             inter_dm['out_interactions']['mentions']['count'], \\\n",
    "             inter_dm['out_interactions']['quotes']['count']))"
   ]
  },
  {
   "cell_type": "markdown",
   "metadata": {},
   "source": [
    "##### Perfiles más retuiteados"
   ]
  },
  {
   "cell_type": "code",
   "execution_count": 56,
   "metadata": {},
   "outputs": [
    {
     "data": {
      "text/html": [
       "<div>\n",
       "<style scoped>\n",
       "    .dataframe tbody tr th:only-of-type {\n",
       "        vertical-align: middle;\n",
       "    }\n",
       "\n",
       "    .dataframe tbody tr th {\n",
       "        vertical-align: top;\n",
       "    }\n",
       "\n",
       "    .dataframe thead th {\n",
       "        text-align: right;\n",
       "    }\n",
       "</style>\n",
       "<table border=\"1\" class=\"dataframe\">\n",
       "  <thead>\n",
       "    <tr style=\"text-align: right;\">\n",
       "      <th></th>\n",
       "      <th>1.Perfil</th>\n",
       "      <th>2.Total retweets</th>\n",
       "    </tr>\n",
       "  </thead>\n",
       "  <tbody>\n",
       "    <tr>\n",
       "      <th>0</th>\n",
       "      <td>StibenPatron</td>\n",
       "      <td>2</td>\n",
       "    </tr>\n",
       "    <tr>\n",
       "      <th>1</th>\n",
       "      <td>EfrainAlegre</td>\n",
       "      <td>2</td>\n",
       "    </tr>\n",
       "    <tr>\n",
       "      <th>2</th>\n",
       "      <td>enriquevp</td>\n",
       "      <td>2</td>\n",
       "    </tr>\n",
       "    <tr>\n",
       "      <th>3</th>\n",
       "      <td>Raquel_1634</td>\n",
       "      <td>1</td>\n",
       "    </tr>\n",
       "    <tr>\n",
       "      <th>4</th>\n",
       "      <td>gernhof</td>\n",
       "      <td>1</td>\n",
       "    </tr>\n",
       "  </tbody>\n",
       "</table>\n",
       "</div>"
      ],
      "text/plain": [
       "       1.Perfil  2.Total retweets\n",
       "0  StibenPatron                 2\n",
       "1  EfrainAlegre                 2\n",
       "2     enriquevp                 2\n",
       "3   Raquel_1634                 1\n",
       "4       gernhof                 1"
      ]
     },
     "execution_count": 56,
     "metadata": {},
     "output_type": "execute_result"
    }
   ],
   "source": [
    "top_rts = []\n",
    "out_inter_dm = inter_dm['out_interactions']['retweets']['details']\n",
    "max_iter = 5 if len(out_inter_dm) > 5 else len(out_inter_dm)\n",
    "for i in range(max_iter):\n",
    "    contacto = {'1.Perfil': out_inter_dm[i][0], \n",
    "                '2.Total retweets': out_inter_dm[i][1]\n",
    "               }\n",
    "    top_rts.append(contacto)\n",
    "pd.DataFrame(top_rts)"
   ]
  },
  {
   "cell_type": "markdown",
   "metadata": {},
   "source": [
    "##### Perfiles a los que más respondió"
   ]
  },
  {
   "cell_type": "code",
   "execution_count": 57,
   "metadata": {},
   "outputs": [
    {
     "data": {
      "text/html": [
       "<div>\n",
       "<style scoped>\n",
       "    .dataframe tbody tr th:only-of-type {\n",
       "        vertical-align: middle;\n",
       "    }\n",
       "\n",
       "    .dataframe tbody tr th {\n",
       "        vertical-align: top;\n",
       "    }\n",
       "\n",
       "    .dataframe thead th {\n",
       "        text-align: right;\n",
       "    }\n",
       "</style>\n",
       "<table border=\"1\" class=\"dataframe\">\n",
       "  <thead>\n",
       "    <tr style=\"text-align: right;\">\n",
       "      <th></th>\n",
       "      <th>1.Perfil</th>\n",
       "      <th>2.Total respuestas</th>\n",
       "    </tr>\n",
       "  </thead>\n",
       "  <tbody>\n",
       "    <tr>\n",
       "      <th>0</th>\n",
       "      <td>andregp87</td>\n",
       "      <td>4</td>\n",
       "    </tr>\n",
       "    <tr>\n",
       "      <th>1</th>\n",
       "      <td>Rolando35503217</td>\n",
       "      <td>3</td>\n",
       "    </tr>\n",
       "    <tr>\n",
       "      <th>2</th>\n",
       "      <td>RodneyBareiro77</td>\n",
       "      <td>2</td>\n",
       "    </tr>\n",
       "    <tr>\n",
       "      <th>3</th>\n",
       "      <td>smongelos</td>\n",
       "      <td>2</td>\n",
       "    </tr>\n",
       "    <tr>\n",
       "      <th>4</th>\n",
       "      <td>Carlito25Baz</td>\n",
       "      <td>2</td>\n",
       "    </tr>\n",
       "  </tbody>\n",
       "</table>\n",
       "</div>"
      ],
      "text/plain": [
       "          1.Perfil  2.Total respuestas\n",
       "0        andregp87                   4\n",
       "1  Rolando35503217                   3\n",
       "2  RodneyBareiro77                   2\n",
       "3        smongelos                   2\n",
       "4     Carlito25Baz                   2"
      ]
     },
     "execution_count": 57,
     "metadata": {},
     "output_type": "execute_result"
    }
   ],
   "source": [
    "top_rps = []\n",
    "out_inter_dm = inter_dm['out_interactions']['replies']['details']\n",
    "max_iter = 5 if len(out_inter_dm) > 5 else len(out_inter_dm)\n",
    "for i in range(max_iter):\n",
    "    contacto = {'1.Perfil': out_inter_dm[i][0], \n",
    "                '2.Total respuestas': out_inter_dm[i][1]\n",
    "               }\n",
    "    top_rps.append(contacto)\n",
    "pd.DataFrame(top_rps)"
   ]
  },
  {
   "cell_type": "markdown",
   "metadata": {},
   "source": [
    "##### Perfiles a los que más mencionó"
   ]
  },
  {
   "cell_type": "code",
   "execution_count": 58,
   "metadata": {},
   "outputs": [
    {
     "data": {
      "text/html": [
       "<div>\n",
       "<style scoped>\n",
       "    .dataframe tbody tr th:only-of-type {\n",
       "        vertical-align: middle;\n",
       "    }\n",
       "\n",
       "    .dataframe tbody tr th {\n",
       "        vertical-align: top;\n",
       "    }\n",
       "\n",
       "    .dataframe thead th {\n",
       "        text-align: right;\n",
       "    }\n",
       "</style>\n",
       "<table border=\"1\" class=\"dataframe\">\n",
       "  <thead>\n",
       "    <tr style=\"text-align: right;\">\n",
       "      <th></th>\n",
       "      <th>1.Perfil</th>\n",
       "      <th>2.Total menciones</th>\n",
       "    </tr>\n",
       "  </thead>\n",
       "  <tbody>\n",
       "    <tr>\n",
       "      <th>0</th>\n",
       "      <td>Horacio_Cartes</td>\n",
       "      <td>36</td>\n",
       "    </tr>\n",
       "    <tr>\n",
       "      <th>1</th>\n",
       "      <td>EfrainAlegre</td>\n",
       "      <td>7</td>\n",
       "    </tr>\n",
       "    <tr>\n",
       "      <th>2</th>\n",
       "      <td>fidelzavala2018</td>\n",
       "      <td>7</td>\n",
       "    </tr>\n",
       "    <tr>\n",
       "      <th>3</th>\n",
       "      <td>Estelaruizdiaz</td>\n",
       "      <td>6</td>\n",
       "    </tr>\n",
       "    <tr>\n",
       "      <th>4</th>\n",
       "      <td>SantiPenap</td>\n",
       "      <td>5</td>\n",
       "    </tr>\n",
       "  </tbody>\n",
       "</table>\n",
       "</div>"
      ],
      "text/plain": [
       "          1.Perfil  2.Total menciones\n",
       "0   Horacio_Cartes                 36\n",
       "1     EfrainAlegre                  7\n",
       "2  fidelzavala2018                  7\n",
       "3   Estelaruizdiaz                  6\n",
       "4       SantiPenap                  5"
      ]
     },
     "execution_count": 58,
     "metadata": {},
     "output_type": "execute_result"
    }
   ],
   "source": [
    "top_mts = []\n",
    "out_inter_dm = inter_dm['out_interactions']['mentions']['details']\n",
    "max_iter = 5 if len(out_inter_dm) > 5 else len(out_inter_dm)\n",
    "for i in range(max_iter):\n",
    "    contacto = {'1.Perfil': out_inter_dm[i][0], \n",
    "                '2.Total menciones': out_inter_dm[i][1]\n",
    "               }\n",
    "    top_mts.append(contacto)\n",
    "pd.DataFrame(top_mts)"
   ]
  },
  {
   "cell_type": "markdown",
   "metadata": {},
   "source": [
    "##### Perfiles a los que más citó"
   ]
  },
  {
   "cell_type": "code",
   "execution_count": 59,
   "metadata": {},
   "outputs": [
    {
     "data": {
      "text/html": [
       "<div>\n",
       "<style scoped>\n",
       "    .dataframe tbody tr th:only-of-type {\n",
       "        vertical-align: middle;\n",
       "    }\n",
       "\n",
       "    .dataframe tbody tr th {\n",
       "        vertical-align: top;\n",
       "    }\n",
       "\n",
       "    .dataframe thead th {\n",
       "        text-align: right;\n",
       "    }\n",
       "</style>\n",
       "<table border=\"1\" class=\"dataframe\">\n",
       "  <thead>\n",
       "    <tr style=\"text-align: right;\">\n",
       "      <th></th>\n",
       "      <th>1.Perfil</th>\n",
       "      <th>2.Total citaciones</th>\n",
       "    </tr>\n",
       "  </thead>\n",
       "  <tbody>\n",
       "    <tr>\n",
       "      <th>0</th>\n",
       "      <td>eottolenghi</td>\n",
       "      <td>5</td>\n",
       "    </tr>\n",
       "    <tr>\n",
       "      <th>1</th>\n",
       "      <td>UltimaHoracom</td>\n",
       "      <td>5</td>\n",
       "    </tr>\n",
       "    <tr>\n",
       "      <th>2</th>\n",
       "      <td>EfrainAlegre</td>\n",
       "      <td>3</td>\n",
       "    </tr>\n",
       "    <tr>\n",
       "      <th>3</th>\n",
       "      <td>ABCCardinal</td>\n",
       "      <td>3</td>\n",
       "    </tr>\n",
       "    <tr>\n",
       "      <th>4</th>\n",
       "      <td>desimasi2</td>\n",
       "      <td>3</td>\n",
       "    </tr>\n",
       "  </tbody>\n",
       "</table>\n",
       "</div>"
      ],
      "text/plain": [
       "        1.Perfil  2.Total citaciones\n",
       "0    eottolenghi                   5\n",
       "1  UltimaHoracom                   5\n",
       "2   EfrainAlegre                   3\n",
       "3    ABCCardinal                   3\n",
       "4      desimasi2                   3"
      ]
     },
     "execution_count": 59,
     "metadata": {},
     "output_type": "execute_result"
    }
   ],
   "source": [
    "top_qts = []\n",
    "out_inter_dm = inter_dm['out_interactions']['quotes']['details']\n",
    "max_iter = 5 if len(out_inter_dm) > 5 else len(out_inter_dm)\n",
    "for i in range(max_iter):\n",
    "    contacto = {'1.Perfil': out_inter_dm[i][0], \n",
    "                '2.Total citaciones': out_inter_dm[i][1]\n",
    "               }\n",
    "    top_qts.append(contacto)\n",
    "pd.DataFrame(top_qts)"
   ]
  },
  {
   "cell_type": "markdown",
   "metadata": {},
   "source": [
    "#### Interacciones recibidas"
   ]
  },
  {
   "cell_type": "code",
   "execution_count": 60,
   "metadata": {},
   "outputs": [
    {
     "name": "stdout",
     "output_type": "stream",
     "text": [
      "2516 tweets; 1735 retweets, 729 respuestas, 40 menciones, y 12 citaciones\n"
     ]
    }
   ],
   "source": [
    "print('{0} tweets; {1} retweets, {2} respuestas, {3} menciones, y {4} citaciones'. \\\n",
    "      format(inter_dm['in_interactions']['total']['count'], \\\n",
    "             inter_dm['in_interactions']['retweets']['count'], \\\n",
    "             inter_dm['in_interactions']['replies']['count'], \\\n",
    "             inter_dm['in_interactions']['mentions']['count'], \\\n",
    "             inter_dm['in_interactions']['quotes']['count']))"
   ]
  },
  {
   "cell_type": "markdown",
   "metadata": {},
   "source": [
    "##### Perfiles que más retuitean sus publicaciones"
   ]
  },
  {
   "cell_type": "code",
   "execution_count": 62,
   "metadata": {},
   "outputs": [
    {
     "data": {
      "text/html": [
       "<div>\n",
       "<style scoped>\n",
       "    .dataframe tbody tr th:only-of-type {\n",
       "        vertical-align: middle;\n",
       "    }\n",
       "\n",
       "    .dataframe tbody tr th {\n",
       "        vertical-align: top;\n",
       "    }\n",
       "\n",
       "    .dataframe thead th {\n",
       "        text-align: right;\n",
       "    }\n",
       "</style>\n",
       "<table border=\"1\" class=\"dataframe\">\n",
       "  <thead>\n",
       "    <tr style=\"text-align: right;\">\n",
       "      <th></th>\n",
       "      <th>1.Perfil</th>\n",
       "      <th>2.Total retweets</th>\n",
       "    </tr>\n",
       "  </thead>\n",
       "  <tbody>\n",
       "    <tr>\n",
       "      <th>0</th>\n",
       "      <td>gladysgulino</td>\n",
       "      <td>36</td>\n",
       "    </tr>\n",
       "    <tr>\n",
       "      <th>1</th>\n",
       "      <td>Norabeli</td>\n",
       "      <td>35</td>\n",
       "    </tr>\n",
       "    <tr>\n",
       "      <th>2</th>\n",
       "      <td>Beatriz20D</td>\n",
       "      <td>28</td>\n",
       "    </tr>\n",
       "    <tr>\n",
       "      <th>3</th>\n",
       "      <td>pdpprogresista</td>\n",
       "      <td>20</td>\n",
       "    </tr>\n",
       "    <tr>\n",
       "      <th>4</th>\n",
       "      <td>marcosacua2</td>\n",
       "      <td>19</td>\n",
       "    </tr>\n",
       "  </tbody>\n",
       "</table>\n",
       "</div>"
      ],
      "text/plain": [
       "         1.Perfil  2.Total retweets\n",
       "0    gladysgulino                36\n",
       "1        Norabeli                35\n",
       "2      Beatriz20D                28\n",
       "3  pdpprogresista                20\n",
       "4     marcosacua2                19"
      ]
     },
     "execution_count": 62,
     "metadata": {},
     "output_type": "execute_result"
    }
   ],
   "source": [
    "top_rts = []\n",
    "in_inter_dm = inter_dm['in_interactions']['retweets']['details']\n",
    "max_iter = 5 if len(in_inter_dm) > 5 else len(in_inter_dm)\n",
    "for i in range(max_iter):\n",
    "    contacto = {'1.Perfil': in_inter_dm[i][0], \n",
    "                '2.Total retweets': in_inter_dm[i][1]\n",
    "               }\n",
    "    top_rts.append(contacto)\n",
    "pd.DataFrame(top_rts)"
   ]
  },
  {
   "cell_type": "markdown",
   "metadata": {},
   "source": [
    "##### Perfiles que más respondieron a sus publicaciones"
   ]
  },
  {
   "cell_type": "code",
   "execution_count": 63,
   "metadata": {},
   "outputs": [
    {
     "data": {
      "text/html": [
       "<div>\n",
       "<style scoped>\n",
       "    .dataframe tbody tr th:only-of-type {\n",
       "        vertical-align: middle;\n",
       "    }\n",
       "\n",
       "    .dataframe tbody tr th {\n",
       "        vertical-align: top;\n",
       "    }\n",
       "\n",
       "    .dataframe thead th {\n",
       "        text-align: right;\n",
       "    }\n",
       "</style>\n",
       "<table border=\"1\" class=\"dataframe\">\n",
       "  <thead>\n",
       "    <tr style=\"text-align: right;\">\n",
       "      <th></th>\n",
       "      <th>1.Perfil</th>\n",
       "      <th>2.Total respuestas</th>\n",
       "    </tr>\n",
       "  </thead>\n",
       "  <tbody>\n",
       "    <tr>\n",
       "      <th>0</th>\n",
       "      <td>AlamVera2</td>\n",
       "      <td>11</td>\n",
       "    </tr>\n",
       "    <tr>\n",
       "      <th>1</th>\n",
       "      <td>DardoCastelluc1</td>\n",
       "      <td>10</td>\n",
       "    </tr>\n",
       "    <tr>\n",
       "      <th>2</th>\n",
       "      <td>Carlito25Baz</td>\n",
       "      <td>7</td>\n",
       "    </tr>\n",
       "    <tr>\n",
       "      <th>3</th>\n",
       "      <td>andregp87</td>\n",
       "      <td>7</td>\n",
       "    </tr>\n",
       "    <tr>\n",
       "      <th>4</th>\n",
       "      <td>edgaraguero72</td>\n",
       "      <td>6</td>\n",
       "    </tr>\n",
       "  </tbody>\n",
       "</table>\n",
       "</div>"
      ],
      "text/plain": [
       "          1.Perfil  2.Total respuestas\n",
       "0        AlamVera2                  11\n",
       "1  DardoCastelluc1                  10\n",
       "2     Carlito25Baz                   7\n",
       "3        andregp87                   7\n",
       "4    edgaraguero72                   6"
      ]
     },
     "execution_count": 63,
     "metadata": {},
     "output_type": "execute_result"
    }
   ],
   "source": [
    "top_rps = []\n",
    "in_inter_dm = inter_dm['in_interactions']['replies']['details']\n",
    "max_iter = 5 if len(in_inter_dm) > 5 else len(in_inter_dm)\n",
    "for i in range(max_iter):\n",
    "    contacto = {'1.Perfil': in_inter_dm[i][0], \n",
    "                '2.Total respuestas': in_inter_dm[i][1]\n",
    "               }\n",
    "    top_rps.append(contacto)\n",
    "pd.DataFrame(top_rps)"
   ]
  },
  {
   "cell_type": "markdown",
   "metadata": {},
   "source": [
    "##### Perfiles que más mencionaron a desimasi2"
   ]
  },
  {
   "cell_type": "code",
   "execution_count": 64,
   "metadata": {},
   "outputs": [
    {
     "data": {
      "text/html": [
       "<div>\n",
       "<style scoped>\n",
       "    .dataframe tbody tr th:only-of-type {\n",
       "        vertical-align: middle;\n",
       "    }\n",
       "\n",
       "    .dataframe tbody tr th {\n",
       "        vertical-align: top;\n",
       "    }\n",
       "\n",
       "    .dataframe thead th {\n",
       "        text-align: right;\n",
       "    }\n",
       "</style>\n",
       "<table border=\"1\" class=\"dataframe\">\n",
       "  <thead>\n",
       "    <tr style=\"text-align: right;\">\n",
       "      <th></th>\n",
       "      <th>1.Perfil</th>\n",
       "      <th>2.Total menciones</th>\n",
       "    </tr>\n",
       "  </thead>\n",
       "  <tbody>\n",
       "    <tr>\n",
       "      <th>0</th>\n",
       "      <td>ANIBALCSPDS</td>\n",
       "      <td>3</td>\n",
       "    </tr>\n",
       "    <tr>\n",
       "      <th>1</th>\n",
       "      <td>JoseRamirezZela</td>\n",
       "      <td>2</td>\n",
       "    </tr>\n",
       "    <tr>\n",
       "      <th>2</th>\n",
       "      <td>smongelos</td>\n",
       "      <td>2</td>\n",
       "    </tr>\n",
       "    <tr>\n",
       "      <th>3</th>\n",
       "      <td>Maxnarvezmatto</td>\n",
       "      <td>2</td>\n",
       "    </tr>\n",
       "    <tr>\n",
       "      <th>4</th>\n",
       "      <td>Ale_Buzo</td>\n",
       "      <td>2</td>\n",
       "    </tr>\n",
       "  </tbody>\n",
       "</table>\n",
       "</div>"
      ],
      "text/plain": [
       "          1.Perfil  2.Total menciones\n",
       "0      ANIBALCSPDS                  3\n",
       "1  JoseRamirezZela                  2\n",
       "2        smongelos                  2\n",
       "3   Maxnarvezmatto                  2\n",
       "4         Ale_Buzo                  2"
      ]
     },
     "execution_count": 64,
     "metadata": {},
     "output_type": "execute_result"
    }
   ],
   "source": [
    "top_mts = []\n",
    "in_inter_dm = inter_dm['in_interactions']['mentions']['details']\n",
    "max_iter = 5 if len(in_inter_dm) > 5 else len(in_inter_dm)\n",
    "for i in range(max_iter):\n",
    "    contacto = {'1.Perfil': in_inter_dm[i][0], \n",
    "                '2.Total menciones': in_inter_dm[i][1]\n",
    "               }\n",
    "    top_mts.append(contacto)\n",
    "pd.DataFrame(top_mts)"
   ]
  },
  {
   "cell_type": "markdown",
   "metadata": {},
   "source": [
    "##### Perfiles que más citaron sus publicaciones"
   ]
  },
  {
   "cell_type": "code",
   "execution_count": 65,
   "metadata": {},
   "outputs": [
    {
     "data": {
      "text/html": [
       "<div>\n",
       "<style scoped>\n",
       "    .dataframe tbody tr th:only-of-type {\n",
       "        vertical-align: middle;\n",
       "    }\n",
       "\n",
       "    .dataframe tbody tr th {\n",
       "        vertical-align: top;\n",
       "    }\n",
       "\n",
       "    .dataframe thead th {\n",
       "        text-align: right;\n",
       "    }\n",
       "</style>\n",
       "<table border=\"1\" class=\"dataframe\">\n",
       "  <thead>\n",
       "    <tr style=\"text-align: right;\">\n",
       "      <th></th>\n",
       "      <th>1.Perfil</th>\n",
       "      <th>2.Total citaciones</th>\n",
       "    </tr>\n",
       "  </thead>\n",
       "  <tbody>\n",
       "    <tr>\n",
       "      <th>0</th>\n",
       "      <td>casanaslevi</td>\n",
       "      <td>1</td>\n",
       "    </tr>\n",
       "    <tr>\n",
       "      <th>1</th>\n",
       "      <td>cgonzalezmir</td>\n",
       "      <td>1</td>\n",
       "    </tr>\n",
       "    <tr>\n",
       "      <th>2</th>\n",
       "      <td>JaraCristo</td>\n",
       "      <td>1</td>\n",
       "    </tr>\n",
       "    <tr>\n",
       "      <th>3</th>\n",
       "      <td>ernes_baez</td>\n",
       "      <td>1</td>\n",
       "    </tr>\n",
       "    <tr>\n",
       "      <th>4</th>\n",
       "      <td>arturodoldan</td>\n",
       "      <td>1</td>\n",
       "    </tr>\n",
       "  </tbody>\n",
       "</table>\n",
       "</div>"
      ],
      "text/plain": [
       "       1.Perfil  2.Total citaciones\n",
       "0   casanaslevi                   1\n",
       "1  cgonzalezmir                   1\n",
       "2    JaraCristo                   1\n",
       "3    ernes_baez                   1\n",
       "4  arturodoldan                   1"
      ]
     },
     "execution_count": 65,
     "metadata": {},
     "output_type": "execute_result"
    }
   ],
   "source": [
    "top_qts = []\n",
    "in_inter_dm = inter_dm['in_interactions']['quotes']['details']\n",
    "max_iter = 5 if len(in_inter_dm) > 5 else len(in_inter_dm)\n",
    "for i in range(max_iter):\n",
    "    contacto = {'1.Perfil': in_inter_dm[i][0], \n",
    "                '2.Total citaciones': in_inter_dm[i][1]\n",
    "               }\n",
    "    top_qts.append(contacto)\n",
    "pd.DataFrame(top_qts)"
   ]
  },
  {
   "cell_type": "markdown",
   "metadata": {},
   "source": [
    "Al igual que los perfiles anteriores se destaca la gran cantidad de retweets de sus publicaciones. Casi el 70% de las interacciones que recibió `desimasi2` corresponde a acciones orientadas a difundir sus tweets."
   ]
  }
 ],
 "metadata": {
  "hide_input": false,
  "kernelspec": {
   "display_name": "Python 3",
   "language": "python",
   "name": "python3"
  },
  "language_info": {
   "codemirror_mode": {
    "name": "ipython",
    "version": 3
   },
   "file_extension": ".py",
   "mimetype": "text/x-python",
   "name": "python",
   "nbconvert_exporter": "python",
   "pygments_lexer": "ipython3",
   "version": "3.6.4"
  },
  "toc": {
   "base_numbering": 1,
   "nav_menu": {},
   "number_sections": true,
   "sideBar": true,
   "skip_h1_title": false,
   "title_cell": "Table of Contents",
   "title_sidebar": "Contents",
   "toc_cell": false,
   "toc_position": {},
   "toc_section_display": true,
   "toc_window_display": false
  },
  "varInspector": {
   "cols": {
    "lenName": 16,
    "lenType": 16,
    "lenVar": 40
   },
   "kernels_config": {
    "python": {
     "delete_cmd_postfix": "",
     "delete_cmd_prefix": "del ",
     "library": "var_list.py",
     "varRefreshCmd": "print(var_dic_list())"
    },
    "r": {
     "delete_cmd_postfix": ") ",
     "delete_cmd_prefix": "rm(",
     "library": "var_list.r",
     "varRefreshCmd": "cat(var_dic_list()) "
    }
   },
   "oldHeight": 433,
   "position": {
    "height": "40px",
    "left": "17px",
    "right": "20px",
    "top": "109px",
    "width": "399px"
   },
   "types_to_exclude": [
    "module",
    "function",
    "builtin_function_or_method",
    "instance",
    "_Feature"
   ],
   "varInspector_section_display": "none",
   "window_display": true
  }
 },
 "nbformat": 4,
 "nbformat_minor": 2
}
