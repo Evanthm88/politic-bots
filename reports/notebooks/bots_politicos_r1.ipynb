{
 "cells": [
  {
   "cell_type": "markdown",
   "metadata": {},
   "source": [
    "# Cuentas Falsas y Bots Usados Con Fines Políticos"
   ]
  },
  {
   "cell_type": "markdown",
   "metadata": {},
   "source": [
    "## Reporte Inicial"
   ]
  },
  {
   "cell_type": "markdown",
   "metadata": {},
   "source": [
    "## Recolección de tweets basada en cuentas (@) y Hashtags (#)"
   ]
  },
  {
   "cell_type": "markdown",
   "metadata": {},
   "source": [
    "Usando el API de Twitter recoletamos **tweets publicados entre el 27 de Noviembre y el 4 de Diciembre de 2017**, que provengan de cuentas de pre-candidatos de los principales partidos políticos (ANR y PLRA), y/o contengan hashtags utilizados con fines electorales. Como base utilizamos las cuentas y hashtags publicados por el Diario Última Hora en su artículo [Perfiles de pre-candidatos según las redes](http://elecciones.ultimahora.com/informacion/?id=20). Por ejemplo, Última Hora reporta que el hashtag **#JuntosPodemosMas** es utilizado para identificar tweets vínculados al candidatos Santiago Peña de Honor Colorado. Así mismo, **#MaritoDeLaGente** se utilzan en tweets publicados en favor del candidato del movimiento Colorado Añeteté. Según Última Hora, el hashtag **#EsAhora** aparece en los tweets relacionados al pre-candidato a la presidencia por el PLRA, Efraín Alegre.\n",
    "\n",
    "[Aquí](https://docs.google.com/spreadsheets/d/e/2PACX-1vQHoukfR9AFhSaz30QHYwKqpwexe1ASrW8ya25Fueh3jXcRPMSjrAyj4SbzryTLiuKkPdi6fsprqtM2/pubhtml) se puede acceder a lista completa de hashtags y cuentas."
   ]
  },
  {
   "cell_type": "markdown",
   "metadata": {},
   "source": [
    "## Tamaño del data set"
   ]
  },
  {
   "cell_type": "code",
   "execution_count": 1,
   "metadata": {
    "collapsed": false
   },
   "outputs": [],
   "source": [
    "%matplotlib inline\n",
    "\n",
    "import os\n",
    "import csv\n",
    "import json\n",
    "import matplotlib.pyplot as plt\n",
    "import seaborn as sns\n",
    "import numpy as np\n",
    "import pandas as pd\n",
    "\n",
    "os.chdir('..')\n",
    "\n",
    "from db_manager import *\n",
    "from data_wrangler import *\n",
    "\n",
    "plt.style.use('seaborn')"
   ]
  },
  {
   "cell_type": "code",
   "execution_count": 2,
   "metadata": {
    "collapsed": false
   },
   "outputs": [
    {
     "name": "stdout",
     "output_type": "stream",
     "text": [
      "Se han recolectado 14640 tweets y luego almacenados en una base de datos NoSQL (MongoDB) para facilitar su análisis\n"
     ]
    }
   ],
   "source": [
    "db = get_db()\n",
    "print('Se han recolectado {0} tweets y luego almacenados en una base de datos NoSQL (MongoDB) para facilitar su '\\\n",
    "      'análisis'.format(db.tweets.count()))"
   ]
  },
  {
   "cell_type": "markdown",
   "metadata": {},
   "source": [
    "## Limpieza de data set"
   ]
  },
  {
   "cell_type": "markdown",
   "metadata": {},
   "source": [
    "Nos dimos cuenta que los hashtags que usamos para buscar tweets se utilizan también en otros contextos (en otros paises) por lo tanto para los análisis consideramos solo aquellos que además de los hashtags de interés contengan alguna mención a la cuenta de los candidatos"
   ]
  },
  {
   "cell_type": "code",
   "execution_count": 3,
   "metadata": {
    "collapsed": false
   },
   "outputs": [
    {
     "name": "stdout",
     "output_type": "stream",
     "text": [
      "Seleccionamos 11731 tweets que encontramos relevantes para el trabajo\n"
     ]
    }
   ],
   "source": [
    "identify_relevant_tweets(db)\n",
    "print('Seleccionamos {0} tweets que encontramos relevantes para el trabajo'.format(do_search(db, {'relevante': 1}).count()))"
   ]
  },
  {
   "cell_type": "markdown",
   "metadata": {},
   "source": [
    "## Cantidad de Tweets por Interna"
   ]
  },
  {
   "cell_type": "markdown",
   "metadata": {},
   "source": [
    "### ANR"
   ]
  },
  {
   "cell_type": "code",
   "execution_count": 4,
   "metadata": {
    "collapsed": false
   },
   "outputs": [
    {
     "name": "stdout",
     "output_type": "stream",
     "text": [
      "Tweets relacionados a la interna ANR: 8290\n"
     ]
    }
   ],
   "source": [
    "tweets_anr = do_search(db, {'partido_politico': 'anr', 'relevante': 1})\n",
    "print('Tweets relacionados a la interna ANR: {0}'.format(tweets_anr.count()))"
   ]
  },
  {
   "cell_type": "markdown",
   "metadata": {},
   "source": [
    "### PLRA"
   ]
  },
  {
   "cell_type": "code",
   "execution_count": 5,
   "metadata": {
    "collapsed": false
   },
   "outputs": [
    {
     "name": "stdout",
     "output_type": "stream",
     "text": [
      "Tweets relacionados a la interna PLRA: 1765\n"
     ]
    }
   ],
   "source": [
    "tweets_plra = do_search(db, {'partido_politico': 'plra', 'relevante': 1})\n",
    "print('Tweets relacionados a la interna PLRA: {0}'.format(tweets_plra.count()))"
   ]
  },
  {
   "cell_type": "markdown",
   "metadata": {},
   "source": [
    "Alrededor del 70% de los tweets colectados provienen de cuentas vinculadas a candidatos de la ANR y/o utilizan hashtags asociados a campañas del Partido Colorado."
   ]
  },
  {
   "cell_type": "markdown",
   "metadata": {},
   "source": [
    "## Internas: ANR\n",
    "\n",
    "En un primer momento nos enfocaremos en los tweets relacionados a la internas de la ANR por ser mayoría en el data set. Exploraremos inicialmente la distribución de tweets considerando los dos movimiento más importantes en estas internas, es decir **Honor Colorado** y **Colorado Añeteté**."
   ]
  },
  {
   "cell_type": "markdown",
   "metadata": {},
   "source": [
    "## Distribución de tweets por movimiento"
   ]
  },
  {
   "cell_type": "markdown",
   "metadata": {
    "collapsed": true
   },
   "source": [
    "### Honor Colorado"
   ]
  },
  {
   "cell_type": "code",
   "execution_count": 6,
   "metadata": {
    "collapsed": false
   },
   "outputs": [
    {
     "name": "stdout",
     "output_type": "stream",
     "text": [
      "Se publication 4433 tweets relacionados al movimiento Honor Colorado (53.47% del total)\n",
      "De los 4433 tweets de Honor Colorado, Santiago Peña publicó 10 tweets (0 retweets)\n"
     ]
    }
   ],
   "source": [
    "tweets_hc = do_search(db, {'movimiento': 'honor colorado'})\n",
    "print('Se publication {0} tweets relacionados al movimiento Honor Colorado ({1}% del total)'.\n",
    "      format(tweets_hc.count(), round((tweets_hc.count()/tweets_anr.count())*100,2)))\n",
    "\n",
    "tweets_sp = find_tweets_by_author(db, 'SantiPenap')\n",
    "rtweets_sp = 0\n",
    "for tweet_sp in tweets_sp:\n",
    "    if 'retweeted_status' in tweet_sp['tweet_obj'].keys():\n",
    "        rtweets_sp += 1\n",
    "print('De los {0} tweets de Honor Colorado, Santiago Peña publicó {1} tweets ({2} retweets)'.\n",
    "      format(tweets_hc.count(), tweets_sp.count(), rtweets_sp))"
   ]
  },
  {
   "cell_type": "markdown",
   "metadata": {},
   "source": [
    "### Colorado Añetete"
   ]
  },
  {
   "cell_type": "code",
   "execution_count": 7,
   "metadata": {
    "collapsed": false
   },
   "outputs": [
    {
     "name": "stdout",
     "output_type": "stream",
     "text": [
      "Se publication 3675 tweets relacionados al movimiento Colorado Añeteté (44.33% del total)\n",
      "De los 3675 tweets de Colorado Añetete, Mario Abdo publicó 70 tweets (11 retweets)\n"
     ]
    }
   ],
   "source": [
    "tweets_ca = do_search(db, {'movimiento': 'colorado añetete'})\n",
    "print('Se publication {0} tweets relacionados al movimiento Colorado Añeteté ({1}% del total)'.\n",
    "      format(tweets_ca.count(), round((tweets_ca.count()/tweets_anr.count())*100,2)))\n",
    "tweets_ma = find_tweets_by_author(db, 'MaritoAbdo')\n",
    "rtweets_ma = 0\n",
    "for tweet_ma in tweets_ma:\n",
    "    if 'retweeted_status' in tweet_ma['tweet_obj'].keys():\n",
    "        rtweets_ma += 1\n",
    "print('De los {0} tweets de Colorado Añetete, Mario Abdo publicó {1} tweets ({2} retweets)'.\n",
    "      format(tweets_ca.count(), tweets_ma.count(), rtweets_ma))"
   ]
  },
  {
   "cell_type": "code",
   "execution_count": 8,
   "metadata": {
    "collapsed": false
   },
   "outputs": [
    {
     "data": {
      "text/plain": [
       "<matplotlib.axes._subplots.AxesSubplot at 0x11c0ec1d0>"
      ]
     },
     "execution_count": 8,
     "metadata": {},
     "output_type": "execute_result"
    },
    {
     "data": {
      "image/png": "[encoded data removed]",
      "text/plain": [
       "<matplotlib.figure.Figure at 0x111531978>"
      ]
     },
     "metadata": {},
     "output_type": "display_data"
    }
   ],
   "source": [
    "tweets_por_movimiento = pd.DataFrame({\n",
    "    'Movimiento': ['Honor Colorado', 'Añeteté'],\n",
    "    'Tweets': [tweets_hc.count(), tweets_ca.count()]\n",
    "}, index=['hc', 'ca'])\n",
    "sns.barplot(x='Movimiento', y='Tweets', data=tweets_por_movimiento, palette=\"Reds_d\")"
   ]
  },
  {
   "cell_type": "markdown",
   "metadata": {},
   "source": [
    "Los tweets relacionados al movimiento *Honor Colorado* constituyen más del 50% de nuestro data set mientras que los vinculados a las candidaturas del movimiento *Colorado Añeteté* representan casi el 45% del total de datos. El restante porcentaje pertence a tweets vínculados a las internas de la ANR pero no necesariamente a uno de estos dos movimiento, por ejemplo, tweets que utilizan solamente el hashtag **#InternasANR**."
   ]
  },
  {
   "cell_type": "markdown",
   "metadata": {},
   "source": [
    "## Distribución de tweets sobre candidato"
   ]
  },
  {
   "cell_type": "markdown",
   "metadata": {},
   "source": [
    "Para este análisis solo se tuvieron en cuenta los tweets que contienen hashtags orientadas principalmente a promocionar la figura del candidato no el movimiento o partido al que pertenece. Por ejemplo, los hashtags **#JuntosPodemosMas** o **#CaminandoJuntos** son hashtags vinculados principalmente a la figura de Santiago Peña no así el hashtag **#HonorColorado** que se utiliza para promocionar el movimiento partidario pero no necesariamente la candidatura de Peña. Aquí consideramos solo los primeros, es decir, aquellos vinculados directamente al candidato.\n",
    "\n",
    "* Hashtags relacionados directamente con la campaña de Peña y que se consideraron para este análisis: #CaminandoJuntos, #JuntosHagamosMas, #SigamosConversando\n",
    "\n",
    "* Hashtags relacionados directamente con la campaña de Abdo y que se consideraron para este análisis: #MaritoDeLaGente, #ParaguayDeLaGente\n",
    "\n",
    "En los siguientes análisis no se tendrán en cuenta los tweets publicados por los candidatos. Esto es, los 10 tweets publicados por Santiago Peña y los 70 tweets publicados por Mario Abdo."
   ]
  },
  {
   "cell_type": "markdown",
   "metadata": {},
   "source": [
    "### Santiago Peña"
   ]
  },
  {
   "cell_type": "code",
   "execution_count": 9,
   "metadata": {
    "collapsed": false
   },
   "outputs": [
    {
     "name": "stdout",
     "output_type": "stream",
     "text": [
      "Tweets relacionados al candidato Santiago Peña: 2169 (48.93% del total del movimiento HC)\n"
     ]
    }
   ],
   "source": [
    "tweets_sp = do_search(db, {'candidatura': 'santiago peña', 'tweet_obj.user.screen_name': {'$ne':'SantiPenap'}})\n",
    "print('Tweets relacionados al candidato Santiago Peña: ' \\\n",
    "      '{0} ({1}% del total del movimiento HC)'.format(tweets_sp.count(), \n",
    "                                                      round((tweets_sp.count()/tweets_hc.count())*100,2)))"
   ]
  },
  {
   "cell_type": "markdown",
   "metadata": {},
   "source": [
    "### Mario Abdo Benítez"
   ]
  },
  {
   "cell_type": "code",
   "execution_count": 10,
   "metadata": {
    "collapsed": false
   },
   "outputs": [
    {
     "name": "stdout",
     "output_type": "stream",
     "text": [
      "Tweets relacionados al candidato Mario Abdo: 3246 (88.33% del total del movimiento Colorado Añeteté)\n"
     ]
    }
   ],
   "source": [
    "tweets_ma = do_search(db, {'candidatura': 'mario abdo', 'tweet_obj.user.screen_name': {'$ne':'MaritoAbdo'}})\n",
    "print('Tweets relacionados al candidato Mario Abdo: ' \\\n",
    "      '{0} ({1}% del total del movimiento Colorado Añeteté)'.format(tweets_ma.count(), \n",
    "                                                      round((tweets_ma.count()/tweets_ca.count())*100,2)))"
   ]
  },
  {
   "cell_type": "code",
   "execution_count": 11,
   "metadata": {
    "collapsed": false
   },
   "outputs": [
    {
     "data": {
      "text/plain": [
       "<matplotlib.axes._subplots.AxesSubplot at 0x11c1e47f0>"
      ]
     },
     "execution_count": 11,
     "metadata": {},
     "output_type": "execute_result"
    },
    {
     "data": {
      "image/png": "[encoded data removed]",
      "text/plain": [
       "<matplotlib.figure.Figure at 0x1112c62e8>"
      ]
     },
     "metadata": {},
     "output_type": "display_data"
    }
   ],
   "source": [
    "tweets_por_candidato = pd.DataFrame({\n",
    "    'Candidato': ['Santiago Peña', 'Mario Abdo'],\n",
    "    'Tweets': [tweets_sp.count(), tweets_ma.count()]\n",
    "}, index=['sp', 'ma'])\n",
    "sns.barplot(x='Candidato', y='Tweets', data=tweets_por_candidato, palette=\"Reds_d\")"
   ]
  },
  {
   "cell_type": "markdown",
   "metadata": {},
   "source": [
    "Este resultado es interesante. Muestra una diferencia de enfoques en las campañas en redes de ambos movimientos. **La campaña del movimiento *Colorado Añeteté* se centra principalmente en el candidato a presidente Mario Abdo Benítez, casi el 90% de los tweets éstan vinculados a su figura**. Por otra parte, la campañan de *Honor Colorado* se enfoca más en el  movimiento en si y no tanto en Peña. Quizás el pasado liberal del candidato oficialista puede estar influenciando la estraegia de HC."
   ]
  },
  {
   "cell_type": "markdown",
   "metadata": {},
   "source": [
    "## Hashtags más populares usados por los movimientos"
   ]
  },
  {
   "cell_type": "markdown",
   "metadata": {},
   "source": [
    "### Honor Colorado"
   ]
  },
  {
   "cell_type": "code",
   "execution_count": 12,
   "metadata": {
    "collapsed": false
   },
   "outputs": [
    {
     "data": {
      "text/html": [
       "<div>\n",
       "<table border=\"1\" class=\"dataframe\">\n",
       "  <thead>\n",
       "    <tr style=\"text-align: right;\">\n",
       "      <th></th>\n",
       "      <th>1. Hashtag</th>\n",
       "      <th>2. Cantidad de Tweets</th>\n",
       "      <th>3. % Total de HC</th>\n",
       "    </tr>\n",
       "  </thead>\n",
       "  <tbody>\n",
       "    <tr>\n",
       "      <th>0</th>\n",
       "      <td>#HonorColorado</td>\n",
       "      <td>762</td>\n",
       "      <td>17%</td>\n",
       "    </tr>\n",
       "    <tr>\n",
       "      <th>1</th>\n",
       "      <td>#SigamosConversando</td>\n",
       "      <td>402</td>\n",
       "      <td>9%</td>\n",
       "    </tr>\n",
       "    <tr>\n",
       "      <th>2</th>\n",
       "      <td>#CaminandoJuntos</td>\n",
       "      <td>46</td>\n",
       "      <td>1%</td>\n",
       "    </tr>\n",
       "    <tr>\n",
       "      <th>3</th>\n",
       "      <td>#JuntosPodemosMas</td>\n",
       "      <td>6</td>\n",
       "      <td>0%</td>\n",
       "    </tr>\n",
       "  </tbody>\n",
       "</table>\n",
       "</div>"
      ],
      "text/plain": [
       "            1. Hashtag  2. Cantidad de Tweets 3. % Total de HC\n",
       "0       #HonorColorado                    762              17%\n",
       "1  #SigamosConversando                    402               9%\n",
       "2     #CaminandoJuntos                     46               1%\n",
       "3    #JuntosPodemosMas                      6               0%"
      ]
     },
     "execution_count": 12,
     "metadata": {},
     "output_type": "execute_result"
    }
   ],
   "source": [
    "hashtags_hc = get_hashtags_by_movement(db, 'honor colorado', include_candidate=False, candidate_handler='SantiPenap')\n",
    "hashtags_populares_hc = []\n",
    "for hashtag in hashtags_hc:\n",
    "    por_total = round((hashtag['count']/tweets_hc.count())*100)\n",
    "    hashtag_dict = {'1. Hashtag': '#' + hashtag['_id'], '2. Cantidad de Tweets': hashtag['count'], \n",
    "                    '3. % Total de HC': str(por_total) + '%'}\n",
    "    hashtags_populares_hc.append(hashtag_dict)\n",
    "pd.DataFrame(hashtags_populares_hc)"
   ]
  },
  {
   "cell_type": "markdown",
   "metadata": {},
   "source": [
    "### Colorado Añeteté"
   ]
  },
  {
   "cell_type": "code",
   "execution_count": 13,
   "metadata": {
    "collapsed": false
   },
   "outputs": [
    {
     "data": {
      "text/html": [
       "<div>\n",
       "<table border=\"1\" class=\"dataframe\">\n",
       "  <thead>\n",
       "    <tr style=\"text-align: right;\">\n",
       "      <th></th>\n",
       "      <th>1. Hashtag</th>\n",
       "      <th>2. Cantidad de Tweets</th>\n",
       "      <th>3. % Total de Añeteté</th>\n",
       "    </tr>\n",
       "  </thead>\n",
       "  <tbody>\n",
       "    <tr>\n",
       "      <th>0</th>\n",
       "      <td>#ParaguayDeLaGente</td>\n",
       "      <td>1498</td>\n",
       "      <td>34%</td>\n",
       "    </tr>\n",
       "    <tr>\n",
       "      <th>1</th>\n",
       "      <td>#MaritoDeLaGente</td>\n",
       "      <td>915</td>\n",
       "      <td>21%</td>\n",
       "    </tr>\n",
       "    <tr>\n",
       "      <th>2</th>\n",
       "      <td>#Lista3</td>\n",
       "      <td>833</td>\n",
       "      <td>19%</td>\n",
       "    </tr>\n",
       "    <tr>\n",
       "      <th>3</th>\n",
       "      <td>#ColoradoAñetete</td>\n",
       "      <td>198</td>\n",
       "      <td>4%</td>\n",
       "    </tr>\n",
       "  </tbody>\n",
       "</table>\n",
       "</div>"
      ],
      "text/plain": [
       "           1. Hashtag  2. Cantidad de Tweets 3. % Total de Añeteté\n",
       "0  #ParaguayDeLaGente                   1498                   34%\n",
       "1    #MaritoDeLaGente                    915                   21%\n",
       "2             #Lista3                    833                   19%\n",
       "3    #ColoradoAñetete                    198                    4%"
      ]
     },
     "execution_count": 13,
     "metadata": {},
     "output_type": "execute_result"
    }
   ],
   "source": [
    "hashtags_ca = get_hashtags_by_movement(db, 'colorado añetete', include_candidate=False, candidate_handler='MaritoAbdo')\n",
    "hashtags_populares_ca = []\n",
    "for hashtag in hashtags_ca:\n",
    "    por_total = round((hashtag['count']/tweets_hc.count())*100)\n",
    "    hashtag_dict = {'1. Hashtag': '#' + hashtag['_id'], '2. Cantidad de Tweets': hashtag['count'], \n",
    "                    '3. % Total de Añeteté': str(por_total) + '%'}\n",
    "    hashtags_populares_ca.append(hashtag_dict)\n",
    "pd.DataFrame(hashtags_populares_ca)"
   ]
  },
  {
   "cell_type": "markdown",
   "metadata": {},
   "source": [
    "Estos resultados son consistentes con los anteriores ya que muestran como **la campaña del movimiento HC está principalmente enfocada en dar promoción al movimiento antes que al candidato**."
   ]
  },
  {
   "cell_type": "markdown",
   "metadata": {},
   "source": [
    "## Cantidad de tuiteros por movimiento"
   ]
  },
  {
   "cell_type": "markdown",
   "metadata": {},
   "source": [
    "### Honor Colorado"
   ]
  },
  {
   "cell_type": "code",
   "execution_count": 14,
   "metadata": {
    "collapsed": false
   },
   "outputs": [
    {
     "name": "stdout",
     "output_type": "stream",
     "text": [
      "1687 usuarios tuitearon sobre Honor Colorado\n"
     ]
    }
   ],
   "source": [
    "unique_users_hc = get_unique_users_by_movement(db, 'honor colorado', include_candidate=False, \n",
    "                                               candidate_handler='SantiPenap')\n",
    "print('{0} usuarios tuitearon sobre Honor Colorado'.format(len(unique_users_hc)))"
   ]
  },
  {
   "cell_type": "markdown",
   "metadata": {},
   "source": [
    "#### Top-10 más activos con sus actividades"
   ]
  },
  {
   "cell_type": "code",
   "execution_count": 15,
   "metadata": {
    "collapsed": false
   },
   "outputs": [
    {
     "data": {
      "text/html": [
       "<div>\n",
       "<table border=\"1\" class=\"dataframe\">\n",
       "  <thead>\n",
       "    <tr style=\"text-align: right;\">\n",
       "      <th></th>\n",
       "      <th>1.Usuario</th>\n",
       "      <th>2.Tweets</th>\n",
       "      <th>3.Originales</th>\n",
       "      <th>4.Retweets</th>\n",
       "      <th>5.Quotes</th>\n",
       "      <th>6.Replies</th>\n",
       "      <th>7.Followers</th>\n",
       "      <th>8.Friends</th>\n",
       "    </tr>\n",
       "  </thead>\n",
       "  <tbody>\n",
       "    <tr>\n",
       "      <th>0</th>\n",
       "      <td>ArturoO22734057</td>\n",
       "      <td>52</td>\n",
       "      <td>0</td>\n",
       "      <td>52</td>\n",
       "      <td>0</td>\n",
       "      <td>0</td>\n",
       "      <td>189</td>\n",
       "      <td>795</td>\n",
       "    </tr>\n",
       "    <tr>\n",
       "      <th>1</th>\n",
       "      <td>Michelec1954</td>\n",
       "      <td>45</td>\n",
       "      <td>0</td>\n",
       "      <td>0</td>\n",
       "      <td>43</td>\n",
       "      <td>2</td>\n",
       "      <td>705</td>\n",
       "      <td>1483</td>\n",
       "    </tr>\n",
       "    <tr>\n",
       "      <th>2</th>\n",
       "      <td>delgapy2016</td>\n",
       "      <td>45</td>\n",
       "      <td>0</td>\n",
       "      <td>45</td>\n",
       "      <td>0</td>\n",
       "      <td>0</td>\n",
       "      <td>76</td>\n",
       "      <td>460</td>\n",
       "    </tr>\n",
       "    <tr>\n",
       "      <th>3</th>\n",
       "      <td>silvatadeo2</td>\n",
       "      <td>42</td>\n",
       "      <td>0</td>\n",
       "      <td>40</td>\n",
       "      <td>0</td>\n",
       "      <td>2</td>\n",
       "      <td>10</td>\n",
       "      <td>53</td>\n",
       "    </tr>\n",
       "    <tr>\n",
       "      <th>4</th>\n",
       "      <td>miryangonza</td>\n",
       "      <td>41</td>\n",
       "      <td>0</td>\n",
       "      <td>39</td>\n",
       "      <td>0</td>\n",
       "      <td>2</td>\n",
       "      <td>11</td>\n",
       "      <td>55</td>\n",
       "    </tr>\n",
       "    <tr>\n",
       "      <th>5</th>\n",
       "      <td>alilebron45</td>\n",
       "      <td>40</td>\n",
       "      <td>0</td>\n",
       "      <td>39</td>\n",
       "      <td>0</td>\n",
       "      <td>1</td>\n",
       "      <td>11</td>\n",
       "      <td>64</td>\n",
       "    </tr>\n",
       "    <tr>\n",
       "      <th>6</th>\n",
       "      <td>saguierangel</td>\n",
       "      <td>40</td>\n",
       "      <td>0</td>\n",
       "      <td>39</td>\n",
       "      <td>0</td>\n",
       "      <td>1</td>\n",
       "      <td>10</td>\n",
       "      <td>53</td>\n",
       "    </tr>\n",
       "    <tr>\n",
       "      <th>7</th>\n",
       "      <td>JudithGimnez2</td>\n",
       "      <td>39</td>\n",
       "      <td>0</td>\n",
       "      <td>38</td>\n",
       "      <td>0</td>\n",
       "      <td>1</td>\n",
       "      <td>11</td>\n",
       "      <td>114</td>\n",
       "    </tr>\n",
       "    <tr>\n",
       "      <th>8</th>\n",
       "      <td>Mariade84654356</td>\n",
       "      <td>36</td>\n",
       "      <td>0</td>\n",
       "      <td>36</td>\n",
       "      <td>0</td>\n",
       "      <td>0</td>\n",
       "      <td>9</td>\n",
       "      <td>77</td>\n",
       "    </tr>\n",
       "    <tr>\n",
       "      <th>9</th>\n",
       "      <td>aristiqui85</td>\n",
       "      <td>35</td>\n",
       "      <td>0</td>\n",
       "      <td>33</td>\n",
       "      <td>0</td>\n",
       "      <td>2</td>\n",
       "      <td>245</td>\n",
       "      <td>224</td>\n",
       "    </tr>\n",
       "  </tbody>\n",
       "</table>\n",
       "</div>"
      ],
      "text/plain": [
       "         1.Usuario  2.Tweets  3.Originales  4.Retweets  5.Quotes  6.Replies  \\\n",
       "0  ArturoO22734057        52             0          52         0          0   \n",
       "1     Michelec1954        45             0           0        43          2   \n",
       "2      delgapy2016        45             0          45         0          0   \n",
       "3      silvatadeo2        42             0          40         0          2   \n",
       "4      miryangonza        41             0          39         0          2   \n",
       "5      alilebron45        40             0          39         0          1   \n",
       "6     saguierangel        40             0          39         0          1   \n",
       "7    JudithGimnez2        39             0          38         0          1   \n",
       "8  Mariade84654356        36             0          36         0          0   \n",
       "9      aristiqui85        35             0          33         0          2   \n",
       "\n",
       "   7.Followers  8.Friends  \n",
       "0          189        795  \n",
       "1          705       1483  \n",
       "2           76        460  \n",
       "3           10         53  \n",
       "4           11         55  \n",
       "5           11         64  \n",
       "6           10         53  \n",
       "7           11        114  \n",
       "8            9         77  \n",
       "9          245        224  "
      ]
     },
     "execution_count": 15,
     "metadata": {},
     "output_type": "execute_result"
    }
   ],
   "source": [
    "top10_tuiteros_hc = []\n",
    "for i in range(10):\n",
    "    tuitero_hc = {'1.Usuario': unique_users_hc[i]['screen_name'], \n",
    "                  '2.Tweets': unique_users_hc[i]['tweets_count'],\n",
    "                  '3.Originales': unique_users_hc[i]['original_count'],\n",
    "                  '4.Retweets': unique_users_hc[i]['retweets_count'],\n",
    "                  '5.Quotes': unique_users_hc[i]['quotes_count'],\n",
    "                  '6.Replies': unique_users_hc[i]['replies_count'],\n",
    "                  '7.Followers': unique_users_hc[i]['followers'],\n",
    "                  '8.Friends': unique_users_hc[i]['friends']}\n",
    "    top10_tuiteros_hc.append(tuitero_hc)\n",
    "pd.DataFrame(top10_tuiteros_hc)"
   ]
  },
  {
   "cell_type": "markdown",
   "metadata": {},
   "source": [
    "### Colorado Añeteté"
   ]
  },
  {
   "cell_type": "code",
   "execution_count": 16,
   "metadata": {
    "collapsed": false
   },
   "outputs": [
    {
     "name": "stdout",
     "output_type": "stream",
     "text": [
      "748 usuarios tuitearon sobre Colorado Anetete\n"
     ]
    }
   ],
   "source": [
    "unique_users_ca = get_unique_users_by_movement(db, 'colorado añetete', include_candidate=False, \n",
    "                                               candidate_handler='MaritoAbdo')\n",
    "print('{0} usuarios tuitearon sobre Colorado Anetete'.format(len(unique_users_ca)))"
   ]
  },
  {
   "cell_type": "markdown",
   "metadata": {},
   "source": [
    "#### Top-10 más activos y sus actividades"
   ]
  },
  {
   "cell_type": "code",
   "execution_count": 17,
   "metadata": {
    "collapsed": false
   },
   "outputs": [
    {
     "data": {
      "text/html": [
       "<div>\n",
       "<table border=\"1\" class=\"dataframe\">\n",
       "  <thead>\n",
       "    <tr style=\"text-align: right;\">\n",
       "      <th></th>\n",
       "      <th>1.Usuario</th>\n",
       "      <th>2.Tweets</th>\n",
       "      <th>3.Originales</th>\n",
       "      <th>4.Retweets</th>\n",
       "      <th>5.Quotes</th>\n",
       "      <th>6.Replies</th>\n",
       "      <th>7.Followers</th>\n",
       "      <th>8.Friends</th>\n",
       "    </tr>\n",
       "  </thead>\n",
       "  <tbody>\n",
       "    <tr>\n",
       "      <th>0</th>\n",
       "      <td>Paraguaynosune</td>\n",
       "      <td>205</td>\n",
       "      <td>0</td>\n",
       "      <td>205</td>\n",
       "      <td>0</td>\n",
       "      <td>0</td>\n",
       "      <td>502</td>\n",
       "      <td>173</td>\n",
       "    </tr>\n",
       "    <tr>\n",
       "      <th>1</th>\n",
       "      <td>jjrios_bogado</td>\n",
       "      <td>85</td>\n",
       "      <td>0</td>\n",
       "      <td>76</td>\n",
       "      <td>0</td>\n",
       "      <td>9</td>\n",
       "      <td>1857</td>\n",
       "      <td>777</td>\n",
       "    </tr>\n",
       "    <tr>\n",
       "      <th>2</th>\n",
       "      <td>Solmelga</td>\n",
       "      <td>84</td>\n",
       "      <td>0</td>\n",
       "      <td>62</td>\n",
       "      <td>0</td>\n",
       "      <td>22</td>\n",
       "      <td>5287</td>\n",
       "      <td>4788</td>\n",
       "    </tr>\n",
       "    <tr>\n",
       "      <th>3</th>\n",
       "      <td>Beatriz20D</td>\n",
       "      <td>55</td>\n",
       "      <td>0</td>\n",
       "      <td>55</td>\n",
       "      <td>0</td>\n",
       "      <td>0</td>\n",
       "      <td>206</td>\n",
       "      <td>739</td>\n",
       "    </tr>\n",
       "    <tr>\n",
       "      <th>4</th>\n",
       "      <td>EDITHVILLA3</td>\n",
       "      <td>55</td>\n",
       "      <td>0</td>\n",
       "      <td>54</td>\n",
       "      <td>0</td>\n",
       "      <td>1</td>\n",
       "      <td>589</td>\n",
       "      <td>1118</td>\n",
       "    </tr>\n",
       "    <tr>\n",
       "      <th>5</th>\n",
       "      <td>felixugarte</td>\n",
       "      <td>53</td>\n",
       "      <td>0</td>\n",
       "      <td>53</td>\n",
       "      <td>0</td>\n",
       "      <td>0</td>\n",
       "      <td>496</td>\n",
       "      <td>368</td>\n",
       "    </tr>\n",
       "    <tr>\n",
       "      <th>6</th>\n",
       "      <td>equipo_anetete</td>\n",
       "      <td>52</td>\n",
       "      <td>0</td>\n",
       "      <td>46</td>\n",
       "      <td>0</td>\n",
       "      <td>6</td>\n",
       "      <td>3504</td>\n",
       "      <td>812</td>\n",
       "    </tr>\n",
       "    <tr>\n",
       "      <th>7</th>\n",
       "      <td>MichellMCord</td>\n",
       "      <td>52</td>\n",
       "      <td>0</td>\n",
       "      <td>43</td>\n",
       "      <td>4</td>\n",
       "      <td>5</td>\n",
       "      <td>75</td>\n",
       "      <td>474</td>\n",
       "    </tr>\n",
       "    <tr>\n",
       "      <th>8</th>\n",
       "      <td>FaroveFatima</td>\n",
       "      <td>49</td>\n",
       "      <td>0</td>\n",
       "      <td>49</td>\n",
       "      <td>0</td>\n",
       "      <td>0</td>\n",
       "      <td>973</td>\n",
       "      <td>906</td>\n",
       "    </tr>\n",
       "    <tr>\n",
       "      <th>9</th>\n",
       "      <td>Villa3Edith</td>\n",
       "      <td>42</td>\n",
       "      <td>0</td>\n",
       "      <td>42</td>\n",
       "      <td>0</td>\n",
       "      <td>0</td>\n",
       "      <td>273</td>\n",
       "      <td>381</td>\n",
       "    </tr>\n",
       "  </tbody>\n",
       "</table>\n",
       "</div>"
      ],
      "text/plain": [
       "        1.Usuario  2.Tweets  3.Originales  4.Retweets  5.Quotes  6.Replies  \\\n",
       "0  Paraguaynosune       205             0         205         0          0   \n",
       "1   jjrios_bogado        85             0          76         0          9   \n",
       "2        Solmelga        84             0          62         0         22   \n",
       "3      Beatriz20D        55             0          55         0          0   \n",
       "4     EDITHVILLA3        55             0          54         0          1   \n",
       "5     felixugarte        53             0          53         0          0   \n",
       "6  equipo_anetete        52             0          46         0          6   \n",
       "7    MichellMCord        52             0          43         4          5   \n",
       "8    FaroveFatima        49             0          49         0          0   \n",
       "9     Villa3Edith        42             0          42         0          0   \n",
       "\n",
       "   7.Followers  8.Friends  \n",
       "0          502        173  \n",
       "1         1857        777  \n",
       "2         5287       4788  \n",
       "3          206        739  \n",
       "4          589       1118  \n",
       "5          496        368  \n",
       "6         3504        812  \n",
       "7           75        474  \n",
       "8          973        906  \n",
       "9          273        381  "
      ]
     },
     "execution_count": 17,
     "metadata": {},
     "output_type": "execute_result"
    }
   ],
   "source": [
    "top10_tuiteros_ca = []\n",
    "for i in range(10):\n",
    "    tuitero_ca = {'1.Usuario': unique_users_ca[i]['screen_name'], \n",
    "                  '2.Tweets': unique_users_ca[i]['tweets_count'],\n",
    "                  '3.Originales': unique_users_ca[i]['original_count'],\n",
    "                  '4.Retweets': unique_users_ca[i]['retweets_count'],\n",
    "                  '5.Quotes': unique_users_ca[i]['quotes_count'],\n",
    "                  '6.Replies': unique_users_ca[i]['replies_count'],\n",
    "                  '7.Followers': unique_users_ca[i]['followers'],\n",
    "                  '8.Friends': unique_users_ca[i]['friends']}\n",
    "    top10_tuiteros_ca.append(tuitero_ca)\n",
    "pd.DataFrame(top10_tuiteros_ca)"
   ]
  },
  {
   "cell_type": "code",
   "execution_count": 18,
   "metadata": {
    "collapsed": false
   },
   "outputs": [
    {
     "data": {
      "text/plain": [
       "<matplotlib.axes._subplots.AxesSubplot at 0x1204e6f28>"
      ]
     },
     "execution_count": 18,
     "metadata": {},
     "output_type": "execute_result"
    },
    {
     "data": {
      "image/png": "[encoded data removed]",
      "text/plain": [
       "<matplotlib.figure.Figure at 0x11c20be48>"
      ]
     },
     "metadata": {},
     "output_type": "display_data"
    }
   ],
   "source": [
    "tuiteros_por_movimiento = pd.DataFrame({\n",
    "    'Movimiento': ['Honor Colorado', 'Colorado Añeteté'],\n",
    "    'Tuiteros': [len(unique_users_hc), len(unique_users_ca)]\n",
    "}, index=['hc', 'ca'])\n",
    "sns.barplot(x='Movimiento', y='Tuiteros', data=tuiteros_por_movimiento, palette=\"Reds_d\")"
   ]
  },
  {
   "cell_type": "markdown",
   "metadata": {},
   "source": [
    "Como se podría esperar el ejercito de tuiteros del movimiento *Honor Colorado* es ampliamente superior al de *Colorado Añeteté*. Prácticamente, **por cada tuitero de *Colorado Añeteté* existen casi 2.5 tuiteros de *Honor Colorado***. Sin embargo la diferencia en cantidad de tweets entre ambos movimiento no es muy importante, como vimos anteriormente, lo que demuestra que *Colorado Añeteté* tiene un ejercito más activo de tuiteros.\n",
    "\n",
    "Otro aspecto destacable del último análisis es el tipo de actividad que realizan tanto los tuiteros de *Honor Colorado* como los de *Añeteté*. En ambos casos, **los tuiteros más activos no publican nuevo tweets** sino se limitan a casi exclusivamente a retuitear tweets vinculados a su movimiento. En otras palabras, la principal actividad de estos usuarios es amplificar y promocionar información relacionada a sus intereses. **Este comportamiento es típico de bots y cuentas falsas**. La siguiente tarea en el estudio consistirá, por lo tanto, en análizar más en detalle el comportamiento de estas cuentas con el objetivo de verificar si son falsas o se encuentran vínculadas a sistemas automáticos de publicaciones. "
   ]
  }
 ],
 "metadata": {
  "kernelspec": {
   "display_name": "Python 3",
   "language": "python",
   "name": "python3"
  },
  "language_info": {
   "codemirror_mode": {
    "name": "ipython",
    "version": 3
   },
   "file_extension": ".py",
   "mimetype": "text/x-python",
   "name": "python",
   "nbconvert_exporter": "python",
   "pygments_lexer": "ipython3",
   "version": "3.6.0"
  }
 },
 "nbformat": 4,
 "nbformat_minor": 2
}
