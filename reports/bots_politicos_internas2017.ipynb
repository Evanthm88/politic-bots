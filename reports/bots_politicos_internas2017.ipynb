{
 "cells": [
  {
   "cell_type": "markdown",
   "metadata": {},
   "source": [
    "# Use de Twitter en períodos electorales"
   ]
  },
  {
   "cell_type": "markdown",
   "metadata": {},
   "source": [
    "## Reporte Preliminar sobre Internas de Diciembre/2017"
   ]
  },
  {
   "cell_type": "markdown",
   "metadata": {},
   "source": [
    "## Recolección de tweets basada en cuentas (@) y Hashtags (#)"
   ]
  },
  {
   "cell_type": "markdown",
   "metadata": {},
   "source": [
    "Usando el API de Twitter recoletamos **tweets publicados entre el 27 de Noviembre y el 31 de Diciembre de 2017**, que provengan de cuentas de pre-candidatos de los principales partidos políticos (ANR y PLRA), y/o contengan hashtags utilizados con fines electorales. Como base utilizamos las cuentas y hashtags publicados por el Diario Última Hora en su artículo [Perfiles de pre-candidatos según las redes](http://elecciones.ultimahora.com/informacion/?id=20), qué luego extendimos en colaboración con [TEDIC](http://tedic.org/). Por ejemplo, Última Hora reporta que el hashtag **#JuntosPodemosMas** es utilizado para identificar tweets vínculados al candidatos Santiago Peña de Honor Colorado. Así mismo, **#MaritoDeLaGente** se utilzan en tweets publicados en favor del candidato del movimiento Colorado Añeteté. Así mismo, el hashtag **#EsAhora** aparece en los tweets relacionados al pre-candidato a la presidencia por el PLRA, Efraín Alegre, mientras que **#VotáLista7** se refiere a la candidatura de Carlos Mateo Balmelli.\n",
    "\n",
    "[Aquí](https://docs.google.com/spreadsheets/d/e/2PACX-1vQHoukfR9AFhSaz30QHYwKqpwexe1ASrW8ya25Fueh3jXcRPMSjrAyj4SbzryTLiuKkPdi6fsprqtM2/pubhtml) se puede acceder a lista completa de hashtags y cuentas."
   ]
  },
  {
   "cell_type": "markdown",
   "metadata": {},
   "source": [
    "## Tamaño del data set"
   ]
  },
  {
   "cell_type": "code",
   "execution_count": 1,
   "metadata": {},
   "outputs": [],
   "source": [
    "%matplotlib inline\n",
    "\n",
    "import os\n",
    "import csv\n",
    "import json\n",
    "import matplotlib.pyplot as plt\n",
    "import seaborn as sns\n",
    "import numpy as np\n",
    "import pandas as pd\n",
    "\n",
    "os.chdir('/home/participa/politic-bots-internas')\n",
    "\n",
    "from datetime import datetime\n",
    "from db_manager import *\n",
    "from data_wrangler import *\n",
    "\n",
    "plt.style.use('seaborn')"
   ]
  },
  {
   "cell_type": "code",
   "execution_count": 3,
   "metadata": {},
   "outputs": [
    {
     "name": "stdout",
     "output_type": "stream",
     "text": [
      "Se han recolectado 378507 tweets y luego almacenados en una base de datos NoSQL (MongoDB) para facilitar su análisis\n"
     ]
    }
   ],
   "source": [
    "db = DBManager('tweets')\n",
    "print('Se han recolectado {0} tweets y luego almacenados en una base de datos NoSQL (MongoDB) para facilitar su '\\\n",
    "      'análisis'.format(db.search({}, only_relevant_tws=False).count()))\n",
    "\n"
   ]
  },
  {
   "cell_type": "markdown",
   "metadata": {},
   "source": [
    "## Limpieza de data set"
   ]
  },
  {
   "cell_type": "markdown",
   "metadata": {},
   "source": [
    "Nos dimos cuenta que los hashtags que usamos para buscar tweets se utilizan también en otros contextos (en otros paises) por lo tanto para los análisis consideramos solo aquellos que además de los hashtags de interés contengan alguna mención a la cuenta de los candidatos"
   ]
  },
  {
   "cell_type": "code",
   "execution_count": 4,
   "metadata": {},
   "outputs": [
    {
     "name": "stdout",
     "output_type": "stream",
     "text": [
      "Seleccionamos 211178 tweets que encontramos relevantes para el trabajo\n"
     ]
    }
   ],
   "source": [
    "te = TweetEvaluator()\n",
    "te.identify_relevant_tweets()\n",
    "print('Seleccionamos {0} tweets que encontramos relevantes para el trabajo'.\n",
    "      format(db.search({'relevante': 1}).count()))"
   ]
  },
  {
   "cell_type": "markdown",
   "metadata": {},
   "source": [
    "## Tweets por interna"
   ]
  },
  {
   "cell_type": "markdown",
   "metadata": {},
   "source": [
    "Cada keyword (**`Hashtag`** o **`Cuenta`**) está asociado a uno de los **`partidos políticos`** (*`anr`*, *`plra`*), a uno de los **`movimientos`** en puja (*`honor colorado`*, *`colorado añetete`*, *`progresista colorado`*, *`equipo joven`*), a un candidato (*`santiago peña`*, *`mario abdo`*, *`efrain alegre`*, *`mateo balmelli`*) y a un **`lider de movimiento`** (*`horacio cartes`*, *`mario abdo`*, *`nicanor duarte frutos`*, *`efrain alegre`*,*`blas llano`*). La base de datos fue pre-procesada para marcar cada tweet con estos datos. En el caso de Efrain, su candidatura no está asociado a un movimiento particular, pero lo tomamos en cuenta como lidere del conglomerado de movimientos que apoyaron su campaña. "
   ]
  },
  {
   "cell_type": "code",
   "execution_count": 4,
   "metadata": {},
   "outputs": [
    {
     "name": "stdout",
     "output_type": "stream",
     "text": [
      "Tweets relacionados a la interna ANR: 187676\n",
      "Tweets relacionados a la interna PLRA: 8731\n"
     ]
    }
   ],
   "source": [
    "tweets_plra = db.search({'partido_politico': 'plra'})\n",
    "tweets_anr = db.search({'partido_politico': 'anr'})\n",
    "print('Tweets relacionados a la interna ANR: {0}'.format(tweets_anr.count()))\n",
    "print('Tweets relacionados a la interna PLRA: {0}'.format(tweets_plra.count()))\n"
   ]
  },
  {
   "cell_type": "code",
   "execution_count": 5,
   "metadata": {},
   "outputs": [
    {
     "name": "stdout",
     "output_type": "stream",
     "text": [
      "Tweets relacionados a ninguna interna: 14771\n"
     ]
    }
   ],
   "source": [
    "tweets_indep = db.search( {\"$and\": [ {'partido_politico':  { \"$ne\": 'anr' }}, {'partido_politico':  { \"$ne\": 'plra' }}]})\n",
    "print('Tweets relacionados a ninguna interna: {0}'.format(tweets_indep.count()))"
   ]
  },
  {
   "cell_type": "code",
   "execution_count": 19,
   "metadata": {},
   "outputs": [
    {
     "data": {
      "text/plain": [
       "<matplotlib.axes._subplots.AxesSubplot at 0x7f69f837ecf8>"
      ]
     },
     "execution_count": 19,
     "metadata": {},
     "output_type": "execute_result"
    },
    {
     "data": {
      "image/png": "[encoded data removed]",
      "text/plain": [
       "<matplotlib.figure.Figure at 0x7f69f837e668>"
      ]
     },
     "metadata": {},
     "output_type": "display_data"
    }
   ],
   "source": [
    "tweets_por_interna = pd.DataFrame({\n",
    "    'Partido': ['anr', 'plra', 'independiente'],\n",
    "    'Tweets': [tweets_anr.count(), tweets_plra.count(), tweets_indep.count()]\n",
    "}, index=['anr', 'plra', 'independiente'])\n",
    "sns.barplot(x='Partido', y='Tweets', data=tweets_por_interna, palette=\"Reds_d\")\n"
   ]
  },
  {
   "cell_type": "markdown",
   "metadata": {},
   "source": [
    "Es importante notar que el número de keywords que monitoreamos para la `anr` era 4 veces mayor a los keywords del `plra` (28 a 7). Esto puede explicar en parte la diferencia en volumen. Al mismo tiempo, no existían otros keywords populares, utilizados en las internas del plra, más allá de los que monitoreamos. "
   ]
  },
  {
   "cell_type": "markdown",
   "metadata": {},
   "source": [
    "## Distribución de tweets por candidato"
   ]
  },
  {
   "cell_type": "markdown",
   "metadata": {},
   "source": [
    "Para este análisis solo se tuvieron en cuenta los tweets que contienen hashtags orientadas principalmente a promocionar la figura del **candidato**, no del **movimiento** o **partido** al que este pertenece. Por ejemplo, los hashtags **#JuntosPodemosMas** o **#CaminandoJuntos** son hashtags vinculados principalmente a la figura de Santiago Peña no así el hashtag **#HonorColorado** que se utiliza para promocionar el movimiento partidario pero no necesariamente la candidatura de Peña. Aquí consideramos solo los primeros, es decir, aquellos vinculados directamente al candidato.\n",
    "\n",
    "* Hashtags relacionados directamente con la campaña de Peña y que se consideraron para este análisis: `#SantiPresidente`, `#VotoxSanti`, `#SigamosConversando`\n",
    "\n",
    "* Hashtags relacionados directamente con la campaña de Abdo y que se consideraron para este análisis: `#MaritoDeLaGente`, `#ParaguayDeLaGente`\n",
    "\n",
    "* Hashtags relacionados directamente con la campaña de Efrain y que se consideraron para este análisis: \n",
    "`#EsAhora`, `#VamosAGanarTodos`\n",
    "\n",
    "* Hashtags relacionados directamente con la campaña de Balmelli y que se consideraron para este análisis: \n",
    "`#VotáLista7`, `#CarlosMateoPresidente`\n",
    "\n",
    "En los siguientes análisis no se tendrán en cuenta los tweets publicados por los candidatos personalmente."
   ]
  },
  {
   "cell_type": "markdown",
   "metadata": {},
   "source": [
    "### Santiago Peña"
   ]
  },
  {
   "cell_type": "markdown",
   "metadata": {},
   "source": [
    "`#SantiPresidente`, `#VotoxSanti`, `#SigamosConversando`"
   ]
  },
  {
   "cell_type": "code",
   "execution_count": 8,
   "metadata": {},
   "outputs": [
    {
     "name": "stdout",
     "output_type": "stream",
     "text": [
      "Tweets de Santiago Peña: 142\n"
     ]
    }
   ],
   "source": [
    "q_sp = {'candidatura': 'santiago peña', 'tweet_obj.user.screen_name': {'$eq':'SantiPenap'}}\n",
    "tweets_sp = db.search(q_sp)\n",
    "print('Tweets de Santiago Peña: {0}'.format(tweets_sp.count()))"
   ]
  },
  {
   "cell_type": "code",
   "execution_count": 9,
   "metadata": {},
   "outputs": [
    {
     "name": "stdout",
     "output_type": "stream",
     "text": [
      "Tweets del movimiento Honor Colorado: 124362\n"
     ]
    }
   ],
   "source": [
    "q_mov_hc = {'movimiento': 'honor colorado', 'tweet_obj.user.screen_name': {'$ne':'SantiPenap'}}\n",
    "tweets_mov_hc = db.search(q_mov_hc)\n",
    "print('Tweets del movimiento Honor Colorado: {0}'.format(tweets_mov_hc.count()))"
   ]
  },
  {
   "cell_type": "code",
   "execution_count": 10,
   "metadata": {},
   "outputs": [
    {
     "name": "stdout",
     "output_type": "stream",
     "text": [
      "Tweets relacionados al candidato Santiago Peña: 59549 (47.88% del total del movimiento HC)\n"
     ]
    }
   ],
   "source": [
    "q_nsp = {'candidatura': 'santiago peña', 'tweet_obj.user.screen_name': {'$ne':'SantiPenap'}}\n",
    "tweets_sp = db.search(q_nsp)\n",
    "print('Tweets relacionados al candidato Santiago Peña: ' \\\n",
    "      '{0} ({1}% del total del movimiento HC)'.format(tweets_sp.count(), \n",
    "                                                      round((tweets_sp.count()/tweets_mov_hc.count())*100,2)))"
   ]
  },
  {
   "cell_type": "markdown",
   "metadata": {},
   "source": [
    "### Mario Abdo Benítez"
   ]
  },
  {
   "cell_type": "markdown",
   "metadata": {},
   "source": [
    "`#MaritoDeLaGente`, `#ParaguayDeLaGente`"
   ]
  },
  {
   "cell_type": "code",
   "execution_count": 11,
   "metadata": {},
   "outputs": [
    {
     "name": "stdout",
     "output_type": "stream",
     "text": [
      "Tweets de Mario Abdo: 230\n"
     ]
    }
   ],
   "source": [
    "q_ma = {'candidatura': 'mario abdo', 'tweet_obj.user.screen_name': {'$eq':'MaritoAbdo'}}\n",
    "tweets_ma = db.search(q_ma)\n",
    "print('Tweets de Mario Abdo: {0}'.format(tweets_ma.count()))"
   ]
  },
  {
   "cell_type": "code",
   "execution_count": 12,
   "metadata": {},
   "outputs": [
    {
     "name": "stdout",
     "output_type": "stream",
     "text": [
      "Tweets del movimiento Colorado Añetete: 60411\n"
     ]
    }
   ],
   "source": [
    "q_mov_ca = {'movimiento': 'colorado añetete', 'tweet_obj.user.screen_name': {'$ne':'MaritoAbdo'}}\n",
    "tweets_mov_ca = db.search(q_mov_ca)\n",
    "print('Tweets del movimiento Colorado Añetete: {0}'.format(tweets_mov_ca.count()))"
   ]
  },
  {
   "cell_type": "code",
   "execution_count": 13,
   "metadata": {
    "scrolled": true
   },
   "outputs": [
    {
     "name": "stdout",
     "output_type": "stream",
     "text": [
      "Tweets relacionados al candidato Mario Abdo: 44741 (74.06% del total del movimiento Colorado Añeteté)\n"
     ]
    }
   ],
   "source": [
    "q_nma = {'candidatura': 'mario abdo', 'tweet_obj.user.screen_name': {'$ne':'MaritoAbdo'}}\n",
    "tweets_ma = db.search(q_nma)\n",
    "print('Tweets relacionados al candidato Mario Abdo: ' \\\n",
    "      '{0} ({1}% del total del movimiento Colorado Añeteté)'.format(tweets_ma.count(), \n",
    "                                                      round((tweets_ma.count()/tweets_mov_ca.count())*100,2)))"
   ]
  },
  {
   "cell_type": "code",
   "execution_count": 14,
   "metadata": {},
   "outputs": [
    {
     "data": {
      "text/plain": [
       "<matplotlib.axes._subplots.AxesSubplot at 0x7fb465f64ba8>"
      ]
     },
     "execution_count": 14,
     "metadata": {},
     "output_type": "execute_result"
    },
    {
     "data": {
      "image/png": "[encoded data removed]",
      "text/plain": [
       "<matplotlib.figure.Figure at 0x7fb49824c400>"
      ]
     },
     "metadata": {},
     "output_type": "display_data"
    }
   ],
   "source": [
    "tweets_por_candidato_anr = pd.DataFrame({\n",
    "    'Candidato': ['Santiago Peña', 'Mario Abdo'],\n",
    "    'Tweets': [tweets_sp.count(),tweets_ma.count()]\n",
    "}, index=['sp', 'ma'])\n",
    "sns.barplot(x='Candidato', y='Tweets', data=tweets_por_candidato_anr, palette=\"Reds_d\")"
   ]
  },
  {
   "cell_type": "code",
   "execution_count": 15,
   "metadata": {},
   "outputs": [
    {
     "data": {
      "text/plain": [
       "<matplotlib.axes._subplots.AxesSubplot at 0x7fb465f644e0>"
      ]
     },
     "execution_count": 15,
     "metadata": {},
     "output_type": "execute_result"
    },
    {
     "data": {
      "image/png": "[encoded data removed]",
      "text/plain": [
       "<matplotlib.figure.Figure at 0x7fb4682176d8>"
      ]
     },
     "metadata": {},
     "output_type": "display_data"
    }
   ],
   "source": [
    "tweets_por_candidato_movimiento_anr = pd.DataFrame({\n",
    "    'Candidato': ['Santiago Peña', 'Mario Abdo'],\n",
    "    'Tweets': [round((tweets_sp.count()/tweets_mov_hc.count())*100,2), round((tweets_ma.count()/tweets_mov_ca.count())*100,2)]\n",
    "}, index=['sp', 'ma'])\n",
    "sns.barplot(x='Candidato', y='Tweets', data=tweets_por_candidato_movimiento_anr, palette=\"Reds_d\")"
   ]
  },
  {
   "cell_type": "markdown",
   "metadata": {},
   "source": [
    "Este resultado es interesante. Muestra una diferencia de enfoques en las campañas en redes de ambos movimientos. **La campaña del movimiento *Colorado Añeteté* se centra principalmente en el candidato a presidente Mario Abdo Benítez, casi el 70% de los tweets éstan vinculados a su figura**. Por otra parte, la campañan de *Honor Colorado* se enfoca menos en Santiago Peña."
   ]
  },
  {
   "cell_type": "markdown",
   "metadata": {},
   "source": [
    "### Efraín Alegre"
   ]
  },
  {
   "cell_type": "markdown",
   "metadata": {},
   "source": [
    "`#EsAhora`, `#VamosAGanarTodos`"
   ]
  },
  {
   "cell_type": "code",
   "execution_count": 46,
   "metadata": {},
   "outputs": [
    {
     "name": "stdout",
     "output_type": "stream",
     "text": [
      "Tweets de Efrain Alegre: 30\n"
     ]
    }
   ],
   "source": [
    "q_ea = {'$or':[{'candidatura':'efrain alegre'},{'candidatura':'efrain alegre\\n'}], 'tweet_obj.user.screen_name': {'$eq':'EfrainAlegre'}}\n",
    "tweets_ea = db.search(q_ea)\n",
    "print('Tweets de Efrain Alegre: {0}'.format(tweets_ea.count()))"
   ]
  },
  {
   "cell_type": "code",
   "execution_count": 44,
   "metadata": {
    "scrolled": true
   },
   "outputs": [
    {
     "name": "stdout",
     "output_type": "stream",
     "text": [
      "Tweets de la candidatura de Efraín Alegre: 6869\n"
     ]
    }
   ],
   "source": [
    "q_mov_ea = {'$or':[{'candidatura':'efrain alegre'},{'candidatura':'efrain alegre\\n'}], 'tweet_obj.user.screen_name': {'$ne':'EfrainAlegre'}}\n",
    "tweets_mov_ea = db.search(q_mov_ea)\n",
    "print('Tweets de la candidatura de Efraín Alegre: {0}'.format(tweets_mov_ea.count()))"
   ]
  },
  {
   "cell_type": "markdown",
   "metadata": {},
   "source": [
    "### Mateo Balmelli"
   ]
  },
  {
   "cell_type": "markdown",
   "metadata": {},
   "source": [
    "`#VotáLista7`, `#CarlosMateoPresidente`"
   ]
  },
  {
   "cell_type": "code",
   "execution_count": 47,
   "metadata": {},
   "outputs": [
    {
     "name": "stdout",
     "output_type": "stream",
     "text": [
      "Tweets de Carlos Mateo Balmelli: 181\n"
     ]
    }
   ],
   "source": [
    "q_mb = {'$or': [{'candidatura': 'carlos mateo balmelli'},{'candidatura': 'carlos mateo balmelli\\n'}], 'tweet_obj.user.screen_name': {'$eq':'CARLOSMATEOPY'}}\n",
    "tweets_mb = db.search(q_mb)\n",
    "print('Tweets de Carlos Mateo Balmelli: {0}'.format(tweets_mb.count()))"
   ]
  },
  {
   "cell_type": "code",
   "execution_count": 48,
   "metadata": {
    "scrolled": true
   },
   "outputs": [
    {
     "name": "stdout",
     "output_type": "stream",
     "text": [
      "Tweets de la candidatura de Carlos Mateo Balmelli: 1041\n"
     ]
    }
   ],
   "source": [
    "q_mov_ej = {'candidatura': 'carlos mateo balmelli', 'tweet_obj.user.screen_name': {'$ne':'CARLOSMATEOPY'}}\n",
    "tweets_mov_mb = db.search(q_mov_ej)\n",
    "print('Tweets de la candidatura de Carlos Mateo Balmelli: {0}'.format(tweets_mov_mb.count()))"
   ]
  },
  {
   "cell_type": "markdown",
   "metadata": {},
   "source": [
    "A diferencia de la ANR, solo recolectamos tweets directamente asociados a los candidatos, ya que no existían keywords populares relacionados con movimientos internos. "
   ]
  },
  {
   "cell_type": "code",
   "execution_count": 49,
   "metadata": {},
   "outputs": [
    {
     "data": {
      "text/plain": [
       "<matplotlib.axes._subplots.AxesSubplot at 0x7fb465dfc4e0>"
      ]
     },
     "execution_count": 49,
     "metadata": {},
     "output_type": "execute_result"
    },
    {
     "data": {
      "image/png": "[encoded data removed]",
      "text/plain": [
       "<matplotlib.figure.Figure at 0x7fb465dfcba8>"
      ]
     },
     "metadata": {},
     "output_type": "display_data"
    }
   ],
   "source": [
    "tweets_por_candidato_plra = pd.DataFrame({\n",
    "    'Candidato': ['Efrain Alegre', 'Carlos Mateo Balmelli'],\n",
    "    'Tweets': [tweets_mov_ea.count(),tweets_mov_mb.count()]\n",
    "}, index=['ea', 'mb'])\n",
    "sns.barplot(x='Candidato', y='Tweets', data=tweets_por_candidato_plra, palette=\"Blues_d\")"
   ]
  },
  {
   "cell_type": "markdown",
   "metadata": {},
   "source": [
    "## Hashtags más populares usados por los movimientos/candidatos"
   ]
  },
  {
   "cell_type": "markdown",
   "metadata": {},
   "source": [
    "### Honor Colorado"
   ]
  },
  {
   "cell_type": "code",
   "execution_count": 21,
   "metadata": {},
   "outputs": [
    {
     "data": {
      "text/html": [
       "<div>\n",
       "<style scoped>\n",
       "    .dataframe tbody tr th:only-of-type {\n",
       "        vertical-align: middle;\n",
       "    }\n",
       "\n",
       "    .dataframe tbody tr th {\n",
       "        vertical-align: top;\n",
       "    }\n",
       "\n",
       "    .dataframe thead th {\n",
       "        text-align: right;\n",
       "    }\n",
       "</style>\n",
       "<table border=\"1\" class=\"dataframe\">\n",
       "  <thead>\n",
       "    <tr style=\"text-align: right;\">\n",
       "      <th></th>\n",
       "      <th>1. Hashtag</th>\n",
       "      <th>2. Cantidad de Tweets</th>\n",
       "      <th>3. % Total de HC</th>\n",
       "    </tr>\n",
       "  </thead>\n",
       "  <tbody>\n",
       "    <tr>\n",
       "      <th>0</th>\n",
       "      <td>#SantiPresidente</td>\n",
       "      <td>14551</td>\n",
       "      <td>12%</td>\n",
       "    </tr>\n",
       "    <tr>\n",
       "      <th>1</th>\n",
       "      <td>#Lista2</td>\n",
       "      <td>4537</td>\n",
       "      <td>4%</td>\n",
       "    </tr>\n",
       "    <tr>\n",
       "      <th>2</th>\n",
       "      <td>#VotoxSanti</td>\n",
       "      <td>4003</td>\n",
       "      <td>3%</td>\n",
       "    </tr>\n",
       "    <tr>\n",
       "      <th>3</th>\n",
       "      <td>#SigamosConversando</td>\n",
       "      <td>2470</td>\n",
       "      <td>2%</td>\n",
       "    </tr>\n",
       "    <tr>\n",
       "      <th>4</th>\n",
       "      <td>#HonorColorado</td>\n",
       "      <td>1552</td>\n",
       "      <td>1%</td>\n",
       "    </tr>\n",
       "    <tr>\n",
       "      <th>5</th>\n",
       "      <td>#CaminandoJuntos</td>\n",
       "      <td>381</td>\n",
       "      <td>0%</td>\n",
       "    </tr>\n",
       "    <tr>\n",
       "      <th>6</th>\n",
       "      <td>#JuntosHagamosMás</td>\n",
       "      <td>119</td>\n",
       "      <td>0%</td>\n",
       "    </tr>\n",
       "    <tr>\n",
       "      <th>7</th>\n",
       "      <td>#ColoradosDeBien</td>\n",
       "      <td>71</td>\n",
       "      <td>0%</td>\n",
       "    </tr>\n",
       "    <tr>\n",
       "      <th>8</th>\n",
       "      <td>#JuntosPodemosMas</td>\n",
       "      <td>21</td>\n",
       "      <td>0%</td>\n",
       "    </tr>\n",
       "    <tr>\n",
       "      <th>9</th>\n",
       "      <td>#EstoyConSanti</td>\n",
       "      <td>1</td>\n",
       "      <td>0%</td>\n",
       "    </tr>\n",
       "  </tbody>\n",
       "</table>\n",
       "</div>"
      ],
      "text/plain": [
       "            1. Hashtag  2. Cantidad de Tweets 3. % Total de HC\n",
       "0     #SantiPresidente                  14551              12%\n",
       "1              #Lista2                   4537               4%\n",
       "2          #VotoxSanti                   4003               3%\n",
       "3  #SigamosConversando                   2470               2%\n",
       "4       #HonorColorado                   1552               1%\n",
       "5     #CaminandoJuntos                    381               0%\n",
       "6    #JuntosHagamosMás                    119               0%\n",
       "7     #ColoradosDeBien                     71               0%\n",
       "8    #JuntosPodemosMas                     21               0%\n",
       "9       #EstoyConSanti                      1               0%"
      ]
     },
     "execution_count": 21,
     "metadata": {},
     "output_type": "execute_result"
    }
   ],
   "source": [
    "additional_args = {'include_candidate':False, 'candidate_handler':'SantiPenap'}\n",
    "hashtags_hc = db.get_hashtags_by_movement('honor colorado', **additional_args)\n",
    "hashtags_populares_hc = []\n",
    "sum_total = 0\n",
    "for i in range(10):\n",
    "    hashtag = hashtags_hc[i]\n",
    "    sum_total += hashtag['count']\n",
    "    por_total = round((hashtag['count']/tweets_mov_hc.count())*100)\n",
    "    hashtag_dict = {'1. Hashtag': '#' + hashtag['_id'], '2. Cantidad de Tweets': hashtag['count'], \n",
    "                    '3. % Total de HC': str(por_total) + '%'}\n",
    "    hashtags_populares_hc.append(hashtag_dict)\n",
    "pd.DataFrame(hashtags_populares_hc)"
   ]
  },
  {
   "cell_type": "markdown",
   "metadata": {},
   "source": [
    "### Colorado Añeteté"
   ]
  },
  {
   "cell_type": "code",
   "execution_count": 53,
   "metadata": {},
   "outputs": [
    {
     "data": {
      "text/html": [
       "<div>\n",
       "<style scoped>\n",
       "    .dataframe tbody tr th:only-of-type {\n",
       "        vertical-align: middle;\n",
       "    }\n",
       "\n",
       "    .dataframe tbody tr th {\n",
       "        vertical-align: top;\n",
       "    }\n",
       "\n",
       "    .dataframe thead th {\n",
       "        text-align: right;\n",
       "    }\n",
       "</style>\n",
       "<table border=\"1\" class=\"dataframe\">\n",
       "  <thead>\n",
       "    <tr style=\"text-align: right;\">\n",
       "      <th></th>\n",
       "      <th>1. Hashtag</th>\n",
       "      <th>2. Cantidad de Tweets</th>\n",
       "      <th>3. % Total de Añeteté</th>\n",
       "    </tr>\n",
       "  </thead>\n",
       "  <tbody>\n",
       "    <tr>\n",
       "      <th>0</th>\n",
       "      <td>#ParaguayDeLaGente</td>\n",
       "      <td>16727</td>\n",
       "      <td>28%</td>\n",
       "    </tr>\n",
       "    <tr>\n",
       "      <th>1</th>\n",
       "      <td>#MaritoImparable</td>\n",
       "      <td>2895</td>\n",
       "      <td>5%</td>\n",
       "    </tr>\n",
       "    <tr>\n",
       "      <th>2</th>\n",
       "      <td>#MaritoDeLaGente</td>\n",
       "      <td>2730</td>\n",
       "      <td>5%</td>\n",
       "    </tr>\n",
       "    <tr>\n",
       "      <th>3</th>\n",
       "      <td>#Lista3</td>\n",
       "      <td>1469</td>\n",
       "      <td>2%</td>\n",
       "    </tr>\n",
       "    <tr>\n",
       "      <th>4</th>\n",
       "      <td>#MaritoPresidente</td>\n",
       "      <td>838</td>\n",
       "      <td>1%</td>\n",
       "    </tr>\n",
       "  </tbody>\n",
       "</table>\n",
       "</div>"
      ],
      "text/plain": [
       "           1. Hashtag  2. Cantidad de Tweets 3. % Total de Añeteté\n",
       "0  #ParaguayDeLaGente                  16727                   28%\n",
       "1    #MaritoImparable                   2895                    5%\n",
       "2    #MaritoDeLaGente                   2730                    5%\n",
       "3             #Lista3                   1469                    2%\n",
       "4   #MaritoPresidente                    838                    1%"
      ]
     },
     "execution_count": 53,
     "metadata": {},
     "output_type": "execute_result"
    }
   ],
   "source": [
    "additional_args = {'include_candidate':False, 'candidate_handler':'MaritoAbdo'}\n",
    "hashtags_ca = db.get_hashtags_by_movement('colorado añetete', **additional_args)\n",
    "hashtags_populares_ca = []\n",
    "for i in range(5):\n",
    "    hashtag = hashtags_ca[i]\n",
    "    por_total = round((hashtag['count']/tweets_mov_ca.count())*100)\n",
    "    hashtag_dict = {'1. Hashtag': '#' + hashtag['_id'], '2. Cantidad de Tweets': hashtag['count'], \n",
    "                    '3. % Total de Añeteté': str(por_total) + '%'}\n",
    "    hashtags_populares_ca.append(hashtag_dict)\n",
    "pd.DataFrame(hashtags_populares_ca)"
   ]
  },
  {
   "cell_type": "markdown",
   "metadata": {},
   "source": [
    "Estos resultados son consistentes con los anteriores ya que muestran como **la campaña del movimiento HC está principalmente enfocada en dar promoción al movimiento antes que al candidato**."
   ]
  },
  {
   "cell_type": "markdown",
   "metadata": {},
   "source": [
    "### Efraín Alegre"
   ]
  },
  {
   "cell_type": "code",
   "execution_count": 50,
   "metadata": {},
   "outputs": [
    {
     "data": {
      "text/html": [
       "<div>\n",
       "<style scoped>\n",
       "    .dataframe tbody tr th:only-of-type {\n",
       "        vertical-align: middle;\n",
       "    }\n",
       "\n",
       "    .dataframe tbody tr th {\n",
       "        vertical-align: top;\n",
       "    }\n",
       "\n",
       "    .dataframe thead th {\n",
       "        text-align: right;\n",
       "    }\n",
       "</style>\n",
       "<table border=\"1\" class=\"dataframe\">\n",
       "  <thead>\n",
       "    <tr style=\"text-align: right;\">\n",
       "      <th></th>\n",
       "      <th>1. Hashtag</th>\n",
       "      <th>2. Cantidad de Tweets</th>\n",
       "    </tr>\n",
       "  </thead>\n",
       "  <tbody>\n",
       "    <tr>\n",
       "      <th>0</th>\n",
       "      <td>#VamosAGanarTodos</td>\n",
       "      <td>8</td>\n",
       "    </tr>\n",
       "    <tr>\n",
       "      <th>1</th>\n",
       "      <td>#InternasPLRA</td>\n",
       "      <td>2</td>\n",
       "    </tr>\n",
       "    <tr>\n",
       "      <th>2</th>\n",
       "      <td>#EsAhora</td>\n",
       "      <td>211</td>\n",
       "    </tr>\n",
       "  </tbody>\n",
       "</table>\n",
       "</div>"
      ],
      "text/plain": [
       "          1. Hashtag  2. Cantidad de Tweets\n",
       "0  #VamosAGanarTodos                      8\n",
       "1      #InternasPLRA                      2\n",
       "2           #EsAhora                    211"
      ]
     },
     "execution_count": 50,
     "metadata": {},
     "output_type": "execute_result"
    }
   ],
   "source": [
    "additional_args = {'include_candidate':False, 'candidate_handler':'EfrainAlegre'}\n",
    "hashtags_ea_1 = db.get_hashtags_by_candidate('efrain alegre', **additional_args)\n",
    "hashtags_ea_2 = db.get_hashtags_by_candidate('efrain alegre\\n', **additional_args)\n",
    "hashtags_populares_ea = []\n",
    "hashtag_dict_by_keyword = {}\n",
    "for i in range(2):\n",
    "    hashtag = hashtags_ea_1[i]\n",
    "    key = hashtag['_id'];\n",
    "    hashtag_dict_by_keyword[key] = {'key': key, 'count': hashtag['count']}\n",
    "    \n",
    "for i in range(2):\n",
    "    hashtag = hashtags_ea_2[i]\n",
    "    key = hashtag['_id'];\n",
    "    if key in hashtag_dict_by_keyword:\n",
    "        current_count = hashtag_dict_by_keyword[key]['count']\n",
    "        hashtag_dict_by_keyword[key] = {'key': key, 'count': current_count+hashtag['count']}\n",
    "    else:\n",
    "        hashtag_dict_by_keyword[key] = {'key': key, 'count': hashtag['count']}\n",
    "\n",
    "for key in hashtag_dict_by_keyword:\n",
    "    hashtag = hashtag_dict_by_keyword[key]\n",
    "    hashtag_dict = {'1. Hashtag': '#' + hashtag['key'], '2. Cantidad de Tweets': hashtag['count']}\n",
    "    hashtags_populares_ea.append(hashtag_dict)\n",
    "    \n",
    "pd.DataFrame(hashtags_populares_ea)"
   ]
  },
  {
   "cell_type": "markdown",
   "metadata": {},
   "source": [
    "### Carlos Mateo Balmelli "
   ]
  },
  {
   "cell_type": "code",
   "execution_count": 54,
   "metadata": {},
   "outputs": [
    {
     "data": {
      "text/html": [
       "<div>\n",
       "<style scoped>\n",
       "    .dataframe tbody tr th:only-of-type {\n",
       "        vertical-align: middle;\n",
       "    }\n",
       "\n",
       "    .dataframe tbody tr th {\n",
       "        vertical-align: top;\n",
       "    }\n",
       "\n",
       "    .dataframe thead th {\n",
       "        text-align: right;\n",
       "    }\n",
       "</style>\n",
       "<table border=\"1\" class=\"dataframe\">\n",
       "  <thead>\n",
       "    <tr style=\"text-align: right;\">\n",
       "      <th></th>\n",
       "      <th>1. Hashtag</th>\n",
       "      <th>2. Cantidad de Tweets</th>\n",
       "    </tr>\n",
       "  </thead>\n",
       "  <tbody>\n",
       "    <tr>\n",
       "      <th>0</th>\n",
       "      <td>#VotáLista7</td>\n",
       "      <td>392</td>\n",
       "    </tr>\n",
       "  </tbody>\n",
       "</table>\n",
       "</div>"
      ],
      "text/plain": [
       "    1. Hashtag  2. Cantidad de Tweets\n",
       "0  #VotáLista7                    392"
      ]
     },
     "execution_count": 54,
     "metadata": {},
     "output_type": "execute_result"
    }
   ],
   "source": [
    "additional_args = {'include_candidate':False, 'candidate_handler':'CARLOSMATEOPY'}\n",
    "hashtags_ea_1 = db.get_hashtags_by_candidate('carlos mateo balmelli', **additional_args)\n",
    "hashtags_ea_2 = db.get_hashtags_by_candidate('carlos mateo balmelli\\n', **additional_args)\n",
    "hashtags_populares_ea = []\n",
    "hashtag_dict_by_keyword = {}\n",
    "for i in range(1):\n",
    "    hashtag = hashtags_ea_1[i]\n",
    "    key = hashtag['_id'];\n",
    "    hashtag_dict_by_keyword[key] = {'key': key, 'count': hashtag['count']}\n",
    "    \n",
    "for i in range(1):\n",
    "    hashtag = hashtags_ea_2[i]\n",
    "    key = hashtag['_id'];\n",
    "    if key in hashtag_dict_by_keyword:\n",
    "        current_count = hashtag_dict_by_keyword[key]['count']\n",
    "        hashtag_dict_by_keyword[key] = {'key': key, 'count': current_count+hashtag['count']}\n",
    "    else:\n",
    "        hashtag_dict_by_keyword[key] = {'key': key, 'count': hashtag['count']}\n",
    "\n",
    "for key in hashtag_dict_by_keyword:\n",
    "    hashtag = hashtag_dict_by_keyword[key]\n",
    "    hashtag_dict = {'1. Hashtag': '#' + hashtag['key'], '2. Cantidad de Tweets': hashtag['count']}\n",
    "    hashtags_populares_ea.append(hashtag_dict)\n",
    "    \n",
    "pd.DataFrame(hashtags_populares_ea)"
   ]
  },
  {
   "cell_type": "markdown",
   "metadata": {},
   "source": [
    "## Cantidad de tuiteros por movimiento"
   ]
  },
  {
   "cell_type": "markdown",
   "metadata": {},
   "source": [
    "### Honor Colorado"
   ]
  },
  {
   "cell_type": "code",
   "execution_count": 8,
   "metadata": {},
   "outputs": [
    {
     "name": "stdout",
     "output_type": "stream",
     "text": [
      "20505 usuarios tuitearon sobre Honor Colorado\n"
     ]
    }
   ],
   "source": [
    "additional_args = {'include_candidate':False, 'candidate_handler':'SantiPenap', 'movimiento':'honor colorado'}\n",
    "unique_users_hc = db.get_unique_users(**additional_args)\n",
    "print('{0} usuarios tuitearon sobre Honor Colorado'.format(len(unique_users_hc)))"
   ]
  },
  {
   "cell_type": "markdown",
   "metadata": {},
   "source": [
    "#### Top-10 más activos con sus actividades"
   ]
  },
  {
   "cell_type": "code",
   "execution_count": 9,
   "metadata": {
    "scrolled": true
   },
   "outputs": [
    {
     "data": {
      "text/html": [
       "<div>\n",
       "<style scoped>\n",
       "    .dataframe tbody tr th:only-of-type {\n",
       "        vertical-align: middle;\n",
       "    }\n",
       "\n",
       "    .dataframe tbody tr th {\n",
       "        vertical-align: top;\n",
       "    }\n",
       "\n",
       "    .dataframe thead th {\n",
       "        text-align: right;\n",
       "    }\n",
       "</style>\n",
       "<table border=\"1\" class=\"dataframe\">\n",
       "  <thead>\n",
       "    <tr style=\"text-align: right;\">\n",
       "      <th></th>\n",
       "      <th>1.Usuario</th>\n",
       "      <th>2.Tweets</th>\n",
       "      <th>3.Originales</th>\n",
       "      <th>4.Retweets</th>\n",
       "      <th>5.Quotes</th>\n",
       "      <th>6.Replies</th>\n",
       "      <th>7.Followers</th>\n",
       "      <th>8.Friends</th>\n",
       "    </tr>\n",
       "  </thead>\n",
       "  <tbody>\n",
       "    <tr>\n",
       "      <th>0</th>\n",
       "      <td>CESARSANCHEZ553</td>\n",
       "      <td>869</td>\n",
       "      <td>0</td>\n",
       "      <td>589</td>\n",
       "      <td>0</td>\n",
       "      <td>280</td>\n",
       "      <td>17</td>\n",
       "      <td>132</td>\n",
       "    </tr>\n",
       "    <tr>\n",
       "      <th>1</th>\n",
       "      <td>ArturoO22734057</td>\n",
       "      <td>822</td>\n",
       "      <td>1</td>\n",
       "      <td>816</td>\n",
       "      <td>0</td>\n",
       "      <td>5</td>\n",
       "      <td>192</td>\n",
       "      <td>825</td>\n",
       "    </tr>\n",
       "    <tr>\n",
       "      <th>2</th>\n",
       "      <td>Michelec1954</td>\n",
       "      <td>809</td>\n",
       "      <td>0</td>\n",
       "      <td>0</td>\n",
       "      <td>674</td>\n",
       "      <td>135</td>\n",
       "      <td>708</td>\n",
       "      <td>1484</td>\n",
       "    </tr>\n",
       "    <tr>\n",
       "      <th>3</th>\n",
       "      <td>Norabeli</td>\n",
       "      <td>756</td>\n",
       "      <td>0</td>\n",
       "      <td>565</td>\n",
       "      <td>2</td>\n",
       "      <td>189</td>\n",
       "      <td>1387</td>\n",
       "      <td>930</td>\n",
       "    </tr>\n",
       "    <tr>\n",
       "      <th>4</th>\n",
       "      <td>delgapy2016</td>\n",
       "      <td>732</td>\n",
       "      <td>0</td>\n",
       "      <td>703</td>\n",
       "      <td>0</td>\n",
       "      <td>29</td>\n",
       "      <td>79</td>\n",
       "      <td>461</td>\n",
       "    </tr>\n",
       "    <tr>\n",
       "      <th>5</th>\n",
       "      <td>CesarSanchez636</td>\n",
       "      <td>538</td>\n",
       "      <td>0</td>\n",
       "      <td>399</td>\n",
       "      <td>0</td>\n",
       "      <td>139</td>\n",
       "      <td>155</td>\n",
       "      <td>651</td>\n",
       "    </tr>\n",
       "    <tr>\n",
       "      <th>6</th>\n",
       "      <td>Mariade84654356</td>\n",
       "      <td>536</td>\n",
       "      <td>0</td>\n",
       "      <td>536</td>\n",
       "      <td>0</td>\n",
       "      <td>0</td>\n",
       "      <td>12</td>\n",
       "      <td>80</td>\n",
       "    </tr>\n",
       "    <tr>\n",
       "      <th>7</th>\n",
       "      <td>machaparro48</td>\n",
       "      <td>525</td>\n",
       "      <td>0</td>\n",
       "      <td>380</td>\n",
       "      <td>0</td>\n",
       "      <td>145</td>\n",
       "      <td>928</td>\n",
       "      <td>886</td>\n",
       "    </tr>\n",
       "    <tr>\n",
       "      <th>8</th>\n",
       "      <td>gladysgulino</td>\n",
       "      <td>489</td>\n",
       "      <td>0</td>\n",
       "      <td>489</td>\n",
       "      <td>0</td>\n",
       "      <td>0</td>\n",
       "      <td>471</td>\n",
       "      <td>93</td>\n",
       "    </tr>\n",
       "    <tr>\n",
       "      <th>9</th>\n",
       "      <td>AngelicaZunilda</td>\n",
       "      <td>489</td>\n",
       "      <td>0</td>\n",
       "      <td>232</td>\n",
       "      <td>0</td>\n",
       "      <td>257</td>\n",
       "      <td>124</td>\n",
       "      <td>50</td>\n",
       "    </tr>\n",
       "  </tbody>\n",
       "</table>\n",
       "</div>"
      ],
      "text/plain": [
       "         1.Usuario  2.Tweets  3.Originales  4.Retweets  5.Quotes  6.Replies  \\\n",
       "0  CESARSANCHEZ553       869             0         589         0        280   \n",
       "1  ArturoO22734057       822             1         816         0          5   \n",
       "2     Michelec1954       809             0           0       674        135   \n",
       "3         Norabeli       756             0         565         2        189   \n",
       "4      delgapy2016       732             0         703         0         29   \n",
       "5  CesarSanchez636       538             0         399         0        139   \n",
       "6  Mariade84654356       536             0         536         0          0   \n",
       "7     machaparro48       525             0         380         0        145   \n",
       "8     gladysgulino       489             0         489         0          0   \n",
       "9  AngelicaZunilda       489             0         232         0        257   \n",
       "\n",
       "   7.Followers  8.Friends  \n",
       "0           17        132  \n",
       "1          192        825  \n",
       "2          708       1484  \n",
       "3         1387        930  \n",
       "4           79        461  \n",
       "5          155        651  \n",
       "6           12         80  \n",
       "7          928        886  \n",
       "8          471         93  \n",
       "9          124         50  "
      ]
     },
     "execution_count": 9,
     "metadata": {},
     "output_type": "execute_result"
    }
   ],
   "source": [
    "top10_tuiteros_hc = []\n",
    "for i in range(10):\n",
    "    tuitero_hc = {'1.Usuario': unique_users_hc[i]['screen_name'], \n",
    "                  '2.Tweets': unique_users_hc[i]['tweets_count'],\n",
    "                  '3.Originales': unique_users_hc[i]['original_count'],\n",
    "                  '4.Retweets': unique_users_hc[i]['retweets_count'],\n",
    "                  '5.Quotes': unique_users_hc[i]['quotes_count'],\n",
    "                  '6.Replies': unique_users_hc[i]['replies_count'],\n",
    "                  '7.Followers': unique_users_hc[i]['followers'],\n",
    "                  '8.Friends': unique_users_hc[i]['friends']}\n",
    "    top10_tuiteros_hc.append(tuitero_hc)\n",
    "pd.DataFrame(top10_tuiteros_hc)"
   ]
  },
  {
   "cell_type": "markdown",
   "metadata": {},
   "source": [
    "### Colorado Añeteté"
   ]
  },
  {
   "cell_type": "code",
   "execution_count": 10,
   "metadata": {},
   "outputs": [
    {
     "name": "stdout",
     "output_type": "stream",
     "text": [
      "10047 usuarios tuitearon sobre Colorado Anetete\n"
     ]
    }
   ],
   "source": [
    "additional_args = {'include_candidate':False, 'candidate_handler':'MaritoAbdo', 'movimiento':'colorado añetete'}\n",
    "unique_users_ca = db.get_unique_users(**additional_args)\n",
    "print('{0} usuarios tuitearon sobre Colorado Anetete'.format(len(unique_users_ca)))"
   ]
  },
  {
   "cell_type": "markdown",
   "metadata": {},
   "source": [
    "#### Top-10 más activos y sus actividades"
   ]
  },
  {
   "cell_type": "code",
   "execution_count": 11,
   "metadata": {
    "scrolled": false
   },
   "outputs": [
    {
     "data": {
      "text/html": [
       "<div>\n",
       "<style scoped>\n",
       "    .dataframe tbody tr th:only-of-type {\n",
       "        vertical-align: middle;\n",
       "    }\n",
       "\n",
       "    .dataframe tbody tr th {\n",
       "        vertical-align: top;\n",
       "    }\n",
       "\n",
       "    .dataframe thead th {\n",
       "        text-align: right;\n",
       "    }\n",
       "</style>\n",
       "<table border=\"1\" class=\"dataframe\">\n",
       "  <thead>\n",
       "    <tr style=\"text-align: right;\">\n",
       "      <th></th>\n",
       "      <th>1.Usuario</th>\n",
       "      <th>2.Tweets</th>\n",
       "      <th>3.Originales</th>\n",
       "      <th>4.Retweets</th>\n",
       "      <th>5.Quotes</th>\n",
       "      <th>6.Replies</th>\n",
       "      <th>7.Followers</th>\n",
       "      <th>8.Friends</th>\n",
       "    </tr>\n",
       "  </thead>\n",
       "  <tbody>\n",
       "    <tr>\n",
       "      <th>0</th>\n",
       "      <td>Paraguaynosune</td>\n",
       "      <td>1332</td>\n",
       "      <td>0</td>\n",
       "      <td>1332</td>\n",
       "      <td>0</td>\n",
       "      <td>0</td>\n",
       "      <td>520</td>\n",
       "      <td>174</td>\n",
       "    </tr>\n",
       "    <tr>\n",
       "      <th>1</th>\n",
       "      <td>Solmelga</td>\n",
       "      <td>690</td>\n",
       "      <td>208</td>\n",
       "      <td>413</td>\n",
       "      <td>1</td>\n",
       "      <td>68</td>\n",
       "      <td>5323</td>\n",
       "      <td>4790</td>\n",
       "    </tr>\n",
       "    <tr>\n",
       "      <th>2</th>\n",
       "      <td>Beatriz20D</td>\n",
       "      <td>669</td>\n",
       "      <td>0</td>\n",
       "      <td>612</td>\n",
       "      <td>0</td>\n",
       "      <td>57</td>\n",
       "      <td>210</td>\n",
       "      <td>739</td>\n",
       "    </tr>\n",
       "    <tr>\n",
       "      <th>3</th>\n",
       "      <td>jjrios_bogado</td>\n",
       "      <td>447</td>\n",
       "      <td>54</td>\n",
       "      <td>391</td>\n",
       "      <td>0</td>\n",
       "      <td>2</td>\n",
       "      <td>1870</td>\n",
       "      <td>777</td>\n",
       "    </tr>\n",
       "    <tr>\n",
       "      <th>4</th>\n",
       "      <td>EDITHVILLA3</td>\n",
       "      <td>427</td>\n",
       "      <td>11</td>\n",
       "      <td>324</td>\n",
       "      <td>0</td>\n",
       "      <td>92</td>\n",
       "      <td>598</td>\n",
       "      <td>1117</td>\n",
       "    </tr>\n",
       "    <tr>\n",
       "      <th>5</th>\n",
       "      <td>grfzp7771</td>\n",
       "      <td>408</td>\n",
       "      <td>4</td>\n",
       "      <td>342</td>\n",
       "      <td>0</td>\n",
       "      <td>62</td>\n",
       "      <td>39</td>\n",
       "      <td>369</td>\n",
       "    </tr>\n",
       "    <tr>\n",
       "      <th>6</th>\n",
       "      <td>felixugarte</td>\n",
       "      <td>403</td>\n",
       "      <td>0</td>\n",
       "      <td>399</td>\n",
       "      <td>0</td>\n",
       "      <td>4</td>\n",
       "      <td>499</td>\n",
       "      <td>369</td>\n",
       "    </tr>\n",
       "    <tr>\n",
       "      <th>7</th>\n",
       "      <td>Rogerlopez1980</td>\n",
       "      <td>363</td>\n",
       "      <td>0</td>\n",
       "      <td>357</td>\n",
       "      <td>0</td>\n",
       "      <td>6</td>\n",
       "      <td>93</td>\n",
       "      <td>375</td>\n",
       "    </tr>\n",
       "    <tr>\n",
       "      <th>8</th>\n",
       "      <td>LaJusticierra</td>\n",
       "      <td>349</td>\n",
       "      <td>2</td>\n",
       "      <td>336</td>\n",
       "      <td>0</td>\n",
       "      <td>11</td>\n",
       "      <td>3344</td>\n",
       "      <td>1262</td>\n",
       "    </tr>\n",
       "    <tr>\n",
       "      <th>9</th>\n",
       "      <td>EmanoelQuiroga</td>\n",
       "      <td>339</td>\n",
       "      <td>56</td>\n",
       "      <td>281</td>\n",
       "      <td>0</td>\n",
       "      <td>2</td>\n",
       "      <td>33</td>\n",
       "      <td>134</td>\n",
       "    </tr>\n",
       "  </tbody>\n",
       "</table>\n",
       "</div>"
      ],
      "text/plain": [
       "        1.Usuario  2.Tweets  3.Originales  4.Retweets  5.Quotes  6.Replies  \\\n",
       "0  Paraguaynosune      1332             0        1332         0          0   \n",
       "1        Solmelga       690           208         413         1         68   \n",
       "2      Beatriz20D       669             0         612         0         57   \n",
       "3   jjrios_bogado       447            54         391         0          2   \n",
       "4     EDITHVILLA3       427            11         324         0         92   \n",
       "5       grfzp7771       408             4         342         0         62   \n",
       "6     felixugarte       403             0         399         0          4   \n",
       "7  Rogerlopez1980       363             0         357         0          6   \n",
       "8   LaJusticierra       349             2         336         0         11   \n",
       "9  EmanoelQuiroga       339            56         281         0          2   \n",
       "\n",
       "   7.Followers  8.Friends  \n",
       "0          520        174  \n",
       "1         5323       4790  \n",
       "2          210        739  \n",
       "3         1870        777  \n",
       "4          598       1117  \n",
       "5           39        369  \n",
       "6          499        369  \n",
       "7           93        375  \n",
       "8         3344       1262  \n",
       "9           33        134  "
      ]
     },
     "execution_count": 11,
     "metadata": {},
     "output_type": "execute_result"
    }
   ],
   "source": [
    "top10_tuiteros_ca = []\n",
    "for i in range(10):\n",
    "    tuitero_ca = {'1.Usuario': unique_users_ca[i]['screen_name'], \n",
    "                  '2.Tweets': unique_users_ca[i]['tweets_count'],\n",
    "                  '3.Originales': unique_users_ca[i]['original_count'],\n",
    "                  '4.Retweets': unique_users_ca[i]['retweets_count'],\n",
    "                  '5.Quotes': unique_users_ca[i]['quotes_count'],\n",
    "                  '6.Replies': unique_users_ca[i]['replies_count'],\n",
    "                  '7.Followers': unique_users_ca[i]['followers'],\n",
    "                  '8.Friends': unique_users_ca[i]['friends']}\n",
    "    top10_tuiteros_ca.append(tuitero_ca)\n",
    "pd.DataFrame(top10_tuiteros_ca)"
   ]
  },
  {
   "cell_type": "code",
   "execution_count": 12,
   "metadata": {
    "scrolled": true
   },
   "outputs": [
    {
     "data": {
      "text/plain": [
       "<matplotlib.axes._subplots.AxesSubplot at 0x7ff854ffd160>"
      ]
     },
     "execution_count": 12,
     "metadata": {},
     "output_type": "execute_result"
    },
    {
     "data": {
      "image/png": "[encoded data removed]",
      "text/plain": [
       "<matplotlib.figure.Figure at 0x7ff85e783940>"
      ]
     },
     "metadata": {},
     "output_type": "display_data"
    }
   ],
   "source": [
    "tuiteros_por_movimiento = pd.DataFrame({\n",
    "    'Movimiento': ['Honor Colorado', 'Colorado Añeteté'],\n",
    "    'Tuiteros': [len(unique_users_hc), len(unique_users_ca)]\n",
    "}, index=['hc', 'ca'])\n",
    "sns.barplot(x='Movimiento', y='Tuiteros', data=tuiteros_por_movimiento, palette=\"Reds_d\")"
   ]
  },
  {
   "cell_type": "markdown",
   "metadata": {},
   "source": [
    "Como se podría esperar el ejercito de tuiteros del movimiento *Honor Colorado* es ampliamente superior al de *Colorado Añeteté*. Prácticamente, **por cada tuitero de *Colorado Añeteté* existen casi 2.5 tuiteros de *Honor Colorado***. La diferencia en la cantidad de tuiteros se puede percibir también en la cantidad de tweets de cada movimiento; Honor Colorado tiene casi el doble de tweets que Colorado Añeteté.\n",
    "\n",
    "Otro aspecto destacable del último análisis es el tipo de actividad que realizan tanto los tuiteros de *Honor Colorado* como los de *Añeteté*. En ambos casos, **los tuiteros más activos no publican nuevo tweets** sino se limitan a casi exclusivamente a retuitear tweets vinculados a su movimiento. En otras palabras, la principal actividad de estos usuarios es amplificar y promocionar información relacionada a sus intereses. **Este comportamiento es típico de bots y cuentas falsas**. La siguiente tarea en el estudio consistirá, por lo tanto, en análizar más en detalle el comportamiento de estas cuentas con el objetivo de verificar si son falsas o se encuentran vínculadas a sistemas automáticos de publicaciones. "
   ]
  },
  {
   "cell_type": "markdown",
   "metadata": {},
   "source": [
    "## Cantidad de tuiteros por candidatura"
   ]
  },
  {
   "cell_type": "markdown",
   "metadata": {},
   "source": [
    "### Santiago Peña"
   ]
  },
  {
   "cell_type": "code",
   "execution_count": 13,
   "metadata": {},
   "outputs": [
    {
     "name": "stdout",
     "output_type": "stream",
     "text": [
      "14917 usuarios tuitearon sobre Santiago Peña\n"
     ]
    }
   ],
   "source": [
    "additional_args = {'include_candidate':False, 'candidate_handler':'SantiPenap', 'candidatura':'santiago peña'}\n",
    "unique_users_sp = db.get_unique_users(**additional_args)\n",
    "print('{0} usuarios tuitearon sobre Santiago Peña'.format(len(unique_users_sp)))"
   ]
  },
  {
   "cell_type": "markdown",
   "metadata": {},
   "source": [
    "#### Top-10 más activos con sus actividades"
   ]
  },
  {
   "cell_type": "code",
   "execution_count": 15,
   "metadata": {
    "scrolled": true
   },
   "outputs": [
    {
     "data": {
      "text/html": [
       "<div>\n",
       "<style scoped>\n",
       "    .dataframe tbody tr th:only-of-type {\n",
       "        vertical-align: middle;\n",
       "    }\n",
       "\n",
       "    .dataframe tbody tr th {\n",
       "        vertical-align: top;\n",
       "    }\n",
       "\n",
       "    .dataframe thead th {\n",
       "        text-align: right;\n",
       "    }\n",
       "</style>\n",
       "<table border=\"1\" class=\"dataframe\">\n",
       "  <thead>\n",
       "    <tr style=\"text-align: right;\">\n",
       "      <th></th>\n",
       "      <th>1.Usuario</th>\n",
       "      <th>2.Tweets</th>\n",
       "      <th>3.Originales</th>\n",
       "      <th>4.Retweets</th>\n",
       "      <th>5.Quotes</th>\n",
       "      <th>6.Replies</th>\n",
       "      <th>7.Followers</th>\n",
       "      <th>8.Friends</th>\n",
       "    </tr>\n",
       "  </thead>\n",
       "  <tbody>\n",
       "    <tr>\n",
       "      <th>0</th>\n",
       "      <td>CESARSANCHEZ553</td>\n",
       "      <td>482</td>\n",
       "      <td>0</td>\n",
       "      <td>343</td>\n",
       "      <td>0</td>\n",
       "      <td>139</td>\n",
       "      <td>20</td>\n",
       "      <td>147</td>\n",
       "    </tr>\n",
       "    <tr>\n",
       "      <th>1</th>\n",
       "      <td>SemideiOmar</td>\n",
       "      <td>383</td>\n",
       "      <td>8</td>\n",
       "      <td>1</td>\n",
       "      <td>0</td>\n",
       "      <td>374</td>\n",
       "      <td>421</td>\n",
       "      <td>284</td>\n",
       "    </tr>\n",
       "    <tr>\n",
       "      <th>2</th>\n",
       "      <td>CesarSanchez636</td>\n",
       "      <td>360</td>\n",
       "      <td>0</td>\n",
       "      <td>257</td>\n",
       "      <td>0</td>\n",
       "      <td>103</td>\n",
       "      <td>155</td>\n",
       "      <td>651</td>\n",
       "    </tr>\n",
       "    <tr>\n",
       "      <th>3</th>\n",
       "      <td>Norabeli</td>\n",
       "      <td>349</td>\n",
       "      <td>0</td>\n",
       "      <td>252</td>\n",
       "      <td>0</td>\n",
       "      <td>97</td>\n",
       "      <td>1390</td>\n",
       "      <td>933</td>\n",
       "    </tr>\n",
       "    <tr>\n",
       "      <th>4</th>\n",
       "      <td>ArturoO22734057</td>\n",
       "      <td>345</td>\n",
       "      <td>1</td>\n",
       "      <td>341</td>\n",
       "      <td>0</td>\n",
       "      <td>3</td>\n",
       "      <td>196</td>\n",
       "      <td>833</td>\n",
       "    </tr>\n",
       "    <tr>\n",
       "      <th>5</th>\n",
       "      <td>delgapy2016</td>\n",
       "      <td>269</td>\n",
       "      <td>0</td>\n",
       "      <td>258</td>\n",
       "      <td>0</td>\n",
       "      <td>11</td>\n",
       "      <td>82</td>\n",
       "      <td>462</td>\n",
       "    </tr>\n",
       "    <tr>\n",
       "      <th>6</th>\n",
       "      <td>Radio970AM</td>\n",
       "      <td>240</td>\n",
       "      <td>26</td>\n",
       "      <td>3</td>\n",
       "      <td>1</td>\n",
       "      <td>210</td>\n",
       "      <td>212055</td>\n",
       "      <td>878</td>\n",
       "    </tr>\n",
       "    <tr>\n",
       "      <th>7</th>\n",
       "      <td>guidoschultz73</td>\n",
       "      <td>223</td>\n",
       "      <td>0</td>\n",
       "      <td>184</td>\n",
       "      <td>0</td>\n",
       "      <td>39</td>\n",
       "      <td>175</td>\n",
       "      <td>259</td>\n",
       "    </tr>\n",
       "    <tr>\n",
       "      <th>8</th>\n",
       "      <td>machaparro48</td>\n",
       "      <td>209</td>\n",
       "      <td>0</td>\n",
       "      <td>137</td>\n",
       "      <td>0</td>\n",
       "      <td>72</td>\n",
       "      <td>929</td>\n",
       "      <td>886</td>\n",
       "    </tr>\n",
       "    <tr>\n",
       "      <th>9</th>\n",
       "      <td>AngelicaZunilda</td>\n",
       "      <td>201</td>\n",
       "      <td>0</td>\n",
       "      <td>82</td>\n",
       "      <td>0</td>\n",
       "      <td>119</td>\n",
       "      <td>132</td>\n",
       "      <td>50</td>\n",
       "    </tr>\n",
       "  </tbody>\n",
       "</table>\n",
       "</div>"
      ],
      "text/plain": [
       "         1.Usuario  2.Tweets  3.Originales  4.Retweets  5.Quotes  6.Replies  \\\n",
       "0  CESARSANCHEZ553       482             0         343         0        139   \n",
       "1      SemideiOmar       383             8           1         0        374   \n",
       "2  CesarSanchez636       360             0         257         0        103   \n",
       "3         Norabeli       349             0         252         0         97   \n",
       "4  ArturoO22734057       345             1         341         0          3   \n",
       "5      delgapy2016       269             0         258         0         11   \n",
       "6       Radio970AM       240            26           3         1        210   \n",
       "7   guidoschultz73       223             0         184         0         39   \n",
       "8     machaparro48       209             0         137         0         72   \n",
       "9  AngelicaZunilda       201             0          82         0        119   \n",
       "\n",
       "   7.Followers  8.Friends  \n",
       "0           20        147  \n",
       "1          421        284  \n",
       "2          155        651  \n",
       "3         1390        933  \n",
       "4          196        833  \n",
       "5           82        462  \n",
       "6       212055        878  \n",
       "7          175        259  \n",
       "8          929        886  \n",
       "9          132         50  "
      ]
     },
     "execution_count": 15,
     "metadata": {},
     "output_type": "execute_result"
    }
   ],
   "source": [
    "top10_tuiteros_sp = []\n",
    "for i in range(10):\n",
    "    tuitero_sp = {'1.Usuario': unique_users_sp[i]['screen_name'], \n",
    "                  '2.Tweets': unique_users_sp[i]['tweets_count'],\n",
    "                  '3.Originales': unique_users_sp[i]['original_count'],\n",
    "                  '4.Retweets': unique_users_sp[i]['retweets_count'],\n",
    "                  '5.Quotes': unique_users_sp[i]['quotes_count'],\n",
    "                  '6.Replies': unique_users_sp[i]['replies_count'],\n",
    "                  '7.Followers': unique_users_sp[i]['followers'],\n",
    "                  '8.Friends': unique_users_sp[i]['friends']}\n",
    "    top10_tuiteros_sp.append(tuitero_sp)\n",
    "pd.DataFrame(top10_tuiteros_sp)"
   ]
  },
  {
   "cell_type": "markdown",
   "metadata": {},
   "source": [
    "### Mario Abdo"
   ]
  },
  {
   "cell_type": "code",
   "execution_count": 16,
   "metadata": {},
   "outputs": [
    {
     "name": "stdout",
     "output_type": "stream",
     "text": [
      "9834 usuarios tuitearon sobre Mario Abdo\n"
     ]
    }
   ],
   "source": [
    "additional_args = {'include_candidate':False, 'candidate_handler':'MaritoAbdo', 'candidatura':'mario abdo'}\n",
    "unique_users_ma = db.get_unique_users(**additional_args)\n",
    "print('{0} usuarios tuitearon sobre Mario Abdo'.format(len(unique_users_ma)))"
   ]
  },
  {
   "cell_type": "markdown",
   "metadata": {},
   "source": [
    "#### Top-10 más activos y sus actividades"
   ]
  },
  {
   "cell_type": "code",
   "execution_count": 17,
   "metadata": {
    "scrolled": false
   },
   "outputs": [
    {
     "data": {
      "text/html": [
       "<div>\n",
       "<style scoped>\n",
       "    .dataframe tbody tr th:only-of-type {\n",
       "        vertical-align: middle;\n",
       "    }\n",
       "\n",
       "    .dataframe tbody tr th {\n",
       "        vertical-align: top;\n",
       "    }\n",
       "\n",
       "    .dataframe thead th {\n",
       "        text-align: right;\n",
       "    }\n",
       "</style>\n",
       "<table border=\"1\" class=\"dataframe\">\n",
       "  <thead>\n",
       "    <tr style=\"text-align: right;\">\n",
       "      <th></th>\n",
       "      <th>1.Usuario</th>\n",
       "      <th>2.Tweets</th>\n",
       "      <th>3.Originales</th>\n",
       "      <th>4.Retweets</th>\n",
       "      <th>5.Quotes</th>\n",
       "      <th>6.Replies</th>\n",
       "      <th>7.Followers</th>\n",
       "      <th>8.Friends</th>\n",
       "    </tr>\n",
       "  </thead>\n",
       "  <tbody>\n",
       "    <tr>\n",
       "      <th>0</th>\n",
       "      <td>Paraguaynosune</td>\n",
       "      <td>739</td>\n",
       "      <td>0</td>\n",
       "      <td>739</td>\n",
       "      <td>0</td>\n",
       "      <td>0</td>\n",
       "      <td>521</td>\n",
       "      <td>175</td>\n",
       "    </tr>\n",
       "    <tr>\n",
       "      <th>1</th>\n",
       "      <td>Beatriz20D</td>\n",
       "      <td>498</td>\n",
       "      <td>0</td>\n",
       "      <td>449</td>\n",
       "      <td>0</td>\n",
       "      <td>49</td>\n",
       "      <td>209</td>\n",
       "      <td>738</td>\n",
       "    </tr>\n",
       "    <tr>\n",
       "      <th>2</th>\n",
       "      <td>Solmelga</td>\n",
       "      <td>429</td>\n",
       "      <td>119</td>\n",
       "      <td>255</td>\n",
       "      <td>1</td>\n",
       "      <td>54</td>\n",
       "      <td>5345</td>\n",
       "      <td>4793</td>\n",
       "    </tr>\n",
       "    <tr>\n",
       "      <th>3</th>\n",
       "      <td>felixugarte</td>\n",
       "      <td>251</td>\n",
       "      <td>0</td>\n",
       "      <td>247</td>\n",
       "      <td>0</td>\n",
       "      <td>4</td>\n",
       "      <td>502</td>\n",
       "      <td>369</td>\n",
       "    </tr>\n",
       "    <tr>\n",
       "      <th>4</th>\n",
       "      <td>Norabeli</td>\n",
       "      <td>235</td>\n",
       "      <td>1</td>\n",
       "      <td>189</td>\n",
       "      <td>1</td>\n",
       "      <td>44</td>\n",
       "      <td>1390</td>\n",
       "      <td>933</td>\n",
       "    </tr>\n",
       "    <tr>\n",
       "      <th>5</th>\n",
       "      <td>jjrios_bogado</td>\n",
       "      <td>232</td>\n",
       "      <td>26</td>\n",
       "      <td>204</td>\n",
       "      <td>0</td>\n",
       "      <td>2</td>\n",
       "      <td>1871</td>\n",
       "      <td>780</td>\n",
       "    </tr>\n",
       "    <tr>\n",
       "      <th>6</th>\n",
       "      <td>CESARSANCHEZ553</td>\n",
       "      <td>214</td>\n",
       "      <td>0</td>\n",
       "      <td>204</td>\n",
       "      <td>0</td>\n",
       "      <td>10</td>\n",
       "      <td>20</td>\n",
       "      <td>147</td>\n",
       "    </tr>\n",
       "    <tr>\n",
       "      <th>7</th>\n",
       "      <td>EDITHVILLA3</td>\n",
       "      <td>212</td>\n",
       "      <td>4</td>\n",
       "      <td>167</td>\n",
       "      <td>0</td>\n",
       "      <td>41</td>\n",
       "      <td>599</td>\n",
       "      <td>1117</td>\n",
       "    </tr>\n",
       "    <tr>\n",
       "      <th>8</th>\n",
       "      <td>EmanoelQuiroga</td>\n",
       "      <td>209</td>\n",
       "      <td>38</td>\n",
       "      <td>170</td>\n",
       "      <td>0</td>\n",
       "      <td>1</td>\n",
       "      <td>33</td>\n",
       "      <td>134</td>\n",
       "    </tr>\n",
       "    <tr>\n",
       "      <th>9</th>\n",
       "      <td>Rogerlopez1980</td>\n",
       "      <td>196</td>\n",
       "      <td>0</td>\n",
       "      <td>193</td>\n",
       "      <td>0</td>\n",
       "      <td>3</td>\n",
       "      <td>93</td>\n",
       "      <td>376</td>\n",
       "    </tr>\n",
       "  </tbody>\n",
       "</table>\n",
       "</div>"
      ],
      "text/plain": [
       "         1.Usuario  2.Tweets  3.Originales  4.Retweets  5.Quotes  6.Replies  \\\n",
       "0   Paraguaynosune       739             0         739         0          0   \n",
       "1       Beatriz20D       498             0         449         0         49   \n",
       "2         Solmelga       429           119         255         1         54   \n",
       "3      felixugarte       251             0         247         0          4   \n",
       "4         Norabeli       235             1         189         1         44   \n",
       "5    jjrios_bogado       232            26         204         0          2   \n",
       "6  CESARSANCHEZ553       214             0         204         0         10   \n",
       "7      EDITHVILLA3       212             4         167         0         41   \n",
       "8   EmanoelQuiroga       209            38         170         0          1   \n",
       "9   Rogerlopez1980       196             0         193         0          3   \n",
       "\n",
       "   7.Followers  8.Friends  \n",
       "0          521        175  \n",
       "1          209        738  \n",
       "2         5345       4793  \n",
       "3          502        369  \n",
       "4         1390        933  \n",
       "5         1871        780  \n",
       "6           20        147  \n",
       "7          599       1117  \n",
       "8           33        134  \n",
       "9           93        376  "
      ]
     },
     "execution_count": 17,
     "metadata": {},
     "output_type": "execute_result"
    }
   ],
   "source": [
    "top10_tuiteros_ma = []\n",
    "for i in range(10):\n",
    "    tuitero_ma = {'1.Usuario': unique_users_ma[i]['screen_name'], \n",
    "                  '2.Tweets': unique_users_ma[i]['tweets_count'],\n",
    "                  '3.Originales': unique_users_ma[i]['original_count'],\n",
    "                  '4.Retweets': unique_users_ma[i]['retweets_count'],\n",
    "                  '5.Quotes': unique_users_ma[i]['quotes_count'],\n",
    "                  '6.Replies': unique_users_ma[i]['replies_count'],\n",
    "                  '7.Followers': unique_users_ma[i]['followers'],\n",
    "                  '8.Friends': unique_users_ma[i]['friends']}\n",
    "    top10_tuiteros_ma.append(tuitero_ma)\n",
    "pd.DataFrame(top10_tuiteros_ma)"
   ]
  },
  {
   "cell_type": "code",
   "execution_count": 22,
   "metadata": {
    "scrolled": true
   },
   "outputs": [
    {
     "data": {
      "text/plain": [
       "<matplotlib.axes._subplots.AxesSubplot at 0x7efdc77f8f60>"
      ]
     },
     "execution_count": 22,
     "metadata": {},
     "output_type": "execute_result"
    },
    {
     "data": {
      "image/png": "[encoded data removed]",
      "text/plain": [
       "<matplotlib.figure.Figure at 0x7efdc77edbe0>"
      ]
     },
     "metadata": {},
     "output_type": "display_data"
    }
   ],
   "source": [
    "tuiteros_por_candidatura_anr = pd.DataFrame({\n",
    "    'Candidatura': ['Santiago Peña', 'Mario Abdo'],\n",
    "    'Tuiteros': [len(unique_users_sp), len(unique_users_ma)]\n",
    "}, index=['sp', 'ma'])\n",
    "sns.barplot(x='Candidatura', y='Tuiteros', data=tuiteros_por_candidatura_anr, palette=\"Reds_d\")"
   ]
  },
  {
   "cell_type": "markdown",
   "metadata": {},
   "source": [
    "### Efrain Alegre"
   ]
  },
  {
   "cell_type": "code",
   "execution_count": 5,
   "metadata": {},
   "outputs": [
    {
     "name": "stdout",
     "output_type": "stream",
     "text": [
      "3004 usuarios tuitearon sobre Efrain Alegre\n"
     ]
    }
   ],
   "source": [
    "additional_args = {'include_candidate':False, 'candidate_handler':'EfrainAlegre', 'candidatura':'efrain alegre'}\n",
    "unique_users_ea_1 = db.get_unique_users(**additional_args)\n",
    "additional_args = {'include_candidate':False, 'candidate_handler':'EfrainAlegre', 'candidatura':'efrain alegre\\n'}\n",
    "unique_users_ea_2 = db.get_unique_users(**additional_args)\n",
    "print('{0} usuarios tuitearon sobre Efrain Alegre'.format(len(unique_users_ea_1)+len(unique_users_ea_2)))"
   ]
  },
  {
   "cell_type": "markdown",
   "metadata": {},
   "source": [
    "#### Top-10 más activos y sus actividades"
   ]
  },
  {
   "cell_type": "code",
   "execution_count": 7,
   "metadata": {
    "scrolled": true
   },
   "outputs": [
    {
     "data": {
      "text/html": [
       "<div>\n",
       "<style scoped>\n",
       "    .dataframe tbody tr th:only-of-type {\n",
       "        vertical-align: middle;\n",
       "    }\n",
       "\n",
       "    .dataframe tbody tr th {\n",
       "        vertical-align: top;\n",
       "    }\n",
       "\n",
       "    .dataframe thead th {\n",
       "        text-align: right;\n",
       "    }\n",
       "</style>\n",
       "<table border=\"1\" class=\"dataframe\">\n",
       "  <thead>\n",
       "    <tr style=\"text-align: right;\">\n",
       "      <th></th>\n",
       "      <th>1.Usuario</th>\n",
       "      <th>2.Tweets</th>\n",
       "      <th>3.Originales</th>\n",
       "      <th>4.Retweets</th>\n",
       "      <th>5.Quotes</th>\n",
       "      <th>6.Replies</th>\n",
       "      <th>7.Followers</th>\n",
       "      <th>8.Friends</th>\n",
       "    </tr>\n",
       "  </thead>\n",
       "  <tbody>\n",
       "    <tr>\n",
       "      <th>0</th>\n",
       "      <td>algoandamalpy</td>\n",
       "      <td>90</td>\n",
       "      <td>89</td>\n",
       "      <td>0</td>\n",
       "      <td>0</td>\n",
       "      <td>1</td>\n",
       "      <td>71674</td>\n",
       "      <td>524</td>\n",
       "    </tr>\n",
       "    <tr>\n",
       "      <th>1</th>\n",
       "      <td>c10arguello</td>\n",
       "      <td>47</td>\n",
       "      <td>0</td>\n",
       "      <td>35</td>\n",
       "      <td>0</td>\n",
       "      <td>12</td>\n",
       "      <td>587</td>\n",
       "      <td>3133</td>\n",
       "    </tr>\n",
       "    <tr>\n",
       "      <th>2</th>\n",
       "      <td>alebogado7902</td>\n",
       "      <td>46</td>\n",
       "      <td>0</td>\n",
       "      <td>14</td>\n",
       "      <td>0</td>\n",
       "      <td>32</td>\n",
       "      <td>2199</td>\n",
       "      <td>2166</td>\n",
       "    </tr>\n",
       "    <tr>\n",
       "      <th>3</th>\n",
       "      <td>LaUnionAM800</td>\n",
       "      <td>43</td>\n",
       "      <td>41</td>\n",
       "      <td>2</td>\n",
       "      <td>0</td>\n",
       "      <td>0</td>\n",
       "      <td>42560</td>\n",
       "      <td>280</td>\n",
       "    </tr>\n",
       "    <tr>\n",
       "      <th>4</th>\n",
       "      <td>fran_rat</td>\n",
       "      <td>39</td>\n",
       "      <td>1</td>\n",
       "      <td>11</td>\n",
       "      <td>3</td>\n",
       "      <td>24</td>\n",
       "      <td>517</td>\n",
       "      <td>657</td>\n",
       "    </tr>\n",
       "    <tr>\n",
       "      <th>5</th>\n",
       "      <td>desimasi2</td>\n",
       "      <td>37</td>\n",
       "      <td>6</td>\n",
       "      <td>8</td>\n",
       "      <td>5</td>\n",
       "      <td>18</td>\n",
       "      <td>27285</td>\n",
       "      <td>400</td>\n",
       "    </tr>\n",
       "    <tr>\n",
       "      <th>6</th>\n",
       "      <td>CesarSanchez636</td>\n",
       "      <td>36</td>\n",
       "      <td>0</td>\n",
       "      <td>33</td>\n",
       "      <td>0</td>\n",
       "      <td>3</td>\n",
       "      <td>156</td>\n",
       "      <td>651</td>\n",
       "    </tr>\n",
       "    <tr>\n",
       "      <th>7</th>\n",
       "      <td>JacquiSachelar1</td>\n",
       "      <td>36</td>\n",
       "      <td>1</td>\n",
       "      <td>19</td>\n",
       "      <td>4</td>\n",
       "      <td>12</td>\n",
       "      <td>279</td>\n",
       "      <td>343</td>\n",
       "    </tr>\n",
       "    <tr>\n",
       "      <th>8</th>\n",
       "      <td>ABCCardinal</td>\n",
       "      <td>35</td>\n",
       "      <td>35</td>\n",
       "      <td>0</td>\n",
       "      <td>0</td>\n",
       "      <td>0</td>\n",
       "      <td>183553</td>\n",
       "      <td>890</td>\n",
       "    </tr>\n",
       "    <tr>\n",
       "      <th>9</th>\n",
       "      <td>juankilezcano</td>\n",
       "      <td>32</td>\n",
       "      <td>21</td>\n",
       "      <td>8</td>\n",
       "      <td>0</td>\n",
       "      <td>3</td>\n",
       "      <td>7119</td>\n",
       "      <td>4742</td>\n",
       "    </tr>\n",
       "  </tbody>\n",
       "</table>\n",
       "</div>"
      ],
      "text/plain": [
       "         1.Usuario  2.Tweets  3.Originales  4.Retweets  5.Quotes  6.Replies  \\\n",
       "0    algoandamalpy        90            89           0         0          1   \n",
       "1      c10arguello        47             0          35         0         12   \n",
       "2    alebogado7902        46             0          14         0         32   \n",
       "3     LaUnionAM800        43            41           2         0          0   \n",
       "4         fran_rat        39             1          11         3         24   \n",
       "5        desimasi2        37             6           8         5         18   \n",
       "6  CesarSanchez636        36             0          33         0          3   \n",
       "7  JacquiSachelar1        36             1          19         4         12   \n",
       "8      ABCCardinal        35            35           0         0          0   \n",
       "9    juankilezcano        32            21           8         0          3   \n",
       "\n",
       "   7.Followers  8.Friends  \n",
       "0        71674        524  \n",
       "1          587       3133  \n",
       "2         2199       2166  \n",
       "3        42560        280  \n",
       "4          517        657  \n",
       "5        27285        400  \n",
       "6          156        651  \n",
       "7          279        343  \n",
       "8       183553        890  \n",
       "9         7119       4742  "
      ]
     },
     "execution_count": 7,
     "metadata": {},
     "output_type": "execute_result"
    }
   ],
   "source": [
    "top10_tuiteros_ea = []\n",
    "# ToDo: merge lists or clean database\n",
    "unique_users_ea = unique_users_ea_1\n",
    "for i in range(10):\n",
    "    tuitero_ea = {'1.Usuario': unique_users_ea[i]['screen_name'], \n",
    "                  '2.Tweets': unique_users_ea[i]['tweets_count'],\n",
    "                  '3.Originales': unique_users_ea[i]['original_count'],\n",
    "                  '4.Retweets': unique_users_ea[i]['retweets_count'],\n",
    "                  '5.Quotes': unique_users_ea[i]['quotes_count'],\n",
    "                  '6.Replies': unique_users_ea[i]['replies_count'],\n",
    "                  '7.Followers': unique_users_ea[i]['followers'],\n",
    "                  '8.Friends': unique_users_ea[i]['friends']}\n",
    "    top10_tuiteros_ea.append(tuitero_ea)\n",
    "pd.DataFrame(top10_tuiteros_ea)"
   ]
  },
  {
   "cell_type": "markdown",
   "metadata": {},
   "source": [
    "### Carlos Mateo Balmelli"
   ]
  },
  {
   "cell_type": "code",
   "execution_count": 9,
   "metadata": {},
   "outputs": [
    {
     "name": "stdout",
     "output_type": "stream",
     "text": [
      "685 usuarios tuitearon sobre Carlos Mateo Balmelli\n"
     ]
    }
   ],
   "source": [
    "additional_args = {'include_candidate':False, 'candidate_handler':'CARLOSMATEOPY', 'candidatura':'carlos mateo balmelli'}\n",
    "unique_users_mb_1 = db.get_unique_users(**additional_args)\n",
    "additional_args = {'include_candidate':False, 'candidate_handler':'CARLOSMATEOPY', 'candidatura':'carlos mateo balmelli\\n'}\n",
    "unique_users_mb_2 = db.get_unique_users(**additional_args)\n",
    "print('{0} usuarios tuitearon sobre Carlos Mateo Balmelli'.format(len(unique_users_mb_1)+len(unique_users_mb_2)))"
   ]
  },
  {
   "cell_type": "markdown",
   "metadata": {},
   "source": [
    "#### Top-10 más activos y sus actividades"
   ]
  },
  {
   "cell_type": "code",
   "execution_count": 10,
   "metadata": {
    "scrolled": true
   },
   "outputs": [
    {
     "data": {
      "text/html": [
       "<div>\n",
       "<style scoped>\n",
       "    .dataframe tbody tr th:only-of-type {\n",
       "        vertical-align: middle;\n",
       "    }\n",
       "\n",
       "    .dataframe tbody tr th {\n",
       "        vertical-align: top;\n",
       "    }\n",
       "\n",
       "    .dataframe thead th {\n",
       "        text-align: right;\n",
       "    }\n",
       "</style>\n",
       "<table border=\"1\" class=\"dataframe\">\n",
       "  <thead>\n",
       "    <tr style=\"text-align: right;\">\n",
       "      <th></th>\n",
       "      <th>1.Usuario</th>\n",
       "      <th>2.Tweets</th>\n",
       "      <th>3.Originales</th>\n",
       "      <th>4.Retweets</th>\n",
       "      <th>5.Quotes</th>\n",
       "      <th>6.Replies</th>\n",
       "      <th>7.Followers</th>\n",
       "      <th>8.Friends</th>\n",
       "    </tr>\n",
       "  </thead>\n",
       "  <tbody>\n",
       "    <tr>\n",
       "      <th>0</th>\n",
       "      <td>FSilvaFacetti</td>\n",
       "      <td>91</td>\n",
       "      <td>23</td>\n",
       "      <td>67</td>\n",
       "      <td>0</td>\n",
       "      <td>1</td>\n",
       "      <td>3501</td>\n",
       "      <td>752</td>\n",
       "    </tr>\n",
       "    <tr>\n",
       "      <th>1</th>\n",
       "      <td>equipojovenpy</td>\n",
       "      <td>64</td>\n",
       "      <td>3</td>\n",
       "      <td>49</td>\n",
       "      <td>0</td>\n",
       "      <td>12</td>\n",
       "      <td>1454</td>\n",
       "      <td>488</td>\n",
       "    </tr>\n",
       "    <tr>\n",
       "      <th>2</th>\n",
       "      <td>AlexOlmedoA</td>\n",
       "      <td>33</td>\n",
       "      <td>0</td>\n",
       "      <td>31</td>\n",
       "      <td>0</td>\n",
       "      <td>2</td>\n",
       "      <td>750</td>\n",
       "      <td>1362</td>\n",
       "    </tr>\n",
       "    <tr>\n",
       "      <th>3</th>\n",
       "      <td>luma_careaga</td>\n",
       "      <td>25</td>\n",
       "      <td>0</td>\n",
       "      <td>24</td>\n",
       "      <td>0</td>\n",
       "      <td>1</td>\n",
       "      <td>767</td>\n",
       "      <td>941</td>\n",
       "    </tr>\n",
       "    <tr>\n",
       "      <th>4</th>\n",
       "      <td>Radio970AM</td>\n",
       "      <td>23</td>\n",
       "      <td>3</td>\n",
       "      <td>0</td>\n",
       "      <td>0</td>\n",
       "      <td>20</td>\n",
       "      <td>213025</td>\n",
       "      <td>877</td>\n",
       "    </tr>\n",
       "    <tr>\n",
       "      <th>5</th>\n",
       "      <td>lanzoni21</td>\n",
       "      <td>16</td>\n",
       "      <td>0</td>\n",
       "      <td>16</td>\n",
       "      <td>0</td>\n",
       "      <td>0</td>\n",
       "      <td>6</td>\n",
       "      <td>76</td>\n",
       "    </tr>\n",
       "    <tr>\n",
       "      <th>6</th>\n",
       "      <td>1000_am</td>\n",
       "      <td>15</td>\n",
       "      <td>7</td>\n",
       "      <td>0</td>\n",
       "      <td>0</td>\n",
       "      <td>8</td>\n",
       "      <td>93224</td>\n",
       "      <td>368</td>\n",
       "    </tr>\n",
       "    <tr>\n",
       "      <th>7</th>\n",
       "      <td>animelot</td>\n",
       "      <td>13</td>\n",
       "      <td>0</td>\n",
       "      <td>6</td>\n",
       "      <td>0</td>\n",
       "      <td>7</td>\n",
       "      <td>153</td>\n",
       "      <td>383</td>\n",
       "    </tr>\n",
       "    <tr>\n",
       "      <th>8</th>\n",
       "      <td>mcsantiliv</td>\n",
       "      <td>12</td>\n",
       "      <td>0</td>\n",
       "      <td>12</td>\n",
       "      <td>0</td>\n",
       "      <td>0</td>\n",
       "      <td>351</td>\n",
       "      <td>312</td>\n",
       "    </tr>\n",
       "    <tr>\n",
       "      <th>9</th>\n",
       "      <td>780AM</td>\n",
       "      <td>11</td>\n",
       "      <td>10</td>\n",
       "      <td>1</td>\n",
       "      <td>0</td>\n",
       "      <td>0</td>\n",
       "      <td>291746</td>\n",
       "      <td>1267</td>\n",
       "    </tr>\n",
       "  </tbody>\n",
       "</table>\n",
       "</div>"
      ],
      "text/plain": [
       "       1.Usuario  2.Tweets  3.Originales  4.Retweets  5.Quotes  6.Replies  \\\n",
       "0  FSilvaFacetti        91            23          67         0          1   \n",
       "1  equipojovenpy        64             3          49         0         12   \n",
       "2    AlexOlmedoA        33             0          31         0          2   \n",
       "3   luma_careaga        25             0          24         0          1   \n",
       "4     Radio970AM        23             3           0         0         20   \n",
       "5      lanzoni21        16             0          16         0          0   \n",
       "6        1000_am        15             7           0         0          8   \n",
       "7       animelot        13             0           6         0          7   \n",
       "8     mcsantiliv        12             0          12         0          0   \n",
       "9          780AM        11            10           1         0          0   \n",
       "\n",
       "   7.Followers  8.Friends  \n",
       "0         3501        752  \n",
       "1         1454        488  \n",
       "2          750       1362  \n",
       "3          767        941  \n",
       "4       213025        877  \n",
       "5            6         76  \n",
       "6        93224        368  \n",
       "7          153        383  \n",
       "8          351        312  \n",
       "9       291746       1267  "
      ]
     },
     "execution_count": 10,
     "metadata": {},
     "output_type": "execute_result"
    }
   ],
   "source": [
    "top10_tuiteros_mb = []\n",
    "unique_users_mb = unique_users_mb_1\n",
    "for i in range(10):\n",
    "    tuitero_mb = {'1.Usuario': unique_users_mb[i]['screen_name'], \n",
    "                  '2.Tweets': unique_users_mb[i]['tweets_count'],\n",
    "                  '3.Originales': unique_users_mb[i]['original_count'],\n",
    "                  '4.Retweets': unique_users_mb[i]['retweets_count'],\n",
    "                  '5.Quotes': unique_users_mb[i]['quotes_count'],\n",
    "                  '6.Replies': unique_users_mb[i]['replies_count'],\n",
    "                  '7.Followers': unique_users_mb[i]['followers'],\n",
    "                  '8.Friends': unique_users_mb[i]['friends']}\n",
    "    top10_tuiteros_mb.append(tuitero_mb)\n",
    "pd.DataFrame(top10_tuiteros_mb)"
   ]
  },
  {
   "cell_type": "code",
   "execution_count": 12,
   "metadata": {
    "scrolled": true
   },
   "outputs": [
    {
     "data": {
      "text/plain": [
       "<matplotlib.axes._subplots.AxesSubplot at 0x7efddf570fd0>"
      ]
     },
     "execution_count": 12,
     "metadata": {},
     "output_type": "execute_result"
    },
    {
     "data": {
      "image/png": "[encoded data removed]",
      "text/plain": [
       "<matplotlib.figure.Figure at 0x7efddf13ab70>"
      ]
     },
     "metadata": {},
     "output_type": "display_data"
    }
   ],
   "source": [
    "tuiteros_por_candidatura_plra = pd.DataFrame({\n",
    "    'Candidatura': ['Efrain Alegre', 'Carlos Mateo Balmelli'],\n",
    "    'Tuiteros': [len(unique_users_ea), len(unique_users_mb)]\n",
    "}, index=['ea', 'mb'])\n",
    "sns.barplot(x='Candidatura', y='Tuiteros', data=tuiteros_por_candidatura_plra, palette=\"Blues_d\")"
   ]
  },
  {
   "cell_type": "code",
   "execution_count": 25,
   "metadata": {
    "scrolled": true
   },
   "outputs": [
    {
     "data": {
      "text/plain": [
       "<matplotlib.axes._subplots.AxesSubplot at 0x7efdc77ce780>"
      ]
     },
     "execution_count": 25,
     "metadata": {},
     "output_type": "execute_result"
    },
    {
     "data": {
      "image/png": "[encoded data removed]",
      "text/plain": [
       "<matplotlib.figure.Figure at 0x7efdc775f630>"
      ]
     },
     "metadata": {},
     "output_type": "display_data"
    }
   ],
   "source": [
    "tuiteros_por_candidatura = pd.DataFrame({\n",
    "    'Candidatura': ['Santiago Peña', 'Mario Abdo', 'Efrain Alegre', 'Carlos Mateo Balmelli'],\n",
    "    'Tuiteros': [len(unique_users_sp), len(unique_users_ma),len(unique_users_ea), len(unique_users_mb)]\n",
    "}, index=['sp','ma','ea', 'mb'])\n",
    "sns.barplot(x='Candidatura', y='Tuiteros', data=tuiteros_por_candidatura, palette=\"Greens_d\")"
   ]
  }
 ],
 "metadata": {
  "kernelspec": {
   "display_name": "Python 3",
   "language": "python",
   "name": "python3"
  },
  "language_info": {
   "codemirror_mode": {
    "name": "ipython",
    "version": 3
   },
   "file_extension": ".py",
   "mimetype": "text/x-python",
   "name": "python",
   "nbconvert_exporter": "python",
   "pygments_lexer": "ipython3",
   "version": "3.5.2"
  }
 },
 "nbformat": 4,
 "nbformat_minor": 2
}
